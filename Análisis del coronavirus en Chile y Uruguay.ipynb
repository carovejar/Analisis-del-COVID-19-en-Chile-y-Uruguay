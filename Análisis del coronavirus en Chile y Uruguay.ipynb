{
 "cells": [
  {
   "cell_type": "markdown",
   "metadata": {},
   "source": [
    "# ANÁLISIS DEL CORONAVIRUS EN CHILE Y URUGUAY"
   ]
  },
  {
   "cell_type": "markdown",
   "metadata": {},
   "source": [
    "<hr>"
   ]
  },
  {
   "cell_type": "markdown",
   "metadata": {},
   "source": [
    "<div align =\"right\"> <i>Carolina Véjar</i></div>"
   ]
  },
  {
   "cell_type": "markdown",
   "metadata": {},
   "source": [
    "<h1>Tabla de contenidos<span class=\"tocSkip\"></span></h1>\n",
    "<div class=\"toc\"><ul class=\"toc-item\"><li><span><a href=\"#1.-Datos-del-coronavirus-en-Chile\" data-toc-modified-id=\"1.-Datos-del-coronavirus-en-Chile-1\">1. Datos del coronavirus en Chile</a></span><ul class=\"toc-item\"><li><span><a href=\"#1.1.-Datos-generales-a-nivel-nacional\" data-toc-modified-id=\"1.1.-Datos-generales-a-nivel-nacional-1.1\">1.1. Datos generales a nivel nacional</a></span></li><li><span><a href=\"#1.2.-Cantidad-de-test-realizados-y-positividad\" data-toc-modified-id=\"1.2.-Cantidad-de-test-realizados-y-positividad-1.2\">1.2. Cantidad de test realizados y positividad</a></span></li><li><span><a href=\"#1.3.-Datos-UTI/UCI-a-nivel-nacional\" data-toc-modified-id=\"1.3.-Datos-UTI/UCI-a-nivel-nacional-1.3\">1.3. Datos UTI/UCI a nivel nacional</a></span></li><li><span><a href=\"#1.4.-Datos-generales-por-región\" data-toc-modified-id=\"1.4.-Datos-generales-por-región-1.4\">1.4. Datos generales por región</a></span></li><li><span><a href=\"#1.5.-Vacunaciones-por-edad\" data-toc-modified-id=\"1.5.-Vacunaciones-por-edad-1.5\">1.5. Vacunaciones por edad</a></span><ul class=\"toc-item\"><li><span><a href=\"#1.5.1.-Vacunaciones-diarias-con-vacunas-de-dosis-única-por-edad\" data-toc-modified-id=\"1.5.1.-Vacunaciones-diarias-con-vacunas-de-dosis-única-por-edad-1.5.1\">1.5.1. Vacunaciones diarias con vacunas de dosis única por edad</a></span></li><li><span><a href=\"#1.5.2.-Vacunaciones-diarias-de-primeras-dosis-por-edad\" data-toc-modified-id=\"1.5.2.-Vacunaciones-diarias-de-primeras-dosis-por-edad-1.5.2\">1.5.2. Vacunaciones diarias de primeras dosis por edad</a></span></li><li><span><a href=\"#1.5.3.-Vacunaciones-diarias-de-segundas-dosis-por-edad\" data-toc-modified-id=\"1.5.3.-Vacunaciones-diarias-de-segundas-dosis-por-edad-1.5.3\">1.5.3. Vacunaciones diarias de segundas dosis por edad</a></span></li></ul></li><li><span><a href=\"#1.6.-Vacunaciones-por-vacuna-aplicada\" data-toc-modified-id=\"1.6.-Vacunaciones-por-vacuna-aplicada-1.6\">1.6. Vacunaciones por vacuna aplicada</a></span><ul class=\"toc-item\"><li><span><a href=\"#1.6.1.-Vacunas-de-una-sola-dosis\" data-toc-modified-id=\"1.6.1.-Vacunas-de-una-sola-dosis-1.6.1\">1.6.1. Vacunas de una sola dosis</a></span></li><li><span><a href=\"#1.7.2.-Primeras-dosis-de-vacunas\" data-toc-modified-id=\"1.6.2.-Primeras-dosis-de-vacunas-1.6.2\">1.6.2. Primeras dosis de vacunas</a></span></li><li><span><a href=\"#1.6.3.-Segundas-dosis-de-vacunas\" data-toc-modified-id=\"1.6.3.-Segundas-dosis-de-vacunas-1.6.3\">1.6.3. Segundas dosis de vacunas</a></span></li><li><span><a href=\"#1.6.4.-Vacunaciones-de-refuerzo\" data-toc-modified-id=\"1.6.4.-Vacunaciones-de-refuerzo-1.6.4\">1.6.4. Vacunaciones de refuerzo</a></span></li></ul></li></ul></li><br><li><span><a href=\"#2.-Datos-del-coronavirus-en-Uruguay\" data-toc-modified-id=\"2.-Datos-del-coronavirus-en-Uruguay-2\">2. Datos del coronavirus en Uruguay</a></span><ul class=\"toc-item\"><li><span><a href=\"#2.1.-Datos-generales-a-nivel-nacional\" data-toc-modified-id=\"2.1.-Datos-generales-a-nivel-nacional-2.1\">2.1. Datos generales a nivel nacional</a></span></li><li><span><a href=\"#2.2.-Datos-generales-por-departamento\" data-toc-modified-id=\"2.2.-Datos-generales-por-departamento-2.2\">2.2. Datos generales por departamento</a></span></li><li><span><a href=\"#2.3.-Datos-vacunación-a-nivel-nacional\" data-toc-modified-id=\"2.3.-Datos-vacunación-a-nivel-nacional-2.3\">2.3. Datos vacunación a nivel nacional</a></span></li></ul></li><br><li><span><a href=\"#3.-Índice-de-rigurosidad-para-Chile-y-Uruguay\" data-toc-modified-id=\"3.-Índice-de-rigurosidad-para-Chile-y-Uruguay-3\">3. Índice de rigurosidad para Chile y Uruguay</a></span></li><br><li><span><a href=\"#4.-Cantidad-de-habitantes\" data-toc-modified-id=\"4.-Cantidad-de-habitantes-4\">4. Cantidad de habitantes</a></span><ul class=\"toc-item\"><li><span><a href=\"#4.1.-Cantidad-de-habitantes-en-Chile\" data-toc-modified-id=\"4.1.-Cantidad-de-habitantes-en-Chile-4.1\">4.1. Cantidad de habitantes en Chile</a></span><ul class=\"toc-item\"><li><span><a href=\"#4.1.1.-Cantidad-de-habitantes-por-región\" data-toc-modified-id=\"4.1.1.-Cantidad-de-habitantes-por-región-4.1.1\">4.1.1. Cantidad de habitantes por región</a></span></li><li><span><a href=\"#4.1.2.-Cantidad-de-habitantes-por-rango-etario\" data-toc-modified-id=\"4.1.2.-Cantidad-de-habitantes-por-rango-etario-4.1.2\">4.1.2. Cantidad de habitantes por rango etario</a></span></li><li><span><a href=\"#4.1.3.-Cantidad-total-de-habitantes\" data-toc-modified-id=\"4.1.3.-Cantidad-total-de-habitantes-4.1.3\">4.1.3. Cantidad total de habitantes</a></span></li></ul></li><li><span><a href=\"#4.2-Cantidad-de-habitantes-en-Uruguay\" data-toc-modified-id=\"4.2-Cantidad-de-habitantes-en-Uruguay-4.2\">4.2 Cantidad de habitantes en Uruguay</a></span><ul class=\"toc-item\"><li><span><a href=\"#4.2.1.-Cantidad-de-habitantes-por-departamento\" data-toc-modified-id=\"4.2.1.-Cantidad-de-habitantes-por-departamento-4.2.1\">4.2.1. Cantidad de habitantes por departamento</a></span></li><li><span><a href=\"#4.2.2.-Cantidad-de-habitantes-por-rango-etario\" data-toc-modified-id=\"4.2.2.-Cantidad-de-habitantes-por-rango-etario-4.2.2\">4.2.2. Cantidad de habitantes por rango etario</a></span></li><li><span><a href=\"#4.2.3.-Cantidad-total-de-habitantes\" data-toc-modified-id=\"4.2.3.-Cantidad-total-de-habitantes-4.2.3\">4.2.3. Cantidad total de habitantes</a></span></li></ul></li></ul></li><br><li><span><a href=\"#5.-Datos-globales-por-millón-de-habitantes\" data-toc-modified-id=\"5.-Datos-globales-por-millón-de-habitantes-5\">5. Datos globales por millón de habitantes</a></span><ul class=\"toc-item\"><li><span><a href=\"#5.1.-Datos-globales-por-millón-de-habitantes-en-Chile\" data-toc-modified-id=\"5.1.-Datos-globales-por-millón-de-habitantes-en-Chile-5.1\">5.1. Datos globales por millón de habitantes en Chile</a></span></li><li><span><a href=\"#5.2.-Datos-globales-por-millón-de-habitantes-en-Uruguay\" data-toc-modified-id=\"5.2.-Datos-globales-por-millón-de-habitantes-en-Uruguay-5.2\">5.2. Datos globales por millón de habitantes en Uruguay</a></span></li><li><span><a href=\"#5.3.-Datos-globales-por-millón-de-habitantes-consolidado\" data-toc-modified-id=\"5.3.-Datos-globales-por-millón-de-habitantes-consolidado-5.3\">5.3. Datos globales por millón de habitantes consolidado</a></span></li></ul></li><br><li><span><a href=\"#6.-Porcentaje-de-fallecidos-con-respecto-al-total-de-contagiados\" data-toc-modified-id=\"6.-Porcentaje-de-fallecidos-con-respecto-al-total-de-contagiados-6\">6. Porcentaje de fallecidos con respecto al total de contagiados</a></span><ul class=\"toc-item\"><li><span><a href=\"#6.1.-Porcentaje-de-fallecidos-con-respecto-al-total-de-contagiados-en-Chile\" data-toc-modified-id=\"6.1.-Porcentaje-de-fallecidos-con-respecto-al-total-de-contagiados-en-Chile-6.1\">6.1. Porcentaje de fallecidos con respecto al total de contagiados en Chile</a></span></li><li><span><a href=\"#6.2.-Porcentaje-de-fallecidos-con-respecto-al-total-de-contagiados-en-Uruguay\" data-toc-modified-id=\"6.2.-Porcentaje-de-fallecidos-con-respecto-al-total-de-contagiados-en-Uruguay-6.2\">6.2. Porcentaje de fallecidos con respecto al total de contagiados en Uruguay</a></span></li><li><span><a href=\"#6.3-Porcentaje-de-fallecidos-con-respecto-al-total-de-contagiados-consolidado\" data-toc-modified-id=\"6.3-Porcentaje-de-fallecidos-con-respecto-al-total-de-contagiados-consolidado-6.3\">6.3 Porcentaje de fallecidos con respecto al total de contagiados consolidado</a></span></li></ul></li><br><li><span><a href=\"#7.-Tests-realizados-y-positividad\" data-toc-modified-id=\"7.-Tests-realizados-y-positividad-7\">7. Tests realizados y positividad</a></span><ul class=\"toc-item\"><li><span><a href=\"#7.1.-Test-realizados-y-positividad-en-Chile\" data-toc-modified-id=\"7.1.-Test-realizados-y-positividad-en-Chile-7.1\">7.1. Test realizados y positividad en Chile</a></span></li><li><span><a href=\"#7.2.-Test-realizados-y-positividad-en-Uruguay\" data-toc-modified-id=\"7.2.-Test-realizados-y-positividad-en-Uruguay-7.2\">7.2. Test realizados y positividad en Uruguay</a></span></li><li><span><a href=\"#7.3.-Test-realizados-y-positividad-consolidado\" data-toc-modified-id=\"7.3.-Test-realizados-y-positividad-consolidado-7.3\">7.3. Test realizados y positividad consolidado</a></span></li></ul></li><br><li><span><a href=\"#8.-Cantidad-de-pacientes-en-UTI-/-CI-y-UCI/CTI\" data-toc-modified-id=\"8.-Cantidad-de-pacientes-en-UTI-/-CI-y-UCI/CTI-8\">8. Cantidad de pacientes en UTI / CI y UCI/CTI</a></span><ul class=\"toc-item\"><li><span><a href=\"#8.1.-Cantidad-de-pacientes-en-UTI-/UCI-en-Chile\" data-toc-modified-id=\"8.1.-Cantidad-de-pacientes-en-UTI-/UCI-en-Chile-8.1\">8.1. Cantidad de pacientes en UTI /UCI en Chile</a></span></li><li><span><a href=\"#8.2.-Cantidad-de-pacientes-en-CI-/-CTI-en-Uruguay\" data-toc-modified-id=\"8.2.-Cantidad-de-pacientes-en-CI-/-CTI-en-Uruguay-8.2\">8.2. Cantidad de pacientes en CI / CTI en Uruguay</a></span></li><li><span><a href=\"#8.3.-Cantidad-de-pacientes-en-UTI/CI-y--UCI/-CTI-consolidado\" data-toc-modified-id=\"8.3.-Cantidad-de-pacientes-en-UTI/CI-y--UCI/-CTI-consolidado-8.3\">8.3. Cantidad de pacientes en UTI/CI y  UCI/ CTI consolidado</a></span></li></ul></li><br><li><span><a href=\"#9.-Niveles-de-riesgo-a-nivel-nacional\" data-toc-modified-id=\"9.-Niveles-de-riesgo-a-nivel-nacional-9\">9. Niveles de riesgo a nivel nacional</a></span><ul class=\"toc-item\"><li><span><a href=\"#9.1.-Niveles-de-riesgo-a-nivel-nacional-en-Chile\" data-toc-modified-id=\"9.1.-Niveles-de-riesgo-a-nivel-nacional-en-Chile-9.1\">9.1. Niveles de riesgo a nivel nacional en Chile</a></span></li><li><span><a href=\"#9.2.-Niveles-de-riesgo-a-nivel-nacional-en-Uruguay\" data-toc-modified-id=\"9.2.-Niveles-de-riesgo-a-nivel-nacional-en-Uruguay-9.2\">9.2. Niveles de riesgo a nivel nacional en Uruguay</a></span></li><li><span><a href=\"#9.3.-Niveles-de-riesgo-a-nivel-nacional-consolidado\" data-toc-modified-id=\"9.3.-Niveles-de-riesgo-a-nivel-nacional-consolidado-9.3\">9.3. Niveles de riesgo a nivel nacional consolidado</a></span></li></ul></li><br><li><span><a href=\"#10.-Casos-activos-y-nivel-de-riesgo-a-nivel-regional/departamental\" data-toc-modified-id=\"10.-Casos-activos-y-nivel-de-riesgo-a-nivel-regional/departamental-10\">10. Casos activos y nivel de riesgo a nivel regional/departamental</a></span><ul class=\"toc-item\"><li><span><a href=\"#10.1.-Casos-activos-y-nivel-de-riesgo-a-nivel-regional-en-Chile\" data-toc-modified-id=\"10.1.-Casos-activos-y-nivel-de-riesgo-a-nivel-regional-en-Chile-10.1\">10.1. Casos activos y nivel de riesgo a nivel regional en Chile</a></span></li><li><span><a href=\"#10.2.-Casos-activos-y-nivel-de-riesgo-a-nivel-departamental-en-Uruguay\" data-toc-modified-id=\"10.2.-Casos-activos-y-nivel-de-riesgo-a-nivel-departamental-en-Uruguay-10.2\">10.2. Casos activos y nivel de riesgo a nivel departamental en Uruguay</a></span></li></ul></li><br><li><span><a href=\"#11.-Total-vacunaciones\" data-toc-modified-id=\"11.-Total-vacunaciones-11\">11. Total vacunaciones</a></span><ul class=\"toc-item\"><li><span><a href=\"#11.1.-Total-vacunaciones-en-Chile\" data-toc-modified-id=\"11.1.-Total-vacunaciones-en-Chile-11.1\">11.1. Total vacunaciones en Chile</a></span><ul class=\"toc-item\"><li><span><a href=\"#11.1.1.--Total-de-vacunas-colocadas-diariamente\" data-toc-modified-id=\"11.1.1.--Total-de-vacunas-colocadas-diariamente-11.1.1\">11.1.1.  Total de vacunas colocadas diariamente</a></span></li><li><span><a href=\"#11.1.2.-Acumulado-de-vacunas-colocadas\" data-toc-modified-id=\"11.1.2.-Acumulado-de-vacunas-colocadas-11.1.2\">11.1.2. Acumulado de vacunas colocadas</a></span></li><li><span><a href=\"#11.1.3.-Porcentaje-de-la-población-vacunada\" data-toc-modified-id=\"11.1.3.-Porcentaje-de-la-población-vacunada-11.1.3\">11.1.3. Porcentaje de la población vacunada</a></span></li></ul></li><li><span><a href=\"#11.2.-Total-vacunaciones-en-Uruguay\" data-toc-modified-id=\"11.2.-Total-vacunaciones-en-Uruguay-11.2\">11.2. Total vacunaciones en Uruguay</a></span><ul class=\"toc-item\"><li><span><a href=\"#11.2.1.-Acumulado-de-vacunas-colocadas\" data-toc-modified-id=\"11.2.1.-Acumulado-de-vacunas-colocadas-11.2.1\">11.2.1. Acumulado de vacunas colocadas</a></span></li><li><span><a href=\"#11.2.2.-Total-de-vacunas-colocadas-diariamente\" data-toc-modified-id=\"11.2.2.-Total-de-vacunas-colocadas-diariamente-11.2.2\">11.2.2. Total de vacunas colocadas diariamente</a></span></li><li><span><a href=\"#11.2.3.-Porcentaje-de-la-población-vacunada\" data-toc-modified-id=\"11.2.3.-Porcentaje-de-la-población-vacunada-11.2.3\">11.2.3. Porcentaje de la población vacunada</a></span></li></ul></li><li><span><a href=\"#11.3.--Consolidado-de-las-vacunas-colocadas\" data-toc-modified-id=\"11.3.--Consolidado-de-las-vacunas-colocadas-11.3\">11.3.  Consolidado de las vacunas colocadas</a></span><ul class=\"toc-item\"><li><span><a href=\"#11.3.1.--Total-de-vacunas-colocadas-diariamente-consolidado\" data-toc-modified-id=\"11.3.1.--Total-de-vacunas-colocadas-diariamente-consolidado-11.3.1\">11.3.1.  Total de vacunas colocadas diariamente consolidado</a></span></li><li><span><a href=\"#11.3.2.--Acumulado-de-las-vacunas-colocadas-consolidado\" data-toc-modified-id=\"11.3.2.--Acumulado-de-las-vacunas-colocadas-consolidado-11.3.2\">11.3.2.  Acumulado de las vacunas colocadas consolidado</a></span></li><li><span><a href=\"#11.3.3.--Porcentaje-de-la-población-vacunada-consolidado\" data-toc-modified-id=\"11.3.3.--Porcentaje-de-la-población-vacunada-consolidado-11.3.3\">11.3.3.  Porcentaje de la población vacunada consolidado</a></span></li></ul></li></ul></li><br><li><span><a href=\"#12.-Vacunaciones-por-rango-etario\" data-toc-modified-id=\"12.-Vacunaciones-por-rango-etario-12\">12. Vacunaciones por rango etario</a></span><ul class=\"toc-item\"><li><span><a href=\"#12.1.-Vacunaciones-por-rango-etario-en-Chile\" data-toc-modified-id=\"12.1.-Vacunaciones-por-rango-etario-en-Chile-12.1\">12.1. Vacunaciones por rango etario en Chile</a></span><ul class=\"toc-item\"><li><span><a href=\"#12.1.1.-Vacunaciones-diarias-de-dosis-única-por-rango-etario\" data-toc-modified-id=\"12.1.1.-Vacunaciones-diarias-de-dosis-única-por-rango-etario-12.1.1\">12.1.1. Vacunaciones diarias de dosis única por rango etario</a></span></li><li><span><a href=\"#12.1.2.-Primeras-dosis-diarias-por-rango-etario\" data-toc-modified-id=\"12.1.2.-Primeras-dosis-diarias-por-rango-etario-12.1.2\">12.1.2. Primeras dosis diarias por rango etario</a></span></li><li><span><a href=\"#12.1.3.-Segundas-dosis-diarias-por-rango-etario\" data-toc-modified-id=\"12.1.3.-Segundas-dosis-diarias-por-rango-etario-12.1.3\">12.1.3. Segundas dosis diarias por rango etario</a></span></li><li><span><a href=\"#12.1.4.-Vacunaciones-completas-diarias-por-rango-etario\" data-toc-modified-id=\"12.1.4.-Vacunaciones-completas-diarias-por-rango-etario-12.1.4\">12.1.4. Vacunaciones completas diarias por rango etario</a></span></li><li><span><a href=\"#12.1.5.-Consolidado-de-vacunaciones-diarias-por-rango-etario\" data-toc-modified-id=\"12.1.5.-Consolidado-de-vacunaciones-diarias-por-rango-etario-12.1.5\">12.1.5. Consolidado de vacunaciones diarias por rango etario</a></span></li><li><span><a href=\"#12.1.6.-Consolidado-del-acumulado-de-vacunaciones-por-rango-etario\" data-toc-modified-id=\"12.1.6.-Consolidado-del-acumulado-de-vacunaciones-por-rango-etario-12.1.6\">12.1.6. Consolidado del acumulado de vacunaciones por rango etario</a></span></li><li><span><a href=\"#12.1.7.-Cobertura-de-la-población-por-rango-etario\" data-toc-modified-id=\"12.1.7.-Cobertura-de-la-población-por-rango-etario-12.1.7\">12.1.7. Cobertura de la población por rango etario</a></span></li></ul></li><li><span><a href=\"#12.2.-Vacunaciones-por-rango-etario-en-Uruguay\" data-toc-modified-id=\"12.2.-Vacunaciones-por-rango-etario-en-Uruguay-12.2\">12.2. Vacunaciones por rango etario en Uruguay</a></span><ul class=\"toc-item\"><li><span><a href=\"#12.2.1.-Total-vacunaciones-realizadas-al-9-de-julio-por-rango-etario\" data-toc-modified-id=\"12.2.1.-Total-vacunaciones-realizadas-al-9-de-julio-por-rango-etario-12.2.1\">12.2.1. Total vacunaciones realizadas al 9 de julio por rango etario</a></span></li><li><span><a href=\"#12.2.2.-Cobertura-de-la-población-al-9-de-julio-por-rango-etario\" data-toc-modified-id=\"12.2.2.-Cobertura-de-la-población-al-9-de-julio-por-rango-etario-12.2.2\">12.2.2. Cobertura de la población al 9 de julio por rango etario</a></span></li></ul></li></ul></li><br><li><span><a href=\"#13.-Porcentaje-de-vacunaciones-por-fabricante\" data-toc-modified-id=\"13.-Porcentaje-de-vacunaciones-por-fabricante-13\">13. Porcentaje de vacunaciones por fabricante</a></span><ul class=\"toc-item\"><li><span><a href=\"#13.1.-Porcentaje-de-vacunaciones-por-fabricante-en-Chile\" data-toc-modified-id=\"13.1.-Porcentaje-de-vacunaciones-por-fabricante-en-Chile-13.1\">13.1. Porcentaje de vacunaciones por fabricante en Chile</a></span><ul class=\"toc-item\"><li><span><a href=\"#13.1.1.-Vacunaciones-completas\" data-toc-modified-id=\"13.1.1.-Vacunaciones-completas-13.1.1\">13.1.1. Vacunaciones completas</a></span></li><li><span><a href=\"#13.1.2.-Vacunaciones-de-refuerzo\" data-toc-modified-id=\"13.1.2.-Vacunaciones-de-refuerzo-13.1.2\">13.1.2. Vacunaciones de refuerzo</a></span></li></ul></li><li><span><a href=\"#13.2.-Porcentaje-de-vacunaciones-por-fabricante-en-Uruguay\" data-toc-modified-id=\"13.2.-Porcentaje-de-vacunaciones-por-fabricante-en-Uruguay-13.2\">13.2. Porcentaje de vacunaciones por fabricante en Uruguay</a></span><ul class=\"toc-item\"><li><span><a href=\"#13.2.1.-Vacunaciones-completas\" data-toc-modified-id=\"13.2.1.-Vacunaciones-completas-13.2.1\">13.2.1. Vacunaciones completas</a></span></li><li><span><a href=\"#13.2.2.-Vacunaciones-de-refuerzo\" data-toc-modified-id=\"13.2.2.-Vacunaciones-de-refuerzo-13.2.2\">13.2.2. Vacunaciones de refuerzo</a></span></li></ul></li><li><span><a href=\"#13.3.-Porcentaje-de-vacunaciones-por-fabricante-consolidado\" data-toc-modified-id=\"13.3.-Porcentaje-de-vacunaciones-por-fabricante-consolidado-13.3\">13.3. Porcentaje de vacunaciones por fabricante consolidado</a></span></li><br><li><span><a href=\"#Exportación-de-los-dataframes-a-excel\" data-toc-modified-id=\"Exportación-de-los-dataframes-a-excel-13.4\">Exportación de los dataframes a excel</a></span></li></ul></li></ul></div>"
   ]
  },
  {
   "cell_type": "code",
   "execution_count": 1,
   "metadata": {},
   "outputs": [
    {
     "name": "stdout",
     "output_type": "stream",
     "text": [
      "Fecha de la última actualización: 01/11/2021\n"
     ]
    }
   ],
   "source": [
    "import time\n",
    "print('Fecha de la última actualización: %s' %time.strftime('%d/%m/%Y'))"
   ]
  },
  {
   "cell_type": "code",
   "execution_count": 2,
   "metadata": {},
   "outputs": [],
   "source": [
    "import pandas as pd\n",
    "import requests"
   ]
  },
  {
   "cell_type": "code",
   "execution_count": 3,
   "metadata": {},
   "outputs": [],
   "source": [
    "# Se define una función para descargar los archivos que se utilizan en este análisis y se actualizan diariamente\n",
    "\n",
    "def url_response(url):\n",
    "    path, url = url\n",
    "    r = requests.get(url, stream = True)\n",
    "\n",
    "    with open(path, 'wb') as f:\n",
    "\n",
    "        for ch in r:\n",
    "            f.write(ch)"
   ]
  },
  {
   "cell_type": "code",
   "execution_count": 4,
   "metadata": {},
   "outputs": [],
   "source": [
    "# urls es un listado de tuplas que contienen la dirección local donde serán almacenados los archivos y la dirección url desde \n",
    "# la cual se decarga el archivo.\n",
    "\n",
    "urls = [(r\"Datos Covid Chile\\CamasHospital_Diario_T.csv\",\"https://raw.githubusercontent.com/MinCiencia/Datos-COVID19/master/output/producto24/CamasHospital_Diario_T.csv\"),\n",
    "       (r\"Datos Covid Chile\\CasosNuevosCumulativo_T.csv\",\"https://raw.githubusercontent.com/MinCiencia/Datos-COVID19/master/output/producto13/CasosNuevosCumulativo_T.csv\"),\n",
    "       (r\"Datos Covid Chile\\CasosTotalesCumulativo_T.csv\",\"https://raw.githubusercontent.com/MinCiencia/Datos-COVID19/master/output/producto3/CasosTotalesCumulativo_T.csv\"),\n",
    "       (r\"Datos Covid Chile\\Positividad_Diaria_Media_T.csv\",\"https://raw.githubusercontent.com/MinCiencia/Datos-COVID19/master/output/producto49/Positividad_Diaria_Media_T.csv\"),\n",
    "       (r\"Datos Covid Chile\\TotalesNacionales_T.csv\",\"https://raw.githubusercontent.com/MinCiencia/Datos-COVID19/master/output/producto5/TotalesNacionales_T.csv\"),\n",
    "       (r\"Datos Covid Chile\\TotalesPorRegion_std.csv\",\"https://raw.githubusercontent.com/MinCiencia/Datos-COVID19/master/output/producto3/TotalesPorRegion_std.csv\"),\n",
    "       (r\"Datos Covid Chile\\vacunacion_fabricantes_1eraDosis_T.csv\",\"https://raw.githubusercontent.com/MinCiencia/Datos-COVID19/master/output/producto83/vacunacion_fabricantes_1eraDosis_T.csv\"),\n",
    "       (r\"Datos Covid Chile\\vacunacion_fabricantes_2daDosis_T.csv\",\"https://raw.githubusercontent.com/MinCiencia/Datos-COVID19/master/output/producto83/vacunacion_fabricantes_2daDosis_T.csv\"),\n",
    "       (r\"Datos Covid Chile\\vacunacion_fabricantes_Refuerzo_T.csv\",\"https://raw.githubusercontent.com/MinCiencia/Datos-COVID19/master/output/producto83/vacunacion_fabricantes_Refuerzo_T.csv\"),\n",
    "       (r\"Datos Covid Chile\\vacunacion_fabricantes_UnicaDosis_T.csv\",\"https://raw.githubusercontent.com/MinCiencia/Datos-COVID19/master/output/producto83/vacunacion_fabricantes_UnicaDosis_T.csv\"),\n",
    "       (r\"Datos Covid Chile\\vacunados_edad_fecha_1eraDosis_T.csv\",\"https://raw.githubusercontent.com/MinCiencia/Datos-COVID19/master/output/producto78/vacunados_edad_fecha_1eraDosis_T.csv\"),\n",
    "       (r\"Datos Covid Chile\\vacunados_edad_fecha_2daDosis_T.csv\",\"https://raw.githubusercontent.com/MinCiencia/Datos-COVID19/master/output/producto78/vacunados_edad_fecha_2daDosis_T.csv\"),\n",
    "       (r\"Datos Covid Chile\\vacunados_edad_fecha_Refuerzo_T.csv\",\"https://github.com/MinCiencia/Datos-COVID19/blob/master/output/producto78/vacunados_edad_fecha_Refuerzo_T.csv\"),\n",
    "       (r\"Datos Covid Chile\\vacunados_edad_fecha_UnicaDosis_T.csv\",\"https://raw.githubusercontent.com/MinCiencia/Datos-COVID19/master/output/producto78/vacunados_edad_fecha_UnicaDosis_T.csv\"),\n",
    "       (r\"Datos covid Uruguay\\estadisticasUY.csv\",\"https://raw.githubusercontent.com/GUIAD-COVID/datos-y-visualizaciones-GUIAD/master/datos/estadisticasUY.csv\"),\n",
    "       (r\"Datos covid Uruguay\\estadisticasUY_porDepto_detalle.csv\",\"https://raw.githubusercontent.com/GUIAD-COVID/datos-y-visualizaciones-GUIAD/master/datos/estadisticasUY_porDepto_detalle.csv\"),\n",
    "       (r\"Datos covid Uruguay\\Uruguay.csv\",\"https://raw.githubusercontent.com/3dgiordano/covid-19-uy-vacc-data/main/data/Uruguay.csv\")]"
   ]
  },
  {
   "cell_type": "code",
   "execution_count": 5,
   "metadata": {},
   "outputs": [],
   "source": [
    "for x in urls:\n",
    "    url_response (x)"
   ]
  },
  {
   "cell_type": "markdown",
   "metadata": {},
   "source": [
    "<a id = 'Sección1'></a>"
   ]
  },
  {
   "cell_type": "markdown",
   "metadata": {},
   "source": [
    "## 1. Datos del coronavirus en Chile"
   ]
  },
  {
   "cell_type": "markdown",
   "metadata": {},
   "source": [
    "En este apartado se importan los datos relacionados con el coronavirus en Chile, los cuales son publicados por el Ministerio de Ciencia, Tecnología, Conocimiento e Innovación de Chile (MICITEC) a través de su página web [Base de Datos COVID-19](https://www.minciencia.gob.cl/covid19/)."
   ]
  },
  {
   "cell_type": "markdown",
   "metadata": {},
   "source": [
    "<a id = 'Sección1.1'></a>"
   ]
  },
  {
   "cell_type": "markdown",
   "metadata": {},
   "source": [
    "### 1.1. Datos generales a nivel nacional "
   ]
  },
  {
   "cell_type": "code",
   "execution_count": 6,
   "metadata": {},
   "outputs": [],
   "source": [
    "global_data_CH = pd.read_csv (r\"Datos Covid Chile\\TotalesNacionales_T.csv\",\n",
    "                    usecols = ['Fecha', 'Casos totales', 'Fallecidos', 'Casos activos', 'Casos nuevos totales'] )"
   ]
  },
  {
   "cell_type": "code",
   "execution_count": 7,
   "metadata": {},
   "outputs": [],
   "source": [
    "# Se inserta al dataframe la columna 'País', la cual será utilizada posteriormente para unir los datos de Chile y Uruguay.\n",
    "\n",
    "global_data_CH.insert (0, 'País', 'Chile')"
   ]
  },
  {
   "cell_type": "code",
   "execution_count": 8,
   "metadata": {},
   "outputs": [],
   "source": [
    "# Cálculo de la cantidad de fallecidos diariamente por covid.\n",
    "\n",
    "global_data_CH.insert (4, 'Cant de fallecidos', global_data_CH ['Fallecidos'].diff())"
   ]
  },
  {
   "cell_type": "code",
   "execution_count": 9,
   "metadata": {},
   "outputs": [],
   "source": [
    "# Cambio de nombre de la columna 'Fallecidos' a 'Total fallecidos' para aclarar que se trata de la cantidad total de fallecidos a la fecha.\n",
    "\n",
    "global_data_CH.rename (columns = {'Fallecidos': 'Total fallecidos'}, inplace = True)"
   ]
  },
  {
   "cell_type": "code",
   "execution_count": 10,
   "metadata": {},
   "outputs": [],
   "source": [
    "# Se covierte el tipo de dato de la columna 'Fecha' de object a datetime.\n",
    "\n",
    "global_data_CH ['Fecha'] = pd.to_datetime (global_data_CH ['Fecha'], errors = 'coerce')"
   ]
  },
  {
   "cell_type": "code",
   "execution_count": 11,
   "metadata": {},
   "outputs": [],
   "source": [
    "global_data_CH.fillna(0,inplace=True)"
   ]
  },
  {
   "cell_type": "code",
   "execution_count": 12,
   "metadata": {
    "scrolled": true
   },
   "outputs": [
    {
     "data": {
      "text/html": [
       "<div>\n",
       "<style scoped>\n",
       "    .dataframe tbody tr th:only-of-type {\n",
       "        vertical-align: middle;\n",
       "    }\n",
       "\n",
       "    .dataframe tbody tr th {\n",
       "        vertical-align: top;\n",
       "    }\n",
       "\n",
       "    .dataframe thead th {\n",
       "        text-align: right;\n",
       "    }\n",
       "</style>\n",
       "<table border=\"1\" class=\"dataframe\">\n",
       "  <thead>\n",
       "    <tr style=\"text-align: right;\">\n",
       "      <th></th>\n",
       "      <th>País</th>\n",
       "      <th>Fecha</th>\n",
       "      <th>Casos totales</th>\n",
       "      <th>Total fallecidos</th>\n",
       "      <th>Cant de fallecidos</th>\n",
       "      <th>Casos activos</th>\n",
       "      <th>Casos nuevos totales</th>\n",
       "    </tr>\n",
       "  </thead>\n",
       "  <tbody>\n",
       "    <tr>\n",
       "      <th>0</th>\n",
       "      <td>Chile</td>\n",
       "      <td>2020-03-02</td>\n",
       "      <td>1.0</td>\n",
       "      <td>0.0</td>\n",
       "      <td>0.0</td>\n",
       "      <td>1.0</td>\n",
       "      <td>1.0</td>\n",
       "    </tr>\n",
       "    <tr>\n",
       "      <th>1</th>\n",
       "      <td>Chile</td>\n",
       "      <td>2020-03-03</td>\n",
       "      <td>1.0</td>\n",
       "      <td>0.0</td>\n",
       "      <td>0.0</td>\n",
       "      <td>1.0</td>\n",
       "      <td>0.0</td>\n",
       "    </tr>\n",
       "    <tr>\n",
       "      <th>2</th>\n",
       "      <td>Chile</td>\n",
       "      <td>2020-03-04</td>\n",
       "      <td>3.0</td>\n",
       "      <td>0.0</td>\n",
       "      <td>0.0</td>\n",
       "      <td>3.0</td>\n",
       "      <td>2.0</td>\n",
       "    </tr>\n",
       "    <tr>\n",
       "      <th>3</th>\n",
       "      <td>Chile</td>\n",
       "      <td>2020-03-05</td>\n",
       "      <td>4.0</td>\n",
       "      <td>0.0</td>\n",
       "      <td>0.0</td>\n",
       "      <td>4.0</td>\n",
       "      <td>1.0</td>\n",
       "    </tr>\n",
       "    <tr>\n",
       "      <th>4</th>\n",
       "      <td>Chile</td>\n",
       "      <td>2020-03-06</td>\n",
       "      <td>5.0</td>\n",
       "      <td>0.0</td>\n",
       "      <td>0.0</td>\n",
       "      <td>5.0</td>\n",
       "      <td>1.0</td>\n",
       "    </tr>\n",
       "  </tbody>\n",
       "</table>\n",
       "</div>"
      ],
      "text/plain": [
       "    País      Fecha  Casos totales  Total fallecidos  Cant de fallecidos  \\\n",
       "0  Chile 2020-03-02            1.0               0.0                 0.0   \n",
       "1  Chile 2020-03-03            1.0               0.0                 0.0   \n",
       "2  Chile 2020-03-04            3.0               0.0                 0.0   \n",
       "3  Chile 2020-03-05            4.0               0.0                 0.0   \n",
       "4  Chile 2020-03-06            5.0               0.0                 0.0   \n",
       "\n",
       "   Casos activos  Casos nuevos totales  \n",
       "0            1.0                   1.0  \n",
       "1            1.0                   0.0  \n",
       "2            3.0                   2.0  \n",
       "3            4.0                   1.0  \n",
       "4            5.0                   1.0  "
      ]
     },
     "execution_count": 12,
     "metadata": {},
     "output_type": "execute_result"
    }
   ],
   "source": [
    "global_data_CH.head()"
   ]
  },
  {
   "cell_type": "markdown",
   "metadata": {},
   "source": [
    "<a id = 'Sección1.2'></a>"
   ]
  },
  {
   "cell_type": "markdown",
   "metadata": {},
   "source": [
    "### 1.2. Cantidad de test realizados y positividad"
   ]
  },
  {
   "cell_type": "markdown",
   "metadata": {},
   "source": [
    "La positividad en esta fuente de datos corresponde a casos positos/tests realizados."
   ]
  },
  {
   "cell_type": "code",
   "execution_count": 13,
   "metadata": {},
   "outputs": [],
   "source": [
    "test_CH = pd.read_csv (r\"Datos Covid Chile\\Positividad_Diaria_Media_T.csv\", \n",
    "                      usecols = ['Fecha', 'pcr', 'positividad pcr'])"
   ]
  },
  {
   "cell_type": "code",
   "execution_count": 14,
   "metadata": {},
   "outputs": [],
   "source": [
    "test_CH ['Fecha'] = pd.to_datetime (test_CH ['Fecha'], errors = 'coerce')"
   ]
  },
  {
   "cell_type": "code",
   "execution_count": 15,
   "metadata": {},
   "outputs": [],
   "source": [
    "test_CH.insert (0, 'País', 'Chile')"
   ]
  },
  {
   "cell_type": "code",
   "execution_count": 16,
   "metadata": {
    "scrolled": true
   },
   "outputs": [
    {
     "data": {
      "text/html": [
       "<div>\n",
       "<style scoped>\n",
       "    .dataframe tbody tr th:only-of-type {\n",
       "        vertical-align: middle;\n",
       "    }\n",
       "\n",
       "    .dataframe tbody tr th {\n",
       "        vertical-align: top;\n",
       "    }\n",
       "\n",
       "    .dataframe thead th {\n",
       "        text-align: right;\n",
       "    }\n",
       "</style>\n",
       "<table border=\"1\" class=\"dataframe\">\n",
       "  <thead>\n",
       "    <tr style=\"text-align: right;\">\n",
       "      <th></th>\n",
       "      <th>País</th>\n",
       "      <th>Fecha</th>\n",
       "      <th>pcr</th>\n",
       "      <th>positividad pcr</th>\n",
       "    </tr>\n",
       "  </thead>\n",
       "  <tbody>\n",
       "    <tr>\n",
       "      <th>0</th>\n",
       "      <td>Chile</td>\n",
       "      <td>2020-03-25</td>\n",
       "      <td>3290.0</td>\n",
       "      <td>0.0669</td>\n",
       "    </tr>\n",
       "    <tr>\n",
       "      <th>1</th>\n",
       "      <td>Chile</td>\n",
       "      <td>2020-03-26</td>\n",
       "      <td>4886.0</td>\n",
       "      <td>0.0336</td>\n",
       "    </tr>\n",
       "    <tr>\n",
       "      <th>2</th>\n",
       "      <td>Chile</td>\n",
       "      <td>2020-03-27</td>\n",
       "      <td>7387.0</td>\n",
       "      <td>0.0412</td>\n",
       "    </tr>\n",
       "    <tr>\n",
       "      <th>3</th>\n",
       "      <td>Chile</td>\n",
       "      <td>2020-03-28</td>\n",
       "      <td>3534.0</td>\n",
       "      <td>0.0846</td>\n",
       "    </tr>\n",
       "    <tr>\n",
       "      <th>4</th>\n",
       "      <td>Chile</td>\n",
       "      <td>2020-03-29</td>\n",
       "      <td>1777.0</td>\n",
       "      <td>0.1294</td>\n",
       "    </tr>\n",
       "  </tbody>\n",
       "</table>\n",
       "</div>"
      ],
      "text/plain": [
       "    País      Fecha     pcr  positividad pcr\n",
       "0  Chile 2020-03-25  3290.0           0.0669\n",
       "1  Chile 2020-03-26  4886.0           0.0336\n",
       "2  Chile 2020-03-27  7387.0           0.0412\n",
       "3  Chile 2020-03-28  3534.0           0.0846\n",
       "4  Chile 2020-03-29  1777.0           0.1294"
      ]
     },
     "execution_count": 16,
     "metadata": {},
     "output_type": "execute_result"
    }
   ],
   "source": [
    "test_CH.head()"
   ]
  },
  {
   "cell_type": "markdown",
   "metadata": {},
   "source": [
    "<a id = 'Sección1.3'></a>"
   ]
  },
  {
   "cell_type": "markdown",
   "metadata": {},
   "source": [
    "### 1.3. Datos UTI/UCI a nivel nacional"
   ]
  },
  {
   "cell_type": "code",
   "execution_count": 17,
   "metadata": {},
   "outputs": [],
   "source": [
    "UCI_CH = pd.read_csv (r'Datos Covid Chile\\CamasHospital_Diario_T.csv',\n",
    "                     usecols = ['Tipo de cama', 'UTI', 'UCI'])"
   ]
  },
  {
   "cell_type": "code",
   "execution_count": 18,
   "metadata": {},
   "outputs": [],
   "source": [
    "UCI_CH.rename (columns = {'Tipo de cama': 'Fecha'}, inplace = True)"
   ]
  },
  {
   "cell_type": "code",
   "execution_count": 19,
   "metadata": {},
   "outputs": [],
   "source": [
    "UCI_CH.insert (0, 'País', 'Chile')"
   ]
  },
  {
   "cell_type": "code",
   "execution_count": 20,
   "metadata": {},
   "outputs": [],
   "source": [
    "UCI_CH ['Fecha'] = pd.to_datetime (UCI_CH ['Fecha'], errors = 'coerce')"
   ]
  },
  {
   "cell_type": "code",
   "execution_count": 21,
   "metadata": {},
   "outputs": [
    {
     "data": {
      "text/html": [
       "<div>\n",
       "<style scoped>\n",
       "    .dataframe tbody tr th:only-of-type {\n",
       "        vertical-align: middle;\n",
       "    }\n",
       "\n",
       "    .dataframe tbody tr th {\n",
       "        vertical-align: top;\n",
       "    }\n",
       "\n",
       "    .dataframe thead th {\n",
       "        text-align: right;\n",
       "    }\n",
       "</style>\n",
       "<table border=\"1\" class=\"dataframe\">\n",
       "  <thead>\n",
       "    <tr style=\"text-align: right;\">\n",
       "      <th></th>\n",
       "      <th>País</th>\n",
       "      <th>Fecha</th>\n",
       "      <th>UTI</th>\n",
       "      <th>UCI</th>\n",
       "    </tr>\n",
       "  </thead>\n",
       "  <tbody>\n",
       "    <tr>\n",
       "      <th>0</th>\n",
       "      <td>Chile</td>\n",
       "      <td>2020-04-16</td>\n",
       "      <td>111</td>\n",
       "      <td>384</td>\n",
       "    </tr>\n",
       "    <tr>\n",
       "      <th>1</th>\n",
       "      <td>Chile</td>\n",
       "      <td>2020-04-17</td>\n",
       "      <td>168</td>\n",
       "      <td>407</td>\n",
       "    </tr>\n",
       "    <tr>\n",
       "      <th>2</th>\n",
       "      <td>Chile</td>\n",
       "      <td>2020-04-18</td>\n",
       "      <td>180</td>\n",
       "      <td>380</td>\n",
       "    </tr>\n",
       "    <tr>\n",
       "      <th>3</th>\n",
       "      <td>Chile</td>\n",
       "      <td>2020-04-19</td>\n",
       "      <td>134</td>\n",
       "      <td>373</td>\n",
       "    </tr>\n",
       "    <tr>\n",
       "      <th>4</th>\n",
       "      <td>Chile</td>\n",
       "      <td>2020-04-20</td>\n",
       "      <td>129</td>\n",
       "      <td>377</td>\n",
       "    </tr>\n",
       "  </tbody>\n",
       "</table>\n",
       "</div>"
      ],
      "text/plain": [
       "    País      Fecha  UTI  UCI\n",
       "0  Chile 2020-04-16  111  384\n",
       "1  Chile 2020-04-17  168  407\n",
       "2  Chile 2020-04-18  180  380\n",
       "3  Chile 2020-04-19  134  373\n",
       "4  Chile 2020-04-20  129  377"
      ]
     },
     "execution_count": 21,
     "metadata": {},
     "output_type": "execute_result"
    }
   ],
   "source": [
    "UCI_CH.head()"
   ]
  },
  {
   "cell_type": "markdown",
   "metadata": {},
   "source": [
    "<a id = 'Sección1.4'></a>"
   ]
  },
  {
   "cell_type": "markdown",
   "metadata": {},
   "source": [
    "### 1.4. Datos generales por región"
   ]
  },
  {
   "cell_type": "code",
   "execution_count": 22,
   "metadata": {},
   "outputs": [],
   "source": [
    "regional_data_CH = pd.read_csv (r\"Datos Covid Chile\\TotalesPorRegion_std.csv\") "
   ]
  },
  {
   "cell_type": "code",
   "execution_count": 23,
   "metadata": {},
   "outputs": [
    {
     "data": {
      "text/html": [
       "<div>\n",
       "<style scoped>\n",
       "    .dataframe tbody tr th:only-of-type {\n",
       "        vertical-align: middle;\n",
       "    }\n",
       "\n",
       "    .dataframe tbody tr th {\n",
       "        vertical-align: top;\n",
       "    }\n",
       "\n",
       "    .dataframe thead th {\n",
       "        text-align: right;\n",
       "    }\n",
       "</style>\n",
       "<table border=\"1\" class=\"dataframe\">\n",
       "  <thead>\n",
       "    <tr style=\"text-align: right;\">\n",
       "      <th></th>\n",
       "      <th>Region</th>\n",
       "      <th>Categoria</th>\n",
       "      <th>Fecha</th>\n",
       "      <th>Total</th>\n",
       "    </tr>\n",
       "  </thead>\n",
       "  <tbody>\n",
       "    <tr>\n",
       "      <th>0</th>\n",
       "      <td>Arica y Parinacota</td>\n",
       "      <td>Casos acumulados</td>\n",
       "      <td>2020-03-03</td>\n",
       "      <td>0.0</td>\n",
       "    </tr>\n",
       "    <tr>\n",
       "      <th>1</th>\n",
       "      <td>Tarapacá</td>\n",
       "      <td>Casos acumulados</td>\n",
       "      <td>2020-03-03</td>\n",
       "      <td>0.0</td>\n",
       "    </tr>\n",
       "    <tr>\n",
       "      <th>2</th>\n",
       "      <td>Antofagasta</td>\n",
       "      <td>Casos acumulados</td>\n",
       "      <td>2020-03-03</td>\n",
       "      <td>0.0</td>\n",
       "    </tr>\n",
       "    <tr>\n",
       "      <th>3</th>\n",
       "      <td>Atacama</td>\n",
       "      <td>Casos acumulados</td>\n",
       "      <td>2020-03-03</td>\n",
       "      <td>0.0</td>\n",
       "    </tr>\n",
       "    <tr>\n",
       "      <th>4</th>\n",
       "      <td>Coquimbo</td>\n",
       "      <td>Casos acumulados</td>\n",
       "      <td>2020-03-03</td>\n",
       "      <td>0.0</td>\n",
       "    </tr>\n",
       "  </tbody>\n",
       "</table>\n",
       "</div>"
      ],
      "text/plain": [
       "               Region         Categoria       Fecha  Total\n",
       "0  Arica y Parinacota  Casos acumulados  2020-03-03    0.0\n",
       "1            Tarapacá  Casos acumulados  2020-03-03    0.0\n",
       "2         Antofagasta  Casos acumulados  2020-03-03    0.0\n",
       "3             Atacama  Casos acumulados  2020-03-03    0.0\n",
       "4            Coquimbo  Casos acumulados  2020-03-03    0.0"
      ]
     },
     "execution_count": 23,
     "metadata": {},
     "output_type": "execute_result"
    }
   ],
   "source": [
    "regional_data_CH.head()"
   ]
  },
  {
   "cell_type": "markdown",
   "metadata": {},
   "source": [
    "<a id = 'Sección1.5'></a>"
   ]
  },
  {
   "cell_type": "markdown",
   "metadata": {},
   "source": [
    "### 1.5. Vacunaciones por edad"
   ]
  },
  {
   "cell_type": "markdown",
   "metadata": {},
   "source": [
    "<a id = 'Sección1.5.1'></a>"
   ]
  },
  {
   "cell_type": "markdown",
   "metadata": {},
   "source": [
    "#### 1.5.1. Vacunaciones diarias con vacunas de dosis única por edad"
   ]
  },
  {
   "cell_type": "code",
   "execution_count": 24,
   "metadata": {},
   "outputs": [],
   "source": [
    "single_dose_CH = pd.read_csv (r\"Datos Covid Chile\\vacunados_edad_fecha_UnicaDosis_T.csv\")"
   ]
  },
  {
   "cell_type": "code",
   "execution_count": 25,
   "metadata": {},
   "outputs": [],
   "source": [
    "# Se establace como índice del dataframe la columna 'Edad' que contiene las fechas de aplicación de las vacunas, esto se hace \n",
    "# con la finalidad de posteriormente eliminar todas aquellas filas que solo contienen ceros.\n",
    "\n",
    "single_dose_CH.set_index('Edad', inplace = True)"
   ]
  },
  {
   "cell_type": "code",
   "execution_count": 26,
   "metadata": {},
   "outputs": [],
   "source": [
    "# Se rellenan las celdas con valor NaN con ceros.\n",
    "\n",
    "single_dose_CH.fillna(0, inplace = True)"
   ]
  },
  {
   "cell_type": "code",
   "execution_count": 27,
   "metadata": {},
   "outputs": [],
   "source": [
    "# Se eliminan todas aquellas filas que solo contienen ceros.\n",
    "\n",
    "single_dose_CH = single_dose_CH [single_dose_CH.any(1)]"
   ]
  },
  {
   "cell_type": "code",
   "execution_count": 28,
   "metadata": {},
   "outputs": [],
   "source": [
    "single_dose_CH.reset_index(inplace=True)"
   ]
  },
  {
   "cell_type": "code",
   "execution_count": 29,
   "metadata": {},
   "outputs": [],
   "source": [
    "single_dose_CH.rename (columns = {'Edad':'Fecha'}, inplace = True)"
   ]
  },
  {
   "cell_type": "code",
   "execution_count": 30,
   "metadata": {},
   "outputs": [
    {
     "data": {
      "text/html": [
       "<div>\n",
       "<style scoped>\n",
       "    .dataframe tbody tr th:only-of-type {\n",
       "        vertical-align: middle;\n",
       "    }\n",
       "\n",
       "    .dataframe tbody tr th {\n",
       "        vertical-align: top;\n",
       "    }\n",
       "\n",
       "    .dataframe thead th {\n",
       "        text-align: right;\n",
       "    }\n",
       "</style>\n",
       "<table border=\"1\" class=\"dataframe\">\n",
       "  <thead>\n",
       "    <tr style=\"text-align: right;\">\n",
       "      <th></th>\n",
       "      <th>Fecha</th>\n",
       "      <th>6.0</th>\n",
       "      <th>7.0</th>\n",
       "      <th>8.0</th>\n",
       "      <th>9.0</th>\n",
       "      <th>10.0</th>\n",
       "      <th>11.0</th>\n",
       "      <th>12.0</th>\n",
       "      <th>13.0</th>\n",
       "      <th>14.0</th>\n",
       "      <th>...</th>\n",
       "      <th>108.0</th>\n",
       "      <th>109.0</th>\n",
       "      <th>110.0</th>\n",
       "      <th>111.0</th>\n",
       "      <th>112.0</th>\n",
       "      <th>116.0</th>\n",
       "      <th>121.0</th>\n",
       "      <th>124.0</th>\n",
       "      <th>132.0</th>\n",
       "      <th>221.0</th>\n",
       "    </tr>\n",
       "  </thead>\n",
       "  <tbody>\n",
       "    <tr>\n",
       "      <th>0</th>\n",
       "      <td>2021-05-31</td>\n",
       "      <td>0.0</td>\n",
       "      <td>0.0</td>\n",
       "      <td>0.0</td>\n",
       "      <td>0.0</td>\n",
       "      <td>0.0</td>\n",
       "      <td>0.0</td>\n",
       "      <td>0.0</td>\n",
       "      <td>0.0</td>\n",
       "      <td>0.0</td>\n",
       "      <td>...</td>\n",
       "      <td>0.0</td>\n",
       "      <td>0.0</td>\n",
       "      <td>0.0</td>\n",
       "      <td>0.0</td>\n",
       "      <td>0.0</td>\n",
       "      <td>0.0</td>\n",
       "      <td>0.0</td>\n",
       "      <td>0.0</td>\n",
       "      <td>0.0</td>\n",
       "      <td>0.0</td>\n",
       "    </tr>\n",
       "    <tr>\n",
       "      <th>1</th>\n",
       "      <td>2021-06-01</td>\n",
       "      <td>0.0</td>\n",
       "      <td>0.0</td>\n",
       "      <td>0.0</td>\n",
       "      <td>0.0</td>\n",
       "      <td>0.0</td>\n",
       "      <td>0.0</td>\n",
       "      <td>0.0</td>\n",
       "      <td>0.0</td>\n",
       "      <td>0.0</td>\n",
       "      <td>...</td>\n",
       "      <td>0.0</td>\n",
       "      <td>0.0</td>\n",
       "      <td>0.0</td>\n",
       "      <td>0.0</td>\n",
       "      <td>0.0</td>\n",
       "      <td>0.0</td>\n",
       "      <td>0.0</td>\n",
       "      <td>0.0</td>\n",
       "      <td>0.0</td>\n",
       "      <td>0.0</td>\n",
       "    </tr>\n",
       "    <tr>\n",
       "      <th>2</th>\n",
       "      <td>2021-06-02</td>\n",
       "      <td>0.0</td>\n",
       "      <td>0.0</td>\n",
       "      <td>0.0</td>\n",
       "      <td>0.0</td>\n",
       "      <td>0.0</td>\n",
       "      <td>0.0</td>\n",
       "      <td>0.0</td>\n",
       "      <td>0.0</td>\n",
       "      <td>0.0</td>\n",
       "      <td>...</td>\n",
       "      <td>0.0</td>\n",
       "      <td>0.0</td>\n",
       "      <td>0.0</td>\n",
       "      <td>0.0</td>\n",
       "      <td>0.0</td>\n",
       "      <td>0.0</td>\n",
       "      <td>0.0</td>\n",
       "      <td>0.0</td>\n",
       "      <td>0.0</td>\n",
       "      <td>0.0</td>\n",
       "    </tr>\n",
       "    <tr>\n",
       "      <th>3</th>\n",
       "      <td>2021-06-03</td>\n",
       "      <td>0.0</td>\n",
       "      <td>0.0</td>\n",
       "      <td>0.0</td>\n",
       "      <td>0.0</td>\n",
       "      <td>0.0</td>\n",
       "      <td>0.0</td>\n",
       "      <td>0.0</td>\n",
       "      <td>0.0</td>\n",
       "      <td>0.0</td>\n",
       "      <td>...</td>\n",
       "      <td>0.0</td>\n",
       "      <td>0.0</td>\n",
       "      <td>0.0</td>\n",
       "      <td>0.0</td>\n",
       "      <td>0.0</td>\n",
       "      <td>0.0</td>\n",
       "      <td>0.0</td>\n",
       "      <td>0.0</td>\n",
       "      <td>0.0</td>\n",
       "      <td>0.0</td>\n",
       "    </tr>\n",
       "    <tr>\n",
       "      <th>4</th>\n",
       "      <td>2021-06-04</td>\n",
       "      <td>0.0</td>\n",
       "      <td>0.0</td>\n",
       "      <td>0.0</td>\n",
       "      <td>0.0</td>\n",
       "      <td>0.0</td>\n",
       "      <td>0.0</td>\n",
       "      <td>0.0</td>\n",
       "      <td>0.0</td>\n",
       "      <td>0.0</td>\n",
       "      <td>...</td>\n",
       "      <td>0.0</td>\n",
       "      <td>0.0</td>\n",
       "      <td>0.0</td>\n",
       "      <td>0.0</td>\n",
       "      <td>0.0</td>\n",
       "      <td>0.0</td>\n",
       "      <td>0.0</td>\n",
       "      <td>0.0</td>\n",
       "      <td>0.0</td>\n",
       "      <td>0.0</td>\n",
       "    </tr>\n",
       "  </tbody>\n",
       "</table>\n",
       "<p>5 rows × 113 columns</p>\n",
       "</div>"
      ],
      "text/plain": [
       "        Fecha  6.0  7.0  8.0  9.0  10.0  11.0  12.0  13.0  14.0  ...  108.0  \\\n",
       "0  2021-05-31  0.0  0.0  0.0  0.0   0.0   0.0   0.0   0.0   0.0  ...    0.0   \n",
       "1  2021-06-01  0.0  0.0  0.0  0.0   0.0   0.0   0.0   0.0   0.0  ...    0.0   \n",
       "2  2021-06-02  0.0  0.0  0.0  0.0   0.0   0.0   0.0   0.0   0.0  ...    0.0   \n",
       "3  2021-06-03  0.0  0.0  0.0  0.0   0.0   0.0   0.0   0.0   0.0  ...    0.0   \n",
       "4  2021-06-04  0.0  0.0  0.0  0.0   0.0   0.0   0.0   0.0   0.0  ...    0.0   \n",
       "\n",
       "   109.0  110.0  111.0  112.0  116.0  121.0  124.0  132.0  221.0  \n",
       "0    0.0    0.0    0.0    0.0    0.0    0.0    0.0    0.0    0.0  \n",
       "1    0.0    0.0    0.0    0.0    0.0    0.0    0.0    0.0    0.0  \n",
       "2    0.0    0.0    0.0    0.0    0.0    0.0    0.0    0.0    0.0  \n",
       "3    0.0    0.0    0.0    0.0    0.0    0.0    0.0    0.0    0.0  \n",
       "4    0.0    0.0    0.0    0.0    0.0    0.0    0.0    0.0    0.0  \n",
       "\n",
       "[5 rows x 113 columns]"
      ]
     },
     "execution_count": 30,
     "metadata": {},
     "output_type": "execute_result"
    }
   ],
   "source": [
    "single_dose_CH.head()"
   ]
  },
  {
   "cell_type": "markdown",
   "metadata": {},
   "source": [
    "<a id = 'Sección1.5.2'></a>"
   ]
  },
  {
   "cell_type": "markdown",
   "metadata": {},
   "source": [
    "#### 1.5.2. Vacunaciones diarias de primeras dosis por edad"
   ]
  },
  {
   "cell_type": "code",
   "execution_count": 31,
   "metadata": {},
   "outputs": [],
   "source": [
    "first_dose_CH = pd.read_csv (r\"Datos Covid Chile\\vacunados_edad_fecha_1eraDosis_T.csv\")"
   ]
  },
  {
   "cell_type": "code",
   "execution_count": 32,
   "metadata": {},
   "outputs": [],
   "source": [
    "first_dose_CH.set_index('Edad', inplace = True)"
   ]
  },
  {
   "cell_type": "code",
   "execution_count": 33,
   "metadata": {},
   "outputs": [],
   "source": [
    "first_dose_CH.fillna(0, inplace = True)"
   ]
  },
  {
   "cell_type": "code",
   "execution_count": 34,
   "metadata": {},
   "outputs": [],
   "source": [
    "first_dose_CH = first_dose_CH[first_dose_CH.any(1)]"
   ]
  },
  {
   "cell_type": "code",
   "execution_count": 35,
   "metadata": {},
   "outputs": [],
   "source": [
    "first_dose_CH.reset_index(inplace = True)"
   ]
  },
  {
   "cell_type": "code",
   "execution_count": 36,
   "metadata": {},
   "outputs": [],
   "source": [
    "first_dose_CH.rename (columns = {'Edad':'Fecha'}, inplace = True)"
   ]
  },
  {
   "cell_type": "code",
   "execution_count": 37,
   "metadata": {},
   "outputs": [
    {
     "data": {
      "text/html": [
       "<div>\n",
       "<style scoped>\n",
       "    .dataframe tbody tr th:only-of-type {\n",
       "        vertical-align: middle;\n",
       "    }\n",
       "\n",
       "    .dataframe tbody tr th {\n",
       "        vertical-align: top;\n",
       "    }\n",
       "\n",
       "    .dataframe thead th {\n",
       "        text-align: right;\n",
       "    }\n",
       "</style>\n",
       "<table border=\"1\" class=\"dataframe\">\n",
       "  <thead>\n",
       "    <tr style=\"text-align: right;\">\n",
       "      <th></th>\n",
       "      <th>Fecha</th>\n",
       "      <th>6.0</th>\n",
       "      <th>7.0</th>\n",
       "      <th>8.0</th>\n",
       "      <th>9.0</th>\n",
       "      <th>10.0</th>\n",
       "      <th>11.0</th>\n",
       "      <th>12.0</th>\n",
       "      <th>13.0</th>\n",
       "      <th>14.0</th>\n",
       "      <th>...</th>\n",
       "      <th>108.0</th>\n",
       "      <th>109.0</th>\n",
       "      <th>110.0</th>\n",
       "      <th>111.0</th>\n",
       "      <th>112.0</th>\n",
       "      <th>116.0</th>\n",
       "      <th>121.0</th>\n",
       "      <th>124.0</th>\n",
       "      <th>132.0</th>\n",
       "      <th>221.0</th>\n",
       "    </tr>\n",
       "  </thead>\n",
       "  <tbody>\n",
       "    <tr>\n",
       "      <th>0</th>\n",
       "      <td>2020-12-24</td>\n",
       "      <td>0.0</td>\n",
       "      <td>0.0</td>\n",
       "      <td>0.0</td>\n",
       "      <td>0.0</td>\n",
       "      <td>0.0</td>\n",
       "      <td>0.0</td>\n",
       "      <td>0.0</td>\n",
       "      <td>0.0</td>\n",
       "      <td>0.0</td>\n",
       "      <td>...</td>\n",
       "      <td>0.0</td>\n",
       "      <td>0.0</td>\n",
       "      <td>0.0</td>\n",
       "      <td>0.0</td>\n",
       "      <td>0.0</td>\n",
       "      <td>0.0</td>\n",
       "      <td>0.0</td>\n",
       "      <td>0.0</td>\n",
       "      <td>0.0</td>\n",
       "      <td>0.0</td>\n",
       "    </tr>\n",
       "    <tr>\n",
       "      <th>1</th>\n",
       "      <td>2020-12-25</td>\n",
       "      <td>0.0</td>\n",
       "      <td>0.0</td>\n",
       "      <td>0.0</td>\n",
       "      <td>0.0</td>\n",
       "      <td>0.0</td>\n",
       "      <td>0.0</td>\n",
       "      <td>0.0</td>\n",
       "      <td>0.0</td>\n",
       "      <td>0.0</td>\n",
       "      <td>...</td>\n",
       "      <td>0.0</td>\n",
       "      <td>0.0</td>\n",
       "      <td>0.0</td>\n",
       "      <td>0.0</td>\n",
       "      <td>0.0</td>\n",
       "      <td>0.0</td>\n",
       "      <td>0.0</td>\n",
       "      <td>0.0</td>\n",
       "      <td>0.0</td>\n",
       "      <td>0.0</td>\n",
       "    </tr>\n",
       "    <tr>\n",
       "      <th>2</th>\n",
       "      <td>2020-12-26</td>\n",
       "      <td>0.0</td>\n",
       "      <td>0.0</td>\n",
       "      <td>0.0</td>\n",
       "      <td>0.0</td>\n",
       "      <td>0.0</td>\n",
       "      <td>0.0</td>\n",
       "      <td>0.0</td>\n",
       "      <td>0.0</td>\n",
       "      <td>0.0</td>\n",
       "      <td>...</td>\n",
       "      <td>0.0</td>\n",
       "      <td>0.0</td>\n",
       "      <td>0.0</td>\n",
       "      <td>0.0</td>\n",
       "      <td>0.0</td>\n",
       "      <td>0.0</td>\n",
       "      <td>0.0</td>\n",
       "      <td>0.0</td>\n",
       "      <td>0.0</td>\n",
       "      <td>0.0</td>\n",
       "    </tr>\n",
       "    <tr>\n",
       "      <th>3</th>\n",
       "      <td>2020-12-27</td>\n",
       "      <td>0.0</td>\n",
       "      <td>0.0</td>\n",
       "      <td>0.0</td>\n",
       "      <td>0.0</td>\n",
       "      <td>0.0</td>\n",
       "      <td>0.0</td>\n",
       "      <td>0.0</td>\n",
       "      <td>0.0</td>\n",
       "      <td>0.0</td>\n",
       "      <td>...</td>\n",
       "      <td>0.0</td>\n",
       "      <td>0.0</td>\n",
       "      <td>0.0</td>\n",
       "      <td>0.0</td>\n",
       "      <td>0.0</td>\n",
       "      <td>0.0</td>\n",
       "      <td>0.0</td>\n",
       "      <td>0.0</td>\n",
       "      <td>0.0</td>\n",
       "      <td>0.0</td>\n",
       "    </tr>\n",
       "    <tr>\n",
       "      <th>4</th>\n",
       "      <td>2021-01-04</td>\n",
       "      <td>0.0</td>\n",
       "      <td>0.0</td>\n",
       "      <td>0.0</td>\n",
       "      <td>0.0</td>\n",
       "      <td>0.0</td>\n",
       "      <td>0.0</td>\n",
       "      <td>0.0</td>\n",
       "      <td>0.0</td>\n",
       "      <td>0.0</td>\n",
       "      <td>...</td>\n",
       "      <td>0.0</td>\n",
       "      <td>0.0</td>\n",
       "      <td>0.0</td>\n",
       "      <td>0.0</td>\n",
       "      <td>0.0</td>\n",
       "      <td>0.0</td>\n",
       "      <td>0.0</td>\n",
       "      <td>0.0</td>\n",
       "      <td>0.0</td>\n",
       "      <td>0.0</td>\n",
       "    </tr>\n",
       "  </tbody>\n",
       "</table>\n",
       "<p>5 rows × 113 columns</p>\n",
       "</div>"
      ],
      "text/plain": [
       "        Fecha  6.0  7.0  8.0  9.0  10.0  11.0  12.0  13.0  14.0  ...  108.0  \\\n",
       "0  2020-12-24  0.0  0.0  0.0  0.0   0.0   0.0   0.0   0.0   0.0  ...    0.0   \n",
       "1  2020-12-25  0.0  0.0  0.0  0.0   0.0   0.0   0.0   0.0   0.0  ...    0.0   \n",
       "2  2020-12-26  0.0  0.0  0.0  0.0   0.0   0.0   0.0   0.0   0.0  ...    0.0   \n",
       "3  2020-12-27  0.0  0.0  0.0  0.0   0.0   0.0   0.0   0.0   0.0  ...    0.0   \n",
       "4  2021-01-04  0.0  0.0  0.0  0.0   0.0   0.0   0.0   0.0   0.0  ...    0.0   \n",
       "\n",
       "   109.0  110.0  111.0  112.0  116.0  121.0  124.0  132.0  221.0  \n",
       "0    0.0    0.0    0.0    0.0    0.0    0.0    0.0    0.0    0.0  \n",
       "1    0.0    0.0    0.0    0.0    0.0    0.0    0.0    0.0    0.0  \n",
       "2    0.0    0.0    0.0    0.0    0.0    0.0    0.0    0.0    0.0  \n",
       "3    0.0    0.0    0.0    0.0    0.0    0.0    0.0    0.0    0.0  \n",
       "4    0.0    0.0    0.0    0.0    0.0    0.0    0.0    0.0    0.0  \n",
       "\n",
       "[5 rows x 113 columns]"
      ]
     },
     "execution_count": 37,
     "metadata": {},
     "output_type": "execute_result"
    }
   ],
   "source": [
    "first_dose_CH.head()"
   ]
  },
  {
   "cell_type": "markdown",
   "metadata": {},
   "source": [
    "<a id = 'Sección1.5.3'></a>"
   ]
  },
  {
   "cell_type": "markdown",
   "metadata": {},
   "source": [
    "#### 1.5.3. Vacunaciones diarias de segundas dosis por edad"
   ]
  },
  {
   "cell_type": "code",
   "execution_count": 38,
   "metadata": {},
   "outputs": [],
   "source": [
    "second_dose_CH = pd.read_csv (r\"Datos Covid Chile\\vacunados_edad_fecha_2daDosis_T.csv\")"
   ]
  },
  {
   "cell_type": "code",
   "execution_count": 39,
   "metadata": {},
   "outputs": [],
   "source": [
    "second_dose_CH.set_index('Edad', inplace = True)"
   ]
  },
  {
   "cell_type": "code",
   "execution_count": 40,
   "metadata": {},
   "outputs": [],
   "source": [
    "second_dose_CH.fillna(0, inplace = True)"
   ]
  },
  {
   "cell_type": "code",
   "execution_count": 41,
   "metadata": {},
   "outputs": [],
   "source": [
    "second_dose_CH = second_dose_CH.loc[second_dose_CH.any(1)]"
   ]
  },
  {
   "cell_type": "code",
   "execution_count": 42,
   "metadata": {},
   "outputs": [],
   "source": [
    "second_dose_CH.reset_index(inplace=True)"
   ]
  },
  {
   "cell_type": "code",
   "execution_count": 43,
   "metadata": {},
   "outputs": [],
   "source": [
    "second_dose_CH.rename (columns = {'Edad':'Fecha'}, inplace = True)"
   ]
  },
  {
   "cell_type": "code",
   "execution_count": 44,
   "metadata": {},
   "outputs": [
    {
     "data": {
      "text/html": [
       "<div>\n",
       "<style scoped>\n",
       "    .dataframe tbody tr th:only-of-type {\n",
       "        vertical-align: middle;\n",
       "    }\n",
       "\n",
       "    .dataframe tbody tr th {\n",
       "        vertical-align: top;\n",
       "    }\n",
       "\n",
       "    .dataframe thead th {\n",
       "        text-align: right;\n",
       "    }\n",
       "</style>\n",
       "<table border=\"1\" class=\"dataframe\">\n",
       "  <thead>\n",
       "    <tr style=\"text-align: right;\">\n",
       "      <th></th>\n",
       "      <th>Fecha</th>\n",
       "      <th>6.0</th>\n",
       "      <th>7.0</th>\n",
       "      <th>8.0</th>\n",
       "      <th>9.0</th>\n",
       "      <th>10.0</th>\n",
       "      <th>11.0</th>\n",
       "      <th>12.0</th>\n",
       "      <th>13.0</th>\n",
       "      <th>14.0</th>\n",
       "      <th>...</th>\n",
       "      <th>108.0</th>\n",
       "      <th>109.0</th>\n",
       "      <th>110.0</th>\n",
       "      <th>111.0</th>\n",
       "      <th>112.0</th>\n",
       "      <th>116.0</th>\n",
       "      <th>121.0</th>\n",
       "      <th>124.0</th>\n",
       "      <th>132.0</th>\n",
       "      <th>221.0</th>\n",
       "    </tr>\n",
       "  </thead>\n",
       "  <tbody>\n",
       "    <tr>\n",
       "      <th>0</th>\n",
       "      <td>2021-01-13</td>\n",
       "      <td>0.0</td>\n",
       "      <td>0.0</td>\n",
       "      <td>0.0</td>\n",
       "      <td>0.0</td>\n",
       "      <td>0.0</td>\n",
       "      <td>0.0</td>\n",
       "      <td>0.0</td>\n",
       "      <td>0.0</td>\n",
       "      <td>0.0</td>\n",
       "      <td>...</td>\n",
       "      <td>0.0</td>\n",
       "      <td>0.0</td>\n",
       "      <td>0.0</td>\n",
       "      <td>0.0</td>\n",
       "      <td>0.0</td>\n",
       "      <td>0.0</td>\n",
       "      <td>0.0</td>\n",
       "      <td>0.0</td>\n",
       "      <td>0.0</td>\n",
       "      <td>0.0</td>\n",
       "    </tr>\n",
       "    <tr>\n",
       "      <th>1</th>\n",
       "      <td>2021-01-14</td>\n",
       "      <td>0.0</td>\n",
       "      <td>0.0</td>\n",
       "      <td>0.0</td>\n",
       "      <td>0.0</td>\n",
       "      <td>0.0</td>\n",
       "      <td>0.0</td>\n",
       "      <td>0.0</td>\n",
       "      <td>0.0</td>\n",
       "      <td>0.0</td>\n",
       "      <td>...</td>\n",
       "      <td>0.0</td>\n",
       "      <td>0.0</td>\n",
       "      <td>0.0</td>\n",
       "      <td>0.0</td>\n",
       "      <td>0.0</td>\n",
       "      <td>0.0</td>\n",
       "      <td>0.0</td>\n",
       "      <td>0.0</td>\n",
       "      <td>0.0</td>\n",
       "      <td>0.0</td>\n",
       "    </tr>\n",
       "    <tr>\n",
       "      <th>2</th>\n",
       "      <td>2021-01-15</td>\n",
       "      <td>0.0</td>\n",
       "      <td>0.0</td>\n",
       "      <td>0.0</td>\n",
       "      <td>0.0</td>\n",
       "      <td>0.0</td>\n",
       "      <td>0.0</td>\n",
       "      <td>0.0</td>\n",
       "      <td>0.0</td>\n",
       "      <td>0.0</td>\n",
       "      <td>...</td>\n",
       "      <td>0.0</td>\n",
       "      <td>0.0</td>\n",
       "      <td>0.0</td>\n",
       "      <td>0.0</td>\n",
       "      <td>0.0</td>\n",
       "      <td>0.0</td>\n",
       "      <td>0.0</td>\n",
       "      <td>0.0</td>\n",
       "      <td>0.0</td>\n",
       "      <td>0.0</td>\n",
       "    </tr>\n",
       "    <tr>\n",
       "      <th>3</th>\n",
       "      <td>2021-01-16</td>\n",
       "      <td>0.0</td>\n",
       "      <td>0.0</td>\n",
       "      <td>0.0</td>\n",
       "      <td>0.0</td>\n",
       "      <td>0.0</td>\n",
       "      <td>0.0</td>\n",
       "      <td>0.0</td>\n",
       "      <td>0.0</td>\n",
       "      <td>0.0</td>\n",
       "      <td>...</td>\n",
       "      <td>0.0</td>\n",
       "      <td>0.0</td>\n",
       "      <td>0.0</td>\n",
       "      <td>0.0</td>\n",
       "      <td>0.0</td>\n",
       "      <td>0.0</td>\n",
       "      <td>0.0</td>\n",
       "      <td>0.0</td>\n",
       "      <td>0.0</td>\n",
       "      <td>0.0</td>\n",
       "    </tr>\n",
       "    <tr>\n",
       "      <th>4</th>\n",
       "      <td>2021-01-19</td>\n",
       "      <td>0.0</td>\n",
       "      <td>0.0</td>\n",
       "      <td>0.0</td>\n",
       "      <td>0.0</td>\n",
       "      <td>0.0</td>\n",
       "      <td>0.0</td>\n",
       "      <td>0.0</td>\n",
       "      <td>0.0</td>\n",
       "      <td>0.0</td>\n",
       "      <td>...</td>\n",
       "      <td>0.0</td>\n",
       "      <td>0.0</td>\n",
       "      <td>0.0</td>\n",
       "      <td>0.0</td>\n",
       "      <td>0.0</td>\n",
       "      <td>0.0</td>\n",
       "      <td>0.0</td>\n",
       "      <td>0.0</td>\n",
       "      <td>0.0</td>\n",
       "      <td>0.0</td>\n",
       "    </tr>\n",
       "  </tbody>\n",
       "</table>\n",
       "<p>5 rows × 113 columns</p>\n",
       "</div>"
      ],
      "text/plain": [
       "        Fecha  6.0  7.0  8.0  9.0  10.0  11.0  12.0  13.0  14.0  ...  108.0  \\\n",
       "0  2021-01-13  0.0  0.0  0.0  0.0   0.0   0.0   0.0   0.0   0.0  ...    0.0   \n",
       "1  2021-01-14  0.0  0.0  0.0  0.0   0.0   0.0   0.0   0.0   0.0  ...    0.0   \n",
       "2  2021-01-15  0.0  0.0  0.0  0.0   0.0   0.0   0.0   0.0   0.0  ...    0.0   \n",
       "3  2021-01-16  0.0  0.0  0.0  0.0   0.0   0.0   0.0   0.0   0.0  ...    0.0   \n",
       "4  2021-01-19  0.0  0.0  0.0  0.0   0.0   0.0   0.0   0.0   0.0  ...    0.0   \n",
       "\n",
       "   109.0  110.0  111.0  112.0  116.0  121.0  124.0  132.0  221.0  \n",
       "0    0.0    0.0    0.0    0.0    0.0    0.0    0.0    0.0    0.0  \n",
       "1    0.0    0.0    0.0    0.0    0.0    0.0    0.0    0.0    0.0  \n",
       "2    0.0    0.0    0.0    0.0    0.0    0.0    0.0    0.0    0.0  \n",
       "3    0.0    0.0    0.0    0.0    0.0    0.0    0.0    0.0    0.0  \n",
       "4    0.0    0.0    0.0    0.0    0.0    0.0    0.0    0.0    0.0  \n",
       "\n",
       "[5 rows x 113 columns]"
      ]
     },
     "execution_count": 44,
     "metadata": {},
     "output_type": "execute_result"
    }
   ],
   "source": [
    "second_dose_CH.head()"
   ]
  },
  {
   "cell_type": "markdown",
   "metadata": {},
   "source": [
    "<a id = 'Sección1.6'></a>"
   ]
  },
  {
   "cell_type": "markdown",
   "metadata": {},
   "source": [
    "### 1.6. Vacunaciones por vacuna aplicada"
   ]
  },
  {
   "cell_type": "markdown",
   "metadata": {},
   "source": [
    "<a id = 'Sección1.6.1'></a>"
   ]
  },
  {
   "cell_type": "markdown",
   "metadata": {},
   "source": [
    "#### 1.6.1. Vacunas de una sola dosis"
   ]
  },
  {
   "cell_type": "code",
   "execution_count": 45,
   "metadata": {},
   "outputs": [],
   "source": [
    "vaccines_single_dose_CH = pd.read_csv (r\"Datos Covid Chile\\vacunacion_fabricantes_UnicaDosis_T.csv\",\n",
    "                                      usecols = ['Fabricante', 'CanSino'])"
   ]
  },
  {
   "cell_type": "code",
   "execution_count": 46,
   "metadata": {},
   "outputs": [],
   "source": [
    "vaccines_single_dose_CH.rename (columns = {'Fabricante':'Fecha'}, inplace= True)"
   ]
  },
  {
   "cell_type": "code",
   "execution_count": 47,
   "metadata": {},
   "outputs": [],
   "source": [
    "vaccines_single_dose_CH ['Fecha'] = pd.to_datetime (vaccines_single_dose_CH ['Fecha'], errors = 'coerce')"
   ]
  },
  {
   "cell_type": "code",
   "execution_count": 48,
   "metadata": {},
   "outputs": [
    {
     "data": {
      "text/html": [
       "<div>\n",
       "<style scoped>\n",
       "    .dataframe tbody tr th:only-of-type {\n",
       "        vertical-align: middle;\n",
       "    }\n",
       "\n",
       "    .dataframe tbody tr th {\n",
       "        vertical-align: top;\n",
       "    }\n",
       "\n",
       "    .dataframe thead th {\n",
       "        text-align: right;\n",
       "    }\n",
       "</style>\n",
       "<table border=\"1\" class=\"dataframe\">\n",
       "  <thead>\n",
       "    <tr style=\"text-align: right;\">\n",
       "      <th></th>\n",
       "      <th>Fecha</th>\n",
       "      <th>CanSino</th>\n",
       "    </tr>\n",
       "  </thead>\n",
       "  <tbody>\n",
       "    <tr>\n",
       "      <th>305</th>\n",
       "      <td>2021-10-25</td>\n",
       "      <td>158.0</td>\n",
       "    </tr>\n",
       "    <tr>\n",
       "      <th>306</th>\n",
       "      <td>2021-10-26</td>\n",
       "      <td>147.0</td>\n",
       "    </tr>\n",
       "    <tr>\n",
       "      <th>307</th>\n",
       "      <td>2021-10-27</td>\n",
       "      <td>159.0</td>\n",
       "    </tr>\n",
       "    <tr>\n",
       "      <th>308</th>\n",
       "      <td>2021-10-28</td>\n",
       "      <td>83.0</td>\n",
       "    </tr>\n",
       "    <tr>\n",
       "      <th>309</th>\n",
       "      <td>2021-10-29</td>\n",
       "      <td>53.0</td>\n",
       "    </tr>\n",
       "  </tbody>\n",
       "</table>\n",
       "</div>"
      ],
      "text/plain": [
       "         Fecha  CanSino\n",
       "305 2021-10-25    158.0\n",
       "306 2021-10-26    147.0\n",
       "307 2021-10-27    159.0\n",
       "308 2021-10-28     83.0\n",
       "309 2021-10-29     53.0"
      ]
     },
     "execution_count": 48,
     "metadata": {},
     "output_type": "execute_result"
    }
   ],
   "source": [
    "vaccines_single_dose_CH.tail()"
   ]
  },
  {
   "cell_type": "markdown",
   "metadata": {},
   "source": [
    "<a id = 'Sección1.6.2'></a>"
   ]
  },
  {
   "cell_type": "markdown",
   "metadata": {},
   "source": [
    "#### 1.6.2. Primeras dosis de vacunas"
   ]
  },
  {
   "cell_type": "code",
   "execution_count": 49,
   "metadata": {},
   "outputs": [],
   "source": [
    "vaccines_first_dose_CH = pd.read_csv (r\"Datos Covid Chile\\vacunacion_fabricantes_1eraDosis_T.csv\",\n",
    "                                     usecols = ['Fabricante', 'Campaña SARS-CoV-2 (AstraZeneca)', 'Campaña SARS-CoV-2 (Pfizer)',\n",
    "                                                'Campaña SARS-CoV-2 (Sinovac)'])"
   ]
  },
  {
   "cell_type": "code",
   "execution_count": 50,
   "metadata": {},
   "outputs": [],
   "source": [
    "vaccines_first_dose_CH.rename (columns = {'Fabricante':'Fecha', 'Campaña SARS-CoV-2 (AstraZeneca)':'AstraZeneca',\n",
    "                                          'Campaña SARS-CoV-2 (Pfizer)':'Pfizer', 'Campaña SARS-CoV-2 (Sinovac)':'Sinovac'}, inplace = True)"
   ]
  },
  {
   "cell_type": "code",
   "execution_count": 51,
   "metadata": {},
   "outputs": [],
   "source": [
    "vaccines_first_dose_CH ['Fecha'] = pd.to_datetime (vaccines_first_dose_CH ['Fecha'], errors = 'coerce')"
   ]
  },
  {
   "cell_type": "code",
   "execution_count": 52,
   "metadata": {},
   "outputs": [
    {
     "data": {
      "text/html": [
       "<div>\n",
       "<style scoped>\n",
       "    .dataframe tbody tr th:only-of-type {\n",
       "        vertical-align: middle;\n",
       "    }\n",
       "\n",
       "    .dataframe tbody tr th {\n",
       "        vertical-align: top;\n",
       "    }\n",
       "\n",
       "    .dataframe thead th {\n",
       "        text-align: right;\n",
       "    }\n",
       "</style>\n",
       "<table border=\"1\" class=\"dataframe\">\n",
       "  <thead>\n",
       "    <tr style=\"text-align: right;\">\n",
       "      <th></th>\n",
       "      <th>Fecha</th>\n",
       "      <th>AstraZeneca</th>\n",
       "      <th>Pfizer</th>\n",
       "      <th>Sinovac</th>\n",
       "    </tr>\n",
       "  </thead>\n",
       "  <tbody>\n",
       "    <tr>\n",
       "      <th>305</th>\n",
       "      <td>2021-10-25</td>\n",
       "      <td>586.0</td>\n",
       "      <td>2870.0</td>\n",
       "      <td>31128.0</td>\n",
       "    </tr>\n",
       "    <tr>\n",
       "      <th>306</th>\n",
       "      <td>2021-10-26</td>\n",
       "      <td>532.0</td>\n",
       "      <td>2643.0</td>\n",
       "      <td>29255.0</td>\n",
       "    </tr>\n",
       "    <tr>\n",
       "      <th>307</th>\n",
       "      <td>2021-10-27</td>\n",
       "      <td>469.0</td>\n",
       "      <td>2677.0</td>\n",
       "      <td>28560.0</td>\n",
       "    </tr>\n",
       "    <tr>\n",
       "      <th>308</th>\n",
       "      <td>2021-10-28</td>\n",
       "      <td>465.0</td>\n",
       "      <td>2806.0</td>\n",
       "      <td>26011.0</td>\n",
       "    </tr>\n",
       "    <tr>\n",
       "      <th>309</th>\n",
       "      <td>2021-10-29</td>\n",
       "      <td>273.0</td>\n",
       "      <td>1729.0</td>\n",
       "      <td>14512.0</td>\n",
       "    </tr>\n",
       "  </tbody>\n",
       "</table>\n",
       "</div>"
      ],
      "text/plain": [
       "         Fecha  AstraZeneca  Pfizer  Sinovac\n",
       "305 2021-10-25        586.0  2870.0  31128.0\n",
       "306 2021-10-26        532.0  2643.0  29255.0\n",
       "307 2021-10-27        469.0  2677.0  28560.0\n",
       "308 2021-10-28        465.0  2806.0  26011.0\n",
       "309 2021-10-29        273.0  1729.0  14512.0"
      ]
     },
     "execution_count": 52,
     "metadata": {},
     "output_type": "execute_result"
    }
   ],
   "source": [
    "vaccines_first_dose_CH.tail()"
   ]
  },
  {
   "cell_type": "markdown",
   "metadata": {},
   "source": [
    "<a id = 'Sección1.6.3'></a>"
   ]
  },
  {
   "cell_type": "markdown",
   "metadata": {},
   "source": [
    "#### 1.6.3. Segundas dosis de vacunas"
   ]
  },
  {
   "cell_type": "code",
   "execution_count": 53,
   "metadata": {},
   "outputs": [],
   "source": [
    "vaccines_second_dose_CH = pd.read_csv (r\"Datos Covid Chile\\vacunacion_fabricantes_2daDosis_T.csv\",\n",
    "                                      usecols = ['Fabricante', 'Campaña SARS-CoV-2 (AstraZeneca)', 'Campaña SARS-CoV-2 (Pfizer)',\n",
    "                                                'Campaña SARS-CoV-2 (Sinovac)'])"
   ]
  },
  {
   "cell_type": "code",
   "execution_count": 54,
   "metadata": {},
   "outputs": [],
   "source": [
    "vaccines_second_dose_CH.rename (columns = {'Fabricante':'Fecha', 'Campaña SARS-CoV-2 (AstraZeneca)':'AstraZeneca',\n",
    "                                          'Campaña SARS-CoV-2 (Pfizer)':'Pfizer', 'Campaña SARS-CoV-2 (Sinovac)':'Sinovac'}, inplace = True)"
   ]
  },
  {
   "cell_type": "code",
   "execution_count": 55,
   "metadata": {},
   "outputs": [],
   "source": [
    "vaccines_second_dose_CH ['Fecha'] = pd.to_datetime (vaccines_second_dose_CH ['Fecha'], errors = 'coerce')"
   ]
  },
  {
   "cell_type": "code",
   "execution_count": 56,
   "metadata": {},
   "outputs": [
    {
     "data": {
      "text/html": [
       "<div>\n",
       "<style scoped>\n",
       "    .dataframe tbody tr th:only-of-type {\n",
       "        vertical-align: middle;\n",
       "    }\n",
       "\n",
       "    .dataframe tbody tr th {\n",
       "        vertical-align: top;\n",
       "    }\n",
       "\n",
       "    .dataframe thead th {\n",
       "        text-align: right;\n",
       "    }\n",
       "</style>\n",
       "<table border=\"1\" class=\"dataframe\">\n",
       "  <thead>\n",
       "    <tr style=\"text-align: right;\">\n",
       "      <th></th>\n",
       "      <th>Fecha</th>\n",
       "      <th>AstraZeneca</th>\n",
       "      <th>Pfizer</th>\n",
       "      <th>Sinovac</th>\n",
       "    </tr>\n",
       "  </thead>\n",
       "  <tbody>\n",
       "    <tr>\n",
       "      <th>305</th>\n",
       "      <td>2021-10-25</td>\n",
       "      <td>531.0</td>\n",
       "      <td>1473.0</td>\n",
       "      <td>76506.0</td>\n",
       "    </tr>\n",
       "    <tr>\n",
       "      <th>306</th>\n",
       "      <td>2021-10-26</td>\n",
       "      <td>649.0</td>\n",
       "      <td>1476.0</td>\n",
       "      <td>91600.0</td>\n",
       "    </tr>\n",
       "    <tr>\n",
       "      <th>307</th>\n",
       "      <td>2021-10-27</td>\n",
       "      <td>588.0</td>\n",
       "      <td>1408.0</td>\n",
       "      <td>98995.0</td>\n",
       "    </tr>\n",
       "    <tr>\n",
       "      <th>308</th>\n",
       "      <td>2021-10-28</td>\n",
       "      <td>611.0</td>\n",
       "      <td>1599.0</td>\n",
       "      <td>97854.0</td>\n",
       "    </tr>\n",
       "    <tr>\n",
       "      <th>309</th>\n",
       "      <td>2021-10-29</td>\n",
       "      <td>398.0</td>\n",
       "      <td>910.0</td>\n",
       "      <td>57913.0</td>\n",
       "    </tr>\n",
       "  </tbody>\n",
       "</table>\n",
       "</div>"
      ],
      "text/plain": [
       "         Fecha  AstraZeneca  Pfizer  Sinovac\n",
       "305 2021-10-25        531.0  1473.0  76506.0\n",
       "306 2021-10-26        649.0  1476.0  91600.0\n",
       "307 2021-10-27        588.0  1408.0  98995.0\n",
       "308 2021-10-28        611.0  1599.0  97854.0\n",
       "309 2021-10-29        398.0   910.0  57913.0"
      ]
     },
     "execution_count": 56,
     "metadata": {},
     "output_type": "execute_result"
    }
   ],
   "source": [
    "vaccines_second_dose_CH.tail()"
   ]
  },
  {
   "cell_type": "markdown",
   "metadata": {},
   "source": [
    "<a id = 'Sección1.6.4'></a>"
   ]
  },
  {
   "cell_type": "markdown",
   "metadata": {},
   "source": [
    "#### 1.6.4. Vacunaciones de refuerzo"
   ]
  },
  {
   "cell_type": "code",
   "execution_count": 57,
   "metadata": {},
   "outputs": [],
   "source": [
    "booster_dose_CH = pd.read_csv (r\"Datos Covid Chile\\vacunacion_fabricantes_Refuerzo_T.csv\",\n",
    "                              usecols = ['Fabricante', 'Campaña SARS-CoV-2 (AstraZeneca)', 'Campaña SARS-CoV-2 (Pfizer)',\n",
    "                                                'Campaña SARS-CoV-2 (Sinovac)'])"
   ]
  },
  {
   "cell_type": "code",
   "execution_count": 58,
   "metadata": {},
   "outputs": [],
   "source": [
    "booster_dose_CH.rename (columns = {'Fabricante':'Fecha', 'Campaña SARS-CoV-2 (AstraZeneca)':'AstraZeneca',\n",
    "                                          'Campaña SARS-CoV-2 (Pfizer)':'Pfizer', 'Campaña SARS-CoV-2 (Sinovac)':'Sinovac'}, inplace = True)"
   ]
  },
  {
   "cell_type": "code",
   "execution_count": 59,
   "metadata": {},
   "outputs": [],
   "source": [
    "booster_dose_CH ['Fecha'] = pd.to_datetime (booster_dose_CH ['Fecha'], errors = 'coerce')"
   ]
  },
  {
   "cell_type": "code",
   "execution_count": 60,
   "metadata": {},
   "outputs": [
    {
     "data": {
      "text/html": [
       "<div>\n",
       "<style scoped>\n",
       "    .dataframe tbody tr th:only-of-type {\n",
       "        vertical-align: middle;\n",
       "    }\n",
       "\n",
       "    .dataframe tbody tr th {\n",
       "        vertical-align: top;\n",
       "    }\n",
       "\n",
       "    .dataframe thead th {\n",
       "        text-align: right;\n",
       "    }\n",
       "</style>\n",
       "<table border=\"1\" class=\"dataframe\">\n",
       "  <thead>\n",
       "    <tr style=\"text-align: right;\">\n",
       "      <th></th>\n",
       "      <th>Fecha</th>\n",
       "      <th>AstraZeneca</th>\n",
       "      <th>Pfizer</th>\n",
       "      <th>Sinovac</th>\n",
       "    </tr>\n",
       "  </thead>\n",
       "  <tbody>\n",
       "    <tr>\n",
       "      <th>305</th>\n",
       "      <td>2021-10-25</td>\n",
       "      <td>23964.0</td>\n",
       "      <td>137502.0</td>\n",
       "      <td>2212.0</td>\n",
       "    </tr>\n",
       "    <tr>\n",
       "      <th>306</th>\n",
       "      <td>2021-10-26</td>\n",
       "      <td>25692.0</td>\n",
       "      <td>165331.0</td>\n",
       "      <td>2357.0</td>\n",
       "    </tr>\n",
       "    <tr>\n",
       "      <th>307</th>\n",
       "      <td>2021-10-27</td>\n",
       "      <td>23528.0</td>\n",
       "      <td>164146.0</td>\n",
       "      <td>2405.0</td>\n",
       "    </tr>\n",
       "    <tr>\n",
       "      <th>308</th>\n",
       "      <td>2021-10-28</td>\n",
       "      <td>21631.0</td>\n",
       "      <td>164247.0</td>\n",
       "      <td>2007.0</td>\n",
       "    </tr>\n",
       "    <tr>\n",
       "      <th>309</th>\n",
       "      <td>2021-10-29</td>\n",
       "      <td>13682.0</td>\n",
       "      <td>106831.0</td>\n",
       "      <td>1180.0</td>\n",
       "    </tr>\n",
       "  </tbody>\n",
       "</table>\n",
       "</div>"
      ],
      "text/plain": [
       "         Fecha  AstraZeneca    Pfizer  Sinovac\n",
       "305 2021-10-25      23964.0  137502.0   2212.0\n",
       "306 2021-10-26      25692.0  165331.0   2357.0\n",
       "307 2021-10-27      23528.0  164146.0   2405.0\n",
       "308 2021-10-28      21631.0  164247.0   2007.0\n",
       "309 2021-10-29      13682.0  106831.0   1180.0"
      ]
     },
     "execution_count": 60,
     "metadata": {},
     "output_type": "execute_result"
    }
   ],
   "source": [
    "booster_dose_CH.tail()"
   ]
  },
  {
   "cell_type": "markdown",
   "metadata": {},
   "source": [
    "<a id = 'Sección2'></a>"
   ]
  },
  {
   "cell_type": "markdown",
   "metadata": {},
   "source": [
    "## 2. Datos del coronavirus en Uruguay"
   ]
  },
  {
   "cell_type": "markdown",
   "metadata": {},
   "source": [
    "En este apartado se importan los datos relacionados con el coronavirus en Uruguay, los cuales son publicados por el Grupo Uruguayo Interdisciplinario de Análisis de Datos de COVID‑19 (GUIAD-COVID-19) a través de su página web [Estadísticas epidemiológicas](https://guiad-covid.github.io/data/estadisticasuy/). Los datos relacionados con las vacunaciones fueron extraídos del [GitHub](https://github.com/3dgiordano/covid-19-uy-vacc-data/tree/main/data) de David Giordano, quien ha ido consolidando los informes entregados diariamente por el Ministerio de Salud Pública del Uruguay."
   ]
  },
  {
   "cell_type": "markdown",
   "metadata": {},
   "source": [
    "<a id = 'Sección2.1'></a>"
   ]
  },
  {
   "cell_type": "markdown",
   "metadata": {},
   "source": [
    "### 2.1. Datos generales a nivel nacional"
   ]
  },
  {
   "cell_type": "code",
   "execution_count": 61,
   "metadata": {},
   "outputs": [],
   "source": [
    "global_data_UY = pd.read_csv (r\"Datos covid Uruguay\\estadisticasUY.csv\", \n",
    "                    usecols = ['fecha', 'cantPersonasConInfeccionEnCurso', 'cantCasosNuevosConsolidado', 'acumCasos', \n",
    "                                'cantFallecidos', 'acumFallecidos', 'cantCTI', 'cantCI', 'cantTest', 'acumTest', 'Positividad'])"
   ]
  },
  {
   "cell_type": "code",
   "execution_count": 62,
   "metadata": {},
   "outputs": [
    {
     "data": {
      "text/html": [
       "<div>\n",
       "<style scoped>\n",
       "    .dataframe tbody tr th:only-of-type {\n",
       "        vertical-align: middle;\n",
       "    }\n",
       "\n",
       "    .dataframe tbody tr th {\n",
       "        vertical-align: top;\n",
       "    }\n",
       "\n",
       "    .dataframe thead th {\n",
       "        text-align: right;\n",
       "    }\n",
       "</style>\n",
       "<table border=\"1\" class=\"dataframe\">\n",
       "  <thead>\n",
       "    <tr style=\"text-align: right;\">\n",
       "      <th></th>\n",
       "      <th>fecha</th>\n",
       "      <th>cantPersonasConInfeccionEnCurso</th>\n",
       "      <th>cantCasosNuevosConsolidado</th>\n",
       "      <th>acumCasos</th>\n",
       "      <th>cantFallecidos</th>\n",
       "      <th>acumFallecidos</th>\n",
       "      <th>cantCTI</th>\n",
       "      <th>cantCI</th>\n",
       "      <th>cantTest</th>\n",
       "      <th>acumTest</th>\n",
       "      <th>Positividad</th>\n",
       "    </tr>\n",
       "  </thead>\n",
       "  <tbody>\n",
       "    <tr>\n",
       "      <th>0</th>\n",
       "      <td>25/03/2020</td>\n",
       "      <td>217</td>\n",
       "      <td>28</td>\n",
       "      <td>217</td>\n",
       "      <td>0</td>\n",
       "      <td>0</td>\n",
       "      <td>4</td>\n",
       "      <td>2</td>\n",
       "      <td>320</td>\n",
       "      <td>1858</td>\n",
       "      <td>0.088</td>\n",
       "    </tr>\n",
       "    <tr>\n",
       "      <th>1</th>\n",
       "      <td>26/03/2020</td>\n",
       "      <td>238</td>\n",
       "      <td>21</td>\n",
       "      <td>238</td>\n",
       "      <td>0</td>\n",
       "      <td>0</td>\n",
       "      <td>4</td>\n",
       "      <td>2</td>\n",
       "      <td>245</td>\n",
       "      <td>2103</td>\n",
       "      <td>0.086</td>\n",
       "    </tr>\n",
       "    <tr>\n",
       "      <th>2</th>\n",
       "      <td>27/03/2020</td>\n",
       "      <td>274</td>\n",
       "      <td>36</td>\n",
       "      <td>274</td>\n",
       "      <td>0</td>\n",
       "      <td>0</td>\n",
       "      <td>8</td>\n",
       "      <td>0</td>\n",
       "      <td>451</td>\n",
       "      <td>2554</td>\n",
       "      <td>0.080</td>\n",
       "    </tr>\n",
       "    <tr>\n",
       "      <th>3</th>\n",
       "      <td>28/03/2020</td>\n",
       "      <td>303</td>\n",
       "      <td>30</td>\n",
       "      <td>304</td>\n",
       "      <td>1</td>\n",
       "      <td>1</td>\n",
       "      <td>8</td>\n",
       "      <td>5</td>\n",
       "      <td>372</td>\n",
       "      <td>2926</td>\n",
       "      <td>0.081</td>\n",
       "    </tr>\n",
       "    <tr>\n",
       "      <th>4</th>\n",
       "      <td>29/03/2020</td>\n",
       "      <td>309</td>\n",
       "      <td>6</td>\n",
       "      <td>309</td>\n",
       "      <td>0</td>\n",
       "      <td>1</td>\n",
       "      <td>10</td>\n",
       "      <td>2</td>\n",
       "      <td>200</td>\n",
       "      <td>3126</td>\n",
       "      <td>0.030</td>\n",
       "    </tr>\n",
       "    <tr>\n",
       "      <th>...</th>\n",
       "      <td>...</td>\n",
       "      <td>...</td>\n",
       "      <td>...</td>\n",
       "      <td>...</td>\n",
       "      <td>...</td>\n",
       "      <td>...</td>\n",
       "      <td>...</td>\n",
       "      <td>...</td>\n",
       "      <td>...</td>\n",
       "      <td>...</td>\n",
       "      <td>...</td>\n",
       "    </tr>\n",
       "    <tr>\n",
       "      <th>581</th>\n",
       "      <td>27/10/2021</td>\n",
       "      <td>1892</td>\n",
       "      <td>294</td>\n",
       "      <td>392879</td>\n",
       "      <td>2</td>\n",
       "      <td>6076</td>\n",
       "      <td>22</td>\n",
       "      <td>0</td>\n",
       "      <td>10864</td>\n",
       "      <td>3792830</td>\n",
       "      <td>0.027</td>\n",
       "    </tr>\n",
       "    <tr>\n",
       "      <th>582</th>\n",
       "      <td>28/10/2021</td>\n",
       "      <td>1993</td>\n",
       "      <td>260</td>\n",
       "      <td>393139</td>\n",
       "      <td>0</td>\n",
       "      <td>6076</td>\n",
       "      <td>22</td>\n",
       "      <td>0</td>\n",
       "      <td>10649</td>\n",
       "      <td>3803479</td>\n",
       "      <td>0.024</td>\n",
       "    </tr>\n",
       "    <tr>\n",
       "      <th>583</th>\n",
       "      <td>29/10/2021</td>\n",
       "      <td>2162</td>\n",
       "      <td>315</td>\n",
       "      <td>393454</td>\n",
       "      <td>1</td>\n",
       "      <td>6077</td>\n",
       "      <td>21</td>\n",
       "      <td>0</td>\n",
       "      <td>10611</td>\n",
       "      <td>3814090</td>\n",
       "      <td>0.030</td>\n",
       "    </tr>\n",
       "    <tr>\n",
       "      <th>584</th>\n",
       "      <td>30/10/2021</td>\n",
       "      <td>2258</td>\n",
       "      <td>264</td>\n",
       "      <td>393718</td>\n",
       "      <td>0</td>\n",
       "      <td>6077</td>\n",
       "      <td>23</td>\n",
       "      <td>0</td>\n",
       "      <td>10096</td>\n",
       "      <td>3824186</td>\n",
       "      <td>0.026</td>\n",
       "    </tr>\n",
       "    <tr>\n",
       "      <th>585</th>\n",
       "      <td>31/10/2021</td>\n",
       "      <td>2292</td>\n",
       "      <td>181</td>\n",
       "      <td>393899</td>\n",
       "      <td>1</td>\n",
       "      <td>6078</td>\n",
       "      <td>23</td>\n",
       "      <td>0</td>\n",
       "      <td>6884</td>\n",
       "      <td>3831070</td>\n",
       "      <td>0.026</td>\n",
       "    </tr>\n",
       "  </tbody>\n",
       "</table>\n",
       "<p>586 rows × 11 columns</p>\n",
       "</div>"
      ],
      "text/plain": [
       "          fecha  cantPersonasConInfeccionEnCurso  cantCasosNuevosConsolidado  \\\n",
       "0    25/03/2020                              217                          28   \n",
       "1    26/03/2020                              238                          21   \n",
       "2    27/03/2020                              274                          36   \n",
       "3    28/03/2020                              303                          30   \n",
       "4    29/03/2020                              309                           6   \n",
       "..          ...                              ...                         ...   \n",
       "581  27/10/2021                             1892                         294   \n",
       "582  28/10/2021                             1993                         260   \n",
       "583  29/10/2021                             2162                         315   \n",
       "584  30/10/2021                             2258                         264   \n",
       "585  31/10/2021                             2292                         181   \n",
       "\n",
       "     acumCasos  cantFallecidos  acumFallecidos  cantCTI  cantCI  cantTest  \\\n",
       "0          217               0               0        4       2       320   \n",
       "1          238               0               0        4       2       245   \n",
       "2          274               0               0        8       0       451   \n",
       "3          304               1               1        8       5       372   \n",
       "4          309               0               1       10       2       200   \n",
       "..         ...             ...             ...      ...     ...       ...   \n",
       "581     392879               2            6076       22       0     10864   \n",
       "582     393139               0            6076       22       0     10649   \n",
       "583     393454               1            6077       21       0     10611   \n",
       "584     393718               0            6077       23       0     10096   \n",
       "585     393899               1            6078       23       0      6884   \n",
       "\n",
       "     acumTest  Positividad  \n",
       "0        1858        0.088  \n",
       "1        2103        0.086  \n",
       "2        2554        0.080  \n",
       "3        2926        0.081  \n",
       "4        3126        0.030  \n",
       "..        ...          ...  \n",
       "581   3792830        0.027  \n",
       "582   3803479        0.024  \n",
       "583   3814090        0.030  \n",
       "584   3824186        0.026  \n",
       "585   3831070        0.026  \n",
       "\n",
       "[586 rows x 11 columns]"
      ]
     },
     "execution_count": 62,
     "metadata": {},
     "output_type": "execute_result"
    }
   ],
   "source": [
    "global_data_UY"
   ]
  },
  {
   "cell_type": "code",
   "execution_count": 63,
   "metadata": {},
   "outputs": [],
   "source": [
    "global_data_UY ['fecha'] = pd.to_datetime (global_data_UY ['fecha'], errors = 'coerce', dayfirst = True)"
   ]
  },
  {
   "cell_type": "code",
   "execution_count": 64,
   "metadata": {},
   "outputs": [],
   "source": [
    "global_data_UY.insert (0, 'País', 'Uruguay')"
   ]
  },
  {
   "cell_type": "code",
   "execution_count": 65,
   "metadata": {},
   "outputs": [
    {
     "data": {
      "text/html": [
       "<div>\n",
       "<style scoped>\n",
       "    .dataframe tbody tr th:only-of-type {\n",
       "        vertical-align: middle;\n",
       "    }\n",
       "\n",
       "    .dataframe tbody tr th {\n",
       "        vertical-align: top;\n",
       "    }\n",
       "\n",
       "    .dataframe thead th {\n",
       "        text-align: right;\n",
       "    }\n",
       "</style>\n",
       "<table border=\"1\" class=\"dataframe\">\n",
       "  <thead>\n",
       "    <tr style=\"text-align: right;\">\n",
       "      <th></th>\n",
       "      <th>País</th>\n",
       "      <th>fecha</th>\n",
       "      <th>cantPersonasConInfeccionEnCurso</th>\n",
       "      <th>cantCasosNuevosConsolidado</th>\n",
       "      <th>acumCasos</th>\n",
       "      <th>cantFallecidos</th>\n",
       "      <th>acumFallecidos</th>\n",
       "      <th>cantCTI</th>\n",
       "      <th>cantCI</th>\n",
       "      <th>cantTest</th>\n",
       "      <th>acumTest</th>\n",
       "      <th>Positividad</th>\n",
       "    </tr>\n",
       "  </thead>\n",
       "  <tbody>\n",
       "    <tr>\n",
       "      <th>581</th>\n",
       "      <td>Uruguay</td>\n",
       "      <td>2021-10-27</td>\n",
       "      <td>1892</td>\n",
       "      <td>294</td>\n",
       "      <td>392879</td>\n",
       "      <td>2</td>\n",
       "      <td>6076</td>\n",
       "      <td>22</td>\n",
       "      <td>0</td>\n",
       "      <td>10864</td>\n",
       "      <td>3792830</td>\n",
       "      <td>0.027</td>\n",
       "    </tr>\n",
       "    <tr>\n",
       "      <th>582</th>\n",
       "      <td>Uruguay</td>\n",
       "      <td>2021-10-28</td>\n",
       "      <td>1993</td>\n",
       "      <td>260</td>\n",
       "      <td>393139</td>\n",
       "      <td>0</td>\n",
       "      <td>6076</td>\n",
       "      <td>22</td>\n",
       "      <td>0</td>\n",
       "      <td>10649</td>\n",
       "      <td>3803479</td>\n",
       "      <td>0.024</td>\n",
       "    </tr>\n",
       "    <tr>\n",
       "      <th>583</th>\n",
       "      <td>Uruguay</td>\n",
       "      <td>2021-10-29</td>\n",
       "      <td>2162</td>\n",
       "      <td>315</td>\n",
       "      <td>393454</td>\n",
       "      <td>1</td>\n",
       "      <td>6077</td>\n",
       "      <td>21</td>\n",
       "      <td>0</td>\n",
       "      <td>10611</td>\n",
       "      <td>3814090</td>\n",
       "      <td>0.030</td>\n",
       "    </tr>\n",
       "    <tr>\n",
       "      <th>584</th>\n",
       "      <td>Uruguay</td>\n",
       "      <td>2021-10-30</td>\n",
       "      <td>2258</td>\n",
       "      <td>264</td>\n",
       "      <td>393718</td>\n",
       "      <td>0</td>\n",
       "      <td>6077</td>\n",
       "      <td>23</td>\n",
       "      <td>0</td>\n",
       "      <td>10096</td>\n",
       "      <td>3824186</td>\n",
       "      <td>0.026</td>\n",
       "    </tr>\n",
       "    <tr>\n",
       "      <th>585</th>\n",
       "      <td>Uruguay</td>\n",
       "      <td>2021-10-31</td>\n",
       "      <td>2292</td>\n",
       "      <td>181</td>\n",
       "      <td>393899</td>\n",
       "      <td>1</td>\n",
       "      <td>6078</td>\n",
       "      <td>23</td>\n",
       "      <td>0</td>\n",
       "      <td>6884</td>\n",
       "      <td>3831070</td>\n",
       "      <td>0.026</td>\n",
       "    </tr>\n",
       "  </tbody>\n",
       "</table>\n",
       "</div>"
      ],
      "text/plain": [
       "        País      fecha  cantPersonasConInfeccionEnCurso  \\\n",
       "581  Uruguay 2021-10-27                             1892   \n",
       "582  Uruguay 2021-10-28                             1993   \n",
       "583  Uruguay 2021-10-29                             2162   \n",
       "584  Uruguay 2021-10-30                             2258   \n",
       "585  Uruguay 2021-10-31                             2292   \n",
       "\n",
       "     cantCasosNuevosConsolidado  acumCasos  cantFallecidos  acumFallecidos  \\\n",
       "581                         294     392879               2            6076   \n",
       "582                         260     393139               0            6076   \n",
       "583                         315     393454               1            6077   \n",
       "584                         264     393718               0            6077   \n",
       "585                         181     393899               1            6078   \n",
       "\n",
       "     cantCTI  cantCI  cantTest  acumTest  Positividad  \n",
       "581       22       0     10864   3792830        0.027  \n",
       "582       22       0     10649   3803479        0.024  \n",
       "583       21       0     10611   3814090        0.030  \n",
       "584       23       0     10096   3824186        0.026  \n",
       "585       23       0      6884   3831070        0.026  "
      ]
     },
     "execution_count": 65,
     "metadata": {},
     "output_type": "execute_result"
    }
   ],
   "source": [
    "global_data_UY.tail()"
   ]
  },
  {
   "cell_type": "markdown",
   "metadata": {},
   "source": [
    "<a id = 'Sección2.2'></a>"
   ]
  },
  {
   "cell_type": "markdown",
   "metadata": {},
   "source": [
    "### 2.2. Datos generales por departamento"
   ]
  },
  {
   "cell_type": "code",
   "execution_count": 66,
   "metadata": {},
   "outputs": [],
   "source": [
    "detailed_data_per_dep_UY = pd.read_csv (r\"Datos covid Uruguay\\estadisticasUY_porDepto_detalle.csv\",\n",
    "                                usecols = ['fecha', 'departamento', 'enCurso', 'cantCasosNuevosConsolidado', 'cantFallecidos',\n",
    "                                          'acumFallecidos','acumcasos'])"
   ]
  },
  {
   "cell_type": "code",
   "execution_count": 67,
   "metadata": {},
   "outputs": [],
   "source": [
    "detailed_data_per_dep_UY ['fecha'] = pd.to_datetime (detailed_data_per_dep_UY ['fecha'], errors = 'coerce', dayfirst = True)"
   ]
  },
  {
   "cell_type": "code",
   "execution_count": 68,
   "metadata": {},
   "outputs": [],
   "source": [
    "# Se utiliza el método .str para quitar el código ISO que acompaña al nombre del departamento en la columna 'departamento'.\n",
    "# Así, por ejemplo, 'Artigas(UY-AR)' pasa a ser 'Artigas'.\n",
    "\n",
    "detailed_data_per_dep_UY['departamento'] = detailed_data_per_dep_UY['departamento'].str[:-7]"
   ]
  },
  {
   "cell_type": "code",
   "execution_count": 69,
   "metadata": {
    "scrolled": true
   },
   "outputs": [
    {
     "data": {
      "text/html": [
       "<div>\n",
       "<style scoped>\n",
       "    .dataframe tbody tr th:only-of-type {\n",
       "        vertical-align: middle;\n",
       "    }\n",
       "\n",
       "    .dataframe tbody tr th {\n",
       "        vertical-align: top;\n",
       "    }\n",
       "\n",
       "    .dataframe thead th {\n",
       "        text-align: right;\n",
       "    }\n",
       "</style>\n",
       "<table border=\"1\" class=\"dataframe\">\n",
       "  <thead>\n",
       "    <tr style=\"text-align: right;\">\n",
       "      <th></th>\n",
       "      <th>fecha</th>\n",
       "      <th>departamento</th>\n",
       "      <th>enCurso</th>\n",
       "      <th>cantCasosNuevosConsolidado</th>\n",
       "      <th>cantFallecidos</th>\n",
       "      <th>acumFallecidos</th>\n",
       "      <th>acumcasos</th>\n",
       "    </tr>\n",
       "  </thead>\n",
       "  <tbody>\n",
       "    <tr>\n",
       "      <th>0</th>\n",
       "      <td>2020-04-29</td>\n",
       "      <td>Artigas</td>\n",
       "      <td>0</td>\n",
       "      <td>0</td>\n",
       "      <td>0</td>\n",
       "      <td>0</td>\n",
       "      <td>0</td>\n",
       "    </tr>\n",
       "    <tr>\n",
       "      <th>1</th>\n",
       "      <td>2020-04-29</td>\n",
       "      <td>Canelones</td>\n",
       "      <td>17</td>\n",
       "      <td>0</td>\n",
       "      <td>0</td>\n",
       "      <td>2</td>\n",
       "      <td>85</td>\n",
       "    </tr>\n",
       "    <tr>\n",
       "      <th>2</th>\n",
       "      <td>2020-04-29</td>\n",
       "      <td>Cerro Largo</td>\n",
       "      <td>0</td>\n",
       "      <td>0</td>\n",
       "      <td>0</td>\n",
       "      <td>0</td>\n",
       "      <td>0</td>\n",
       "    </tr>\n",
       "    <tr>\n",
       "      <th>3</th>\n",
       "      <td>2020-04-29</td>\n",
       "      <td>Colonia</td>\n",
       "      <td>2</td>\n",
       "      <td>0</td>\n",
       "      <td>0</td>\n",
       "      <td>0</td>\n",
       "      <td>8</td>\n",
       "    </tr>\n",
       "    <tr>\n",
       "      <th>4</th>\n",
       "      <td>2020-04-29</td>\n",
       "      <td>Durazno</td>\n",
       "      <td>0</td>\n",
       "      <td>0</td>\n",
       "      <td>0</td>\n",
       "      <td>0</td>\n",
       "      <td>1</td>\n",
       "    </tr>\n",
       "  </tbody>\n",
       "</table>\n",
       "</div>"
      ],
      "text/plain": [
       "       fecha departamento  enCurso  cantCasosNuevosConsolidado  \\\n",
       "0 2020-04-29      Artigas        0                           0   \n",
       "1 2020-04-29    Canelones       17                           0   \n",
       "2 2020-04-29  Cerro Largo        0                           0   \n",
       "3 2020-04-29      Colonia        2                           0   \n",
       "4 2020-04-29      Durazno        0                           0   \n",
       "\n",
       "   cantFallecidos  acumFallecidos  acumcasos  \n",
       "0               0               0          0  \n",
       "1               0               2         85  \n",
       "2               0               0          0  \n",
       "3               0               0          8  \n",
       "4               0               0          1  "
      ]
     },
     "execution_count": 69,
     "metadata": {},
     "output_type": "execute_result"
    }
   ],
   "source": [
    "detailed_data_per_dep_UY.head()"
   ]
  },
  {
   "cell_type": "markdown",
   "metadata": {},
   "source": [
    "<a id = 'Sección2.3'></a>"
   ]
  },
  {
   "cell_type": "markdown",
   "metadata": {},
   "source": [
    "### 2.3. Datos vacunación a nivel nacional"
   ]
  },
  {
   "cell_type": "code",
   "execution_count": 70,
   "metadata": {},
   "outputs": [],
   "source": [
    "vaccination_UY = pd.read_csv (r\"Datos covid Uruguay\\Uruguay.csv\",\n",
    "                    usecols = ['date', 'people_vaccinated','people_fully_vaccinated','daily_vaccinated',\n",
    "                               'daily_coronavac', 'total_coronavac','people_coronavac', 'fully_coronavac', 'daily_pfizer', \n",
    "                               'total_pfizer', 'people_pfizer', 'fully_pfizer', 'daily_astrazeneca', 'total_astrazeneca', \n",
    "                               'people_astrazeneca', 'fully_astrazeneca', 'total_boosters', 'daily_boosters']) "
   ]
  },
  {
   "cell_type": "code",
   "execution_count": 71,
   "metadata": {},
   "outputs": [],
   "source": [
    "vaccination_UY ['date'] = pd.to_datetime (vaccination_UY ['date'], errors = 'coerce')"
   ]
  },
  {
   "cell_type": "code",
   "execution_count": 72,
   "metadata": {
    "scrolled": true
   },
   "outputs": [
    {
     "data": {
      "text/html": [
       "<div>\n",
       "<style scoped>\n",
       "    .dataframe tbody tr th:only-of-type {\n",
       "        vertical-align: middle;\n",
       "    }\n",
       "\n",
       "    .dataframe tbody tr th {\n",
       "        vertical-align: top;\n",
       "    }\n",
       "\n",
       "    .dataframe thead th {\n",
       "        text-align: right;\n",
       "    }\n",
       "</style>\n",
       "<table border=\"1\" class=\"dataframe\">\n",
       "  <thead>\n",
       "    <tr style=\"text-align: right;\">\n",
       "      <th></th>\n",
       "      <th>date</th>\n",
       "      <th>people_vaccinated</th>\n",
       "      <th>people_fully_vaccinated</th>\n",
       "      <th>daily_vaccinated</th>\n",
       "      <th>daily_coronavac</th>\n",
       "      <th>total_coronavac</th>\n",
       "      <th>people_coronavac</th>\n",
       "      <th>fully_coronavac</th>\n",
       "      <th>daily_pfizer</th>\n",
       "      <th>total_pfizer</th>\n",
       "      <th>people_pfizer</th>\n",
       "      <th>fully_pfizer</th>\n",
       "      <th>daily_astrazeneca</th>\n",
       "      <th>total_astrazeneca</th>\n",
       "      <th>people_astrazeneca</th>\n",
       "      <th>fully_astrazeneca</th>\n",
       "      <th>total_boosters</th>\n",
       "      <th>daily_boosters</th>\n",
       "    </tr>\n",
       "  </thead>\n",
       "  <tbody>\n",
       "    <tr>\n",
       "      <th>243</th>\n",
       "      <td>2021-10-28</td>\n",
       "      <td>2759854</td>\n",
       "      <td>2618499</td>\n",
       "      <td>9592</td>\n",
       "      <td>4</td>\n",
       "      <td>3246235</td>\n",
       "      <td>3</td>\n",
       "      <td>1</td>\n",
       "      <td>1458</td>\n",
       "      <td>2045515</td>\n",
       "      <td>571</td>\n",
       "      <td>887</td>\n",
       "      <td>0</td>\n",
       "      <td>86603</td>\n",
       "      <td>0</td>\n",
       "      <td>0</td>\n",
       "      <td>1216945</td>\n",
       "      <td>8130</td>\n",
       "    </tr>\n",
       "    <tr>\n",
       "      <th>244</th>\n",
       "      <td>2021-10-29</td>\n",
       "      <td>2760962</td>\n",
       "      <td>2620217</td>\n",
       "      <td>19172</td>\n",
       "      <td>7</td>\n",
       "      <td>3246242</td>\n",
       "      <td>4</td>\n",
       "      <td>3</td>\n",
       "      <td>2819</td>\n",
       "      <td>2048334</td>\n",
       "      <td>1104</td>\n",
       "      <td>1715</td>\n",
       "      <td>0</td>\n",
       "      <td>86603</td>\n",
       "      <td>0</td>\n",
       "      <td>0</td>\n",
       "      <td>1233291</td>\n",
       "      <td>16346</td>\n",
       "    </tr>\n",
       "    <tr>\n",
       "      <th>245</th>\n",
       "      <td>2021-10-30</td>\n",
       "      <td>2760995</td>\n",
       "      <td>2620254</td>\n",
       "      <td>149</td>\n",
       "      <td>0</td>\n",
       "      <td>3246242</td>\n",
       "      <td>0</td>\n",
       "      <td>0</td>\n",
       "      <td>70</td>\n",
       "      <td>2048404</td>\n",
       "      <td>33</td>\n",
       "      <td>37</td>\n",
       "      <td>0</td>\n",
       "      <td>86603</td>\n",
       "      <td>0</td>\n",
       "      <td>0</td>\n",
       "      <td>1233370</td>\n",
       "      <td>79</td>\n",
       "    </tr>\n",
       "    <tr>\n",
       "      <th>246</th>\n",
       "      <td>2021-10-31</td>\n",
       "      <td>2760995</td>\n",
       "      <td>2620254</td>\n",
       "      <td>0</td>\n",
       "      <td>0</td>\n",
       "      <td>3246242</td>\n",
       "      <td>0</td>\n",
       "      <td>0</td>\n",
       "      <td>0</td>\n",
       "      <td>2048404</td>\n",
       "      <td>0</td>\n",
       "      <td>0</td>\n",
       "      <td>0</td>\n",
       "      <td>86603</td>\n",
       "      <td>0</td>\n",
       "      <td>0</td>\n",
       "      <td>1233370</td>\n",
       "      <td>0</td>\n",
       "    </tr>\n",
       "    <tr>\n",
       "      <th>247</th>\n",
       "      <td>2021-11-01</td>\n",
       "      <td>2761224</td>\n",
       "      <td>2620412</td>\n",
       "      <td>699</td>\n",
       "      <td>0</td>\n",
       "      <td>3246242</td>\n",
       "      <td>0</td>\n",
       "      <td>0</td>\n",
       "      <td>387</td>\n",
       "      <td>2048791</td>\n",
       "      <td>229</td>\n",
       "      <td>158</td>\n",
       "      <td>0</td>\n",
       "      <td>86603</td>\n",
       "      <td>0</td>\n",
       "      <td>0</td>\n",
       "      <td>1233682</td>\n",
       "      <td>312</td>\n",
       "    </tr>\n",
       "  </tbody>\n",
       "</table>\n",
       "</div>"
      ],
      "text/plain": [
       "          date  people_vaccinated  people_fully_vaccinated  daily_vaccinated  \\\n",
       "243 2021-10-28            2759854                  2618499              9592   \n",
       "244 2021-10-29            2760962                  2620217             19172   \n",
       "245 2021-10-30            2760995                  2620254               149   \n",
       "246 2021-10-31            2760995                  2620254                 0   \n",
       "247 2021-11-01            2761224                  2620412               699   \n",
       "\n",
       "     daily_coronavac  total_coronavac  people_coronavac  fully_coronavac  \\\n",
       "243                4          3246235                 3                1   \n",
       "244                7          3246242                 4                3   \n",
       "245                0          3246242                 0                0   \n",
       "246                0          3246242                 0                0   \n",
       "247                0          3246242                 0                0   \n",
       "\n",
       "     daily_pfizer  total_pfizer  people_pfizer  fully_pfizer  \\\n",
       "243          1458       2045515            571           887   \n",
       "244          2819       2048334           1104          1715   \n",
       "245            70       2048404             33            37   \n",
       "246             0       2048404              0             0   \n",
       "247           387       2048791            229           158   \n",
       "\n",
       "     daily_astrazeneca  total_astrazeneca  people_astrazeneca  \\\n",
       "243                  0              86603                   0   \n",
       "244                  0              86603                   0   \n",
       "245                  0              86603                   0   \n",
       "246                  0              86603                   0   \n",
       "247                  0              86603                   0   \n",
       "\n",
       "     fully_astrazeneca  total_boosters  daily_boosters  \n",
       "243                  0         1216945            8130  \n",
       "244                  0         1233291           16346  \n",
       "245                  0         1233370              79  \n",
       "246                  0         1233370               0  \n",
       "247                  0         1233682             312  "
      ]
     },
     "execution_count": 72,
     "metadata": {},
     "output_type": "execute_result"
    }
   ],
   "source": [
    "vaccination_UY.tail()"
   ]
  },
  {
   "cell_type": "markdown",
   "metadata": {},
   "source": [
    "<a id = 'Sección3'></a>"
   ]
  },
  {
   "cell_type": "markdown",
   "metadata": {},
   "source": [
    "## 3. Índice de rigurosidad para Chile y Uruguay"
   ]
  },
  {
   "cell_type": "markdown",
   "metadata": {},
   "source": [
    "El índice de rigurosidad corresponde a un indicador desarrollado por la Universidad de Oxford que recopila información sistemática sobre las medidas políticas que los gobiernos han tomado para abordar el COVID-19. Evalúa un total de 23 medidas, entre las cuales se encuentran: cierre de escuelas, restricciones a los viajes y política de vacunación. El índice de rigurosidad se mide en una escala del 0 al 100, donde 100 indica el uso de las medidas más estrictas. Para más información visitar [COVID-19 Government Response Tracker](https://www.bsg.ox.ac.uk/research/research-projects/covid-19-government-response-tracker).  \n",
    "\n",
    "Los datos históricos del índice de rigurosidad fueron obtenidos de [Our World in Data](https://ourworldindata.org/coronavirus)."
   ]
  },
  {
   "cell_type": "code",
   "execution_count": 73,
   "metadata": {},
   "outputs": [],
   "source": [
    "stringency_index = pd.read_csv (r\"Datos covid One World\\owid-covid-data.csv\",\n",
    "                 usecols = ['location', 'date', 'stringency_index'] )"
   ]
  },
  {
   "cell_type": "code",
   "execution_count": 74,
   "metadata": {},
   "outputs": [],
   "source": [
    "# Se filtran los datos para que aparezcan solo aquellas filas correspondientes a Chile y Uruguay.\n",
    "\n",
    "stringency_index = stringency_index [(stringency_index ['location'] == 'Chile') | (stringency_index ['location'] == 'Uruguay')]"
   ]
  },
  {
   "cell_type": "code",
   "execution_count": 75,
   "metadata": {},
   "outputs": [],
   "source": [
    "stringency_index.reset_index (drop = True, inplace = True)"
   ]
  },
  {
   "cell_type": "code",
   "execution_count": 76,
   "metadata": {},
   "outputs": [],
   "source": [
    "stringency_index ['date'] = pd.to_datetime (stringency_index ['date'], errors = 'coerce')"
   ]
  },
  {
   "cell_type": "code",
   "execution_count": 77,
   "metadata": {},
   "outputs": [],
   "source": [
    "stringency_index.rename(columns={'location':'País','date':'Fecha','stringency_index':'Índice de rigurosidad'}, inplace=True)"
   ]
  },
  {
   "cell_type": "code",
   "execution_count": 78,
   "metadata": {},
   "outputs": [
    {
     "data": {
      "text/html": [
       "<div>\n",
       "<style scoped>\n",
       "    .dataframe tbody tr th:only-of-type {\n",
       "        vertical-align: middle;\n",
       "    }\n",
       "\n",
       "    .dataframe tbody tr th {\n",
       "        vertical-align: top;\n",
       "    }\n",
       "\n",
       "    .dataframe thead th {\n",
       "        text-align: right;\n",
       "    }\n",
       "</style>\n",
       "<table border=\"1\" class=\"dataframe\">\n",
       "  <thead>\n",
       "    <tr style=\"text-align: right;\">\n",
       "      <th></th>\n",
       "      <th>País</th>\n",
       "      <th>Fecha</th>\n",
       "      <th>Índice de rigurosidad</th>\n",
       "    </tr>\n",
       "  </thead>\n",
       "  <tbody>\n",
       "    <tr>\n",
       "      <th>0</th>\n",
       "      <td>Chile</td>\n",
       "      <td>2020-02-23</td>\n",
       "      <td>0.00</td>\n",
       "    </tr>\n",
       "    <tr>\n",
       "      <th>1</th>\n",
       "      <td>Chile</td>\n",
       "      <td>2020-02-24</td>\n",
       "      <td>0.00</td>\n",
       "    </tr>\n",
       "    <tr>\n",
       "      <th>2</th>\n",
       "      <td>Chile</td>\n",
       "      <td>2020-02-25</td>\n",
       "      <td>0.00</td>\n",
       "    </tr>\n",
       "    <tr>\n",
       "      <th>3</th>\n",
       "      <td>Chile</td>\n",
       "      <td>2020-02-26</td>\n",
       "      <td>0.00</td>\n",
       "    </tr>\n",
       "    <tr>\n",
       "      <th>4</th>\n",
       "      <td>Chile</td>\n",
       "      <td>2020-02-27</td>\n",
       "      <td>0.00</td>\n",
       "    </tr>\n",
       "    <tr>\n",
       "      <th>...</th>\n",
       "      <td>...</td>\n",
       "      <td>...</td>\n",
       "      <td>...</td>\n",
       "    </tr>\n",
       "    <tr>\n",
       "      <th>995</th>\n",
       "      <td>Uruguay</td>\n",
       "      <td>2021-03-26</td>\n",
       "      <td>87.04</td>\n",
       "    </tr>\n",
       "    <tr>\n",
       "      <th>996</th>\n",
       "      <td>Uruguay</td>\n",
       "      <td>2021-03-27</td>\n",
       "      <td>87.04</td>\n",
       "    </tr>\n",
       "    <tr>\n",
       "      <th>997</th>\n",
       "      <td>Uruguay</td>\n",
       "      <td>2021-03-28</td>\n",
       "      <td>87.04</td>\n",
       "    </tr>\n",
       "    <tr>\n",
       "      <th>998</th>\n",
       "      <td>Uruguay</td>\n",
       "      <td>2021-03-29</td>\n",
       "      <td>87.04</td>\n",
       "    </tr>\n",
       "    <tr>\n",
       "      <th>999</th>\n",
       "      <td>Uruguay</td>\n",
       "      <td>2021-03-30</td>\n",
       "      <td>87.04</td>\n",
       "    </tr>\n",
       "  </tbody>\n",
       "</table>\n",
       "<p>1000 rows × 3 columns</p>\n",
       "</div>"
      ],
      "text/plain": [
       "        País      Fecha  Índice de rigurosidad\n",
       "0      Chile 2020-02-23                   0.00\n",
       "1      Chile 2020-02-24                   0.00\n",
       "2      Chile 2020-02-25                   0.00\n",
       "3      Chile 2020-02-26                   0.00\n",
       "4      Chile 2020-02-27                   0.00\n",
       "..       ...        ...                    ...\n",
       "995  Uruguay 2021-03-26                  87.04\n",
       "996  Uruguay 2021-03-27                  87.04\n",
       "997  Uruguay 2021-03-28                  87.04\n",
       "998  Uruguay 2021-03-29                  87.04\n",
       "999  Uruguay 2021-03-30                  87.04\n",
       "\n",
       "[1000 rows x 3 columns]"
      ]
     },
     "execution_count": 78,
     "metadata": {},
     "output_type": "execute_result"
    }
   ],
   "source": [
    "stringency_index.head(1000)"
   ]
  },
  {
   "cell_type": "markdown",
   "metadata": {},
   "source": [
    "<a id = 'Sección4'></a>"
   ]
  },
  {
   "cell_type": "markdown",
   "metadata": {},
   "source": [
    "## 4. Cantidad de habitantes"
   ]
  },
  {
   "cell_type": "markdown",
   "metadata": {},
   "source": [
    "Para posteriores análisis, es necesario contar con la cantidad de habitantes total, por región/departamento y por rangos etarios. Es por ello se utilizan las proyección de la población realizadas por el Instituo Nacional de Estadística de [Chile](https://www.ine.cl/estadisticas/sociales/demografia-y-vitales/proyecciones-de-poblacion) y [Uruguay](https://www.ine.gub.uy/estimaciones-y-proyecciones) para el año 2020."
   ]
  },
  {
   "cell_type": "markdown",
   "metadata": {},
   "source": [
    "<a id = 'Sección4.1'></a>"
   ]
  },
  {
   "cell_type": "markdown",
   "metadata": {},
   "source": [
    "### 4.1. Cantidad de habitantes en Chile"
   ]
  },
  {
   "cell_type": "markdown",
   "metadata": {},
   "source": [
    "<a id = 'Sección4.1.1'></a>"
   ]
  },
  {
   "cell_type": "markdown",
   "metadata": {},
   "source": [
    "#### 4.1.1. Cantidad de habitantes por región"
   ]
  },
  {
   "cell_type": "code",
   "execution_count": 79,
   "metadata": {},
   "outputs": [],
   "source": [
    "population_CH = pd.read_csv (r\"Datos Covid Chile\\PCR_T.csv\", nrows = 2, index_col = 0)"
   ]
  },
  {
   "cell_type": "code",
   "execution_count": 80,
   "metadata": {},
   "outputs": [],
   "source": [
    "population_CH = population_CH.iloc [[1]]"
   ]
  },
  {
   "cell_type": "code",
   "execution_count": 81,
   "metadata": {},
   "outputs": [],
   "source": [
    "population_CH = population_CH.transpose()"
   ]
  },
  {
   "cell_type": "code",
   "execution_count": 82,
   "metadata": {},
   "outputs": [],
   "source": [
    "population_CH.reset_index (inplace = True)"
   ]
  },
  {
   "cell_type": "code",
   "execution_count": 83,
   "metadata": {},
   "outputs": [],
   "source": [
    "population_CH.rename_axis (None, axis = 1, inplace= True)"
   ]
  },
  {
   "cell_type": "code",
   "execution_count": 84,
   "metadata": {},
   "outputs": [],
   "source": [
    "population_CH.rename (columns = {'index':'Region'}, inplace = True)"
   ]
  },
  {
   "cell_type": "code",
   "execution_count": 85,
   "metadata": {},
   "outputs": [
    {
     "data": {
      "text/html": [
       "<div>\n",
       "<style scoped>\n",
       "    .dataframe tbody tr th:only-of-type {\n",
       "        vertical-align: middle;\n",
       "    }\n",
       "\n",
       "    .dataframe tbody tr th {\n",
       "        vertical-align: top;\n",
       "    }\n",
       "\n",
       "    .dataframe thead th {\n",
       "        text-align: right;\n",
       "    }\n",
       "</style>\n",
       "<table border=\"1\" class=\"dataframe\">\n",
       "  <thead>\n",
       "    <tr style=\"text-align: right;\">\n",
       "      <th></th>\n",
       "      <th>Region</th>\n",
       "      <th>Poblacion</th>\n",
       "    </tr>\n",
       "  </thead>\n",
       "  <tbody>\n",
       "    <tr>\n",
       "      <th>0</th>\n",
       "      <td>Arica y Parinacota</td>\n",
       "      <td>252110</td>\n",
       "    </tr>\n",
       "    <tr>\n",
       "      <th>1</th>\n",
       "      <td>Tarapacá</td>\n",
       "      <td>382773</td>\n",
       "    </tr>\n",
       "    <tr>\n",
       "      <th>2</th>\n",
       "      <td>Antofagasta</td>\n",
       "      <td>691854</td>\n",
       "    </tr>\n",
       "    <tr>\n",
       "      <th>3</th>\n",
       "      <td>Atacama</td>\n",
       "      <td>314709</td>\n",
       "    </tr>\n",
       "    <tr>\n",
       "      <th>4</th>\n",
       "      <td>Coquimbo</td>\n",
       "      <td>836096</td>\n",
       "    </tr>\n",
       "    <tr>\n",
       "      <th>5</th>\n",
       "      <td>Valparaíso</td>\n",
       "      <td>1960170</td>\n",
       "    </tr>\n",
       "    <tr>\n",
       "      <th>6</th>\n",
       "      <td>Metropolitana</td>\n",
       "      <td>8125072</td>\n",
       "    </tr>\n",
       "    <tr>\n",
       "      <th>7</th>\n",
       "      <td>O’Higgins</td>\n",
       "      <td>991063</td>\n",
       "    </tr>\n",
       "    <tr>\n",
       "      <th>8</th>\n",
       "      <td>Maule</td>\n",
       "      <td>1131939</td>\n",
       "    </tr>\n",
       "    <tr>\n",
       "      <th>9</th>\n",
       "      <td>Ñuble</td>\n",
       "      <td>511551</td>\n",
       "    </tr>\n",
       "    <tr>\n",
       "      <th>10</th>\n",
       "      <td>Biobío</td>\n",
       "      <td>1663696</td>\n",
       "    </tr>\n",
       "    <tr>\n",
       "      <th>11</th>\n",
       "      <td>Araucanía</td>\n",
       "      <td>1014343</td>\n",
       "    </tr>\n",
       "    <tr>\n",
       "      <th>12</th>\n",
       "      <td>Los Ríos</td>\n",
       "      <td>405835</td>\n",
       "    </tr>\n",
       "    <tr>\n",
       "      <th>13</th>\n",
       "      <td>Los Lagos</td>\n",
       "      <td>891440</td>\n",
       "    </tr>\n",
       "    <tr>\n",
       "      <th>14</th>\n",
       "      <td>Aysén</td>\n",
       "      <td>107297</td>\n",
       "    </tr>\n",
       "    <tr>\n",
       "      <th>15</th>\n",
       "      <td>Magallanes</td>\n",
       "      <td>178362</td>\n",
       "    </tr>\n",
       "  </tbody>\n",
       "</table>\n",
       "</div>"
      ],
      "text/plain": [
       "                Region  Poblacion\n",
       "0   Arica y Parinacota     252110\n",
       "1             Tarapacá     382773\n",
       "2          Antofagasta     691854\n",
       "3              Atacama     314709\n",
       "4             Coquimbo     836096\n",
       "5           Valparaíso    1960170\n",
       "6        Metropolitana    8125072\n",
       "7            O’Higgins     991063\n",
       "8                Maule    1131939\n",
       "9                Ñuble     511551\n",
       "10              Biobío    1663696\n",
       "11           Araucanía    1014343\n",
       "12            Los Ríos     405835\n",
       "13           Los Lagos     891440\n",
       "14               Aysén     107297\n",
       "15          Magallanes     178362"
      ]
     },
     "execution_count": 85,
     "metadata": {},
     "output_type": "execute_result"
    }
   ],
   "source": [
    "population_CH"
   ]
  },
  {
   "cell_type": "markdown",
   "metadata": {},
   "source": [
    "<a id = 'Sección4.1.2'></a>"
   ]
  },
  {
   "cell_type": "markdown",
   "metadata": {},
   "source": [
    "#### 4.1.2. Cantidad de habitantes por rango etario"
   ]
  },
  {
   "cell_type": "code",
   "execution_count": 86,
   "metadata": {},
   "outputs": [],
   "source": [
    "ine_pop_per_age_CH = pd.read_csv (r\"Datos Covid Chile\\ine_estimaciones_y_proyecciones_de_población.csv\", sep =';',usecols=['EDAD','2020'])"
   ]
  },
  {
   "cell_type": "code",
   "execution_count": 87,
   "metadata": {},
   "outputs": [],
   "source": [
    "ine_pop_per_age_CH.dropna(inplace=True)"
   ]
  },
  {
   "cell_type": "code",
   "execution_count": 88,
   "metadata": {},
   "outputs": [
    {
     "data": {
      "text/html": [
       "<div>\n",
       "<style scoped>\n",
       "    .dataframe tbody tr th:only-of-type {\n",
       "        vertical-align: middle;\n",
       "    }\n",
       "\n",
       "    .dataframe tbody tr th {\n",
       "        vertical-align: top;\n",
       "    }\n",
       "\n",
       "    .dataframe thead th {\n",
       "        text-align: right;\n",
       "    }\n",
       "</style>\n",
       "<table border=\"1\" class=\"dataframe\">\n",
       "  <thead>\n",
       "    <tr style=\"text-align: right;\">\n",
       "      <th></th>\n",
       "      <th>EDAD</th>\n",
       "      <th>2020</th>\n",
       "    </tr>\n",
       "  </thead>\n",
       "  <tbody>\n",
       "    <tr>\n",
       "      <th>0</th>\n",
       "      <td>0</td>\n",
       "      <td>234728</td>\n",
       "    </tr>\n",
       "    <tr>\n",
       "      <th>1</th>\n",
       "      <td>1</td>\n",
       "      <td>231718</td>\n",
       "    </tr>\n",
       "    <tr>\n",
       "      <th>2</th>\n",
       "      <td>2</td>\n",
       "      <td>231894</td>\n",
       "    </tr>\n",
       "    <tr>\n",
       "      <th>3</th>\n",
       "      <td>3</td>\n",
       "      <td>239289</td>\n",
       "    </tr>\n",
       "    <tr>\n",
       "      <th>4</th>\n",
       "      <td>4</td>\n",
       "      <td>252753</td>\n",
       "    </tr>\n",
       "    <tr>\n",
       "      <th>...</th>\n",
       "      <td>...</td>\n",
       "      <td>...</td>\n",
       "    </tr>\n",
       "    <tr>\n",
       "      <th>97</th>\n",
       "      <td>97</td>\n",
       "      <td>3946</td>\n",
       "    </tr>\n",
       "    <tr>\n",
       "      <th>98</th>\n",
       "      <td>98</td>\n",
       "      <td>2825</td>\n",
       "    </tr>\n",
       "    <tr>\n",
       "      <th>99</th>\n",
       "      <td>99</td>\n",
       "      <td>2004</td>\n",
       "    </tr>\n",
       "    <tr>\n",
       "      <th>100</th>\n",
       "      <td>100+</td>\n",
       "      <td>4494</td>\n",
       "    </tr>\n",
       "    <tr>\n",
       "      <th>101</th>\n",
       "      <td>TOTAL</td>\n",
       "      <td>19458310</td>\n",
       "    </tr>\n",
       "  </tbody>\n",
       "</table>\n",
       "<p>102 rows × 2 columns</p>\n",
       "</div>"
      ],
      "text/plain": [
       "      EDAD      2020\n",
       "0        0    234728\n",
       "1        1    231718\n",
       "2        2    231894\n",
       "3        3    239289\n",
       "4        4    252753\n",
       "..     ...       ...\n",
       "97      97      3946\n",
       "98      98      2825\n",
       "99      99      2004\n",
       "100   100+      4494\n",
       "101  TOTAL  19458310\n",
       "\n",
       "[102 rows x 2 columns]"
      ]
     },
     "execution_count": 88,
     "metadata": {},
     "output_type": "execute_result"
    }
   ],
   "source": [
    "ine_pop_per_age_CH"
   ]
  },
  {
   "cell_type": "code",
   "execution_count": 89,
   "metadata": {},
   "outputs": [],
   "source": [
    "pop_per_age_CH = pd.Series(dtype = 'float64')"
   ]
  },
  {
   "cell_type": "code",
   "execution_count": 90,
   "metadata": {},
   "outputs": [],
   "source": [
    "pop_per_age_CH ['12 a 17 años'] = ine_pop_per_age_CH.iloc [12:18,1].sum()"
   ]
  },
  {
   "cell_type": "code",
   "execution_count": 91,
   "metadata": {},
   "outputs": [],
   "source": [
    "pop_per_age_CH ['18 a 24 años'] = ine_pop_per_age_CH.iloc [18:25,1].sum()"
   ]
  },
  {
   "cell_type": "code",
   "execution_count": 92,
   "metadata": {},
   "outputs": [],
   "source": [
    "pop_per_age_CH ['25 a 34 años'] = ine_pop_per_age_CH.iloc [25:35,1].sum()"
   ]
  },
  {
   "cell_type": "code",
   "execution_count": 93,
   "metadata": {},
   "outputs": [],
   "source": [
    "pop_per_age_CH ['35 a 44 años'] = ine_pop_per_age_CH.iloc [35:45,1].sum()"
   ]
  },
  {
   "cell_type": "code",
   "execution_count": 94,
   "metadata": {},
   "outputs": [],
   "source": [
    "pop_per_age_CH ['45 a 54 años'] = ine_pop_per_age_CH.iloc [45:55,1].sum()"
   ]
  },
  {
   "cell_type": "code",
   "execution_count": 95,
   "metadata": {},
   "outputs": [],
   "source": [
    "pop_per_age_CH ['55 a 64 años'] = ine_pop_per_age_CH.iloc [55:65,1].sum()"
   ]
  },
  {
   "cell_type": "code",
   "execution_count": 96,
   "metadata": {},
   "outputs": [],
   "source": [
    "pop_per_age_CH ['65 a 74 años'] = ine_pop_per_age_CH.iloc [65:75,1].sum()"
   ]
  },
  {
   "cell_type": "code",
   "execution_count": 97,
   "metadata": {},
   "outputs": [],
   "source": [
    "# No se contabiliza la última fila, puesto que contiene el total de habitantes.\n",
    "\n",
    "pop_per_age_CH ['75 o más años'] = ine_pop_per_age_CH.iloc [75:-1,1].sum()"
   ]
  },
  {
   "cell_type": "code",
   "execution_count": 98,
   "metadata": {},
   "outputs": [],
   "source": [
    "pop_per_age_CH = pop_per_age_CH.to_frame()"
   ]
  },
  {
   "cell_type": "code",
   "execution_count": 99,
   "metadata": {},
   "outputs": [],
   "source": [
    "pop_per_age_CH.reset_index(inplace=True)"
   ]
  },
  {
   "cell_type": "code",
   "execution_count": 100,
   "metadata": {},
   "outputs": [],
   "source": [
    "pop_per_age_CH.columns =['Rango de edad', 'Población']"
   ]
  },
  {
   "cell_type": "code",
   "execution_count": 101,
   "metadata": {},
   "outputs": [
    {
     "data": {
      "text/html": [
       "<div>\n",
       "<style scoped>\n",
       "    .dataframe tbody tr th:only-of-type {\n",
       "        vertical-align: middle;\n",
       "    }\n",
       "\n",
       "    .dataframe tbody tr th {\n",
       "        vertical-align: top;\n",
       "    }\n",
       "\n",
       "    .dataframe thead th {\n",
       "        text-align: right;\n",
       "    }\n",
       "</style>\n",
       "<table border=\"1\" class=\"dataframe\">\n",
       "  <thead>\n",
       "    <tr style=\"text-align: right;\">\n",
       "      <th></th>\n",
       "      <th>Rango de edad</th>\n",
       "      <th>Población</th>\n",
       "    </tr>\n",
       "  </thead>\n",
       "  <tbody>\n",
       "    <tr>\n",
       "      <th>0</th>\n",
       "      <td>12 a 17 años</td>\n",
       "      <td>1480623</td>\n",
       "    </tr>\n",
       "    <tr>\n",
       "      <th>1</th>\n",
       "      <td>18 a 24 años</td>\n",
       "      <td>1965314</td>\n",
       "    </tr>\n",
       "    <tr>\n",
       "      <th>2</th>\n",
       "      <td>25 a 34 años</td>\n",
       "      <td>3245358</td>\n",
       "    </tr>\n",
       "    <tr>\n",
       "      <th>3</th>\n",
       "      <td>35 a 44 años</td>\n",
       "      <td>2782247</td>\n",
       "    </tr>\n",
       "    <tr>\n",
       "      <th>4</th>\n",
       "      <td>45 a 54 años</td>\n",
       "      <td>2495938</td>\n",
       "    </tr>\n",
       "    <tr>\n",
       "      <th>5</th>\n",
       "      <td>55 a 64 años</td>\n",
       "      <td>2134870</td>\n",
       "    </tr>\n",
       "    <tr>\n",
       "      <th>6</th>\n",
       "      <td>65 a 74 años</td>\n",
       "      <td>1397997</td>\n",
       "    </tr>\n",
       "    <tr>\n",
       "      <th>7</th>\n",
       "      <td>75 o más años</td>\n",
       "      <td>960619</td>\n",
       "    </tr>\n",
       "  </tbody>\n",
       "</table>\n",
       "</div>"
      ],
      "text/plain": [
       "   Rango de edad  Población\n",
       "0   12 a 17 años    1480623\n",
       "1   18 a 24 años    1965314\n",
       "2   25 a 34 años    3245358\n",
       "3   35 a 44 años    2782247\n",
       "4   45 a 54 años    2495938\n",
       "5   55 a 64 años    2134870\n",
       "6   65 a 74 años    1397997\n",
       "7  75 o más años     960619"
      ]
     },
     "execution_count": 101,
     "metadata": {},
     "output_type": "execute_result"
    }
   ],
   "source": [
    "pop_per_age_CH"
   ]
  },
  {
   "cell_type": "markdown",
   "metadata": {},
   "source": [
    "<a id = 'Sección4.1.3'></a>"
   ]
  },
  {
   "cell_type": "markdown",
   "metadata": {},
   "source": [
    "#### 4.1.3. Cantidad total de habitantes"
   ]
  },
  {
   "cell_type": "code",
   "execution_count": 102,
   "metadata": {},
   "outputs": [
    {
     "data": {
      "text/plain": [
       "19458310"
      ]
     },
     "execution_count": 102,
     "metadata": {},
     "output_type": "execute_result"
    }
   ],
   "source": [
    "total_pop_CH = population_CH['Poblacion'].sum()\n",
    "total_pop_CH"
   ]
  },
  {
   "cell_type": "markdown",
   "metadata": {},
   "source": [
    "<a id = 'Sección4.2'></a>"
   ]
  },
  {
   "cell_type": "markdown",
   "metadata": {},
   "source": [
    "### 4.2 Cantidad de habitantes en Uruguay"
   ]
  },
  {
   "cell_type": "markdown",
   "metadata": {},
   "source": [
    "<a id = 'Sección4.2.1'></a>"
   ]
  },
  {
   "cell_type": "markdown",
   "metadata": {},
   "source": [
    "#### 4.2.1. Cantidad de habitantes por departamento"
   ]
  },
  {
   "cell_type": "code",
   "execution_count": 103,
   "metadata": {},
   "outputs": [],
   "source": [
    "population_UY = pd.read_excel (r\"Datos covid Uruguay\\INE población Uruguay.xlsx\", sheet_name = 'Pob por dep')"
   ]
  },
  {
   "cell_type": "code",
   "execution_count": 104,
   "metadata": {},
   "outputs": [
    {
     "data": {
      "text/plain": [
       "Index(['Departamento', 'Población'], dtype='object')"
      ]
     },
     "execution_count": 104,
     "metadata": {},
     "output_type": "execute_result"
    }
   ],
   "source": [
    "population_UY.columns"
   ]
  },
  {
   "cell_type": "code",
   "execution_count": 105,
   "metadata": {},
   "outputs": [
    {
     "data": {
      "text/html": [
       "<div>\n",
       "<style scoped>\n",
       "    .dataframe tbody tr th:only-of-type {\n",
       "        vertical-align: middle;\n",
       "    }\n",
       "\n",
       "    .dataframe tbody tr th {\n",
       "        vertical-align: top;\n",
       "    }\n",
       "\n",
       "    .dataframe thead th {\n",
       "        text-align: right;\n",
       "    }\n",
       "</style>\n",
       "<table border=\"1\" class=\"dataframe\">\n",
       "  <thead>\n",
       "    <tr style=\"text-align: right;\">\n",
       "      <th></th>\n",
       "      <th>Departamento</th>\n",
       "      <th>Población</th>\n",
       "    </tr>\n",
       "  </thead>\n",
       "  <tbody>\n",
       "    <tr>\n",
       "      <th>0</th>\n",
       "      <td>Montevideo</td>\n",
       "      <td>1383135</td>\n",
       "    </tr>\n",
       "    <tr>\n",
       "      <th>1</th>\n",
       "      <td>Artigas</td>\n",
       "      <td>74075</td>\n",
       "    </tr>\n",
       "    <tr>\n",
       "      <th>2</th>\n",
       "      <td>Canelones</td>\n",
       "      <td>603750</td>\n",
       "    </tr>\n",
       "    <tr>\n",
       "      <th>3</th>\n",
       "      <td>Cerro Largo</td>\n",
       "      <td>89630</td>\n",
       "    </tr>\n",
       "    <tr>\n",
       "      <th>4</th>\n",
       "      <td>Colonia</td>\n",
       "      <td>131297</td>\n",
       "    </tr>\n",
       "    <tr>\n",
       "      <th>5</th>\n",
       "      <td>Durazno</td>\n",
       "      <td>58975</td>\n",
       "    </tr>\n",
       "    <tr>\n",
       "      <th>6</th>\n",
       "      <td>Flores</td>\n",
       "      <td>26485</td>\n",
       "    </tr>\n",
       "    <tr>\n",
       "      <th>7</th>\n",
       "      <td>Florida</td>\n",
       "      <td>69324</td>\n",
       "    </tr>\n",
       "    <tr>\n",
       "      <th>8</th>\n",
       "      <td>Lavalleja</td>\n",
       "      <td>58699</td>\n",
       "    </tr>\n",
       "    <tr>\n",
       "      <th>9</th>\n",
       "      <td>Maldonado</td>\n",
       "      <td>195005</td>\n",
       "    </tr>\n",
       "    <tr>\n",
       "      <th>10</th>\n",
       "      <td>Paysandú</td>\n",
       "      <td>119882</td>\n",
       "    </tr>\n",
       "    <tr>\n",
       "      <th>11</th>\n",
       "      <td>Río Negro</td>\n",
       "      <td>58308</td>\n",
       "    </tr>\n",
       "    <tr>\n",
       "      <th>12</th>\n",
       "      <td>Rivera</td>\n",
       "      <td>109039</td>\n",
       "    </tr>\n",
       "    <tr>\n",
       "      <th>13</th>\n",
       "      <td>Rocha</td>\n",
       "      <td>74238</td>\n",
       "    </tr>\n",
       "    <tr>\n",
       "      <th>14</th>\n",
       "      <td>Salto</td>\n",
       "      <td>133707</td>\n",
       "    </tr>\n",
       "    <tr>\n",
       "      <th>15</th>\n",
       "      <td>San José</td>\n",
       "      <td>118270</td>\n",
       "    </tr>\n",
       "    <tr>\n",
       "      <th>16</th>\n",
       "      <td>Soriano</td>\n",
       "      <td>83714</td>\n",
       "    </tr>\n",
       "    <tr>\n",
       "      <th>17</th>\n",
       "      <td>Tacuarembó</td>\n",
       "      <td>92894</td>\n",
       "    </tr>\n",
       "    <tr>\n",
       "      <th>18</th>\n",
       "      <td>Treinta y Tres</td>\n",
       "      <td>50485</td>\n",
       "    </tr>\n",
       "  </tbody>\n",
       "</table>\n",
       "</div>"
      ],
      "text/plain": [
       "      Departamento  Población\n",
       "0       Montevideo    1383135\n",
       "1          Artigas      74075\n",
       "2        Canelones     603750\n",
       "3      Cerro Largo      89630\n",
       "4          Colonia     131297\n",
       "5          Durazno      58975\n",
       "6           Flores      26485\n",
       "7          Florida      69324\n",
       "8        Lavalleja      58699\n",
       "9        Maldonado     195005\n",
       "10        Paysandú     119882\n",
       "11       Río Negro      58308\n",
       "12          Rivera     109039\n",
       "13           Rocha      74238\n",
       "14           Salto     133707\n",
       "15        San José     118270\n",
       "16         Soriano      83714\n",
       "17      Tacuarembó      92894\n",
       "18  Treinta y Tres      50485"
      ]
     },
     "execution_count": 105,
     "metadata": {},
     "output_type": "execute_result"
    }
   ],
   "source": [
    "population_UY"
   ]
  },
  {
   "cell_type": "markdown",
   "metadata": {},
   "source": [
    "<a id = 'Sección4.2.2'></a>"
   ]
  },
  {
   "cell_type": "markdown",
   "metadata": {},
   "source": [
    "#### 4.2.2. Cantidad de habitantes por rango etario"
   ]
  },
  {
   "cell_type": "code",
   "execution_count": 106,
   "metadata": {},
   "outputs": [],
   "source": [
    "ine_pop_per_age_UY = pd.read_excel (r\"Datos covid Uruguay\\INE población Uruguay.xlsx\", sheet_name = 'Pob por edad')"
   ]
  },
  {
   "cell_type": "code",
   "execution_count": 107,
   "metadata": {},
   "outputs": [
    {
     "data": {
      "text/html": [
       "<div>\n",
       "<style scoped>\n",
       "    .dataframe tbody tr th:only-of-type {\n",
       "        vertical-align: middle;\n",
       "    }\n",
       "\n",
       "    .dataframe tbody tr th {\n",
       "        vertical-align: top;\n",
       "    }\n",
       "\n",
       "    .dataframe thead th {\n",
       "        text-align: right;\n",
       "    }\n",
       "</style>\n",
       "<table border=\"1\" class=\"dataframe\">\n",
       "  <thead>\n",
       "    <tr style=\"text-align: right;\">\n",
       "      <th></th>\n",
       "      <th>Edad</th>\n",
       "      <th>Población</th>\n",
       "    </tr>\n",
       "  </thead>\n",
       "  <tbody>\n",
       "    <tr>\n",
       "      <th>0</th>\n",
       "      <td>0</td>\n",
       "      <td>45057</td>\n",
       "    </tr>\n",
       "    <tr>\n",
       "      <th>1</th>\n",
       "      <td>1</td>\n",
       "      <td>45186</td>\n",
       "    </tr>\n",
       "    <tr>\n",
       "      <th>2</th>\n",
       "      <td>2</td>\n",
       "      <td>45338</td>\n",
       "    </tr>\n",
       "    <tr>\n",
       "      <th>3</th>\n",
       "      <td>3</td>\n",
       "      <td>45495</td>\n",
       "    </tr>\n",
       "    <tr>\n",
       "      <th>4</th>\n",
       "      <td>4</td>\n",
       "      <td>45650</td>\n",
       "    </tr>\n",
       "    <tr>\n",
       "      <th>...</th>\n",
       "      <td>...</td>\n",
       "      <td>...</td>\n",
       "    </tr>\n",
       "    <tr>\n",
       "      <th>86</th>\n",
       "      <td>86</td>\n",
       "      <td>9827</td>\n",
       "    </tr>\n",
       "    <tr>\n",
       "      <th>87</th>\n",
       "      <td>87</td>\n",
       "      <td>8905</td>\n",
       "    </tr>\n",
       "    <tr>\n",
       "      <th>88</th>\n",
       "      <td>88</td>\n",
       "      <td>7975</td>\n",
       "    </tr>\n",
       "    <tr>\n",
       "      <th>89</th>\n",
       "      <td>89</td>\n",
       "      <td>6972</td>\n",
       "    </tr>\n",
       "    <tr>\n",
       "      <th>90</th>\n",
       "      <td>90 y más</td>\n",
       "      <td>26274</td>\n",
       "    </tr>\n",
       "  </tbody>\n",
       "</table>\n",
       "<p>91 rows × 2 columns</p>\n",
       "</div>"
      ],
      "text/plain": [
       "        Edad  Población\n",
       "0          0      45057\n",
       "1          1      45186\n",
       "2          2      45338\n",
       "3          3      45495\n",
       "4          4      45650\n",
       "..       ...        ...\n",
       "86        86       9827\n",
       "87        87       8905\n",
       "88        88       7975\n",
       "89        89       6972\n",
       "90  90 y más      26274\n",
       "\n",
       "[91 rows x 2 columns]"
      ]
     },
     "execution_count": 107,
     "metadata": {},
     "output_type": "execute_result"
    }
   ],
   "source": [
    "ine_pop_per_age_UY"
   ]
  },
  {
   "cell_type": "code",
   "execution_count": 108,
   "metadata": {},
   "outputs": [],
   "source": [
    "pop_per_age_UY = pd.Series(dtype = 'float64')"
   ]
  },
  {
   "cell_type": "code",
   "execution_count": 109,
   "metadata": {},
   "outputs": [],
   "source": [
    "pop_per_age_UY ['12 a 17 años'] = ine_pop_per_age_UY.iloc [12:18,1].sum()"
   ]
  },
  {
   "cell_type": "code",
   "execution_count": 110,
   "metadata": {},
   "outputs": [],
   "source": [
    "pop_per_age_UY ['18 a 24 años'] = ine_pop_per_age_UY.iloc [18:25,1].sum()"
   ]
  },
  {
   "cell_type": "code",
   "execution_count": 111,
   "metadata": {},
   "outputs": [],
   "source": [
    "pop_per_age_UY ['25 a 34 años'] = ine_pop_per_age_UY.iloc [25:35,1].sum()"
   ]
  },
  {
   "cell_type": "code",
   "execution_count": 112,
   "metadata": {},
   "outputs": [],
   "source": [
    "pop_per_age_UY ['35 a 44 años'] = ine_pop_per_age_UY.iloc [35:45,1].sum()"
   ]
  },
  {
   "cell_type": "code",
   "execution_count": 113,
   "metadata": {},
   "outputs": [],
   "source": [
    "pop_per_age_UY ['45 a 54 años'] = ine_pop_per_age_UY.iloc [45:55,1].sum()"
   ]
  },
  {
   "cell_type": "code",
   "execution_count": 114,
   "metadata": {},
   "outputs": [],
   "source": [
    "pop_per_age_UY ['55 a 64 años'] = ine_pop_per_age_UY.iloc [55:65,1].sum()"
   ]
  },
  {
   "cell_type": "code",
   "execution_count": 115,
   "metadata": {},
   "outputs": [],
   "source": [
    "pop_per_age_UY ['65 a 74 años'] = ine_pop_per_age_UY.iloc [65:75,1].sum()"
   ]
  },
  {
   "cell_type": "code",
   "execution_count": 116,
   "metadata": {},
   "outputs": [],
   "source": [
    "pop_per_age_UY ['75 o más años'] = ine_pop_per_age_UY.iloc [75:,1].sum()"
   ]
  },
  {
   "cell_type": "code",
   "execution_count": 117,
   "metadata": {},
   "outputs": [],
   "source": [
    "pop_per_age_UY = pop_per_age_UY.to_frame()"
   ]
  },
  {
   "cell_type": "code",
   "execution_count": 118,
   "metadata": {},
   "outputs": [],
   "source": [
    "pop_per_age_UY.reset_index(inplace=True)"
   ]
  },
  {
   "cell_type": "code",
   "execution_count": 119,
   "metadata": {},
   "outputs": [],
   "source": [
    "pop_per_age_UY.columns =['Rango de edad', 'Población']"
   ]
  },
  {
   "cell_type": "code",
   "execution_count": 120,
   "metadata": {},
   "outputs": [
    {
     "data": {
      "text/html": [
       "<div>\n",
       "<style scoped>\n",
       "    .dataframe tbody tr th:only-of-type {\n",
       "        vertical-align: middle;\n",
       "    }\n",
       "\n",
       "    .dataframe tbody tr th {\n",
       "        vertical-align: top;\n",
       "    }\n",
       "\n",
       "    .dataframe thead th {\n",
       "        text-align: right;\n",
       "    }\n",
       "</style>\n",
       "<table border=\"1\" class=\"dataframe\">\n",
       "  <thead>\n",
       "    <tr style=\"text-align: right;\">\n",
       "      <th></th>\n",
       "      <th>Rango de edad</th>\n",
       "      <th>Población</th>\n",
       "    </tr>\n",
       "  </thead>\n",
       "  <tbody>\n",
       "    <tr>\n",
       "      <th>0</th>\n",
       "      <td>12 a 17 años</td>\n",
       "      <td>293547</td>\n",
       "    </tr>\n",
       "    <tr>\n",
       "      <th>1</th>\n",
       "      <td>18 a 24 años</td>\n",
       "      <td>372371</td>\n",
       "    </tr>\n",
       "    <tr>\n",
       "      <th>2</th>\n",
       "      <td>25 a 34 años</td>\n",
       "      <td>509423</td>\n",
       "    </tr>\n",
       "    <tr>\n",
       "      <th>3</th>\n",
       "      <td>35 a 44 años</td>\n",
       "      <td>478839</td>\n",
       "    </tr>\n",
       "    <tr>\n",
       "      <th>4</th>\n",
       "      <td>45 a 54 años</td>\n",
       "      <td>425336</td>\n",
       "    </tr>\n",
       "    <tr>\n",
       "      <th>5</th>\n",
       "      <td>55 a 64 años</td>\n",
       "      <td>384698</td>\n",
       "    </tr>\n",
       "    <tr>\n",
       "      <th>6</th>\n",
       "      <td>65 a 74 años</td>\n",
       "      <td>277842</td>\n",
       "    </tr>\n",
       "    <tr>\n",
       "      <th>7</th>\n",
       "      <td>75 o más años</td>\n",
       "      <td>237430</td>\n",
       "    </tr>\n",
       "  </tbody>\n",
       "</table>\n",
       "</div>"
      ],
      "text/plain": [
       "   Rango de edad  Población\n",
       "0   12 a 17 años     293547\n",
       "1   18 a 24 años     372371\n",
       "2   25 a 34 años     509423\n",
       "3   35 a 44 años     478839\n",
       "4   45 a 54 años     425336\n",
       "5   55 a 64 años     384698\n",
       "6   65 a 74 años     277842\n",
       "7  75 o más años     237430"
      ]
     },
     "execution_count": 120,
     "metadata": {},
     "output_type": "execute_result"
    }
   ],
   "source": [
    "pop_per_age_UY"
   ]
  },
  {
   "cell_type": "markdown",
   "metadata": {},
   "source": [
    "<a id = 'Sección4.2.3'></a>"
   ]
  },
  {
   "cell_type": "markdown",
   "metadata": {},
   "source": [
    "#### 4.2.3. Cantidad total de habitantes"
   ]
  },
  {
   "cell_type": "code",
   "execution_count": 121,
   "metadata": {},
   "outputs": [
    {
     "data": {
      "text/plain": [
       "3530912"
      ]
     },
     "execution_count": 121,
     "metadata": {},
     "output_type": "execute_result"
    }
   ],
   "source": [
    "total_pop_UY = population_UY['Población'].sum()\n",
    "total_pop_UY"
   ]
  },
  {
   "cell_type": "markdown",
   "metadata": {},
   "source": [
    "<a id = 'Sección5'></a>"
   ]
  },
  {
   "cell_type": "markdown",
   "metadata": {},
   "source": [
    "## 5. Datos globales por millón de habitantes"
   ]
  },
  {
   "cell_type": "markdown",
   "metadata": {},
   "source": [
    "En esta sección se calcula el número de nuevos casos, casos totales, casos activos, fallecidos y total de fallecidos a nivel nacionales por cada millón de habitantes, para así hacer los datos comparables entre ambos países."
   ]
  },
  {
   "cell_type": "markdown",
   "metadata": {},
   "source": [
    "<a id = 'Sección5.1'></a>"
   ]
  },
  {
   "cell_type": "markdown",
   "metadata": {},
   "source": [
    "### 5.1. Datos globales por millón de habitantes en Chile"
   ]
  },
  {
   "cell_type": "code",
   "execution_count": 122,
   "metadata": {},
   "outputs": [],
   "source": [
    "# Se crea una función para calcular las cifras por millón de habitantes en Chile.\n",
    "\n",
    "per_million_CH = lambda x: x*1000000/total_pop_CH"
   ]
  },
  {
   "cell_type": "code",
   "execution_count": 123,
   "metadata": {},
   "outputs": [],
   "source": [
    "global_data_per_million_CH = global_data_CH.iloc[:,2:].apply(per_million_CH)"
   ]
  },
  {
   "cell_type": "code",
   "execution_count": 124,
   "metadata": {},
   "outputs": [],
   "source": [
    "global_data_per_million_CH = pd.concat ([global_data_CH.loc[:,['País','Fecha']] ,global_data_per_million_CH],axis=1)"
   ]
  },
  {
   "cell_type": "code",
   "execution_count": 125,
   "metadata": {},
   "outputs": [],
   "source": [
    "global_data_per_million_CH.rename(columns={'Casos totales':'Casos totales por millón', 'Total fallecidos':'Total fallecidos por millón',\n",
    "                                            'Cant de fallecidos':'Cantidad de fallecidos por millón', \n",
    "                                            'Casos activos':'Casos activos por millón', 'Casos nuevos totales':'Nuevos casos por millón'}, inplace=True)"
   ]
  },
  {
   "cell_type": "code",
   "execution_count": 126,
   "metadata": {},
   "outputs": [
    {
     "data": {
      "text/html": [
       "<div>\n",
       "<style scoped>\n",
       "    .dataframe tbody tr th:only-of-type {\n",
       "        vertical-align: middle;\n",
       "    }\n",
       "\n",
       "    .dataframe tbody tr th {\n",
       "        vertical-align: top;\n",
       "    }\n",
       "\n",
       "    .dataframe thead th {\n",
       "        text-align: right;\n",
       "    }\n",
       "</style>\n",
       "<table border=\"1\" class=\"dataframe\">\n",
       "  <thead>\n",
       "    <tr style=\"text-align: right;\">\n",
       "      <th></th>\n",
       "      <th>País</th>\n",
       "      <th>Fecha</th>\n",
       "      <th>Casos totales por millón</th>\n",
       "      <th>Total fallecidos por millón</th>\n",
       "      <th>Cantidad de fallecidos por millón</th>\n",
       "      <th>Casos activos por millón</th>\n",
       "      <th>Nuevos casos por millón</th>\n",
       "    </tr>\n",
       "  </thead>\n",
       "  <tbody>\n",
       "    <tr>\n",
       "      <th>604</th>\n",
       "      <td>Chile</td>\n",
       "      <td>2021-10-27</td>\n",
       "      <td>86663.127476</td>\n",
       "      <td>1937.321381</td>\n",
       "      <td>0.308352</td>\n",
       "      <td>515.204044</td>\n",
       "      <td>90.090044</td>\n",
       "    </tr>\n",
       "    <tr>\n",
       "      <th>605</th>\n",
       "      <td>Chile</td>\n",
       "      <td>2021-10-28</td>\n",
       "      <td>86772.900627</td>\n",
       "      <td>1938.452003</td>\n",
       "      <td>1.130622</td>\n",
       "      <td>555.032785</td>\n",
       "      <td>113.319194</td>\n",
       "    </tr>\n",
       "    <tr>\n",
       "      <th>606</th>\n",
       "      <td>Chile</td>\n",
       "      <td>2021-10-29</td>\n",
       "      <td>86890.125607</td>\n",
       "      <td>1938.965923</td>\n",
       "      <td>0.513919</td>\n",
       "      <td>571.118458</td>\n",
       "      <td>122.261389</td>\n",
       "    </tr>\n",
       "    <tr>\n",
       "      <th>607</th>\n",
       "      <td>Chile</td>\n",
       "      <td>2021-10-30</td>\n",
       "      <td>87000.207109</td>\n",
       "      <td>1939.685409</td>\n",
       "      <td>0.719487</td>\n",
       "      <td>585.251237</td>\n",
       "      <td>114.603992</td>\n",
       "    </tr>\n",
       "    <tr>\n",
       "      <th>608</th>\n",
       "      <td>Chile</td>\n",
       "      <td>2021-10-31</td>\n",
       "      <td>87111.778978</td>\n",
       "      <td>1940.404896</td>\n",
       "      <td>0.719487</td>\n",
       "      <td>597.174164</td>\n",
       "      <td>115.631830</td>\n",
       "    </tr>\n",
       "  </tbody>\n",
       "</table>\n",
       "</div>"
      ],
      "text/plain": [
       "      País      Fecha  Casos totales por millón  Total fallecidos por millón  \\\n",
       "604  Chile 2021-10-27              86663.127476                  1937.321381   \n",
       "605  Chile 2021-10-28              86772.900627                  1938.452003   \n",
       "606  Chile 2021-10-29              86890.125607                  1938.965923   \n",
       "607  Chile 2021-10-30              87000.207109                  1939.685409   \n",
       "608  Chile 2021-10-31              87111.778978                  1940.404896   \n",
       "\n",
       "     Cantidad de fallecidos por millón  Casos activos por millón  \\\n",
       "604                           0.308352                515.204044   \n",
       "605                           1.130622                555.032785   \n",
       "606                           0.513919                571.118458   \n",
       "607                           0.719487                585.251237   \n",
       "608                           0.719487                597.174164   \n",
       "\n",
       "     Nuevos casos por millón  \n",
       "604                90.090044  \n",
       "605               113.319194  \n",
       "606               122.261389  \n",
       "607               114.603992  \n",
       "608               115.631830  "
      ]
     },
     "execution_count": 126,
     "metadata": {},
     "output_type": "execute_result"
    }
   ],
   "source": [
    "global_data_per_million_CH.tail()"
   ]
  },
  {
   "cell_type": "markdown",
   "metadata": {},
   "source": [
    "<a id = 'Sección5.2'></a>"
   ]
  },
  {
   "cell_type": "markdown",
   "metadata": {},
   "source": [
    "### 5.2. Datos globales por millón de habitantes en Uruguay"
   ]
  },
  {
   "cell_type": "code",
   "execution_count": 127,
   "metadata": {},
   "outputs": [],
   "source": [
    "per_million_UY = lambda x: x*1000000/total_pop_UY"
   ]
  },
  {
   "cell_type": "code",
   "execution_count": 128,
   "metadata": {},
   "outputs": [],
   "source": [
    "global_data_per_million_UY = global_data_UY.loc[:,['cantPersonasConInfeccionEnCurso','cantCasosNuevosConsolidado', \n",
    "                                                   'acumCasos', 'cantFallecidos','acumFallecidos']].apply(per_million_UY)"
   ]
  },
  {
   "cell_type": "code",
   "execution_count": 129,
   "metadata": {},
   "outputs": [],
   "source": [
    "global_data_per_million_UY = pd.concat ([global_data_UY.loc[:,['País','fecha']] ,global_data_per_million_UY],axis=1)"
   ]
  },
  {
   "cell_type": "code",
   "execution_count": 130,
   "metadata": {},
   "outputs": [],
   "source": [
    "global_data_per_million_UY.rename(columns={'fecha':'Fecha','cantPersonasConInfeccionEnCurso':'Casos activos por millón',\n",
    "                                           'cantCasosNuevosConsolidado':'Nuevos casos por millón', \n",
    "                                           'acumCasos':'Casos totales por millón', 'cantFallecidos':'Cantidad de fallecidos por millón',\n",
    "                                           'acumFallecidos':'Total fallecidos por millón'}, inplace=True)"
   ]
  },
  {
   "cell_type": "code",
   "execution_count": 131,
   "metadata": {},
   "outputs": [],
   "source": [
    "global_data_per_million_UY.rename(columns={'Casos totales':'Casos totales por millón', 'Total fallecidos':'Total fallecidos por millón',\n",
    "                                            'Cant de fallecidos':'Cantidad de fallecidos por millón', \n",
    "                                            'Casos activos':'Casos activos por millón', 'Casos nuevos totales':'Nuevos casos por millón'}, inplace=True)"
   ]
  },
  {
   "cell_type": "code",
   "execution_count": 132,
   "metadata": {},
   "outputs": [
    {
     "data": {
      "text/html": [
       "<div>\n",
       "<style scoped>\n",
       "    .dataframe tbody tr th:only-of-type {\n",
       "        vertical-align: middle;\n",
       "    }\n",
       "\n",
       "    .dataframe tbody tr th {\n",
       "        vertical-align: top;\n",
       "    }\n",
       "\n",
       "    .dataframe thead th {\n",
       "        text-align: right;\n",
       "    }\n",
       "</style>\n",
       "<table border=\"1\" class=\"dataframe\">\n",
       "  <thead>\n",
       "    <tr style=\"text-align: right;\">\n",
       "      <th></th>\n",
       "      <th>País</th>\n",
       "      <th>Fecha</th>\n",
       "      <th>Casos activos por millón</th>\n",
       "      <th>Nuevos casos por millón</th>\n",
       "      <th>Casos totales por millón</th>\n",
       "      <th>Cantidad de fallecidos por millón</th>\n",
       "      <th>Total fallecidos por millón</th>\n",
       "    </tr>\n",
       "  </thead>\n",
       "  <tbody>\n",
       "    <tr>\n",
       "      <th>581</th>\n",
       "      <td>Uruguay</td>\n",
       "      <td>2021-10-27</td>\n",
       "      <td>535.838899</td>\n",
       "      <td>83.264607</td>\n",
       "      <td>111268.420170</td>\n",
       "      <td>0.566426</td>\n",
       "      <td>1720.801878</td>\n",
       "    </tr>\n",
       "    <tr>\n",
       "      <th>582</th>\n",
       "      <td>Uruguay</td>\n",
       "      <td>2021-10-28</td>\n",
       "      <td>564.443407</td>\n",
       "      <td>73.635367</td>\n",
       "      <td>111342.055537</td>\n",
       "      <td>0.000000</td>\n",
       "      <td>1720.801878</td>\n",
       "    </tr>\n",
       "    <tr>\n",
       "      <th>583</th>\n",
       "      <td>Uruguay</td>\n",
       "      <td>2021-10-29</td>\n",
       "      <td>612.306396</td>\n",
       "      <td>89.212079</td>\n",
       "      <td>111431.267616</td>\n",
       "      <td>0.283213</td>\n",
       "      <td>1721.085091</td>\n",
       "    </tr>\n",
       "    <tr>\n",
       "      <th>584</th>\n",
       "      <td>Uruguay</td>\n",
       "      <td>2021-10-30</td>\n",
       "      <td>639.494839</td>\n",
       "      <td>74.768219</td>\n",
       "      <td>111506.035834</td>\n",
       "      <td>0.000000</td>\n",
       "      <td>1721.085091</td>\n",
       "    </tr>\n",
       "    <tr>\n",
       "      <th>585</th>\n",
       "      <td>Uruguay</td>\n",
       "      <td>2021-10-31</td>\n",
       "      <td>649.124079</td>\n",
       "      <td>51.261544</td>\n",
       "      <td>111557.297378</td>\n",
       "      <td>0.283213</td>\n",
       "      <td>1721.368304</td>\n",
       "    </tr>\n",
       "  </tbody>\n",
       "</table>\n",
       "</div>"
      ],
      "text/plain": [
       "        País      Fecha  Casos activos por millón  Nuevos casos por millón  \\\n",
       "581  Uruguay 2021-10-27                535.838899                83.264607   \n",
       "582  Uruguay 2021-10-28                564.443407                73.635367   \n",
       "583  Uruguay 2021-10-29                612.306396                89.212079   \n",
       "584  Uruguay 2021-10-30                639.494839                74.768219   \n",
       "585  Uruguay 2021-10-31                649.124079                51.261544   \n",
       "\n",
       "     Casos totales por millón  Cantidad de fallecidos por millón  \\\n",
       "581             111268.420170                           0.566426   \n",
       "582             111342.055537                           0.000000   \n",
       "583             111431.267616                           0.283213   \n",
       "584             111506.035834                           0.000000   \n",
       "585             111557.297378                           0.283213   \n",
       "\n",
       "     Total fallecidos por millón  \n",
       "581                  1720.801878  \n",
       "582                  1720.801878  \n",
       "583                  1721.085091  \n",
       "584                  1721.085091  \n",
       "585                  1721.368304  "
      ]
     },
     "execution_count": 132,
     "metadata": {},
     "output_type": "execute_result"
    }
   ],
   "source": [
    "global_data_per_million_UY.tail()"
   ]
  },
  {
   "cell_type": "markdown",
   "metadata": {},
   "source": [
    "<a id = 'Sección5.3'></a>"
   ]
  },
  {
   "cell_type": "markdown",
   "metadata": {},
   "source": [
    "### 5.3. Datos globales por millón de habitantes consolidado"
   ]
  },
  {
   "cell_type": "code",
   "execution_count": 133,
   "metadata": {},
   "outputs": [],
   "source": [
    "global_data_per_million = pd.concat ([global_data_per_million_CH, global_data_per_million_UY])"
   ]
  },
  {
   "cell_type": "code",
   "execution_count": 134,
   "metadata": {},
   "outputs": [],
   "source": [
    "# Reordenación de las columnas.\n",
    "\n",
    "global_data_per_million = global_data_per_million.reindex (columns=['País', 'Fecha','Nuevos casos por millón','Casos totales por millón',\n",
    "                                          'Casos activos por millón','Cantidad de fallecidos por millón','Total fallecidos por millón'])"
   ]
  },
  {
   "cell_type": "code",
   "execution_count": 135,
   "metadata": {},
   "outputs": [
    {
     "data": {
      "text/html": [
       "<div>\n",
       "<style scoped>\n",
       "    .dataframe tbody tr th:only-of-type {\n",
       "        vertical-align: middle;\n",
       "    }\n",
       "\n",
       "    .dataframe tbody tr th {\n",
       "        vertical-align: top;\n",
       "    }\n",
       "\n",
       "    .dataframe thead th {\n",
       "        text-align: right;\n",
       "    }\n",
       "</style>\n",
       "<table border=\"1\" class=\"dataframe\">\n",
       "  <thead>\n",
       "    <tr style=\"text-align: right;\">\n",
       "      <th></th>\n",
       "      <th>País</th>\n",
       "      <th>Fecha</th>\n",
       "      <th>Nuevos casos por millón</th>\n",
       "      <th>Casos totales por millón</th>\n",
       "      <th>Casos activos por millón</th>\n",
       "      <th>Cantidad de fallecidos por millón</th>\n",
       "      <th>Total fallecidos por millón</th>\n",
       "    </tr>\n",
       "  </thead>\n",
       "  <tbody>\n",
       "    <tr>\n",
       "      <th>0</th>\n",
       "      <td>Chile</td>\n",
       "      <td>2020-03-02</td>\n",
       "      <td>0.051392</td>\n",
       "      <td>0.051392</td>\n",
       "      <td>0.051392</td>\n",
       "      <td>0.000000</td>\n",
       "      <td>0.000000</td>\n",
       "    </tr>\n",
       "    <tr>\n",
       "      <th>1</th>\n",
       "      <td>Chile</td>\n",
       "      <td>2020-03-03</td>\n",
       "      <td>0.000000</td>\n",
       "      <td>0.051392</td>\n",
       "      <td>0.051392</td>\n",
       "      <td>0.000000</td>\n",
       "      <td>0.000000</td>\n",
       "    </tr>\n",
       "    <tr>\n",
       "      <th>2</th>\n",
       "      <td>Chile</td>\n",
       "      <td>2020-03-04</td>\n",
       "      <td>0.102784</td>\n",
       "      <td>0.154176</td>\n",
       "      <td>0.154176</td>\n",
       "      <td>0.000000</td>\n",
       "      <td>0.000000</td>\n",
       "    </tr>\n",
       "    <tr>\n",
       "      <th>3</th>\n",
       "      <td>Chile</td>\n",
       "      <td>2020-03-05</td>\n",
       "      <td>0.051392</td>\n",
       "      <td>0.205568</td>\n",
       "      <td>0.205568</td>\n",
       "      <td>0.000000</td>\n",
       "      <td>0.000000</td>\n",
       "    </tr>\n",
       "    <tr>\n",
       "      <th>4</th>\n",
       "      <td>Chile</td>\n",
       "      <td>2020-03-06</td>\n",
       "      <td>0.051392</td>\n",
       "      <td>0.256960</td>\n",
       "      <td>0.256960</td>\n",
       "      <td>0.000000</td>\n",
       "      <td>0.000000</td>\n",
       "    </tr>\n",
       "    <tr>\n",
       "      <th>...</th>\n",
       "      <td>...</td>\n",
       "      <td>...</td>\n",
       "      <td>...</td>\n",
       "      <td>...</td>\n",
       "      <td>...</td>\n",
       "      <td>...</td>\n",
       "      <td>...</td>\n",
       "    </tr>\n",
       "    <tr>\n",
       "      <th>581</th>\n",
       "      <td>Uruguay</td>\n",
       "      <td>2021-10-27</td>\n",
       "      <td>83.264607</td>\n",
       "      <td>111268.420170</td>\n",
       "      <td>535.838899</td>\n",
       "      <td>0.566426</td>\n",
       "      <td>1720.801878</td>\n",
       "    </tr>\n",
       "    <tr>\n",
       "      <th>582</th>\n",
       "      <td>Uruguay</td>\n",
       "      <td>2021-10-28</td>\n",
       "      <td>73.635367</td>\n",
       "      <td>111342.055537</td>\n",
       "      <td>564.443407</td>\n",
       "      <td>0.000000</td>\n",
       "      <td>1720.801878</td>\n",
       "    </tr>\n",
       "    <tr>\n",
       "      <th>583</th>\n",
       "      <td>Uruguay</td>\n",
       "      <td>2021-10-29</td>\n",
       "      <td>89.212079</td>\n",
       "      <td>111431.267616</td>\n",
       "      <td>612.306396</td>\n",
       "      <td>0.283213</td>\n",
       "      <td>1721.085091</td>\n",
       "    </tr>\n",
       "    <tr>\n",
       "      <th>584</th>\n",
       "      <td>Uruguay</td>\n",
       "      <td>2021-10-30</td>\n",
       "      <td>74.768219</td>\n",
       "      <td>111506.035834</td>\n",
       "      <td>639.494839</td>\n",
       "      <td>0.000000</td>\n",
       "      <td>1721.085091</td>\n",
       "    </tr>\n",
       "    <tr>\n",
       "      <th>585</th>\n",
       "      <td>Uruguay</td>\n",
       "      <td>2021-10-31</td>\n",
       "      <td>51.261544</td>\n",
       "      <td>111557.297378</td>\n",
       "      <td>649.124079</td>\n",
       "      <td>0.283213</td>\n",
       "      <td>1721.368304</td>\n",
       "    </tr>\n",
       "  </tbody>\n",
       "</table>\n",
       "<p>1195 rows × 7 columns</p>\n",
       "</div>"
      ],
      "text/plain": [
       "        País      Fecha  Nuevos casos por millón  Casos totales por millón  \\\n",
       "0      Chile 2020-03-02                 0.051392                  0.051392   \n",
       "1      Chile 2020-03-03                 0.000000                  0.051392   \n",
       "2      Chile 2020-03-04                 0.102784                  0.154176   \n",
       "3      Chile 2020-03-05                 0.051392                  0.205568   \n",
       "4      Chile 2020-03-06                 0.051392                  0.256960   \n",
       "..       ...        ...                      ...                       ...   \n",
       "581  Uruguay 2021-10-27                83.264607             111268.420170   \n",
       "582  Uruguay 2021-10-28                73.635367             111342.055537   \n",
       "583  Uruguay 2021-10-29                89.212079             111431.267616   \n",
       "584  Uruguay 2021-10-30                74.768219             111506.035834   \n",
       "585  Uruguay 2021-10-31                51.261544             111557.297378   \n",
       "\n",
       "     Casos activos por millón  Cantidad de fallecidos por millón  \\\n",
       "0                    0.051392                           0.000000   \n",
       "1                    0.051392                           0.000000   \n",
       "2                    0.154176                           0.000000   \n",
       "3                    0.205568                           0.000000   \n",
       "4                    0.256960                           0.000000   \n",
       "..                        ...                                ...   \n",
       "581                535.838899                           0.566426   \n",
       "582                564.443407                           0.000000   \n",
       "583                612.306396                           0.283213   \n",
       "584                639.494839                           0.000000   \n",
       "585                649.124079                           0.283213   \n",
       "\n",
       "     Total fallecidos por millón  \n",
       "0                       0.000000  \n",
       "1                       0.000000  \n",
       "2                       0.000000  \n",
       "3                       0.000000  \n",
       "4                       0.000000  \n",
       "..                           ...  \n",
       "581                  1720.801878  \n",
       "582                  1720.801878  \n",
       "583                  1721.085091  \n",
       "584                  1721.085091  \n",
       "585                  1721.368304  \n",
       "\n",
       "[1195 rows x 7 columns]"
      ]
     },
     "execution_count": 135,
     "metadata": {},
     "output_type": "execute_result"
    }
   ],
   "source": [
    "global_data_per_million"
   ]
  },
  {
   "cell_type": "markdown",
   "metadata": {},
   "source": [
    "<a id = 'Sección6'></a>"
   ]
  },
  {
   "cell_type": "markdown",
   "metadata": {},
   "source": [
    "## 6. Porcentaje de fallecidos con respecto al total de contagiados"
   ]
  },
  {
   "cell_type": "markdown",
   "metadata": {},
   "source": [
    "<a id = 'Sección6.1'></a>"
   ]
  },
  {
   "cell_type": "markdown",
   "metadata": {},
   "source": [
    "### 6.1. Porcentaje de fallecidos con respecto al total de contagiados en Chile"
   ]
  },
  {
   "cell_type": "code",
   "execution_count": 136,
   "metadata": {},
   "outputs": [],
   "source": [
    "deaths_pct_CH = global_data_CH.loc [:, ['País', 'Fecha']]"
   ]
  },
  {
   "cell_type": "code",
   "execution_count": 137,
   "metadata": {},
   "outputs": [],
   "source": [
    "deaths_pct_CH ['Pctj. de fallecidos c/r al total de contagiados'] = global_data_CH ['Total fallecidos']*100/global_data_CH ['Casos totales']"
   ]
  },
  {
   "cell_type": "code",
   "execution_count": 138,
   "metadata": {},
   "outputs": [
    {
     "data": {
      "text/html": [
       "<div>\n",
       "<style scoped>\n",
       "    .dataframe tbody tr th:only-of-type {\n",
       "        vertical-align: middle;\n",
       "    }\n",
       "\n",
       "    .dataframe tbody tr th {\n",
       "        vertical-align: top;\n",
       "    }\n",
       "\n",
       "    .dataframe thead th {\n",
       "        text-align: right;\n",
       "    }\n",
       "</style>\n",
       "<table border=\"1\" class=\"dataframe\">\n",
       "  <thead>\n",
       "    <tr style=\"text-align: right;\">\n",
       "      <th></th>\n",
       "      <th>País</th>\n",
       "      <th>Fecha</th>\n",
       "      <th>Pctj. de fallecidos c/r al total de contagiados</th>\n",
       "    </tr>\n",
       "  </thead>\n",
       "  <tbody>\n",
       "    <tr>\n",
       "      <th>604</th>\n",
       "      <td>Chile</td>\n",
       "      <td>2021-10-27</td>\n",
       "      <td>2.235462</td>\n",
       "    </tr>\n",
       "    <tr>\n",
       "      <th>605</th>\n",
       "      <td>Chile</td>\n",
       "      <td>2021-10-28</td>\n",
       "      <td>2.233937</td>\n",
       "    </tr>\n",
       "    <tr>\n",
       "      <th>606</th>\n",
       "      <td>Chile</td>\n",
       "      <td>2021-10-29</td>\n",
       "      <td>2.231515</td>\n",
       "    </tr>\n",
       "    <tr>\n",
       "      <th>607</th>\n",
       "      <td>Chile</td>\n",
       "      <td>2021-10-30</td>\n",
       "      <td>2.229518</td>\n",
       "    </tr>\n",
       "    <tr>\n",
       "      <th>608</th>\n",
       "      <td>Chile</td>\n",
       "      <td>2021-10-31</td>\n",
       "      <td>2.227489</td>\n",
       "    </tr>\n",
       "  </tbody>\n",
       "</table>\n",
       "</div>"
      ],
      "text/plain": [
       "      País      Fecha  Pctj. de fallecidos c/r al total de contagiados\n",
       "604  Chile 2021-10-27                                         2.235462\n",
       "605  Chile 2021-10-28                                         2.233937\n",
       "606  Chile 2021-10-29                                         2.231515\n",
       "607  Chile 2021-10-30                                         2.229518\n",
       "608  Chile 2021-10-31                                         2.227489"
      ]
     },
     "execution_count": 138,
     "metadata": {},
     "output_type": "execute_result"
    }
   ],
   "source": [
    "deaths_pct_CH.tail()"
   ]
  },
  {
   "cell_type": "markdown",
   "metadata": {},
   "source": [
    "<a id = 'Sección6.2'></a>"
   ]
  },
  {
   "cell_type": "markdown",
   "metadata": {},
   "source": [
    "### 6.2. Porcentaje de fallecidos con respecto al total de contagiados en Uruguay"
   ]
  },
  {
   "cell_type": "code",
   "execution_count": 139,
   "metadata": {},
   "outputs": [],
   "source": [
    "deaths_pct_UY = global_data_UY.loc [:, ['País', 'fecha']]"
   ]
  },
  {
   "cell_type": "code",
   "execution_count": 140,
   "metadata": {},
   "outputs": [],
   "source": [
    "deaths_pct_UY ['Pctj. de fallecidos c/r al total de contagiados'] = global_data_UY ['acumFallecidos']*100/global_data_UY ['acumCasos']"
   ]
  },
  {
   "cell_type": "code",
   "execution_count": 141,
   "metadata": {},
   "outputs": [
    {
     "data": {
      "text/html": [
       "<div>\n",
       "<style scoped>\n",
       "    .dataframe tbody tr th:only-of-type {\n",
       "        vertical-align: middle;\n",
       "    }\n",
       "\n",
       "    .dataframe tbody tr th {\n",
       "        vertical-align: top;\n",
       "    }\n",
       "\n",
       "    .dataframe thead th {\n",
       "        text-align: right;\n",
       "    }\n",
       "</style>\n",
       "<table border=\"1\" class=\"dataframe\">\n",
       "  <thead>\n",
       "    <tr style=\"text-align: right;\">\n",
       "      <th></th>\n",
       "      <th>País</th>\n",
       "      <th>fecha</th>\n",
       "      <th>Pctj. de fallecidos c/r al total de contagiados</th>\n",
       "    </tr>\n",
       "  </thead>\n",
       "  <tbody>\n",
       "    <tr>\n",
       "      <th>581</th>\n",
       "      <td>Uruguay</td>\n",
       "      <td>2021-10-27</td>\n",
       "      <td>1.546532</td>\n",
       "    </tr>\n",
       "    <tr>\n",
       "      <th>582</th>\n",
       "      <td>Uruguay</td>\n",
       "      <td>2021-10-28</td>\n",
       "      <td>1.545509</td>\n",
       "    </tr>\n",
       "    <tr>\n",
       "      <th>583</th>\n",
       "      <td>Uruguay</td>\n",
       "      <td>2021-10-29</td>\n",
       "      <td>1.544526</td>\n",
       "    </tr>\n",
       "    <tr>\n",
       "      <th>584</th>\n",
       "      <td>Uruguay</td>\n",
       "      <td>2021-10-30</td>\n",
       "      <td>1.543491</td>\n",
       "    </tr>\n",
       "    <tr>\n",
       "      <th>585</th>\n",
       "      <td>Uruguay</td>\n",
       "      <td>2021-10-31</td>\n",
       "      <td>1.543035</td>\n",
       "    </tr>\n",
       "  </tbody>\n",
       "</table>\n",
       "</div>"
      ],
      "text/plain": [
       "        País      fecha  Pctj. de fallecidos c/r al total de contagiados\n",
       "581  Uruguay 2021-10-27                                         1.546532\n",
       "582  Uruguay 2021-10-28                                         1.545509\n",
       "583  Uruguay 2021-10-29                                         1.544526\n",
       "584  Uruguay 2021-10-30                                         1.543491\n",
       "585  Uruguay 2021-10-31                                         1.543035"
      ]
     },
     "execution_count": 141,
     "metadata": {},
     "output_type": "execute_result"
    }
   ],
   "source": [
    "deaths_pct_UY.tail()"
   ]
  },
  {
   "cell_type": "markdown",
   "metadata": {},
   "source": [
    "<a id = 'Sección6.3'></a>"
   ]
  },
  {
   "cell_type": "markdown",
   "metadata": {},
   "source": [
    "### 6.3 Porcentaje de fallecidos con respecto al total de contagiados consolidado"
   ]
  },
  {
   "cell_type": "code",
   "execution_count": 142,
   "metadata": {},
   "outputs": [
    {
     "data": {
      "text/html": [
       "<div>\n",
       "<style scoped>\n",
       "    .dataframe tbody tr th:only-of-type {\n",
       "        vertical-align: middle;\n",
       "    }\n",
       "\n",
       "    .dataframe tbody tr th {\n",
       "        vertical-align: top;\n",
       "    }\n",
       "\n",
       "    .dataframe thead th {\n",
       "        text-align: right;\n",
       "    }\n",
       "</style>\n",
       "<table border=\"1\" class=\"dataframe\">\n",
       "  <thead>\n",
       "    <tr style=\"text-align: right;\">\n",
       "      <th></th>\n",
       "      <th>País</th>\n",
       "      <th>Fecha</th>\n",
       "      <th>Pctj. de fallecidos c/r al total de contagiados</th>\n",
       "    </tr>\n",
       "  </thead>\n",
       "  <tbody>\n",
       "    <tr>\n",
       "      <th>0</th>\n",
       "      <td>Chile</td>\n",
       "      <td>2020-03-02</td>\n",
       "      <td>0.000000</td>\n",
       "    </tr>\n",
       "    <tr>\n",
       "      <th>1</th>\n",
       "      <td>Chile</td>\n",
       "      <td>2020-03-03</td>\n",
       "      <td>0.000000</td>\n",
       "    </tr>\n",
       "    <tr>\n",
       "      <th>2</th>\n",
       "      <td>Chile</td>\n",
       "      <td>2020-03-04</td>\n",
       "      <td>0.000000</td>\n",
       "    </tr>\n",
       "    <tr>\n",
       "      <th>3</th>\n",
       "      <td>Chile</td>\n",
       "      <td>2020-03-05</td>\n",
       "      <td>0.000000</td>\n",
       "    </tr>\n",
       "    <tr>\n",
       "      <th>4</th>\n",
       "      <td>Chile</td>\n",
       "      <td>2020-03-06</td>\n",
       "      <td>0.000000</td>\n",
       "    </tr>\n",
       "    <tr>\n",
       "      <th>...</th>\n",
       "      <td>...</td>\n",
       "      <td>...</td>\n",
       "      <td>...</td>\n",
       "    </tr>\n",
       "    <tr>\n",
       "      <th>581</th>\n",
       "      <td>Uruguay</td>\n",
       "      <td>2021-10-27</td>\n",
       "      <td>1.546532</td>\n",
       "    </tr>\n",
       "    <tr>\n",
       "      <th>582</th>\n",
       "      <td>Uruguay</td>\n",
       "      <td>2021-10-28</td>\n",
       "      <td>1.545509</td>\n",
       "    </tr>\n",
       "    <tr>\n",
       "      <th>583</th>\n",
       "      <td>Uruguay</td>\n",
       "      <td>2021-10-29</td>\n",
       "      <td>1.544526</td>\n",
       "    </tr>\n",
       "    <tr>\n",
       "      <th>584</th>\n",
       "      <td>Uruguay</td>\n",
       "      <td>2021-10-30</td>\n",
       "      <td>1.543491</td>\n",
       "    </tr>\n",
       "    <tr>\n",
       "      <th>585</th>\n",
       "      <td>Uruguay</td>\n",
       "      <td>2021-10-31</td>\n",
       "      <td>1.543035</td>\n",
       "    </tr>\n",
       "  </tbody>\n",
       "</table>\n",
       "<p>1195 rows × 3 columns</p>\n",
       "</div>"
      ],
      "text/plain": [
       "        País      Fecha  Pctj. de fallecidos c/r al total de contagiados\n",
       "0      Chile 2020-03-02                                         0.000000\n",
       "1      Chile 2020-03-03                                         0.000000\n",
       "2      Chile 2020-03-04                                         0.000000\n",
       "3      Chile 2020-03-05                                         0.000000\n",
       "4      Chile 2020-03-06                                         0.000000\n",
       "..       ...        ...                                              ...\n",
       "581  Uruguay 2021-10-27                                         1.546532\n",
       "582  Uruguay 2021-10-28                                         1.545509\n",
       "583  Uruguay 2021-10-29                                         1.544526\n",
       "584  Uruguay 2021-10-30                                         1.543491\n",
       "585  Uruguay 2021-10-31                                         1.543035\n",
       "\n",
       "[1195 rows x 3 columns]"
      ]
     },
     "execution_count": 142,
     "metadata": {},
     "output_type": "execute_result"
    }
   ],
   "source": [
    "deaths_pct = pd.concat ([deaths_pct_CH, deaths_pct_UY.rename (columns = {'fecha':'Fecha'})])\n",
    "deaths_pct"
   ]
  },
  {
   "cell_type": "markdown",
   "metadata": {},
   "source": [
    "<a id = 'Sección7'></a>"
   ]
  },
  {
   "cell_type": "markdown",
   "metadata": {},
   "source": [
    "## 7. Tests realizados y positividad"
   ]
  },
  {
   "cell_type": "markdown",
   "metadata": {},
   "source": [
    "<a id = 'Sección7.1'></a>"
   ]
  },
  {
   "cell_type": "markdown",
   "metadata": {},
   "source": [
    "### 7.1. Test realizados y positividad en Chile"
   ]
  },
  {
   "cell_type": "code",
   "execution_count": 143,
   "metadata": {},
   "outputs": [],
   "source": [
    "tests_data_CH = test_CH.copy()"
   ]
  },
  {
   "cell_type": "code",
   "execution_count": 144,
   "metadata": {},
   "outputs": [],
   "source": [
    "tests_data_CH ['Tests realizados por millón'] = test_CH ['pcr'].apply(per_million_CH)"
   ]
  },
  {
   "cell_type": "code",
   "execution_count": 145,
   "metadata": {},
   "outputs": [],
   "source": [
    "tests_data_CH ['Acumulado de test realizados'] = test_CH ['pcr'].cumsum()"
   ]
  },
  {
   "cell_type": "code",
   "execution_count": 146,
   "metadata": {},
   "outputs": [],
   "source": [
    "tests_data_CH ['Total tests realizados por millón'] = tests_data_CH ['Acumulado de test realizados'].apply(per_million_CH)"
   ]
  },
  {
   "cell_type": "code",
   "execution_count": 147,
   "metadata": {},
   "outputs": [
    {
     "data": {
      "text/html": [
       "<div>\n",
       "<style scoped>\n",
       "    .dataframe tbody tr th:only-of-type {\n",
       "        vertical-align: middle;\n",
       "    }\n",
       "\n",
       "    .dataframe tbody tr th {\n",
       "        vertical-align: top;\n",
       "    }\n",
       "\n",
       "    .dataframe thead th {\n",
       "        text-align: right;\n",
       "    }\n",
       "</style>\n",
       "<table border=\"1\" class=\"dataframe\">\n",
       "  <thead>\n",
       "    <tr style=\"text-align: right;\">\n",
       "      <th></th>\n",
       "      <th>País</th>\n",
       "      <th>Fecha</th>\n",
       "      <th>pcr</th>\n",
       "      <th>positividad pcr</th>\n",
       "      <th>Tests realizados por millón</th>\n",
       "      <th>Acumulado de test realizados</th>\n",
       "      <th>Total tests realizados por millón</th>\n",
       "    </tr>\n",
       "  </thead>\n",
       "  <tbody>\n",
       "    <tr>\n",
       "      <th>0</th>\n",
       "      <td>Chile</td>\n",
       "      <td>2020-03-25</td>\n",
       "      <td>3290.0</td>\n",
       "      <td>0.0669</td>\n",
       "      <td>169.079432</td>\n",
       "      <td>3290.0</td>\n",
       "      <td>169.079432</td>\n",
       "    </tr>\n",
       "    <tr>\n",
       "      <th>1</th>\n",
       "      <td>Chile</td>\n",
       "      <td>2020-03-26</td>\n",
       "      <td>4886.0</td>\n",
       "      <td>0.0336</td>\n",
       "      <td>251.100944</td>\n",
       "      <td>8176.0</td>\n",
       "      <td>420.180375</td>\n",
       "    </tr>\n",
       "    <tr>\n",
       "      <th>2</th>\n",
       "      <td>Chile</td>\n",
       "      <td>2020-03-27</td>\n",
       "      <td>7387.0</td>\n",
       "      <td>0.0412</td>\n",
       "      <td>379.632147</td>\n",
       "      <td>15563.0</td>\n",
       "      <td>799.812522</td>\n",
       "    </tr>\n",
       "    <tr>\n",
       "      <th>3</th>\n",
       "      <td>Chile</td>\n",
       "      <td>2020-03-28</td>\n",
       "      <td>3534.0</td>\n",
       "      <td>0.0846</td>\n",
       "      <td>181.619061</td>\n",
       "      <td>19097.0</td>\n",
       "      <td>981.431584</td>\n",
       "    </tr>\n",
       "    <tr>\n",
       "      <th>4</th>\n",
       "      <td>Chile</td>\n",
       "      <td>2020-03-29</td>\n",
       "      <td>1777.0</td>\n",
       "      <td>0.1294</td>\n",
       "      <td>91.323450</td>\n",
       "      <td>20874.0</td>\n",
       "      <td>1072.755034</td>\n",
       "    </tr>\n",
       "  </tbody>\n",
       "</table>\n",
       "</div>"
      ],
      "text/plain": [
       "    País      Fecha     pcr  positividad pcr  Tests realizados por millón  \\\n",
       "0  Chile 2020-03-25  3290.0           0.0669                   169.079432   \n",
       "1  Chile 2020-03-26  4886.0           0.0336                   251.100944   \n",
       "2  Chile 2020-03-27  7387.0           0.0412                   379.632147   \n",
       "3  Chile 2020-03-28  3534.0           0.0846                   181.619061   \n",
       "4  Chile 2020-03-29  1777.0           0.1294                    91.323450   \n",
       "\n",
       "   Acumulado de test realizados  Total tests realizados por millón  \n",
       "0                        3290.0                         169.079432  \n",
       "1                        8176.0                         420.180375  \n",
       "2                       15563.0                         799.812522  \n",
       "3                       19097.0                         981.431584  \n",
       "4                       20874.0                        1072.755034  "
      ]
     },
     "execution_count": 147,
     "metadata": {},
     "output_type": "execute_result"
    }
   ],
   "source": [
    "tests_data_CH.head()"
   ]
  },
  {
   "cell_type": "markdown",
   "metadata": {},
   "source": [
    "<a id = 'Sección7.2'></a>"
   ]
  },
  {
   "cell_type": "markdown",
   "metadata": {},
   "source": [
    "### 7.2. Test realizados y positividad en Uruguay"
   ]
  },
  {
   "cell_type": "code",
   "execution_count": 148,
   "metadata": {},
   "outputs": [],
   "source": [
    "tests_data_UY = global_data_UY.loc [:, ['País','fecha','cantTest', 'acumTest','Positividad']]"
   ]
  },
  {
   "cell_type": "code",
   "execution_count": 149,
   "metadata": {},
   "outputs": [],
   "source": [
    "tests_data_UY ['Tests realizados por millón'] = global_data_UY ['cantTest'].apply(per_million_UY)"
   ]
  },
  {
   "cell_type": "code",
   "execution_count": 150,
   "metadata": {},
   "outputs": [],
   "source": [
    "tests_data_UY ['Total tests realizados por millón'] = global_data_UY ['acumTest'].apply(per_million_UY)"
   ]
  },
  {
   "cell_type": "code",
   "execution_count": 151,
   "metadata": {},
   "outputs": [
    {
     "data": {
      "text/html": [
       "<div>\n",
       "<style scoped>\n",
       "    .dataframe tbody tr th:only-of-type {\n",
       "        vertical-align: middle;\n",
       "    }\n",
       "\n",
       "    .dataframe tbody tr th {\n",
       "        vertical-align: top;\n",
       "    }\n",
       "\n",
       "    .dataframe thead th {\n",
       "        text-align: right;\n",
       "    }\n",
       "</style>\n",
       "<table border=\"1\" class=\"dataframe\">\n",
       "  <thead>\n",
       "    <tr style=\"text-align: right;\">\n",
       "      <th></th>\n",
       "      <th>País</th>\n",
       "      <th>fecha</th>\n",
       "      <th>cantTest</th>\n",
       "      <th>acumTest</th>\n",
       "      <th>Positividad</th>\n",
       "      <th>Tests realizados por millón</th>\n",
       "      <th>Total tests realizados por millón</th>\n",
       "    </tr>\n",
       "  </thead>\n",
       "  <tbody>\n",
       "    <tr>\n",
       "      <th>0</th>\n",
       "      <td>Uruguay</td>\n",
       "      <td>2020-03-25</td>\n",
       "      <td>320</td>\n",
       "      <td>1858</td>\n",
       "      <td>0.088</td>\n",
       "      <td>90.628144</td>\n",
       "      <td>526.209659</td>\n",
       "    </tr>\n",
       "    <tr>\n",
       "      <th>1</th>\n",
       "      <td>Uruguay</td>\n",
       "      <td>2020-03-26</td>\n",
       "      <td>245</td>\n",
       "      <td>2103</td>\n",
       "      <td>0.086</td>\n",
       "      <td>69.387172</td>\n",
       "      <td>595.596832</td>\n",
       "    </tr>\n",
       "    <tr>\n",
       "      <th>2</th>\n",
       "      <td>Uruguay</td>\n",
       "      <td>2020-03-27</td>\n",
       "      <td>451</td>\n",
       "      <td>2554</td>\n",
       "      <td>0.080</td>\n",
       "      <td>127.729040</td>\n",
       "      <td>723.325872</td>\n",
       "    </tr>\n",
       "    <tr>\n",
       "      <th>3</th>\n",
       "      <td>Uruguay</td>\n",
       "      <td>2020-03-28</td>\n",
       "      <td>372</td>\n",
       "      <td>2926</td>\n",
       "      <td>0.081</td>\n",
       "      <td>105.355217</td>\n",
       "      <td>828.681089</td>\n",
       "    </tr>\n",
       "    <tr>\n",
       "      <th>4</th>\n",
       "      <td>Uruguay</td>\n",
       "      <td>2020-03-29</td>\n",
       "      <td>200</td>\n",
       "      <td>3126</td>\n",
       "      <td>0.030</td>\n",
       "      <td>56.642590</td>\n",
       "      <td>885.323678</td>\n",
       "    </tr>\n",
       "  </tbody>\n",
       "</table>\n",
       "</div>"
      ],
      "text/plain": [
       "      País      fecha  cantTest  acumTest  Positividad  \\\n",
       "0  Uruguay 2020-03-25       320      1858        0.088   \n",
       "1  Uruguay 2020-03-26       245      2103        0.086   \n",
       "2  Uruguay 2020-03-27       451      2554        0.080   \n",
       "3  Uruguay 2020-03-28       372      2926        0.081   \n",
       "4  Uruguay 2020-03-29       200      3126        0.030   \n",
       "\n",
       "   Tests realizados por millón  Total tests realizados por millón  \n",
       "0                    90.628144                         526.209659  \n",
       "1                    69.387172                         595.596832  \n",
       "2                   127.729040                         723.325872  \n",
       "3                   105.355217                         828.681089  \n",
       "4                    56.642590                         885.323678  "
      ]
     },
     "execution_count": 151,
     "metadata": {},
     "output_type": "execute_result"
    }
   ],
   "source": [
    "tests_data_UY.head()"
   ]
  },
  {
   "cell_type": "markdown",
   "metadata": {},
   "source": [
    "<a id = 'Sección7.3'></a>"
   ]
  },
  {
   "cell_type": "markdown",
   "metadata": {},
   "source": [
    "### 7.3. Test realizados y positividad consolidado"
   ]
  },
  {
   "cell_type": "code",
   "execution_count": 152,
   "metadata": {},
   "outputs": [],
   "source": [
    "test_data = pd.concat ([tests_data_CH.rename (columns = {'pcr':'Tests', 'positividad pcr':'Positividad'}),\n",
    "                        tests_data_UY.rename (columns = {'fecha':'Fecha', 'cantTest':'Tests', 'acumTest':'Acumulado de test realizados'})])"
   ]
  },
  {
   "cell_type": "code",
   "execution_count": 153,
   "metadata": {},
   "outputs": [
    {
     "data": {
      "text/html": [
       "<div>\n",
       "<style scoped>\n",
       "    .dataframe tbody tr th:only-of-type {\n",
       "        vertical-align: middle;\n",
       "    }\n",
       "\n",
       "    .dataframe tbody tr th {\n",
       "        vertical-align: top;\n",
       "    }\n",
       "\n",
       "    .dataframe thead th {\n",
       "        text-align: right;\n",
       "    }\n",
       "</style>\n",
       "<table border=\"1\" class=\"dataframe\">\n",
       "  <thead>\n",
       "    <tr style=\"text-align: right;\">\n",
       "      <th></th>\n",
       "      <th>País</th>\n",
       "      <th>Fecha</th>\n",
       "      <th>Tests</th>\n",
       "      <th>Positividad</th>\n",
       "      <th>Tests realizados por millón</th>\n",
       "      <th>Acumulado de test realizados</th>\n",
       "      <th>Total tests realizados por millón</th>\n",
       "    </tr>\n",
       "  </thead>\n",
       "  <tbody>\n",
       "    <tr>\n",
       "      <th>0</th>\n",
       "      <td>Chile</td>\n",
       "      <td>2020-03-25</td>\n",
       "      <td>3290.0</td>\n",
       "      <td>0.0669</td>\n",
       "      <td>169.079432</td>\n",
       "      <td>3290.0</td>\n",
       "      <td>1.690794e+02</td>\n",
       "    </tr>\n",
       "    <tr>\n",
       "      <th>1</th>\n",
       "      <td>Chile</td>\n",
       "      <td>2020-03-26</td>\n",
       "      <td>4886.0</td>\n",
       "      <td>0.0336</td>\n",
       "      <td>251.100944</td>\n",
       "      <td>8176.0</td>\n",
       "      <td>4.201804e+02</td>\n",
       "    </tr>\n",
       "    <tr>\n",
       "      <th>2</th>\n",
       "      <td>Chile</td>\n",
       "      <td>2020-03-27</td>\n",
       "      <td>7387.0</td>\n",
       "      <td>0.0412</td>\n",
       "      <td>379.632147</td>\n",
       "      <td>15563.0</td>\n",
       "      <td>7.998125e+02</td>\n",
       "    </tr>\n",
       "    <tr>\n",
       "      <th>3</th>\n",
       "      <td>Chile</td>\n",
       "      <td>2020-03-28</td>\n",
       "      <td>3534.0</td>\n",
       "      <td>0.0846</td>\n",
       "      <td>181.619061</td>\n",
       "      <td>19097.0</td>\n",
       "      <td>9.814316e+02</td>\n",
       "    </tr>\n",
       "    <tr>\n",
       "      <th>4</th>\n",
       "      <td>Chile</td>\n",
       "      <td>2020-03-29</td>\n",
       "      <td>1777.0</td>\n",
       "      <td>0.1294</td>\n",
       "      <td>91.323450</td>\n",
       "      <td>20874.0</td>\n",
       "      <td>1.072755e+03</td>\n",
       "    </tr>\n",
       "    <tr>\n",
       "      <th>...</th>\n",
       "      <td>...</td>\n",
       "      <td>...</td>\n",
       "      <td>...</td>\n",
       "      <td>...</td>\n",
       "      <td>...</td>\n",
       "      <td>...</td>\n",
       "      <td>...</td>\n",
       "    </tr>\n",
       "    <tr>\n",
       "      <th>581</th>\n",
       "      <td>Uruguay</td>\n",
       "      <td>2021-10-27</td>\n",
       "      <td>10864.0</td>\n",
       "      <td>0.0270</td>\n",
       "      <td>3076.825477</td>\n",
       "      <td>3792830.0</td>\n",
       "      <td>1.074179e+06</td>\n",
       "    </tr>\n",
       "    <tr>\n",
       "      <th>582</th>\n",
       "      <td>Uruguay</td>\n",
       "      <td>2021-10-28</td>\n",
       "      <td>10649.0</td>\n",
       "      <td>0.0240</td>\n",
       "      <td>3015.934693</td>\n",
       "      <td>3803479.0</td>\n",
       "      <td>1.077195e+06</td>\n",
       "    </tr>\n",
       "    <tr>\n",
       "      <th>583</th>\n",
       "      <td>Uruguay</td>\n",
       "      <td>2021-10-29</td>\n",
       "      <td>10611.0</td>\n",
       "      <td>0.0300</td>\n",
       "      <td>3005.172601</td>\n",
       "      <td>3814090.0</td>\n",
       "      <td>1.080200e+06</td>\n",
       "    </tr>\n",
       "    <tr>\n",
       "      <th>584</th>\n",
       "      <td>Uruguay</td>\n",
       "      <td>2021-10-30</td>\n",
       "      <td>10096.0</td>\n",
       "      <td>0.0260</td>\n",
       "      <td>2859.317933</td>\n",
       "      <td>3824186.0</td>\n",
       "      <td>1.083059e+06</td>\n",
       "    </tr>\n",
       "    <tr>\n",
       "      <th>585</th>\n",
       "      <td>Uruguay</td>\n",
       "      <td>2021-10-31</td>\n",
       "      <td>6884.0</td>\n",
       "      <td>0.0260</td>\n",
       "      <td>1949.637941</td>\n",
       "      <td>3831070.0</td>\n",
       "      <td>1.085009e+06</td>\n",
       "    </tr>\n",
       "  </tbody>\n",
       "</table>\n",
       "<p>1172 rows × 7 columns</p>\n",
       "</div>"
      ],
      "text/plain": [
       "        País      Fecha    Tests  Positividad  Tests realizados por millón  \\\n",
       "0      Chile 2020-03-25   3290.0       0.0669                   169.079432   \n",
       "1      Chile 2020-03-26   4886.0       0.0336                   251.100944   \n",
       "2      Chile 2020-03-27   7387.0       0.0412                   379.632147   \n",
       "3      Chile 2020-03-28   3534.0       0.0846                   181.619061   \n",
       "4      Chile 2020-03-29   1777.0       0.1294                    91.323450   \n",
       "..       ...        ...      ...          ...                          ...   \n",
       "581  Uruguay 2021-10-27  10864.0       0.0270                  3076.825477   \n",
       "582  Uruguay 2021-10-28  10649.0       0.0240                  3015.934693   \n",
       "583  Uruguay 2021-10-29  10611.0       0.0300                  3005.172601   \n",
       "584  Uruguay 2021-10-30  10096.0       0.0260                  2859.317933   \n",
       "585  Uruguay 2021-10-31   6884.0       0.0260                  1949.637941   \n",
       "\n",
       "     Acumulado de test realizados  Total tests realizados por millón  \n",
       "0                          3290.0                       1.690794e+02  \n",
       "1                          8176.0                       4.201804e+02  \n",
       "2                         15563.0                       7.998125e+02  \n",
       "3                         19097.0                       9.814316e+02  \n",
       "4                         20874.0                       1.072755e+03  \n",
       "..                            ...                                ...  \n",
       "581                     3792830.0                       1.074179e+06  \n",
       "582                     3803479.0                       1.077195e+06  \n",
       "583                     3814090.0                       1.080200e+06  \n",
       "584                     3824186.0                       1.083059e+06  \n",
       "585                     3831070.0                       1.085009e+06  \n",
       "\n",
       "[1172 rows x 7 columns]"
      ]
     },
     "execution_count": 153,
     "metadata": {},
     "output_type": "execute_result"
    }
   ],
   "source": [
    "test_data"
   ]
  },
  {
   "cell_type": "markdown",
   "metadata": {},
   "source": [
    "<a id = 'Sección8'></a>"
   ]
  },
  {
   "cell_type": "markdown",
   "metadata": {},
   "source": [
    "## 8. Cantidad de pacientes en UTI / CI y UCI/CTI"
   ]
  },
  {
   "cell_type": "markdown",
   "metadata": {},
   "source": [
    "La UTI en Chile corresponde a la Unidad de Tratamientos Intensivos, su homólogo en Uruguay son los Cuidados Intermedios (CI). Por otro lado, la UCI en Chile es la Unidad de Cuidados Intensivos y su equivalente en Uruguay es la CTI, Centro de Tratamientos Intensivos."
   ]
  },
  {
   "cell_type": "markdown",
   "metadata": {},
   "source": [
    "<a id = 'Sección8.1'></a>"
   ]
  },
  {
   "cell_type": "markdown",
   "metadata": {},
   "source": [
    "### 8.1. Cantidad de pacientes en UTI /UCI en Chile"
   ]
  },
  {
   "cell_type": "code",
   "execution_count": 154,
   "metadata": {},
   "outputs": [],
   "source": [
    "UCI_data_CH = UCI_CH.loc [:, ['País', 'Fecha', 'UCI', 'UTI']]"
   ]
  },
  {
   "cell_type": "code",
   "execution_count": 155,
   "metadata": {},
   "outputs": [],
   "source": [
    "UCI_data_CH ['Pacientes en UCI/CTI por millón'] = UCI_CH ['UCI'].apply(per_million_CH)"
   ]
  },
  {
   "cell_type": "code",
   "execution_count": 156,
   "metadata": {},
   "outputs": [],
   "source": [
    "UCI_data_CH ['Pacientes en UTI/CI por millón'] = UCI_CH ['UTI'].apply(per_million_CH)"
   ]
  },
  {
   "cell_type": "code",
   "execution_count": 157,
   "metadata": {},
   "outputs": [],
   "source": [
    "active_cases_CH = global_data_CH.loc [:, ['Fecha', 'Casos activos']]"
   ]
  },
  {
   "cell_type": "code",
   "execution_count": 158,
   "metadata": {},
   "outputs": [],
   "source": [
    "# Se realiza un left join para obtener la cantidad de casos activos asociada en cada fecha en el dataframe UCI_data\n",
    "\n",
    "UCI_data_CH = pd.merge (UCI_data_CH, active_cases_CH, how = 'left', on = 'Fecha')"
   ]
  },
  {
   "cell_type": "code",
   "execution_count": 159,
   "metadata": {},
   "outputs": [],
   "source": [
    "UCI_data_CH ['Pctj de contagiados en UCI/CTI'] = UCI_CH ['UCI']*100/UCI_data_CH ['Casos activos']"
   ]
  },
  {
   "cell_type": "code",
   "execution_count": 160,
   "metadata": {},
   "outputs": [],
   "source": [
    "UCI_data_CH ['Pctj de contagiados en UTI/CI'] = UCI_CH ['UTI']*100/UCI_data_CH ['Casos activos']"
   ]
  },
  {
   "cell_type": "code",
   "execution_count": 161,
   "metadata": {},
   "outputs": [
    {
     "data": {
      "text/html": [
       "<div>\n",
       "<style scoped>\n",
       "    .dataframe tbody tr th:only-of-type {\n",
       "        vertical-align: middle;\n",
       "    }\n",
       "\n",
       "    .dataframe tbody tr th {\n",
       "        vertical-align: top;\n",
       "    }\n",
       "\n",
       "    .dataframe thead th {\n",
       "        text-align: right;\n",
       "    }\n",
       "</style>\n",
       "<table border=\"1\" class=\"dataframe\">\n",
       "  <thead>\n",
       "    <tr style=\"text-align: right;\">\n",
       "      <th></th>\n",
       "      <th>País</th>\n",
       "      <th>Fecha</th>\n",
       "      <th>UCI</th>\n",
       "      <th>UTI</th>\n",
       "      <th>Pacientes en UCI/CTI por millón</th>\n",
       "      <th>Pacientes en UTI/CI por millón</th>\n",
       "      <th>Casos activos</th>\n",
       "      <th>Pctj de contagiados en UCI/CTI</th>\n",
       "      <th>Pctj de contagiados en UTI/CI</th>\n",
       "    </tr>\n",
       "  </thead>\n",
       "  <tbody>\n",
       "    <tr>\n",
       "      <th>0</th>\n",
       "      <td>Chile</td>\n",
       "      <td>2020-04-16</td>\n",
       "      <td>384</td>\n",
       "      <td>111</td>\n",
       "      <td>19.734499</td>\n",
       "      <td>5.704504</td>\n",
       "      <td>5403.0</td>\n",
       "      <td>7.107163</td>\n",
       "      <td>2.054414</td>\n",
       "    </tr>\n",
       "    <tr>\n",
       "      <th>1</th>\n",
       "      <td>Chile</td>\n",
       "      <td>2020-04-17</td>\n",
       "      <td>407</td>\n",
       "      <td>168</td>\n",
       "      <td>20.916513</td>\n",
       "      <td>8.633843</td>\n",
       "      <td>5515.0</td>\n",
       "      <td>7.379873</td>\n",
       "      <td>3.046238</td>\n",
       "    </tr>\n",
       "    <tr>\n",
       "      <th>2</th>\n",
       "      <td>Chile</td>\n",
       "      <td>2020-04-18</td>\n",
       "      <td>380</td>\n",
       "      <td>180</td>\n",
       "      <td>19.528931</td>\n",
       "      <td>9.250546</td>\n",
       "      <td>5569.0</td>\n",
       "      <td>6.823487</td>\n",
       "      <td>3.232178</td>\n",
       "    </tr>\n",
       "    <tr>\n",
       "      <th>3</th>\n",
       "      <td>Chile</td>\n",
       "      <td>2020-04-19</td>\n",
       "      <td>373</td>\n",
       "      <td>134</td>\n",
       "      <td>19.169188</td>\n",
       "      <td>6.886518</td>\n",
       "      <td>5617.0</td>\n",
       "      <td>6.640555</td>\n",
       "      <td>2.385615</td>\n",
       "    </tr>\n",
       "    <tr>\n",
       "      <th>4</th>\n",
       "      <td>Chile</td>\n",
       "      <td>2020-04-20</td>\n",
       "      <td>377</td>\n",
       "      <td>129</td>\n",
       "      <td>19.374756</td>\n",
       "      <td>6.629558</td>\n",
       "      <td>5692.0</td>\n",
       "      <td>6.623331</td>\n",
       "      <td>2.266339</td>\n",
       "    </tr>\n",
       "  </tbody>\n",
       "</table>\n",
       "</div>"
      ],
      "text/plain": [
       "    País      Fecha  UCI  UTI  Pacientes en UCI/CTI por millón  \\\n",
       "0  Chile 2020-04-16  384  111                        19.734499   \n",
       "1  Chile 2020-04-17  407  168                        20.916513   \n",
       "2  Chile 2020-04-18  380  180                        19.528931   \n",
       "3  Chile 2020-04-19  373  134                        19.169188   \n",
       "4  Chile 2020-04-20  377  129                        19.374756   \n",
       "\n",
       "   Pacientes en UTI/CI por millón  Casos activos  \\\n",
       "0                        5.704504         5403.0   \n",
       "1                        8.633843         5515.0   \n",
       "2                        9.250546         5569.0   \n",
       "3                        6.886518         5617.0   \n",
       "4                        6.629558         5692.0   \n",
       "\n",
       "   Pctj de contagiados en UCI/CTI  Pctj de contagiados en UTI/CI  \n",
       "0                        7.107163                       2.054414  \n",
       "1                        7.379873                       3.046238  \n",
       "2                        6.823487                       3.232178  \n",
       "3                        6.640555                       2.385615  \n",
       "4                        6.623331                       2.266339  "
      ]
     },
     "execution_count": 161,
     "metadata": {},
     "output_type": "execute_result"
    }
   ],
   "source": [
    "UCI_data_CH.head()"
   ]
  },
  {
   "cell_type": "markdown",
   "metadata": {},
   "source": [
    "<a id = 'Sección8.2'></a>"
   ]
  },
  {
   "cell_type": "markdown",
   "metadata": {},
   "source": [
    "### 8.2. Cantidad de pacientes en CI / CTI en Uruguay"
   ]
  },
  {
   "cell_type": "code",
   "execution_count": 162,
   "metadata": {},
   "outputs": [],
   "source": [
    "CTI_data_UY = global_data_UY.loc [:, ['País', 'fecha', 'cantPersonasConInfeccionEnCurso', 'cantCTI','cantCI']]"
   ]
  },
  {
   "cell_type": "code",
   "execution_count": 163,
   "metadata": {},
   "outputs": [],
   "source": [
    "CTI_data_UY ['Pacientes en UCI/CTI por millón'] = global_data_UY ['cantCTI'].apply(per_million_UY)"
   ]
  },
  {
   "cell_type": "code",
   "execution_count": 164,
   "metadata": {},
   "outputs": [],
   "source": [
    "CTI_data_UY ['Pacientes en UTI/CI por millón'] = global_data_UY ['cantCI'].apply(per_million_UY)"
   ]
  },
  {
   "cell_type": "code",
   "execution_count": 165,
   "metadata": {},
   "outputs": [],
   "source": [
    "CTI_data_UY ['Pctj de contagiados en UCI/CTI'] = global_data_UY ['cantCTI']*100/global_data_UY['cantPersonasConInfeccionEnCurso']"
   ]
  },
  {
   "cell_type": "code",
   "execution_count": 166,
   "metadata": {},
   "outputs": [],
   "source": [
    "CTI_data_UY ['Pctj de contagiados en UTI/CI'] = global_data_UY ['cantCI']*100/global_data_UY['cantPersonasConInfeccionEnCurso']"
   ]
  },
  {
   "cell_type": "code",
   "execution_count": 167,
   "metadata": {},
   "outputs": [
    {
     "data": {
      "text/html": [
       "<div>\n",
       "<style scoped>\n",
       "    .dataframe tbody tr th:only-of-type {\n",
       "        vertical-align: middle;\n",
       "    }\n",
       "\n",
       "    .dataframe tbody tr th {\n",
       "        vertical-align: top;\n",
       "    }\n",
       "\n",
       "    .dataframe thead th {\n",
       "        text-align: right;\n",
       "    }\n",
       "</style>\n",
       "<table border=\"1\" class=\"dataframe\">\n",
       "  <thead>\n",
       "    <tr style=\"text-align: right;\">\n",
       "      <th></th>\n",
       "      <th>País</th>\n",
       "      <th>fecha</th>\n",
       "      <th>cantPersonasConInfeccionEnCurso</th>\n",
       "      <th>cantCTI</th>\n",
       "      <th>cantCI</th>\n",
       "      <th>Pacientes en UCI/CTI por millón</th>\n",
       "      <th>Pacientes en UTI/CI por millón</th>\n",
       "      <th>Pctj de contagiados en UCI/CTI</th>\n",
       "      <th>Pctj de contagiados en UTI/CI</th>\n",
       "    </tr>\n",
       "  </thead>\n",
       "  <tbody>\n",
       "    <tr>\n",
       "      <th>0</th>\n",
       "      <td>Uruguay</td>\n",
       "      <td>2020-03-25</td>\n",
       "      <td>217</td>\n",
       "      <td>4</td>\n",
       "      <td>2</td>\n",
       "      <td>1.132852</td>\n",
       "      <td>0.566426</td>\n",
       "      <td>1.843318</td>\n",
       "      <td>0.921659</td>\n",
       "    </tr>\n",
       "    <tr>\n",
       "      <th>1</th>\n",
       "      <td>Uruguay</td>\n",
       "      <td>2020-03-26</td>\n",
       "      <td>238</td>\n",
       "      <td>4</td>\n",
       "      <td>2</td>\n",
       "      <td>1.132852</td>\n",
       "      <td>0.566426</td>\n",
       "      <td>1.680672</td>\n",
       "      <td>0.840336</td>\n",
       "    </tr>\n",
       "    <tr>\n",
       "      <th>2</th>\n",
       "      <td>Uruguay</td>\n",
       "      <td>2020-03-27</td>\n",
       "      <td>274</td>\n",
       "      <td>8</td>\n",
       "      <td>0</td>\n",
       "      <td>2.265704</td>\n",
       "      <td>0.000000</td>\n",
       "      <td>2.919708</td>\n",
       "      <td>0.000000</td>\n",
       "    </tr>\n",
       "    <tr>\n",
       "      <th>3</th>\n",
       "      <td>Uruguay</td>\n",
       "      <td>2020-03-28</td>\n",
       "      <td>303</td>\n",
       "      <td>8</td>\n",
       "      <td>5</td>\n",
       "      <td>2.265704</td>\n",
       "      <td>1.416065</td>\n",
       "      <td>2.640264</td>\n",
       "      <td>1.650165</td>\n",
       "    </tr>\n",
       "    <tr>\n",
       "      <th>4</th>\n",
       "      <td>Uruguay</td>\n",
       "      <td>2020-03-29</td>\n",
       "      <td>309</td>\n",
       "      <td>10</td>\n",
       "      <td>2</td>\n",
       "      <td>2.832129</td>\n",
       "      <td>0.566426</td>\n",
       "      <td>3.236246</td>\n",
       "      <td>0.647249</td>\n",
       "    </tr>\n",
       "  </tbody>\n",
       "</table>\n",
       "</div>"
      ],
      "text/plain": [
       "      País      fecha  cantPersonasConInfeccionEnCurso  cantCTI  cantCI  \\\n",
       "0  Uruguay 2020-03-25                              217        4       2   \n",
       "1  Uruguay 2020-03-26                              238        4       2   \n",
       "2  Uruguay 2020-03-27                              274        8       0   \n",
       "3  Uruguay 2020-03-28                              303        8       5   \n",
       "4  Uruguay 2020-03-29                              309       10       2   \n",
       "\n",
       "   Pacientes en UCI/CTI por millón  Pacientes en UTI/CI por millón  \\\n",
       "0                         1.132852                        0.566426   \n",
       "1                         1.132852                        0.566426   \n",
       "2                         2.265704                        0.000000   \n",
       "3                         2.265704                        1.416065   \n",
       "4                         2.832129                        0.566426   \n",
       "\n",
       "   Pctj de contagiados en UCI/CTI  Pctj de contagiados en UTI/CI  \n",
       "0                        1.843318                       0.921659  \n",
       "1                        1.680672                       0.840336  \n",
       "2                        2.919708                       0.000000  \n",
       "3                        2.640264                       1.650165  \n",
       "4                        3.236246                       0.647249  "
      ]
     },
     "execution_count": 167,
     "metadata": {},
     "output_type": "execute_result"
    }
   ],
   "source": [
    "CTI_data_UY.head()"
   ]
  },
  {
   "cell_type": "markdown",
   "metadata": {},
   "source": [
    "<a id = 'Sección8.3'></a>"
   ]
  },
  {
   "cell_type": "markdown",
   "metadata": {},
   "source": [
    "### 8.3. Cantidad de pacientes en UTI/CI y  UCI/ CTI consolidado"
   ]
  },
  {
   "cell_type": "code",
   "execution_count": 168,
   "metadata": {},
   "outputs": [
    {
     "data": {
      "text/html": [
       "<div>\n",
       "<style scoped>\n",
       "    .dataframe tbody tr th:only-of-type {\n",
       "        vertical-align: middle;\n",
       "    }\n",
       "\n",
       "    .dataframe tbody tr th {\n",
       "        vertical-align: top;\n",
       "    }\n",
       "\n",
       "    .dataframe thead th {\n",
       "        text-align: right;\n",
       "    }\n",
       "</style>\n",
       "<table border=\"1\" class=\"dataframe\">\n",
       "  <thead>\n",
       "    <tr style=\"text-align: right;\">\n",
       "      <th></th>\n",
       "      <th>País</th>\n",
       "      <th>Fecha</th>\n",
       "      <th>UCI/CTI</th>\n",
       "      <th>UTI/CI</th>\n",
       "      <th>Pacientes en UCI/CTI por millón</th>\n",
       "      <th>Pacientes en UTI/CI por millón</th>\n",
       "      <th>Casos activos</th>\n",
       "      <th>Pctj de contagiados en UCI/CTI</th>\n",
       "      <th>Pctj de contagiados en UTI/CI</th>\n",
       "    </tr>\n",
       "  </thead>\n",
       "  <tbody>\n",
       "    <tr>\n",
       "      <th>0</th>\n",
       "      <td>Chile</td>\n",
       "      <td>2020-04-16</td>\n",
       "      <td>384</td>\n",
       "      <td>111</td>\n",
       "      <td>19.734499</td>\n",
       "      <td>5.704504</td>\n",
       "      <td>5403.0</td>\n",
       "      <td>7.107163</td>\n",
       "      <td>2.054414</td>\n",
       "    </tr>\n",
       "    <tr>\n",
       "      <th>1</th>\n",
       "      <td>Chile</td>\n",
       "      <td>2020-04-17</td>\n",
       "      <td>407</td>\n",
       "      <td>168</td>\n",
       "      <td>20.916513</td>\n",
       "      <td>8.633843</td>\n",
       "      <td>5515.0</td>\n",
       "      <td>7.379873</td>\n",
       "      <td>3.046238</td>\n",
       "    </tr>\n",
       "    <tr>\n",
       "      <th>2</th>\n",
       "      <td>Chile</td>\n",
       "      <td>2020-04-18</td>\n",
       "      <td>380</td>\n",
       "      <td>180</td>\n",
       "      <td>19.528931</td>\n",
       "      <td>9.250546</td>\n",
       "      <td>5569.0</td>\n",
       "      <td>6.823487</td>\n",
       "      <td>3.232178</td>\n",
       "    </tr>\n",
       "    <tr>\n",
       "      <th>3</th>\n",
       "      <td>Chile</td>\n",
       "      <td>2020-04-19</td>\n",
       "      <td>373</td>\n",
       "      <td>134</td>\n",
       "      <td>19.169188</td>\n",
       "      <td>6.886518</td>\n",
       "      <td>5617.0</td>\n",
       "      <td>6.640555</td>\n",
       "      <td>2.385615</td>\n",
       "    </tr>\n",
       "    <tr>\n",
       "      <th>4</th>\n",
       "      <td>Chile</td>\n",
       "      <td>2020-04-20</td>\n",
       "      <td>377</td>\n",
       "      <td>129</td>\n",
       "      <td>19.374756</td>\n",
       "      <td>6.629558</td>\n",
       "      <td>5692.0</td>\n",
       "      <td>6.623331</td>\n",
       "      <td>2.266339</td>\n",
       "    </tr>\n",
       "    <tr>\n",
       "      <th>...</th>\n",
       "      <td>...</td>\n",
       "      <td>...</td>\n",
       "      <td>...</td>\n",
       "      <td>...</td>\n",
       "      <td>...</td>\n",
       "      <td>...</td>\n",
       "      <td>...</td>\n",
       "      <td>...</td>\n",
       "      <td>...</td>\n",
       "    </tr>\n",
       "    <tr>\n",
       "      <th>581</th>\n",
       "      <td>Uruguay</td>\n",
       "      <td>2021-10-27</td>\n",
       "      <td>22</td>\n",
       "      <td>0</td>\n",
       "      <td>6.230685</td>\n",
       "      <td>0.000000</td>\n",
       "      <td>1892.0</td>\n",
       "      <td>1.162791</td>\n",
       "      <td>0.000000</td>\n",
       "    </tr>\n",
       "    <tr>\n",
       "      <th>582</th>\n",
       "      <td>Uruguay</td>\n",
       "      <td>2021-10-28</td>\n",
       "      <td>22</td>\n",
       "      <td>0</td>\n",
       "      <td>6.230685</td>\n",
       "      <td>0.000000</td>\n",
       "      <td>1993.0</td>\n",
       "      <td>1.103864</td>\n",
       "      <td>0.000000</td>\n",
       "    </tr>\n",
       "    <tr>\n",
       "      <th>583</th>\n",
       "      <td>Uruguay</td>\n",
       "      <td>2021-10-29</td>\n",
       "      <td>21</td>\n",
       "      <td>0</td>\n",
       "      <td>5.947472</td>\n",
       "      <td>0.000000</td>\n",
       "      <td>2162.0</td>\n",
       "      <td>0.971323</td>\n",
       "      <td>0.000000</td>\n",
       "    </tr>\n",
       "    <tr>\n",
       "      <th>584</th>\n",
       "      <td>Uruguay</td>\n",
       "      <td>2021-10-30</td>\n",
       "      <td>23</td>\n",
       "      <td>0</td>\n",
       "      <td>6.513898</td>\n",
       "      <td>0.000000</td>\n",
       "      <td>2258.0</td>\n",
       "      <td>1.018601</td>\n",
       "      <td>0.000000</td>\n",
       "    </tr>\n",
       "    <tr>\n",
       "      <th>585</th>\n",
       "      <td>Uruguay</td>\n",
       "      <td>2021-10-31</td>\n",
       "      <td>23</td>\n",
       "      <td>0</td>\n",
       "      <td>6.513898</td>\n",
       "      <td>0.000000</td>\n",
       "      <td>2292.0</td>\n",
       "      <td>1.003490</td>\n",
       "      <td>0.000000</td>\n",
       "    </tr>\n",
       "  </tbody>\n",
       "</table>\n",
       "<p>1150 rows × 9 columns</p>\n",
       "</div>"
      ],
      "text/plain": [
       "        País      Fecha  UCI/CTI  UTI/CI  Pacientes en UCI/CTI por millón  \\\n",
       "0      Chile 2020-04-16      384     111                        19.734499   \n",
       "1      Chile 2020-04-17      407     168                        20.916513   \n",
       "2      Chile 2020-04-18      380     180                        19.528931   \n",
       "3      Chile 2020-04-19      373     134                        19.169188   \n",
       "4      Chile 2020-04-20      377     129                        19.374756   \n",
       "..       ...        ...      ...     ...                              ...   \n",
       "581  Uruguay 2021-10-27       22       0                         6.230685   \n",
       "582  Uruguay 2021-10-28       22       0                         6.230685   \n",
       "583  Uruguay 2021-10-29       21       0                         5.947472   \n",
       "584  Uruguay 2021-10-30       23       0                         6.513898   \n",
       "585  Uruguay 2021-10-31       23       0                         6.513898   \n",
       "\n",
       "     Pacientes en UTI/CI por millón  Casos activos  \\\n",
       "0                          5.704504         5403.0   \n",
       "1                          8.633843         5515.0   \n",
       "2                          9.250546         5569.0   \n",
       "3                          6.886518         5617.0   \n",
       "4                          6.629558         5692.0   \n",
       "..                              ...            ...   \n",
       "581                        0.000000         1892.0   \n",
       "582                        0.000000         1993.0   \n",
       "583                        0.000000         2162.0   \n",
       "584                        0.000000         2258.0   \n",
       "585                        0.000000         2292.0   \n",
       "\n",
       "     Pctj de contagiados en UCI/CTI  Pctj de contagiados en UTI/CI  \n",
       "0                          7.107163                       2.054414  \n",
       "1                          7.379873                       3.046238  \n",
       "2                          6.823487                       3.232178  \n",
       "3                          6.640555                       2.385615  \n",
       "4                          6.623331                       2.266339  \n",
       "..                              ...                            ...  \n",
       "581                        1.162791                       0.000000  \n",
       "582                        1.103864                       0.000000  \n",
       "583                        0.971323                       0.000000  \n",
       "584                        1.018601                       0.000000  \n",
       "585                        1.003490                       0.000000  \n",
       "\n",
       "[1150 rows x 9 columns]"
      ]
     },
     "execution_count": 168,
     "metadata": {},
     "output_type": "execute_result"
    }
   ],
   "source": [
    "UCI_data = pd.concat ([UCI_data_CH.rename (columns = {'UCI':'UCI/CTI', 'UTI':'UTI/CI'} ) ,\n",
    "                       CTI_data_UY.rename (columns = {'fecha':'Fecha','cantPersonasConInfeccionEnCurso':'Casos activos',\n",
    "                                                                 'cantCTI':'UCI/CTI', 'cantCI':'UTI/CI'})])\n",
    "UCI_data"
   ]
  },
  {
   "cell_type": "markdown",
   "metadata": {},
   "source": [
    "<a id = 'Sección9'></a>"
   ]
  },
  {
   "cell_type": "markdown",
   "metadata": {},
   "source": [
    "## 9. Niveles de riesgo a nivel nacional"
   ]
  },
  {
   "cell_type": "markdown",
   "metadata": {},
   "source": [
    "El indicador **nivel de riesgo** corresponde a una métrica clave para la supresión del covid. Fue desarrollada por Brown School of Public Health y Harvard Univesity y busca que proporcionar una guía clara y accesible sobre cómo atacar y eliminar el COVID-19 de manera más eficaz en todo el país al ayudar a determinar la gravedad del brote al que están respondiendo.  \n",
    "Los niveles de riesgo son calculados en base a la media móvil de los nuevos casos diarios, considerando un período de 7 días, por cada 100mil habitantes, y se dividen en 4 categorías, los cuales son representados por colores:\n",
    "\n",
    " + **On track for conteinment (verde):** Índice de riesgo menor a un caso por cada 100mil habitantes. Se recomienda monitorear con pruebas virales y programas de rastreo de  contacto.\n",
    " \n",
    " + **Community spread (amarillo):** Índice de riesgo entre 1 y 9 casos por cada 100mil habitantes. Se recomienda realizar rigurosos programas de testeo y rastreo de contactos.\n",
    " \n",
    " + **Accelerated spread (naranjo):** Índice de riesgo entre 10 y 24 casos por cada 100mil habitantes.Se recomienda realizar rigurosos programas de testeo y rastreo de contactos, y/u ordenar quedarse en casa.\n",
    " \n",
    " + **Tipping point (rojo):** Índice de riesgo de más de 25 casos por cada 100mil habitantes.Se recomienda realizar rigurosos programas de testeo y rastreo de contactos, y/u ordenar quedarse en casa.  \n",
    "\n",
    "Para más información, visitar la página web [Global Epidemics](https://globalepidemics.org/key-metrics-for-covid-suppression/) de Brown School of Public Health"
   ]
  },
  {
   "cell_type": "markdown",
   "metadata": {},
   "source": [
    "<a id = 'Sección9.1'></a>"
   ]
  },
  {
   "cell_type": "markdown",
   "metadata": {},
   "source": [
    "### 9.1. Niveles de riesgo a nivel nacional en Chile"
   ]
  },
  {
   "cell_type": "code",
   "execution_count": 169,
   "metadata": {},
   "outputs": [],
   "source": [
    "risk_levels_CH = global_data_CH.loc [:, ['País', 'Fecha']]"
   ]
  },
  {
   "cell_type": "code",
   "execution_count": 170,
   "metadata": {},
   "outputs": [],
   "source": [
    "# El nivel de riesgo corresponde a la media móvil de los casos nuevos en un periodo de 7 días por cada 100mil habitantes.\n",
    "\n",
    "risk_levels_CH ['Nivel de riesgo'] = global_data_CH ['Casos nuevos totales'].rolling (window = 7).mean() *100000/total_pop_CH"
   ]
  },
  {
   "cell_type": "code",
   "execution_count": 171,
   "metadata": {},
   "outputs": [],
   "source": [
    "# Se eliminan las primeras 6 filas del dataframe, puesto que al calcular la media móvil con una ventana de 7 días, dichas filas\n",
    "# quedan con valor NaN en la columna 'Nivel de riesgo'\n",
    "\n",
    "risk_levels_CH = risk_levels_CH.dropna(subset= ['Nivel de riesgo'])"
   ]
  },
  {
   "cell_type": "code",
   "execution_count": 172,
   "metadata": {},
   "outputs": [],
   "source": [
    "risk_levels_CH.reset_index (drop = True, inplace = True)"
   ]
  },
  {
   "cell_type": "code",
   "execution_count": 173,
   "metadata": {},
   "outputs": [
    {
     "data": {
      "text/html": [
       "<div>\n",
       "<style scoped>\n",
       "    .dataframe tbody tr th:only-of-type {\n",
       "        vertical-align: middle;\n",
       "    }\n",
       "\n",
       "    .dataframe tbody tr th {\n",
       "        vertical-align: top;\n",
       "    }\n",
       "\n",
       "    .dataframe thead th {\n",
       "        text-align: right;\n",
       "    }\n",
       "</style>\n",
       "<table border=\"1\" class=\"dataframe\">\n",
       "  <thead>\n",
       "    <tr style=\"text-align: right;\">\n",
       "      <th></th>\n",
       "      <th>País</th>\n",
       "      <th>Fecha</th>\n",
       "      <th>Nivel de riesgo</th>\n",
       "    </tr>\n",
       "  </thead>\n",
       "  <tbody>\n",
       "    <tr>\n",
       "      <th>0</th>\n",
       "      <td>Chile</td>\n",
       "      <td>2020-03-08</td>\n",
       "      <td>0.007342</td>\n",
       "    </tr>\n",
       "    <tr>\n",
       "      <th>1</th>\n",
       "      <td>Chile</td>\n",
       "      <td>2020-03-09</td>\n",
       "      <td>0.010278</td>\n",
       "    </tr>\n",
       "    <tr>\n",
       "      <th>2</th>\n",
       "      <td>Chile</td>\n",
       "      <td>2020-03-10</td>\n",
       "      <td>0.011747</td>\n",
       "    </tr>\n",
       "    <tr>\n",
       "      <th>3</th>\n",
       "      <td>Chile</td>\n",
       "      <td>2020-03-11</td>\n",
       "      <td>0.014683</td>\n",
       "    </tr>\n",
       "    <tr>\n",
       "      <th>4</th>\n",
       "      <td>Chile</td>\n",
       "      <td>2020-03-12</td>\n",
       "      <td>0.021291</td>\n",
       "    </tr>\n",
       "  </tbody>\n",
       "</table>\n",
       "</div>"
      ],
      "text/plain": [
       "    País      Fecha  Nivel de riesgo\n",
       "0  Chile 2020-03-08         0.007342\n",
       "1  Chile 2020-03-09         0.010278\n",
       "2  Chile 2020-03-10         0.011747\n",
       "3  Chile 2020-03-11         0.014683\n",
       "4  Chile 2020-03-12         0.021291"
      ]
     },
     "execution_count": 173,
     "metadata": {},
     "output_type": "execute_result"
    }
   ],
   "source": [
    "risk_levels_CH.head()"
   ]
  },
  {
   "cell_type": "markdown",
   "metadata": {},
   "source": [
    "<a id = 'Sección9.2'></a>"
   ]
  },
  {
   "cell_type": "markdown",
   "metadata": {},
   "source": [
    "### 9.2. Niveles de riesgo a nivel nacional en Uruguay"
   ]
  },
  {
   "cell_type": "code",
   "execution_count": 174,
   "metadata": {},
   "outputs": [],
   "source": [
    "risk_levels_UY = global_data_UY.loc [:, ['País', 'fecha']]"
   ]
  },
  {
   "cell_type": "code",
   "execution_count": 175,
   "metadata": {},
   "outputs": [],
   "source": [
    "risk_levels_UY ['Nivel de riesgo'] = global_data_UY ['cantCasosNuevosConsolidado'].rolling (window = 7).mean() *100000/total_pop_UY"
   ]
  },
  {
   "cell_type": "code",
   "execution_count": 176,
   "metadata": {},
   "outputs": [],
   "source": [
    "risk_levels_UY = risk_levels_UY.dropna(subset= ['Nivel de riesgo'])"
   ]
  },
  {
   "cell_type": "code",
   "execution_count": 177,
   "metadata": {},
   "outputs": [],
   "source": [
    "risk_levels_UY.reset_index (drop = True, inplace = True)"
   ]
  },
  {
   "cell_type": "code",
   "execution_count": 178,
   "metadata": {},
   "outputs": [
    {
     "data": {
      "text/html": [
       "<div>\n",
       "<style scoped>\n",
       "    .dataframe tbody tr th:only-of-type {\n",
       "        vertical-align: middle;\n",
       "    }\n",
       "\n",
       "    .dataframe tbody tr th {\n",
       "        vertical-align: top;\n",
       "    }\n",
       "\n",
       "    .dataframe thead th {\n",
       "        text-align: right;\n",
       "    }\n",
       "</style>\n",
       "<table border=\"1\" class=\"dataframe\">\n",
       "  <thead>\n",
       "    <tr style=\"text-align: right;\">\n",
       "      <th></th>\n",
       "      <th>País</th>\n",
       "      <th>fecha</th>\n",
       "      <th>Nivel de riesgo</th>\n",
       "    </tr>\n",
       "  </thead>\n",
       "  <tbody>\n",
       "    <tr>\n",
       "      <th>0</th>\n",
       "      <td>Uruguay</td>\n",
       "      <td>2020-03-31</td>\n",
       "      <td>0.586655</td>\n",
       "    </tr>\n",
       "    <tr>\n",
       "      <th>1</th>\n",
       "      <td>Uruguay</td>\n",
       "      <td>2020-04-01</td>\n",
       "      <td>0.513829</td>\n",
       "    </tr>\n",
       "    <tr>\n",
       "      <th>2</th>\n",
       "      <td>Uruguay</td>\n",
       "      <td>2020-04-02</td>\n",
       "      <td>0.497646</td>\n",
       "    </tr>\n",
       "    <tr>\n",
       "      <th>3</th>\n",
       "      <td>Uruguay</td>\n",
       "      <td>2020-04-03</td>\n",
       "      <td>0.412682</td>\n",
       "    </tr>\n",
       "    <tr>\n",
       "      <th>4</th>\n",
       "      <td>Uruguay</td>\n",
       "      <td>2020-04-04</td>\n",
       "      <td>0.339856</td>\n",
       "    </tr>\n",
       "  </tbody>\n",
       "</table>\n",
       "</div>"
      ],
      "text/plain": [
       "      País      fecha  Nivel de riesgo\n",
       "0  Uruguay 2020-03-31         0.586655\n",
       "1  Uruguay 2020-04-01         0.513829\n",
       "2  Uruguay 2020-04-02         0.497646\n",
       "3  Uruguay 2020-04-03         0.412682\n",
       "4  Uruguay 2020-04-04         0.339856"
      ]
     },
     "execution_count": 178,
     "metadata": {},
     "output_type": "execute_result"
    }
   ],
   "source": [
    "risk_levels_UY.head()"
   ]
  },
  {
   "cell_type": "markdown",
   "metadata": {},
   "source": [
    "<a id = 'Sección9.3'></a>"
   ]
  },
  {
   "cell_type": "markdown",
   "metadata": {},
   "source": [
    "### 9.3. Niveles de riesgo a nivel nacional consolidado"
   ]
  },
  {
   "cell_type": "code",
   "execution_count": 179,
   "metadata": {},
   "outputs": [
    {
     "data": {
      "text/html": [
       "<div>\n",
       "<style scoped>\n",
       "    .dataframe tbody tr th:only-of-type {\n",
       "        vertical-align: middle;\n",
       "    }\n",
       "\n",
       "    .dataframe tbody tr th {\n",
       "        vertical-align: top;\n",
       "    }\n",
       "\n",
       "    .dataframe thead th {\n",
       "        text-align: right;\n",
       "    }\n",
       "</style>\n",
       "<table border=\"1\" class=\"dataframe\">\n",
       "  <thead>\n",
       "    <tr style=\"text-align: right;\">\n",
       "      <th></th>\n",
       "      <th>País</th>\n",
       "      <th>Fecha</th>\n",
       "      <th>Nivel de riesgo</th>\n",
       "    </tr>\n",
       "  </thead>\n",
       "  <tbody>\n",
       "    <tr>\n",
       "      <th>0</th>\n",
       "      <td>Chile</td>\n",
       "      <td>2020-03-08</td>\n",
       "      <td>0.007342</td>\n",
       "    </tr>\n",
       "    <tr>\n",
       "      <th>1</th>\n",
       "      <td>Chile</td>\n",
       "      <td>2020-03-09</td>\n",
       "      <td>0.010278</td>\n",
       "    </tr>\n",
       "    <tr>\n",
       "      <th>2</th>\n",
       "      <td>Chile</td>\n",
       "      <td>2020-03-10</td>\n",
       "      <td>0.011747</td>\n",
       "    </tr>\n",
       "    <tr>\n",
       "      <th>3</th>\n",
       "      <td>Chile</td>\n",
       "      <td>2020-03-11</td>\n",
       "      <td>0.014683</td>\n",
       "    </tr>\n",
       "    <tr>\n",
       "      <th>4</th>\n",
       "      <td>Chile</td>\n",
       "      <td>2020-03-12</td>\n",
       "      <td>0.021291</td>\n",
       "    </tr>\n",
       "    <tr>\n",
       "      <th>...</th>\n",
       "      <td>...</td>\n",
       "      <td>...</td>\n",
       "      <td>...</td>\n",
       "    </tr>\n",
       "    <tr>\n",
       "      <th>575</th>\n",
       "      <td>Uruguay</td>\n",
       "      <td>2021-10-27</td>\n",
       "      <td>5.550974</td>\n",
       "    </tr>\n",
       "    <tr>\n",
       "      <th>576</th>\n",
       "      <td>Uruguay</td>\n",
       "      <td>2021-10-28</td>\n",
       "      <td>5.854416</td>\n",
       "    </tr>\n",
       "    <tr>\n",
       "      <th>577</th>\n",
       "      <td>Uruguay</td>\n",
       "      <td>2021-10-29</td>\n",
       "      <td>6.352062</td>\n",
       "    </tr>\n",
       "    <tr>\n",
       "      <th>578</th>\n",
       "      <td>Uruguay</td>\n",
       "      <td>2021-10-30</td>\n",
       "      <td>6.857799</td>\n",
       "    </tr>\n",
       "    <tr>\n",
       "      <th>579</th>\n",
       "      <td>Uruguay</td>\n",
       "      <td>2021-10-31</td>\n",
       "      <td>7.108645</td>\n",
       "    </tr>\n",
       "  </tbody>\n",
       "</table>\n",
       "<p>1183 rows × 3 columns</p>\n",
       "</div>"
      ],
      "text/plain": [
       "        País      Fecha  Nivel de riesgo\n",
       "0      Chile 2020-03-08         0.007342\n",
       "1      Chile 2020-03-09         0.010278\n",
       "2      Chile 2020-03-10         0.011747\n",
       "3      Chile 2020-03-11         0.014683\n",
       "4      Chile 2020-03-12         0.021291\n",
       "..       ...        ...              ...\n",
       "575  Uruguay 2021-10-27         5.550974\n",
       "576  Uruguay 2021-10-28         5.854416\n",
       "577  Uruguay 2021-10-29         6.352062\n",
       "578  Uruguay 2021-10-30         6.857799\n",
       "579  Uruguay 2021-10-31         7.108645\n",
       "\n",
       "[1183 rows x 3 columns]"
      ]
     },
     "execution_count": 179,
     "metadata": {},
     "output_type": "execute_result"
    }
   ],
   "source": [
    "risk_levels = pd.concat ([risk_levels_CH, risk_levels_UY.rename (columns = {'fecha':'Fecha'})])\n",
    "risk_levels"
   ]
  },
  {
   "cell_type": "markdown",
   "metadata": {},
   "source": [
    "<a id = 'Sección10'></a>"
   ]
  },
  {
   "cell_type": "markdown",
   "metadata": {},
   "source": [
    "## 10. Casos activos y nivel de riesgo a nivel regional/departamental"
   ]
  },
  {
   "cell_type": "markdown",
   "metadata": {},
   "source": [
    "<a id = 'Sección10.1'></a>"
   ]
  },
  {
   "cell_type": "markdown",
   "metadata": {},
   "source": [
    "### 10.1. Casos activos y nivel de riesgo a nivel regional en Chile"
   ]
  },
  {
   "cell_type": "code",
   "execution_count": 180,
   "metadata": {},
   "outputs": [],
   "source": [
    "regional_data_CH = regional_data_CH.pivot (index = ['Fecha', 'Region'], columns = 'Categoria', values = 'Total')"
   ]
  },
  {
   "cell_type": "code",
   "execution_count": 181,
   "metadata": {},
   "outputs": [],
   "source": [
    "# Selección de las columnas a utilizar\n",
    "\n",
    "regional_data_CH = regional_data_CH.loc [:, ['Casos activos confirmados', 'Casos nuevos totales']]"
   ]
  },
  {
   "cell_type": "code",
   "execution_count": 182,
   "metadata": {},
   "outputs": [],
   "source": [
    "regional_data_CH.reset_index (inplace = True)"
   ]
  },
  {
   "cell_type": "code",
   "execution_count": 183,
   "metadata": {},
   "outputs": [],
   "source": [
    "# Se remueve el nombre 'Categoria' a la columna de índice.\n",
    "\n",
    "regional_data_CH.rename_axis (None, axis = 1, inplace = True)"
   ]
  },
  {
   "cell_type": "code",
   "execution_count": 184,
   "metadata": {},
   "outputs": [],
   "source": [
    "# Las celdas con valor 'NaN' se les cambia el valor a cero.\n",
    "\n",
    "regional_data_CH ['Casos activos confirmados'].fillna (0, inplace = True)"
   ]
  },
  {
   "cell_type": "code",
   "execution_count": 185,
   "metadata": {},
   "outputs": [],
   "source": [
    "regional_data_CH = regional_data_CH [regional_data_CH ['Region'] != 'Total']"
   ]
  },
  {
   "cell_type": "code",
   "execution_count": 186,
   "metadata": {},
   "outputs": [],
   "source": [
    "regional_data_CH ['Fecha'] = pd.to_datetime (regional_data_CH ['Fecha'], errors = 'coerce')"
   ]
  },
  {
   "cell_type": "code",
   "execution_count": 187,
   "metadata": {},
   "outputs": [],
   "source": [
    "# Cálculo de las medias móviles de los casos nuevos considerando una ventana de 7 días agrupando primero los datos por Región\n",
    "\n",
    "regional_data_CH ['Media móvil 7d'] = regional_data_CH.groupby('Region')['Casos nuevos totales'].transform(lambda x: x.rolling(7).mean())"
   ]
  },
  {
   "cell_type": "code",
   "execution_count": 188,
   "metadata": {},
   "outputs": [],
   "source": [
    "regional_data_CH ['Media móvil 7d'].fillna (0, inplace = True)"
   ]
  },
  {
   "cell_type": "code",
   "execution_count": 189,
   "metadata": {},
   "outputs": [],
   "source": [
    "regional_data_CH = pd.merge (regional_data_CH, population_CH)"
   ]
  },
  {
   "cell_type": "code",
   "execution_count": 190,
   "metadata": {},
   "outputs": [],
   "source": [
    "regional_data_CH.sort_values ('Fecha', inplace = True)"
   ]
  },
  {
   "cell_type": "code",
   "execution_count": 191,
   "metadata": {},
   "outputs": [],
   "source": [
    "regional_data_CH ['Nivel de riesgo'] = regional_data_CH ['Media móvil 7d']*100000/regional_data_CH['Poblacion']"
   ]
  },
  {
   "cell_type": "code",
   "execution_count": 192,
   "metadata": {},
   "outputs": [],
   "source": [
    "regional_data_CH.reset_index(drop = True, inplace= True)"
   ]
  },
  {
   "cell_type": "code",
   "execution_count": 193,
   "metadata": {},
   "outputs": [],
   "source": [
    "regional_data_CH.rename (columns = {'Region':'Región', 'Casos activos confirmados':'Casos activos', \n",
    "                                    'Casos nuevos totales':'Casos nuevos', 'Poblacion':'Población'}, inplace = True)"
   ]
  },
  {
   "cell_type": "code",
   "execution_count": 194,
   "metadata": {
    "scrolled": false
   },
   "outputs": [
    {
     "data": {
      "text/html": [
       "<div>\n",
       "<style scoped>\n",
       "    .dataframe tbody tr th:only-of-type {\n",
       "        vertical-align: middle;\n",
       "    }\n",
       "\n",
       "    .dataframe tbody tr th {\n",
       "        vertical-align: top;\n",
       "    }\n",
       "\n",
       "    .dataframe thead th {\n",
       "        text-align: right;\n",
       "    }\n",
       "</style>\n",
       "<table border=\"1\" class=\"dataframe\">\n",
       "  <thead>\n",
       "    <tr style=\"text-align: right;\">\n",
       "      <th></th>\n",
       "      <th>Fecha</th>\n",
       "      <th>Región</th>\n",
       "      <th>Casos activos</th>\n",
       "      <th>Casos nuevos</th>\n",
       "      <th>Media móvil 7d</th>\n",
       "      <th>Población</th>\n",
       "      <th>Nivel de riesgo</th>\n",
       "    </tr>\n",
       "  </thead>\n",
       "  <tbody>\n",
       "    <tr>\n",
       "      <th>0</th>\n",
       "      <td>2020-03-03</td>\n",
       "      <td>Antofagasta</td>\n",
       "      <td>0.0</td>\n",
       "      <td>0.0</td>\n",
       "      <td>0.0</td>\n",
       "      <td>691854</td>\n",
       "      <td>0.0</td>\n",
       "    </tr>\n",
       "    <tr>\n",
       "      <th>1</th>\n",
       "      <td>2020-03-03</td>\n",
       "      <td>Los Ríos</td>\n",
       "      <td>0.0</td>\n",
       "      <td>0.0</td>\n",
       "      <td>0.0</td>\n",
       "      <td>405835</td>\n",
       "      <td>0.0</td>\n",
       "    </tr>\n",
       "    <tr>\n",
       "      <th>2</th>\n",
       "      <td>2020-03-03</td>\n",
       "      <td>Maule</td>\n",
       "      <td>0.0</td>\n",
       "      <td>0.0</td>\n",
       "      <td>0.0</td>\n",
       "      <td>1131939</td>\n",
       "      <td>0.0</td>\n",
       "    </tr>\n",
       "    <tr>\n",
       "      <th>3</th>\n",
       "      <td>2020-03-03</td>\n",
       "      <td>Los Lagos</td>\n",
       "      <td>0.0</td>\n",
       "      <td>0.0</td>\n",
       "      <td>0.0</td>\n",
       "      <td>891440</td>\n",
       "      <td>0.0</td>\n",
       "    </tr>\n",
       "    <tr>\n",
       "      <th>4</th>\n",
       "      <td>2020-03-03</td>\n",
       "      <td>Metropolitana</td>\n",
       "      <td>0.0</td>\n",
       "      <td>0.0</td>\n",
       "      <td>0.0</td>\n",
       "      <td>8125072</td>\n",
       "      <td>0.0</td>\n",
       "    </tr>\n",
       "  </tbody>\n",
       "</table>\n",
       "</div>"
      ],
      "text/plain": [
       "       Fecha         Región  Casos activos  Casos nuevos  Media móvil 7d  \\\n",
       "0 2020-03-03    Antofagasta            0.0           0.0             0.0   \n",
       "1 2020-03-03       Los Ríos            0.0           0.0             0.0   \n",
       "2 2020-03-03          Maule            0.0           0.0             0.0   \n",
       "3 2020-03-03      Los Lagos            0.0           0.0             0.0   \n",
       "4 2020-03-03  Metropolitana            0.0           0.0             0.0   \n",
       "\n",
       "   Población  Nivel de riesgo  \n",
       "0     691854              0.0  \n",
       "1     405835              0.0  \n",
       "2    1131939              0.0  \n",
       "3     891440              0.0  \n",
       "4    8125072              0.0  "
      ]
     },
     "execution_count": 194,
     "metadata": {},
     "output_type": "execute_result"
    }
   ],
   "source": [
    "regional_data_CH.head()"
   ]
  },
  {
   "cell_type": "markdown",
   "metadata": {},
   "source": [
    "<a id = 'Sección10.2'></a>"
   ]
  },
  {
   "cell_type": "markdown",
   "metadata": {},
   "source": [
    "### 10.2. Casos activos y nivel de riesgo a nivel departamental en Uruguay"
   ]
  },
  {
   "cell_type": "code",
   "execution_count": 195,
   "metadata": {},
   "outputs": [],
   "source": [
    "dep_data_UY = pd.DataFrame()"
   ]
  },
  {
   "cell_type": "code",
   "execution_count": 196,
   "metadata": {},
   "outputs": [],
   "source": [
    "dep_data_UY = detailed_data_per_dep_UY.loc [:, ['fecha', 'departamento', 'enCurso', 'cantCasosNuevosConsolidado']]"
   ]
  },
  {
   "cell_type": "code",
   "execution_count": 197,
   "metadata": {},
   "outputs": [],
   "source": [
    "dep_data_UY ['Media móvil 7d'] = dep_data_UY.groupby('departamento')['cantCasosNuevosConsolidado'].transform(lambda x: x.rolling(7).mean())"
   ]
  },
  {
   "cell_type": "code",
   "execution_count": 198,
   "metadata": {},
   "outputs": [],
   "source": [
    "dep_data_UY.dropna (subset = ['Media móvil 7d'], inplace = True)"
   ]
  },
  {
   "cell_type": "code",
   "execution_count": 199,
   "metadata": {},
   "outputs": [
    {
     "data": {
      "text/html": [
       "<div>\n",
       "<style scoped>\n",
       "    .dataframe tbody tr th:only-of-type {\n",
       "        vertical-align: middle;\n",
       "    }\n",
       "\n",
       "    .dataframe tbody tr th {\n",
       "        vertical-align: top;\n",
       "    }\n",
       "\n",
       "    .dataframe thead th {\n",
       "        text-align: right;\n",
       "    }\n",
       "</style>\n",
       "<table border=\"1\" class=\"dataframe\">\n",
       "  <thead>\n",
       "    <tr style=\"text-align: right;\">\n",
       "      <th></th>\n",
       "      <th>fecha</th>\n",
       "      <th>departamento</th>\n",
       "      <th>enCurso</th>\n",
       "      <th>cantCasosNuevosConsolidado</th>\n",
       "      <th>Media móvil 7d</th>\n",
       "    </tr>\n",
       "  </thead>\n",
       "  <tbody>\n",
       "    <tr>\n",
       "      <th>114</th>\n",
       "      <td>2020-05-05</td>\n",
       "      <td>Artigas</td>\n",
       "      <td>0</td>\n",
       "      <td>0</td>\n",
       "      <td>0.000000</td>\n",
       "    </tr>\n",
       "    <tr>\n",
       "      <th>115</th>\n",
       "      <td>2020-05-05</td>\n",
       "      <td>Canelones</td>\n",
       "      <td>18</td>\n",
       "      <td>3</td>\n",
       "      <td>1.285714</td>\n",
       "    </tr>\n",
       "    <tr>\n",
       "      <th>116</th>\n",
       "      <td>2020-05-05</td>\n",
       "      <td>Cerro Largo</td>\n",
       "      <td>0</td>\n",
       "      <td>0</td>\n",
       "      <td>0.000000</td>\n",
       "    </tr>\n",
       "    <tr>\n",
       "      <th>117</th>\n",
       "      <td>2020-05-05</td>\n",
       "      <td>Colonia</td>\n",
       "      <td>3</td>\n",
       "      <td>1</td>\n",
       "      <td>0.142857</td>\n",
       "    </tr>\n",
       "    <tr>\n",
       "      <th>118</th>\n",
       "      <td>2020-05-05</td>\n",
       "      <td>Durazno</td>\n",
       "      <td>0</td>\n",
       "      <td>0</td>\n",
       "      <td>0.000000</td>\n",
       "    </tr>\n",
       "  </tbody>\n",
       "</table>\n",
       "</div>"
      ],
      "text/plain": [
       "         fecha departamento  enCurso  cantCasosNuevosConsolidado  \\\n",
       "114 2020-05-05      Artigas        0                           0   \n",
       "115 2020-05-05    Canelones       18                           3   \n",
       "116 2020-05-05  Cerro Largo        0                           0   \n",
       "117 2020-05-05      Colonia        3                           1   \n",
       "118 2020-05-05      Durazno        0                           0   \n",
       "\n",
       "     Media móvil 7d  \n",
       "114        0.000000  \n",
       "115        1.285714  \n",
       "116        0.000000  \n",
       "117        0.142857  \n",
       "118        0.000000  "
      ]
     },
     "execution_count": 199,
     "metadata": {},
     "output_type": "execute_result"
    }
   ],
   "source": [
    "dep_data_UY.head()"
   ]
  },
  {
   "cell_type": "code",
   "execution_count": 200,
   "metadata": {},
   "outputs": [],
   "source": [
    "dep_data_UY = pd.merge (dep_data_UY, population_UY, how = 'left', left_on='departamento', right_on='Departamento')"
   ]
  },
  {
   "cell_type": "code",
   "execution_count": 201,
   "metadata": {},
   "outputs": [],
   "source": [
    "dep_data_UY ['Nivel de riesgo'] = dep_data_UY ['Media móvil 7d']*100000/dep_data_UY ['Población']"
   ]
  },
  {
   "cell_type": "code",
   "execution_count": 202,
   "metadata": {},
   "outputs": [],
   "source": [
    "dep_data_UY.drop(['Departamento'], axis=1, inplace=True)"
   ]
  },
  {
   "cell_type": "code",
   "execution_count": 203,
   "metadata": {},
   "outputs": [],
   "source": [
    "dep_data_UY.rename (columns = {'fecha':'Fecha', 'departamento':'Departamento', 'enCurso': 'Casos activos',\n",
    "                               'cantCasosNuevosConsolidado':'Casos nuevos', 'poblacion':'Población'}, inplace = True)"
   ]
  },
  {
   "cell_type": "code",
   "execution_count": 204,
   "metadata": {},
   "outputs": [
    {
     "data": {
      "text/html": [
       "<div>\n",
       "<style scoped>\n",
       "    .dataframe tbody tr th:only-of-type {\n",
       "        vertical-align: middle;\n",
       "    }\n",
       "\n",
       "    .dataframe tbody tr th {\n",
       "        vertical-align: top;\n",
       "    }\n",
       "\n",
       "    .dataframe thead th {\n",
       "        text-align: right;\n",
       "    }\n",
       "</style>\n",
       "<table border=\"1\" class=\"dataframe\">\n",
       "  <thead>\n",
       "    <tr style=\"text-align: right;\">\n",
       "      <th></th>\n",
       "      <th>Fecha</th>\n",
       "      <th>Departamento</th>\n",
       "      <th>Casos activos</th>\n",
       "      <th>Casos nuevos</th>\n",
       "      <th>Media móvil 7d</th>\n",
       "      <th>Población</th>\n",
       "      <th>Nivel de riesgo</th>\n",
       "    </tr>\n",
       "  </thead>\n",
       "  <tbody>\n",
       "    <tr>\n",
       "      <th>0</th>\n",
       "      <td>2020-05-05</td>\n",
       "      <td>Artigas</td>\n",
       "      <td>0</td>\n",
       "      <td>0</td>\n",
       "      <td>0.000000</td>\n",
       "      <td>74075</td>\n",
       "      <td>0.000000</td>\n",
       "    </tr>\n",
       "    <tr>\n",
       "      <th>1</th>\n",
       "      <td>2020-05-05</td>\n",
       "      <td>Canelones</td>\n",
       "      <td>18</td>\n",
       "      <td>3</td>\n",
       "      <td>1.285714</td>\n",
       "      <td>603750</td>\n",
       "      <td>0.212955</td>\n",
       "    </tr>\n",
       "    <tr>\n",
       "      <th>2</th>\n",
       "      <td>2020-05-05</td>\n",
       "      <td>Cerro Largo</td>\n",
       "      <td>0</td>\n",
       "      <td>0</td>\n",
       "      <td>0.000000</td>\n",
       "      <td>89630</td>\n",
       "      <td>0.000000</td>\n",
       "    </tr>\n",
       "    <tr>\n",
       "      <th>3</th>\n",
       "      <td>2020-05-05</td>\n",
       "      <td>Colonia</td>\n",
       "      <td>3</td>\n",
       "      <td>1</td>\n",
       "      <td>0.142857</td>\n",
       "      <td>131297</td>\n",
       "      <td>0.108805</td>\n",
       "    </tr>\n",
       "    <tr>\n",
       "      <th>4</th>\n",
       "      <td>2020-05-05</td>\n",
       "      <td>Durazno</td>\n",
       "      <td>0</td>\n",
       "      <td>0</td>\n",
       "      <td>0.000000</td>\n",
       "      <td>58975</td>\n",
       "      <td>0.000000</td>\n",
       "    </tr>\n",
       "  </tbody>\n",
       "</table>\n",
       "</div>"
      ],
      "text/plain": [
       "       Fecha Departamento  Casos activos  Casos nuevos  Media móvil 7d  \\\n",
       "0 2020-05-05      Artigas              0             0        0.000000   \n",
       "1 2020-05-05    Canelones             18             3        1.285714   \n",
       "2 2020-05-05  Cerro Largo              0             0        0.000000   \n",
       "3 2020-05-05      Colonia              3             1        0.142857   \n",
       "4 2020-05-05      Durazno              0             0        0.000000   \n",
       "\n",
       "   Población  Nivel de riesgo  \n",
       "0      74075         0.000000  \n",
       "1     603750         0.212955  \n",
       "2      89630         0.000000  \n",
       "3     131297         0.108805  \n",
       "4      58975         0.000000  "
      ]
     },
     "execution_count": 204,
     "metadata": {},
     "output_type": "execute_result"
    }
   ],
   "source": [
    "dep_data_UY.head()"
   ]
  },
  {
   "cell_type": "markdown",
   "metadata": {},
   "source": [
    "<a id = 'Sección11'></a>"
   ]
  },
  {
   "cell_type": "markdown",
   "metadata": {},
   "source": [
    "## 11. Total vacunaciones"
   ]
  },
  {
   "cell_type": "markdown",
   "metadata": {},
   "source": [
    "<a id = 'Sección11.1'></a>"
   ]
  },
  {
   "cell_type": "markdown",
   "metadata": {},
   "source": [
    "### 11.1. Total vacunaciones en Chile"
   ]
  },
  {
   "cell_type": "markdown",
   "metadata": {},
   "source": [
    "<a id = 'Sección11.1.1'></a>"
   ]
  },
  {
   "cell_type": "markdown",
   "metadata": {},
   "source": [
    "#### 11.1.1.  Total de vacunas colocadas diariamente"
   ]
  },
  {
   "cell_type": "markdown",
   "metadata": {},
   "source": [
    "A continuación, se calcula la cantidad total de dosis únicas, primeras dosis, segundas dosis y dosis de refuerzo colocadas diariamente."
   ]
  },
  {
   "cell_type": "code",
   "execution_count": 205,
   "metadata": {},
   "outputs": [],
   "source": [
    "# Suma de las columnas exceptuando la columna 'Fecha'\n",
    "\n",
    "single_dose_CH ['Total dosis única'] = single_dose_CH.iloc [:,1:].sum(axis=1)"
   ]
  },
  {
   "cell_type": "code",
   "execution_count": 206,
   "metadata": {},
   "outputs": [],
   "source": [
    "first_dose_CH ['Total primera dosis'] = first_dose_CH.iloc [:,1:].sum(axis=1)"
   ]
  },
  {
   "cell_type": "code",
   "execution_count": 207,
   "metadata": {},
   "outputs": [],
   "source": [
    "second_dose_CH ['Total segunda dosis'] = second_dose_CH.iloc [:,1:].sum(axis=1)"
   ]
  },
  {
   "cell_type": "code",
   "execution_count": 208,
   "metadata": {},
   "outputs": [],
   "source": [
    "booster_dose_CH ['Total dosis de refuerzo'] = booster_dose_CH.iloc [:,1:].sum(axis=1)"
   ]
  },
  {
   "cell_type": "code",
   "execution_count": 209,
   "metadata": {},
   "outputs": [],
   "source": [
    "total_vaccination_CH = pd.DataFrame()"
   ]
  },
  {
   "cell_type": "code",
   "execution_count": 210,
   "metadata": {},
   "outputs": [],
   "source": [
    "total_vaccination_CH = first_dose_CH.loc[:, ['Fecha', 'Total primera dosis']]"
   ]
  },
  {
   "cell_type": "code",
   "execution_count": 211,
   "metadata": {},
   "outputs": [],
   "source": [
    "# El dataframe de las segundas dosis 'sencond_dose_CH' tiene un rango más reducido de fechas, por lo que se utiliza un merge para \n",
    "# incorporar el total de segundas dosis a 'total_vaccination_CH'.\n",
    "\n",
    "total_vaccination_CH = pd.merge (total_vaccination_CH, second_dose_CH.loc [:, ['Fecha', 'Total segunda dosis']] , how = 'left') "
   ]
  },
  {
   "cell_type": "code",
   "execution_count": 212,
   "metadata": {},
   "outputs": [],
   "source": [
    "# El dataframe de las dosis únicas 'single_dose_CH' tiene un rango más reducido de fechas, por lo que se utiliza un merge para \n",
    "# incorporar el total de dosis únicas a 'total_vaccination_CH'.\n",
    "\n",
    "total_vaccination_CH = pd.merge (total_vaccination_CH, single_dose_CH.loc [:, ['Fecha', 'Total dosis única']] , how = 'left') "
   ]
  },
  {
   "cell_type": "code",
   "execution_count": 213,
   "metadata": {},
   "outputs": [],
   "source": [
    "total_vaccination_CH ['Total dosis única'].fillna(0, inplace= True)"
   ]
  },
  {
   "cell_type": "code",
   "execution_count": 214,
   "metadata": {},
   "outputs": [],
   "source": [
    "total_vaccination_CH.rename (columns = {'Total primera dosis':'Primera dosis', 'Total dosis única':'Dosis única',\n",
    "                                       'Total segunda dosis':'Segunda dosis'}, inplace = True)"
   ]
  },
  {
   "cell_type": "code",
   "execution_count": 215,
   "metadata": {},
   "outputs": [],
   "source": [
    "total_vaccination_CH ['Vacunados completamente'] = total_vaccination_CH ['Segunda dosis']+total_vaccination_CH ['Dosis única']"
   ]
  },
  {
   "cell_type": "code",
   "execution_count": 216,
   "metadata": {},
   "outputs": [],
   "source": [
    "total_vaccination_CH ['Dosis de refuerzo'] = booster_dose_CH ['Total dosis de refuerzo']"
   ]
  },
  {
   "cell_type": "code",
   "execution_count": 217,
   "metadata": {},
   "outputs": [],
   "source": [
    "total_vaccination_CH ['Total dosis aplicadas'] = total_vaccination_CH ['Primera dosis'] + total_vaccination_CH ['Segunda dosis'] + total_vaccination_CH ['Dosis única'] + total_vaccination_CH ['Dosis de refuerzo']"
   ]
  },
  {
   "cell_type": "code",
   "execution_count": 218,
   "metadata": {},
   "outputs": [],
   "source": [
    "total_vaccination_CH.fillna(0, inplace=True)"
   ]
  },
  {
   "cell_type": "code",
   "execution_count": 219,
   "metadata": {},
   "outputs": [],
   "source": [
    "total_vaccination_CH.insert(0,'País', 'Chile')"
   ]
  },
  {
   "cell_type": "code",
   "execution_count": 220,
   "metadata": {},
   "outputs": [],
   "source": [
    "total_vaccination_CH ['Fecha'] = pd.to_datetime (total_vaccination_CH ['Fecha'], errors = 'coerce')"
   ]
  },
  {
   "cell_type": "code",
   "execution_count": 221,
   "metadata": {},
   "outputs": [
    {
     "data": {
      "text/html": [
       "<div>\n",
       "<style scoped>\n",
       "    .dataframe tbody tr th:only-of-type {\n",
       "        vertical-align: middle;\n",
       "    }\n",
       "\n",
       "    .dataframe tbody tr th {\n",
       "        vertical-align: top;\n",
       "    }\n",
       "\n",
       "    .dataframe thead th {\n",
       "        text-align: right;\n",
       "    }\n",
       "</style>\n",
       "<table border=\"1\" class=\"dataframe\">\n",
       "  <thead>\n",
       "    <tr style=\"text-align: right;\">\n",
       "      <th></th>\n",
       "      <th>País</th>\n",
       "      <th>Fecha</th>\n",
       "      <th>Primera dosis</th>\n",
       "      <th>Segunda dosis</th>\n",
       "      <th>Dosis única</th>\n",
       "      <th>Vacunados completamente</th>\n",
       "      <th>Dosis de refuerzo</th>\n",
       "      <th>Total dosis aplicadas</th>\n",
       "    </tr>\n",
       "  </thead>\n",
       "  <tbody>\n",
       "    <tr>\n",
       "      <th>286</th>\n",
       "      <td>Chile</td>\n",
       "      <td>2021-10-25</td>\n",
       "      <td>34584.0</td>\n",
       "      <td>78510.0</td>\n",
       "      <td>158.0</td>\n",
       "      <td>78668.0</td>\n",
       "      <td>77073.0</td>\n",
       "      <td>190325.0</td>\n",
       "    </tr>\n",
       "    <tr>\n",
       "      <th>287</th>\n",
       "      <td>Chile</td>\n",
       "      <td>2021-10-26</td>\n",
       "      <td>32430.0</td>\n",
       "      <td>93725.0</td>\n",
       "      <td>147.0</td>\n",
       "      <td>93872.0</td>\n",
       "      <td>85033.0</td>\n",
       "      <td>211335.0</td>\n",
       "    </tr>\n",
       "    <tr>\n",
       "      <th>288</th>\n",
       "      <td>Chile</td>\n",
       "      <td>2021-10-27</td>\n",
       "      <td>31706.0</td>\n",
       "      <td>100991.0</td>\n",
       "      <td>159.0</td>\n",
       "      <td>101150.0</td>\n",
       "      <td>84483.0</td>\n",
       "      <td>217339.0</td>\n",
       "    </tr>\n",
       "    <tr>\n",
       "      <th>289</th>\n",
       "      <td>Chile</td>\n",
       "      <td>2021-10-28</td>\n",
       "      <td>29282.0</td>\n",
       "      <td>100064.0</td>\n",
       "      <td>83.0</td>\n",
       "      <td>100147.0</td>\n",
       "      <td>1434.0</td>\n",
       "      <td>130863.0</td>\n",
       "    </tr>\n",
       "    <tr>\n",
       "      <th>290</th>\n",
       "      <td>Chile</td>\n",
       "      <td>2021-10-29</td>\n",
       "      <td>16514.0</td>\n",
       "      <td>59221.0</td>\n",
       "      <td>53.0</td>\n",
       "      <td>59274.0</td>\n",
       "      <td>270.0</td>\n",
       "      <td>76058.0</td>\n",
       "    </tr>\n",
       "  </tbody>\n",
       "</table>\n",
       "</div>"
      ],
      "text/plain": [
       "      País      Fecha  Primera dosis  Segunda dosis  Dosis única  \\\n",
       "286  Chile 2021-10-25        34584.0        78510.0        158.0   \n",
       "287  Chile 2021-10-26        32430.0        93725.0        147.0   \n",
       "288  Chile 2021-10-27        31706.0       100991.0        159.0   \n",
       "289  Chile 2021-10-28        29282.0       100064.0         83.0   \n",
       "290  Chile 2021-10-29        16514.0        59221.0         53.0   \n",
       "\n",
       "     Vacunados completamente  Dosis de refuerzo  Total dosis aplicadas  \n",
       "286                  78668.0            77073.0               190325.0  \n",
       "287                  93872.0            85033.0               211335.0  \n",
       "288                 101150.0            84483.0               217339.0  \n",
       "289                 100147.0             1434.0               130863.0  \n",
       "290                  59274.0              270.0                76058.0  "
      ]
     },
     "execution_count": 221,
     "metadata": {},
     "output_type": "execute_result"
    }
   ],
   "source": [
    "total_vaccination_CH.tail()"
   ]
  },
  {
   "cell_type": "markdown",
   "metadata": {},
   "source": [
    "<a id = 'Sección11.1.2'></a>"
   ]
  },
  {
   "cell_type": "markdown",
   "metadata": {},
   "source": [
    "#### 11.1.2. Acumulado de vacunas colocadas"
   ]
  },
  {
   "cell_type": "markdown",
   "metadata": {},
   "source": [
    "Ahora, se calcula el acumulado de dosis colocadas"
   ]
  },
  {
   "cell_type": "code",
   "execution_count": 222,
   "metadata": {},
   "outputs": [],
   "source": [
    "cum_vaccination_CH = total_vaccination_CH.iloc[:,2:] .cumsum()"
   ]
  },
  {
   "cell_type": "code",
   "execution_count": 223,
   "metadata": {},
   "outputs": [],
   "source": [
    "cum_vaccination_CH = pd.concat([total_vaccination_CH.loc[:,['País','Fecha']],cum_vaccination_CH],axis=1)"
   ]
  },
  {
   "cell_type": "code",
   "execution_count": 224,
   "metadata": {},
   "outputs": [],
   "source": [
    "cum_vaccination_CH.rename (columns = {'Primera dosis':'Acumulado primeras dosis', 'Segunda dosis':'Acumulado segundas dosis',\n",
    "                                      'Dosis única':'Acumulado dosis única', 'Vacunados completamente':'Acumulado vacunados completamente',\n",
    "                                      'Dosis de refuerzo':'Acumulado vacunas de refuerzo', \n",
    "                                      'Total dosis aplicadas':'Acumulado dosis aplicadas'}, inplace=True)"
   ]
  },
  {
   "cell_type": "code",
   "execution_count": 225,
   "metadata": {},
   "outputs": [],
   "source": [
    "cum_vaccination_CH['Fecha']=pd.to_datetime(cum_vaccination_CH['Fecha'], errors = 'coerce')"
   ]
  },
  {
   "cell_type": "code",
   "execution_count": 226,
   "metadata": {},
   "outputs": [
    {
     "data": {
      "text/html": [
       "<div>\n",
       "<style scoped>\n",
       "    .dataframe tbody tr th:only-of-type {\n",
       "        vertical-align: middle;\n",
       "    }\n",
       "\n",
       "    .dataframe tbody tr th {\n",
       "        vertical-align: top;\n",
       "    }\n",
       "\n",
       "    .dataframe thead th {\n",
       "        text-align: right;\n",
       "    }\n",
       "</style>\n",
       "<table border=\"1\" class=\"dataframe\">\n",
       "  <thead>\n",
       "    <tr style=\"text-align: right;\">\n",
       "      <th></th>\n",
       "      <th>País</th>\n",
       "      <th>Fecha</th>\n",
       "      <th>Acumulado primeras dosis</th>\n",
       "      <th>Acumulado segundas dosis</th>\n",
       "      <th>Acumulado dosis única</th>\n",
       "      <th>Acumulado vacunados completamente</th>\n",
       "      <th>Acumulado vacunas de refuerzo</th>\n",
       "      <th>Acumulado dosis aplicadas</th>\n",
       "    </tr>\n",
       "  </thead>\n",
       "  <tbody>\n",
       "    <tr>\n",
       "      <th>286</th>\n",
       "      <td>Chile</td>\n",
       "      <td>2021-10-25</td>\n",
       "      <td>15798886.0</td>\n",
       "      <td>14164415.0</td>\n",
       "      <td>570891.0</td>\n",
       "      <td>14735306.0</td>\n",
       "      <td>3652408.0</td>\n",
       "      <td>33512521.0</td>\n",
       "    </tr>\n",
       "    <tr>\n",
       "      <th>287</th>\n",
       "      <td>Chile</td>\n",
       "      <td>2021-10-26</td>\n",
       "      <td>15831316.0</td>\n",
       "      <td>14258140.0</td>\n",
       "      <td>571038.0</td>\n",
       "      <td>14829178.0</td>\n",
       "      <td>3737441.0</td>\n",
       "      <td>33723856.0</td>\n",
       "    </tr>\n",
       "    <tr>\n",
       "      <th>288</th>\n",
       "      <td>Chile</td>\n",
       "      <td>2021-10-27</td>\n",
       "      <td>15863022.0</td>\n",
       "      <td>14359131.0</td>\n",
       "      <td>571197.0</td>\n",
       "      <td>14930328.0</td>\n",
       "      <td>3821924.0</td>\n",
       "      <td>33941195.0</td>\n",
       "    </tr>\n",
       "    <tr>\n",
       "      <th>289</th>\n",
       "      <td>Chile</td>\n",
       "      <td>2021-10-28</td>\n",
       "      <td>15892304.0</td>\n",
       "      <td>14459195.0</td>\n",
       "      <td>571280.0</td>\n",
       "      <td>15030475.0</td>\n",
       "      <td>3823358.0</td>\n",
       "      <td>34072058.0</td>\n",
       "    </tr>\n",
       "    <tr>\n",
       "      <th>290</th>\n",
       "      <td>Chile</td>\n",
       "      <td>2021-10-29</td>\n",
       "      <td>15908818.0</td>\n",
       "      <td>14518416.0</td>\n",
       "      <td>571333.0</td>\n",
       "      <td>15089749.0</td>\n",
       "      <td>3823628.0</td>\n",
       "      <td>34148116.0</td>\n",
       "    </tr>\n",
       "  </tbody>\n",
       "</table>\n",
       "</div>"
      ],
      "text/plain": [
       "      País      Fecha  Acumulado primeras dosis  Acumulado segundas dosis  \\\n",
       "286  Chile 2021-10-25                15798886.0                14164415.0   \n",
       "287  Chile 2021-10-26                15831316.0                14258140.0   \n",
       "288  Chile 2021-10-27                15863022.0                14359131.0   \n",
       "289  Chile 2021-10-28                15892304.0                14459195.0   \n",
       "290  Chile 2021-10-29                15908818.0                14518416.0   \n",
       "\n",
       "     Acumulado dosis única  Acumulado vacunados completamente  \\\n",
       "286               570891.0                         14735306.0   \n",
       "287               571038.0                         14829178.0   \n",
       "288               571197.0                         14930328.0   \n",
       "289               571280.0                         15030475.0   \n",
       "290               571333.0                         15089749.0   \n",
       "\n",
       "     Acumulado vacunas de refuerzo  Acumulado dosis aplicadas  \n",
       "286                      3652408.0                 33512521.0  \n",
       "287                      3737441.0                 33723856.0  \n",
       "288                      3821924.0                 33941195.0  \n",
       "289                      3823358.0                 34072058.0  \n",
       "290                      3823628.0                 34148116.0  "
      ]
     },
     "execution_count": 226,
     "metadata": {},
     "output_type": "execute_result"
    }
   ],
   "source": [
    "cum_vaccination_CH.tail()"
   ]
  },
  {
   "cell_type": "markdown",
   "metadata": {},
   "source": [
    "<a id = 'Sección11.1.3'></a>"
   ]
  },
  {
   "cell_type": "markdown",
   "metadata": {},
   "source": [
    "#### 11.1.3. Porcentaje de la población vacunada"
   ]
  },
  {
   "cell_type": "code",
   "execution_count": 227,
   "metadata": {},
   "outputs": [],
   "source": [
    "pct_cum_vacc_CH = cum_vaccination_CH.iloc[:, 2:-1]*100/total_pop_CH"
   ]
  },
  {
   "cell_type": "code",
   "execution_count": 228,
   "metadata": {},
   "outputs": [],
   "source": [
    "pct_cum_vacc_CH.insert (0, 'País', 'Chile' )"
   ]
  },
  {
   "cell_type": "code",
   "execution_count": 229,
   "metadata": {},
   "outputs": [],
   "source": [
    "pct_cum_vacc_CH.insert (0, 'Fecha', cum_vaccination_CH.loc [:, ['Fecha']] )"
   ]
  },
  {
   "cell_type": "code",
   "execution_count": 230,
   "metadata": {},
   "outputs": [],
   "source": [
    "pct_cum_vacc_CH.rename (columns = {'Acumulado primeras dosis':'Pctj pob con primera dosis', \n",
    "                                   'Acumulado segundas dosis':'Pctj pob con segunda dosis',\n",
    "                                   'Acumulado dosis única':'Pctj pob con dosis única',\n",
    "                                   'Acumulado vacunados completamente':'Pctj pob completamente vacunada',\n",
    "                                   'Acumulado vacunas de refuerzo':'Pctj pob con vacuna de refuerzo'}, inplace = True)"
   ]
  },
  {
   "cell_type": "code",
   "execution_count": 231,
   "metadata": {},
   "outputs": [],
   "source": [
    "pct_cum_vacc_CH.fillna(0, inplace=True)"
   ]
  },
  {
   "cell_type": "code",
   "execution_count": 232,
   "metadata": {},
   "outputs": [],
   "source": [
    "pct_cum_vacc_CH['Fecha']=pd.to_datetime(pct_cum_vacc_CH['Fecha'], errors='coerce')"
   ]
  },
  {
   "cell_type": "code",
   "execution_count": 233,
   "metadata": {},
   "outputs": [
    {
     "data": {
      "text/html": [
       "<div>\n",
       "<style scoped>\n",
       "    .dataframe tbody tr th:only-of-type {\n",
       "        vertical-align: middle;\n",
       "    }\n",
       "\n",
       "    .dataframe tbody tr th {\n",
       "        vertical-align: top;\n",
       "    }\n",
       "\n",
       "    .dataframe thead th {\n",
       "        text-align: right;\n",
       "    }\n",
       "</style>\n",
       "<table border=\"1\" class=\"dataframe\">\n",
       "  <thead>\n",
       "    <tr style=\"text-align: right;\">\n",
       "      <th></th>\n",
       "      <th>Fecha</th>\n",
       "      <th>País</th>\n",
       "      <th>Pctj pob con primera dosis</th>\n",
       "      <th>Pctj pob con segunda dosis</th>\n",
       "      <th>Pctj pob con dosis única</th>\n",
       "      <th>Pctj pob completamente vacunada</th>\n",
       "      <th>Pctj pob con vacuna de refuerzo</th>\n",
       "    </tr>\n",
       "  </thead>\n",
       "  <tbody>\n",
       "    <tr>\n",
       "      <th>286</th>\n",
       "      <td>2021-10-25</td>\n",
       "      <td>Chile</td>\n",
       "      <td>81.193516</td>\n",
       "      <td>72.793655</td>\n",
       "      <td>2.933919</td>\n",
       "      <td>75.727573</td>\n",
       "      <td>18.770428</td>\n",
       "    </tr>\n",
       "    <tr>\n",
       "      <th>287</th>\n",
       "      <td>2021-10-26</td>\n",
       "      <td>Chile</td>\n",
       "      <td>81.360180</td>\n",
       "      <td>73.275326</td>\n",
       "      <td>2.934674</td>\n",
       "      <td>76.210000</td>\n",
       "      <td>19.207429</td>\n",
       "    </tr>\n",
       "    <tr>\n",
       "      <th>288</th>\n",
       "      <td>2021-10-27</td>\n",
       "      <td>Chile</td>\n",
       "      <td>81.523123</td>\n",
       "      <td>73.794338</td>\n",
       "      <td>2.935491</td>\n",
       "      <td>76.729829</td>\n",
       "      <td>19.641603</td>\n",
       "    </tr>\n",
       "    <tr>\n",
       "      <th>289</th>\n",
       "      <td>2021-10-28</td>\n",
       "      <td>Chile</td>\n",
       "      <td>81.673609</td>\n",
       "      <td>74.308586</td>\n",
       "      <td>2.935918</td>\n",
       "      <td>77.244504</td>\n",
       "      <td>19.648973</td>\n",
       "    </tr>\n",
       "    <tr>\n",
       "      <th>290</th>\n",
       "      <td>2021-10-29</td>\n",
       "      <td>Chile</td>\n",
       "      <td>81.758477</td>\n",
       "      <td>74.612934</td>\n",
       "      <td>2.936190</td>\n",
       "      <td>77.549124</td>\n",
       "      <td>19.650360</td>\n",
       "    </tr>\n",
       "  </tbody>\n",
       "</table>\n",
       "</div>"
      ],
      "text/plain": [
       "         Fecha   País  Pctj pob con primera dosis  Pctj pob con segunda dosis  \\\n",
       "286 2021-10-25  Chile                   81.193516                   72.793655   \n",
       "287 2021-10-26  Chile                   81.360180                   73.275326   \n",
       "288 2021-10-27  Chile                   81.523123                   73.794338   \n",
       "289 2021-10-28  Chile                   81.673609                   74.308586   \n",
       "290 2021-10-29  Chile                   81.758477                   74.612934   \n",
       "\n",
       "     Pctj pob con dosis única  Pctj pob completamente vacunada  \\\n",
       "286                  2.933919                        75.727573   \n",
       "287                  2.934674                        76.210000   \n",
       "288                  2.935491                        76.729829   \n",
       "289                  2.935918                        77.244504   \n",
       "290                  2.936190                        77.549124   \n",
       "\n",
       "     Pctj pob con vacuna de refuerzo  \n",
       "286                        18.770428  \n",
       "287                        19.207429  \n",
       "288                        19.641603  \n",
       "289                        19.648973  \n",
       "290                        19.650360  "
      ]
     },
     "execution_count": 233,
     "metadata": {},
     "output_type": "execute_result"
    }
   ],
   "source": [
    "pct_cum_vacc_CH.tail()"
   ]
  },
  {
   "cell_type": "markdown",
   "metadata": {},
   "source": [
    "<a id = 'Sección11.2'></a>"
   ]
  },
  {
   "cell_type": "markdown",
   "metadata": {},
   "source": [
    "### 11.2. Total vacunaciones en Uruguay"
   ]
  },
  {
   "cell_type": "markdown",
   "metadata": {},
   "source": [
    "<a id = 'Sección11.2.1'></a>"
   ]
  },
  {
   "cell_type": "markdown",
   "metadata": {},
   "source": [
    "#### 11.2.1. Acumulado de vacunas colocadas"
   ]
  },
  {
   "cell_type": "code",
   "execution_count": 234,
   "metadata": {},
   "outputs": [],
   "source": [
    "cum_vaccination_UY = vaccination_UY.loc [:, ['date', 'people_vaccinated', 'people_fully_vaccinated', 'total_boosters']]"
   ]
  },
  {
   "cell_type": "code",
   "execution_count": 235,
   "metadata": {},
   "outputs": [],
   "source": [
    "cum_vaccination_UY.rename (columns = {'date':'Fecha', 'people_vaccinated':'Acumulado primeras dosis', \n",
    "                                      'people_fully_vaccinated':'Acumulado vacunados completamente', \n",
    "                                      'total_boosters':'Acumulado vacunas de refuerzo'}, inplace = True)"
   ]
  },
  {
   "cell_type": "code",
   "execution_count": 236,
   "metadata": {},
   "outputs": [],
   "source": [
    "cum_vaccination_UY ['Acumulado dosis aplicadas'] = cum_vaccination_UY ['Acumulado primeras dosis']+ cum_vaccination_UY ['Acumulado vacunados completamente']+cum_vaccination_UY['Acumulado vacunas de refuerzo']"
   ]
  },
  {
   "cell_type": "code",
   "execution_count": 237,
   "metadata": {},
   "outputs": [],
   "source": [
    "cum_vaccination_UY.insert(2,'Acumulado segundas dosis', cum_vaccination_UY['Acumulado vacunados completamente'])"
   ]
  },
  {
   "cell_type": "code",
   "execution_count": 238,
   "metadata": {},
   "outputs": [],
   "source": [
    "cum_vaccination_UY.insert (0,'País','Uruguay')"
   ]
  },
  {
   "cell_type": "code",
   "execution_count": 239,
   "metadata": {},
   "outputs": [],
   "source": [
    "cum_vaccination_UY ['Fecha'] = pd.to_datetime (cum_vaccination_UY ['Fecha'], errors = 'coerce')"
   ]
  },
  {
   "cell_type": "code",
   "execution_count": 240,
   "metadata": {
    "scrolled": false
   },
   "outputs": [
    {
     "data": {
      "text/html": [
       "<div>\n",
       "<style scoped>\n",
       "    .dataframe tbody tr th:only-of-type {\n",
       "        vertical-align: middle;\n",
       "    }\n",
       "\n",
       "    .dataframe tbody tr th {\n",
       "        vertical-align: top;\n",
       "    }\n",
       "\n",
       "    .dataframe thead th {\n",
       "        text-align: right;\n",
       "    }\n",
       "</style>\n",
       "<table border=\"1\" class=\"dataframe\">\n",
       "  <thead>\n",
       "    <tr style=\"text-align: right;\">\n",
       "      <th></th>\n",
       "      <th>País</th>\n",
       "      <th>Fecha</th>\n",
       "      <th>Acumulado primeras dosis</th>\n",
       "      <th>Acumulado segundas dosis</th>\n",
       "      <th>Acumulado vacunados completamente</th>\n",
       "      <th>Acumulado vacunas de refuerzo</th>\n",
       "      <th>Acumulado dosis aplicadas</th>\n",
       "    </tr>\n",
       "  </thead>\n",
       "  <tbody>\n",
       "    <tr>\n",
       "      <th>243</th>\n",
       "      <td>Uruguay</td>\n",
       "      <td>2021-10-28</td>\n",
       "      <td>2759854</td>\n",
       "      <td>2618499</td>\n",
       "      <td>2618499</td>\n",
       "      <td>1216945</td>\n",
       "      <td>6595298</td>\n",
       "    </tr>\n",
       "    <tr>\n",
       "      <th>244</th>\n",
       "      <td>Uruguay</td>\n",
       "      <td>2021-10-29</td>\n",
       "      <td>2760962</td>\n",
       "      <td>2620217</td>\n",
       "      <td>2620217</td>\n",
       "      <td>1233291</td>\n",
       "      <td>6614470</td>\n",
       "    </tr>\n",
       "    <tr>\n",
       "      <th>245</th>\n",
       "      <td>Uruguay</td>\n",
       "      <td>2021-10-30</td>\n",
       "      <td>2760995</td>\n",
       "      <td>2620254</td>\n",
       "      <td>2620254</td>\n",
       "      <td>1233370</td>\n",
       "      <td>6614619</td>\n",
       "    </tr>\n",
       "    <tr>\n",
       "      <th>246</th>\n",
       "      <td>Uruguay</td>\n",
       "      <td>2021-10-31</td>\n",
       "      <td>2760995</td>\n",
       "      <td>2620254</td>\n",
       "      <td>2620254</td>\n",
       "      <td>1233370</td>\n",
       "      <td>6614619</td>\n",
       "    </tr>\n",
       "    <tr>\n",
       "      <th>247</th>\n",
       "      <td>Uruguay</td>\n",
       "      <td>2021-11-01</td>\n",
       "      <td>2761224</td>\n",
       "      <td>2620412</td>\n",
       "      <td>2620412</td>\n",
       "      <td>1233682</td>\n",
       "      <td>6615318</td>\n",
       "    </tr>\n",
       "  </tbody>\n",
       "</table>\n",
       "</div>"
      ],
      "text/plain": [
       "        País      Fecha  Acumulado primeras dosis  Acumulado segundas dosis  \\\n",
       "243  Uruguay 2021-10-28                   2759854                   2618499   \n",
       "244  Uruguay 2021-10-29                   2760962                   2620217   \n",
       "245  Uruguay 2021-10-30                   2760995                   2620254   \n",
       "246  Uruguay 2021-10-31                   2760995                   2620254   \n",
       "247  Uruguay 2021-11-01                   2761224                   2620412   \n",
       "\n",
       "     Acumulado vacunados completamente  Acumulado vacunas de refuerzo  \\\n",
       "243                            2618499                        1216945   \n",
       "244                            2620217                        1233291   \n",
       "245                            2620254                        1233370   \n",
       "246                            2620254                        1233370   \n",
       "247                            2620412                        1233682   \n",
       "\n",
       "     Acumulado dosis aplicadas  \n",
       "243                    6595298  \n",
       "244                    6614470  \n",
       "245                    6614619  \n",
       "246                    6614619  \n",
       "247                    6615318  "
      ]
     },
     "execution_count": 240,
     "metadata": {},
     "output_type": "execute_result"
    }
   ],
   "source": [
    "cum_vaccination_UY.tail()"
   ]
  },
  {
   "cell_type": "markdown",
   "metadata": {},
   "source": [
    "<a id = 'Sección11.2.2'></a>"
   ]
  },
  {
   "cell_type": "markdown",
   "metadata": {},
   "source": [
    "#### 11.2.2. Total de vacunas colocadas diariamente"
   ]
  },
  {
   "cell_type": "markdown",
   "metadata": {},
   "source": [
    "Dado que se cuenta con los datos acumulados, a continuación se procede a calcular la diferencia entre los acumulados diarias para así obtener las dosis diarias"
   ]
  },
  {
   "cell_type": "code",
   "execution_count": 241,
   "metadata": {},
   "outputs": [],
   "source": [
    "# Primero se crea un dataframe con las columnas deseadas.\n",
    "\n",
    "total_vaccination_UY = pd.DataFrame(columns = ['Primera dosis','Segunda dosis','Vacunados completamente', 'Dosis de refuerzo', 'Total dosis aplicadas'],dtype='float64')"
   ]
  },
  {
   "cell_type": "code",
   "execution_count": 242,
   "metadata": {},
   "outputs": [],
   "source": [
    "# Luego, se le agrega una fila de solo ceros, para luego poder usar correctamente el método diff para calcular la diferencia \n",
    "# entre los acumulados diarios.\n",
    "\n",
    "total_vaccination_UY.loc [0]=[0,0,0,0,0]"
   ]
  },
  {
   "cell_type": "code",
   "execution_count": 243,
   "metadata": {},
   "outputs": [],
   "source": [
    "# Se unen los dataframes total_vaccination_UY y cum_vaccination_UY usando el método concat y luego se emplea el método diff.\n",
    "\n",
    "total_vaccination_UY = pd.concat ([total_vaccination_UY, cum_vaccination_UY.rename (columns= {'Acumulado primeras dosis':'Primera dosis',\n",
    "                                                                        'Acumulado segundas dosis':'Segunda dosis',\n",
    "                                                                       'Acumulado vacunados completamente':'Vacunados completamente',\n",
    "                                                                       'Acumulado vacunas de refuerzo':'Dosis de refuerzo', \n",
    "                                                                       'Acumulado dosis aplicadas':'Total dosis aplicadas'}).iloc [:,2:]]).diff()"
   ]
  },
  {
   "cell_type": "code",
   "execution_count": 244,
   "metadata": {},
   "outputs": [],
   "source": [
    "# Se elimina la primera fila está llena de valores NaN.\n",
    "\n",
    "total_vaccination_UY.dropna(inplace=True)"
   ]
  },
  {
   "cell_type": "code",
   "execution_count": 245,
   "metadata": {},
   "outputs": [],
   "source": [
    "# Se agrega la columna 'Fecha'.\n",
    "\n",
    "total_vaccination_UY.insert (0,'Fecha',cum_vaccination_UY ['Fecha'] )"
   ]
  },
  {
   "cell_type": "code",
   "execution_count": 246,
   "metadata": {},
   "outputs": [],
   "source": [
    "total_vaccination_UY.insert(0,'País','Uruguay')"
   ]
  },
  {
   "cell_type": "code",
   "execution_count": 247,
   "metadata": {},
   "outputs": [
    {
     "data": {
      "text/html": [
       "<div>\n",
       "<style scoped>\n",
       "    .dataframe tbody tr th:only-of-type {\n",
       "        vertical-align: middle;\n",
       "    }\n",
       "\n",
       "    .dataframe tbody tr th {\n",
       "        vertical-align: top;\n",
       "    }\n",
       "\n",
       "    .dataframe thead th {\n",
       "        text-align: right;\n",
       "    }\n",
       "</style>\n",
       "<table border=\"1\" class=\"dataframe\">\n",
       "  <thead>\n",
       "    <tr style=\"text-align: right;\">\n",
       "      <th></th>\n",
       "      <th>País</th>\n",
       "      <th>Fecha</th>\n",
       "      <th>Primera dosis</th>\n",
       "      <th>Segunda dosis</th>\n",
       "      <th>Vacunados completamente</th>\n",
       "      <th>Dosis de refuerzo</th>\n",
       "      <th>Total dosis aplicadas</th>\n",
       "    </tr>\n",
       "  </thead>\n",
       "  <tbody>\n",
       "    <tr>\n",
       "      <th>243</th>\n",
       "      <td>Uruguay</td>\n",
       "      <td>2021-10-28</td>\n",
       "      <td>574.0</td>\n",
       "      <td>888.0</td>\n",
       "      <td>888.0</td>\n",
       "      <td>8130.0</td>\n",
       "      <td>9592.0</td>\n",
       "    </tr>\n",
       "    <tr>\n",
       "      <th>244</th>\n",
       "      <td>Uruguay</td>\n",
       "      <td>2021-10-29</td>\n",
       "      <td>1108.0</td>\n",
       "      <td>1718.0</td>\n",
       "      <td>1718.0</td>\n",
       "      <td>16346.0</td>\n",
       "      <td>19172.0</td>\n",
       "    </tr>\n",
       "    <tr>\n",
       "      <th>245</th>\n",
       "      <td>Uruguay</td>\n",
       "      <td>2021-10-30</td>\n",
       "      <td>33.0</td>\n",
       "      <td>37.0</td>\n",
       "      <td>37.0</td>\n",
       "      <td>79.0</td>\n",
       "      <td>149.0</td>\n",
       "    </tr>\n",
       "    <tr>\n",
       "      <th>246</th>\n",
       "      <td>Uruguay</td>\n",
       "      <td>2021-10-31</td>\n",
       "      <td>0.0</td>\n",
       "      <td>0.0</td>\n",
       "      <td>0.0</td>\n",
       "      <td>0.0</td>\n",
       "      <td>0.0</td>\n",
       "    </tr>\n",
       "    <tr>\n",
       "      <th>247</th>\n",
       "      <td>Uruguay</td>\n",
       "      <td>2021-11-01</td>\n",
       "      <td>229.0</td>\n",
       "      <td>158.0</td>\n",
       "      <td>158.0</td>\n",
       "      <td>312.0</td>\n",
       "      <td>699.0</td>\n",
       "    </tr>\n",
       "  </tbody>\n",
       "</table>\n",
       "</div>"
      ],
      "text/plain": [
       "        País      Fecha  Primera dosis  Segunda dosis  \\\n",
       "243  Uruguay 2021-10-28          574.0          888.0   \n",
       "244  Uruguay 2021-10-29         1108.0         1718.0   \n",
       "245  Uruguay 2021-10-30           33.0           37.0   \n",
       "246  Uruguay 2021-10-31            0.0            0.0   \n",
       "247  Uruguay 2021-11-01          229.0          158.0   \n",
       "\n",
       "     Vacunados completamente  Dosis de refuerzo  Total dosis aplicadas  \n",
       "243                    888.0             8130.0                 9592.0  \n",
       "244                   1718.0            16346.0                19172.0  \n",
       "245                     37.0               79.0                  149.0  \n",
       "246                      0.0                0.0                    0.0  \n",
       "247                    158.0              312.0                  699.0  "
      ]
     },
     "execution_count": 247,
     "metadata": {},
     "output_type": "execute_result"
    }
   ],
   "source": [
    "total_vaccination_UY.tail()"
   ]
  },
  {
   "cell_type": "markdown",
   "metadata": {},
   "source": [
    "<a id = 'Sección11.2.3'></a>"
   ]
  },
  {
   "cell_type": "markdown",
   "metadata": {},
   "source": [
    "#### 11.2.3. Porcentaje de la población vacunada"
   ]
  },
  {
   "cell_type": "code",
   "execution_count": 248,
   "metadata": {},
   "outputs": [],
   "source": [
    "pct_cum_vacc_UY = cum_vaccination_UY.iloc[:, 2:-1]*100/total_pop_UY"
   ]
  },
  {
   "cell_type": "code",
   "execution_count": 249,
   "metadata": {},
   "outputs": [],
   "source": [
    "pct_cum_vacc_UY.insert (0, 'Fecha', cum_vaccination_UY.loc [:, ['Fecha']])"
   ]
  },
  {
   "cell_type": "code",
   "execution_count": 250,
   "metadata": {},
   "outputs": [],
   "source": [
    "pct_cum_vacc_UY.insert (0, 'País', 'Uruguay')"
   ]
  },
  {
   "cell_type": "code",
   "execution_count": 251,
   "metadata": {},
   "outputs": [],
   "source": [
    "pct_cum_vacc_UY.rename (columns = {'Acumulado primeras dosis':'Pctj pob con primera dosis', \n",
    "                                   'Acumulado segundas dosis':'Pctj pob con segunda dosis',\n",
    "                                   'Acumulado vacunados completamente':'Pctj pob completamente vacunada',\n",
    "                                   'Acumulado vacunas de refuerzo':'Pctj pob con vacuna de refuerzo'}, inplace = True)"
   ]
  },
  {
   "cell_type": "code",
   "execution_count": 252,
   "metadata": {},
   "outputs": [
    {
     "data": {
      "text/html": [
       "<div>\n",
       "<style scoped>\n",
       "    .dataframe tbody tr th:only-of-type {\n",
       "        vertical-align: middle;\n",
       "    }\n",
       "\n",
       "    .dataframe tbody tr th {\n",
       "        vertical-align: top;\n",
       "    }\n",
       "\n",
       "    .dataframe thead th {\n",
       "        text-align: right;\n",
       "    }\n",
       "</style>\n",
       "<table border=\"1\" class=\"dataframe\">\n",
       "  <thead>\n",
       "    <tr style=\"text-align: right;\">\n",
       "      <th></th>\n",
       "      <th>País</th>\n",
       "      <th>Fecha</th>\n",
       "      <th>Pctj pob con primera dosis</th>\n",
       "      <th>Pctj pob con segunda dosis</th>\n",
       "      <th>Pctj pob completamente vacunada</th>\n",
       "      <th>Pctj pob con vacuna de refuerzo</th>\n",
       "    </tr>\n",
       "  </thead>\n",
       "  <tbody>\n",
       "    <tr>\n",
       "      <th>243</th>\n",
       "      <td>Uruguay</td>\n",
       "      <td>2021-10-28</td>\n",
       "      <td>78.162639</td>\n",
       "      <td>74.159282</td>\n",
       "      <td>74.159282</td>\n",
       "      <td>34.465458</td>\n",
       "    </tr>\n",
       "    <tr>\n",
       "      <th>244</th>\n",
       "      <td>Uruguay</td>\n",
       "      <td>2021-10-29</td>\n",
       "      <td>78.194019</td>\n",
       "      <td>74.207938</td>\n",
       "      <td>74.207938</td>\n",
       "      <td>34.928398</td>\n",
       "    </tr>\n",
       "    <tr>\n",
       "      <th>245</th>\n",
       "      <td>Uruguay</td>\n",
       "      <td>2021-10-30</td>\n",
       "      <td>78.194954</td>\n",
       "      <td>74.208986</td>\n",
       "      <td>74.208986</td>\n",
       "      <td>34.930635</td>\n",
       "    </tr>\n",
       "    <tr>\n",
       "      <th>246</th>\n",
       "      <td>Uruguay</td>\n",
       "      <td>2021-10-31</td>\n",
       "      <td>78.194954</td>\n",
       "      <td>74.208986</td>\n",
       "      <td>74.208986</td>\n",
       "      <td>34.930635</td>\n",
       "    </tr>\n",
       "    <tr>\n",
       "      <th>247</th>\n",
       "      <td>Uruguay</td>\n",
       "      <td>2021-11-01</td>\n",
       "      <td>78.201439</td>\n",
       "      <td>74.213461</td>\n",
       "      <td>74.213461</td>\n",
       "      <td>34.939472</td>\n",
       "    </tr>\n",
       "  </tbody>\n",
       "</table>\n",
       "</div>"
      ],
      "text/plain": [
       "        País      Fecha  Pctj pob con primera dosis  \\\n",
       "243  Uruguay 2021-10-28                   78.162639   \n",
       "244  Uruguay 2021-10-29                   78.194019   \n",
       "245  Uruguay 2021-10-30                   78.194954   \n",
       "246  Uruguay 2021-10-31                   78.194954   \n",
       "247  Uruguay 2021-11-01                   78.201439   \n",
       "\n",
       "     Pctj pob con segunda dosis  Pctj pob completamente vacunada  \\\n",
       "243                   74.159282                        74.159282   \n",
       "244                   74.207938                        74.207938   \n",
       "245                   74.208986                        74.208986   \n",
       "246                   74.208986                        74.208986   \n",
       "247                   74.213461                        74.213461   \n",
       "\n",
       "     Pctj pob con vacuna de refuerzo  \n",
       "243                        34.465458  \n",
       "244                        34.928398  \n",
       "245                        34.930635  \n",
       "246                        34.930635  \n",
       "247                        34.939472  "
      ]
     },
     "execution_count": 252,
     "metadata": {},
     "output_type": "execute_result"
    }
   ],
   "source": [
    "pct_cum_vacc_UY.tail()"
   ]
  },
  {
   "cell_type": "markdown",
   "metadata": {},
   "source": [
    "<a id = 'Sección11.3'></a>"
   ]
  },
  {
   "cell_type": "markdown",
   "metadata": {},
   "source": [
    "### 11.3.  Consolidado de las vacunas colocadas"
   ]
  },
  {
   "cell_type": "markdown",
   "metadata": {},
   "source": [
    "<a id = 'Sección11.3.1'></a>"
   ]
  },
  {
   "cell_type": "markdown",
   "metadata": {},
   "source": [
    "#### 11.3.1.  Total de vacunas colocadas diariamente consolidado"
   ]
  },
  {
   "cell_type": "code",
   "execution_count": 253,
   "metadata": {},
   "outputs": [],
   "source": [
    "total_vaccination = pd.concat ([total_vaccination_CH,total_vaccination_UY])"
   ]
  },
  {
   "cell_type": "code",
   "execution_count": 254,
   "metadata": {},
   "outputs": [],
   "source": [
    "total_vaccination.fillna(0, inplace=True)"
   ]
  },
  {
   "cell_type": "code",
   "execution_count": 255,
   "metadata": {},
   "outputs": [
    {
     "data": {
      "text/html": [
       "<div>\n",
       "<style scoped>\n",
       "    .dataframe tbody tr th:only-of-type {\n",
       "        vertical-align: middle;\n",
       "    }\n",
       "\n",
       "    .dataframe tbody tr th {\n",
       "        vertical-align: top;\n",
       "    }\n",
       "\n",
       "    .dataframe thead th {\n",
       "        text-align: right;\n",
       "    }\n",
       "</style>\n",
       "<table border=\"1\" class=\"dataframe\">\n",
       "  <thead>\n",
       "    <tr style=\"text-align: right;\">\n",
       "      <th></th>\n",
       "      <th>País</th>\n",
       "      <th>Fecha</th>\n",
       "      <th>Primera dosis</th>\n",
       "      <th>Segunda dosis</th>\n",
       "      <th>Dosis única</th>\n",
       "      <th>Vacunados completamente</th>\n",
       "      <th>Dosis de refuerzo</th>\n",
       "      <th>Total dosis aplicadas</th>\n",
       "    </tr>\n",
       "  </thead>\n",
       "  <tbody>\n",
       "    <tr>\n",
       "      <th>0</th>\n",
       "      <td>Chile</td>\n",
       "      <td>2020-12-24</td>\n",
       "      <td>420.0</td>\n",
       "      <td>0.0</td>\n",
       "      <td>0.0</td>\n",
       "      <td>0.0</td>\n",
       "      <td>0.0</td>\n",
       "      <td>0.0</td>\n",
       "    </tr>\n",
       "    <tr>\n",
       "      <th>1</th>\n",
       "      <td>Chile</td>\n",
       "      <td>2020-12-25</td>\n",
       "      <td>4782.0</td>\n",
       "      <td>0.0</td>\n",
       "      <td>0.0</td>\n",
       "      <td>0.0</td>\n",
       "      <td>0.0</td>\n",
       "      <td>0.0</td>\n",
       "    </tr>\n",
       "    <tr>\n",
       "      <th>2</th>\n",
       "      <td>Chile</td>\n",
       "      <td>2020-12-26</td>\n",
       "      <td>3143.0</td>\n",
       "      <td>0.0</td>\n",
       "      <td>0.0</td>\n",
       "      <td>0.0</td>\n",
       "      <td>0.0</td>\n",
       "      <td>0.0</td>\n",
       "    </tr>\n",
       "    <tr>\n",
       "      <th>3</th>\n",
       "      <td>Chile</td>\n",
       "      <td>2020-12-27</td>\n",
       "      <td>311.0</td>\n",
       "      <td>0.0</td>\n",
       "      <td>0.0</td>\n",
       "      <td>0.0</td>\n",
       "      <td>0.0</td>\n",
       "      <td>0.0</td>\n",
       "    </tr>\n",
       "    <tr>\n",
       "      <th>4</th>\n",
       "      <td>Chile</td>\n",
       "      <td>2021-01-04</td>\n",
       "      <td>405.0</td>\n",
       "      <td>0.0</td>\n",
       "      <td>0.0</td>\n",
       "      <td>0.0</td>\n",
       "      <td>0.0</td>\n",
       "      <td>0.0</td>\n",
       "    </tr>\n",
       "    <tr>\n",
       "      <th>...</th>\n",
       "      <td>...</td>\n",
       "      <td>...</td>\n",
       "      <td>...</td>\n",
       "      <td>...</td>\n",
       "      <td>...</td>\n",
       "      <td>...</td>\n",
       "      <td>...</td>\n",
       "      <td>...</td>\n",
       "    </tr>\n",
       "    <tr>\n",
       "      <th>243</th>\n",
       "      <td>Uruguay</td>\n",
       "      <td>2021-10-28</td>\n",
       "      <td>574.0</td>\n",
       "      <td>888.0</td>\n",
       "      <td>0.0</td>\n",
       "      <td>888.0</td>\n",
       "      <td>8130.0</td>\n",
       "      <td>9592.0</td>\n",
       "    </tr>\n",
       "    <tr>\n",
       "      <th>244</th>\n",
       "      <td>Uruguay</td>\n",
       "      <td>2021-10-29</td>\n",
       "      <td>1108.0</td>\n",
       "      <td>1718.0</td>\n",
       "      <td>0.0</td>\n",
       "      <td>1718.0</td>\n",
       "      <td>16346.0</td>\n",
       "      <td>19172.0</td>\n",
       "    </tr>\n",
       "    <tr>\n",
       "      <th>245</th>\n",
       "      <td>Uruguay</td>\n",
       "      <td>2021-10-30</td>\n",
       "      <td>33.0</td>\n",
       "      <td>37.0</td>\n",
       "      <td>0.0</td>\n",
       "      <td>37.0</td>\n",
       "      <td>79.0</td>\n",
       "      <td>149.0</td>\n",
       "    </tr>\n",
       "    <tr>\n",
       "      <th>246</th>\n",
       "      <td>Uruguay</td>\n",
       "      <td>2021-10-31</td>\n",
       "      <td>0.0</td>\n",
       "      <td>0.0</td>\n",
       "      <td>0.0</td>\n",
       "      <td>0.0</td>\n",
       "      <td>0.0</td>\n",
       "      <td>0.0</td>\n",
       "    </tr>\n",
       "    <tr>\n",
       "      <th>247</th>\n",
       "      <td>Uruguay</td>\n",
       "      <td>2021-11-01</td>\n",
       "      <td>229.0</td>\n",
       "      <td>158.0</td>\n",
       "      <td>0.0</td>\n",
       "      <td>158.0</td>\n",
       "      <td>312.0</td>\n",
       "      <td>699.0</td>\n",
       "    </tr>\n",
       "  </tbody>\n",
       "</table>\n",
       "<p>539 rows × 8 columns</p>\n",
       "</div>"
      ],
      "text/plain": [
       "        País      Fecha  Primera dosis  Segunda dosis  Dosis única  \\\n",
       "0      Chile 2020-12-24          420.0            0.0          0.0   \n",
       "1      Chile 2020-12-25         4782.0            0.0          0.0   \n",
       "2      Chile 2020-12-26         3143.0            0.0          0.0   \n",
       "3      Chile 2020-12-27          311.0            0.0          0.0   \n",
       "4      Chile 2021-01-04          405.0            0.0          0.0   \n",
       "..       ...        ...            ...            ...          ...   \n",
       "243  Uruguay 2021-10-28          574.0          888.0          0.0   \n",
       "244  Uruguay 2021-10-29         1108.0         1718.0          0.0   \n",
       "245  Uruguay 2021-10-30           33.0           37.0          0.0   \n",
       "246  Uruguay 2021-10-31            0.0            0.0          0.0   \n",
       "247  Uruguay 2021-11-01          229.0          158.0          0.0   \n",
       "\n",
       "     Vacunados completamente  Dosis de refuerzo  Total dosis aplicadas  \n",
       "0                        0.0                0.0                    0.0  \n",
       "1                        0.0                0.0                    0.0  \n",
       "2                        0.0                0.0                    0.0  \n",
       "3                        0.0                0.0                    0.0  \n",
       "4                        0.0                0.0                    0.0  \n",
       "..                       ...                ...                    ...  \n",
       "243                    888.0             8130.0                 9592.0  \n",
       "244                   1718.0            16346.0                19172.0  \n",
       "245                     37.0               79.0                  149.0  \n",
       "246                      0.0                0.0                    0.0  \n",
       "247                    158.0              312.0                  699.0  \n",
       "\n",
       "[539 rows x 8 columns]"
      ]
     },
     "execution_count": 255,
     "metadata": {},
     "output_type": "execute_result"
    }
   ],
   "source": [
    "total_vaccination"
   ]
  },
  {
   "cell_type": "markdown",
   "metadata": {},
   "source": [
    "<a id = 'Sección11.3.2'></a>"
   ]
  },
  {
   "cell_type": "markdown",
   "metadata": {},
   "source": [
    "#### 11.3.2.  Acumulado de las vacunas colocadas consolidado"
   ]
  },
  {
   "cell_type": "code",
   "execution_count": 256,
   "metadata": {},
   "outputs": [],
   "source": [
    "cum_vaccination = pd.concat ([cum_vaccination_CH,cum_vaccination_UY])"
   ]
  },
  {
   "cell_type": "code",
   "execution_count": 257,
   "metadata": {},
   "outputs": [],
   "source": [
    "cum_vaccination.fillna(0,inplace=True)"
   ]
  },
  {
   "cell_type": "code",
   "execution_count": 258,
   "metadata": {},
   "outputs": [
    {
     "data": {
      "text/html": [
       "<div>\n",
       "<style scoped>\n",
       "    .dataframe tbody tr th:only-of-type {\n",
       "        vertical-align: middle;\n",
       "    }\n",
       "\n",
       "    .dataframe tbody tr th {\n",
       "        vertical-align: top;\n",
       "    }\n",
       "\n",
       "    .dataframe thead th {\n",
       "        text-align: right;\n",
       "    }\n",
       "</style>\n",
       "<table border=\"1\" class=\"dataframe\">\n",
       "  <thead>\n",
       "    <tr style=\"text-align: right;\">\n",
       "      <th></th>\n",
       "      <th>País</th>\n",
       "      <th>Fecha</th>\n",
       "      <th>Acumulado primeras dosis</th>\n",
       "      <th>Acumulado segundas dosis</th>\n",
       "      <th>Acumulado dosis única</th>\n",
       "      <th>Acumulado vacunados completamente</th>\n",
       "      <th>Acumulado vacunas de refuerzo</th>\n",
       "      <th>Acumulado dosis aplicadas</th>\n",
       "    </tr>\n",
       "  </thead>\n",
       "  <tbody>\n",
       "    <tr>\n",
       "      <th>0</th>\n",
       "      <td>Chile</td>\n",
       "      <td>2020-12-24</td>\n",
       "      <td>420.0</td>\n",
       "      <td>0.0</td>\n",
       "      <td>0.0</td>\n",
       "      <td>0.0</td>\n",
       "      <td>0.0</td>\n",
       "      <td>0.0</td>\n",
       "    </tr>\n",
       "    <tr>\n",
       "      <th>1</th>\n",
       "      <td>Chile</td>\n",
       "      <td>2020-12-25</td>\n",
       "      <td>5202.0</td>\n",
       "      <td>0.0</td>\n",
       "      <td>0.0</td>\n",
       "      <td>0.0</td>\n",
       "      <td>0.0</td>\n",
       "      <td>0.0</td>\n",
       "    </tr>\n",
       "    <tr>\n",
       "      <th>2</th>\n",
       "      <td>Chile</td>\n",
       "      <td>2020-12-26</td>\n",
       "      <td>8345.0</td>\n",
       "      <td>0.0</td>\n",
       "      <td>0.0</td>\n",
       "      <td>0.0</td>\n",
       "      <td>0.0</td>\n",
       "      <td>0.0</td>\n",
       "    </tr>\n",
       "    <tr>\n",
       "      <th>3</th>\n",
       "      <td>Chile</td>\n",
       "      <td>2020-12-27</td>\n",
       "      <td>8656.0</td>\n",
       "      <td>0.0</td>\n",
       "      <td>0.0</td>\n",
       "      <td>0.0</td>\n",
       "      <td>0.0</td>\n",
       "      <td>0.0</td>\n",
       "    </tr>\n",
       "    <tr>\n",
       "      <th>4</th>\n",
       "      <td>Chile</td>\n",
       "      <td>2021-01-04</td>\n",
       "      <td>9061.0</td>\n",
       "      <td>0.0</td>\n",
       "      <td>0.0</td>\n",
       "      <td>0.0</td>\n",
       "      <td>0.0</td>\n",
       "      <td>0.0</td>\n",
       "    </tr>\n",
       "    <tr>\n",
       "      <th>...</th>\n",
       "      <td>...</td>\n",
       "      <td>...</td>\n",
       "      <td>...</td>\n",
       "      <td>...</td>\n",
       "      <td>...</td>\n",
       "      <td>...</td>\n",
       "      <td>...</td>\n",
       "      <td>...</td>\n",
       "    </tr>\n",
       "    <tr>\n",
       "      <th>243</th>\n",
       "      <td>Uruguay</td>\n",
       "      <td>2021-10-28</td>\n",
       "      <td>2759854.0</td>\n",
       "      <td>2618499.0</td>\n",
       "      <td>0.0</td>\n",
       "      <td>2618499.0</td>\n",
       "      <td>1216945.0</td>\n",
       "      <td>6595298.0</td>\n",
       "    </tr>\n",
       "    <tr>\n",
       "      <th>244</th>\n",
       "      <td>Uruguay</td>\n",
       "      <td>2021-10-29</td>\n",
       "      <td>2760962.0</td>\n",
       "      <td>2620217.0</td>\n",
       "      <td>0.0</td>\n",
       "      <td>2620217.0</td>\n",
       "      <td>1233291.0</td>\n",
       "      <td>6614470.0</td>\n",
       "    </tr>\n",
       "    <tr>\n",
       "      <th>245</th>\n",
       "      <td>Uruguay</td>\n",
       "      <td>2021-10-30</td>\n",
       "      <td>2760995.0</td>\n",
       "      <td>2620254.0</td>\n",
       "      <td>0.0</td>\n",
       "      <td>2620254.0</td>\n",
       "      <td>1233370.0</td>\n",
       "      <td>6614619.0</td>\n",
       "    </tr>\n",
       "    <tr>\n",
       "      <th>246</th>\n",
       "      <td>Uruguay</td>\n",
       "      <td>2021-10-31</td>\n",
       "      <td>2760995.0</td>\n",
       "      <td>2620254.0</td>\n",
       "      <td>0.0</td>\n",
       "      <td>2620254.0</td>\n",
       "      <td>1233370.0</td>\n",
       "      <td>6614619.0</td>\n",
       "    </tr>\n",
       "    <tr>\n",
       "      <th>247</th>\n",
       "      <td>Uruguay</td>\n",
       "      <td>2021-11-01</td>\n",
       "      <td>2761224.0</td>\n",
       "      <td>2620412.0</td>\n",
       "      <td>0.0</td>\n",
       "      <td>2620412.0</td>\n",
       "      <td>1233682.0</td>\n",
       "      <td>6615318.0</td>\n",
       "    </tr>\n",
       "  </tbody>\n",
       "</table>\n",
       "<p>539 rows × 8 columns</p>\n",
       "</div>"
      ],
      "text/plain": [
       "        País      Fecha  Acumulado primeras dosis  Acumulado segundas dosis  \\\n",
       "0      Chile 2020-12-24                     420.0                       0.0   \n",
       "1      Chile 2020-12-25                    5202.0                       0.0   \n",
       "2      Chile 2020-12-26                    8345.0                       0.0   \n",
       "3      Chile 2020-12-27                    8656.0                       0.0   \n",
       "4      Chile 2021-01-04                    9061.0                       0.0   \n",
       "..       ...        ...                       ...                       ...   \n",
       "243  Uruguay 2021-10-28                 2759854.0                 2618499.0   \n",
       "244  Uruguay 2021-10-29                 2760962.0                 2620217.0   \n",
       "245  Uruguay 2021-10-30                 2760995.0                 2620254.0   \n",
       "246  Uruguay 2021-10-31                 2760995.0                 2620254.0   \n",
       "247  Uruguay 2021-11-01                 2761224.0                 2620412.0   \n",
       "\n",
       "     Acumulado dosis única  Acumulado vacunados completamente  \\\n",
       "0                      0.0                                0.0   \n",
       "1                      0.0                                0.0   \n",
       "2                      0.0                                0.0   \n",
       "3                      0.0                                0.0   \n",
       "4                      0.0                                0.0   \n",
       "..                     ...                                ...   \n",
       "243                    0.0                          2618499.0   \n",
       "244                    0.0                          2620217.0   \n",
       "245                    0.0                          2620254.0   \n",
       "246                    0.0                          2620254.0   \n",
       "247                    0.0                          2620412.0   \n",
       "\n",
       "     Acumulado vacunas de refuerzo  Acumulado dosis aplicadas  \n",
       "0                              0.0                        0.0  \n",
       "1                              0.0                        0.0  \n",
       "2                              0.0                        0.0  \n",
       "3                              0.0                        0.0  \n",
       "4                              0.0                        0.0  \n",
       "..                             ...                        ...  \n",
       "243                      1216945.0                  6595298.0  \n",
       "244                      1233291.0                  6614470.0  \n",
       "245                      1233370.0                  6614619.0  \n",
       "246                      1233370.0                  6614619.0  \n",
       "247                      1233682.0                  6615318.0  \n",
       "\n",
       "[539 rows x 8 columns]"
      ]
     },
     "execution_count": 258,
     "metadata": {},
     "output_type": "execute_result"
    }
   ],
   "source": [
    "cum_vaccination"
   ]
  },
  {
   "cell_type": "markdown",
   "metadata": {},
   "source": [
    "<a id = 'Sección11.3.3'></a>"
   ]
  },
  {
   "cell_type": "markdown",
   "metadata": {},
   "source": [
    "#### 11.3.3.  Porcentaje de la población vacunada consolidado"
   ]
  },
  {
   "cell_type": "code",
   "execution_count": 259,
   "metadata": {},
   "outputs": [],
   "source": [
    "pct_cum_vacc = pd.concat ([pct_cum_vacc_CH,pct_cum_vacc_UY])"
   ]
  },
  {
   "cell_type": "code",
   "execution_count": 260,
   "metadata": {},
   "outputs": [],
   "source": [
    "pct_cum_vacc.fillna(0,inplace=True)"
   ]
  },
  {
   "cell_type": "code",
   "execution_count": 261,
   "metadata": {},
   "outputs": [
    {
     "data": {
      "text/html": [
       "<div>\n",
       "<style scoped>\n",
       "    .dataframe tbody tr th:only-of-type {\n",
       "        vertical-align: middle;\n",
       "    }\n",
       "\n",
       "    .dataframe tbody tr th {\n",
       "        vertical-align: top;\n",
       "    }\n",
       "\n",
       "    .dataframe thead th {\n",
       "        text-align: right;\n",
       "    }\n",
       "</style>\n",
       "<table border=\"1\" class=\"dataframe\">\n",
       "  <thead>\n",
       "    <tr style=\"text-align: right;\">\n",
       "      <th></th>\n",
       "      <th>Fecha</th>\n",
       "      <th>País</th>\n",
       "      <th>Pctj pob con primera dosis</th>\n",
       "      <th>Pctj pob con segunda dosis</th>\n",
       "      <th>Pctj pob con dosis única</th>\n",
       "      <th>Pctj pob completamente vacunada</th>\n",
       "      <th>Pctj pob con vacuna de refuerzo</th>\n",
       "    </tr>\n",
       "  </thead>\n",
       "  <tbody>\n",
       "    <tr>\n",
       "      <th>0</th>\n",
       "      <td>2020-12-24</td>\n",
       "      <td>Chile</td>\n",
       "      <td>0.002158</td>\n",
       "      <td>0.000000</td>\n",
       "      <td>0.0</td>\n",
       "      <td>0.000000</td>\n",
       "      <td>0.000000</td>\n",
       "    </tr>\n",
       "    <tr>\n",
       "      <th>1</th>\n",
       "      <td>2020-12-25</td>\n",
       "      <td>Chile</td>\n",
       "      <td>0.026734</td>\n",
       "      <td>0.000000</td>\n",
       "      <td>0.0</td>\n",
       "      <td>0.000000</td>\n",
       "      <td>0.000000</td>\n",
       "    </tr>\n",
       "    <tr>\n",
       "      <th>2</th>\n",
       "      <td>2020-12-26</td>\n",
       "      <td>Chile</td>\n",
       "      <td>0.042887</td>\n",
       "      <td>0.000000</td>\n",
       "      <td>0.0</td>\n",
       "      <td>0.000000</td>\n",
       "      <td>0.000000</td>\n",
       "    </tr>\n",
       "    <tr>\n",
       "      <th>3</th>\n",
       "      <td>2020-12-27</td>\n",
       "      <td>Chile</td>\n",
       "      <td>0.044485</td>\n",
       "      <td>0.000000</td>\n",
       "      <td>0.0</td>\n",
       "      <td>0.000000</td>\n",
       "      <td>0.000000</td>\n",
       "    </tr>\n",
       "    <tr>\n",
       "      <th>4</th>\n",
       "      <td>2021-01-04</td>\n",
       "      <td>Chile</td>\n",
       "      <td>0.046566</td>\n",
       "      <td>0.000000</td>\n",
       "      <td>0.0</td>\n",
       "      <td>0.000000</td>\n",
       "      <td>0.000000</td>\n",
       "    </tr>\n",
       "    <tr>\n",
       "      <th>...</th>\n",
       "      <td>...</td>\n",
       "      <td>...</td>\n",
       "      <td>...</td>\n",
       "      <td>...</td>\n",
       "      <td>...</td>\n",
       "      <td>...</td>\n",
       "      <td>...</td>\n",
       "    </tr>\n",
       "    <tr>\n",
       "      <th>243</th>\n",
       "      <td>2021-10-28</td>\n",
       "      <td>Uruguay</td>\n",
       "      <td>78.162639</td>\n",
       "      <td>74.159282</td>\n",
       "      <td>0.0</td>\n",
       "      <td>74.159282</td>\n",
       "      <td>34.465458</td>\n",
       "    </tr>\n",
       "    <tr>\n",
       "      <th>244</th>\n",
       "      <td>2021-10-29</td>\n",
       "      <td>Uruguay</td>\n",
       "      <td>78.194019</td>\n",
       "      <td>74.207938</td>\n",
       "      <td>0.0</td>\n",
       "      <td>74.207938</td>\n",
       "      <td>34.928398</td>\n",
       "    </tr>\n",
       "    <tr>\n",
       "      <th>245</th>\n",
       "      <td>2021-10-30</td>\n",
       "      <td>Uruguay</td>\n",
       "      <td>78.194954</td>\n",
       "      <td>74.208986</td>\n",
       "      <td>0.0</td>\n",
       "      <td>74.208986</td>\n",
       "      <td>34.930635</td>\n",
       "    </tr>\n",
       "    <tr>\n",
       "      <th>246</th>\n",
       "      <td>2021-10-31</td>\n",
       "      <td>Uruguay</td>\n",
       "      <td>78.194954</td>\n",
       "      <td>74.208986</td>\n",
       "      <td>0.0</td>\n",
       "      <td>74.208986</td>\n",
       "      <td>34.930635</td>\n",
       "    </tr>\n",
       "    <tr>\n",
       "      <th>247</th>\n",
       "      <td>2021-11-01</td>\n",
       "      <td>Uruguay</td>\n",
       "      <td>78.201439</td>\n",
       "      <td>74.213461</td>\n",
       "      <td>0.0</td>\n",
       "      <td>74.213461</td>\n",
       "      <td>34.939472</td>\n",
       "    </tr>\n",
       "  </tbody>\n",
       "</table>\n",
       "<p>539 rows × 7 columns</p>\n",
       "</div>"
      ],
      "text/plain": [
       "         Fecha     País  Pctj pob con primera dosis  \\\n",
       "0   2020-12-24    Chile                    0.002158   \n",
       "1   2020-12-25    Chile                    0.026734   \n",
       "2   2020-12-26    Chile                    0.042887   \n",
       "3   2020-12-27    Chile                    0.044485   \n",
       "4   2021-01-04    Chile                    0.046566   \n",
       "..         ...      ...                         ...   \n",
       "243 2021-10-28  Uruguay                   78.162639   \n",
       "244 2021-10-29  Uruguay                   78.194019   \n",
       "245 2021-10-30  Uruguay                   78.194954   \n",
       "246 2021-10-31  Uruguay                   78.194954   \n",
       "247 2021-11-01  Uruguay                   78.201439   \n",
       "\n",
       "     Pctj pob con segunda dosis  Pctj pob con dosis única  \\\n",
       "0                      0.000000                       0.0   \n",
       "1                      0.000000                       0.0   \n",
       "2                      0.000000                       0.0   \n",
       "3                      0.000000                       0.0   \n",
       "4                      0.000000                       0.0   \n",
       "..                          ...                       ...   \n",
       "243                   74.159282                       0.0   \n",
       "244                   74.207938                       0.0   \n",
       "245                   74.208986                       0.0   \n",
       "246                   74.208986                       0.0   \n",
       "247                   74.213461                       0.0   \n",
       "\n",
       "     Pctj pob completamente vacunada  Pctj pob con vacuna de refuerzo  \n",
       "0                           0.000000                         0.000000  \n",
       "1                           0.000000                         0.000000  \n",
       "2                           0.000000                         0.000000  \n",
       "3                           0.000000                         0.000000  \n",
       "4                           0.000000                         0.000000  \n",
       "..                               ...                              ...  \n",
       "243                        74.159282                        34.465458  \n",
       "244                        74.207938                        34.928398  \n",
       "245                        74.208986                        34.930635  \n",
       "246                        74.208986                        34.930635  \n",
       "247                        74.213461                        34.939472  \n",
       "\n",
       "[539 rows x 7 columns]"
      ]
     },
     "execution_count": 261,
     "metadata": {},
     "output_type": "execute_result"
    }
   ],
   "source": [
    "pct_cum_vacc"
   ]
  },
  {
   "cell_type": "markdown",
   "metadata": {},
   "source": [
    "<a id = 'Sección12'></a>"
   ]
  },
  {
   "cell_type": "markdown",
   "metadata": {},
   "source": [
    "## 12. Vacunaciones por rango etario"
   ]
  },
  {
   "cell_type": "markdown",
   "metadata": {},
   "source": [
    "<a id = 'Sección12.1'></a>"
   ]
  },
  {
   "cell_type": "markdown",
   "metadata": {},
   "source": [
    "### 12.1. Vacunaciones por rango etario en Chile"
   ]
  },
  {
   "cell_type": "markdown",
   "metadata": {},
   "source": [
    "<a id = 'Sección12.1.1'></a>"
   ]
  },
  {
   "cell_type": "markdown",
   "metadata": {},
   "source": [
    "#### 12.1.1. Vacunaciones diarias de dosis única por rango etario"
   ]
  },
  {
   "cell_type": "code",
   "execution_count": 262,
   "metadata": {},
   "outputs": [],
   "source": [
    "vaccination_per_age_s_CH = pd.DataFrame()"
   ]
  },
  {
   "cell_type": "code",
   "execution_count": 263,
   "metadata": {},
   "outputs": [],
   "source": [
    "vaccination_per_age_s_CH ['Fecha'] = single_dose_CH ['Fecha']"
   ]
  },
  {
   "cell_type": "code",
   "execution_count": 264,
   "metadata": {},
   "outputs": [],
   "source": [
    "vaccination_per_age_s_CH ['12 a 17 años'] = single_dose_CH.iloc [:, 1:7].sum(axis=1)"
   ]
  },
  {
   "cell_type": "code",
   "execution_count": 265,
   "metadata": {},
   "outputs": [],
   "source": [
    "vaccination_per_age_s_CH ['18 a 24 años'] = single_dose_CH.iloc [:, 7:14].sum(axis=1)"
   ]
  },
  {
   "cell_type": "code",
   "execution_count": 266,
   "metadata": {},
   "outputs": [],
   "source": [
    "vaccination_per_age_s_CH ['25 a 34 años'] = single_dose_CH.iloc [:, 14:24].sum(axis=1)"
   ]
  },
  {
   "cell_type": "code",
   "execution_count": 267,
   "metadata": {},
   "outputs": [],
   "source": [
    "vaccination_per_age_s_CH ['35 a 44 años'] = single_dose_CH.iloc [:, 24:34].sum(axis=1)"
   ]
  },
  {
   "cell_type": "code",
   "execution_count": 268,
   "metadata": {},
   "outputs": [],
   "source": [
    "vaccination_per_age_s_CH ['45 a 54 años'] = single_dose_CH.iloc [:, 34:44].sum(axis=1)"
   ]
  },
  {
   "cell_type": "code",
   "execution_count": 269,
   "metadata": {},
   "outputs": [],
   "source": [
    "vaccination_per_age_s_CH ['55 a 64 años'] = single_dose_CH.iloc [:, 44:54].sum(axis=1)"
   ]
  },
  {
   "cell_type": "code",
   "execution_count": 270,
   "metadata": {},
   "outputs": [],
   "source": [
    "vaccination_per_age_s_CH ['65 a 74 años'] = single_dose_CH.iloc [:, 54:64].sum(axis=1)"
   ]
  },
  {
   "cell_type": "code",
   "execution_count": 271,
   "metadata": {},
   "outputs": [],
   "source": [
    "vaccination_per_age_s_CH ['75 años o más'] = single_dose_CH.iloc [:, 64:-1].sum(axis=1)"
   ]
  },
  {
   "cell_type": "code",
   "execution_count": 272,
   "metadata": {},
   "outputs": [],
   "source": [
    "vaccination_per_age_s_CH.insert (0,'País', 'Chile')"
   ]
  },
  {
   "cell_type": "code",
   "execution_count": 273,
   "metadata": {},
   "outputs": [],
   "source": [
    "vaccination_per_age_s_CH.insert (1,'Vacunación', 'Dosis única')"
   ]
  },
  {
   "cell_type": "code",
   "execution_count": 274,
   "metadata": {},
   "outputs": [
    {
     "data": {
      "text/html": [
       "<div>\n",
       "<style scoped>\n",
       "    .dataframe tbody tr th:only-of-type {\n",
       "        vertical-align: middle;\n",
       "    }\n",
       "\n",
       "    .dataframe tbody tr th {\n",
       "        vertical-align: top;\n",
       "    }\n",
       "\n",
       "    .dataframe thead th {\n",
       "        text-align: right;\n",
       "    }\n",
       "</style>\n",
       "<table border=\"1\" class=\"dataframe\">\n",
       "  <thead>\n",
       "    <tr style=\"text-align: right;\">\n",
       "      <th></th>\n",
       "      <th>País</th>\n",
       "      <th>Vacunación</th>\n",
       "      <th>Fecha</th>\n",
       "      <th>12 a 17 años</th>\n",
       "      <th>18 a 24 años</th>\n",
       "      <th>25 a 34 años</th>\n",
       "      <th>35 a 44 años</th>\n",
       "      <th>45 a 54 años</th>\n",
       "      <th>55 a 64 años</th>\n",
       "      <th>65 a 74 años</th>\n",
       "      <th>75 años o más</th>\n",
       "    </tr>\n",
       "  </thead>\n",
       "  <tbody>\n",
       "    <tr>\n",
       "      <th>142</th>\n",
       "      <td>Chile</td>\n",
       "      <td>Dosis única</td>\n",
       "      <td>2021-10-25</td>\n",
       "      <td>0.0</td>\n",
       "      <td>7.0</td>\n",
       "      <td>81.0</td>\n",
       "      <td>42.0</td>\n",
       "      <td>14.0</td>\n",
       "      <td>9.0</td>\n",
       "      <td>4.0</td>\n",
       "      <td>1.0</td>\n",
       "    </tr>\n",
       "    <tr>\n",
       "      <th>143</th>\n",
       "      <td>Chile</td>\n",
       "      <td>Dosis única</td>\n",
       "      <td>2021-10-26</td>\n",
       "      <td>0.0</td>\n",
       "      <td>2.0</td>\n",
       "      <td>48.0</td>\n",
       "      <td>52.0</td>\n",
       "      <td>34.0</td>\n",
       "      <td>8.0</td>\n",
       "      <td>2.0</td>\n",
       "      <td>1.0</td>\n",
       "    </tr>\n",
       "    <tr>\n",
       "      <th>144</th>\n",
       "      <td>Chile</td>\n",
       "      <td>Dosis única</td>\n",
       "      <td>2021-10-27</td>\n",
       "      <td>0.0</td>\n",
       "      <td>3.0</td>\n",
       "      <td>75.0</td>\n",
       "      <td>42.0</td>\n",
       "      <td>25.0</td>\n",
       "      <td>12.0</td>\n",
       "      <td>2.0</td>\n",
       "      <td>0.0</td>\n",
       "    </tr>\n",
       "    <tr>\n",
       "      <th>145</th>\n",
       "      <td>Chile</td>\n",
       "      <td>Dosis única</td>\n",
       "      <td>2021-10-28</td>\n",
       "      <td>0.0</td>\n",
       "      <td>3.0</td>\n",
       "      <td>28.0</td>\n",
       "      <td>23.0</td>\n",
       "      <td>19.0</td>\n",
       "      <td>9.0</td>\n",
       "      <td>1.0</td>\n",
       "      <td>0.0</td>\n",
       "    </tr>\n",
       "    <tr>\n",
       "      <th>146</th>\n",
       "      <td>Chile</td>\n",
       "      <td>Dosis única</td>\n",
       "      <td>2021-10-29</td>\n",
       "      <td>0.0</td>\n",
       "      <td>1.0</td>\n",
       "      <td>30.0</td>\n",
       "      <td>15.0</td>\n",
       "      <td>3.0</td>\n",
       "      <td>2.0</td>\n",
       "      <td>2.0</td>\n",
       "      <td>0.0</td>\n",
       "    </tr>\n",
       "  </tbody>\n",
       "</table>\n",
       "</div>"
      ],
      "text/plain": [
       "      País   Vacunación       Fecha  12 a 17 años  18 a 24 años  25 a 34 años  \\\n",
       "142  Chile  Dosis única  2021-10-25           0.0           7.0          81.0   \n",
       "143  Chile  Dosis única  2021-10-26           0.0           2.0          48.0   \n",
       "144  Chile  Dosis única  2021-10-27           0.0           3.0          75.0   \n",
       "145  Chile  Dosis única  2021-10-28           0.0           3.0          28.0   \n",
       "146  Chile  Dosis única  2021-10-29           0.0           1.0          30.0   \n",
       "\n",
       "     35 a 44 años  45 a 54 años  55 a 64 años  65 a 74 años  75 años o más  \n",
       "142          42.0          14.0           9.0           4.0            1.0  \n",
       "143          52.0          34.0           8.0           2.0            1.0  \n",
       "144          42.0          25.0          12.0           2.0            0.0  \n",
       "145          23.0          19.0           9.0           1.0            0.0  \n",
       "146          15.0           3.0           2.0           2.0            0.0  "
      ]
     },
     "execution_count": 274,
     "metadata": {},
     "output_type": "execute_result"
    }
   ],
   "source": [
    "vaccination_per_age_s_CH.tail()"
   ]
  },
  {
   "cell_type": "markdown",
   "metadata": {},
   "source": [
    "<a id = 'Sección12.1.2'></a>"
   ]
  },
  {
   "cell_type": "markdown",
   "metadata": {},
   "source": [
    "#### 12.1.2. Primeras dosis diarias por rango etario"
   ]
  },
  {
   "cell_type": "code",
   "execution_count": 275,
   "metadata": {},
   "outputs": [],
   "source": [
    "vaccination_per_age_fd_CH = pd.DataFrame()"
   ]
  },
  {
   "cell_type": "code",
   "execution_count": 276,
   "metadata": {},
   "outputs": [],
   "source": [
    "vaccination_per_age_fd_CH ['Fecha'] = first_dose_CH ['Fecha']"
   ]
  },
  {
   "cell_type": "code",
   "execution_count": 277,
   "metadata": {},
   "outputs": [],
   "source": [
    "vaccination_per_age_fd_CH ['12 a 17 años'] = first_dose_CH.iloc [:, 1:7].sum(axis=1)"
   ]
  },
  {
   "cell_type": "code",
   "execution_count": 278,
   "metadata": {},
   "outputs": [],
   "source": [
    "vaccination_per_age_fd_CH ['18 a 24 años'] = first_dose_CH.iloc [:, 7:14].sum(axis=1)"
   ]
  },
  {
   "cell_type": "code",
   "execution_count": 279,
   "metadata": {},
   "outputs": [],
   "source": [
    "vaccination_per_age_fd_CH ['25 a 34 años'] = first_dose_CH.iloc [:, 14:24].sum(axis=1)"
   ]
  },
  {
   "cell_type": "code",
   "execution_count": 280,
   "metadata": {},
   "outputs": [],
   "source": [
    "vaccination_per_age_fd_CH ['35 a 44 años'] = first_dose_CH.iloc [:, 24:34].sum(axis=1)"
   ]
  },
  {
   "cell_type": "code",
   "execution_count": 281,
   "metadata": {},
   "outputs": [],
   "source": [
    "vaccination_per_age_fd_CH ['45 a 54 años'] = first_dose_CH.iloc [:, 34:44].sum(axis=1)"
   ]
  },
  {
   "cell_type": "code",
   "execution_count": 282,
   "metadata": {},
   "outputs": [],
   "source": [
    "vaccination_per_age_fd_CH ['55 a 64 años'] = first_dose_CH.iloc [:, 44:54].sum(axis=1)"
   ]
  },
  {
   "cell_type": "code",
   "execution_count": 283,
   "metadata": {},
   "outputs": [],
   "source": [
    "vaccination_per_age_fd_CH ['65 a 74 años'] = first_dose_CH.iloc [:, 54:64].sum(axis=1)"
   ]
  },
  {
   "cell_type": "code",
   "execution_count": 284,
   "metadata": {},
   "outputs": [],
   "source": [
    "vaccination_per_age_fd_CH ['75 años o más'] = first_dose_CH.iloc [:, 64:-1].sum(axis=1)"
   ]
  },
  {
   "cell_type": "code",
   "execution_count": 285,
   "metadata": {},
   "outputs": [],
   "source": [
    "vaccination_per_age_fd_CH.insert (0,'País', 'Chile')"
   ]
  },
  {
   "cell_type": "code",
   "execution_count": 286,
   "metadata": {},
   "outputs": [],
   "source": [
    "vaccination_per_age_fd_CH.insert (1,'Vacunación', 'Primera dosis')"
   ]
  },
  {
   "cell_type": "code",
   "execution_count": 287,
   "metadata": {
    "scrolled": true
   },
   "outputs": [
    {
     "data": {
      "text/html": [
       "<div>\n",
       "<style scoped>\n",
       "    .dataframe tbody tr th:only-of-type {\n",
       "        vertical-align: middle;\n",
       "    }\n",
       "\n",
       "    .dataframe tbody tr th {\n",
       "        vertical-align: top;\n",
       "    }\n",
       "\n",
       "    .dataframe thead th {\n",
       "        text-align: right;\n",
       "    }\n",
       "</style>\n",
       "<table border=\"1\" class=\"dataframe\">\n",
       "  <thead>\n",
       "    <tr style=\"text-align: right;\">\n",
       "      <th></th>\n",
       "      <th>País</th>\n",
       "      <th>Vacunación</th>\n",
       "      <th>Fecha</th>\n",
       "      <th>12 a 17 años</th>\n",
       "      <th>18 a 24 años</th>\n",
       "      <th>25 a 34 años</th>\n",
       "      <th>35 a 44 años</th>\n",
       "      <th>45 a 54 años</th>\n",
       "      <th>55 a 64 años</th>\n",
       "      <th>65 a 74 años</th>\n",
       "      <th>75 años o más</th>\n",
       "    </tr>\n",
       "  </thead>\n",
       "  <tbody>\n",
       "    <tr>\n",
       "      <th>286</th>\n",
       "      <td>Chile</td>\n",
       "      <td>Primera dosis</td>\n",
       "      <td>2021-10-25</td>\n",
       "      <td>21550.0</td>\n",
       "      <td>4999.0</td>\n",
       "      <td>2753.0</td>\n",
       "      <td>2381.0</td>\n",
       "      <td>1305.0</td>\n",
       "      <td>863.0</td>\n",
       "      <td>465.0</td>\n",
       "      <td>268.0</td>\n",
       "    </tr>\n",
       "    <tr>\n",
       "      <th>287</th>\n",
       "      <td>Chile</td>\n",
       "      <td>Primera dosis</td>\n",
       "      <td>2021-10-26</td>\n",
       "      <td>19577.0</td>\n",
       "      <td>5095.0</td>\n",
       "      <td>2561.0</td>\n",
       "      <td>2273.0</td>\n",
       "      <td>1273.0</td>\n",
       "      <td>880.0</td>\n",
       "      <td>498.0</td>\n",
       "      <td>273.0</td>\n",
       "    </tr>\n",
       "    <tr>\n",
       "      <th>288</th>\n",
       "      <td>Chile</td>\n",
       "      <td>Primera dosis</td>\n",
       "      <td>2021-10-27</td>\n",
       "      <td>19187.0</td>\n",
       "      <td>5019.0</td>\n",
       "      <td>2443.0</td>\n",
       "      <td>2154.0</td>\n",
       "      <td>1272.0</td>\n",
       "      <td>820.0</td>\n",
       "      <td>493.0</td>\n",
       "      <td>318.0</td>\n",
       "    </tr>\n",
       "    <tr>\n",
       "      <th>289</th>\n",
       "      <td>Chile</td>\n",
       "      <td>Primera dosis</td>\n",
       "      <td>2021-10-28</td>\n",
       "      <td>17190.0</td>\n",
       "      <td>4659.0</td>\n",
       "      <td>2353.0</td>\n",
       "      <td>2138.0</td>\n",
       "      <td>1285.0</td>\n",
       "      <td>829.0</td>\n",
       "      <td>517.0</td>\n",
       "      <td>311.0</td>\n",
       "    </tr>\n",
       "    <tr>\n",
       "      <th>290</th>\n",
       "      <td>Chile</td>\n",
       "      <td>Primera dosis</td>\n",
       "      <td>2021-10-29</td>\n",
       "      <td>9195.0</td>\n",
       "      <td>2728.0</td>\n",
       "      <td>1444.0</td>\n",
       "      <td>1349.0</td>\n",
       "      <td>781.0</td>\n",
       "      <td>534.0</td>\n",
       "      <td>314.0</td>\n",
       "      <td>169.0</td>\n",
       "    </tr>\n",
       "  </tbody>\n",
       "</table>\n",
       "</div>"
      ],
      "text/plain": [
       "      País     Vacunación       Fecha  12 a 17 años  18 a 24 años  \\\n",
       "286  Chile  Primera dosis  2021-10-25       21550.0        4999.0   \n",
       "287  Chile  Primera dosis  2021-10-26       19577.0        5095.0   \n",
       "288  Chile  Primera dosis  2021-10-27       19187.0        5019.0   \n",
       "289  Chile  Primera dosis  2021-10-28       17190.0        4659.0   \n",
       "290  Chile  Primera dosis  2021-10-29        9195.0        2728.0   \n",
       "\n",
       "     25 a 34 años  35 a 44 años  45 a 54 años  55 a 64 años  65 a 74 años  \\\n",
       "286        2753.0        2381.0        1305.0         863.0         465.0   \n",
       "287        2561.0        2273.0        1273.0         880.0         498.0   \n",
       "288        2443.0        2154.0        1272.0         820.0         493.0   \n",
       "289        2353.0        2138.0        1285.0         829.0         517.0   \n",
       "290        1444.0        1349.0         781.0         534.0         314.0   \n",
       "\n",
       "     75 años o más  \n",
       "286          268.0  \n",
       "287          273.0  \n",
       "288          318.0  \n",
       "289          311.0  \n",
       "290          169.0  "
      ]
     },
     "execution_count": 287,
     "metadata": {},
     "output_type": "execute_result"
    }
   ],
   "source": [
    "vaccination_per_age_fd_CH.tail()"
   ]
  },
  {
   "cell_type": "markdown",
   "metadata": {},
   "source": [
    "<a id = 'Sección12.1.3'></a>"
   ]
  },
  {
   "cell_type": "markdown",
   "metadata": {},
   "source": [
    "#### 12.1.3. Segundas dosis diarias por rango etario"
   ]
  },
  {
   "cell_type": "code",
   "execution_count": 288,
   "metadata": {},
   "outputs": [],
   "source": [
    "vaccination_per_age_sd_CH = pd.DataFrame()"
   ]
  },
  {
   "cell_type": "code",
   "execution_count": 289,
   "metadata": {},
   "outputs": [],
   "source": [
    "vaccination_per_age_sd_CH ['Fecha'] = second_dose_CH ['Fecha']"
   ]
  },
  {
   "cell_type": "code",
   "execution_count": 290,
   "metadata": {},
   "outputs": [],
   "source": [
    "vaccination_per_age_sd_CH ['12 a 17 años'] = second_dose_CH.iloc [:, 1:7].sum(axis=1)"
   ]
  },
  {
   "cell_type": "code",
   "execution_count": 291,
   "metadata": {},
   "outputs": [],
   "source": [
    "vaccination_per_age_sd_CH ['18 a 24 años'] = second_dose_CH.iloc [:, 7:14].sum(axis=1)"
   ]
  },
  {
   "cell_type": "code",
   "execution_count": 292,
   "metadata": {},
   "outputs": [],
   "source": [
    "vaccination_per_age_sd_CH ['25 a 34 años'] = second_dose_CH.iloc [:, 14:24].sum(axis=1)"
   ]
  },
  {
   "cell_type": "code",
   "execution_count": 293,
   "metadata": {},
   "outputs": [],
   "source": [
    "vaccination_per_age_sd_CH ['35 a 44 años'] = second_dose_CH.iloc [:, 24:34].sum(axis=1)"
   ]
  },
  {
   "cell_type": "code",
   "execution_count": 294,
   "metadata": {},
   "outputs": [],
   "source": [
    "vaccination_per_age_sd_CH ['45 a 54 años'] = second_dose_CH.iloc [:, 34:44].sum(axis=1)"
   ]
  },
  {
   "cell_type": "code",
   "execution_count": 295,
   "metadata": {},
   "outputs": [],
   "source": [
    "vaccination_per_age_sd_CH ['55 a 64 años'] = second_dose_CH.iloc [:, 44:54].sum(axis=1)"
   ]
  },
  {
   "cell_type": "code",
   "execution_count": 296,
   "metadata": {},
   "outputs": [],
   "source": [
    "vaccination_per_age_sd_CH ['65 a 74 años'] = second_dose_CH.iloc [:, 54:64].sum(axis=1)"
   ]
  },
  {
   "cell_type": "code",
   "execution_count": 297,
   "metadata": {},
   "outputs": [],
   "source": [
    "vaccination_per_age_sd_CH ['75 años o más'] = second_dose_CH.iloc [:, 64:-1].sum(axis=1)"
   ]
  },
  {
   "cell_type": "code",
   "execution_count": 298,
   "metadata": {},
   "outputs": [],
   "source": [
    "vaccination_per_age_sd_CH.insert (0,'País', 'Chile')"
   ]
  },
  {
   "cell_type": "code",
   "execution_count": 299,
   "metadata": {},
   "outputs": [],
   "source": [
    "vaccination_per_age_sd_CH.insert (1,'Vacunación', 'Segunda dosis')"
   ]
  },
  {
   "cell_type": "code",
   "execution_count": 300,
   "metadata": {
    "scrolled": true
   },
   "outputs": [
    {
     "data": {
      "text/html": [
       "<div>\n",
       "<style scoped>\n",
       "    .dataframe tbody tr th:only-of-type {\n",
       "        vertical-align: middle;\n",
       "    }\n",
       "\n",
       "    .dataframe tbody tr th {\n",
       "        vertical-align: top;\n",
       "    }\n",
       "\n",
       "    .dataframe thead th {\n",
       "        text-align: right;\n",
       "    }\n",
       "</style>\n",
       "<table border=\"1\" class=\"dataframe\">\n",
       "  <thead>\n",
       "    <tr style=\"text-align: right;\">\n",
       "      <th></th>\n",
       "      <th>País</th>\n",
       "      <th>Vacunación</th>\n",
       "      <th>Fecha</th>\n",
       "      <th>12 a 17 años</th>\n",
       "      <th>18 a 24 años</th>\n",
       "      <th>25 a 34 años</th>\n",
       "      <th>35 a 44 años</th>\n",
       "      <th>45 a 54 años</th>\n",
       "      <th>55 a 64 años</th>\n",
       "      <th>65 a 74 años</th>\n",
       "      <th>75 años o más</th>\n",
       "    </tr>\n",
       "  </thead>\n",
       "  <tbody>\n",
       "    <tr>\n",
       "      <th>269</th>\n",
       "      <td>Chile</td>\n",
       "      <td>Segunda dosis</td>\n",
       "      <td>2021-10-25</td>\n",
       "      <td>40507.0</td>\n",
       "      <td>28567.0</td>\n",
       "      <td>3346.0</td>\n",
       "      <td>2951.0</td>\n",
       "      <td>1553.0</td>\n",
       "      <td>895.0</td>\n",
       "      <td>445.0</td>\n",
       "      <td>246.0</td>\n",
       "    </tr>\n",
       "    <tr>\n",
       "      <th>270</th>\n",
       "      <td>Chile</td>\n",
       "      <td>Segunda dosis</td>\n",
       "      <td>2021-10-26</td>\n",
       "      <td>58045.0</td>\n",
       "      <td>25292.0</td>\n",
       "      <td>3652.0</td>\n",
       "      <td>3103.0</td>\n",
       "      <td>1758.0</td>\n",
       "      <td>1090.0</td>\n",
       "      <td>509.0</td>\n",
       "      <td>276.0</td>\n",
       "    </tr>\n",
       "    <tr>\n",
       "      <th>271</th>\n",
       "      <td>Chile</td>\n",
       "      <td>Segunda dosis</td>\n",
       "      <td>2021-10-27</td>\n",
       "      <td>67607.0</td>\n",
       "      <td>23738.0</td>\n",
       "      <td>3181.0</td>\n",
       "      <td>3022.0</td>\n",
       "      <td>1663.0</td>\n",
       "      <td>974.0</td>\n",
       "      <td>524.0</td>\n",
       "      <td>282.0</td>\n",
       "    </tr>\n",
       "    <tr>\n",
       "      <th>272</th>\n",
       "      <td>Chile</td>\n",
       "      <td>Segunda dosis</td>\n",
       "      <td>2021-10-28</td>\n",
       "      <td>67691.0</td>\n",
       "      <td>22213.0</td>\n",
       "      <td>3450.0</td>\n",
       "      <td>3156.0</td>\n",
       "      <td>1718.0</td>\n",
       "      <td>1039.0</td>\n",
       "      <td>515.0</td>\n",
       "      <td>282.0</td>\n",
       "    </tr>\n",
       "    <tr>\n",
       "      <th>273</th>\n",
       "      <td>Chile</td>\n",
       "      <td>Segunda dosis</td>\n",
       "      <td>2021-10-29</td>\n",
       "      <td>39942.0</td>\n",
       "      <td>13110.0</td>\n",
       "      <td>2086.0</td>\n",
       "      <td>1915.0</td>\n",
       "      <td>1039.0</td>\n",
       "      <td>617.0</td>\n",
       "      <td>332.0</td>\n",
       "      <td>180.0</td>\n",
       "    </tr>\n",
       "  </tbody>\n",
       "</table>\n",
       "</div>"
      ],
      "text/plain": [
       "      País     Vacunación       Fecha  12 a 17 años  18 a 24 años  \\\n",
       "269  Chile  Segunda dosis  2021-10-25       40507.0       28567.0   \n",
       "270  Chile  Segunda dosis  2021-10-26       58045.0       25292.0   \n",
       "271  Chile  Segunda dosis  2021-10-27       67607.0       23738.0   \n",
       "272  Chile  Segunda dosis  2021-10-28       67691.0       22213.0   \n",
       "273  Chile  Segunda dosis  2021-10-29       39942.0       13110.0   \n",
       "\n",
       "     25 a 34 años  35 a 44 años  45 a 54 años  55 a 64 años  65 a 74 años  \\\n",
       "269        3346.0        2951.0        1553.0         895.0         445.0   \n",
       "270        3652.0        3103.0        1758.0        1090.0         509.0   \n",
       "271        3181.0        3022.0        1663.0         974.0         524.0   \n",
       "272        3450.0        3156.0        1718.0        1039.0         515.0   \n",
       "273        2086.0        1915.0        1039.0         617.0         332.0   \n",
       "\n",
       "     75 años o más  \n",
       "269          246.0  \n",
       "270          276.0  \n",
       "271          282.0  \n",
       "272          282.0  \n",
       "273          180.0  "
      ]
     },
     "execution_count": 300,
     "metadata": {},
     "output_type": "execute_result"
    }
   ],
   "source": [
    "vaccination_per_age_sd_CH.tail()"
   ]
  },
  {
   "cell_type": "markdown",
   "metadata": {},
   "source": [
    "<a id = 'Sección12.1.4'></a>"
   ]
  },
  {
   "cell_type": "markdown",
   "metadata": {},
   "source": [
    "#### 12.1.4. Vacunaciones completas diarias por rango etario"
   ]
  },
  {
   "cell_type": "markdown",
   "metadata": {},
   "source": [
    "Las personas completamente vacunadas son aquellas que han recibido vacunas que requieren de una sola dosis o se han aplicado las dos dosis correspondientes a las vacunas que requieren la colocación de dos dosis."
   ]
  },
  {
   "cell_type": "code",
   "execution_count": 301,
   "metadata": {},
   "outputs": [],
   "source": [
    "# La columna fecha de los dataframes pasa a ser el índice, para luego poder utilizar la función add en las columnas de rango etario.\n",
    "\n",
    "for df in [vaccination_per_age_s_CH, vaccination_per_age_sd_CH]:\n",
    "    df.set_index (['Fecha'], inplace = True)"
   ]
  },
  {
   "cell_type": "code",
   "execution_count": 302,
   "metadata": {},
   "outputs": [],
   "source": [
    "# Suma de los dataframes manteniendo la correspondencia en la fecha y rango etario.\n",
    "\n",
    "fully_vaccinated_per_age = vaccination_per_age_sd_CH.iloc [:, 2:].add(vaccination_per_age_s_CH.iloc [:, 2:], fill_value = 0).reindex (vaccination_per_age_sd_CH.index)"
   ]
  },
  {
   "cell_type": "code",
   "execution_count": 303,
   "metadata": {},
   "outputs": [],
   "source": [
    "fully_vaccinated_per_age.reset_index(inplace = True)"
   ]
  },
  {
   "cell_type": "code",
   "execution_count": 304,
   "metadata": {},
   "outputs": [],
   "source": [
    "fully_vaccinated_per_age.insert (0,'País', 'Chile')"
   ]
  },
  {
   "cell_type": "code",
   "execution_count": 305,
   "metadata": {},
   "outputs": [],
   "source": [
    "fully_vaccinated_per_age.insert (1,'Vacunación', 'Completamente vacunado')"
   ]
  },
  {
   "cell_type": "code",
   "execution_count": 306,
   "metadata": {},
   "outputs": [
    {
     "data": {
      "text/html": [
       "<div>\n",
       "<style scoped>\n",
       "    .dataframe tbody tr th:only-of-type {\n",
       "        vertical-align: middle;\n",
       "    }\n",
       "\n",
       "    .dataframe tbody tr th {\n",
       "        vertical-align: top;\n",
       "    }\n",
       "\n",
       "    .dataframe thead th {\n",
       "        text-align: right;\n",
       "    }\n",
       "</style>\n",
       "<table border=\"1\" class=\"dataframe\">\n",
       "  <thead>\n",
       "    <tr style=\"text-align: right;\">\n",
       "      <th></th>\n",
       "      <th>País</th>\n",
       "      <th>Vacunación</th>\n",
       "      <th>Fecha</th>\n",
       "      <th>12 a 17 años</th>\n",
       "      <th>18 a 24 años</th>\n",
       "      <th>25 a 34 años</th>\n",
       "      <th>35 a 44 años</th>\n",
       "      <th>45 a 54 años</th>\n",
       "      <th>55 a 64 años</th>\n",
       "      <th>65 a 74 años</th>\n",
       "      <th>75 años o más</th>\n",
       "    </tr>\n",
       "  </thead>\n",
       "  <tbody>\n",
       "    <tr>\n",
       "      <th>269</th>\n",
       "      <td>Chile</td>\n",
       "      <td>Completamente vacunado</td>\n",
       "      <td>2021-10-25</td>\n",
       "      <td>40507.0</td>\n",
       "      <td>28574.0</td>\n",
       "      <td>3427.0</td>\n",
       "      <td>2993.0</td>\n",
       "      <td>1567.0</td>\n",
       "      <td>904.0</td>\n",
       "      <td>449.0</td>\n",
       "      <td>247.0</td>\n",
       "    </tr>\n",
       "    <tr>\n",
       "      <th>270</th>\n",
       "      <td>Chile</td>\n",
       "      <td>Completamente vacunado</td>\n",
       "      <td>2021-10-26</td>\n",
       "      <td>58045.0</td>\n",
       "      <td>25294.0</td>\n",
       "      <td>3700.0</td>\n",
       "      <td>3155.0</td>\n",
       "      <td>1792.0</td>\n",
       "      <td>1098.0</td>\n",
       "      <td>511.0</td>\n",
       "      <td>277.0</td>\n",
       "    </tr>\n",
       "    <tr>\n",
       "      <th>271</th>\n",
       "      <td>Chile</td>\n",
       "      <td>Completamente vacunado</td>\n",
       "      <td>2021-10-27</td>\n",
       "      <td>67607.0</td>\n",
       "      <td>23741.0</td>\n",
       "      <td>3256.0</td>\n",
       "      <td>3064.0</td>\n",
       "      <td>1688.0</td>\n",
       "      <td>986.0</td>\n",
       "      <td>526.0</td>\n",
       "      <td>282.0</td>\n",
       "    </tr>\n",
       "    <tr>\n",
       "      <th>272</th>\n",
       "      <td>Chile</td>\n",
       "      <td>Completamente vacunado</td>\n",
       "      <td>2021-10-28</td>\n",
       "      <td>67691.0</td>\n",
       "      <td>22216.0</td>\n",
       "      <td>3478.0</td>\n",
       "      <td>3179.0</td>\n",
       "      <td>1737.0</td>\n",
       "      <td>1048.0</td>\n",
       "      <td>516.0</td>\n",
       "      <td>282.0</td>\n",
       "    </tr>\n",
       "    <tr>\n",
       "      <th>273</th>\n",
       "      <td>Chile</td>\n",
       "      <td>Completamente vacunado</td>\n",
       "      <td>2021-10-29</td>\n",
       "      <td>39942.0</td>\n",
       "      <td>13111.0</td>\n",
       "      <td>2116.0</td>\n",
       "      <td>1930.0</td>\n",
       "      <td>1042.0</td>\n",
       "      <td>619.0</td>\n",
       "      <td>334.0</td>\n",
       "      <td>180.0</td>\n",
       "    </tr>\n",
       "  </tbody>\n",
       "</table>\n",
       "</div>"
      ],
      "text/plain": [
       "      País              Vacunación       Fecha  12 a 17 años  18 a 24 años  \\\n",
       "269  Chile  Completamente vacunado  2021-10-25       40507.0       28574.0   \n",
       "270  Chile  Completamente vacunado  2021-10-26       58045.0       25294.0   \n",
       "271  Chile  Completamente vacunado  2021-10-27       67607.0       23741.0   \n",
       "272  Chile  Completamente vacunado  2021-10-28       67691.0       22216.0   \n",
       "273  Chile  Completamente vacunado  2021-10-29       39942.0       13111.0   \n",
       "\n",
       "     25 a 34 años  35 a 44 años  45 a 54 años  55 a 64 años  65 a 74 años  \\\n",
       "269        3427.0        2993.0        1567.0         904.0         449.0   \n",
       "270        3700.0        3155.0        1792.0        1098.0         511.0   \n",
       "271        3256.0        3064.0        1688.0         986.0         526.0   \n",
       "272        3478.0        3179.0        1737.0        1048.0         516.0   \n",
       "273        2116.0        1930.0        1042.0         619.0         334.0   \n",
       "\n",
       "     75 años o más  \n",
       "269          247.0  \n",
       "270          277.0  \n",
       "271          282.0  \n",
       "272          282.0  \n",
       "273          180.0  "
      ]
     },
     "execution_count": 306,
     "metadata": {},
     "output_type": "execute_result"
    }
   ],
   "source": [
    "fully_vaccinated_per_age.tail()"
   ]
  },
  {
   "cell_type": "markdown",
   "metadata": {},
   "source": [
    "<a id = 'Sección12.1.5'></a>"
   ]
  },
  {
   "cell_type": "markdown",
   "metadata": {},
   "source": [
    "#### 12.1.5. Consolidado de vacunaciones diarias por rango etario"
   ]
  },
  {
   "cell_type": "code",
   "execution_count": 307,
   "metadata": {},
   "outputs": [],
   "source": [
    "vaccination_per_age_CH = pd.DataFrame()"
   ]
  },
  {
   "cell_type": "code",
   "execution_count": 308,
   "metadata": {},
   "outputs": [],
   "source": [
    "vaccination_per_age_s_CH.reset_index(inplace=True)"
   ]
  },
  {
   "cell_type": "code",
   "execution_count": 309,
   "metadata": {},
   "outputs": [],
   "source": [
    "vaccination_per_age_sd_CH.reset_index(inplace=True)"
   ]
  },
  {
   "cell_type": "code",
   "execution_count": 310,
   "metadata": {},
   "outputs": [],
   "source": [
    "# Para calcular la cantidad total de personas vacunadas completamente, fue necesario establecer como índice la columna 'Fecha'\n",
    "# en los dataframes 'vaccination_per_age_s_CH' y 'vaccination_per_age_sd_CH', por lo que ahora es necesario reiniciar sus índices.\n",
    "\n",
    "vaccination_per_age_CH = pd.concat ([vaccination_per_age_s_CH, vaccination_per_age_fd_CH, vaccination_per_age_sd_CH, \n",
    "                                     fully_vaccinated_per_age])"
   ]
  },
  {
   "cell_type": "code",
   "execution_count": 311,
   "metadata": {},
   "outputs": [
    {
     "data": {
      "text/html": [
       "<div>\n",
       "<style scoped>\n",
       "    .dataframe tbody tr th:only-of-type {\n",
       "        vertical-align: middle;\n",
       "    }\n",
       "\n",
       "    .dataframe tbody tr th {\n",
       "        vertical-align: top;\n",
       "    }\n",
       "\n",
       "    .dataframe thead th {\n",
       "        text-align: right;\n",
       "    }\n",
       "</style>\n",
       "<table border=\"1\" class=\"dataframe\">\n",
       "  <thead>\n",
       "    <tr style=\"text-align: right;\">\n",
       "      <th></th>\n",
       "      <th>Fecha</th>\n",
       "      <th>País</th>\n",
       "      <th>Vacunación</th>\n",
       "      <th>12 a 17 años</th>\n",
       "      <th>18 a 24 años</th>\n",
       "      <th>25 a 34 años</th>\n",
       "      <th>35 a 44 años</th>\n",
       "      <th>45 a 54 años</th>\n",
       "      <th>55 a 64 años</th>\n",
       "      <th>65 a 74 años</th>\n",
       "      <th>75 años o más</th>\n",
       "    </tr>\n",
       "  </thead>\n",
       "  <tbody>\n",
       "    <tr>\n",
       "      <th>0</th>\n",
       "      <td>2021-05-31</td>\n",
       "      <td>Chile</td>\n",
       "      <td>Dosis única</td>\n",
       "      <td>0.0</td>\n",
       "      <td>0.0</td>\n",
       "      <td>29.0</td>\n",
       "      <td>27.0</td>\n",
       "      <td>12.0</td>\n",
       "      <td>5.0</td>\n",
       "      <td>1.0</td>\n",
       "      <td>0.0</td>\n",
       "    </tr>\n",
       "    <tr>\n",
       "      <th>1</th>\n",
       "      <td>2021-06-01</td>\n",
       "      <td>Chile</td>\n",
       "      <td>Dosis única</td>\n",
       "      <td>0.0</td>\n",
       "      <td>20.0</td>\n",
       "      <td>5633.0</td>\n",
       "      <td>2379.0</td>\n",
       "      <td>1422.0</td>\n",
       "      <td>795.0</td>\n",
       "      <td>125.0</td>\n",
       "      <td>13.0</td>\n",
       "    </tr>\n",
       "    <tr>\n",
       "      <th>2</th>\n",
       "      <td>2021-06-02</td>\n",
       "      <td>Chile</td>\n",
       "      <td>Dosis única</td>\n",
       "      <td>0.0</td>\n",
       "      <td>95.0</td>\n",
       "      <td>14148.0</td>\n",
       "      <td>4638.0</td>\n",
       "      <td>2633.0</td>\n",
       "      <td>1593.0</td>\n",
       "      <td>208.0</td>\n",
       "      <td>8.0</td>\n",
       "    </tr>\n",
       "    <tr>\n",
       "      <th>3</th>\n",
       "      <td>2021-06-03</td>\n",
       "      <td>Chile</td>\n",
       "      <td>Dosis única</td>\n",
       "      <td>0.0</td>\n",
       "      <td>190.0</td>\n",
       "      <td>21347.0</td>\n",
       "      <td>9701.0</td>\n",
       "      <td>5184.0</td>\n",
       "      <td>2799.0</td>\n",
       "      <td>381.0</td>\n",
       "      <td>20.0</td>\n",
       "    </tr>\n",
       "    <tr>\n",
       "      <th>4</th>\n",
       "      <td>2021-06-04</td>\n",
       "      <td>Chile</td>\n",
       "      <td>Dosis única</td>\n",
       "      <td>0.0</td>\n",
       "      <td>135.0</td>\n",
       "      <td>17281.0</td>\n",
       "      <td>9018.0</td>\n",
       "      <td>4953.0</td>\n",
       "      <td>2663.0</td>\n",
       "      <td>310.0</td>\n",
       "      <td>10.0</td>\n",
       "    </tr>\n",
       "    <tr>\n",
       "      <th>...</th>\n",
       "      <td>...</td>\n",
       "      <td>...</td>\n",
       "      <td>...</td>\n",
       "      <td>...</td>\n",
       "      <td>...</td>\n",
       "      <td>...</td>\n",
       "      <td>...</td>\n",
       "      <td>...</td>\n",
       "      <td>...</td>\n",
       "      <td>...</td>\n",
       "      <td>...</td>\n",
       "    </tr>\n",
       "    <tr>\n",
       "      <th>269</th>\n",
       "      <td>2021-10-25</td>\n",
       "      <td>Chile</td>\n",
       "      <td>Completamente vacunado</td>\n",
       "      <td>40507.0</td>\n",
       "      <td>28574.0</td>\n",
       "      <td>3427.0</td>\n",
       "      <td>2993.0</td>\n",
       "      <td>1567.0</td>\n",
       "      <td>904.0</td>\n",
       "      <td>449.0</td>\n",
       "      <td>247.0</td>\n",
       "    </tr>\n",
       "    <tr>\n",
       "      <th>270</th>\n",
       "      <td>2021-10-26</td>\n",
       "      <td>Chile</td>\n",
       "      <td>Completamente vacunado</td>\n",
       "      <td>58045.0</td>\n",
       "      <td>25294.0</td>\n",
       "      <td>3700.0</td>\n",
       "      <td>3155.0</td>\n",
       "      <td>1792.0</td>\n",
       "      <td>1098.0</td>\n",
       "      <td>511.0</td>\n",
       "      <td>277.0</td>\n",
       "    </tr>\n",
       "    <tr>\n",
       "      <th>271</th>\n",
       "      <td>2021-10-27</td>\n",
       "      <td>Chile</td>\n",
       "      <td>Completamente vacunado</td>\n",
       "      <td>67607.0</td>\n",
       "      <td>23741.0</td>\n",
       "      <td>3256.0</td>\n",
       "      <td>3064.0</td>\n",
       "      <td>1688.0</td>\n",
       "      <td>986.0</td>\n",
       "      <td>526.0</td>\n",
       "      <td>282.0</td>\n",
       "    </tr>\n",
       "    <tr>\n",
       "      <th>272</th>\n",
       "      <td>2021-10-28</td>\n",
       "      <td>Chile</td>\n",
       "      <td>Completamente vacunado</td>\n",
       "      <td>67691.0</td>\n",
       "      <td>22216.0</td>\n",
       "      <td>3478.0</td>\n",
       "      <td>3179.0</td>\n",
       "      <td>1737.0</td>\n",
       "      <td>1048.0</td>\n",
       "      <td>516.0</td>\n",
       "      <td>282.0</td>\n",
       "    </tr>\n",
       "    <tr>\n",
       "      <th>273</th>\n",
       "      <td>2021-10-29</td>\n",
       "      <td>Chile</td>\n",
       "      <td>Completamente vacunado</td>\n",
       "      <td>39942.0</td>\n",
       "      <td>13111.0</td>\n",
       "      <td>2116.0</td>\n",
       "      <td>1930.0</td>\n",
       "      <td>1042.0</td>\n",
       "      <td>619.0</td>\n",
       "      <td>334.0</td>\n",
       "      <td>180.0</td>\n",
       "    </tr>\n",
       "  </tbody>\n",
       "</table>\n",
       "<p>986 rows × 11 columns</p>\n",
       "</div>"
      ],
      "text/plain": [
       "          Fecha   País              Vacunación  12 a 17 años  18 a 24 años  \\\n",
       "0    2021-05-31  Chile             Dosis única           0.0           0.0   \n",
       "1    2021-06-01  Chile             Dosis única           0.0          20.0   \n",
       "2    2021-06-02  Chile             Dosis única           0.0          95.0   \n",
       "3    2021-06-03  Chile             Dosis única           0.0         190.0   \n",
       "4    2021-06-04  Chile             Dosis única           0.0         135.0   \n",
       "..          ...    ...                     ...           ...           ...   \n",
       "269  2021-10-25  Chile  Completamente vacunado       40507.0       28574.0   \n",
       "270  2021-10-26  Chile  Completamente vacunado       58045.0       25294.0   \n",
       "271  2021-10-27  Chile  Completamente vacunado       67607.0       23741.0   \n",
       "272  2021-10-28  Chile  Completamente vacunado       67691.0       22216.0   \n",
       "273  2021-10-29  Chile  Completamente vacunado       39942.0       13111.0   \n",
       "\n",
       "     25 a 34 años  35 a 44 años  45 a 54 años  55 a 64 años  65 a 74 años  \\\n",
       "0            29.0          27.0          12.0           5.0           1.0   \n",
       "1          5633.0        2379.0        1422.0         795.0         125.0   \n",
       "2         14148.0        4638.0        2633.0        1593.0         208.0   \n",
       "3         21347.0        9701.0        5184.0        2799.0         381.0   \n",
       "4         17281.0        9018.0        4953.0        2663.0         310.0   \n",
       "..            ...           ...           ...           ...           ...   \n",
       "269        3427.0        2993.0        1567.0         904.0         449.0   \n",
       "270        3700.0        3155.0        1792.0        1098.0         511.0   \n",
       "271        3256.0        3064.0        1688.0         986.0         526.0   \n",
       "272        3478.0        3179.0        1737.0        1048.0         516.0   \n",
       "273        2116.0        1930.0        1042.0         619.0         334.0   \n",
       "\n",
       "     75 años o más  \n",
       "0              0.0  \n",
       "1             13.0  \n",
       "2              8.0  \n",
       "3             20.0  \n",
       "4             10.0  \n",
       "..             ...  \n",
       "269          247.0  \n",
       "270          277.0  \n",
       "271          282.0  \n",
       "272          282.0  \n",
       "273          180.0  \n",
       "\n",
       "[986 rows x 11 columns]"
      ]
     },
     "execution_count": 311,
     "metadata": {},
     "output_type": "execute_result"
    }
   ],
   "source": [
    "vaccination_per_age_CH"
   ]
  },
  {
   "cell_type": "markdown",
   "metadata": {},
   "source": [
    "<a id = 'Sección12.1.6'></a>"
   ]
  },
  {
   "cell_type": "markdown",
   "metadata": {},
   "source": [
    "#### 12.1.6. Consolidado del acumulado de vacunaciones por rango etario"
   ]
  },
  {
   "cell_type": "code",
   "execution_count": 312,
   "metadata": {},
   "outputs": [],
   "source": [
    "cum_vacc_per_age_CH = vaccination_per_age_CH.loc [:,['Vacunación','12 a 17 años', '18 a 24 años',\n",
    "       '25 a 34 años', '35 a 44 años', '45 a 54 años', '55 a 64 años',\n",
    "       '65 a 74 años', '75 años o más']].groupby(['Vacunación']).cumsum(axis = 0)"
   ]
  },
  {
   "cell_type": "code",
   "execution_count": 313,
   "metadata": {},
   "outputs": [],
   "source": [
    "cum_vacc_per_age_CH = pd.concat ([vaccination_per_age_CH.loc [:,['País','Vacunación','Fecha']], cum_vacc_per_age_CH], axis = 1)"
   ]
  },
  {
   "cell_type": "code",
   "execution_count": 314,
   "metadata": {},
   "outputs": [],
   "source": [
    "cum_vacc_per_age_CH.reset_index(drop = True, inplace=True)"
   ]
  },
  {
   "cell_type": "code",
   "execution_count": 315,
   "metadata": {
    "scrolled": false
   },
   "outputs": [
    {
     "data": {
      "text/html": [
       "<div>\n",
       "<style scoped>\n",
       "    .dataframe tbody tr th:only-of-type {\n",
       "        vertical-align: middle;\n",
       "    }\n",
       "\n",
       "    .dataframe tbody tr th {\n",
       "        vertical-align: top;\n",
       "    }\n",
       "\n",
       "    .dataframe thead th {\n",
       "        text-align: right;\n",
       "    }\n",
       "</style>\n",
       "<table border=\"1\" class=\"dataframe\">\n",
       "  <thead>\n",
       "    <tr style=\"text-align: right;\">\n",
       "      <th></th>\n",
       "      <th>País</th>\n",
       "      <th>Vacunación</th>\n",
       "      <th>Fecha</th>\n",
       "      <th>12 a 17 años</th>\n",
       "      <th>18 a 24 años</th>\n",
       "      <th>25 a 34 años</th>\n",
       "      <th>35 a 44 años</th>\n",
       "      <th>45 a 54 años</th>\n",
       "      <th>55 a 64 años</th>\n",
       "      <th>65 a 74 años</th>\n",
       "      <th>75 años o más</th>\n",
       "    </tr>\n",
       "  </thead>\n",
       "  <tbody>\n",
       "    <tr>\n",
       "      <th>0</th>\n",
       "      <td>Chile</td>\n",
       "      <td>Dosis única</td>\n",
       "      <td>2021-05-31</td>\n",
       "      <td>0.0</td>\n",
       "      <td>0.0</td>\n",
       "      <td>29.0</td>\n",
       "      <td>27.0</td>\n",
       "      <td>12.0</td>\n",
       "      <td>5.0</td>\n",
       "      <td>1.0</td>\n",
       "      <td>0.0</td>\n",
       "    </tr>\n",
       "    <tr>\n",
       "      <th>1</th>\n",
       "      <td>Chile</td>\n",
       "      <td>Dosis única</td>\n",
       "      <td>2021-06-01</td>\n",
       "      <td>0.0</td>\n",
       "      <td>20.0</td>\n",
       "      <td>5662.0</td>\n",
       "      <td>2406.0</td>\n",
       "      <td>1434.0</td>\n",
       "      <td>800.0</td>\n",
       "      <td>126.0</td>\n",
       "      <td>13.0</td>\n",
       "    </tr>\n",
       "    <tr>\n",
       "      <th>2</th>\n",
       "      <td>Chile</td>\n",
       "      <td>Dosis única</td>\n",
       "      <td>2021-06-02</td>\n",
       "      <td>0.0</td>\n",
       "      <td>115.0</td>\n",
       "      <td>19810.0</td>\n",
       "      <td>7044.0</td>\n",
       "      <td>4067.0</td>\n",
       "      <td>2393.0</td>\n",
       "      <td>334.0</td>\n",
       "      <td>21.0</td>\n",
       "    </tr>\n",
       "    <tr>\n",
       "      <th>3</th>\n",
       "      <td>Chile</td>\n",
       "      <td>Dosis única</td>\n",
       "      <td>2021-06-03</td>\n",
       "      <td>0.0</td>\n",
       "      <td>305.0</td>\n",
       "      <td>41157.0</td>\n",
       "      <td>16745.0</td>\n",
       "      <td>9251.0</td>\n",
       "      <td>5192.0</td>\n",
       "      <td>715.0</td>\n",
       "      <td>41.0</td>\n",
       "    </tr>\n",
       "    <tr>\n",
       "      <th>4</th>\n",
       "      <td>Chile</td>\n",
       "      <td>Dosis única</td>\n",
       "      <td>2021-06-04</td>\n",
       "      <td>0.0</td>\n",
       "      <td>440.0</td>\n",
       "      <td>58438.0</td>\n",
       "      <td>25763.0</td>\n",
       "      <td>14204.0</td>\n",
       "      <td>7855.0</td>\n",
       "      <td>1025.0</td>\n",
       "      <td>51.0</td>\n",
       "    </tr>\n",
       "    <tr>\n",
       "      <th>...</th>\n",
       "      <td>...</td>\n",
       "      <td>...</td>\n",
       "      <td>...</td>\n",
       "      <td>...</td>\n",
       "      <td>...</td>\n",
       "      <td>...</td>\n",
       "      <td>...</td>\n",
       "      <td>...</td>\n",
       "      <td>...</td>\n",
       "      <td>...</td>\n",
       "      <td>...</td>\n",
       "    </tr>\n",
       "    <tr>\n",
       "      <th>981</th>\n",
       "      <td>Chile</td>\n",
       "      <td>Completamente vacunado</td>\n",
       "      <td>2021-10-25</td>\n",
       "      <td>68395.0</td>\n",
       "      <td>1283476.0</td>\n",
       "      <td>2566231.0</td>\n",
       "      <td>2759615.0</td>\n",
       "      <td>2369947.0</td>\n",
       "      <td>2284938.0</td>\n",
       "      <td>1802389.0</td>\n",
       "      <td>1600326.0</td>\n",
       "    </tr>\n",
       "    <tr>\n",
       "      <th>982</th>\n",
       "      <td>Chile</td>\n",
       "      <td>Completamente vacunado</td>\n",
       "      <td>2021-10-26</td>\n",
       "      <td>126440.0</td>\n",
       "      <td>1308770.0</td>\n",
       "      <td>2569931.0</td>\n",
       "      <td>2762770.0</td>\n",
       "      <td>2371739.0</td>\n",
       "      <td>2286036.0</td>\n",
       "      <td>1802900.0</td>\n",
       "      <td>1600603.0</td>\n",
       "    </tr>\n",
       "    <tr>\n",
       "      <th>983</th>\n",
       "      <td>Chile</td>\n",
       "      <td>Completamente vacunado</td>\n",
       "      <td>2021-10-27</td>\n",
       "      <td>194047.0</td>\n",
       "      <td>1332511.0</td>\n",
       "      <td>2573187.0</td>\n",
       "      <td>2765834.0</td>\n",
       "      <td>2373427.0</td>\n",
       "      <td>2287022.0</td>\n",
       "      <td>1803426.0</td>\n",
       "      <td>1600885.0</td>\n",
       "    </tr>\n",
       "    <tr>\n",
       "      <th>984</th>\n",
       "      <td>Chile</td>\n",
       "      <td>Completamente vacunado</td>\n",
       "      <td>2021-10-28</td>\n",
       "      <td>261738.0</td>\n",
       "      <td>1354727.0</td>\n",
       "      <td>2576665.0</td>\n",
       "      <td>2769013.0</td>\n",
       "      <td>2375164.0</td>\n",
       "      <td>2288070.0</td>\n",
       "      <td>1803942.0</td>\n",
       "      <td>1601167.0</td>\n",
       "    </tr>\n",
       "    <tr>\n",
       "      <th>985</th>\n",
       "      <td>Chile</td>\n",
       "      <td>Completamente vacunado</td>\n",
       "      <td>2021-10-29</td>\n",
       "      <td>301680.0</td>\n",
       "      <td>1367838.0</td>\n",
       "      <td>2578781.0</td>\n",
       "      <td>2770943.0</td>\n",
       "      <td>2376206.0</td>\n",
       "      <td>2288689.0</td>\n",
       "      <td>1804276.0</td>\n",
       "      <td>1601347.0</td>\n",
       "    </tr>\n",
       "  </tbody>\n",
       "</table>\n",
       "<p>986 rows × 11 columns</p>\n",
       "</div>"
      ],
      "text/plain": [
       "      País              Vacunación       Fecha  12 a 17 años  18 a 24 años  \\\n",
       "0    Chile             Dosis única  2021-05-31           0.0           0.0   \n",
       "1    Chile             Dosis única  2021-06-01           0.0          20.0   \n",
       "2    Chile             Dosis única  2021-06-02           0.0         115.0   \n",
       "3    Chile             Dosis única  2021-06-03           0.0         305.0   \n",
       "4    Chile             Dosis única  2021-06-04           0.0         440.0   \n",
       "..     ...                     ...         ...           ...           ...   \n",
       "981  Chile  Completamente vacunado  2021-10-25       68395.0     1283476.0   \n",
       "982  Chile  Completamente vacunado  2021-10-26      126440.0     1308770.0   \n",
       "983  Chile  Completamente vacunado  2021-10-27      194047.0     1332511.0   \n",
       "984  Chile  Completamente vacunado  2021-10-28      261738.0     1354727.0   \n",
       "985  Chile  Completamente vacunado  2021-10-29      301680.0     1367838.0   \n",
       "\n",
       "     25 a 34 años  35 a 44 años  45 a 54 años  55 a 64 años  65 a 74 años  \\\n",
       "0            29.0          27.0          12.0           5.0           1.0   \n",
       "1          5662.0        2406.0        1434.0         800.0         126.0   \n",
       "2         19810.0        7044.0        4067.0        2393.0         334.0   \n",
       "3         41157.0       16745.0        9251.0        5192.0         715.0   \n",
       "4         58438.0       25763.0       14204.0        7855.0        1025.0   \n",
       "..            ...           ...           ...           ...           ...   \n",
       "981     2566231.0     2759615.0     2369947.0     2284938.0     1802389.0   \n",
       "982     2569931.0     2762770.0     2371739.0     2286036.0     1802900.0   \n",
       "983     2573187.0     2765834.0     2373427.0     2287022.0     1803426.0   \n",
       "984     2576665.0     2769013.0     2375164.0     2288070.0     1803942.0   \n",
       "985     2578781.0     2770943.0     2376206.0     2288689.0     1804276.0   \n",
       "\n",
       "     75 años o más  \n",
       "0              0.0  \n",
       "1             13.0  \n",
       "2             21.0  \n",
       "3             41.0  \n",
       "4             51.0  \n",
       "..             ...  \n",
       "981      1600326.0  \n",
       "982      1600603.0  \n",
       "983      1600885.0  \n",
       "984      1601167.0  \n",
       "985      1601347.0  \n",
       "\n",
       "[986 rows x 11 columns]"
      ]
     },
     "execution_count": 315,
     "metadata": {},
     "output_type": "execute_result"
    }
   ],
   "source": [
    "cum_vacc_per_age_CH"
   ]
  },
  {
   "cell_type": "markdown",
   "metadata": {},
   "source": [
    "<a id = 'Sección12.1.7'></a>"
   ]
  },
  {
   "cell_type": "markdown",
   "metadata": {},
   "source": [
    "#### 12.1.7. Cobertura de la población por rango etario"
   ]
  },
  {
   "cell_type": "code",
   "execution_count": 316,
   "metadata": {},
   "outputs": [],
   "source": [
    "pop_coverage_CH = cum_vacc_per_age_CH.loc[:,['País','Vacunación','Fecha']]"
   ]
  },
  {
   "cell_type": "code",
   "execution_count": 317,
   "metadata": {},
   "outputs": [],
   "source": [
    "pop_coverage_CH ['12 a 17 años'] = cum_vacc_per_age_CH ['12 a 17 años']*100/pop_per_age_CH['Población'][0]"
   ]
  },
  {
   "cell_type": "code",
   "execution_count": 318,
   "metadata": {},
   "outputs": [],
   "source": [
    "pop_coverage_CH ['18 a 24 años'] = cum_vacc_per_age_CH ['18 a 24 años']*100/pop_per_age_CH['Población'][1]"
   ]
  },
  {
   "cell_type": "code",
   "execution_count": 319,
   "metadata": {},
   "outputs": [],
   "source": [
    "pop_coverage_CH ['25 a 34 años'] = cum_vacc_per_age_CH ['25 a 34 años']*100/pop_per_age_CH['Población'][2]"
   ]
  },
  {
   "cell_type": "code",
   "execution_count": 320,
   "metadata": {},
   "outputs": [],
   "source": [
    "pop_coverage_CH ['35 a 44 años'] = cum_vacc_per_age_CH ['35 a 44 años']*100/pop_per_age_CH['Población'][3]"
   ]
  },
  {
   "cell_type": "code",
   "execution_count": 321,
   "metadata": {},
   "outputs": [],
   "source": [
    "pop_coverage_CH ['45 a 54 años'] = cum_vacc_per_age_CH ['45 a 54 años']*100/pop_per_age_CH['Población'][4]"
   ]
  },
  {
   "cell_type": "code",
   "execution_count": 322,
   "metadata": {},
   "outputs": [],
   "source": [
    "pop_coverage_CH ['55 a 64 años'] = cum_vacc_per_age_CH ['55 a 64 años']*100/pop_per_age_CH['Población'][5]"
   ]
  },
  {
   "cell_type": "code",
   "execution_count": 323,
   "metadata": {},
   "outputs": [],
   "source": [
    "pop_coverage_CH ['65 a 74 años'] = cum_vacc_per_age_CH ['65 a 74 años']*100/pop_per_age_CH['Población'][6]"
   ]
  },
  {
   "cell_type": "code",
   "execution_count": 324,
   "metadata": {},
   "outputs": [],
   "source": [
    "pop_coverage_CH ['75 años o más'] = cum_vacc_per_age_CH ['75 años o más']*100/pop_per_age_CH['Población'][7]"
   ]
  },
  {
   "cell_type": "code",
   "execution_count": 325,
   "metadata": {},
   "outputs": [
    {
     "data": {
      "text/html": [
       "<div>\n",
       "<style scoped>\n",
       "    .dataframe tbody tr th:only-of-type {\n",
       "        vertical-align: middle;\n",
       "    }\n",
       "\n",
       "    .dataframe tbody tr th {\n",
       "        vertical-align: top;\n",
       "    }\n",
       "\n",
       "    .dataframe thead th {\n",
       "        text-align: right;\n",
       "    }\n",
       "</style>\n",
       "<table border=\"1\" class=\"dataframe\">\n",
       "  <thead>\n",
       "    <tr style=\"text-align: right;\">\n",
       "      <th></th>\n",
       "      <th>País</th>\n",
       "      <th>Vacunación</th>\n",
       "      <th>Fecha</th>\n",
       "      <th>12 a 17 años</th>\n",
       "      <th>18 a 24 años</th>\n",
       "      <th>25 a 34 años</th>\n",
       "      <th>35 a 44 años</th>\n",
       "      <th>45 a 54 años</th>\n",
       "      <th>55 a 64 años</th>\n",
       "      <th>65 a 74 años</th>\n",
       "      <th>75 años o más</th>\n",
       "    </tr>\n",
       "  </thead>\n",
       "  <tbody>\n",
       "    <tr>\n",
       "      <th>0</th>\n",
       "      <td>Chile</td>\n",
       "      <td>Dosis única</td>\n",
       "      <td>2021-05-31</td>\n",
       "      <td>0.000000</td>\n",
       "      <td>0.000000</td>\n",
       "      <td>0.000894</td>\n",
       "      <td>0.000970</td>\n",
       "      <td>0.000481</td>\n",
       "      <td>0.000234</td>\n",
       "      <td>0.000072</td>\n",
       "      <td>0.000000</td>\n",
       "    </tr>\n",
       "    <tr>\n",
       "      <th>1</th>\n",
       "      <td>Chile</td>\n",
       "      <td>Dosis única</td>\n",
       "      <td>2021-06-01</td>\n",
       "      <td>0.000000</td>\n",
       "      <td>0.001018</td>\n",
       "      <td>0.174465</td>\n",
       "      <td>0.086477</td>\n",
       "      <td>0.057453</td>\n",
       "      <td>0.037473</td>\n",
       "      <td>0.009013</td>\n",
       "      <td>0.001353</td>\n",
       "    </tr>\n",
       "    <tr>\n",
       "      <th>2</th>\n",
       "      <td>Chile</td>\n",
       "      <td>Dosis única</td>\n",
       "      <td>2021-06-02</td>\n",
       "      <td>0.000000</td>\n",
       "      <td>0.005851</td>\n",
       "      <td>0.610410</td>\n",
       "      <td>0.253177</td>\n",
       "      <td>0.162945</td>\n",
       "      <td>0.112091</td>\n",
       "      <td>0.023891</td>\n",
       "      <td>0.002186</td>\n",
       "    </tr>\n",
       "    <tr>\n",
       "      <th>3</th>\n",
       "      <td>Chile</td>\n",
       "      <td>Dosis única</td>\n",
       "      <td>2021-06-03</td>\n",
       "      <td>0.000000</td>\n",
       "      <td>0.015519</td>\n",
       "      <td>1.268181</td>\n",
       "      <td>0.601852</td>\n",
       "      <td>0.370642</td>\n",
       "      <td>0.243200</td>\n",
       "      <td>0.051145</td>\n",
       "      <td>0.004268</td>\n",
       "    </tr>\n",
       "    <tr>\n",
       "      <th>4</th>\n",
       "      <td>Chile</td>\n",
       "      <td>Dosis única</td>\n",
       "      <td>2021-06-04</td>\n",
       "      <td>0.000000</td>\n",
       "      <td>0.022388</td>\n",
       "      <td>1.800664</td>\n",
       "      <td>0.925978</td>\n",
       "      <td>0.569085</td>\n",
       "      <td>0.367938</td>\n",
       "      <td>0.073319</td>\n",
       "      <td>0.005309</td>\n",
       "    </tr>\n",
       "    <tr>\n",
       "      <th>...</th>\n",
       "      <td>...</td>\n",
       "      <td>...</td>\n",
       "      <td>...</td>\n",
       "      <td>...</td>\n",
       "      <td>...</td>\n",
       "      <td>...</td>\n",
       "      <td>...</td>\n",
       "      <td>...</td>\n",
       "      <td>...</td>\n",
       "      <td>...</td>\n",
       "      <td>...</td>\n",
       "    </tr>\n",
       "    <tr>\n",
       "      <th>981</th>\n",
       "      <td>Chile</td>\n",
       "      <td>Completamente vacunado</td>\n",
       "      <td>2021-10-25</td>\n",
       "      <td>4.619339</td>\n",
       "      <td>65.306409</td>\n",
       "      <td>79.073896</td>\n",
       "      <td>99.186557</td>\n",
       "      <td>94.952158</td>\n",
       "      <td>107.029374</td>\n",
       "      <td>128.926528</td>\n",
       "      <td>166.593207</td>\n",
       "    </tr>\n",
       "    <tr>\n",
       "      <th>982</th>\n",
       "      <td>Chile</td>\n",
       "      <td>Completamente vacunado</td>\n",
       "      <td>2021-10-26</td>\n",
       "      <td>8.539649</td>\n",
       "      <td>66.593430</td>\n",
       "      <td>79.187905</td>\n",
       "      <td>99.299954</td>\n",
       "      <td>95.023955</td>\n",
       "      <td>107.080806</td>\n",
       "      <td>128.963081</td>\n",
       "      <td>166.622043</td>\n",
       "    </tr>\n",
       "    <tr>\n",
       "      <th>983</th>\n",
       "      <td>Chile</td>\n",
       "      <td>Completamente vacunado</td>\n",
       "      <td>2021-10-27</td>\n",
       "      <td>13.105767</td>\n",
       "      <td>67.801430</td>\n",
       "      <td>79.288233</td>\n",
       "      <td>99.410081</td>\n",
       "      <td>95.091585</td>\n",
       "      <td>107.126991</td>\n",
       "      <td>129.000706</td>\n",
       "      <td>166.651399</td>\n",
       "    </tr>\n",
       "    <tr>\n",
       "      <th>984</th>\n",
       "      <td>Chile</td>\n",
       "      <td>Completamente vacunado</td>\n",
       "      <td>2021-10-28</td>\n",
       "      <td>17.677559</td>\n",
       "      <td>68.931835</td>\n",
       "      <td>79.395401</td>\n",
       "      <td>99.524341</td>\n",
       "      <td>95.161178</td>\n",
       "      <td>107.176081</td>\n",
       "      <td>129.037616</td>\n",
       "      <td>166.680755</td>\n",
       "    </tr>\n",
       "    <tr>\n",
       "      <th>985</th>\n",
       "      <td>Chile</td>\n",
       "      <td>Completamente vacunado</td>\n",
       "      <td>2021-10-29</td>\n",
       "      <td>20.375207</td>\n",
       "      <td>69.598955</td>\n",
       "      <td>79.460602</td>\n",
       "      <td>99.593710</td>\n",
       "      <td>95.202926</td>\n",
       "      <td>107.205076</td>\n",
       "      <td>129.061507</td>\n",
       "      <td>166.699493</td>\n",
       "    </tr>\n",
       "  </tbody>\n",
       "</table>\n",
       "<p>986 rows × 11 columns</p>\n",
       "</div>"
      ],
      "text/plain": [
       "      País              Vacunación       Fecha  12 a 17 años  18 a 24 años  \\\n",
       "0    Chile             Dosis única  2021-05-31      0.000000      0.000000   \n",
       "1    Chile             Dosis única  2021-06-01      0.000000      0.001018   \n",
       "2    Chile             Dosis única  2021-06-02      0.000000      0.005851   \n",
       "3    Chile             Dosis única  2021-06-03      0.000000      0.015519   \n",
       "4    Chile             Dosis única  2021-06-04      0.000000      0.022388   \n",
       "..     ...                     ...         ...           ...           ...   \n",
       "981  Chile  Completamente vacunado  2021-10-25      4.619339     65.306409   \n",
       "982  Chile  Completamente vacunado  2021-10-26      8.539649     66.593430   \n",
       "983  Chile  Completamente vacunado  2021-10-27     13.105767     67.801430   \n",
       "984  Chile  Completamente vacunado  2021-10-28     17.677559     68.931835   \n",
       "985  Chile  Completamente vacunado  2021-10-29     20.375207     69.598955   \n",
       "\n",
       "     25 a 34 años  35 a 44 años  45 a 54 años  55 a 64 años  65 a 74 años  \\\n",
       "0        0.000894      0.000970      0.000481      0.000234      0.000072   \n",
       "1        0.174465      0.086477      0.057453      0.037473      0.009013   \n",
       "2        0.610410      0.253177      0.162945      0.112091      0.023891   \n",
       "3        1.268181      0.601852      0.370642      0.243200      0.051145   \n",
       "4        1.800664      0.925978      0.569085      0.367938      0.073319   \n",
       "..            ...           ...           ...           ...           ...   \n",
       "981     79.073896     99.186557     94.952158    107.029374    128.926528   \n",
       "982     79.187905     99.299954     95.023955    107.080806    128.963081   \n",
       "983     79.288233     99.410081     95.091585    107.126991    129.000706   \n",
       "984     79.395401     99.524341     95.161178    107.176081    129.037616   \n",
       "985     79.460602     99.593710     95.202926    107.205076    129.061507   \n",
       "\n",
       "     75 años o más  \n",
       "0         0.000000  \n",
       "1         0.001353  \n",
       "2         0.002186  \n",
       "3         0.004268  \n",
       "4         0.005309  \n",
       "..             ...  \n",
       "981     166.593207  \n",
       "982     166.622043  \n",
       "983     166.651399  \n",
       "984     166.680755  \n",
       "985     166.699493  \n",
       "\n",
       "[986 rows x 11 columns]"
      ]
     },
     "execution_count": 325,
     "metadata": {},
     "output_type": "execute_result"
    }
   ],
   "source": [
    "pop_coverage_CH"
   ]
  },
  {
   "cell_type": "markdown",
   "metadata": {},
   "source": [
    "<a id = 'Sección12.2'></a>"
   ]
  },
  {
   "cell_type": "markdown",
   "metadata": {},
   "source": [
    "### 12.2. Vacunaciones por rango etario en Uruguay"
   ]
  },
  {
   "cell_type": "markdown",
   "metadata": {},
   "source": [
    "La información más reciente en relación a las vacunaciones realizadas por rango etario en Uruguay se encuentran en el \"Informe de dosis administradas y registradas del 27 de febrero al 9 de julio 2021 - COVID-19\", el cual se encuentra disponible en el sitio web del [Ministerio de Salud Pública](https://www.gub.uy/ministerio-salud-publica/comunicacion/noticias/informe-dosis-administradas-registradas-del-27-febrero-9-julio-2021-covid-19). En dicho informe se presenta el total de primeras y segundas dosis administradas, y la cobertura de la población por rango etario al 9 de julio de 2021."
   ]
  },
  {
   "cell_type": "markdown",
   "metadata": {},
   "source": [
    "<a id = 'Sección12.2.1'></a>"
   ]
  },
  {
   "cell_type": "markdown",
   "metadata": {},
   "source": [
    "#### 12.2.1. Total vacunaciones realizadas al 9 de julio por rango etario"
   ]
  },
  {
   "cell_type": "code",
   "execution_count": 326,
   "metadata": {},
   "outputs": [],
   "source": [
    "total_vacc_per_age_UY = pd.DataFrame (columns = ['Vacunación','12 a 17 años', '18 a 24 años','25 a 34 años', '35 a 44 años', '45 a 54 años', \n",
    "                                        '55 a 64 años','65 a 74 años', '75 años o más'] )"
   ]
  },
  {
   "cell_type": "code",
   "execution_count": 327,
   "metadata": {},
   "outputs": [],
   "source": [
    "total_vacc_per_age_UY.loc [0] = ['Primera dosis',163663,244422,383951,388908,363031,342184,254899,211819]"
   ]
  },
  {
   "cell_type": "code",
   "execution_count": 328,
   "metadata": {},
   "outputs": [],
   "source": [
    "total_vacc_per_age_UY.loc [1] = ['Vacunados completamente',19488,157261,322633,352072,338782,324446,223923,179706]"
   ]
  },
  {
   "cell_type": "code",
   "execution_count": 329,
   "metadata": {},
   "outputs": [
    {
     "data": {
      "text/html": [
       "<div>\n",
       "<style scoped>\n",
       "    .dataframe tbody tr th:only-of-type {\n",
       "        vertical-align: middle;\n",
       "    }\n",
       "\n",
       "    .dataframe tbody tr th {\n",
       "        vertical-align: top;\n",
       "    }\n",
       "\n",
       "    .dataframe thead th {\n",
       "        text-align: right;\n",
       "    }\n",
       "</style>\n",
       "<table border=\"1\" class=\"dataframe\">\n",
       "  <thead>\n",
       "    <tr style=\"text-align: right;\">\n",
       "      <th></th>\n",
       "      <th>Vacunación</th>\n",
       "      <th>12 a 17 años</th>\n",
       "      <th>18 a 24 años</th>\n",
       "      <th>25 a 34 años</th>\n",
       "      <th>35 a 44 años</th>\n",
       "      <th>45 a 54 años</th>\n",
       "      <th>55 a 64 años</th>\n",
       "      <th>65 a 74 años</th>\n",
       "      <th>75 años o más</th>\n",
       "    </tr>\n",
       "  </thead>\n",
       "  <tbody>\n",
       "    <tr>\n",
       "      <th>0</th>\n",
       "      <td>Primera dosis</td>\n",
       "      <td>163663</td>\n",
       "      <td>244422</td>\n",
       "      <td>383951</td>\n",
       "      <td>388908</td>\n",
       "      <td>363031</td>\n",
       "      <td>342184</td>\n",
       "      <td>254899</td>\n",
       "      <td>211819</td>\n",
       "    </tr>\n",
       "    <tr>\n",
       "      <th>1</th>\n",
       "      <td>Vacunados completamente</td>\n",
       "      <td>19488</td>\n",
       "      <td>157261</td>\n",
       "      <td>322633</td>\n",
       "      <td>352072</td>\n",
       "      <td>338782</td>\n",
       "      <td>324446</td>\n",
       "      <td>223923</td>\n",
       "      <td>179706</td>\n",
       "    </tr>\n",
       "  </tbody>\n",
       "</table>\n",
       "</div>"
      ],
      "text/plain": [
       "                Vacunación 12 a 17 años 18 a 24 años 25 a 34 años  \\\n",
       "0            Primera dosis       163663       244422       383951   \n",
       "1  Vacunados completamente        19488       157261       322633   \n",
       "\n",
       "  35 a 44 años 45 a 54 años 55 a 64 años 65 a 74 años 75 años o más  \n",
       "0       388908       363031       342184       254899        211819  \n",
       "1       352072       338782       324446       223923        179706  "
      ]
     },
     "execution_count": 329,
     "metadata": {},
     "output_type": "execute_result"
    }
   ],
   "source": [
    "total_vacc_per_age_UY"
   ]
  },
  {
   "cell_type": "markdown",
   "metadata": {},
   "source": [
    "<a id = 'Sección12.2.2'></a>"
   ]
  },
  {
   "cell_type": "markdown",
   "metadata": {},
   "source": [
    "#### 12.2.2. Cobertura de la población al 9 de julio por rango etario"
   ]
  },
  {
   "cell_type": "code",
   "execution_count": 330,
   "metadata": {},
   "outputs": [],
   "source": [
    "pop_coverage_UY = total_vacc_per_age_UY.copy()"
   ]
  },
  {
   "cell_type": "code",
   "execution_count": 331,
   "metadata": {},
   "outputs": [],
   "source": [
    "columns = ['12 a 17 años', '18 a 24 años', '25 a 34 años','35 a 44 años', '45 a 54 años', '55 a 64 años', '65 a 74 años',\n",
    "           '75 años o más']"
   ]
  },
  {
   "cell_type": "code",
   "execution_count": 332,
   "metadata": {},
   "outputs": [],
   "source": [
    "for indices, row  in pop_coverage_UY.iterrows():\n",
    "    i=0\n",
    "    for column in columns:\n",
    "        pop_coverage_UY.at[indices,column] = row [column]*100/pop_per_age_UY['Población'][i]\n",
    "        i+=1"
   ]
  },
  {
   "cell_type": "code",
   "execution_count": 333,
   "metadata": {},
   "outputs": [
    {
     "data": {
      "text/html": [
       "<div>\n",
       "<style scoped>\n",
       "    .dataframe tbody tr th:only-of-type {\n",
       "        vertical-align: middle;\n",
       "    }\n",
       "\n",
       "    .dataframe tbody tr th {\n",
       "        vertical-align: top;\n",
       "    }\n",
       "\n",
       "    .dataframe thead th {\n",
       "        text-align: right;\n",
       "    }\n",
       "</style>\n",
       "<table border=\"1\" class=\"dataframe\">\n",
       "  <thead>\n",
       "    <tr style=\"text-align: right;\">\n",
       "      <th></th>\n",
       "      <th>Vacunación</th>\n",
       "      <th>12 a 17 años</th>\n",
       "      <th>18 a 24 años</th>\n",
       "      <th>25 a 34 años</th>\n",
       "      <th>35 a 44 años</th>\n",
       "      <th>45 a 54 años</th>\n",
       "      <th>55 a 64 años</th>\n",
       "      <th>65 a 74 años</th>\n",
       "      <th>75 años o más</th>\n",
       "    </tr>\n",
       "  </thead>\n",
       "  <tbody>\n",
       "    <tr>\n",
       "      <th>0</th>\n",
       "      <td>Primera dosis</td>\n",
       "      <td>55.753593</td>\n",
       "      <td>65.639376</td>\n",
       "      <td>75.369781</td>\n",
       "      <td>81.218948</td>\n",
       "      <td>85.351581</td>\n",
       "      <td>88.948734</td>\n",
       "      <td>91.742429</td>\n",
       "      <td>89.213242</td>\n",
       "    </tr>\n",
       "    <tr>\n",
       "      <th>1</th>\n",
       "      <td>Vacunados completamente</td>\n",
       "      <td>6.638801</td>\n",
       "      <td>42.232344</td>\n",
       "      <td>63.333026</td>\n",
       "      <td>73.526175</td>\n",
       "      <td>79.650441</td>\n",
       "      <td>84.337844</td>\n",
       "      <td>80.593647</td>\n",
       "      <td>75.687992</td>\n",
       "    </tr>\n",
       "  </tbody>\n",
       "</table>\n",
       "</div>"
      ],
      "text/plain": [
       "                Vacunación 12 a 17 años 18 a 24 años 25 a 34 años  \\\n",
       "0            Primera dosis    55.753593    65.639376    75.369781   \n",
       "1  Vacunados completamente     6.638801    42.232344    63.333026   \n",
       "\n",
       "  35 a 44 años 45 a 54 años 55 a 64 años 65 a 74 años 75 años o más  \n",
       "0    81.218948    85.351581    88.948734    91.742429     89.213242  \n",
       "1    73.526175    79.650441    84.337844    80.593647     75.687992  "
      ]
     },
     "execution_count": 333,
     "metadata": {},
     "output_type": "execute_result"
    }
   ],
   "source": [
    "pop_coverage_UY"
   ]
  },
  {
   "cell_type": "markdown",
   "metadata": {},
   "source": [
    "<a id = 'Sección13'></a>"
   ]
  },
  {
   "cell_type": "markdown",
   "metadata": {},
   "source": [
    "## 13. Porcentaje de vacunaciones por fabricante"
   ]
  },
  {
   "cell_type": "markdown",
   "metadata": {},
   "source": [
    "<a id = 'Sección13.1'></a>"
   ]
  },
  {
   "cell_type": "markdown",
   "metadata": {},
   "source": [
    "### 13.1. Porcentaje de vacunaciones por fabricante en Chile"
   ]
  },
  {
   "cell_type": "markdown",
   "metadata": {},
   "source": [
    "<a id = 'Sección13.1.1'></a>"
   ]
  },
  {
   "cell_type": "markdown",
   "metadata": {},
   "source": [
    "#### 13.1.1. Vacunaciones completas"
   ]
  },
  {
   "cell_type": "code",
   "execution_count": 334,
   "metadata": {},
   "outputs": [],
   "source": [
    "vacc_by_manufacturer_fully_CH = pd.merge (vaccines_single_dose_CH, vaccines_second_dose_CH)"
   ]
  },
  {
   "cell_type": "code",
   "execution_count": 335,
   "metadata": {},
   "outputs": [],
   "source": [
    "vacc_by_manufacturer_fully_CH.set_index ('Fecha', inplace = True)"
   ]
  },
  {
   "cell_type": "code",
   "execution_count": 336,
   "metadata": {},
   "outputs": [],
   "source": [
    "vacc_by_manufacturer_fully_CH = vacc_by_manufacturer_fully_CH.sum (axis = 0)"
   ]
  },
  {
   "cell_type": "code",
   "execution_count": 337,
   "metadata": {},
   "outputs": [],
   "source": [
    "vacc_by_manufacturer_fully_CH = vacc_by_manufacturer_fully_CH.to_frame()"
   ]
  },
  {
   "cell_type": "code",
   "execution_count": 338,
   "metadata": {},
   "outputs": [],
   "source": [
    "vacc_by_manufacturer_fully_CH.reset_index (inplace = True)"
   ]
  },
  {
   "cell_type": "code",
   "execution_count": 339,
   "metadata": {},
   "outputs": [],
   "source": [
    "vacc_by_manufacturer_fully_CH.columns = ['Fabricante', 'Total']"
   ]
  },
  {
   "cell_type": "code",
   "execution_count": 340,
   "metadata": {},
   "outputs": [],
   "source": [
    "total_fully_CH = vacc_by_manufacturer_fully_CH['Total'] .sum (axis = 0)"
   ]
  },
  {
   "cell_type": "code",
   "execution_count": 341,
   "metadata": {},
   "outputs": [],
   "source": [
    "vacc_by_manufacturer_fully_CH ['Porcentaje'] = vacc_by_manufacturer_fully_CH ['Total']*100/total_fully_CH"
   ]
  },
  {
   "cell_type": "code",
   "execution_count": 342,
   "metadata": {},
   "outputs": [],
   "source": [
    "vacc_by_manufacturer_fully_CH.insert(0,'Vacunación', 'Vacunados completamente')"
   ]
  },
  {
   "cell_type": "code",
   "execution_count": 343,
   "metadata": {},
   "outputs": [],
   "source": [
    "vacc_by_manufacturer_fully_CH.insert(0,'País', 'Chile')"
   ]
  },
  {
   "cell_type": "code",
   "execution_count": 344,
   "metadata": {},
   "outputs": [
    {
     "data": {
      "text/html": [
       "<div>\n",
       "<style scoped>\n",
       "    .dataframe tbody tr th:only-of-type {\n",
       "        vertical-align: middle;\n",
       "    }\n",
       "\n",
       "    .dataframe tbody tr th {\n",
       "        vertical-align: top;\n",
       "    }\n",
       "\n",
       "    .dataframe thead th {\n",
       "        text-align: right;\n",
       "    }\n",
       "</style>\n",
       "<table border=\"1\" class=\"dataframe\">\n",
       "  <thead>\n",
       "    <tr style=\"text-align: right;\">\n",
       "      <th></th>\n",
       "      <th>País</th>\n",
       "      <th>Vacunación</th>\n",
       "      <th>Fabricante</th>\n",
       "      <th>Total</th>\n",
       "      <th>Porcentaje</th>\n",
       "    </tr>\n",
       "  </thead>\n",
       "  <tbody>\n",
       "    <tr>\n",
       "      <th>0</th>\n",
       "      <td>Chile</td>\n",
       "      <td>Vacunados completamente</td>\n",
       "      <td>CanSino</td>\n",
       "      <td>571336.0</td>\n",
       "      <td>3.786250</td>\n",
       "    </tr>\n",
       "    <tr>\n",
       "      <th>1</th>\n",
       "      <td>Chile</td>\n",
       "      <td>Vacunados completamente</td>\n",
       "      <td>AstraZeneca</td>\n",
       "      <td>123713.0</td>\n",
       "      <td>0.819847</td>\n",
       "    </tr>\n",
       "    <tr>\n",
       "      <th>2</th>\n",
       "      <td>Chile</td>\n",
       "      <td>Vacunados completamente</td>\n",
       "      <td>Pfizer</td>\n",
       "      <td>3758948.0</td>\n",
       "      <td>24.910588</td>\n",
       "    </tr>\n",
       "    <tr>\n",
       "      <th>3</th>\n",
       "      <td>Chile</td>\n",
       "      <td>Vacunados completamente</td>\n",
       "      <td>Sinovac</td>\n",
       "      <td>10635763.0</td>\n",
       "      <td>70.483315</td>\n",
       "    </tr>\n",
       "  </tbody>\n",
       "</table>\n",
       "</div>"
      ],
      "text/plain": [
       "    País               Vacunación   Fabricante       Total  Porcentaje\n",
       "0  Chile  Vacunados completamente      CanSino    571336.0    3.786250\n",
       "1  Chile  Vacunados completamente  AstraZeneca    123713.0    0.819847\n",
       "2  Chile  Vacunados completamente       Pfizer   3758948.0   24.910588\n",
       "3  Chile  Vacunados completamente      Sinovac  10635763.0   70.483315"
      ]
     },
     "execution_count": 344,
     "metadata": {},
     "output_type": "execute_result"
    }
   ],
   "source": [
    "vacc_by_manufacturer_fully_CH"
   ]
  },
  {
   "cell_type": "markdown",
   "metadata": {},
   "source": [
    "<a id = 'Sección13.1.2'></a>"
   ]
  },
  {
   "cell_type": "markdown",
   "metadata": {},
   "source": [
    "#### 13.1.2. Vacunaciones de refuerzo"
   ]
  },
  {
   "cell_type": "code",
   "execution_count": 345,
   "metadata": {},
   "outputs": [],
   "source": [
    "vacc_by_manufacturer_booster_CH = pd.DataFrame()"
   ]
  },
  {
   "cell_type": "code",
   "execution_count": 346,
   "metadata": {},
   "outputs": [],
   "source": [
    "vacc_by_manufacturer_booster_CH = booster_dose_CH.set_index ('Fecha').loc[:,['AstraZeneca','Pfizer','Sinovac']].sum(axis = 0)"
   ]
  },
  {
   "cell_type": "code",
   "execution_count": 347,
   "metadata": {},
   "outputs": [],
   "source": [
    "vacc_by_manufacturer_booster_CH = vacc_by_manufacturer_booster_CH.to_frame()"
   ]
  },
  {
   "cell_type": "code",
   "execution_count": 348,
   "metadata": {},
   "outputs": [],
   "source": [
    "vacc_by_manufacturer_booster_CH.reset_index (inplace = True)"
   ]
  },
  {
   "cell_type": "code",
   "execution_count": 349,
   "metadata": {},
   "outputs": [],
   "source": [
    "vacc_by_manufacturer_booster_CH.columns = ['Fabricante','Total']"
   ]
  },
  {
   "cell_type": "code",
   "execution_count": 350,
   "metadata": {},
   "outputs": [],
   "source": [
    "total_booster_CH = vacc_by_manufacturer_booster_CH['Total'].sum()"
   ]
  },
  {
   "cell_type": "code",
   "execution_count": 351,
   "metadata": {},
   "outputs": [
    {
     "data": {
      "text/plain": [
       "5799331.0"
      ]
     },
     "execution_count": 351,
     "metadata": {},
     "output_type": "execute_result"
    }
   ],
   "source": [
    "total_booster_CH"
   ]
  },
  {
   "cell_type": "code",
   "execution_count": 352,
   "metadata": {},
   "outputs": [],
   "source": [
    "vacc_by_manufacturer_booster_CH ['Porcentaje'] = vacc_by_manufacturer_booster_CH ['Total']*100/total_booster_CH"
   ]
  },
  {
   "cell_type": "code",
   "execution_count": 353,
   "metadata": {},
   "outputs": [],
   "source": [
    "vacc_by_manufacturer_booster_CH.insert(0,'Vacunación','Dosis de refuerzo')"
   ]
  },
  {
   "cell_type": "code",
   "execution_count": 354,
   "metadata": {},
   "outputs": [],
   "source": [
    "vacc_by_manufacturer_booster_CH.insert(0,'País','Chile')"
   ]
  },
  {
   "cell_type": "code",
   "execution_count": 355,
   "metadata": {},
   "outputs": [
    {
     "data": {
      "text/html": [
       "<div>\n",
       "<style scoped>\n",
       "    .dataframe tbody tr th:only-of-type {\n",
       "        vertical-align: middle;\n",
       "    }\n",
       "\n",
       "    .dataframe tbody tr th {\n",
       "        vertical-align: top;\n",
       "    }\n",
       "\n",
       "    .dataframe thead th {\n",
       "        text-align: right;\n",
       "    }\n",
       "</style>\n",
       "<table border=\"1\" class=\"dataframe\">\n",
       "  <thead>\n",
       "    <tr style=\"text-align: right;\">\n",
       "      <th></th>\n",
       "      <th>País</th>\n",
       "      <th>Vacunación</th>\n",
       "      <th>Fabricante</th>\n",
       "      <th>Total</th>\n",
       "      <th>Porcentaje</th>\n",
       "    </tr>\n",
       "  </thead>\n",
       "  <tbody>\n",
       "    <tr>\n",
       "      <th>0</th>\n",
       "      <td>Chile</td>\n",
       "      <td>Dosis de refuerzo</td>\n",
       "      <td>AstraZeneca</td>\n",
       "      <td>2405782.0</td>\n",
       "      <td>41.483785</td>\n",
       "    </tr>\n",
       "    <tr>\n",
       "      <th>1</th>\n",
       "      <td>Chile</td>\n",
       "      <td>Dosis de refuerzo</td>\n",
       "      <td>Pfizer</td>\n",
       "      <td>3156167.0</td>\n",
       "      <td>54.422950</td>\n",
       "    </tr>\n",
       "    <tr>\n",
       "      <th>2</th>\n",
       "      <td>Chile</td>\n",
       "      <td>Dosis de refuerzo</td>\n",
       "      <td>Sinovac</td>\n",
       "      <td>237382.0</td>\n",
       "      <td>4.093265</td>\n",
       "    </tr>\n",
       "  </tbody>\n",
       "</table>\n",
       "</div>"
      ],
      "text/plain": [
       "    País         Vacunación   Fabricante      Total  Porcentaje\n",
       "0  Chile  Dosis de refuerzo  AstraZeneca  2405782.0   41.483785\n",
       "1  Chile  Dosis de refuerzo       Pfizer  3156167.0   54.422950\n",
       "2  Chile  Dosis de refuerzo      Sinovac   237382.0    4.093265"
      ]
     },
     "execution_count": 355,
     "metadata": {},
     "output_type": "execute_result"
    }
   ],
   "source": [
    "vacc_by_manufacturer_booster_CH"
   ]
  },
  {
   "cell_type": "markdown",
   "metadata": {},
   "source": [
    "<a id = 'Sección13.2'></a>"
   ]
  },
  {
   "cell_type": "markdown",
   "metadata": {},
   "source": [
    "### 13.2. Porcentaje de vacunaciones por fabricante en Uruguay"
   ]
  },
  {
   "cell_type": "markdown",
   "metadata": {},
   "source": [
    "<a id = 'Sección13.2.1'></a>"
   ]
  },
  {
   "cell_type": "markdown",
   "metadata": {},
   "source": [
    "#### 13.2.1. Vacunaciones completas"
   ]
  },
  {
   "cell_type": "code",
   "execution_count": 356,
   "metadata": {},
   "outputs": [],
   "source": [
    "vacc_by_manufacturer_fully_UY = vaccination_UY.loc [:,['fully_astrazeneca','fully_pfizer','fully_coronavac']]"
   ]
  },
  {
   "cell_type": "code",
   "execution_count": 357,
   "metadata": {},
   "outputs": [],
   "source": [
    "vacc_by_manufacturer_fully_UY.rename (columns = {'fully_astrazeneca':'AstraZeneca','fully_pfizer':'Pfizer','fully_coronavac':'Sinovac'}, inplace = True)"
   ]
  },
  {
   "cell_type": "code",
   "execution_count": 358,
   "metadata": {},
   "outputs": [],
   "source": [
    "vacc_by_manufacturer_fully_UY = vacc_by_manufacturer_fully_UY.sum().to_frame()"
   ]
  },
  {
   "cell_type": "code",
   "execution_count": 359,
   "metadata": {},
   "outputs": [],
   "source": [
    "vacc_by_manufacturer_fully_UY.reset_index (inplace=True)"
   ]
  },
  {
   "cell_type": "code",
   "execution_count": 360,
   "metadata": {},
   "outputs": [],
   "source": [
    "vacc_by_manufacturer_fully_UY.columns = ['Fabricante','Total']"
   ]
  },
  {
   "cell_type": "code",
   "execution_count": 361,
   "metadata": {},
   "outputs": [],
   "source": [
    "total_fully_UY = vacc_by_manufacturer_fully_UY ['Total'].sum()"
   ]
  },
  {
   "cell_type": "code",
   "execution_count": 362,
   "metadata": {},
   "outputs": [],
   "source": [
    "vacc_by_manufacturer_fully_UY ['Porcentaje'] = vacc_by_manufacturer_fully_UY ['Total']*100/total_fully_UY"
   ]
  },
  {
   "cell_type": "code",
   "execution_count": 363,
   "metadata": {},
   "outputs": [],
   "source": [
    "vacc_by_manufacturer_fully_UY.insert(0,'Vacunación','Vacunados completamente')"
   ]
  },
  {
   "cell_type": "code",
   "execution_count": 364,
   "metadata": {},
   "outputs": [],
   "source": [
    "vacc_by_manufacturer_fully_UY.insert(0,'País','Uruguay')"
   ]
  },
  {
   "cell_type": "code",
   "execution_count": 365,
   "metadata": {},
   "outputs": [
    {
     "data": {
      "text/html": [
       "<div>\n",
       "<style scoped>\n",
       "    .dataframe tbody tr th:only-of-type {\n",
       "        vertical-align: middle;\n",
       "    }\n",
       "\n",
       "    .dataframe tbody tr th {\n",
       "        vertical-align: top;\n",
       "    }\n",
       "\n",
       "    .dataframe thead th {\n",
       "        text-align: right;\n",
       "    }\n",
       "</style>\n",
       "<table border=\"1\" class=\"dataframe\">\n",
       "  <thead>\n",
       "    <tr style=\"text-align: right;\">\n",
       "      <th></th>\n",
       "      <th>País</th>\n",
       "      <th>Vacunación</th>\n",
       "      <th>Fabricante</th>\n",
       "      <th>Total</th>\n",
       "      <th>Porcentaje</th>\n",
       "    </tr>\n",
       "  </thead>\n",
       "  <tbody>\n",
       "    <tr>\n",
       "      <th>0</th>\n",
       "      <td>Uruguay</td>\n",
       "      <td>Vacunados completamente</td>\n",
       "      <td>AstraZeneca</td>\n",
       "      <td>42105</td>\n",
       "      <td>1.606808</td>\n",
       "    </tr>\n",
       "    <tr>\n",
       "      <th>1</th>\n",
       "      <td>Uruguay</td>\n",
       "      <td>Vacunados completamente</td>\n",
       "      <td>Pfizer</td>\n",
       "      <td>973583</td>\n",
       "      <td>37.153814</td>\n",
       "    </tr>\n",
       "    <tr>\n",
       "      <th>2</th>\n",
       "      <td>Uruguay</td>\n",
       "      <td>Vacunados completamente</td>\n",
       "      <td>Sinovac</td>\n",
       "      <td>1604724</td>\n",
       "      <td>61.239378</td>\n",
       "    </tr>\n",
       "  </tbody>\n",
       "</table>\n",
       "</div>"
      ],
      "text/plain": [
       "      País               Vacunación   Fabricante    Total  Porcentaje\n",
       "0  Uruguay  Vacunados completamente  AstraZeneca    42105    1.606808\n",
       "1  Uruguay  Vacunados completamente       Pfizer   973583   37.153814\n",
       "2  Uruguay  Vacunados completamente      Sinovac  1604724   61.239378"
      ]
     },
     "execution_count": 365,
     "metadata": {},
     "output_type": "execute_result"
    }
   ],
   "source": [
    "vacc_by_manufacturer_fully_UY"
   ]
  },
  {
   "cell_type": "markdown",
   "metadata": {},
   "source": [
    "<a id = 'Sección13.2.2'></a>"
   ]
  },
  {
   "cell_type": "markdown",
   "metadata": {},
   "source": [
    "#### 13.2.2. Vacunaciones de refuerzo"
   ]
  },
  {
   "cell_type": "markdown",
   "metadata": {},
   "source": [
    "De acuerdo con el plan de vacunación para la [tercera dosis](https://www.gub.uy/ministerio-salud-publica/comunicacion/publicaciones/preguntas-frecuentes-vacunacion-covid-19/preguntas-frecuentes-13) del Ministerio de Salud Pública, todas las vacunas de refuerzo son de Pfizer."
   ]
  },
  {
   "cell_type": "code",
   "execution_count": 366,
   "metadata": {},
   "outputs": [],
   "source": [
    "vacc_by_manufacturer_booster_UY = pd.DataFrame(columns = ['Fabricante','Total','Porcentaje'])"
   ]
  },
  {
   "cell_type": "code",
   "execution_count": 367,
   "metadata": {},
   "outputs": [],
   "source": [
    "vacc_by_manufacturer_booster_UY.loc [0] = ['Pfizer', vaccination_UY['total_boosters'].max(),100.00]"
   ]
  },
  {
   "cell_type": "code",
   "execution_count": 368,
   "metadata": {},
   "outputs": [],
   "source": [
    "vacc_by_manufacturer_booster_UY.insert(0,'Vacunación','Dosis de refuerzo')"
   ]
  },
  {
   "cell_type": "code",
   "execution_count": 369,
   "metadata": {},
   "outputs": [],
   "source": [
    "vacc_by_manufacturer_booster_UY.insert(0,'País','Uruguay')"
   ]
  },
  {
   "cell_type": "code",
   "execution_count": 370,
   "metadata": {},
   "outputs": [],
   "source": [
    "vacc_by_manufacturer_booster_UY['Total'] = pd.to_numeric(vacc_by_manufacturer_booster_UY['Total'] , errors='coerce')"
   ]
  },
  {
   "cell_type": "code",
   "execution_count": 371,
   "metadata": {},
   "outputs": [
    {
     "data": {
      "text/html": [
       "<div>\n",
       "<style scoped>\n",
       "    .dataframe tbody tr th:only-of-type {\n",
       "        vertical-align: middle;\n",
       "    }\n",
       "\n",
       "    .dataframe tbody tr th {\n",
       "        vertical-align: top;\n",
       "    }\n",
       "\n",
       "    .dataframe thead th {\n",
       "        text-align: right;\n",
       "    }\n",
       "</style>\n",
       "<table border=\"1\" class=\"dataframe\">\n",
       "  <thead>\n",
       "    <tr style=\"text-align: right;\">\n",
       "      <th></th>\n",
       "      <th>País</th>\n",
       "      <th>Vacunación</th>\n",
       "      <th>Fabricante</th>\n",
       "      <th>Total</th>\n",
       "      <th>Porcentaje</th>\n",
       "    </tr>\n",
       "  </thead>\n",
       "  <tbody>\n",
       "    <tr>\n",
       "      <th>0</th>\n",
       "      <td>Uruguay</td>\n",
       "      <td>Dosis de refuerzo</td>\n",
       "      <td>Pfizer</td>\n",
       "      <td>1233682</td>\n",
       "      <td>100.0</td>\n",
       "    </tr>\n",
       "  </tbody>\n",
       "</table>\n",
       "</div>"
      ],
      "text/plain": [
       "      País         Vacunación Fabricante    Total  Porcentaje\n",
       "0  Uruguay  Dosis de refuerzo     Pfizer  1233682       100.0"
      ]
     },
     "execution_count": 371,
     "metadata": {},
     "output_type": "execute_result"
    }
   ],
   "source": [
    "vacc_by_manufacturer_booster_UY"
   ]
  },
  {
   "cell_type": "markdown",
   "metadata": {},
   "source": [
    "<a id = 'Sección13.3'></a>"
   ]
  },
  {
   "cell_type": "markdown",
   "metadata": {},
   "source": [
    "### 13.3. Porcentaje de vacunaciones por fabricante consolidado"
   ]
  },
  {
   "cell_type": "code",
   "execution_count": 372,
   "metadata": {},
   "outputs": [],
   "source": [
    "vacc_by_manufacturer = pd.concat ([vacc_by_manufacturer_fully_CH,vacc_by_manufacturer_booster_CH,vacc_by_manufacturer_fully_UY,vacc_by_manufacturer_booster_UY])"
   ]
  },
  {
   "cell_type": "code",
   "execution_count": 373,
   "metadata": {},
   "outputs": [],
   "source": [
    "vacc_by_manufacturer.reset_index(drop=True,inplace=True) "
   ]
  },
  {
   "cell_type": "code",
   "execution_count": 374,
   "metadata": {},
   "outputs": [
    {
     "data": {
      "text/html": [
       "<div>\n",
       "<style scoped>\n",
       "    .dataframe tbody tr th:only-of-type {\n",
       "        vertical-align: middle;\n",
       "    }\n",
       "\n",
       "    .dataframe tbody tr th {\n",
       "        vertical-align: top;\n",
       "    }\n",
       "\n",
       "    .dataframe thead th {\n",
       "        text-align: right;\n",
       "    }\n",
       "</style>\n",
       "<table border=\"1\" class=\"dataframe\">\n",
       "  <thead>\n",
       "    <tr style=\"text-align: right;\">\n",
       "      <th></th>\n",
       "      <th>País</th>\n",
       "      <th>Vacunación</th>\n",
       "      <th>Fabricante</th>\n",
       "      <th>Total</th>\n",
       "      <th>Porcentaje</th>\n",
       "    </tr>\n",
       "  </thead>\n",
       "  <tbody>\n",
       "    <tr>\n",
       "      <th>0</th>\n",
       "      <td>Chile</td>\n",
       "      <td>Vacunados completamente</td>\n",
       "      <td>CanSino</td>\n",
       "      <td>571336.0</td>\n",
       "      <td>3.786250</td>\n",
       "    </tr>\n",
       "    <tr>\n",
       "      <th>1</th>\n",
       "      <td>Chile</td>\n",
       "      <td>Vacunados completamente</td>\n",
       "      <td>AstraZeneca</td>\n",
       "      <td>123713.0</td>\n",
       "      <td>0.819847</td>\n",
       "    </tr>\n",
       "    <tr>\n",
       "      <th>2</th>\n",
       "      <td>Chile</td>\n",
       "      <td>Vacunados completamente</td>\n",
       "      <td>Pfizer</td>\n",
       "      <td>3758948.0</td>\n",
       "      <td>24.910588</td>\n",
       "    </tr>\n",
       "    <tr>\n",
       "      <th>3</th>\n",
       "      <td>Chile</td>\n",
       "      <td>Vacunados completamente</td>\n",
       "      <td>Sinovac</td>\n",
       "      <td>10635763.0</td>\n",
       "      <td>70.483315</td>\n",
       "    </tr>\n",
       "    <tr>\n",
       "      <th>4</th>\n",
       "      <td>Chile</td>\n",
       "      <td>Dosis de refuerzo</td>\n",
       "      <td>AstraZeneca</td>\n",
       "      <td>2405782.0</td>\n",
       "      <td>41.483785</td>\n",
       "    </tr>\n",
       "    <tr>\n",
       "      <th>5</th>\n",
       "      <td>Chile</td>\n",
       "      <td>Dosis de refuerzo</td>\n",
       "      <td>Pfizer</td>\n",
       "      <td>3156167.0</td>\n",
       "      <td>54.422950</td>\n",
       "    </tr>\n",
       "    <tr>\n",
       "      <th>6</th>\n",
       "      <td>Chile</td>\n",
       "      <td>Dosis de refuerzo</td>\n",
       "      <td>Sinovac</td>\n",
       "      <td>237382.0</td>\n",
       "      <td>4.093265</td>\n",
       "    </tr>\n",
       "    <tr>\n",
       "      <th>7</th>\n",
       "      <td>Uruguay</td>\n",
       "      <td>Vacunados completamente</td>\n",
       "      <td>AstraZeneca</td>\n",
       "      <td>42105.0</td>\n",
       "      <td>1.606808</td>\n",
       "    </tr>\n",
       "    <tr>\n",
       "      <th>8</th>\n",
       "      <td>Uruguay</td>\n",
       "      <td>Vacunados completamente</td>\n",
       "      <td>Pfizer</td>\n",
       "      <td>973583.0</td>\n",
       "      <td>37.153814</td>\n",
       "    </tr>\n",
       "    <tr>\n",
       "      <th>9</th>\n",
       "      <td>Uruguay</td>\n",
       "      <td>Vacunados completamente</td>\n",
       "      <td>Sinovac</td>\n",
       "      <td>1604724.0</td>\n",
       "      <td>61.239378</td>\n",
       "    </tr>\n",
       "    <tr>\n",
       "      <th>10</th>\n",
       "      <td>Uruguay</td>\n",
       "      <td>Dosis de refuerzo</td>\n",
       "      <td>Pfizer</td>\n",
       "      <td>1233682.0</td>\n",
       "      <td>100.000000</td>\n",
       "    </tr>\n",
       "  </tbody>\n",
       "</table>\n",
       "</div>"
      ],
      "text/plain": [
       "       País               Vacunación   Fabricante       Total  Porcentaje\n",
       "0     Chile  Vacunados completamente      CanSino    571336.0    3.786250\n",
       "1     Chile  Vacunados completamente  AstraZeneca    123713.0    0.819847\n",
       "2     Chile  Vacunados completamente       Pfizer   3758948.0   24.910588\n",
       "3     Chile  Vacunados completamente      Sinovac  10635763.0   70.483315\n",
       "4     Chile        Dosis de refuerzo  AstraZeneca   2405782.0   41.483785\n",
       "5     Chile        Dosis de refuerzo       Pfizer   3156167.0   54.422950\n",
       "6     Chile        Dosis de refuerzo      Sinovac    237382.0    4.093265\n",
       "7   Uruguay  Vacunados completamente  AstraZeneca     42105.0    1.606808\n",
       "8   Uruguay  Vacunados completamente       Pfizer    973583.0   37.153814\n",
       "9   Uruguay  Vacunados completamente      Sinovac   1604724.0   61.239378\n",
       "10  Uruguay        Dosis de refuerzo       Pfizer   1233682.0  100.000000"
      ]
     },
     "execution_count": 374,
     "metadata": {},
     "output_type": "execute_result"
    }
   ],
   "source": [
    "vacc_by_manufacturer"
   ]
  },
  {
   "cell_type": "markdown",
   "metadata": {},
   "source": [
    "<a id = 'Sección14'></a>"
   ]
  },
  {
   "cell_type": "markdown",
   "metadata": {},
   "source": [
    "### Exportación de los dataframes a excel"
   ]
  },
  {
   "cell_type": "code",
   "execution_count": 375,
   "metadata": {},
   "outputs": [],
   "source": [
    "stringency_index.to_excel(r\"Output tablas\\Índice de rigurosidad.xlsx\",index=False, encoding=\"utf-8\")"
   ]
  },
  {
   "cell_type": "code",
   "execution_count": 376,
   "metadata": {},
   "outputs": [],
   "source": [
    "global_data_per_million.to_excel(r\"Output tablas\\Datos globales por millón de habitantes.xlsx\",index=False, encoding=\"utf-8\")"
   ]
  },
  {
   "cell_type": "code",
   "execution_count": 377,
   "metadata": {},
   "outputs": [],
   "source": [
    "deaths_pct.to_excel(r\"Output tablas\\Porcentaje de fallecidos con respecto al total de contagiados.xlsx\",index=False, encoding=\"utf-8\")"
   ]
  },
  {
   "cell_type": "code",
   "execution_count": 378,
   "metadata": {},
   "outputs": [],
   "source": [
    "test_data.to_excel(r\"Output tablas\\Tests y positividad.xlsx\",index=False, encoding=\"utf-8\")"
   ]
  },
  {
   "cell_type": "code",
   "execution_count": 379,
   "metadata": {},
   "outputs": [],
   "source": [
    "UCI_data.to_excel(r\"Output tablas\\Hospitalizaciones.xlsx\",index=False, encoding=\"utf-8\")"
   ]
  },
  {
   "cell_type": "code",
   "execution_count": 380,
   "metadata": {},
   "outputs": [],
   "source": [
    "risk_levels.to_excel(r\"Output tablas\\Niveles de riesgo.xlsx\",index=False, encoding=\"utf-8\")"
   ]
  },
  {
   "cell_type": "code",
   "execution_count": 381,
   "metadata": {},
   "outputs": [],
   "source": [
    "regional_data_CH.to_excel(r\"Output tablas\\Datos regionales Chile.xlsx\",index=False, encoding=\"utf-8\")"
   ]
  },
  {
   "cell_type": "code",
   "execution_count": 382,
   "metadata": {},
   "outputs": [],
   "source": [
    "dep_data_UY.to_excel(r\"Output tablas\\Datos departamentales Uruguay.xlsx\",index=False, encoding=\"utf-8\")"
   ]
  },
  {
   "cell_type": "code",
   "execution_count": 383,
   "metadata": {},
   "outputs": [],
   "source": [
    "total_vaccination.to_excel(r\"Output tablas\\Total vacunaciones.xlsx\",index=False, encoding=\"utf-8\")"
   ]
  },
  {
   "cell_type": "code",
   "execution_count": 384,
   "metadata": {},
   "outputs": [],
   "source": [
    "cum_vaccination.to_excel(r\"Output tablas\\Acumulado de las vacunaciones realizadas.xlsx\",index=False, encoding=\"utf-8\")"
   ]
  },
  {
   "cell_type": "code",
   "execution_count": 385,
   "metadata": {},
   "outputs": [],
   "source": [
    "pct_cum_vacc.to_excel(r\"Output tablas\\Porcentaje de la población vacunada.xlsx\",index=False, encoding=\"utf-8\")"
   ]
  },
  {
   "cell_type": "code",
   "execution_count": 386,
   "metadata": {},
   "outputs": [],
   "source": [
    "vaccination_per_age_CH.to_excel(r\"Output tablas\\Vacunaciones por rango etario en Chile.xlsx\",index=False, encoding=\"utf-8\")"
   ]
  },
  {
   "cell_type": "code",
   "execution_count": 387,
   "metadata": {},
   "outputs": [],
   "source": [
    "cum_vacc_per_age_CH.to_excel(r\"Output tablas\\Acumulado de vacunaciones por rango etario en Chile.xlsx\",index=False, encoding=\"utf-8\")"
   ]
  },
  {
   "cell_type": "code",
   "execution_count": 388,
   "metadata": {},
   "outputs": [],
   "source": [
    "pop_coverage_CH.to_excel(r\"Output tablas\\Cobertura de la población Chile.xlsx\",index=False, encoding=\"utf-8\")"
   ]
  },
  {
   "cell_type": "code",
   "execution_count": 389,
   "metadata": {},
   "outputs": [],
   "source": [
    "total_vacc_per_age_UY.to_excel(r\"Output tablas\\Total de vacunaciones al 9 de julio por rango etario en Uruguay.xlsx\",index=False, encoding=\"utf-8\")"
   ]
  },
  {
   "cell_type": "code",
   "execution_count": 390,
   "metadata": {},
   "outputs": [],
   "source": [
    "pop_coverage_UY.to_excel(r\"Output tablas\\Cobertura de la población al 9 de julio en Uruguay.xlsx\",index=False, encoding=\"utf-8\")"
   ]
  },
  {
   "cell_type": "code",
   "execution_count": 391,
   "metadata": {},
   "outputs": [],
   "source": [
    "vacc_by_manufacturer.to_excel(r\"Output tablas\\Proporción de vacunaciones por fabricante.xlsx\",index=False, encoding=\"utf-8\")"
   ]
  },
  {
   "cell_type": "markdown",
   "metadata": {},
   "source": [
    "<a id = 'Sección15'></a>"
   ]
  },
  {
   "cell_type": "markdown",
   "metadata": {},
   "source": [
    "[Volver al inicio](#ANÁLISIS-DEL-CORONAVIRUS-EN-CHILE-Y-URUGUAY)"
   ]
  }
 ],
 "metadata": {
  "kernelspec": {
   "display_name": "Python 3 (ipykernel)",
   "language": "python",
   "name": "python3"
  },
  "language_info": {
   "codemirror_mode": {
    "name": "ipython",
    "version": 3
   },
   "file_extension": ".py",
   "mimetype": "text/x-python",
   "name": "python",
   "nbconvert_exporter": "python",
   "pygments_lexer": "ipython3",
   "version": "3.8.12"
  },
  "toc": {
   "base_numbering": 1,
   "nav_menu": {
    "height": "336px",
    "width": "202px"
   },
   "number_sections": false,
   "sideBar": true,
   "skip_h1_title": true,
   "title_cell": "Tabla de contenidos",
   "title_sidebar": "Contents",
   "toc_cell": false,
   "toc_position": {
    "height": "425.2px",
    "left": "963.8px",
    "top": "166px",
    "width": "259px"
   },
   "toc_section_display": true,
   "toc_window_display": true
  }
 },
 "nbformat": 4,
 "nbformat_minor": 4
}
