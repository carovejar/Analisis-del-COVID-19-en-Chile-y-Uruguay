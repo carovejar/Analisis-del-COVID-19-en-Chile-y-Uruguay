{
 "cells": [
  {
   "cell_type": "markdown",
   "metadata": {},
   "source": [
    "# ANÁLISIS DEL CORONAVIRUS EN CHILE Y URUGUAY"
   ]
  },
  {
   "cell_type": "markdown",
   "metadata": {},
   "source": [
    "<hr>"
   ]
  },
  {
   "cell_type": "markdown",
   "metadata": {},
   "source": [
    "<div align =\"right\"> <i>Carolina Véjar</i></div>"
   ]
  },
  {
   "cell_type": "markdown",
   "metadata": {},
   "source": [
    "<h1>Tabla de contenidos<span class=\"tocSkip\"></span></h1>\n",
    "<div class=\"toc\"><ul class=\"toc-item\"><li><span><a href=\"#1.-Datos-del-coronavirus-en-Chile\" data-toc-modified-id=\"1.-Datos-del-coronavirus-en-Chile-1\">1. Datos del coronavirus en Chile</a></span><ul class=\"toc-item\"><li><span><a href=\"#1.1.-Datos-generales-a-nivel-nacional\" data-toc-modified-id=\"1.1.-Datos-generales-a-nivel-nacional-1.1\">1.1. Datos generales a nivel nacional</a></span></li><li><span><a href=\"#1.2.-Cantidad-de-test-realizados-y-positividad\" data-toc-modified-id=\"1.2.-Cantidad-de-test-realizados-y-positividad-1.2\">1.2. Cantidad de test realizados y positividad</a></span></li><li><span><a href=\"#1.3.-Datos-UTI/UCI-a-nivel-nacional\" data-toc-modified-id=\"1.3.-Datos-UTI/UCI-a-nivel-nacional-1.3\">1.3. Datos UTI/UCI a nivel nacional</a></span></li><li><span><a href=\"#1.4.-Nuevos-casos-por-región\" data-toc-modified-id=\"1.4.-Nuevos-casos-por-región-1.4\">1.4. Nuevos casos por región</a></span></li><li><span><a href=\"#1.5.-Total-de-casos-por-región\" data-toc-modified-id=\"1.5.-Total-de-casos-por-región-1.5\">1.5. Total de casos por región</a></span></li><li><span><a href=\"#1.6.-Vacunaciones-por-edad\" data-toc-modified-id=\"1.6.-Vacunaciones-por-edad-1.6\">1.6. Vacunaciones por edad</a></span><ul class=\"toc-item\"><li><span><a href=\"#1.6.1.-Vacunaciones-diarias-con-vacunas-de-dosis-única-por-edad\" data-toc-modified-id=\"1.6.1.-Vacunaciones-diarias-con-vacunas-de-dosis-única-por-edad-1.6.1\">1.6.1. Vacunaciones diarias con vacunas de dosis única por edad</a></span></li><li><span><a href=\"#1.6.2.-Vacunaciones-diarias-de-primeras-dosis-por-edad\" data-toc-modified-id=\"1.6.2.-Vacunaciones-diarias-de-primeras-dosis-por-edad-1.6.2\">1.6.2. Vacunaciones diarias de primeras dosis por edad</a></span></li><li><span><a href=\"#1.6.3.-Vacunaciones-diarias-de-segundas-dosis-por-edad\" data-toc-modified-id=\"1.6.3.-Vacunaciones-diarias-de-segundas-dosis-por-edad-1.6.3\">1.6.3. Vacunaciones diarias de segundas dosis por edad</a></span></li></ul></li><li><span><a href=\"#1.7.-Vacunaciones-por-vacuna-aplicada\" data-toc-modified-id=\"1.7.-Vacunaciones-por-vacuna-aplicada-1.7\">1.7. Vacunaciones por vacuna aplicada</a></span><ul class=\"toc-item\"><li><span><a href=\"#1.7.1.-Vacunas-de-una-sola-dosis\" data-toc-modified-id=\"1.7.1.-Vacunas-de-una-sola-dosis-1.7.1\">1.7.1. Vacunas de una sola dosis</a></span></li><li><span><a href=\"#1.7.2.-Primeras-dosis-de-vacunas\" data-toc-modified-id=\"1.7.2.-Primeras-dosis-de-vacunas-1.7.2\">1.7.2. Primeras dosis de vacunas</a></span></li><li><span><a href=\"#1.7.3.-Segundas-dosis-de-vacunas\" data-toc-modified-id=\"1.7.3.-Segundas-dosis-de-vacunas-1.7.3\">1.7.3. Segundas dosis de vacunas</a></span></li><li><span><a href=\"#1.7.4.-Vacunaciones-de-refuerzo\" data-toc-modified-id=\"1.7.4.-Vacunaciones-de-refuerzo-1.7.4\">1.7.4. Vacunaciones de refuerzo</a></span></li></ul></li></ul></li><br><li><span><a href=\"#2.-Datos-del-coronavirus-en-Uruguay\" data-toc-modified-id=\"2.-Datos-del-coronavirus-en-Uruguay-2\">2. Datos del coronavirus en Uruguay</a></span><ul class=\"toc-item\"><li><span><a href=\"#2.1.-Datos-generales-a-nivel-nacional\" data-toc-modified-id=\"2.1.-Datos-generales-a-nivel-nacional-2.1\">2.1. Datos generales a nivel nacional</a></span></li><li><span><a href=\"#2.2.-Datos-generales-por-departamento\" data-toc-modified-id=\"2.2.-Datos-generales-por-departamento-2.2\">2.2. Datos generales por departamento</a></span></li><li><span><a href=\"#2.3.-Datos-vacunación-a-nivel-nacional\" data-toc-modified-id=\"2.3.-Datos-vacunación-a-nivel-nacional-2.3\">2.3. Datos vacunación a nivel nacional</a></span></li></ul></li><br><li><span><a href=\"#3.-Índice-de-rigurosidad-para-Chile-y-Uruguay\" data-toc-modified-id=\"3.-Índice-de-rigurosidad-para-Chile-y-Uruguay-3\">3. Índice de rigurosidad para Chile y Uruguay</a></span></li><br><li><span><a href=\"#4.-Cantidad-de-habitantes\" data-toc-modified-id=\"4.-Cantidad-de-habitantes-4\">4. Cantidad de habitantes</a></span><ul class=\"toc-item\"><li><span><a href=\"#4.1.-Cantidad-de-habitantes-en-Chile\" data-toc-modified-id=\"4.1.-Cantidad-de-habitantes-en-Chile-4.1\">4.1. Cantidad de habitantes en Chile</a></span><ul class=\"toc-item\"><li><span><a href=\"#4.1.1.-Cantidad-de-habitantes-por-región\" data-toc-modified-id=\"4.1.1.-Cantidad-de-habitantes-por-región-4.1.1\">4.1.1. Cantidad de habitantes por región</a></span></li><li><span><a href=\"#4.1.2.-Cantidad-de-habitantes-por-rango-etario\" data-toc-modified-id=\"4.1.2.-Cantidad-de-habitantes-por-rango-etario-4.1.2\">4.1.2. Cantidad de habitantes por rango etario</a></span></li><li><span><a href=\"#4.1.3.-Cantidad-total-de-habitantes\" data-toc-modified-id=\"4.1.3.-Cantidad-total-de-habitantes-4.1.3\">4.1.3. Cantidad total de habitantes</a></span></li></ul></li><li><span><a href=\"#4.2-Cantidad-de-habitantes-en-Uruguay\" data-toc-modified-id=\"4.2-Cantidad-de-habitantes-en-Uruguay-4.2\">4.2 Cantidad de habitantes en Uruguay</a></span><ul class=\"toc-item\"><li><span><a href=\"#4.2.1.-Cantidad-de-habitantes-por-departamento\" data-toc-modified-id=\"4.2.1.-Cantidad-de-habitantes-por-departamento-4.2.1\">4.2.1. Cantidad de habitantes por departamento</a></span></li><li><span><a href=\"#4.2.2.-Cantidad-de-habitantes-por-rango-etario\" data-toc-modified-id=\"4.2.2.-Cantidad-de-habitantes-por-rango-etario-4.2.2\">4.2.2. Cantidad de habitantes por rango etario</a></span></li><li><span><a href=\"#4.2.3.-Cantidad-total-de-habitantes\" data-toc-modified-id=\"4.2.3.-Cantidad-total-de-habitantes-4.2.3\">4.2.3. Cantidad total de habitantes</a></span></li></ul></li></ul></li><br><li><span><a href=\"#5.-Datos-globales-por-millón-de-habitantes\" data-toc-modified-id=\"5.-Datos-globales-por-millón-de-habitantes-5\">5. Datos globales por millón de habitantes</a></span><ul class=\"toc-item\"><li><span><a href=\"#5.1.-Datos-globales-por-millón-de-habitantes-en-Chile\" data-toc-modified-id=\"5.1.-Datos-globales-por-millón-de-habitantes-en-Chile-5.1\">5.1. Datos globales por millón de habitantes en Chile</a></span></li><li><span><a href=\"#5.2.-Datos-globales-por-millón-de-habitantes-en-Uruguay\" data-toc-modified-id=\"5.2.-Datos-globales-por-millón-de-habitantes-en-Uruguay-5.2\">5.2. Datos globales por millón de habitantes en Uruguay</a></span></li><li><span><a href=\"#5.3.-Datos-globales-por-millón-de-habitantes-consolidado\" data-toc-modified-id=\"5.3.-Datos-globales-por-millón-de-habitantes-consolidado-5.3\">5.3. Datos globales por millón de habitantes consolidado</a></span></li></ul></li><br><li><span><a href=\"#6.-Porcentaje-de-fallecidos-con-respecto-al-total-de-contagiados\" data-toc-modified-id=\"6.-Porcentaje-de-fallecidos-con-respecto-al-total-de-contagiados-6\">6. Porcentaje de fallecidos con respecto al total de contagiados</a></span><ul class=\"toc-item\"><li><span><a href=\"#6.1.-Porcentaje-de-fallecidos-con-respecto-al-total-de-contagiados-en-Chile\" data-toc-modified-id=\"6.1.-Porcentaje-de-fallecidos-con-respecto-al-total-de-contagiados-en-Chile-6.1\">6.1. Porcentaje de fallecidos con respecto al total de contagiados en Chile</a></span></li><li><span><a href=\"#6.2.-Porcentaje-de-fallecidos-con-respecto-al-total-de-contagiados-en-Uruguay\" data-toc-modified-id=\"6.2.-Porcentaje-de-fallecidos-con-respecto-al-total-de-contagiados-en-Uruguay-6.2\">6.2. Porcentaje de fallecidos con respecto al total de contagiados en Uruguay</a></span></li><li><span><a href=\"#6.3-Porcentaje-de-fallecidos-con-respecto-al-total-de-contagiados-consolidado\" data-toc-modified-id=\"6.3-Porcentaje-de-fallecidos-con-respecto-al-total-de-contagiados-consolidado-6.3\">6.3 Porcentaje de fallecidos con respecto al total de contagiados consolidado</a></span></li></ul></li><br><li><span><a href=\"#7.-Tests-realizados-y-positividad\" data-toc-modified-id=\"7.-Tests-realizados-y-positividad-7\">7. Tests realizados y positividad</a></span><ul class=\"toc-item\"><li><span><a href=\"#7.1.-Test-realizados-y-positividad-en-Chile\" data-toc-modified-id=\"7.1.-Test-realizados-y-positividad-en-Chile-7.1\">7.1. Test realizados y positividad en Chile</a></span></li><li><span><a href=\"#7.2.-Test-realizados-y-positividad-en-Uruguay\" data-toc-modified-id=\"7.2.-Test-realizados-y-positividad-en-Uruguay-7.2\">7.2. Test realizados y positividad en Uruguay</a></span></li><li><span><a href=\"#7.3.-Test-realizados-y-positividad-consolidado\" data-toc-modified-id=\"7.3.-Test-realizados-y-positividad-consolidado-7.3\">7.3. Test realizados y positividad consolidado</a></span></li></ul></li><br><li><span><a href=\"#8.-Cantidad-de-pacientes-en-UTI-/-CI-y-UCI/CTI\" data-toc-modified-id=\"8.-Cantidad-de-pacientes-en-UTI-/-CI-y-UCI/CTI-8\">8. Cantidad de pacientes en UTI / CI y UCI/CTI</a></span><ul class=\"toc-item\"><li><span><a href=\"#8.1.-Cantidad-de-pacientes-en-UTI-/UCI-en-Chile\" data-toc-modified-id=\"8.1.-Cantidad-de-pacientes-en-UTI-/UCI-en-Chile-8.1\">8.1. Cantidad de pacientes en UTI /UCI en Chile</a></span></li><li><span><a href=\"#8.2.-Cantidad-de-pacientes-en-CI-/-CTI-en-Uruguay\" data-toc-modified-id=\"8.2.-Cantidad-de-pacientes-en-CI-/-CTI-en-Uruguay-8.2\">8.2. Cantidad de pacientes en CI / CTI en Uruguay</a></span></li><li><span><a href=\"#8.3.-Cantidad-de-pacientes-en-UTI/CI-y--UCI/-CTI-consolidado\" data-toc-modified-id=\"8.3.-Cantidad-de-pacientes-en-UTI/CI-y--UCI/-CTI-consolidado-8.3\">8.3. Cantidad de pacientes en UTI/CI y  UCI/ CTI consolidado</a></span></li></ul></li><br><li><span><a href=\"#9.-Niveles-de-riesgo-a-nivel-nacional\" data-toc-modified-id=\"9.-Niveles-de-riesgo-a-nivel-nacional-9\">9. Niveles de riesgo a nivel nacional</a></span><ul class=\"toc-item\"><li><span><a href=\"#9.1.-Niveles-de-riesgo-a-nivel-nacional-en-Chile\" data-toc-modified-id=\"9.1.-Niveles-de-riesgo-a-nivel-nacional-en-Chile-9.1\">9.1. Niveles de riesgo a nivel nacional en Chile</a></span></li><li><span><a href=\"#9.2.-Niveles-de-riesgo-a-nivel-nacional-en-Uruguay\" data-toc-modified-id=\"9.2.-Niveles-de-riesgo-a-nivel-nacional-en-Uruguay-9.2\">9.2. Niveles de riesgo a nivel nacional en Uruguay</a></span></li><li><span><a href=\"#9.3.-Niveles-de-riesgo-a-nivel-nacional-consolidado\" data-toc-modified-id=\"9.3.-Niveles-de-riesgo-a-nivel-nacional-consolidado-9.3\">9.3. Niveles de riesgo a nivel nacional consolidado</a></span></li></ul></li><br><li><span><a href=\"#10.-Casos-activos-y-nivel-de-riesgo-a-nivel-regional/departamental\" data-toc-modified-id=\"10.-Casos-activos-y-nivel-de-riesgo-a-nivel-regional/departamental-10\">10. Casos activos y nivel de riesgo a nivel regional/departamental</a></span><ul class=\"toc-item\"><li><span><a href=\"#10.1.-Casos-activos-y-nivel-de-riesgo-a-nivel-regional-en-Chile\" data-toc-modified-id=\"10.1.-Casos-activos-y-nivel-de-riesgo-a-nivel-regional-en-Chile-10.1\">10.1. Casos activos y nivel de riesgo a nivel regional en Chile</a></span></li><li><span><a href=\"#10.2.-Casos-activos-y-nivel-de-riesgo-a-nivel-departamental-en-Uruguay\" data-toc-modified-id=\"10.2.-Casos-activos-y-nivel-de-riesgo-a-nivel-departamental-en-Uruguay-10.2\">10.2. Casos activos y nivel de riesgo a nivel departamental en Uruguay</a></span></li></ul></li><br><li><span><a href=\"#11.-Total-vacunaciones\" data-toc-modified-id=\"11.-Total-vacunaciones-11\">11. Total vacunaciones</a></span><ul class=\"toc-item\"><li><span><a href=\"#11.1.-Total-vacunaciones-en-Chile\" data-toc-modified-id=\"11.1.-Total-vacunaciones-en-Chile-11.1\">11.1. Total vacunaciones en Chile</a></span><ul class=\"toc-item\"><li><span><a href=\"#11.1.1.--Total-de-vacunas-colocadas-diariamente\" data-toc-modified-id=\"11.1.1.--Total-de-vacunas-colocadas-diariamente-11.1.1\">11.1.1.  Total de vacunas colocadas diariamente</a></span></li><li><span><a href=\"#11.1.2.-Acumulado-de-vacunas-colocadas\" data-toc-modified-id=\"11.1.2.-Acumulado-de-vacunas-colocadas-11.1.2\">11.1.2. Acumulado de vacunas colocadas</a></span></li><li><span><a href=\"#11.1.3.-Porcentaje-de-la-población-vacunada\" data-toc-modified-id=\"11.1.3.-Porcentaje-de-la-población-vacunada-11.1.3\">11.1.3. Porcentaje de la población vacunada</a></span></li></ul></li><li><span><a href=\"#11.2.-Total-vacunaciones-en-Uruguay\" data-toc-modified-id=\"11.2.-Total-vacunaciones-en-Uruguay-11.2\">11.2. Total vacunaciones en Uruguay</a></span><ul class=\"toc-item\"><li><span><a href=\"#11.2.1.-Acumulado-de-vacunas-colocadas\" data-toc-modified-id=\"11.2.1.-Acumulado-de-vacunas-colocadas-11.2.1\">11.2.1. Acumulado de vacunas colocadas</a></span></li><li><span><a href=\"#11.2.2.-Total-de-vacunas-colocadas-diariamente\" data-toc-modified-id=\"11.2.2.-Total-de-vacunas-colocadas-diariamente-11.2.2\">11.2.2. Total de vacunas colocadas diariamente</a></span></li><li><span><a href=\"#11.2.3.-Porcentaje-de-la-población-vacunada\" data-toc-modified-id=\"11.2.3.-Porcentaje-de-la-población-vacunada-11.2.3\">11.2.3. Porcentaje de la población vacunada</a></span></li></ul></li><li><span><a href=\"#11.3.--Consolidado-de-las-vacunas-colocadas\" data-toc-modified-id=\"11.3.--Consolidado-de-las-vacunas-colocadas-11.3\">11.3.  Consolidado de las vacunas colocadas</a></span><ul class=\"toc-item\"><li><span><a href=\"#11.3.1.--Total-de-vacunas-colocadas-diariamente-consolidado\" data-toc-modified-id=\"11.3.1.--Total-de-vacunas-colocadas-diariamente-consolidado-11.3.1\">11.3.1.  Total de vacunas colocadas diariamente consolidado</a></span></li><li><span><a href=\"#11.3.2.--Acumulado-de-las-vacunas-colocadas-consolidado\" data-toc-modified-id=\"11.3.2.--Acumulado-de-las-vacunas-colocadas-consolidado-11.3.2\">11.3.2.  Acumulado de las vacunas colocadas consolidado</a></span></li><li><span><a href=\"#11.3.3.--Porcentaje-de-la-población-vacunada-consolidado\" data-toc-modified-id=\"11.3.3.--Porcentaje-de-la-población-vacunada-consolidado-11.3.3\">11.3.3.  Porcentaje de la población vacunada consolidado</a></span></li></ul></li></ul></li><br><li><span><a href=\"#12.-Vacunaciones-por-rango-etario\" data-toc-modified-id=\"12.-Vacunaciones-por-rango-etario-12\">12. Vacunaciones por rango etario</a></span><ul class=\"toc-item\"><li><span><a href=\"#12.1.-Vacunaciones-por-rango-etario-en-Chile\" data-toc-modified-id=\"12.1.-Vacunaciones-por-rango-etario-en-Chile-12.1\">12.1. Vacunaciones por rango etario en Chile</a></span><ul class=\"toc-item\"><li><span><a href=\"#12.1.1.-Vacunaciones-diarias-de-dosis-única-por-rango-etario\" data-toc-modified-id=\"12.1.1.-Vacunaciones-diarias-de-dosis-única-por-rango-etario-12.1.1\">12.1.1. Vacunaciones diarias de dosis única por rango etario</a></span></li><li><span><a href=\"#12.1.2.-Primeras-dosis-diarias-por-rango-etario\" data-toc-modified-id=\"12.1.2.-Primeras-dosis-diarias-por-rango-etario-12.1.2\">12.1.2. Primeras dosis diarias por rango etario</a></span></li><li><span><a href=\"#12.1.3.-Segundas-dosis-diarias-por-rango-etario\" data-toc-modified-id=\"12.1.3.-Segundas-dosis-diarias-por-rango-etario-12.1.3\">12.1.3. Segundas dosis diarias por rango etario</a></span></li><li><span><a href=\"#12.1.4.-Vacunaciones-completas-diarias-por-rango-etario\" data-toc-modified-id=\"12.1.4.-Vacunaciones-completas-diarias-por-rango-etario-12.1.4\">12.1.4. Vacunaciones completas diarias por rango etario</a></span></li><li><span><a href=\"#12.1.5.-Consolidado-de-vacunaciones-diarias-por-rango-etario\" data-toc-modified-id=\"12.1.5.-Consolidado-de-vacunaciones-diarias-por-rango-etario-12.1.5\">12.1.5. Consolidado de vacunaciones diarias por rango etario</a></span></li><li><span><a href=\"#12.1.6.-Consolidado-del-acumulado-de-vacunaciones-por-rango-etario\" data-toc-modified-id=\"12.1.6.-Consolidado-del-acumulado-de-vacunaciones-por-rango-etario-12.1.6\">12.1.6. Consolidado del acumulado de vacunaciones por rango etario</a></span></li><li><span><a href=\"#12.1.7.-Cobertura-de-la-población-por-rango-etario\" data-toc-modified-id=\"12.1.7.-Cobertura-de-la-población-por-rango-etario-12.1.7\">12.1.7. Cobertura de la población por rango etario</a></span></li></ul></li><li><span><a href=\"#12.2.-Vacunaciones-por-rango-etario-en-Uruguay\" data-toc-modified-id=\"12.2.-Vacunaciones-por-rango-etario-en-Uruguay-12.2\">12.2. Vacunaciones por rango etario en Uruguay</a></span><ul class=\"toc-item\"><li><span><a href=\"#12.2.1.-Total-vacunaciones-realizadas-al-9-de-julio-por-rango-etario\" data-toc-modified-id=\"12.2.1.-Total-vacunaciones-realizadas-al-9-de-julio-por-rango-etario-12.2.1\">12.2.1. Total vacunaciones realizadas al 9 de julio por rango etario</a></span></li><li><span><a href=\"#12.2.2.-Cobertura-de-la-población-al-9-de-julio-por-rango-etario\" data-toc-modified-id=\"12.2.2.-Cobertura-de-la-población-al-9-de-julio-por-rango-etario-12.2.2\">12.2.2. Cobertura de la población al 9 de julio por rango etario</a></span></li></ul></li></ul></li><br><li><span><a href=\"#13.-Porcentaje-de-vacunaciones-por-fabricante\" data-toc-modified-id=\"13.-Porcentaje-de-vacunaciones-por-fabricante-13\">13. Porcentaje de vacunaciones por fabricante</a></span><ul class=\"toc-item\"><li><span><a href=\"#13.1.-Porcentaje-de-vacunaciones-por-fabricante-en-Chile\" data-toc-modified-id=\"13.1.-Porcentaje-de-vacunaciones-por-fabricante-en-Chile-13.1\">13.1. Porcentaje de vacunaciones por fabricante en Chile</a></span><ul class=\"toc-item\"><li><span><a href=\"#13.1.1.-Vacunaciones-completas\" data-toc-modified-id=\"13.1.1.-Vacunaciones-completas-13.1.1\">13.1.1. Vacunaciones completas</a></span></li><li><span><a href=\"#13.1.2.-Vacunaciones-de-refuerzo\" data-toc-modified-id=\"13.1.2.-Vacunaciones-de-refuerzo-13.1.2\">13.1.2. Vacunaciones de refuerzo</a></span></li></ul></li><li><span><a href=\"#13.2.-Porcentaje-de-vacunaciones-por-fabricante-en-Uruguay\" data-toc-modified-id=\"13.2.-Porcentaje-de-vacunaciones-por-fabricante-en-Uruguay-13.2\">13.2. Porcentaje de vacunaciones por fabricante en Uruguay</a></span><ul class=\"toc-item\"><li><span><a href=\"#13.2.1.-Vacunaciones-completas\" data-toc-modified-id=\"13.2.1.-Vacunaciones-completas-13.2.1\">13.2.1. Vacunaciones completas</a></span></li><li><span><a href=\"#13.2.2.-Vacunaciones-de-refuerzo\" data-toc-modified-id=\"13.2.2.-Vacunaciones-de-refuerzo-13.2.2\">13.2.2. Vacunaciones de refuerzo</a></span></li></ul></li><li><span><a href=\"#13.3.-Porcentaje-de-vacunaciones-por-fabricante-consolidado\" data-toc-modified-id=\"13.3.-Porcentaje-de-vacunaciones-por-fabricante-consolidado-13.3\">13.3. Porcentaje de vacunaciones por fabricante consolidado</a></span></li><br><li><span><a href=\"#Exportación-de-los-dataframes-a-excel\" data-toc-modified-id=\"Exportación-de-los-dataframes-a-excel-13.4\">Exportación de los dataframes a excel</a></span></li></ul></li></ul></div>"
   ]
  },
  {
   "cell_type": "code",
   "execution_count": 1,
   "metadata": {},
   "outputs": [
    {
     "name": "stdout",
     "output_type": "stream",
     "text": [
      "Fecha de la última actualización: 21/09/2021\n"
     ]
    }
   ],
   "source": [
    "import time\n",
    "print('Fecha de la última actualización: %s' %time.strftime('%d/%m/%Y'))"
   ]
  },
  {
   "cell_type": "code",
   "execution_count": 2,
   "metadata": {},
   "outputs": [],
   "source": [
    "import pandas as pd\n",
    "import requests"
   ]
  },
  {
   "cell_type": "code",
   "execution_count": 3,
   "metadata": {},
   "outputs": [],
   "source": [
    "# Se define una función para descargar los archivos que se utilizan en este análisis y se actualizan diariamente\n",
    "\n",
    "def url_response(url):\n",
    "    path, url = url\n",
    "    r = requests.get(url, stream = True)\n",
    "\n",
    "    with open(path, 'wb') as f:\n",
    "\n",
    "        for ch in r:\n",
    "            f.write(ch)"
   ]
  },
  {
   "cell_type": "code",
   "execution_count": 4,
   "metadata": {},
   "outputs": [],
   "source": [
    "# urls es un listado de tuplas que contienen la dirección local donde serán almacenados los archivos y la dirección url desde \n",
    "# la cual se decarga el archivo.\n",
    "\n",
    "urls = [(r\"Datos Covid Chile\\CamasHospital_Diario_T.csv\",\"https://raw.githubusercontent.com/MinCiencia/Datos-COVID19/master/output/producto24/CamasHospital_Diario_T.csv\"),\n",
    "       (r\"Datos Covid Chile\\CasosNuevosCumulativo_T.csv\",\"https://raw.githubusercontent.com/MinCiencia/Datos-COVID19/master/output/producto13/CasosNuevosCumulativo_T.csv\"),\n",
    "       (r\"Datos Covid Chile\\CasosTotalesCumulativo_T.csv\",\"https://raw.githubusercontent.com/MinCiencia/Datos-COVID19/master/output/producto3/CasosTotalesCumulativo_T.csv\"),\n",
    "       (r\"Datos Covid Chile\\Positividad_Diaria_Media_T.csv\",\"https://raw.githubusercontent.com/MinCiencia/Datos-COVID19/master/output/producto49/Positividad_Diaria_Media_T.csv\"),\n",
    "       (r\"Datos Covid Chile\\TotalesNacionales_T.csv\",\"https://raw.githubusercontent.com/MinCiencia/Datos-COVID19/master/output/producto5/TotalesNacionales_T.csv\"),\n",
    "       (r\"Datos Covid Chile\\TotalesPorRegion_std.csv\",\"https://raw.githubusercontent.com/MinCiencia/Datos-COVID19/master/output/producto3/TotalesPorRegion_std.csv\"),\n",
    "       (r\"Datos Covid Chile\\vacunacion_fabricantes_1eraDosis_T.csv\",\"https://raw.githubusercontent.com/MinCiencia/Datos-COVID19/master/output/producto83/vacunacion_fabricantes_1eraDosis_T.csv\"),\n",
    "       (r\"Datos Covid Chile\\vacunacion_fabricantes_2daDosis_T.csv\",\"https://raw.githubusercontent.com/MinCiencia/Datos-COVID19/master/output/producto83/vacunacion_fabricantes_2daDosis_T.csv\"),\n",
    "       (r\"Datos Covid Chile\\vacunacion_fabricantes_Refuerzo_T.csv\",\"https://raw.githubusercontent.com/MinCiencia/Datos-COVID19/master/output/producto83/vacunacion_fabricantes_Refuerzo_T.csv\"),\n",
    "       (r\"Datos Covid Chile\\vacunacion_fabricantes_UnicaDosis_T.csv\",\"https://raw.githubusercontent.com/MinCiencia/Datos-COVID19/master/output/producto83/vacunacion_fabricantes_UnicaDosis_T.csv\"),\n",
    "       (r\"Datos Covid Chile\\vacunados_edad_fecha_1eraDosis_T.csv\",\"https://raw.githubusercontent.com/MinCiencia/Datos-COVID19/master/output/producto78/vacunados_edad_fecha_1eraDosis_T.csv\"),\n",
    "       (r\"Datos Covid Chile\\vacunados_edad_fecha_2daDosis_T.csv\",\"https://raw.githubusercontent.com/MinCiencia/Datos-COVID19/master/output/producto78/vacunados_edad_fecha_2daDosis_T.csv\"),\n",
    "       (r\"Datos Covid Chile\\vacunados_edad_fecha_Refuerzo_T.csv\",\"https://github.com/MinCiencia/Datos-COVID19/blob/master/output/producto78/vacunados_edad_fecha_Refuerzo_T.csv\"),\n",
    "       (r\"Datos Covid Chile\\vacunados_edad_fecha_UnicaDosis_T.csv\",\"https://raw.githubusercontent.com/MinCiencia/Datos-COVID19/master/output/producto78/vacunados_edad_fecha_UnicaDosis_T.csv\"),\n",
    "       (r\"Datos covid Uruguay\\estadisticasUY.csv\",\"https://raw.githubusercontent.com/GUIAD-COVID/datos-y-visualizaciones-GUIAD/master/datos/estadisticasUY.csv\"),\n",
    "       (r\"Datos covid Uruguay\\estadisticasUY_porDepto_detalle.csv\",\"https://raw.githubusercontent.com/GUIAD-COVID/datos-y-visualizaciones-GUIAD/master/datos/estadisticasUY_porDepto_detalle.csv\"),\n",
    "       (r\"Datos covid Uruguay\\Uruguay.csv\",\"https://raw.githubusercontent.com/3dgiordano/covid-19-uy-vacc-data/main/data/Uruguay.csv\")]"
   ]
  },
  {
   "cell_type": "code",
   "execution_count": 5,
   "metadata": {},
   "outputs": [],
   "source": [
    "for x in urls:\n",
    "    url_response (x)"
   ]
  },
  {
   "cell_type": "markdown",
   "metadata": {},
   "source": [
    "<a id = 'Sección1'></a>"
   ]
  },
  {
   "cell_type": "markdown",
   "metadata": {},
   "source": [
    "## 1. Datos del coronavirus en Chile"
   ]
  },
  {
   "cell_type": "markdown",
   "metadata": {},
   "source": [
    "En este apartado se importan los datos relacionados con el coronavirus en Chile, los cuales son publicados por el Ministerio de Ciencia, Tecnología, Conocimiento e Innovación de Chile (MICITEC) a través de su página web [Base de Datos COVID-19](https://www.minciencia.gob.cl/covid19/)."
   ]
  },
  {
   "cell_type": "markdown",
   "metadata": {},
   "source": [
    "<a id = 'Sección1.1'></a>"
   ]
  },
  {
   "cell_type": "markdown",
   "metadata": {},
   "source": [
    "### 1.1. Datos generales a nivel nacional "
   ]
  },
  {
   "cell_type": "code",
   "execution_count": 6,
   "metadata": {},
   "outputs": [],
   "source": [
    "global_data_CH = pd.read_csv (r\"Datos Covid Chile\\TotalesNacionales_T.csv\",\n",
    "                    usecols = ['Fecha', 'Casos totales', 'Fallecidos', 'Casos activos', 'Casos nuevos totales'] )"
   ]
  },
  {
   "cell_type": "code",
   "execution_count": 7,
   "metadata": {},
   "outputs": [],
   "source": [
    "# Se inserta al dataframe la columna 'País', la cual será utilizada posteriormente para unir los datos de Chile y Uruguay.\n",
    "\n",
    "global_data_CH.insert (0, 'País', 'Chile')"
   ]
  },
  {
   "cell_type": "code",
   "execution_count": 8,
   "metadata": {},
   "outputs": [],
   "source": [
    "# Cálculo de la cantidad de fallecidos diariamente por covid.\n",
    "\n",
    "global_data_CH.insert (4, 'Cant de fallecidos', global_data_CH ['Fallecidos'].diff())"
   ]
  },
  {
   "cell_type": "code",
   "execution_count": 9,
   "metadata": {},
   "outputs": [],
   "source": [
    "# Cambio de nombre de la columna 'Fallecidos' a 'Total fallecidos' para aclarar que se trata de la cantidad total de fallecidos a la fecha.\n",
    "\n",
    "global_data_CH.rename (columns = {'Fallecidos': 'Total fallecidos'}, inplace = True)"
   ]
  },
  {
   "cell_type": "code",
   "execution_count": 10,
   "metadata": {},
   "outputs": [],
   "source": [
    "# Se covierte el tipo de dato de la columna 'Fecha' de object a datetime.\n",
    "\n",
    "global_data_CH ['Fecha'] = pd.to_datetime (global_data_CH ['Fecha'], errors = 'coerce')"
   ]
  },
  {
   "cell_type": "code",
   "execution_count": 11,
   "metadata": {},
   "outputs": [],
   "source": [
    "global_data_CH.fillna(0,inplace=True)"
   ]
  },
  {
   "cell_type": "code",
   "execution_count": 12,
   "metadata": {
    "scrolled": true
   },
   "outputs": [
    {
     "data": {
      "text/html": [
       "<div>\n",
       "<style scoped>\n",
       "    .dataframe tbody tr th:only-of-type {\n",
       "        vertical-align: middle;\n",
       "    }\n",
       "\n",
       "    .dataframe tbody tr th {\n",
       "        vertical-align: top;\n",
       "    }\n",
       "\n",
       "    .dataframe thead th {\n",
       "        text-align: right;\n",
       "    }\n",
       "</style>\n",
       "<table border=\"1\" class=\"dataframe\">\n",
       "  <thead>\n",
       "    <tr style=\"text-align: right;\">\n",
       "      <th></th>\n",
       "      <th>País</th>\n",
       "      <th>Fecha</th>\n",
       "      <th>Casos totales</th>\n",
       "      <th>Total fallecidos</th>\n",
       "      <th>Cant de fallecidos</th>\n",
       "      <th>Casos activos</th>\n",
       "      <th>Casos nuevos totales</th>\n",
       "    </tr>\n",
       "  </thead>\n",
       "  <tbody>\n",
       "    <tr>\n",
       "      <th>564</th>\n",
       "      <td>Chile</td>\n",
       "      <td>2021-09-17</td>\n",
       "      <td>1646403.0</td>\n",
       "      <td>37318.0</td>\n",
       "      <td>25.0</td>\n",
       "      <td>3460.0</td>\n",
       "      <td>594.0</td>\n",
       "    </tr>\n",
       "    <tr>\n",
       "      <th>565</th>\n",
       "      <td>Chile</td>\n",
       "      <td>2021-09-18</td>\n",
       "      <td>1646994.0</td>\n",
       "      <td>37339.0</td>\n",
       "      <td>21.0</td>\n",
       "      <td>3507.0</td>\n",
       "      <td>610.0</td>\n",
       "    </tr>\n",
       "    <tr>\n",
       "      <th>566</th>\n",
       "      <td>Chile</td>\n",
       "      <td>2021-09-19</td>\n",
       "      <td>1647469.0</td>\n",
       "      <td>37359.0</td>\n",
       "      <td>20.0</td>\n",
       "      <td>3504.0</td>\n",
       "      <td>491.0</td>\n",
       "    </tr>\n",
       "    <tr>\n",
       "      <th>567</th>\n",
       "      <td>Chile</td>\n",
       "      <td>2021-09-20</td>\n",
       "      <td>1647746.0</td>\n",
       "      <td>37367.0</td>\n",
       "      <td>8.0</td>\n",
       "      <td>3343.0</td>\n",
       "      <td>280.0</td>\n",
       "    </tr>\n",
       "    <tr>\n",
       "      <th>568</th>\n",
       "      <td>Chile</td>\n",
       "      <td>2021-09-21</td>\n",
       "      <td>1648026.0</td>\n",
       "      <td>37374.0</td>\n",
       "      <td>7.0</td>\n",
       "      <td>3246.0</td>\n",
       "      <td>291.0</td>\n",
       "    </tr>\n",
       "  </tbody>\n",
       "</table>\n",
       "</div>"
      ],
      "text/plain": [
       "      País      Fecha  Casos totales  Total fallecidos  Cant de fallecidos  \\\n",
       "564  Chile 2021-09-17      1646403.0           37318.0                25.0   \n",
       "565  Chile 2021-09-18      1646994.0           37339.0                21.0   \n",
       "566  Chile 2021-09-19      1647469.0           37359.0                20.0   \n",
       "567  Chile 2021-09-20      1647746.0           37367.0                 8.0   \n",
       "568  Chile 2021-09-21      1648026.0           37374.0                 7.0   \n",
       "\n",
       "     Casos activos  Casos nuevos totales  \n",
       "564         3460.0                 594.0  \n",
       "565         3507.0                 610.0  \n",
       "566         3504.0                 491.0  \n",
       "567         3343.0                 280.0  \n",
       "568         3246.0                 291.0  "
      ]
     },
     "execution_count": 12,
     "metadata": {},
     "output_type": "execute_result"
    }
   ],
   "source": [
    "global_data_CH.tail()"
   ]
  },
  {
   "cell_type": "markdown",
   "metadata": {},
   "source": [
    "<a id = 'Sección1.2'></a>"
   ]
  },
  {
   "cell_type": "markdown",
   "metadata": {},
   "source": [
    "### 1.2. Cantidad de test realizados y positividad"
   ]
  },
  {
   "cell_type": "markdown",
   "metadata": {},
   "source": [
    "La positividad en esta fuente de datos corresponde a casos positos/tests realizados."
   ]
  },
  {
   "cell_type": "code",
   "execution_count": 13,
   "metadata": {},
   "outputs": [],
   "source": [
    "test_CH = pd.read_csv (r\"Datos Covid Chile\\Positividad_Diaria_Media_T.csv\", \n",
    "                      usecols = ['Fecha', 'pcr', 'positividad pcr'])"
   ]
  },
  {
   "cell_type": "code",
   "execution_count": 14,
   "metadata": {},
   "outputs": [],
   "source": [
    "test_CH ['Fecha'] = pd.to_datetime (test_CH ['Fecha'], errors = 'coerce')"
   ]
  },
  {
   "cell_type": "code",
   "execution_count": 15,
   "metadata": {},
   "outputs": [],
   "source": [
    "test_CH.insert (0, 'País', 'Chile')"
   ]
  },
  {
   "cell_type": "code",
   "execution_count": 16,
   "metadata": {
    "scrolled": true
   },
   "outputs": [
    {
     "data": {
      "text/html": [
       "<div>\n",
       "<style scoped>\n",
       "    .dataframe tbody tr th:only-of-type {\n",
       "        vertical-align: middle;\n",
       "    }\n",
       "\n",
       "    .dataframe tbody tr th {\n",
       "        vertical-align: top;\n",
       "    }\n",
       "\n",
       "    .dataframe thead th {\n",
       "        text-align: right;\n",
       "    }\n",
       "</style>\n",
       "<table border=\"1\" class=\"dataframe\">\n",
       "  <thead>\n",
       "    <tr style=\"text-align: right;\">\n",
       "      <th></th>\n",
       "      <th>País</th>\n",
       "      <th>Fecha</th>\n",
       "      <th>pcr</th>\n",
       "      <th>positividad pcr</th>\n",
       "    </tr>\n",
       "  </thead>\n",
       "  <tbody>\n",
       "    <tr>\n",
       "      <th>541</th>\n",
       "      <td>Chile</td>\n",
       "      <td>2021-09-17</td>\n",
       "      <td>51244.0</td>\n",
       "      <td>0.0103</td>\n",
       "    </tr>\n",
       "    <tr>\n",
       "      <th>542</th>\n",
       "      <td>Chile</td>\n",
       "      <td>2021-09-18</td>\n",
       "      <td>48209.0</td>\n",
       "      <td>0.0115</td>\n",
       "    </tr>\n",
       "    <tr>\n",
       "      <th>543</th>\n",
       "      <td>Chile</td>\n",
       "      <td>2021-09-19</td>\n",
       "      <td>33906.0</td>\n",
       "      <td>0.0129</td>\n",
       "    </tr>\n",
       "    <tr>\n",
       "      <th>544</th>\n",
       "      <td>Chile</td>\n",
       "      <td>2021-09-20</td>\n",
       "      <td>19943.0</td>\n",
       "      <td>0.0117</td>\n",
       "    </tr>\n",
       "    <tr>\n",
       "      <th>545</th>\n",
       "      <td>Chile</td>\n",
       "      <td>2021-09-21</td>\n",
       "      <td>16753.0</td>\n",
       "      <td>0.0135</td>\n",
       "    </tr>\n",
       "  </tbody>\n",
       "</table>\n",
       "</div>"
      ],
      "text/plain": [
       "      País      Fecha      pcr  positividad pcr\n",
       "541  Chile 2021-09-17  51244.0           0.0103\n",
       "542  Chile 2021-09-18  48209.0           0.0115\n",
       "543  Chile 2021-09-19  33906.0           0.0129\n",
       "544  Chile 2021-09-20  19943.0           0.0117\n",
       "545  Chile 2021-09-21  16753.0           0.0135"
      ]
     },
     "execution_count": 16,
     "metadata": {},
     "output_type": "execute_result"
    }
   ],
   "source": [
    "test_CH.tail()"
   ]
  },
  {
   "cell_type": "markdown",
   "metadata": {},
   "source": [
    "<a id = 'Sección1.3'></a>"
   ]
  },
  {
   "cell_type": "markdown",
   "metadata": {},
   "source": [
    "### 1.3. Datos UTI/UCI a nivel nacional"
   ]
  },
  {
   "cell_type": "code",
   "execution_count": 17,
   "metadata": {},
   "outputs": [],
   "source": [
    "UCI_CH = pd.read_csv (r'Datos Covid Chile\\CamasHospital_Diario_T.csv',\n",
    "                     usecols = ['Tipo de cama', 'UTI', 'UCI'])"
   ]
  },
  {
   "cell_type": "code",
   "execution_count": 18,
   "metadata": {},
   "outputs": [],
   "source": [
    "UCI_CH.rename (columns = {'Tipo de cama': 'Fecha'}, inplace = True)"
   ]
  },
  {
   "cell_type": "code",
   "execution_count": 19,
   "metadata": {},
   "outputs": [],
   "source": [
    "UCI_CH.insert (0, 'País', 'Chile')"
   ]
  },
  {
   "cell_type": "code",
   "execution_count": 20,
   "metadata": {},
   "outputs": [],
   "source": [
    "UCI_CH ['Fecha'] = pd.to_datetime (UCI_CH ['Fecha'], errors = 'coerce')"
   ]
  },
  {
   "cell_type": "code",
   "execution_count": 21,
   "metadata": {},
   "outputs": [
    {
     "data": {
      "text/html": [
       "<div>\n",
       "<style scoped>\n",
       "    .dataframe tbody tr th:only-of-type {\n",
       "        vertical-align: middle;\n",
       "    }\n",
       "\n",
       "    .dataframe tbody tr th {\n",
       "        vertical-align: top;\n",
       "    }\n",
       "\n",
       "    .dataframe thead th {\n",
       "        text-align: right;\n",
       "    }\n",
       "</style>\n",
       "<table border=\"1\" class=\"dataframe\">\n",
       "  <thead>\n",
       "    <tr style=\"text-align: right;\">\n",
       "      <th></th>\n",
       "      <th>País</th>\n",
       "      <th>Fecha</th>\n",
       "      <th>UTI</th>\n",
       "      <th>UCI</th>\n",
       "    </tr>\n",
       "  </thead>\n",
       "  <tbody>\n",
       "    <tr>\n",
       "      <th>0</th>\n",
       "      <td>Chile</td>\n",
       "      <td>2020-04-16</td>\n",
       "      <td>111</td>\n",
       "      <td>384</td>\n",
       "    </tr>\n",
       "    <tr>\n",
       "      <th>1</th>\n",
       "      <td>Chile</td>\n",
       "      <td>2020-04-17</td>\n",
       "      <td>168</td>\n",
       "      <td>407</td>\n",
       "    </tr>\n",
       "    <tr>\n",
       "      <th>2</th>\n",
       "      <td>Chile</td>\n",
       "      <td>2020-04-18</td>\n",
       "      <td>180</td>\n",
       "      <td>380</td>\n",
       "    </tr>\n",
       "    <tr>\n",
       "      <th>3</th>\n",
       "      <td>Chile</td>\n",
       "      <td>2020-04-19</td>\n",
       "      <td>134</td>\n",
       "      <td>373</td>\n",
       "    </tr>\n",
       "    <tr>\n",
       "      <th>4</th>\n",
       "      <td>Chile</td>\n",
       "      <td>2020-04-20</td>\n",
       "      <td>129</td>\n",
       "      <td>377</td>\n",
       "    </tr>\n",
       "  </tbody>\n",
       "</table>\n",
       "</div>"
      ],
      "text/plain": [
       "    País      Fecha  UTI  UCI\n",
       "0  Chile 2020-04-16  111  384\n",
       "1  Chile 2020-04-17  168  407\n",
       "2  Chile 2020-04-18  180  380\n",
       "3  Chile 2020-04-19  134  373\n",
       "4  Chile 2020-04-20  129  377"
      ]
     },
     "execution_count": 21,
     "metadata": {},
     "output_type": "execute_result"
    }
   ],
   "source": [
    "UCI_CH.head()"
   ]
  },
  {
   "cell_type": "markdown",
   "metadata": {},
   "source": [
    "<a id = 'Sección1.4'></a>"
   ]
  },
  {
   "cell_type": "markdown",
   "metadata": {},
   "source": [
    "### 1.4. Nuevos casos por región"
   ]
  },
  {
   "cell_type": "code",
   "execution_count": 22,
   "metadata": {},
   "outputs": [],
   "source": [
    "new_cases_per_region_CH = pd.read_csv (r\"Datos Covid Chile\\CasosNuevosCumulativo_T.csv\")"
   ]
  },
  {
   "cell_type": "code",
   "execution_count": 23,
   "metadata": {},
   "outputs": [],
   "source": [
    "new_cases_per_region_CH.rename (columns = {'Region': 'Fecha'}, inplace = True)"
   ]
  },
  {
   "cell_type": "code",
   "execution_count": 24,
   "metadata": {},
   "outputs": [],
   "source": [
    "new_cases_per_region_CH ['Fecha'] = pd.to_datetime (new_cases_per_region_CH ['Fecha'], errors = 'coerce')"
   ]
  },
  {
   "cell_type": "code",
   "execution_count": 25,
   "metadata": {},
   "outputs": [
    {
     "data": {
      "text/html": [
       "<div>\n",
       "<style scoped>\n",
       "    .dataframe tbody tr th:only-of-type {\n",
       "        vertical-align: middle;\n",
       "    }\n",
       "\n",
       "    .dataframe tbody tr th {\n",
       "        vertical-align: top;\n",
       "    }\n",
       "\n",
       "    .dataframe thead th {\n",
       "        text-align: right;\n",
       "    }\n",
       "</style>\n",
       "<table border=\"1\" class=\"dataframe\">\n",
       "  <thead>\n",
       "    <tr style=\"text-align: right;\">\n",
       "      <th></th>\n",
       "      <th>Fecha</th>\n",
       "      <th>Arica y Parinacota</th>\n",
       "      <th>Tarapacá</th>\n",
       "      <th>Antofagasta</th>\n",
       "      <th>Atacama</th>\n",
       "      <th>Coquimbo</th>\n",
       "      <th>Valparaíso</th>\n",
       "      <th>Metropolitana</th>\n",
       "      <th>O’Higgins</th>\n",
       "      <th>Maule</th>\n",
       "      <th>Ñuble</th>\n",
       "      <th>Biobío</th>\n",
       "      <th>Araucanía</th>\n",
       "      <th>Los Ríos</th>\n",
       "      <th>Los Lagos</th>\n",
       "      <th>Aysén</th>\n",
       "      <th>Magallanes</th>\n",
       "      <th>Total</th>\n",
       "    </tr>\n",
       "  </thead>\n",
       "  <tbody>\n",
       "    <tr>\n",
       "      <th>563</th>\n",
       "      <td>2021-09-17</td>\n",
       "      <td>29.0</td>\n",
       "      <td>21.0</td>\n",
       "      <td>35.0</td>\n",
       "      <td>7.0</td>\n",
       "      <td>8.0</td>\n",
       "      <td>26.0</td>\n",
       "      <td>302.0</td>\n",
       "      <td>24.0</td>\n",
       "      <td>29.0</td>\n",
       "      <td>11.0</td>\n",
       "      <td>49.0</td>\n",
       "      <td>10.0</td>\n",
       "      <td>10.0</td>\n",
       "      <td>24.0</td>\n",
       "      <td>9.0</td>\n",
       "      <td>0.0</td>\n",
       "      <td>594.0</td>\n",
       "    </tr>\n",
       "    <tr>\n",
       "      <th>564</th>\n",
       "      <td>2021-09-18</td>\n",
       "      <td>33.0</td>\n",
       "      <td>30.0</td>\n",
       "      <td>29.0</td>\n",
       "      <td>10.0</td>\n",
       "      <td>18.0</td>\n",
       "      <td>33.0</td>\n",
       "      <td>286.0</td>\n",
       "      <td>16.0</td>\n",
       "      <td>38.0</td>\n",
       "      <td>10.0</td>\n",
       "      <td>42.0</td>\n",
       "      <td>20.0</td>\n",
       "      <td>9.0</td>\n",
       "      <td>21.0</td>\n",
       "      <td>14.0</td>\n",
       "      <td>1.0</td>\n",
       "      <td>610.0</td>\n",
       "    </tr>\n",
       "    <tr>\n",
       "      <th>565</th>\n",
       "      <td>2021-09-19</td>\n",
       "      <td>30.0</td>\n",
       "      <td>16.0</td>\n",
       "      <td>25.0</td>\n",
       "      <td>1.0</td>\n",
       "      <td>16.0</td>\n",
       "      <td>25.0</td>\n",
       "      <td>234.0</td>\n",
       "      <td>13.0</td>\n",
       "      <td>18.0</td>\n",
       "      <td>8.0</td>\n",
       "      <td>46.0</td>\n",
       "      <td>10.0</td>\n",
       "      <td>6.0</td>\n",
       "      <td>34.0</td>\n",
       "      <td>9.0</td>\n",
       "      <td>0.0</td>\n",
       "      <td>491.0</td>\n",
       "    </tr>\n",
       "    <tr>\n",
       "      <th>566</th>\n",
       "      <td>2021-09-20</td>\n",
       "      <td>17.0</td>\n",
       "      <td>7.0</td>\n",
       "      <td>11.0</td>\n",
       "      <td>2.0</td>\n",
       "      <td>7.0</td>\n",
       "      <td>7.0</td>\n",
       "      <td>126.0</td>\n",
       "      <td>9.0</td>\n",
       "      <td>24.0</td>\n",
       "      <td>7.0</td>\n",
       "      <td>41.0</td>\n",
       "      <td>10.0</td>\n",
       "      <td>2.0</td>\n",
       "      <td>9.0</td>\n",
       "      <td>1.0</td>\n",
       "      <td>0.0</td>\n",
       "      <td>280.0</td>\n",
       "    </tr>\n",
       "    <tr>\n",
       "      <th>567</th>\n",
       "      <td>2021-09-21</td>\n",
       "      <td>16.0</td>\n",
       "      <td>4.0</td>\n",
       "      <td>19.0</td>\n",
       "      <td>5.0</td>\n",
       "      <td>7.0</td>\n",
       "      <td>14.0</td>\n",
       "      <td>152.0</td>\n",
       "      <td>5.0</td>\n",
       "      <td>16.0</td>\n",
       "      <td>2.0</td>\n",
       "      <td>25.0</td>\n",
       "      <td>7.0</td>\n",
       "      <td>3.0</td>\n",
       "      <td>15.0</td>\n",
       "      <td>1.0</td>\n",
       "      <td>0.0</td>\n",
       "      <td>291.0</td>\n",
       "    </tr>\n",
       "  </tbody>\n",
       "</table>\n",
       "</div>"
      ],
      "text/plain": [
       "         Fecha  Arica y Parinacota  Tarapacá  Antofagasta  Atacama  Coquimbo  \\\n",
       "563 2021-09-17                29.0      21.0         35.0      7.0       8.0   \n",
       "564 2021-09-18                33.0      30.0         29.0     10.0      18.0   \n",
       "565 2021-09-19                30.0      16.0         25.0      1.0      16.0   \n",
       "566 2021-09-20                17.0       7.0         11.0      2.0       7.0   \n",
       "567 2021-09-21                16.0       4.0         19.0      5.0       7.0   \n",
       "\n",
       "     Valparaíso  Metropolitana  O’Higgins  Maule  Ñuble  Biobío  Araucanía  \\\n",
       "563        26.0          302.0       24.0   29.0   11.0    49.0       10.0   \n",
       "564        33.0          286.0       16.0   38.0   10.0    42.0       20.0   \n",
       "565        25.0          234.0       13.0   18.0    8.0    46.0       10.0   \n",
       "566         7.0          126.0        9.0   24.0    7.0    41.0       10.0   \n",
       "567        14.0          152.0        5.0   16.0    2.0    25.0        7.0   \n",
       "\n",
       "     Los Ríos  Los Lagos  Aysén  Magallanes  Total  \n",
       "563      10.0       24.0    9.0         0.0  594.0  \n",
       "564       9.0       21.0   14.0         1.0  610.0  \n",
       "565       6.0       34.0    9.0         0.0  491.0  \n",
       "566       2.0        9.0    1.0         0.0  280.0  \n",
       "567       3.0       15.0    1.0         0.0  291.0  "
      ]
     },
     "execution_count": 25,
     "metadata": {},
     "output_type": "execute_result"
    }
   ],
   "source": [
    "new_cases_per_region_CH.tail()"
   ]
  },
  {
   "cell_type": "markdown",
   "metadata": {},
   "source": [
    "<a id = 'Sección1.5'></a>"
   ]
  },
  {
   "cell_type": "markdown",
   "metadata": {},
   "source": [
    "### 1.5. Total de casos por región"
   ]
  },
  {
   "cell_type": "code",
   "execution_count": 26,
   "metadata": {},
   "outputs": [],
   "source": [
    "total_cases_per_region_CH = pd.read_csv (r\"Datos Covid Chile\\CasosTotalesCumulativo_T.csv\")"
   ]
  },
  {
   "cell_type": "code",
   "execution_count": 27,
   "metadata": {},
   "outputs": [],
   "source": [
    "total_cases_per_region_CH.rename (columns = {'Region': 'Fecha'}, inplace = True)"
   ]
  },
  {
   "cell_type": "code",
   "execution_count": 28,
   "metadata": {},
   "outputs": [],
   "source": [
    "total_cases_per_region_CH ['Fecha'] = pd.to_datetime (total_cases_per_region_CH ['Fecha'], errors = 'coerce')"
   ]
  },
  {
   "cell_type": "code",
   "execution_count": 29,
   "metadata": {},
   "outputs": [
    {
     "data": {
      "text/html": [
       "<div>\n",
       "<style scoped>\n",
       "    .dataframe tbody tr th:only-of-type {\n",
       "        vertical-align: middle;\n",
       "    }\n",
       "\n",
       "    .dataframe tbody tr th {\n",
       "        vertical-align: top;\n",
       "    }\n",
       "\n",
       "    .dataframe thead th {\n",
       "        text-align: right;\n",
       "    }\n",
       "</style>\n",
       "<table border=\"1\" class=\"dataframe\">\n",
       "  <thead>\n",
       "    <tr style=\"text-align: right;\">\n",
       "      <th></th>\n",
       "      <th>Fecha</th>\n",
       "      <th>Arica y Parinacota</th>\n",
       "      <th>Tarapacá</th>\n",
       "      <th>Antofagasta</th>\n",
       "      <th>Atacama</th>\n",
       "      <th>Coquimbo</th>\n",
       "      <th>Valparaíso</th>\n",
       "      <th>Metropolitana</th>\n",
       "      <th>O’Higgins</th>\n",
       "      <th>Maule</th>\n",
       "      <th>Ñuble</th>\n",
       "      <th>Biobío</th>\n",
       "      <th>Araucanía</th>\n",
       "      <th>Los Ríos</th>\n",
       "      <th>Los Lagos</th>\n",
       "      <th>Aysén</th>\n",
       "      <th>Magallanes</th>\n",
       "      <th>Total</th>\n",
       "    </tr>\n",
       "  </thead>\n",
       "  <tbody>\n",
       "    <tr>\n",
       "      <th>563</th>\n",
       "      <td>2021-09-17</td>\n",
       "      <td>26911.0</td>\n",
       "      <td>41261.0</td>\n",
       "      <td>60923.0</td>\n",
       "      <td>27237.0</td>\n",
       "      <td>48533.0</td>\n",
       "      <td>122916.0</td>\n",
       "      <td>688130.0</td>\n",
       "      <td>68561.0</td>\n",
       "      <td>101467.0</td>\n",
       "      <td>35901.0</td>\n",
       "      <td>150914.0</td>\n",
       "      <td>98109.0</td>\n",
       "      <td>49280.0</td>\n",
       "      <td>88744.0</td>\n",
       "      <td>8218.0</td>\n",
       "      <td>29249.0</td>\n",
       "      <td>1646403.0</td>\n",
       "    </tr>\n",
       "    <tr>\n",
       "      <th>564</th>\n",
       "      <td>2021-09-18</td>\n",
       "      <td>26943.0</td>\n",
       "      <td>41288.0</td>\n",
       "      <td>60951.0</td>\n",
       "      <td>27247.0</td>\n",
       "      <td>48551.0</td>\n",
       "      <td>122949.0</td>\n",
       "      <td>688406.0</td>\n",
       "      <td>68577.0</td>\n",
       "      <td>101505.0</td>\n",
       "      <td>35912.0</td>\n",
       "      <td>150957.0</td>\n",
       "      <td>98128.0</td>\n",
       "      <td>49289.0</td>\n",
       "      <td>88765.0</td>\n",
       "      <td>8231.0</td>\n",
       "      <td>29246.0</td>\n",
       "      <td>1646994.0</td>\n",
       "    </tr>\n",
       "    <tr>\n",
       "      <th>565</th>\n",
       "      <td>2021-09-19</td>\n",
       "      <td>26970.0</td>\n",
       "      <td>41304.0</td>\n",
       "      <td>60976.0</td>\n",
       "      <td>27248.0</td>\n",
       "      <td>48565.0</td>\n",
       "      <td>122973.0</td>\n",
       "      <td>688631.0</td>\n",
       "      <td>68590.0</td>\n",
       "      <td>101523.0</td>\n",
       "      <td>35919.0</td>\n",
       "      <td>151003.0</td>\n",
       "      <td>98138.0</td>\n",
       "      <td>49295.0</td>\n",
       "      <td>88799.0</td>\n",
       "      <td>8240.0</td>\n",
       "      <td>29246.0</td>\n",
       "      <td>1647469.0</td>\n",
       "    </tr>\n",
       "    <tr>\n",
       "      <th>566</th>\n",
       "      <td>2021-09-20</td>\n",
       "      <td>26984.0</td>\n",
       "      <td>41310.0</td>\n",
       "      <td>60987.0</td>\n",
       "      <td>27250.0</td>\n",
       "      <td>48572.0</td>\n",
       "      <td>122981.0</td>\n",
       "      <td>688761.0</td>\n",
       "      <td>68600.0</td>\n",
       "      <td>101546.0</td>\n",
       "      <td>35926.0</td>\n",
       "      <td>151041.0</td>\n",
       "      <td>98148.0</td>\n",
       "      <td>49297.0</td>\n",
       "      <td>88807.0</td>\n",
       "      <td>8241.0</td>\n",
       "      <td>29246.0</td>\n",
       "      <td>1647746.0</td>\n",
       "    </tr>\n",
       "    <tr>\n",
       "      <th>567</th>\n",
       "      <td>2021-09-21</td>\n",
       "      <td>26998.0</td>\n",
       "      <td>41317.0</td>\n",
       "      <td>61005.0</td>\n",
       "      <td>27255.0</td>\n",
       "      <td>48579.0</td>\n",
       "      <td>122997.0</td>\n",
       "      <td>688906.0</td>\n",
       "      <td>68605.0</td>\n",
       "      <td>101562.0</td>\n",
       "      <td>35927.0</td>\n",
       "      <td>151064.0</td>\n",
       "      <td>98154.0</td>\n",
       "      <td>49300.0</td>\n",
       "      <td>88820.0</td>\n",
       "      <td>8242.0</td>\n",
       "      <td>29246.0</td>\n",
       "      <td>1648026.0</td>\n",
       "    </tr>\n",
       "  </tbody>\n",
       "</table>\n",
       "</div>"
      ],
      "text/plain": [
       "         Fecha  Arica y Parinacota  Tarapacá  Antofagasta  Atacama  Coquimbo  \\\n",
       "563 2021-09-17             26911.0   41261.0      60923.0  27237.0   48533.0   \n",
       "564 2021-09-18             26943.0   41288.0      60951.0  27247.0   48551.0   \n",
       "565 2021-09-19             26970.0   41304.0      60976.0  27248.0   48565.0   \n",
       "566 2021-09-20             26984.0   41310.0      60987.0  27250.0   48572.0   \n",
       "567 2021-09-21             26998.0   41317.0      61005.0  27255.0   48579.0   \n",
       "\n",
       "     Valparaíso  Metropolitana  O’Higgins     Maule    Ñuble    Biobío  \\\n",
       "563    122916.0       688130.0    68561.0  101467.0  35901.0  150914.0   \n",
       "564    122949.0       688406.0    68577.0  101505.0  35912.0  150957.0   \n",
       "565    122973.0       688631.0    68590.0  101523.0  35919.0  151003.0   \n",
       "566    122981.0       688761.0    68600.0  101546.0  35926.0  151041.0   \n",
       "567    122997.0       688906.0    68605.0  101562.0  35927.0  151064.0   \n",
       "\n",
       "     Araucanía  Los Ríos  Los Lagos   Aysén  Magallanes      Total  \n",
       "563    98109.0   49280.0    88744.0  8218.0     29249.0  1646403.0  \n",
       "564    98128.0   49289.0    88765.0  8231.0     29246.0  1646994.0  \n",
       "565    98138.0   49295.0    88799.0  8240.0     29246.0  1647469.0  \n",
       "566    98148.0   49297.0    88807.0  8241.0     29246.0  1647746.0  \n",
       "567    98154.0   49300.0    88820.0  8242.0     29246.0  1648026.0  "
      ]
     },
     "execution_count": 29,
     "metadata": {},
     "output_type": "execute_result"
    }
   ],
   "source": [
    "total_cases_per_region_CH.tail()"
   ]
  },
  {
   "cell_type": "markdown",
   "metadata": {},
   "source": [
    "<a id = 'Sección1.6'></a>"
   ]
  },
  {
   "cell_type": "markdown",
   "metadata": {},
   "source": [
    "### 1.6. Vacunaciones por edad"
   ]
  },
  {
   "cell_type": "markdown",
   "metadata": {},
   "source": [
    "<a id = 'Sección1.6.1'></a>"
   ]
  },
  {
   "cell_type": "markdown",
   "metadata": {},
   "source": [
    "#### 1.6.1. Vacunaciones diarias con vacunas de dosis única por edad"
   ]
  },
  {
   "cell_type": "code",
   "execution_count": 30,
   "metadata": {},
   "outputs": [],
   "source": [
    "single_dose_CH = pd.read_csv (r\"Datos Covid Chile\\vacunados_edad_fecha_UnicaDosis_T.csv\")"
   ]
  },
  {
   "cell_type": "code",
   "execution_count": 31,
   "metadata": {},
   "outputs": [],
   "source": [
    "# Se establace como índice del dataframe la columna 'Edad' que contiene las fechas de aplicación de las vacunas, esto se hace \n",
    "# con la finalidad de posteriormente eliminar todas aquellas filas que solo contienen ceros.\n",
    "\n",
    "single_dose_CH.set_index('Edad', inplace = True)"
   ]
  },
  {
   "cell_type": "code",
   "execution_count": 32,
   "metadata": {},
   "outputs": [],
   "source": [
    "# Se rellenan las celdas con valor NaN con ceros.\n",
    "\n",
    "single_dose_CH.fillna(0, inplace = True)"
   ]
  },
  {
   "cell_type": "code",
   "execution_count": 33,
   "metadata": {},
   "outputs": [],
   "source": [
    "# Se eliminan todas aquellas filas que solo contienen ceros.\n",
    "\n",
    "single_dose_CH = single_dose_CH [single_dose_CH.any(1)]"
   ]
  },
  {
   "cell_type": "code",
   "execution_count": 34,
   "metadata": {},
   "outputs": [],
   "source": [
    "single_dose_CH.reset_index(inplace=True)"
   ]
  },
  {
   "cell_type": "code",
   "execution_count": 35,
   "metadata": {},
   "outputs": [],
   "source": [
    "single_dose_CH.rename (columns = {'Edad':'Fecha'}, inplace = True)"
   ]
  },
  {
   "cell_type": "code",
   "execution_count": 36,
   "metadata": {},
   "outputs": [
    {
     "data": {
      "text/html": [
       "<div>\n",
       "<style scoped>\n",
       "    .dataframe tbody tr th:only-of-type {\n",
       "        vertical-align: middle;\n",
       "    }\n",
       "\n",
       "    .dataframe tbody tr th {\n",
       "        vertical-align: top;\n",
       "    }\n",
       "\n",
       "    .dataframe thead th {\n",
       "        text-align: right;\n",
       "    }\n",
       "</style>\n",
       "<table border=\"1\" class=\"dataframe\">\n",
       "  <thead>\n",
       "    <tr style=\"text-align: right;\">\n",
       "      <th></th>\n",
       "      <th>Fecha</th>\n",
       "      <th>6.0</th>\n",
       "      <th>7.0</th>\n",
       "      <th>8.0</th>\n",
       "      <th>9.0</th>\n",
       "      <th>10.0</th>\n",
       "      <th>11.0</th>\n",
       "      <th>12.0</th>\n",
       "      <th>13.0</th>\n",
       "      <th>14.0</th>\n",
       "      <th>...</th>\n",
       "      <th>108.0</th>\n",
       "      <th>109.0</th>\n",
       "      <th>110.0</th>\n",
       "      <th>111.0</th>\n",
       "      <th>112.0</th>\n",
       "      <th>116.0</th>\n",
       "      <th>120.0</th>\n",
       "      <th>121.0</th>\n",
       "      <th>124.0</th>\n",
       "      <th>221.0</th>\n",
       "    </tr>\n",
       "  </thead>\n",
       "  <tbody>\n",
       "    <tr>\n",
       "      <th>0</th>\n",
       "      <td>2021-05-31</td>\n",
       "      <td>0.0</td>\n",
       "      <td>0.0</td>\n",
       "      <td>0.0</td>\n",
       "      <td>0.0</td>\n",
       "      <td>0.0</td>\n",
       "      <td>0.0</td>\n",
       "      <td>0.0</td>\n",
       "      <td>0.0</td>\n",
       "      <td>0.0</td>\n",
       "      <td>...</td>\n",
       "      <td>0.0</td>\n",
       "      <td>0.0</td>\n",
       "      <td>0.0</td>\n",
       "      <td>0.0</td>\n",
       "      <td>0.0</td>\n",
       "      <td>0.0</td>\n",
       "      <td>0.0</td>\n",
       "      <td>0.0</td>\n",
       "      <td>0.0</td>\n",
       "      <td>0.0</td>\n",
       "    </tr>\n",
       "    <tr>\n",
       "      <th>1</th>\n",
       "      <td>2021-06-01</td>\n",
       "      <td>0.0</td>\n",
       "      <td>0.0</td>\n",
       "      <td>0.0</td>\n",
       "      <td>0.0</td>\n",
       "      <td>0.0</td>\n",
       "      <td>0.0</td>\n",
       "      <td>0.0</td>\n",
       "      <td>0.0</td>\n",
       "      <td>0.0</td>\n",
       "      <td>...</td>\n",
       "      <td>0.0</td>\n",
       "      <td>0.0</td>\n",
       "      <td>0.0</td>\n",
       "      <td>0.0</td>\n",
       "      <td>0.0</td>\n",
       "      <td>0.0</td>\n",
       "      <td>0.0</td>\n",
       "      <td>0.0</td>\n",
       "      <td>0.0</td>\n",
       "      <td>0.0</td>\n",
       "    </tr>\n",
       "    <tr>\n",
       "      <th>2</th>\n",
       "      <td>2021-06-02</td>\n",
       "      <td>0.0</td>\n",
       "      <td>0.0</td>\n",
       "      <td>0.0</td>\n",
       "      <td>0.0</td>\n",
       "      <td>0.0</td>\n",
       "      <td>0.0</td>\n",
       "      <td>0.0</td>\n",
       "      <td>0.0</td>\n",
       "      <td>0.0</td>\n",
       "      <td>...</td>\n",
       "      <td>0.0</td>\n",
       "      <td>0.0</td>\n",
       "      <td>0.0</td>\n",
       "      <td>0.0</td>\n",
       "      <td>0.0</td>\n",
       "      <td>0.0</td>\n",
       "      <td>0.0</td>\n",
       "      <td>0.0</td>\n",
       "      <td>0.0</td>\n",
       "      <td>0.0</td>\n",
       "    </tr>\n",
       "    <tr>\n",
       "      <th>3</th>\n",
       "      <td>2021-06-03</td>\n",
       "      <td>0.0</td>\n",
       "      <td>0.0</td>\n",
       "      <td>0.0</td>\n",
       "      <td>0.0</td>\n",
       "      <td>0.0</td>\n",
       "      <td>0.0</td>\n",
       "      <td>0.0</td>\n",
       "      <td>0.0</td>\n",
       "      <td>0.0</td>\n",
       "      <td>...</td>\n",
       "      <td>0.0</td>\n",
       "      <td>0.0</td>\n",
       "      <td>0.0</td>\n",
       "      <td>0.0</td>\n",
       "      <td>0.0</td>\n",
       "      <td>0.0</td>\n",
       "      <td>0.0</td>\n",
       "      <td>0.0</td>\n",
       "      <td>0.0</td>\n",
       "      <td>0.0</td>\n",
       "    </tr>\n",
       "    <tr>\n",
       "      <th>4</th>\n",
       "      <td>2021-06-04</td>\n",
       "      <td>0.0</td>\n",
       "      <td>0.0</td>\n",
       "      <td>0.0</td>\n",
       "      <td>0.0</td>\n",
       "      <td>0.0</td>\n",
       "      <td>0.0</td>\n",
       "      <td>0.0</td>\n",
       "      <td>0.0</td>\n",
       "      <td>0.0</td>\n",
       "      <td>...</td>\n",
       "      <td>0.0</td>\n",
       "      <td>0.0</td>\n",
       "      <td>0.0</td>\n",
       "      <td>0.0</td>\n",
       "      <td>0.0</td>\n",
       "      <td>0.0</td>\n",
       "      <td>0.0</td>\n",
       "      <td>0.0</td>\n",
       "      <td>0.0</td>\n",
       "      <td>0.0</td>\n",
       "    </tr>\n",
       "  </tbody>\n",
       "</table>\n",
       "<p>5 rows × 113 columns</p>\n",
       "</div>"
      ],
      "text/plain": [
       "        Fecha  6.0  7.0  8.0  9.0  10.0  11.0  12.0  13.0  14.0  ...  108.0  \\\n",
       "0  2021-05-31  0.0  0.0  0.0  0.0   0.0   0.0   0.0   0.0   0.0  ...    0.0   \n",
       "1  2021-06-01  0.0  0.0  0.0  0.0   0.0   0.0   0.0   0.0   0.0  ...    0.0   \n",
       "2  2021-06-02  0.0  0.0  0.0  0.0   0.0   0.0   0.0   0.0   0.0  ...    0.0   \n",
       "3  2021-06-03  0.0  0.0  0.0  0.0   0.0   0.0   0.0   0.0   0.0  ...    0.0   \n",
       "4  2021-06-04  0.0  0.0  0.0  0.0   0.0   0.0   0.0   0.0   0.0  ...    0.0   \n",
       "\n",
       "   109.0  110.0  111.0  112.0  116.0  120.0  121.0  124.0  221.0  \n",
       "0    0.0    0.0    0.0    0.0    0.0    0.0    0.0    0.0    0.0  \n",
       "1    0.0    0.0    0.0    0.0    0.0    0.0    0.0    0.0    0.0  \n",
       "2    0.0    0.0    0.0    0.0    0.0    0.0    0.0    0.0    0.0  \n",
       "3    0.0    0.0    0.0    0.0    0.0    0.0    0.0    0.0    0.0  \n",
       "4    0.0    0.0    0.0    0.0    0.0    0.0    0.0    0.0    0.0  \n",
       "\n",
       "[5 rows x 113 columns]"
      ]
     },
     "execution_count": 36,
     "metadata": {},
     "output_type": "execute_result"
    }
   ],
   "source": [
    "single_dose_CH.head()"
   ]
  },
  {
   "cell_type": "markdown",
   "metadata": {},
   "source": [
    "<a id = 'Sección1.6.2'></a>"
   ]
  },
  {
   "cell_type": "markdown",
   "metadata": {},
   "source": [
    "#### 1.6.2. Vacunaciones diarias de primeras dosis por edad"
   ]
  },
  {
   "cell_type": "code",
   "execution_count": 37,
   "metadata": {},
   "outputs": [],
   "source": [
    "first_dose_CH = pd.read_csv (r\"Datos Covid Chile\\vacunados_edad_fecha_1eraDosis_T.csv\")"
   ]
  },
  {
   "cell_type": "code",
   "execution_count": 38,
   "metadata": {},
   "outputs": [],
   "source": [
    "first_dose_CH.set_index('Edad', inplace = True)"
   ]
  },
  {
   "cell_type": "code",
   "execution_count": 39,
   "metadata": {},
   "outputs": [],
   "source": [
    "first_dose_CH.fillna(0, inplace = True)"
   ]
  },
  {
   "cell_type": "code",
   "execution_count": 40,
   "metadata": {},
   "outputs": [],
   "source": [
    "first_dose_CH = first_dose_CH[first_dose_CH.any(1)]"
   ]
  },
  {
   "cell_type": "code",
   "execution_count": 41,
   "metadata": {},
   "outputs": [],
   "source": [
    "first_dose_CH.reset_index(inplace = True)"
   ]
  },
  {
   "cell_type": "code",
   "execution_count": 42,
   "metadata": {},
   "outputs": [],
   "source": [
    "first_dose_CH.rename (columns = {'Edad':'Fecha'}, inplace = True)"
   ]
  },
  {
   "cell_type": "code",
   "execution_count": 43,
   "metadata": {},
   "outputs": [
    {
     "data": {
      "text/html": [
       "<div>\n",
       "<style scoped>\n",
       "    .dataframe tbody tr th:only-of-type {\n",
       "        vertical-align: middle;\n",
       "    }\n",
       "\n",
       "    .dataframe tbody tr th {\n",
       "        vertical-align: top;\n",
       "    }\n",
       "\n",
       "    .dataframe thead th {\n",
       "        text-align: right;\n",
       "    }\n",
       "</style>\n",
       "<table border=\"1\" class=\"dataframe\">\n",
       "  <thead>\n",
       "    <tr style=\"text-align: right;\">\n",
       "      <th></th>\n",
       "      <th>Fecha</th>\n",
       "      <th>6.0</th>\n",
       "      <th>7.0</th>\n",
       "      <th>8.0</th>\n",
       "      <th>9.0</th>\n",
       "      <th>10.0</th>\n",
       "      <th>11.0</th>\n",
       "      <th>12.0</th>\n",
       "      <th>13.0</th>\n",
       "      <th>14.0</th>\n",
       "      <th>...</th>\n",
       "      <th>108.0</th>\n",
       "      <th>109.0</th>\n",
       "      <th>110.0</th>\n",
       "      <th>111.0</th>\n",
       "      <th>112.0</th>\n",
       "      <th>116.0</th>\n",
       "      <th>120.0</th>\n",
       "      <th>121.0</th>\n",
       "      <th>124.0</th>\n",
       "      <th>221.0</th>\n",
       "    </tr>\n",
       "  </thead>\n",
       "  <tbody>\n",
       "    <tr>\n",
       "      <th>0</th>\n",
       "      <td>2020-12-24</td>\n",
       "      <td>0.0</td>\n",
       "      <td>0.0</td>\n",
       "      <td>0.0</td>\n",
       "      <td>0.0</td>\n",
       "      <td>0.0</td>\n",
       "      <td>0.0</td>\n",
       "      <td>0.0</td>\n",
       "      <td>0.0</td>\n",
       "      <td>0.0</td>\n",
       "      <td>...</td>\n",
       "      <td>0.0</td>\n",
       "      <td>0.0</td>\n",
       "      <td>0.0</td>\n",
       "      <td>0.0</td>\n",
       "      <td>0.0</td>\n",
       "      <td>0.0</td>\n",
       "      <td>0.0</td>\n",
       "      <td>0.0</td>\n",
       "      <td>0.0</td>\n",
       "      <td>0.0</td>\n",
       "    </tr>\n",
       "    <tr>\n",
       "      <th>1</th>\n",
       "      <td>2020-12-25</td>\n",
       "      <td>0.0</td>\n",
       "      <td>0.0</td>\n",
       "      <td>0.0</td>\n",
       "      <td>0.0</td>\n",
       "      <td>0.0</td>\n",
       "      <td>0.0</td>\n",
       "      <td>0.0</td>\n",
       "      <td>0.0</td>\n",
       "      <td>0.0</td>\n",
       "      <td>...</td>\n",
       "      <td>0.0</td>\n",
       "      <td>0.0</td>\n",
       "      <td>0.0</td>\n",
       "      <td>0.0</td>\n",
       "      <td>0.0</td>\n",
       "      <td>0.0</td>\n",
       "      <td>0.0</td>\n",
       "      <td>0.0</td>\n",
       "      <td>0.0</td>\n",
       "      <td>0.0</td>\n",
       "    </tr>\n",
       "    <tr>\n",
       "      <th>2</th>\n",
       "      <td>2020-12-26</td>\n",
       "      <td>0.0</td>\n",
       "      <td>0.0</td>\n",
       "      <td>0.0</td>\n",
       "      <td>0.0</td>\n",
       "      <td>0.0</td>\n",
       "      <td>0.0</td>\n",
       "      <td>0.0</td>\n",
       "      <td>0.0</td>\n",
       "      <td>0.0</td>\n",
       "      <td>...</td>\n",
       "      <td>0.0</td>\n",
       "      <td>0.0</td>\n",
       "      <td>0.0</td>\n",
       "      <td>0.0</td>\n",
       "      <td>0.0</td>\n",
       "      <td>0.0</td>\n",
       "      <td>0.0</td>\n",
       "      <td>0.0</td>\n",
       "      <td>0.0</td>\n",
       "      <td>0.0</td>\n",
       "    </tr>\n",
       "    <tr>\n",
       "      <th>3</th>\n",
       "      <td>2020-12-27</td>\n",
       "      <td>0.0</td>\n",
       "      <td>0.0</td>\n",
       "      <td>0.0</td>\n",
       "      <td>0.0</td>\n",
       "      <td>0.0</td>\n",
       "      <td>0.0</td>\n",
       "      <td>0.0</td>\n",
       "      <td>0.0</td>\n",
       "      <td>0.0</td>\n",
       "      <td>...</td>\n",
       "      <td>0.0</td>\n",
       "      <td>0.0</td>\n",
       "      <td>0.0</td>\n",
       "      <td>0.0</td>\n",
       "      <td>0.0</td>\n",
       "      <td>0.0</td>\n",
       "      <td>0.0</td>\n",
       "      <td>0.0</td>\n",
       "      <td>0.0</td>\n",
       "      <td>0.0</td>\n",
       "    </tr>\n",
       "    <tr>\n",
       "      <th>4</th>\n",
       "      <td>2021-01-04</td>\n",
       "      <td>0.0</td>\n",
       "      <td>0.0</td>\n",
       "      <td>0.0</td>\n",
       "      <td>0.0</td>\n",
       "      <td>0.0</td>\n",
       "      <td>0.0</td>\n",
       "      <td>0.0</td>\n",
       "      <td>0.0</td>\n",
       "      <td>0.0</td>\n",
       "      <td>...</td>\n",
       "      <td>0.0</td>\n",
       "      <td>0.0</td>\n",
       "      <td>0.0</td>\n",
       "      <td>0.0</td>\n",
       "      <td>0.0</td>\n",
       "      <td>0.0</td>\n",
       "      <td>0.0</td>\n",
       "      <td>0.0</td>\n",
       "      <td>0.0</td>\n",
       "      <td>0.0</td>\n",
       "    </tr>\n",
       "  </tbody>\n",
       "</table>\n",
       "<p>5 rows × 113 columns</p>\n",
       "</div>"
      ],
      "text/plain": [
       "        Fecha  6.0  7.0  8.0  9.0  10.0  11.0  12.0  13.0  14.0  ...  108.0  \\\n",
       "0  2020-12-24  0.0  0.0  0.0  0.0   0.0   0.0   0.0   0.0   0.0  ...    0.0   \n",
       "1  2020-12-25  0.0  0.0  0.0  0.0   0.0   0.0   0.0   0.0   0.0  ...    0.0   \n",
       "2  2020-12-26  0.0  0.0  0.0  0.0   0.0   0.0   0.0   0.0   0.0  ...    0.0   \n",
       "3  2020-12-27  0.0  0.0  0.0  0.0   0.0   0.0   0.0   0.0   0.0  ...    0.0   \n",
       "4  2021-01-04  0.0  0.0  0.0  0.0   0.0   0.0   0.0   0.0   0.0  ...    0.0   \n",
       "\n",
       "   109.0  110.0  111.0  112.0  116.0  120.0  121.0  124.0  221.0  \n",
       "0    0.0    0.0    0.0    0.0    0.0    0.0    0.0    0.0    0.0  \n",
       "1    0.0    0.0    0.0    0.0    0.0    0.0    0.0    0.0    0.0  \n",
       "2    0.0    0.0    0.0    0.0    0.0    0.0    0.0    0.0    0.0  \n",
       "3    0.0    0.0    0.0    0.0    0.0    0.0    0.0    0.0    0.0  \n",
       "4    0.0    0.0    0.0    0.0    0.0    0.0    0.0    0.0    0.0  \n",
       "\n",
       "[5 rows x 113 columns]"
      ]
     },
     "execution_count": 43,
     "metadata": {},
     "output_type": "execute_result"
    }
   ],
   "source": [
    "first_dose_CH.head()"
   ]
  },
  {
   "cell_type": "markdown",
   "metadata": {},
   "source": [
    "<a id = 'Sección1.6.3'></a>"
   ]
  },
  {
   "cell_type": "markdown",
   "metadata": {},
   "source": [
    "#### 1.6.3. Vacunaciones diarias de segundas dosis por edad"
   ]
  },
  {
   "cell_type": "code",
   "execution_count": 44,
   "metadata": {},
   "outputs": [],
   "source": [
    "second_dose_CH = pd.read_csv (r\"Datos Covid Chile\\vacunados_edad_fecha_2daDosis_T.csv\")"
   ]
  },
  {
   "cell_type": "code",
   "execution_count": 45,
   "metadata": {},
   "outputs": [],
   "source": [
    "second_dose_CH.set_index('Edad', inplace = True)"
   ]
  },
  {
   "cell_type": "code",
   "execution_count": 46,
   "metadata": {},
   "outputs": [],
   "source": [
    "second_dose_CH.fillna(0, inplace = True)"
   ]
  },
  {
   "cell_type": "code",
   "execution_count": 47,
   "metadata": {},
   "outputs": [],
   "source": [
    "second_dose_CH = second_dose_CH.loc[second_dose_CH.any(1)]"
   ]
  },
  {
   "cell_type": "code",
   "execution_count": 48,
   "metadata": {},
   "outputs": [],
   "source": [
    "second_dose_CH.reset_index(inplace=True)"
   ]
  },
  {
   "cell_type": "code",
   "execution_count": 49,
   "metadata": {},
   "outputs": [],
   "source": [
    "second_dose_CH.rename (columns = {'Edad':'Fecha'}, inplace = True)"
   ]
  },
  {
   "cell_type": "code",
   "execution_count": 50,
   "metadata": {},
   "outputs": [
    {
     "data": {
      "text/html": [
       "<div>\n",
       "<style scoped>\n",
       "    .dataframe tbody tr th:only-of-type {\n",
       "        vertical-align: middle;\n",
       "    }\n",
       "\n",
       "    .dataframe tbody tr th {\n",
       "        vertical-align: top;\n",
       "    }\n",
       "\n",
       "    .dataframe thead th {\n",
       "        text-align: right;\n",
       "    }\n",
       "</style>\n",
       "<table border=\"1\" class=\"dataframe\">\n",
       "  <thead>\n",
       "    <tr style=\"text-align: right;\">\n",
       "      <th></th>\n",
       "      <th>Fecha</th>\n",
       "      <th>6.0</th>\n",
       "      <th>7.0</th>\n",
       "      <th>8.0</th>\n",
       "      <th>9.0</th>\n",
       "      <th>10.0</th>\n",
       "      <th>11.0</th>\n",
       "      <th>12.0</th>\n",
       "      <th>13.0</th>\n",
       "      <th>14.0</th>\n",
       "      <th>...</th>\n",
       "      <th>108.0</th>\n",
       "      <th>109.0</th>\n",
       "      <th>110.0</th>\n",
       "      <th>111.0</th>\n",
       "      <th>112.0</th>\n",
       "      <th>116.0</th>\n",
       "      <th>120.0</th>\n",
       "      <th>121.0</th>\n",
       "      <th>124.0</th>\n",
       "      <th>221.0</th>\n",
       "    </tr>\n",
       "  </thead>\n",
       "  <tbody>\n",
       "    <tr>\n",
       "      <th>0</th>\n",
       "      <td>2021-01-13</td>\n",
       "      <td>0.0</td>\n",
       "      <td>0.0</td>\n",
       "      <td>0.0</td>\n",
       "      <td>0.0</td>\n",
       "      <td>0.0</td>\n",
       "      <td>0.0</td>\n",
       "      <td>0.0</td>\n",
       "      <td>0.0</td>\n",
       "      <td>0.0</td>\n",
       "      <td>...</td>\n",
       "      <td>0.0</td>\n",
       "      <td>0.0</td>\n",
       "      <td>0.0</td>\n",
       "      <td>0.0</td>\n",
       "      <td>0.0</td>\n",
       "      <td>0.0</td>\n",
       "      <td>0.0</td>\n",
       "      <td>0.0</td>\n",
       "      <td>0.0</td>\n",
       "      <td>0.0</td>\n",
       "    </tr>\n",
       "    <tr>\n",
       "      <th>1</th>\n",
       "      <td>2021-01-14</td>\n",
       "      <td>0.0</td>\n",
       "      <td>0.0</td>\n",
       "      <td>0.0</td>\n",
       "      <td>0.0</td>\n",
       "      <td>0.0</td>\n",
       "      <td>0.0</td>\n",
       "      <td>0.0</td>\n",
       "      <td>0.0</td>\n",
       "      <td>0.0</td>\n",
       "      <td>...</td>\n",
       "      <td>0.0</td>\n",
       "      <td>0.0</td>\n",
       "      <td>0.0</td>\n",
       "      <td>0.0</td>\n",
       "      <td>0.0</td>\n",
       "      <td>0.0</td>\n",
       "      <td>0.0</td>\n",
       "      <td>0.0</td>\n",
       "      <td>0.0</td>\n",
       "      <td>0.0</td>\n",
       "    </tr>\n",
       "    <tr>\n",
       "      <th>2</th>\n",
       "      <td>2021-01-15</td>\n",
       "      <td>0.0</td>\n",
       "      <td>0.0</td>\n",
       "      <td>0.0</td>\n",
       "      <td>0.0</td>\n",
       "      <td>0.0</td>\n",
       "      <td>0.0</td>\n",
       "      <td>0.0</td>\n",
       "      <td>0.0</td>\n",
       "      <td>0.0</td>\n",
       "      <td>...</td>\n",
       "      <td>0.0</td>\n",
       "      <td>0.0</td>\n",
       "      <td>0.0</td>\n",
       "      <td>0.0</td>\n",
       "      <td>0.0</td>\n",
       "      <td>0.0</td>\n",
       "      <td>0.0</td>\n",
       "      <td>0.0</td>\n",
       "      <td>0.0</td>\n",
       "      <td>0.0</td>\n",
       "    </tr>\n",
       "    <tr>\n",
       "      <th>3</th>\n",
       "      <td>2021-01-16</td>\n",
       "      <td>0.0</td>\n",
       "      <td>0.0</td>\n",
       "      <td>0.0</td>\n",
       "      <td>0.0</td>\n",
       "      <td>0.0</td>\n",
       "      <td>0.0</td>\n",
       "      <td>0.0</td>\n",
       "      <td>0.0</td>\n",
       "      <td>0.0</td>\n",
       "      <td>...</td>\n",
       "      <td>0.0</td>\n",
       "      <td>0.0</td>\n",
       "      <td>0.0</td>\n",
       "      <td>0.0</td>\n",
       "      <td>0.0</td>\n",
       "      <td>0.0</td>\n",
       "      <td>0.0</td>\n",
       "      <td>0.0</td>\n",
       "      <td>0.0</td>\n",
       "      <td>0.0</td>\n",
       "    </tr>\n",
       "    <tr>\n",
       "      <th>4</th>\n",
       "      <td>2021-01-19</td>\n",
       "      <td>0.0</td>\n",
       "      <td>0.0</td>\n",
       "      <td>0.0</td>\n",
       "      <td>0.0</td>\n",
       "      <td>0.0</td>\n",
       "      <td>0.0</td>\n",
       "      <td>0.0</td>\n",
       "      <td>0.0</td>\n",
       "      <td>0.0</td>\n",
       "      <td>...</td>\n",
       "      <td>0.0</td>\n",
       "      <td>0.0</td>\n",
       "      <td>0.0</td>\n",
       "      <td>0.0</td>\n",
       "      <td>0.0</td>\n",
       "      <td>0.0</td>\n",
       "      <td>0.0</td>\n",
       "      <td>0.0</td>\n",
       "      <td>0.0</td>\n",
       "      <td>0.0</td>\n",
       "    </tr>\n",
       "  </tbody>\n",
       "</table>\n",
       "<p>5 rows × 113 columns</p>\n",
       "</div>"
      ],
      "text/plain": [
       "        Fecha  6.0  7.0  8.0  9.0  10.0  11.0  12.0  13.0  14.0  ...  108.0  \\\n",
       "0  2021-01-13  0.0  0.0  0.0  0.0   0.0   0.0   0.0   0.0   0.0  ...    0.0   \n",
       "1  2021-01-14  0.0  0.0  0.0  0.0   0.0   0.0   0.0   0.0   0.0  ...    0.0   \n",
       "2  2021-01-15  0.0  0.0  0.0  0.0   0.0   0.0   0.0   0.0   0.0  ...    0.0   \n",
       "3  2021-01-16  0.0  0.0  0.0  0.0   0.0   0.0   0.0   0.0   0.0  ...    0.0   \n",
       "4  2021-01-19  0.0  0.0  0.0  0.0   0.0   0.0   0.0   0.0   0.0  ...    0.0   \n",
       "\n",
       "   109.0  110.0  111.0  112.0  116.0  120.0  121.0  124.0  221.0  \n",
       "0    0.0    0.0    0.0    0.0    0.0    0.0    0.0    0.0    0.0  \n",
       "1    0.0    0.0    0.0    0.0    0.0    0.0    0.0    0.0    0.0  \n",
       "2    0.0    0.0    0.0    0.0    0.0    0.0    0.0    0.0    0.0  \n",
       "3    0.0    0.0    0.0    0.0    0.0    0.0    0.0    0.0    0.0  \n",
       "4    0.0    0.0    0.0    0.0    0.0    0.0    0.0    0.0    0.0  \n",
       "\n",
       "[5 rows x 113 columns]"
      ]
     },
     "execution_count": 50,
     "metadata": {},
     "output_type": "execute_result"
    }
   ],
   "source": [
    "second_dose_CH.head()"
   ]
  },
  {
   "cell_type": "markdown",
   "metadata": {},
   "source": [
    "<a id = 'Sección1.7'></a>"
   ]
  },
  {
   "cell_type": "markdown",
   "metadata": {},
   "source": [
    "### 1.7. Vacunaciones por vacuna aplicada"
   ]
  },
  {
   "cell_type": "markdown",
   "metadata": {},
   "source": [
    "<a id = 'Sección1.7.1'></a>"
   ]
  },
  {
   "cell_type": "markdown",
   "metadata": {},
   "source": [
    "#### 1.7.1. Vacunas de una sola dosis"
   ]
  },
  {
   "cell_type": "code",
   "execution_count": 51,
   "metadata": {},
   "outputs": [],
   "source": [
    "vaccines_single_dose_CH = pd.read_csv (r\"Datos Covid Chile\\vacunacion_fabricantes_UnicaDosis_T.csv\",\n",
    "                                      usecols = ['Fabricante', 'CanSino'])"
   ]
  },
  {
   "cell_type": "code",
   "execution_count": 52,
   "metadata": {},
   "outputs": [],
   "source": [
    "vaccines_single_dose_CH.rename (columns = {'Fabricante':'Fecha'}, inplace= True)"
   ]
  },
  {
   "cell_type": "code",
   "execution_count": 53,
   "metadata": {},
   "outputs": [],
   "source": [
    "vaccines_single_dose_CH ['Fecha'] = pd.to_datetime (vaccines_single_dose_CH ['Fecha'], errors = 'coerce')"
   ]
  },
  {
   "cell_type": "code",
   "execution_count": 54,
   "metadata": {},
   "outputs": [
    {
     "data": {
      "text/html": [
       "<div>\n",
       "<style scoped>\n",
       "    .dataframe tbody tr th:only-of-type {\n",
       "        vertical-align: middle;\n",
       "    }\n",
       "\n",
       "    .dataframe tbody tr th {\n",
       "        vertical-align: top;\n",
       "    }\n",
       "\n",
       "    .dataframe thead th {\n",
       "        text-align: right;\n",
       "    }\n",
       "</style>\n",
       "<table border=\"1\" class=\"dataframe\">\n",
       "  <thead>\n",
       "    <tr style=\"text-align: right;\">\n",
       "      <th></th>\n",
       "      <th>Fecha</th>\n",
       "      <th>CanSino</th>\n",
       "    </tr>\n",
       "  </thead>\n",
       "  <tbody>\n",
       "    <tr>\n",
       "      <th>266</th>\n",
       "      <td>2021-09-16</td>\n",
       "      <td>577.0</td>\n",
       "    </tr>\n",
       "    <tr>\n",
       "      <th>267</th>\n",
       "      <td>2021-09-17</td>\n",
       "      <td>4.0</td>\n",
       "    </tr>\n",
       "    <tr>\n",
       "      <th>268</th>\n",
       "      <td>2021-09-18</td>\n",
       "      <td>10.0</td>\n",
       "    </tr>\n",
       "    <tr>\n",
       "      <th>269</th>\n",
       "      <td>2021-09-19</td>\n",
       "      <td>3.0</td>\n",
       "    </tr>\n",
       "    <tr>\n",
       "      <th>270</th>\n",
       "      <td>2021-09-20</td>\n",
       "      <td>611.0</td>\n",
       "    </tr>\n",
       "  </tbody>\n",
       "</table>\n",
       "</div>"
      ],
      "text/plain": [
       "         Fecha  CanSino\n",
       "266 2021-09-16    577.0\n",
       "267 2021-09-17      4.0\n",
       "268 2021-09-18     10.0\n",
       "269 2021-09-19      3.0\n",
       "270 2021-09-20    611.0"
      ]
     },
     "execution_count": 54,
     "metadata": {},
     "output_type": "execute_result"
    }
   ],
   "source": [
    "vaccines_single_dose_CH.tail()"
   ]
  },
  {
   "cell_type": "markdown",
   "metadata": {},
   "source": [
    "<a id = 'Sección1.7.2'></a>"
   ]
  },
  {
   "cell_type": "markdown",
   "metadata": {},
   "source": [
    "#### 1.7.2. Primeras dosis de vacunas"
   ]
  },
  {
   "cell_type": "code",
   "execution_count": 55,
   "metadata": {},
   "outputs": [],
   "source": [
    "vaccines_first_dose_CH = pd.read_csv (r\"Datos Covid Chile\\vacunacion_fabricantes_1eraDosis_T.csv\",\n",
    "                                     usecols = ['Fabricante', 'Campaña SARS-CoV-2 (AstraZeneca)', 'Campaña SARS-CoV-2 (Pfizer)',\n",
    "                                                'Campaña SARS-CoV-2 (Sinovac)'])"
   ]
  },
  {
   "cell_type": "code",
   "execution_count": 56,
   "metadata": {},
   "outputs": [],
   "source": [
    "vaccines_first_dose_CH.rename (columns = {'Fabricante':'Fecha', 'Campaña SARS-CoV-2 (AstraZeneca)':'AstraZeneca',\n",
    "                                          'Campaña SARS-CoV-2 (Pfizer)':'Pfizer', 'Campaña SARS-CoV-2 (Sinovac)':'Sinovac'}, inplace = True)"
   ]
  },
  {
   "cell_type": "code",
   "execution_count": 57,
   "metadata": {},
   "outputs": [],
   "source": [
    "vaccines_first_dose_CH ['Fecha'] = pd.to_datetime (vaccines_first_dose_CH ['Fecha'], errors = 'coerce')"
   ]
  },
  {
   "cell_type": "code",
   "execution_count": 58,
   "metadata": {},
   "outputs": [
    {
     "data": {
      "text/html": [
       "<div>\n",
       "<style scoped>\n",
       "    .dataframe tbody tr th:only-of-type {\n",
       "        vertical-align: middle;\n",
       "    }\n",
       "\n",
       "    .dataframe tbody tr th {\n",
       "        vertical-align: top;\n",
       "    }\n",
       "\n",
       "    .dataframe thead th {\n",
       "        text-align: right;\n",
       "    }\n",
       "</style>\n",
       "<table border=\"1\" class=\"dataframe\">\n",
       "  <thead>\n",
       "    <tr style=\"text-align: right;\">\n",
       "      <th></th>\n",
       "      <th>Fecha</th>\n",
       "      <th>AstraZeneca</th>\n",
       "      <th>Pfizer</th>\n",
       "      <th>Sinovac</th>\n",
       "    </tr>\n",
       "  </thead>\n",
       "  <tbody>\n",
       "    <tr>\n",
       "      <th>266</th>\n",
       "      <td>2021-09-16</td>\n",
       "      <td>224.0</td>\n",
       "      <td>324.0</td>\n",
       "      <td>26236.0</td>\n",
       "    </tr>\n",
       "    <tr>\n",
       "      <th>267</th>\n",
       "      <td>2021-09-17</td>\n",
       "      <td>0.0</td>\n",
       "      <td>2.0</td>\n",
       "      <td>25.0</td>\n",
       "    </tr>\n",
       "    <tr>\n",
       "      <th>268</th>\n",
       "      <td>2021-09-18</td>\n",
       "      <td>0.0</td>\n",
       "      <td>0.0</td>\n",
       "      <td>2.0</td>\n",
       "    </tr>\n",
       "    <tr>\n",
       "      <th>269</th>\n",
       "      <td>2021-09-19</td>\n",
       "      <td>0.0</td>\n",
       "      <td>0.0</td>\n",
       "      <td>0.0</td>\n",
       "    </tr>\n",
       "    <tr>\n",
       "      <th>270</th>\n",
       "      <td>2021-09-20</td>\n",
       "      <td>390.0</td>\n",
       "      <td>190.0</td>\n",
       "      <td>35265.0</td>\n",
       "    </tr>\n",
       "  </tbody>\n",
       "</table>\n",
       "</div>"
      ],
      "text/plain": [
       "         Fecha  AstraZeneca  Pfizer  Sinovac\n",
       "266 2021-09-16        224.0   324.0  26236.0\n",
       "267 2021-09-17          0.0     2.0     25.0\n",
       "268 2021-09-18          0.0     0.0      2.0\n",
       "269 2021-09-19          0.0     0.0      0.0\n",
       "270 2021-09-20        390.0   190.0  35265.0"
      ]
     },
     "execution_count": 58,
     "metadata": {},
     "output_type": "execute_result"
    }
   ],
   "source": [
    "vaccines_first_dose_CH.tail()"
   ]
  },
  {
   "cell_type": "markdown",
   "metadata": {},
   "source": [
    "<a id = 'Sección1.7.3'></a>"
   ]
  },
  {
   "cell_type": "markdown",
   "metadata": {},
   "source": [
    "#### 1.7.3. Segundas dosis de vacunas"
   ]
  },
  {
   "cell_type": "code",
   "execution_count": 59,
   "metadata": {},
   "outputs": [],
   "source": [
    "vaccines_second_dose_CH = pd.read_csv (r\"Datos Covid Chile\\vacunacion_fabricantes_2daDosis_T.csv\",\n",
    "                                      usecols = ['Fabricante', 'Campaña SARS-CoV-2 (AstraZeneca)', 'Campaña SARS-CoV-2 (Pfizer)',\n",
    "                                                'Campaña SARS-CoV-2 (Sinovac)'])"
   ]
  },
  {
   "cell_type": "code",
   "execution_count": 60,
   "metadata": {},
   "outputs": [],
   "source": [
    "vaccines_second_dose_CH.rename (columns = {'Fabricante':'Fecha', 'Campaña SARS-CoV-2 (AstraZeneca)':'AstraZeneca',\n",
    "                                          'Campaña SARS-CoV-2 (Pfizer)':'Pfizer', 'Campaña SARS-CoV-2 (Sinovac)':'Sinovac'}, inplace = True)"
   ]
  },
  {
   "cell_type": "code",
   "execution_count": 61,
   "metadata": {},
   "outputs": [],
   "source": [
    "vaccines_second_dose_CH ['Fecha'] = pd.to_datetime (vaccines_second_dose_CH ['Fecha'], errors = 'coerce')"
   ]
  },
  {
   "cell_type": "code",
   "execution_count": 62,
   "metadata": {},
   "outputs": [
    {
     "data": {
      "text/html": [
       "<div>\n",
       "<style scoped>\n",
       "    .dataframe tbody tr th:only-of-type {\n",
       "        vertical-align: middle;\n",
       "    }\n",
       "\n",
       "    .dataframe tbody tr th {\n",
       "        vertical-align: top;\n",
       "    }\n",
       "\n",
       "    .dataframe thead th {\n",
       "        text-align: right;\n",
       "    }\n",
       "</style>\n",
       "<table border=\"1\" class=\"dataframe\">\n",
       "  <thead>\n",
       "    <tr style=\"text-align: right;\">\n",
       "      <th></th>\n",
       "      <th>Fecha</th>\n",
       "      <th>AstraZeneca</th>\n",
       "      <th>Pfizer</th>\n",
       "      <th>Sinovac</th>\n",
       "    </tr>\n",
       "  </thead>\n",
       "  <tbody>\n",
       "    <tr>\n",
       "      <th>266</th>\n",
       "      <td>2021-09-16</td>\n",
       "      <td>90.0</td>\n",
       "      <td>2762.0</td>\n",
       "      <td>4974.0</td>\n",
       "    </tr>\n",
       "    <tr>\n",
       "      <th>267</th>\n",
       "      <td>2021-09-17</td>\n",
       "      <td>0.0</td>\n",
       "      <td>15.0</td>\n",
       "      <td>13.0</td>\n",
       "    </tr>\n",
       "    <tr>\n",
       "      <th>268</th>\n",
       "      <td>2021-09-18</td>\n",
       "      <td>0.0</td>\n",
       "      <td>0.0</td>\n",
       "      <td>4.0</td>\n",
       "    </tr>\n",
       "    <tr>\n",
       "      <th>269</th>\n",
       "      <td>2021-09-19</td>\n",
       "      <td>0.0</td>\n",
       "      <td>0.0</td>\n",
       "      <td>2.0</td>\n",
       "    </tr>\n",
       "    <tr>\n",
       "      <th>270</th>\n",
       "      <td>2021-09-20</td>\n",
       "      <td>757.0</td>\n",
       "      <td>1731.0</td>\n",
       "      <td>11497.0</td>\n",
       "    </tr>\n",
       "  </tbody>\n",
       "</table>\n",
       "</div>"
      ],
      "text/plain": [
       "         Fecha  AstraZeneca  Pfizer  Sinovac\n",
       "266 2021-09-16         90.0  2762.0   4974.0\n",
       "267 2021-09-17          0.0    15.0     13.0\n",
       "268 2021-09-18          0.0     0.0      4.0\n",
       "269 2021-09-19          0.0     0.0      2.0\n",
       "270 2021-09-20        757.0  1731.0  11497.0"
      ]
     },
     "execution_count": 62,
     "metadata": {},
     "output_type": "execute_result"
    }
   ],
   "source": [
    "vaccines_second_dose_CH.tail()"
   ]
  },
  {
   "cell_type": "markdown",
   "metadata": {},
   "source": [
    "<a id = 'Sección1.7.4'></a>"
   ]
  },
  {
   "cell_type": "markdown",
   "metadata": {},
   "source": [
    "#### 1.7.4. Vacunaciones de refuerzo"
   ]
  },
  {
   "cell_type": "code",
   "execution_count": 63,
   "metadata": {},
   "outputs": [],
   "source": [
    "booster_dose_CH = pd.read_csv (r\"Datos Covid Chile\\vacunacion_fabricantes_Refuerzo_T.csv\",\n",
    "                              usecols = ['Fabricante', 'Campaña SARS-CoV-2 (AstraZeneca)', 'Campaña SARS-CoV-2 (Pfizer)',\n",
    "                                                'Campaña SARS-CoV-2 (Sinovac)'])"
   ]
  },
  {
   "cell_type": "code",
   "execution_count": 64,
   "metadata": {},
   "outputs": [],
   "source": [
    "booster_dose_CH.rename (columns = {'Fabricante':'Fecha', 'Campaña SARS-CoV-2 (AstraZeneca)':'AstraZeneca',\n",
    "                                          'Campaña SARS-CoV-2 (Pfizer)':'Pfizer', 'Campaña SARS-CoV-2 (Sinovac)':'Sinovac'}, inplace = True)"
   ]
  },
  {
   "cell_type": "code",
   "execution_count": 65,
   "metadata": {},
   "outputs": [],
   "source": [
    "booster_dose_CH ['Fecha'] = pd.to_datetime (booster_dose_CH ['Fecha'], errors = 'coerce')"
   ]
  },
  {
   "cell_type": "code",
   "execution_count": 66,
   "metadata": {},
   "outputs": [
    {
     "data": {
      "text/html": [
       "<div>\n",
       "<style scoped>\n",
       "    .dataframe tbody tr th:only-of-type {\n",
       "        vertical-align: middle;\n",
       "    }\n",
       "\n",
       "    .dataframe tbody tr th {\n",
       "        vertical-align: top;\n",
       "    }\n",
       "\n",
       "    .dataframe thead th {\n",
       "        text-align: right;\n",
       "    }\n",
       "</style>\n",
       "<table border=\"1\" class=\"dataframe\">\n",
       "  <thead>\n",
       "    <tr style=\"text-align: right;\">\n",
       "      <th></th>\n",
       "      <th>Fecha</th>\n",
       "      <th>AstraZeneca</th>\n",
       "      <th>Pfizer</th>\n",
       "      <th>Sinovac</th>\n",
       "    </tr>\n",
       "  </thead>\n",
       "  <tbody>\n",
       "    <tr>\n",
       "      <th>266</th>\n",
       "      <td>2021-09-16</td>\n",
       "      <td>10899.0</td>\n",
       "      <td>18066.0</td>\n",
       "      <td>1765.0</td>\n",
       "    </tr>\n",
       "    <tr>\n",
       "      <th>267</th>\n",
       "      <td>2021-09-17</td>\n",
       "      <td>15.0</td>\n",
       "      <td>35.0</td>\n",
       "      <td>2.0</td>\n",
       "    </tr>\n",
       "    <tr>\n",
       "      <th>268</th>\n",
       "      <td>2021-09-18</td>\n",
       "      <td>0.0</td>\n",
       "      <td>0.0</td>\n",
       "      <td>0.0</td>\n",
       "    </tr>\n",
       "    <tr>\n",
       "      <th>269</th>\n",
       "      <td>2021-09-19</td>\n",
       "      <td>0.0</td>\n",
       "      <td>0.0</td>\n",
       "      <td>0.0</td>\n",
       "    </tr>\n",
       "    <tr>\n",
       "      <th>270</th>\n",
       "      <td>2021-09-20</td>\n",
       "      <td>12264.0</td>\n",
       "      <td>20052.0</td>\n",
       "      <td>1319.0</td>\n",
       "    </tr>\n",
       "  </tbody>\n",
       "</table>\n",
       "</div>"
      ],
      "text/plain": [
       "         Fecha  AstraZeneca   Pfizer  Sinovac\n",
       "266 2021-09-16      10899.0  18066.0   1765.0\n",
       "267 2021-09-17         15.0     35.0      2.0\n",
       "268 2021-09-18          0.0      0.0      0.0\n",
       "269 2021-09-19          0.0      0.0      0.0\n",
       "270 2021-09-20      12264.0  20052.0   1319.0"
      ]
     },
     "execution_count": 66,
     "metadata": {},
     "output_type": "execute_result"
    }
   ],
   "source": [
    "booster_dose_CH.tail()"
   ]
  },
  {
   "cell_type": "markdown",
   "metadata": {},
   "source": [
    "<a id = 'Sección2'></a>"
   ]
  },
  {
   "cell_type": "markdown",
   "metadata": {},
   "source": [
    "## 2. Datos del coronavirus en Uruguay"
   ]
  },
  {
   "cell_type": "markdown",
   "metadata": {},
   "source": [
    "En este apartado se importan los datos relacionados con el coronavirus en Uruguay, los cuales son publicados por el Grupo Uruguayo Interdisciplinario de Análisis de Datos de COVID‑19 (GUIAD-COVID-19) a través de su página web [Estadísticas epidemiológicas](https://guiad-covid.github.io/data/estadisticasuy/). Los datos relacionados con las vacunaciones fueron extraídos del [GitHub](https://github.com/3dgiordano/covid-19-uy-vacc-data/tree/main/data) de David Giordano, quien ha ido consolidando los informes entregados diariamente por el Ministerio de Salud Pública del Uruguay."
   ]
  },
  {
   "cell_type": "markdown",
   "metadata": {},
   "source": [
    "<a id = 'Sección2.1'></a>"
   ]
  },
  {
   "cell_type": "markdown",
   "metadata": {},
   "source": [
    "### 2.1. Datos generales a nivel nacional"
   ]
  },
  {
   "cell_type": "code",
   "execution_count": 67,
   "metadata": {},
   "outputs": [],
   "source": [
    "global_data_UY = pd.read_csv (r\"Datos covid Uruguay\\estadisticasUY.csv\", \n",
    "                    usecols = ['fecha', 'cantPersonasConInfeccionEnCurso', 'cantCasosNuevosConsolidado', 'acumCasos', \n",
    "                                'cantFallecidos', 'acumFallecidos', 'cantCTI', 'cantCI', 'cantTest', 'acumTest', 'Positividad'])"
   ]
  },
  {
   "cell_type": "code",
   "execution_count": 68,
   "metadata": {},
   "outputs": [
    {
     "data": {
      "text/html": [
       "<div>\n",
       "<style scoped>\n",
       "    .dataframe tbody tr th:only-of-type {\n",
       "        vertical-align: middle;\n",
       "    }\n",
       "\n",
       "    .dataframe tbody tr th {\n",
       "        vertical-align: top;\n",
       "    }\n",
       "\n",
       "    .dataframe thead th {\n",
       "        text-align: right;\n",
       "    }\n",
       "</style>\n",
       "<table border=\"1\" class=\"dataframe\">\n",
       "  <thead>\n",
       "    <tr style=\"text-align: right;\">\n",
       "      <th></th>\n",
       "      <th>fecha</th>\n",
       "      <th>cantPersonasConInfeccionEnCurso</th>\n",
       "      <th>cantCasosNuevosConsolidado</th>\n",
       "      <th>acumCasos</th>\n",
       "      <th>cantFallecidos</th>\n",
       "      <th>acumFallecidos</th>\n",
       "      <th>cantCTI</th>\n",
       "      <th>cantCI</th>\n",
       "      <th>cantTest</th>\n",
       "      <th>acumTest</th>\n",
       "      <th>Positividad</th>\n",
       "    </tr>\n",
       "  </thead>\n",
       "  <tbody>\n",
       "    <tr>\n",
       "      <th>0</th>\n",
       "      <td>25/03/2020</td>\n",
       "      <td>217</td>\n",
       "      <td>28</td>\n",
       "      <td>217</td>\n",
       "      <td>0</td>\n",
       "      <td>0</td>\n",
       "      <td>4</td>\n",
       "      <td>2</td>\n",
       "      <td>320</td>\n",
       "      <td>1858</td>\n",
       "      <td>0.088</td>\n",
       "    </tr>\n",
       "    <tr>\n",
       "      <th>1</th>\n",
       "      <td>26/03/2020</td>\n",
       "      <td>238</td>\n",
       "      <td>21</td>\n",
       "      <td>238</td>\n",
       "      <td>0</td>\n",
       "      <td>0</td>\n",
       "      <td>4</td>\n",
       "      <td>2</td>\n",
       "      <td>245</td>\n",
       "      <td>2103</td>\n",
       "      <td>0.086</td>\n",
       "    </tr>\n",
       "    <tr>\n",
       "      <th>2</th>\n",
       "      <td>27/03/2020</td>\n",
       "      <td>274</td>\n",
       "      <td>36</td>\n",
       "      <td>274</td>\n",
       "      <td>0</td>\n",
       "      <td>0</td>\n",
       "      <td>8</td>\n",
       "      <td>0</td>\n",
       "      <td>451</td>\n",
       "      <td>2554</td>\n",
       "      <td>0.080</td>\n",
       "    </tr>\n",
       "    <tr>\n",
       "      <th>3</th>\n",
       "      <td>28/03/2020</td>\n",
       "      <td>303</td>\n",
       "      <td>30</td>\n",
       "      <td>304</td>\n",
       "      <td>1</td>\n",
       "      <td>1</td>\n",
       "      <td>8</td>\n",
       "      <td>5</td>\n",
       "      <td>372</td>\n",
       "      <td>2926</td>\n",
       "      <td>0.081</td>\n",
       "    </tr>\n",
       "    <tr>\n",
       "      <th>4</th>\n",
       "      <td>29/03/2020</td>\n",
       "      <td>309</td>\n",
       "      <td>6</td>\n",
       "      <td>309</td>\n",
       "      <td>0</td>\n",
       "      <td>1</td>\n",
       "      <td>10</td>\n",
       "      <td>2</td>\n",
       "      <td>200</td>\n",
       "      <td>3126</td>\n",
       "      <td>0.030</td>\n",
       "    </tr>\n",
       "    <tr>\n",
       "      <th>...</th>\n",
       "      <td>...</td>\n",
       "      <td>...</td>\n",
       "      <td>...</td>\n",
       "      <td>...</td>\n",
       "      <td>...</td>\n",
       "      <td>...</td>\n",
       "      <td>...</td>\n",
       "      <td>...</td>\n",
       "      <td>...</td>\n",
       "      <td>...</td>\n",
       "      <td>...</td>\n",
       "    </tr>\n",
       "    <tr>\n",
       "      <th>541</th>\n",
       "      <td>17/09/2021</td>\n",
       "      <td>1664</td>\n",
       "      <td>157</td>\n",
       "      <td>387449</td>\n",
       "      <td>0</td>\n",
       "      <td>6046</td>\n",
       "      <td>11</td>\n",
       "      <td>0</td>\n",
       "      <td>8658</td>\n",
       "      <td>3485511</td>\n",
       "      <td>0.018</td>\n",
       "    </tr>\n",
       "    <tr>\n",
       "      <th>542</th>\n",
       "      <td>18/09/2021</td>\n",
       "      <td>1624</td>\n",
       "      <td>121</td>\n",
       "      <td>387555</td>\n",
       "      <td>2</td>\n",
       "      <td>6048</td>\n",
       "      <td>11</td>\n",
       "      <td>0</td>\n",
       "      <td>8082</td>\n",
       "      <td>3493593</td>\n",
       "      <td>0.015</td>\n",
       "    </tr>\n",
       "    <tr>\n",
       "      <th>543</th>\n",
       "      <td>19/09/2021</td>\n",
       "      <td>1593</td>\n",
       "      <td>84</td>\n",
       "      <td>387627</td>\n",
       "      <td>0</td>\n",
       "      <td>6048</td>\n",
       "      <td>11</td>\n",
       "      <td>0</td>\n",
       "      <td>5503</td>\n",
       "      <td>3499096</td>\n",
       "      <td>0.015</td>\n",
       "    </tr>\n",
       "    <tr>\n",
       "      <th>544</th>\n",
       "      <td>20/09/2021</td>\n",
       "      <td>1560</td>\n",
       "      <td>130</td>\n",
       "      <td>387744</td>\n",
       "      <td>0</td>\n",
       "      <td>6048</td>\n",
       "      <td>14</td>\n",
       "      <td>0</td>\n",
       "      <td>6990</td>\n",
       "      <td>3506086</td>\n",
       "      <td>0.019</td>\n",
       "    </tr>\n",
       "    <tr>\n",
       "      <th>545</th>\n",
       "      <td>21/09/2021</td>\n",
       "      <td>1540</td>\n",
       "      <td>188</td>\n",
       "      <td>387922</td>\n",
       "      <td>1</td>\n",
       "      <td>6049</td>\n",
       "      <td>15</td>\n",
       "      <td>0</td>\n",
       "      <td>9122</td>\n",
       "      <td>3515208</td>\n",
       "      <td>0.021</td>\n",
       "    </tr>\n",
       "  </tbody>\n",
       "</table>\n",
       "<p>546 rows × 11 columns</p>\n",
       "</div>"
      ],
      "text/plain": [
       "          fecha  cantPersonasConInfeccionEnCurso  cantCasosNuevosConsolidado  \\\n",
       "0    25/03/2020                              217                          28   \n",
       "1    26/03/2020                              238                          21   \n",
       "2    27/03/2020                              274                          36   \n",
       "3    28/03/2020                              303                          30   \n",
       "4    29/03/2020                              309                           6   \n",
       "..          ...                              ...                         ...   \n",
       "541  17/09/2021                             1664                         157   \n",
       "542  18/09/2021                             1624                         121   \n",
       "543  19/09/2021                             1593                          84   \n",
       "544  20/09/2021                             1560                         130   \n",
       "545  21/09/2021                             1540                         188   \n",
       "\n",
       "     acumCasos  cantFallecidos  acumFallecidos  cantCTI  cantCI  cantTest  \\\n",
       "0          217               0               0        4       2       320   \n",
       "1          238               0               0        4       2       245   \n",
       "2          274               0               0        8       0       451   \n",
       "3          304               1               1        8       5       372   \n",
       "4          309               0               1       10       2       200   \n",
       "..         ...             ...             ...      ...     ...       ...   \n",
       "541     387449               0            6046       11       0      8658   \n",
       "542     387555               2            6048       11       0      8082   \n",
       "543     387627               0            6048       11       0      5503   \n",
       "544     387744               0            6048       14       0      6990   \n",
       "545     387922               1            6049       15       0      9122   \n",
       "\n",
       "     acumTest  Positividad  \n",
       "0        1858        0.088  \n",
       "1        2103        0.086  \n",
       "2        2554        0.080  \n",
       "3        2926        0.081  \n",
       "4        3126        0.030  \n",
       "..        ...          ...  \n",
       "541   3485511        0.018  \n",
       "542   3493593        0.015  \n",
       "543   3499096        0.015  \n",
       "544   3506086        0.019  \n",
       "545   3515208        0.021  \n",
       "\n",
       "[546 rows x 11 columns]"
      ]
     },
     "execution_count": 68,
     "metadata": {},
     "output_type": "execute_result"
    }
   ],
   "source": [
    "global_data_UY"
   ]
  },
  {
   "cell_type": "code",
   "execution_count": 69,
   "metadata": {},
   "outputs": [],
   "source": [
    "global_data_UY ['fecha'] = pd.to_datetime (global_data_UY ['fecha'], errors = 'coerce', dayfirst = True)"
   ]
  },
  {
   "cell_type": "code",
   "execution_count": 70,
   "metadata": {},
   "outputs": [],
   "source": [
    "global_data_UY.insert (0, 'País', 'Uruguay')"
   ]
  },
  {
   "cell_type": "code",
   "execution_count": 71,
   "metadata": {},
   "outputs": [
    {
     "data": {
      "text/html": [
       "<div>\n",
       "<style scoped>\n",
       "    .dataframe tbody tr th:only-of-type {\n",
       "        vertical-align: middle;\n",
       "    }\n",
       "\n",
       "    .dataframe tbody tr th {\n",
       "        vertical-align: top;\n",
       "    }\n",
       "\n",
       "    .dataframe thead th {\n",
       "        text-align: right;\n",
       "    }\n",
       "</style>\n",
       "<table border=\"1\" class=\"dataframe\">\n",
       "  <thead>\n",
       "    <tr style=\"text-align: right;\">\n",
       "      <th></th>\n",
       "      <th>País</th>\n",
       "      <th>fecha</th>\n",
       "      <th>cantPersonasConInfeccionEnCurso</th>\n",
       "      <th>cantCasosNuevosConsolidado</th>\n",
       "      <th>acumCasos</th>\n",
       "      <th>cantFallecidos</th>\n",
       "      <th>acumFallecidos</th>\n",
       "      <th>cantCTI</th>\n",
       "      <th>cantCI</th>\n",
       "      <th>cantTest</th>\n",
       "      <th>acumTest</th>\n",
       "      <th>Positividad</th>\n",
       "    </tr>\n",
       "  </thead>\n",
       "  <tbody>\n",
       "    <tr>\n",
       "      <th>541</th>\n",
       "      <td>Uruguay</td>\n",
       "      <td>2021-09-17</td>\n",
       "      <td>1664</td>\n",
       "      <td>157</td>\n",
       "      <td>387449</td>\n",
       "      <td>0</td>\n",
       "      <td>6046</td>\n",
       "      <td>11</td>\n",
       "      <td>0</td>\n",
       "      <td>8658</td>\n",
       "      <td>3485511</td>\n",
       "      <td>0.018</td>\n",
       "    </tr>\n",
       "    <tr>\n",
       "      <th>542</th>\n",
       "      <td>Uruguay</td>\n",
       "      <td>2021-09-18</td>\n",
       "      <td>1624</td>\n",
       "      <td>121</td>\n",
       "      <td>387555</td>\n",
       "      <td>2</td>\n",
       "      <td>6048</td>\n",
       "      <td>11</td>\n",
       "      <td>0</td>\n",
       "      <td>8082</td>\n",
       "      <td>3493593</td>\n",
       "      <td>0.015</td>\n",
       "    </tr>\n",
       "    <tr>\n",
       "      <th>543</th>\n",
       "      <td>Uruguay</td>\n",
       "      <td>2021-09-19</td>\n",
       "      <td>1593</td>\n",
       "      <td>84</td>\n",
       "      <td>387627</td>\n",
       "      <td>0</td>\n",
       "      <td>6048</td>\n",
       "      <td>11</td>\n",
       "      <td>0</td>\n",
       "      <td>5503</td>\n",
       "      <td>3499096</td>\n",
       "      <td>0.015</td>\n",
       "    </tr>\n",
       "    <tr>\n",
       "      <th>544</th>\n",
       "      <td>Uruguay</td>\n",
       "      <td>2021-09-20</td>\n",
       "      <td>1560</td>\n",
       "      <td>130</td>\n",
       "      <td>387744</td>\n",
       "      <td>0</td>\n",
       "      <td>6048</td>\n",
       "      <td>14</td>\n",
       "      <td>0</td>\n",
       "      <td>6990</td>\n",
       "      <td>3506086</td>\n",
       "      <td>0.019</td>\n",
       "    </tr>\n",
       "    <tr>\n",
       "      <th>545</th>\n",
       "      <td>Uruguay</td>\n",
       "      <td>2021-09-21</td>\n",
       "      <td>1540</td>\n",
       "      <td>188</td>\n",
       "      <td>387922</td>\n",
       "      <td>1</td>\n",
       "      <td>6049</td>\n",
       "      <td>15</td>\n",
       "      <td>0</td>\n",
       "      <td>9122</td>\n",
       "      <td>3515208</td>\n",
       "      <td>0.021</td>\n",
       "    </tr>\n",
       "  </tbody>\n",
       "</table>\n",
       "</div>"
      ],
      "text/plain": [
       "        País      fecha  cantPersonasConInfeccionEnCurso  \\\n",
       "541  Uruguay 2021-09-17                             1664   \n",
       "542  Uruguay 2021-09-18                             1624   \n",
       "543  Uruguay 2021-09-19                             1593   \n",
       "544  Uruguay 2021-09-20                             1560   \n",
       "545  Uruguay 2021-09-21                             1540   \n",
       "\n",
       "     cantCasosNuevosConsolidado  acumCasos  cantFallecidos  acumFallecidos  \\\n",
       "541                         157     387449               0            6046   \n",
       "542                         121     387555               2            6048   \n",
       "543                          84     387627               0            6048   \n",
       "544                         130     387744               0            6048   \n",
       "545                         188     387922               1            6049   \n",
       "\n",
       "     cantCTI  cantCI  cantTest  acumTest  Positividad  \n",
       "541       11       0      8658   3485511        0.018  \n",
       "542       11       0      8082   3493593        0.015  \n",
       "543       11       0      5503   3499096        0.015  \n",
       "544       14       0      6990   3506086        0.019  \n",
       "545       15       0      9122   3515208        0.021  "
      ]
     },
     "execution_count": 71,
     "metadata": {},
     "output_type": "execute_result"
    }
   ],
   "source": [
    "global_data_UY.tail()"
   ]
  },
  {
   "cell_type": "markdown",
   "metadata": {},
   "source": [
    "<a id = 'Sección2.2'></a>"
   ]
  },
  {
   "cell_type": "markdown",
   "metadata": {},
   "source": [
    "### 2.2. Datos generales por departamento"
   ]
  },
  {
   "cell_type": "code",
   "execution_count": 72,
   "metadata": {},
   "outputs": [],
   "source": [
    "detailed_data_per_dep_UY = pd.read_csv (r\"Datos covid Uruguay\\estadisticasUY_porDepto_detalle.csv\",\n",
    "                                usecols = ['fecha', 'departamento', 'enCurso', 'cantCasosNuevosConsolidado', 'cantFallecidos',\n",
    "                                          'acumFallecidos','acumcasos'])"
   ]
  },
  {
   "cell_type": "code",
   "execution_count": 73,
   "metadata": {},
   "outputs": [],
   "source": [
    "detailed_data_per_dep_UY ['fecha'] = pd.to_datetime (detailed_data_per_dep_UY ['fecha'], errors = 'coerce', dayfirst = True)"
   ]
  },
  {
   "cell_type": "code",
   "execution_count": 74,
   "metadata": {},
   "outputs": [],
   "source": [
    "# Se utiliza el método .str para quitar el código ISO que acompaña al nombre del departamento en la columna 'departamento'.\n",
    "# Así, por ejemplo, 'Artigas(UY-AR)' pasa a ser 'Artigas'.\n",
    "\n",
    "detailed_data_per_dep_UY['departamento'] = detailed_data_per_dep_UY['departamento'].str[:-7]"
   ]
  },
  {
   "cell_type": "code",
   "execution_count": 75,
   "metadata": {
    "scrolled": true
   },
   "outputs": [
    {
     "data": {
      "text/html": [
       "<div>\n",
       "<style scoped>\n",
       "    .dataframe tbody tr th:only-of-type {\n",
       "        vertical-align: middle;\n",
       "    }\n",
       "\n",
       "    .dataframe tbody tr th {\n",
       "        vertical-align: top;\n",
       "    }\n",
       "\n",
       "    .dataframe thead th {\n",
       "        text-align: right;\n",
       "    }\n",
       "</style>\n",
       "<table border=\"1\" class=\"dataframe\">\n",
       "  <thead>\n",
       "    <tr style=\"text-align: right;\">\n",
       "      <th></th>\n",
       "      <th>fecha</th>\n",
       "      <th>departamento</th>\n",
       "      <th>enCurso</th>\n",
       "      <th>cantCasosNuevosConsolidado</th>\n",
       "      <th>cantFallecidos</th>\n",
       "      <th>acumFallecidos</th>\n",
       "      <th>acumcasos</th>\n",
       "    </tr>\n",
       "  </thead>\n",
       "  <tbody>\n",
       "    <tr>\n",
       "      <th>0</th>\n",
       "      <td>2020-04-29</td>\n",
       "      <td>Artigas</td>\n",
       "      <td>0</td>\n",
       "      <td>0</td>\n",
       "      <td>0</td>\n",
       "      <td>0</td>\n",
       "      <td>0</td>\n",
       "    </tr>\n",
       "    <tr>\n",
       "      <th>1</th>\n",
       "      <td>2020-04-29</td>\n",
       "      <td>Canelones</td>\n",
       "      <td>17</td>\n",
       "      <td>0</td>\n",
       "      <td>0</td>\n",
       "      <td>2</td>\n",
       "      <td>85</td>\n",
       "    </tr>\n",
       "    <tr>\n",
       "      <th>2</th>\n",
       "      <td>2020-04-29</td>\n",
       "      <td>Cerro Largo</td>\n",
       "      <td>0</td>\n",
       "      <td>0</td>\n",
       "      <td>0</td>\n",
       "      <td>0</td>\n",
       "      <td>0</td>\n",
       "    </tr>\n",
       "    <tr>\n",
       "      <th>3</th>\n",
       "      <td>2020-04-29</td>\n",
       "      <td>Colonia</td>\n",
       "      <td>2</td>\n",
       "      <td>0</td>\n",
       "      <td>0</td>\n",
       "      <td>0</td>\n",
       "      <td>8</td>\n",
       "    </tr>\n",
       "    <tr>\n",
       "      <th>4</th>\n",
       "      <td>2020-04-29</td>\n",
       "      <td>Durazno</td>\n",
       "      <td>0</td>\n",
       "      <td>0</td>\n",
       "      <td>0</td>\n",
       "      <td>0</td>\n",
       "      <td>1</td>\n",
       "    </tr>\n",
       "  </tbody>\n",
       "</table>\n",
       "</div>"
      ],
      "text/plain": [
       "       fecha departamento  enCurso  cantCasosNuevosConsolidado  \\\n",
       "0 2020-04-29      Artigas        0                           0   \n",
       "1 2020-04-29    Canelones       17                           0   \n",
       "2 2020-04-29  Cerro Largo        0                           0   \n",
       "3 2020-04-29      Colonia        2                           0   \n",
       "4 2020-04-29      Durazno        0                           0   \n",
       "\n",
       "   cantFallecidos  acumFallecidos  acumcasos  \n",
       "0               0               0          0  \n",
       "1               0               2         85  \n",
       "2               0               0          0  \n",
       "3               0               0          8  \n",
       "4               0               0          1  "
      ]
     },
     "execution_count": 75,
     "metadata": {},
     "output_type": "execute_result"
    }
   ],
   "source": [
    "detailed_data_per_dep_UY.head()"
   ]
  },
  {
   "cell_type": "markdown",
   "metadata": {},
   "source": [
    "<a id = 'Sección2.3'></a>"
   ]
  },
  {
   "cell_type": "markdown",
   "metadata": {},
   "source": [
    "### 2.3. Datos vacunación a nivel nacional"
   ]
  },
  {
   "cell_type": "code",
   "execution_count": 76,
   "metadata": {},
   "outputs": [],
   "source": [
    "vaccination_UY = pd.read_csv (r\"Datos covid Uruguay\\Uruguay.csv\",\n",
    "                    usecols = ['date', 'people_vaccinated','people_fully_vaccinated','daily_vaccinated',\n",
    "                               'daily_coronavac', 'total_coronavac','people_coronavac', 'fully_coronavac', 'daily_pfizer', \n",
    "                               'total_pfizer', 'people_pfizer', 'fully_pfizer', 'daily_astrazeneca', 'total_astrazeneca', \n",
    "                               'people_astrazeneca', 'fully_astrazeneca', 'total_boosters', 'daily_boosters']) "
   ]
  },
  {
   "cell_type": "code",
   "execution_count": 77,
   "metadata": {},
   "outputs": [],
   "source": [
    "vaccination_UY ['date'] = pd.to_datetime (vaccination_UY ['date'], errors = 'coerce')"
   ]
  },
  {
   "cell_type": "code",
   "execution_count": 78,
   "metadata": {
    "scrolled": true
   },
   "outputs": [
    {
     "data": {
      "text/html": [
       "<div>\n",
       "<style scoped>\n",
       "    .dataframe tbody tr th:only-of-type {\n",
       "        vertical-align: middle;\n",
       "    }\n",
       "\n",
       "    .dataframe tbody tr th {\n",
       "        vertical-align: top;\n",
       "    }\n",
       "\n",
       "    .dataframe thead th {\n",
       "        text-align: right;\n",
       "    }\n",
       "</style>\n",
       "<table border=\"1\" class=\"dataframe\">\n",
       "  <thead>\n",
       "    <tr style=\"text-align: right;\">\n",
       "      <th></th>\n",
       "      <th>date</th>\n",
       "      <th>people_vaccinated</th>\n",
       "      <th>people_fully_vaccinated</th>\n",
       "      <th>daily_vaccinated</th>\n",
       "      <th>daily_coronavac</th>\n",
       "      <th>total_coronavac</th>\n",
       "      <th>people_coronavac</th>\n",
       "      <th>fully_coronavac</th>\n",
       "      <th>daily_pfizer</th>\n",
       "      <th>total_pfizer</th>\n",
       "      <th>people_pfizer</th>\n",
       "      <th>fully_pfizer</th>\n",
       "      <th>daily_astrazeneca</th>\n",
       "      <th>total_astrazeneca</th>\n",
       "      <th>people_astrazeneca</th>\n",
       "      <th>fully_astrazeneca</th>\n",
       "      <th>total_boosters</th>\n",
       "      <th>daily_boosters</th>\n",
       "    </tr>\n",
       "  </thead>\n",
       "  <tbody>\n",
       "    <tr>\n",
       "      <th>202</th>\n",
       "      <td>2021-09-17</td>\n",
       "      <td>2716920</td>\n",
       "      <td>2558818</td>\n",
       "      <td>34276</td>\n",
       "      <td>40</td>\n",
       "      <td>3245730</td>\n",
       "      <td>9</td>\n",
       "      <td>31</td>\n",
       "      <td>5856</td>\n",
       "      <td>1943410</td>\n",
       "      <td>2686</td>\n",
       "      <td>3170</td>\n",
       "      <td>0</td>\n",
       "      <td>86598</td>\n",
       "      <td>0</td>\n",
       "      <td>0</td>\n",
       "      <td>741810</td>\n",
       "      <td>28380</td>\n",
       "    </tr>\n",
       "    <tr>\n",
       "      <th>203</th>\n",
       "      <td>2021-09-18</td>\n",
       "      <td>2716924</td>\n",
       "      <td>2558828</td>\n",
       "      <td>51</td>\n",
       "      <td>0</td>\n",
       "      <td>3245730</td>\n",
       "      <td>0</td>\n",
       "      <td>0</td>\n",
       "      <td>14</td>\n",
       "      <td>1943424</td>\n",
       "      <td>4</td>\n",
       "      <td>10</td>\n",
       "      <td>0</td>\n",
       "      <td>86598</td>\n",
       "      <td>0</td>\n",
       "      <td>0</td>\n",
       "      <td>741847</td>\n",
       "      <td>37</td>\n",
       "    </tr>\n",
       "    <tr>\n",
       "      <th>204</th>\n",
       "      <td>2021-09-19</td>\n",
       "      <td>2716924</td>\n",
       "      <td>2558828</td>\n",
       "      <td>0</td>\n",
       "      <td>0</td>\n",
       "      <td>3245730</td>\n",
       "      <td>0</td>\n",
       "      <td>0</td>\n",
       "      <td>0</td>\n",
       "      <td>1943424</td>\n",
       "      <td>0</td>\n",
       "      <td>0</td>\n",
       "      <td>0</td>\n",
       "      <td>86598</td>\n",
       "      <td>0</td>\n",
       "      <td>0</td>\n",
       "      <td>741847</td>\n",
       "      <td>0</td>\n",
       "    </tr>\n",
       "    <tr>\n",
       "      <th>205</th>\n",
       "      <td>2021-09-20</td>\n",
       "      <td>2719833</td>\n",
       "      <td>2559813</td>\n",
       "      <td>24900</td>\n",
       "      <td>21</td>\n",
       "      <td>3245751</td>\n",
       "      <td>5</td>\n",
       "      <td>16</td>\n",
       "      <td>3871</td>\n",
       "      <td>1947295</td>\n",
       "      <td>2904</td>\n",
       "      <td>967</td>\n",
       "      <td>2</td>\n",
       "      <td>86600</td>\n",
       "      <td>0</td>\n",
       "      <td>2</td>\n",
       "      <td>762853</td>\n",
       "      <td>21006</td>\n",
       "    </tr>\n",
       "    <tr>\n",
       "      <th>206</th>\n",
       "      <td>2021-09-21</td>\n",
       "      <td>2721847</td>\n",
       "      <td>2560763</td>\n",
       "      <td>26808</td>\n",
       "      <td>23</td>\n",
       "      <td>3245774</td>\n",
       "      <td>7</td>\n",
       "      <td>16</td>\n",
       "      <td>2899</td>\n",
       "      <td>1950194</td>\n",
       "      <td>1987</td>\n",
       "      <td>912</td>\n",
       "      <td>0</td>\n",
       "      <td>86600</td>\n",
       "      <td>0</td>\n",
       "      <td>0</td>\n",
       "      <td>786697</td>\n",
       "      <td>23844</td>\n",
       "    </tr>\n",
       "  </tbody>\n",
       "</table>\n",
       "</div>"
      ],
      "text/plain": [
       "          date  people_vaccinated  people_fully_vaccinated  daily_vaccinated  \\\n",
       "202 2021-09-17            2716920                  2558818             34276   \n",
       "203 2021-09-18            2716924                  2558828                51   \n",
       "204 2021-09-19            2716924                  2558828                 0   \n",
       "205 2021-09-20            2719833                  2559813             24900   \n",
       "206 2021-09-21            2721847                  2560763             26808   \n",
       "\n",
       "     daily_coronavac  total_coronavac  people_coronavac  fully_coronavac  \\\n",
       "202               40          3245730                 9               31   \n",
       "203                0          3245730                 0                0   \n",
       "204                0          3245730                 0                0   \n",
       "205               21          3245751                 5               16   \n",
       "206               23          3245774                 7               16   \n",
       "\n",
       "     daily_pfizer  total_pfizer  people_pfizer  fully_pfizer  \\\n",
       "202          5856       1943410           2686          3170   \n",
       "203            14       1943424              4            10   \n",
       "204             0       1943424              0             0   \n",
       "205          3871       1947295           2904           967   \n",
       "206          2899       1950194           1987           912   \n",
       "\n",
       "     daily_astrazeneca  total_astrazeneca  people_astrazeneca  \\\n",
       "202                  0              86598                   0   \n",
       "203                  0              86598                   0   \n",
       "204                  0              86598                   0   \n",
       "205                  2              86600                   0   \n",
       "206                  0              86600                   0   \n",
       "\n",
       "     fully_astrazeneca  total_boosters  daily_boosters  \n",
       "202                  0          741810           28380  \n",
       "203                  0          741847              37  \n",
       "204                  0          741847               0  \n",
       "205                  2          762853           21006  \n",
       "206                  0          786697           23844  "
      ]
     },
     "execution_count": 78,
     "metadata": {},
     "output_type": "execute_result"
    }
   ],
   "source": [
    "vaccination_UY.tail()"
   ]
  },
  {
   "cell_type": "markdown",
   "metadata": {},
   "source": [
    "<a id = 'Sección3'></a>"
   ]
  },
  {
   "cell_type": "markdown",
   "metadata": {},
   "source": [
    "## 3. Índice de rigurosidad para Chile y Uruguay"
   ]
  },
  {
   "cell_type": "markdown",
   "metadata": {},
   "source": [
    "El índice de rigurosidad corresponde a un indicador desarrollado por la Universidad de Oxford que recopila información sistemática sobre las medidas políticas que los gobiernos han tomado para abordar el COVID-19. Evalúa un total de 23 medidas, entre las cuales se encuentran: cierre de escuelas, restricciones a los viajes y política de vacunación. El índice de rigurosidad se mide en una escala del 0 al 100, donde 100 indica el uso de las medidas más estrictas. Para más información visitar [COVID-19 Government Response Tracker](https://www.bsg.ox.ac.uk/research/research-projects/covid-19-government-response-tracker).  \n",
    "\n",
    "Los datos históricos del índice de rigurosidad fueron obtenidos de [Our World in Data](https://ourworldindata.org/coronavirus)."
   ]
  },
  {
   "cell_type": "code",
   "execution_count": 79,
   "metadata": {},
   "outputs": [],
   "source": [
    "stringency_index = pd.read_csv (r\"Datos covid One World\\owid-covid-data.csv\",\n",
    "                 usecols = ['location', 'date', 'stringency_index'] )"
   ]
  },
  {
   "cell_type": "code",
   "execution_count": 80,
   "metadata": {},
   "outputs": [],
   "source": [
    "# Se filtran los datos para que aparezcan solo aquellas filas correspondientes a Chile y Uruguay.\n",
    "\n",
    "stringency_index = stringency_index [(stringency_index ['location'] == 'Chile') | (stringency_index ['location'] == 'Uruguay')]"
   ]
  },
  {
   "cell_type": "code",
   "execution_count": 81,
   "metadata": {},
   "outputs": [],
   "source": [
    "stringency_index.reset_index (drop = True, inplace = True)"
   ]
  },
  {
   "cell_type": "code",
   "execution_count": 82,
   "metadata": {},
   "outputs": [],
   "source": [
    "stringency_index ['date'] = pd.to_datetime (stringency_index ['date'], errors = 'coerce')"
   ]
  },
  {
   "cell_type": "code",
   "execution_count": 83,
   "metadata": {},
   "outputs": [],
   "source": [
    "stringency_index.rename(columns={'location':'País','date':'Fecha','stringency_index':'Índice de rigurosidad'}, inplace=True)"
   ]
  },
  {
   "cell_type": "code",
   "execution_count": 84,
   "metadata": {},
   "outputs": [
    {
     "data": {
      "text/html": [
       "<div>\n",
       "<style scoped>\n",
       "    .dataframe tbody tr th:only-of-type {\n",
       "        vertical-align: middle;\n",
       "    }\n",
       "\n",
       "    .dataframe tbody tr th {\n",
       "        vertical-align: top;\n",
       "    }\n",
       "\n",
       "    .dataframe thead th {\n",
       "        text-align: right;\n",
       "    }\n",
       "</style>\n",
       "<table border=\"1\" class=\"dataframe\">\n",
       "  <thead>\n",
       "    <tr style=\"text-align: right;\">\n",
       "      <th></th>\n",
       "      <th>País</th>\n",
       "      <th>Fecha</th>\n",
       "      <th>Índice de rigurosidad</th>\n",
       "    </tr>\n",
       "  </thead>\n",
       "  <tbody>\n",
       "    <tr>\n",
       "      <th>0</th>\n",
       "      <td>Chile</td>\n",
       "      <td>2020-02-23</td>\n",
       "      <td>0.00</td>\n",
       "    </tr>\n",
       "    <tr>\n",
       "      <th>1</th>\n",
       "      <td>Chile</td>\n",
       "      <td>2020-02-24</td>\n",
       "      <td>0.00</td>\n",
       "    </tr>\n",
       "    <tr>\n",
       "      <th>2</th>\n",
       "      <td>Chile</td>\n",
       "      <td>2020-02-25</td>\n",
       "      <td>0.00</td>\n",
       "    </tr>\n",
       "    <tr>\n",
       "      <th>3</th>\n",
       "      <td>Chile</td>\n",
       "      <td>2020-02-26</td>\n",
       "      <td>0.00</td>\n",
       "    </tr>\n",
       "    <tr>\n",
       "      <th>4</th>\n",
       "      <td>Chile</td>\n",
       "      <td>2020-02-27</td>\n",
       "      <td>0.00</td>\n",
       "    </tr>\n",
       "    <tr>\n",
       "      <th>...</th>\n",
       "      <td>...</td>\n",
       "      <td>...</td>\n",
       "      <td>...</td>\n",
       "    </tr>\n",
       "    <tr>\n",
       "      <th>995</th>\n",
       "      <td>Uruguay</td>\n",
       "      <td>2021-05-13</td>\n",
       "      <td>72.22</td>\n",
       "    </tr>\n",
       "    <tr>\n",
       "      <th>996</th>\n",
       "      <td>Uruguay</td>\n",
       "      <td>2021-05-14</td>\n",
       "      <td>72.22</td>\n",
       "    </tr>\n",
       "    <tr>\n",
       "      <th>997</th>\n",
       "      <td>Uruguay</td>\n",
       "      <td>2021-05-15</td>\n",
       "      <td>72.22</td>\n",
       "    </tr>\n",
       "    <tr>\n",
       "      <th>998</th>\n",
       "      <td>Uruguay</td>\n",
       "      <td>2021-05-16</td>\n",
       "      <td>72.22</td>\n",
       "    </tr>\n",
       "    <tr>\n",
       "      <th>999</th>\n",
       "      <td>Uruguay</td>\n",
       "      <td>2021-05-17</td>\n",
       "      <td>72.22</td>\n",
       "    </tr>\n",
       "  </tbody>\n",
       "</table>\n",
       "<p>1000 rows × 3 columns</p>\n",
       "</div>"
      ],
      "text/plain": [
       "        País      Fecha  Índice de rigurosidad\n",
       "0      Chile 2020-02-23                   0.00\n",
       "1      Chile 2020-02-24                   0.00\n",
       "2      Chile 2020-02-25                   0.00\n",
       "3      Chile 2020-02-26                   0.00\n",
       "4      Chile 2020-02-27                   0.00\n",
       "..       ...        ...                    ...\n",
       "995  Uruguay 2021-05-13                  72.22\n",
       "996  Uruguay 2021-05-14                  72.22\n",
       "997  Uruguay 2021-05-15                  72.22\n",
       "998  Uruguay 2021-05-16                  72.22\n",
       "999  Uruguay 2021-05-17                  72.22\n",
       "\n",
       "[1000 rows x 3 columns]"
      ]
     },
     "execution_count": 84,
     "metadata": {},
     "output_type": "execute_result"
    }
   ],
   "source": [
    "stringency_index.head(1000)"
   ]
  },
  {
   "cell_type": "markdown",
   "metadata": {},
   "source": [
    "<a id = 'Sección4'></a>"
   ]
  },
  {
   "cell_type": "markdown",
   "metadata": {},
   "source": [
    "## 4. Cantidad de habitantes"
   ]
  },
  {
   "cell_type": "markdown",
   "metadata": {},
   "source": [
    "Para posteriores análisis, es necesario contar con la cantidad de habitantes total, por región/departamento y por rangos etarios. Es por ello se utilizan las proyección de la población realizadas por el Instituo Nacional de Estadística de [Chile](https://www.ine.cl/estadisticas/sociales/demografia-y-vitales/proyecciones-de-poblacion) y [Uruguay](https://www.ine.gub.uy/estimaciones-y-proyecciones) para el año 2020."
   ]
  },
  {
   "cell_type": "markdown",
   "metadata": {},
   "source": [
    "<a id = 'Sección4.1'></a>"
   ]
  },
  {
   "cell_type": "markdown",
   "metadata": {},
   "source": [
    "### 4.1. Cantidad de habitantes en Chile"
   ]
  },
  {
   "cell_type": "markdown",
   "metadata": {},
   "source": [
    "<a id = 'Sección4.1.1'></a>"
   ]
  },
  {
   "cell_type": "markdown",
   "metadata": {},
   "source": [
    "#### 4.1.1. Cantidad de habitantes por región"
   ]
  },
  {
   "cell_type": "code",
   "execution_count": 85,
   "metadata": {},
   "outputs": [],
   "source": [
    "population_CH = pd.read_csv (r\"Datos Covid Chile\\PCR_T.csv\", nrows = 2, index_col = 0)"
   ]
  },
  {
   "cell_type": "code",
   "execution_count": 86,
   "metadata": {},
   "outputs": [],
   "source": [
    "population_CH = population_CH.iloc [[1]]"
   ]
  },
  {
   "cell_type": "code",
   "execution_count": 87,
   "metadata": {},
   "outputs": [],
   "source": [
    "population_CH = population_CH.transpose()"
   ]
  },
  {
   "cell_type": "code",
   "execution_count": 88,
   "metadata": {},
   "outputs": [],
   "source": [
    "population_CH.reset_index (inplace = True)"
   ]
  },
  {
   "cell_type": "code",
   "execution_count": 89,
   "metadata": {},
   "outputs": [],
   "source": [
    "population_CH.rename_axis (None, axis = 1, inplace= True)"
   ]
  },
  {
   "cell_type": "code",
   "execution_count": 90,
   "metadata": {},
   "outputs": [],
   "source": [
    "population_CH.rename (columns = {'index':'Region'}, inplace = True)"
   ]
  },
  {
   "cell_type": "code",
   "execution_count": 91,
   "metadata": {},
   "outputs": [
    {
     "data": {
      "text/html": [
       "<div>\n",
       "<style scoped>\n",
       "    .dataframe tbody tr th:only-of-type {\n",
       "        vertical-align: middle;\n",
       "    }\n",
       "\n",
       "    .dataframe tbody tr th {\n",
       "        vertical-align: top;\n",
       "    }\n",
       "\n",
       "    .dataframe thead th {\n",
       "        text-align: right;\n",
       "    }\n",
       "</style>\n",
       "<table border=\"1\" class=\"dataframe\">\n",
       "  <thead>\n",
       "    <tr style=\"text-align: right;\">\n",
       "      <th></th>\n",
       "      <th>Region</th>\n",
       "      <th>Poblacion</th>\n",
       "    </tr>\n",
       "  </thead>\n",
       "  <tbody>\n",
       "    <tr>\n",
       "      <th>0</th>\n",
       "      <td>Arica y Parinacota</td>\n",
       "      <td>252110</td>\n",
       "    </tr>\n",
       "    <tr>\n",
       "      <th>1</th>\n",
       "      <td>Tarapacá</td>\n",
       "      <td>382773</td>\n",
       "    </tr>\n",
       "    <tr>\n",
       "      <th>2</th>\n",
       "      <td>Antofagasta</td>\n",
       "      <td>691854</td>\n",
       "    </tr>\n",
       "    <tr>\n",
       "      <th>3</th>\n",
       "      <td>Atacama</td>\n",
       "      <td>314709</td>\n",
       "    </tr>\n",
       "    <tr>\n",
       "      <th>4</th>\n",
       "      <td>Coquimbo</td>\n",
       "      <td>836096</td>\n",
       "    </tr>\n",
       "    <tr>\n",
       "      <th>5</th>\n",
       "      <td>Valparaíso</td>\n",
       "      <td>1960170</td>\n",
       "    </tr>\n",
       "    <tr>\n",
       "      <th>6</th>\n",
       "      <td>Metropolitana</td>\n",
       "      <td>8125072</td>\n",
       "    </tr>\n",
       "    <tr>\n",
       "      <th>7</th>\n",
       "      <td>O’Higgins</td>\n",
       "      <td>991063</td>\n",
       "    </tr>\n",
       "    <tr>\n",
       "      <th>8</th>\n",
       "      <td>Maule</td>\n",
       "      <td>1131939</td>\n",
       "    </tr>\n",
       "    <tr>\n",
       "      <th>9</th>\n",
       "      <td>Ñuble</td>\n",
       "      <td>511551</td>\n",
       "    </tr>\n",
       "    <tr>\n",
       "      <th>10</th>\n",
       "      <td>Biobío</td>\n",
       "      <td>1663696</td>\n",
       "    </tr>\n",
       "    <tr>\n",
       "      <th>11</th>\n",
       "      <td>Araucanía</td>\n",
       "      <td>1014343</td>\n",
       "    </tr>\n",
       "    <tr>\n",
       "      <th>12</th>\n",
       "      <td>Los Ríos</td>\n",
       "      <td>405835</td>\n",
       "    </tr>\n",
       "    <tr>\n",
       "      <th>13</th>\n",
       "      <td>Los Lagos</td>\n",
       "      <td>891440</td>\n",
       "    </tr>\n",
       "    <tr>\n",
       "      <th>14</th>\n",
       "      <td>Aysén</td>\n",
       "      <td>107297</td>\n",
       "    </tr>\n",
       "    <tr>\n",
       "      <th>15</th>\n",
       "      <td>Magallanes</td>\n",
       "      <td>178362</td>\n",
       "    </tr>\n",
       "  </tbody>\n",
       "</table>\n",
       "</div>"
      ],
      "text/plain": [
       "                Region  Poblacion\n",
       "0   Arica y Parinacota     252110\n",
       "1             Tarapacá     382773\n",
       "2          Antofagasta     691854\n",
       "3              Atacama     314709\n",
       "4             Coquimbo     836096\n",
       "5           Valparaíso    1960170\n",
       "6        Metropolitana    8125072\n",
       "7            O’Higgins     991063\n",
       "8                Maule    1131939\n",
       "9                Ñuble     511551\n",
       "10              Biobío    1663696\n",
       "11           Araucanía    1014343\n",
       "12            Los Ríos     405835\n",
       "13           Los Lagos     891440\n",
       "14               Aysén     107297\n",
       "15          Magallanes     178362"
      ]
     },
     "execution_count": 91,
     "metadata": {},
     "output_type": "execute_result"
    }
   ],
   "source": [
    "population_CH"
   ]
  },
  {
   "cell_type": "markdown",
   "metadata": {},
   "source": [
    "<a id = 'Sección4.1.2'></a>"
   ]
  },
  {
   "cell_type": "markdown",
   "metadata": {},
   "source": [
    "#### 4.1.2. Cantidad de habitantes por rango etario"
   ]
  },
  {
   "cell_type": "code",
   "execution_count": 92,
   "metadata": {},
   "outputs": [],
   "source": [
    "ine_pop_per_age_CH = pd.read_csv (r\"Datos Covid Chile\\ine_estimaciones_y_proyecciones_de_población.csv\", sep =';',usecols=['EDAD','2020'])"
   ]
  },
  {
   "cell_type": "code",
   "execution_count": 93,
   "metadata": {},
   "outputs": [],
   "source": [
    "ine_pop_per_age_CH.dropna(inplace=True)"
   ]
  },
  {
   "cell_type": "code",
   "execution_count": 94,
   "metadata": {},
   "outputs": [
    {
     "data": {
      "text/html": [
       "<div>\n",
       "<style scoped>\n",
       "    .dataframe tbody tr th:only-of-type {\n",
       "        vertical-align: middle;\n",
       "    }\n",
       "\n",
       "    .dataframe tbody tr th {\n",
       "        vertical-align: top;\n",
       "    }\n",
       "\n",
       "    .dataframe thead th {\n",
       "        text-align: right;\n",
       "    }\n",
       "</style>\n",
       "<table border=\"1\" class=\"dataframe\">\n",
       "  <thead>\n",
       "    <tr style=\"text-align: right;\">\n",
       "      <th></th>\n",
       "      <th>EDAD</th>\n",
       "      <th>2020</th>\n",
       "    </tr>\n",
       "  </thead>\n",
       "  <tbody>\n",
       "    <tr>\n",
       "      <th>0</th>\n",
       "      <td>0</td>\n",
       "      <td>234728</td>\n",
       "    </tr>\n",
       "    <tr>\n",
       "      <th>1</th>\n",
       "      <td>1</td>\n",
       "      <td>231718</td>\n",
       "    </tr>\n",
       "    <tr>\n",
       "      <th>2</th>\n",
       "      <td>2</td>\n",
       "      <td>231894</td>\n",
       "    </tr>\n",
       "    <tr>\n",
       "      <th>3</th>\n",
       "      <td>3</td>\n",
       "      <td>239289</td>\n",
       "    </tr>\n",
       "    <tr>\n",
       "      <th>4</th>\n",
       "      <td>4</td>\n",
       "      <td>252753</td>\n",
       "    </tr>\n",
       "    <tr>\n",
       "      <th>...</th>\n",
       "      <td>...</td>\n",
       "      <td>...</td>\n",
       "    </tr>\n",
       "    <tr>\n",
       "      <th>97</th>\n",
       "      <td>97</td>\n",
       "      <td>3946</td>\n",
       "    </tr>\n",
       "    <tr>\n",
       "      <th>98</th>\n",
       "      <td>98</td>\n",
       "      <td>2825</td>\n",
       "    </tr>\n",
       "    <tr>\n",
       "      <th>99</th>\n",
       "      <td>99</td>\n",
       "      <td>2004</td>\n",
       "    </tr>\n",
       "    <tr>\n",
       "      <th>100</th>\n",
       "      <td>100+</td>\n",
       "      <td>4494</td>\n",
       "    </tr>\n",
       "    <tr>\n",
       "      <th>101</th>\n",
       "      <td>TOTAL</td>\n",
       "      <td>19458310</td>\n",
       "    </tr>\n",
       "  </tbody>\n",
       "</table>\n",
       "<p>102 rows × 2 columns</p>\n",
       "</div>"
      ],
      "text/plain": [
       "      EDAD      2020\n",
       "0        0    234728\n",
       "1        1    231718\n",
       "2        2    231894\n",
       "3        3    239289\n",
       "4        4    252753\n",
       "..     ...       ...\n",
       "97      97      3946\n",
       "98      98      2825\n",
       "99      99      2004\n",
       "100   100+      4494\n",
       "101  TOTAL  19458310\n",
       "\n",
       "[102 rows x 2 columns]"
      ]
     },
     "execution_count": 94,
     "metadata": {},
     "output_type": "execute_result"
    }
   ],
   "source": [
    "ine_pop_per_age_CH"
   ]
  },
  {
   "cell_type": "code",
   "execution_count": 95,
   "metadata": {},
   "outputs": [],
   "source": [
    "pop_per_age_CH = pd.Series(dtype = 'float64')"
   ]
  },
  {
   "cell_type": "code",
   "execution_count": 96,
   "metadata": {},
   "outputs": [],
   "source": [
    "pop_per_age_CH ['12 a 17 años'] = ine_pop_per_age_CH.iloc [12:18,1].sum()"
   ]
  },
  {
   "cell_type": "code",
   "execution_count": 97,
   "metadata": {},
   "outputs": [],
   "source": [
    "pop_per_age_CH ['18 a 24 años'] = ine_pop_per_age_CH.iloc [18:25,1].sum()"
   ]
  },
  {
   "cell_type": "code",
   "execution_count": 98,
   "metadata": {},
   "outputs": [],
   "source": [
    "pop_per_age_CH ['25 a 34 años'] = ine_pop_per_age_CH.iloc [25:35,1].sum()"
   ]
  },
  {
   "cell_type": "code",
   "execution_count": 99,
   "metadata": {},
   "outputs": [],
   "source": [
    "pop_per_age_CH ['35 a 44 años'] = ine_pop_per_age_CH.iloc [35:45,1].sum()"
   ]
  },
  {
   "cell_type": "code",
   "execution_count": 100,
   "metadata": {},
   "outputs": [],
   "source": [
    "pop_per_age_CH ['45 a 54 años'] = ine_pop_per_age_CH.iloc [45:55,1].sum()"
   ]
  },
  {
   "cell_type": "code",
   "execution_count": 101,
   "metadata": {},
   "outputs": [],
   "source": [
    "pop_per_age_CH ['55 a 64 años'] = ine_pop_per_age_CH.iloc [55:65,1].sum()"
   ]
  },
  {
   "cell_type": "code",
   "execution_count": 102,
   "metadata": {},
   "outputs": [],
   "source": [
    "pop_per_age_CH ['65 a 74 años'] = ine_pop_per_age_CH.iloc [65:75,1].sum()"
   ]
  },
  {
   "cell_type": "code",
   "execution_count": 103,
   "metadata": {},
   "outputs": [],
   "source": [
    "# No se contabiliza la última fila, puesto que contiene el total de habitantes.\n",
    "\n",
    "pop_per_age_CH ['75 o más años'] = ine_pop_per_age_CH.iloc [75:-1,1].sum()"
   ]
  },
  {
   "cell_type": "code",
   "execution_count": 104,
   "metadata": {},
   "outputs": [],
   "source": [
    "pop_per_age_CH = pop_per_age_CH.to_frame()"
   ]
  },
  {
   "cell_type": "code",
   "execution_count": 105,
   "metadata": {},
   "outputs": [],
   "source": [
    "pop_per_age_CH.reset_index(inplace=True)"
   ]
  },
  {
   "cell_type": "code",
   "execution_count": 106,
   "metadata": {},
   "outputs": [],
   "source": [
    "pop_per_age_CH.columns =['Rango de edad', 'Población']"
   ]
  },
  {
   "cell_type": "code",
   "execution_count": 107,
   "metadata": {},
   "outputs": [
    {
     "data": {
      "text/html": [
       "<div>\n",
       "<style scoped>\n",
       "    .dataframe tbody tr th:only-of-type {\n",
       "        vertical-align: middle;\n",
       "    }\n",
       "\n",
       "    .dataframe tbody tr th {\n",
       "        vertical-align: top;\n",
       "    }\n",
       "\n",
       "    .dataframe thead th {\n",
       "        text-align: right;\n",
       "    }\n",
       "</style>\n",
       "<table border=\"1\" class=\"dataframe\">\n",
       "  <thead>\n",
       "    <tr style=\"text-align: right;\">\n",
       "      <th></th>\n",
       "      <th>Rango de edad</th>\n",
       "      <th>Población</th>\n",
       "    </tr>\n",
       "  </thead>\n",
       "  <tbody>\n",
       "    <tr>\n",
       "      <th>0</th>\n",
       "      <td>12 a 17 años</td>\n",
       "      <td>1480623</td>\n",
       "    </tr>\n",
       "    <tr>\n",
       "      <th>1</th>\n",
       "      <td>18 a 24 años</td>\n",
       "      <td>1965314</td>\n",
       "    </tr>\n",
       "    <tr>\n",
       "      <th>2</th>\n",
       "      <td>25 a 34 años</td>\n",
       "      <td>3245358</td>\n",
       "    </tr>\n",
       "    <tr>\n",
       "      <th>3</th>\n",
       "      <td>35 a 44 años</td>\n",
       "      <td>2782247</td>\n",
       "    </tr>\n",
       "    <tr>\n",
       "      <th>4</th>\n",
       "      <td>45 a 54 años</td>\n",
       "      <td>2495938</td>\n",
       "    </tr>\n",
       "    <tr>\n",
       "      <th>5</th>\n",
       "      <td>55 a 64 años</td>\n",
       "      <td>2134870</td>\n",
       "    </tr>\n",
       "    <tr>\n",
       "      <th>6</th>\n",
       "      <td>65 a 74 años</td>\n",
       "      <td>1397997</td>\n",
       "    </tr>\n",
       "    <tr>\n",
       "      <th>7</th>\n",
       "      <td>75 o más años</td>\n",
       "      <td>960619</td>\n",
       "    </tr>\n",
       "  </tbody>\n",
       "</table>\n",
       "</div>"
      ],
      "text/plain": [
       "   Rango de edad  Población\n",
       "0   12 a 17 años    1480623\n",
       "1   18 a 24 años    1965314\n",
       "2   25 a 34 años    3245358\n",
       "3   35 a 44 años    2782247\n",
       "4   45 a 54 años    2495938\n",
       "5   55 a 64 años    2134870\n",
       "6   65 a 74 años    1397997\n",
       "7  75 o más años     960619"
      ]
     },
     "execution_count": 107,
     "metadata": {},
     "output_type": "execute_result"
    }
   ],
   "source": [
    "pop_per_age_CH"
   ]
  },
  {
   "cell_type": "markdown",
   "metadata": {},
   "source": [
    "<a id = 'Sección4.1.3'></a>"
   ]
  },
  {
   "cell_type": "markdown",
   "metadata": {},
   "source": [
    "#### 4.1.3. Cantidad total de habitantes"
   ]
  },
  {
   "cell_type": "code",
   "execution_count": 108,
   "metadata": {},
   "outputs": [
    {
     "data": {
      "text/plain": [
       "19458310"
      ]
     },
     "execution_count": 108,
     "metadata": {},
     "output_type": "execute_result"
    }
   ],
   "source": [
    "total_pop_CH = population_CH['Poblacion'].sum()\n",
    "total_pop_CH"
   ]
  },
  {
   "cell_type": "markdown",
   "metadata": {},
   "source": [
    "<a id = 'Sección4.2'></a>"
   ]
  },
  {
   "cell_type": "markdown",
   "metadata": {},
   "source": [
    "### 4.2 Cantidad de habitantes en Uruguay"
   ]
  },
  {
   "cell_type": "markdown",
   "metadata": {},
   "source": [
    "<a id = 'Sección4.2.1'></a>"
   ]
  },
  {
   "cell_type": "markdown",
   "metadata": {},
   "source": [
    "#### 4.2.1. Cantidad de habitantes por departamento"
   ]
  },
  {
   "cell_type": "code",
   "execution_count": 109,
   "metadata": {},
   "outputs": [],
   "source": [
    "population_UY = pd.read_excel (r\"Datos covid Uruguay\\INE población Uruguay.xlsx\", sheet_name = 'Pob por dep')"
   ]
  },
  {
   "cell_type": "code",
   "execution_count": 110,
   "metadata": {},
   "outputs": [
    {
     "data": {
      "text/plain": [
       "Index(['Departamento', 'Población'], dtype='object')"
      ]
     },
     "execution_count": 110,
     "metadata": {},
     "output_type": "execute_result"
    }
   ],
   "source": [
    "population_UY.columns"
   ]
  },
  {
   "cell_type": "code",
   "execution_count": 111,
   "metadata": {},
   "outputs": [
    {
     "data": {
      "text/html": [
       "<div>\n",
       "<style scoped>\n",
       "    .dataframe tbody tr th:only-of-type {\n",
       "        vertical-align: middle;\n",
       "    }\n",
       "\n",
       "    .dataframe tbody tr th {\n",
       "        vertical-align: top;\n",
       "    }\n",
       "\n",
       "    .dataframe thead th {\n",
       "        text-align: right;\n",
       "    }\n",
       "</style>\n",
       "<table border=\"1\" class=\"dataframe\">\n",
       "  <thead>\n",
       "    <tr style=\"text-align: right;\">\n",
       "      <th></th>\n",
       "      <th>Departamento</th>\n",
       "      <th>Población</th>\n",
       "    </tr>\n",
       "  </thead>\n",
       "  <tbody>\n",
       "    <tr>\n",
       "      <th>0</th>\n",
       "      <td>Montevideo</td>\n",
       "      <td>1383135</td>\n",
       "    </tr>\n",
       "    <tr>\n",
       "      <th>1</th>\n",
       "      <td>Artigas</td>\n",
       "      <td>74075</td>\n",
       "    </tr>\n",
       "    <tr>\n",
       "      <th>2</th>\n",
       "      <td>Canelones</td>\n",
       "      <td>603750</td>\n",
       "    </tr>\n",
       "    <tr>\n",
       "      <th>3</th>\n",
       "      <td>Cerro Largo</td>\n",
       "      <td>89630</td>\n",
       "    </tr>\n",
       "    <tr>\n",
       "      <th>4</th>\n",
       "      <td>Colonia</td>\n",
       "      <td>131297</td>\n",
       "    </tr>\n",
       "    <tr>\n",
       "      <th>5</th>\n",
       "      <td>Durazno</td>\n",
       "      <td>58975</td>\n",
       "    </tr>\n",
       "    <tr>\n",
       "      <th>6</th>\n",
       "      <td>Flores</td>\n",
       "      <td>26485</td>\n",
       "    </tr>\n",
       "    <tr>\n",
       "      <th>7</th>\n",
       "      <td>Florida</td>\n",
       "      <td>69324</td>\n",
       "    </tr>\n",
       "    <tr>\n",
       "      <th>8</th>\n",
       "      <td>Lavalleja</td>\n",
       "      <td>58699</td>\n",
       "    </tr>\n",
       "    <tr>\n",
       "      <th>9</th>\n",
       "      <td>Maldonado</td>\n",
       "      <td>195005</td>\n",
       "    </tr>\n",
       "    <tr>\n",
       "      <th>10</th>\n",
       "      <td>Paysandú</td>\n",
       "      <td>119882</td>\n",
       "    </tr>\n",
       "    <tr>\n",
       "      <th>11</th>\n",
       "      <td>Río Negro</td>\n",
       "      <td>58308</td>\n",
       "    </tr>\n",
       "    <tr>\n",
       "      <th>12</th>\n",
       "      <td>Rivera</td>\n",
       "      <td>109039</td>\n",
       "    </tr>\n",
       "    <tr>\n",
       "      <th>13</th>\n",
       "      <td>Rocha</td>\n",
       "      <td>74238</td>\n",
       "    </tr>\n",
       "    <tr>\n",
       "      <th>14</th>\n",
       "      <td>Salto</td>\n",
       "      <td>133707</td>\n",
       "    </tr>\n",
       "    <tr>\n",
       "      <th>15</th>\n",
       "      <td>San José</td>\n",
       "      <td>118270</td>\n",
       "    </tr>\n",
       "    <tr>\n",
       "      <th>16</th>\n",
       "      <td>Soriano</td>\n",
       "      <td>83714</td>\n",
       "    </tr>\n",
       "    <tr>\n",
       "      <th>17</th>\n",
       "      <td>Tacuarembó</td>\n",
       "      <td>92894</td>\n",
       "    </tr>\n",
       "    <tr>\n",
       "      <th>18</th>\n",
       "      <td>Treinta y Tres</td>\n",
       "      <td>50485</td>\n",
       "    </tr>\n",
       "  </tbody>\n",
       "</table>\n",
       "</div>"
      ],
      "text/plain": [
       "      Departamento  Población\n",
       "0       Montevideo    1383135\n",
       "1          Artigas      74075\n",
       "2        Canelones     603750\n",
       "3      Cerro Largo      89630\n",
       "4          Colonia     131297\n",
       "5          Durazno      58975\n",
       "6           Flores      26485\n",
       "7          Florida      69324\n",
       "8        Lavalleja      58699\n",
       "9        Maldonado     195005\n",
       "10        Paysandú     119882\n",
       "11       Río Negro      58308\n",
       "12          Rivera     109039\n",
       "13           Rocha      74238\n",
       "14           Salto     133707\n",
       "15        San José     118270\n",
       "16         Soriano      83714\n",
       "17      Tacuarembó      92894\n",
       "18  Treinta y Tres      50485"
      ]
     },
     "execution_count": 111,
     "metadata": {},
     "output_type": "execute_result"
    }
   ],
   "source": [
    "population_UY"
   ]
  },
  {
   "cell_type": "markdown",
   "metadata": {},
   "source": [
    "<a id = 'Sección4.2.2'></a>"
   ]
  },
  {
   "cell_type": "markdown",
   "metadata": {},
   "source": [
    "#### 4.2.2. Cantidad de habitantes por rango etario"
   ]
  },
  {
   "cell_type": "code",
   "execution_count": 112,
   "metadata": {},
   "outputs": [],
   "source": [
    "ine_pop_per_age_UY = pd.read_excel (r\"Datos covid Uruguay\\INE población Uruguay.xlsx\", sheet_name = 'Pob por edad')"
   ]
  },
  {
   "cell_type": "code",
   "execution_count": 113,
   "metadata": {},
   "outputs": [
    {
     "data": {
      "text/html": [
       "<div>\n",
       "<style scoped>\n",
       "    .dataframe tbody tr th:only-of-type {\n",
       "        vertical-align: middle;\n",
       "    }\n",
       "\n",
       "    .dataframe tbody tr th {\n",
       "        vertical-align: top;\n",
       "    }\n",
       "\n",
       "    .dataframe thead th {\n",
       "        text-align: right;\n",
       "    }\n",
       "</style>\n",
       "<table border=\"1\" class=\"dataframe\">\n",
       "  <thead>\n",
       "    <tr style=\"text-align: right;\">\n",
       "      <th></th>\n",
       "      <th>Edad</th>\n",
       "      <th>Población</th>\n",
       "    </tr>\n",
       "  </thead>\n",
       "  <tbody>\n",
       "    <tr>\n",
       "      <th>0</th>\n",
       "      <td>0</td>\n",
       "      <td>45057</td>\n",
       "    </tr>\n",
       "    <tr>\n",
       "      <th>1</th>\n",
       "      <td>1</td>\n",
       "      <td>45186</td>\n",
       "    </tr>\n",
       "    <tr>\n",
       "      <th>2</th>\n",
       "      <td>2</td>\n",
       "      <td>45338</td>\n",
       "    </tr>\n",
       "    <tr>\n",
       "      <th>3</th>\n",
       "      <td>3</td>\n",
       "      <td>45495</td>\n",
       "    </tr>\n",
       "    <tr>\n",
       "      <th>4</th>\n",
       "      <td>4</td>\n",
       "      <td>45650</td>\n",
       "    </tr>\n",
       "    <tr>\n",
       "      <th>...</th>\n",
       "      <td>...</td>\n",
       "      <td>...</td>\n",
       "    </tr>\n",
       "    <tr>\n",
       "      <th>86</th>\n",
       "      <td>86</td>\n",
       "      <td>9827</td>\n",
       "    </tr>\n",
       "    <tr>\n",
       "      <th>87</th>\n",
       "      <td>87</td>\n",
       "      <td>8905</td>\n",
       "    </tr>\n",
       "    <tr>\n",
       "      <th>88</th>\n",
       "      <td>88</td>\n",
       "      <td>7975</td>\n",
       "    </tr>\n",
       "    <tr>\n",
       "      <th>89</th>\n",
       "      <td>89</td>\n",
       "      <td>6972</td>\n",
       "    </tr>\n",
       "    <tr>\n",
       "      <th>90</th>\n",
       "      <td>90 y más</td>\n",
       "      <td>26274</td>\n",
       "    </tr>\n",
       "  </tbody>\n",
       "</table>\n",
       "<p>91 rows × 2 columns</p>\n",
       "</div>"
      ],
      "text/plain": [
       "        Edad  Población\n",
       "0          0      45057\n",
       "1          1      45186\n",
       "2          2      45338\n",
       "3          3      45495\n",
       "4          4      45650\n",
       "..       ...        ...\n",
       "86        86       9827\n",
       "87        87       8905\n",
       "88        88       7975\n",
       "89        89       6972\n",
       "90  90 y más      26274\n",
       "\n",
       "[91 rows x 2 columns]"
      ]
     },
     "execution_count": 113,
     "metadata": {},
     "output_type": "execute_result"
    }
   ],
   "source": [
    "ine_pop_per_age_UY"
   ]
  },
  {
   "cell_type": "code",
   "execution_count": 114,
   "metadata": {},
   "outputs": [],
   "source": [
    "pop_per_age_UY = pd.Series(dtype = 'float64')"
   ]
  },
  {
   "cell_type": "code",
   "execution_count": 115,
   "metadata": {},
   "outputs": [],
   "source": [
    "pop_per_age_UY ['12 a 17 años'] = ine_pop_per_age_UY.iloc [12:18,1].sum()"
   ]
  },
  {
   "cell_type": "code",
   "execution_count": 116,
   "metadata": {},
   "outputs": [],
   "source": [
    "pop_per_age_UY ['18 a 24 años'] = ine_pop_per_age_UY.iloc [18:25,1].sum()"
   ]
  },
  {
   "cell_type": "code",
   "execution_count": 117,
   "metadata": {},
   "outputs": [],
   "source": [
    "pop_per_age_UY ['25 a 34 años'] = ine_pop_per_age_UY.iloc [25:35,1].sum()"
   ]
  },
  {
   "cell_type": "code",
   "execution_count": 118,
   "metadata": {},
   "outputs": [],
   "source": [
    "pop_per_age_UY ['35 a 44 años'] = ine_pop_per_age_UY.iloc [35:45,1].sum()"
   ]
  },
  {
   "cell_type": "code",
   "execution_count": 119,
   "metadata": {},
   "outputs": [],
   "source": [
    "pop_per_age_UY ['45 a 54 años'] = ine_pop_per_age_UY.iloc [45:55,1].sum()"
   ]
  },
  {
   "cell_type": "code",
   "execution_count": 120,
   "metadata": {},
   "outputs": [],
   "source": [
    "pop_per_age_UY ['55 a 64 años'] = ine_pop_per_age_UY.iloc [55:65,1].sum()"
   ]
  },
  {
   "cell_type": "code",
   "execution_count": 121,
   "metadata": {},
   "outputs": [],
   "source": [
    "pop_per_age_UY ['65 a 74 años'] = ine_pop_per_age_UY.iloc [65:75,1].sum()"
   ]
  },
  {
   "cell_type": "code",
   "execution_count": 122,
   "metadata": {},
   "outputs": [],
   "source": [
    "pop_per_age_UY ['75 o más años'] = ine_pop_per_age_UY.iloc [75:,1].sum()"
   ]
  },
  {
   "cell_type": "code",
   "execution_count": 123,
   "metadata": {},
   "outputs": [],
   "source": [
    "pop_per_age_UY = pop_per_age_UY.to_frame()"
   ]
  },
  {
   "cell_type": "code",
   "execution_count": 124,
   "metadata": {},
   "outputs": [],
   "source": [
    "pop_per_age_UY.reset_index(inplace=True)"
   ]
  },
  {
   "cell_type": "code",
   "execution_count": 125,
   "metadata": {},
   "outputs": [],
   "source": [
    "pop_per_age_UY.columns =['Rango de edad', 'Población']"
   ]
  },
  {
   "cell_type": "code",
   "execution_count": 126,
   "metadata": {},
   "outputs": [
    {
     "data": {
      "text/html": [
       "<div>\n",
       "<style scoped>\n",
       "    .dataframe tbody tr th:only-of-type {\n",
       "        vertical-align: middle;\n",
       "    }\n",
       "\n",
       "    .dataframe tbody tr th {\n",
       "        vertical-align: top;\n",
       "    }\n",
       "\n",
       "    .dataframe thead th {\n",
       "        text-align: right;\n",
       "    }\n",
       "</style>\n",
       "<table border=\"1\" class=\"dataframe\">\n",
       "  <thead>\n",
       "    <tr style=\"text-align: right;\">\n",
       "      <th></th>\n",
       "      <th>Rango de edad</th>\n",
       "      <th>Población</th>\n",
       "    </tr>\n",
       "  </thead>\n",
       "  <tbody>\n",
       "    <tr>\n",
       "      <th>0</th>\n",
       "      <td>12 a 17 años</td>\n",
       "      <td>293547</td>\n",
       "    </tr>\n",
       "    <tr>\n",
       "      <th>1</th>\n",
       "      <td>18 a 24 años</td>\n",
       "      <td>372371</td>\n",
       "    </tr>\n",
       "    <tr>\n",
       "      <th>2</th>\n",
       "      <td>25 a 34 años</td>\n",
       "      <td>509423</td>\n",
       "    </tr>\n",
       "    <tr>\n",
       "      <th>3</th>\n",
       "      <td>35 a 44 años</td>\n",
       "      <td>478839</td>\n",
       "    </tr>\n",
       "    <tr>\n",
       "      <th>4</th>\n",
       "      <td>45 a 54 años</td>\n",
       "      <td>425336</td>\n",
       "    </tr>\n",
       "    <tr>\n",
       "      <th>5</th>\n",
       "      <td>55 a 64 años</td>\n",
       "      <td>384698</td>\n",
       "    </tr>\n",
       "    <tr>\n",
       "      <th>6</th>\n",
       "      <td>65 a 74 años</td>\n",
       "      <td>277842</td>\n",
       "    </tr>\n",
       "    <tr>\n",
       "      <th>7</th>\n",
       "      <td>75 o más años</td>\n",
       "      <td>237430</td>\n",
       "    </tr>\n",
       "  </tbody>\n",
       "</table>\n",
       "</div>"
      ],
      "text/plain": [
       "   Rango de edad  Población\n",
       "0   12 a 17 años     293547\n",
       "1   18 a 24 años     372371\n",
       "2   25 a 34 años     509423\n",
       "3   35 a 44 años     478839\n",
       "4   45 a 54 años     425336\n",
       "5   55 a 64 años     384698\n",
       "6   65 a 74 años     277842\n",
       "7  75 o más años     237430"
      ]
     },
     "execution_count": 126,
     "metadata": {},
     "output_type": "execute_result"
    }
   ],
   "source": [
    "pop_per_age_UY"
   ]
  },
  {
   "cell_type": "markdown",
   "metadata": {},
   "source": [
    "<a id = 'Sección4.2.3'></a>"
   ]
  },
  {
   "cell_type": "markdown",
   "metadata": {},
   "source": [
    "#### 4.2.3. Cantidad total de habitantes"
   ]
  },
  {
   "cell_type": "code",
   "execution_count": 127,
   "metadata": {},
   "outputs": [
    {
     "data": {
      "text/plain": [
       "3530912"
      ]
     },
     "execution_count": 127,
     "metadata": {},
     "output_type": "execute_result"
    }
   ],
   "source": [
    "total_pop_UY = population_UY['Población'].sum()\n",
    "total_pop_UY"
   ]
  },
  {
   "cell_type": "markdown",
   "metadata": {},
   "source": [
    "<a id = 'Sección5'></a>"
   ]
  },
  {
   "cell_type": "markdown",
   "metadata": {},
   "source": [
    "## 5. Datos globales por millón de habitantes"
   ]
  },
  {
   "cell_type": "markdown",
   "metadata": {},
   "source": [
    "En esta sección se calcula el número de nuevos casos, casos totales, casos activos, fallecidos y total de fallecidos a nivel nacionales por cada millón de habitantes, para así hacer los datos comparables entre ambos países."
   ]
  },
  {
   "cell_type": "markdown",
   "metadata": {},
   "source": [
    "<a id = 'Sección5.1'></a>"
   ]
  },
  {
   "cell_type": "markdown",
   "metadata": {},
   "source": [
    "### 5.1. Datos globales por millón de habitantes en Chile"
   ]
  },
  {
   "cell_type": "code",
   "execution_count": 128,
   "metadata": {},
   "outputs": [],
   "source": [
    "# Se crea una función para calcular las cifras por millón de habitantes en Chile.\n",
    "\n",
    "per_million_CH = lambda x: x*1000000/total_pop_CH"
   ]
  },
  {
   "cell_type": "code",
   "execution_count": 129,
   "metadata": {},
   "outputs": [],
   "source": [
    "global_data_per_million_CH = global_data_CH.iloc[:,2:].apply(per_million_CH)"
   ]
  },
  {
   "cell_type": "code",
   "execution_count": 130,
   "metadata": {},
   "outputs": [],
   "source": [
    "global_data_per_million_CH = pd.concat ([global_data_CH.loc[:,['País','Fecha']] ,global_data_per_million_CH],axis=1)"
   ]
  },
  {
   "cell_type": "code",
   "execution_count": 131,
   "metadata": {},
   "outputs": [],
   "source": [
    "global_data_per_million_CH.rename(columns={'Casos totales':'Casos totales por millón', 'Total fallecidos':'Total fallecidos por millón',\n",
    "                                            'Cant de fallecidos':'Cantidad de fallecidos por millón', \n",
    "                                            'Casos activos':'Casos activos por millón', 'Casos nuevos totales':'Nuevos casos por millón'}, inplace=True)"
   ]
  },
  {
   "cell_type": "code",
   "execution_count": 132,
   "metadata": {},
   "outputs": [
    {
     "data": {
      "text/html": [
       "<div>\n",
       "<style scoped>\n",
       "    .dataframe tbody tr th:only-of-type {\n",
       "        vertical-align: middle;\n",
       "    }\n",
       "\n",
       "    .dataframe tbody tr th {\n",
       "        vertical-align: top;\n",
       "    }\n",
       "\n",
       "    .dataframe thead th {\n",
       "        text-align: right;\n",
       "    }\n",
       "</style>\n",
       "<table border=\"1\" class=\"dataframe\">\n",
       "  <thead>\n",
       "    <tr style=\"text-align: right;\">\n",
       "      <th></th>\n",
       "      <th>País</th>\n",
       "      <th>Fecha</th>\n",
       "      <th>Casos totales por millón</th>\n",
       "      <th>Total fallecidos por millón</th>\n",
       "      <th>Cantidad de fallecidos por millón</th>\n",
       "      <th>Casos activos por millón</th>\n",
       "      <th>Nuevos casos por millón</th>\n",
       "    </tr>\n",
       "  </thead>\n",
       "  <tbody>\n",
       "    <tr>\n",
       "      <th>0</th>\n",
       "      <td>Chile</td>\n",
       "      <td>2020-03-02</td>\n",
       "      <td>0.051392</td>\n",
       "      <td>0.0</td>\n",
       "      <td>0.0</td>\n",
       "      <td>0.051392</td>\n",
       "      <td>0.051392</td>\n",
       "    </tr>\n",
       "    <tr>\n",
       "      <th>1</th>\n",
       "      <td>Chile</td>\n",
       "      <td>2020-03-03</td>\n",
       "      <td>0.051392</td>\n",
       "      <td>0.0</td>\n",
       "      <td>0.0</td>\n",
       "      <td>0.051392</td>\n",
       "      <td>0.000000</td>\n",
       "    </tr>\n",
       "    <tr>\n",
       "      <th>2</th>\n",
       "      <td>Chile</td>\n",
       "      <td>2020-03-04</td>\n",
       "      <td>0.154176</td>\n",
       "      <td>0.0</td>\n",
       "      <td>0.0</td>\n",
       "      <td>0.154176</td>\n",
       "      <td>0.102784</td>\n",
       "    </tr>\n",
       "    <tr>\n",
       "      <th>3</th>\n",
       "      <td>Chile</td>\n",
       "      <td>2020-03-05</td>\n",
       "      <td>0.205568</td>\n",
       "      <td>0.0</td>\n",
       "      <td>0.0</td>\n",
       "      <td>0.205568</td>\n",
       "      <td>0.051392</td>\n",
       "    </tr>\n",
       "    <tr>\n",
       "      <th>4</th>\n",
       "      <td>Chile</td>\n",
       "      <td>2020-03-06</td>\n",
       "      <td>0.256960</td>\n",
       "      <td>0.0</td>\n",
       "      <td>0.0</td>\n",
       "      <td>0.256960</td>\n",
       "      <td>0.051392</td>\n",
       "    </tr>\n",
       "  </tbody>\n",
       "</table>\n",
       "</div>"
      ],
      "text/plain": [
       "    País      Fecha  Casos totales por millón  Total fallecidos por millón  \\\n",
       "0  Chile 2020-03-02                  0.051392                          0.0   \n",
       "1  Chile 2020-03-03                  0.051392                          0.0   \n",
       "2  Chile 2020-03-04                  0.154176                          0.0   \n",
       "3  Chile 2020-03-05                  0.205568                          0.0   \n",
       "4  Chile 2020-03-06                  0.256960                          0.0   \n",
       "\n",
       "   Cantidad de fallecidos por millón  Casos activos por millón  \\\n",
       "0                                0.0                  0.051392   \n",
       "1                                0.0                  0.051392   \n",
       "2                                0.0                  0.154176   \n",
       "3                                0.0                  0.205568   \n",
       "4                                0.0                  0.256960   \n",
       "\n",
       "   Nuevos casos por millón  \n",
       "0                 0.051392  \n",
       "1                 0.000000  \n",
       "2                 0.102784  \n",
       "3                 0.051392  \n",
       "4                 0.051392  "
      ]
     },
     "execution_count": 132,
     "metadata": {},
     "output_type": "execute_result"
    }
   ],
   "source": [
    "global_data_per_million_CH.head()"
   ]
  },
  {
   "cell_type": "markdown",
   "metadata": {},
   "source": [
    "<a id = 'Sección5.2'></a>"
   ]
  },
  {
   "cell_type": "markdown",
   "metadata": {},
   "source": [
    "### 5.2. Datos globales por millón de habitantes en Uruguay"
   ]
  },
  {
   "cell_type": "code",
   "execution_count": 133,
   "metadata": {},
   "outputs": [],
   "source": [
    "per_million_UY = lambda x: x*1000000/total_pop_UY"
   ]
  },
  {
   "cell_type": "code",
   "execution_count": 134,
   "metadata": {},
   "outputs": [],
   "source": [
    "global_data_per_million_UY = global_data_UY.loc[:,['cantPersonasConInfeccionEnCurso','cantCasosNuevosConsolidado', \n",
    "                                                   'acumCasos', 'cantFallecidos','acumFallecidos']].apply(per_million_UY)"
   ]
  },
  {
   "cell_type": "code",
   "execution_count": 135,
   "metadata": {},
   "outputs": [],
   "source": [
    "global_data_per_million_UY = pd.concat ([global_data_UY.loc[:,['País','fecha']] ,global_data_per_million_UY],axis=1)"
   ]
  },
  {
   "cell_type": "code",
   "execution_count": 136,
   "metadata": {},
   "outputs": [],
   "source": [
    "global_data_per_million_UY.rename(columns={'fecha':'Fecha','cantPersonasConInfeccionEnCurso':'Casos activos por millón',\n",
    "                                           'cantCasosNuevosConsolidado':'Nuevos casos por millón', \n",
    "                                           'acumCasos':'Casos totales por millón', 'cantFallecidos':'Cantidad de fallecidos por millón',\n",
    "                                           'acumFallecidos':'Total fallecidos por millón'}, inplace=True)"
   ]
  },
  {
   "cell_type": "code",
   "execution_count": 137,
   "metadata": {},
   "outputs": [],
   "source": [
    "global_data_per_million_UY.rename(columns={'Casos totales':'Casos totales por millón', 'Total fallecidos':'Total fallecidos por millón',\n",
    "                                            'Cant de fallecidos':'Cantidad de fallecidos por millón', \n",
    "                                            'Casos activos':'Casos activos por millón', 'Casos nuevos totales':'Nuevos casos por millón'}, inplace=True)"
   ]
  },
  {
   "cell_type": "code",
   "execution_count": 138,
   "metadata": {},
   "outputs": [
    {
     "data": {
      "text/html": [
       "<div>\n",
       "<style scoped>\n",
       "    .dataframe tbody tr th:only-of-type {\n",
       "        vertical-align: middle;\n",
       "    }\n",
       "\n",
       "    .dataframe tbody tr th {\n",
       "        vertical-align: top;\n",
       "    }\n",
       "\n",
       "    .dataframe thead th {\n",
       "        text-align: right;\n",
       "    }\n",
       "</style>\n",
       "<table border=\"1\" class=\"dataframe\">\n",
       "  <thead>\n",
       "    <tr style=\"text-align: right;\">\n",
       "      <th></th>\n",
       "      <th>País</th>\n",
       "      <th>Fecha</th>\n",
       "      <th>Casos activos por millón</th>\n",
       "      <th>Nuevos casos por millón</th>\n",
       "      <th>Casos totales por millón</th>\n",
       "      <th>Cantidad de fallecidos por millón</th>\n",
       "      <th>Total fallecidos por millón</th>\n",
       "    </tr>\n",
       "  </thead>\n",
       "  <tbody>\n",
       "    <tr>\n",
       "      <th>0</th>\n",
       "      <td>Uruguay</td>\n",
       "      <td>2020-03-25</td>\n",
       "      <td>61.457210</td>\n",
       "      <td>7.929963</td>\n",
       "      <td>61.457210</td>\n",
       "      <td>0.000000</td>\n",
       "      <td>0.000000</td>\n",
       "    </tr>\n",
       "    <tr>\n",
       "      <th>1</th>\n",
       "      <td>Uruguay</td>\n",
       "      <td>2020-03-26</td>\n",
       "      <td>67.404682</td>\n",
       "      <td>5.947472</td>\n",
       "      <td>67.404682</td>\n",
       "      <td>0.000000</td>\n",
       "      <td>0.000000</td>\n",
       "    </tr>\n",
       "    <tr>\n",
       "      <th>2</th>\n",
       "      <td>Uruguay</td>\n",
       "      <td>2020-03-27</td>\n",
       "      <td>77.600348</td>\n",
       "      <td>10.195666</td>\n",
       "      <td>77.600348</td>\n",
       "      <td>0.000000</td>\n",
       "      <td>0.000000</td>\n",
       "    </tr>\n",
       "    <tr>\n",
       "      <th>3</th>\n",
       "      <td>Uruguay</td>\n",
       "      <td>2020-03-28</td>\n",
       "      <td>85.813524</td>\n",
       "      <td>8.496388</td>\n",
       "      <td>86.096736</td>\n",
       "      <td>0.283213</td>\n",
       "      <td>0.283213</td>\n",
       "    </tr>\n",
       "    <tr>\n",
       "      <th>4</th>\n",
       "      <td>Uruguay</td>\n",
       "      <td>2020-03-29</td>\n",
       "      <td>87.512801</td>\n",
       "      <td>1.699278</td>\n",
       "      <td>87.512801</td>\n",
       "      <td>0.000000</td>\n",
       "      <td>0.283213</td>\n",
       "    </tr>\n",
       "  </tbody>\n",
       "</table>\n",
       "</div>"
      ],
      "text/plain": [
       "      País      Fecha  Casos activos por millón  Nuevos casos por millón  \\\n",
       "0  Uruguay 2020-03-25                 61.457210                 7.929963   \n",
       "1  Uruguay 2020-03-26                 67.404682                 5.947472   \n",
       "2  Uruguay 2020-03-27                 77.600348                10.195666   \n",
       "3  Uruguay 2020-03-28                 85.813524                 8.496388   \n",
       "4  Uruguay 2020-03-29                 87.512801                 1.699278   \n",
       "\n",
       "   Casos totales por millón  Cantidad de fallecidos por millón  \\\n",
       "0                 61.457210                           0.000000   \n",
       "1                 67.404682                           0.000000   \n",
       "2                 77.600348                           0.000000   \n",
       "3                 86.096736                           0.283213   \n",
       "4                 87.512801                           0.000000   \n",
       "\n",
       "   Total fallecidos por millón  \n",
       "0                     0.000000  \n",
       "1                     0.000000  \n",
       "2                     0.000000  \n",
       "3                     0.283213  \n",
       "4                     0.283213  "
      ]
     },
     "execution_count": 138,
     "metadata": {},
     "output_type": "execute_result"
    }
   ],
   "source": [
    "global_data_per_million_UY.head()"
   ]
  },
  {
   "cell_type": "markdown",
   "metadata": {},
   "source": [
    "<a id = 'Sección5.3'></a>"
   ]
  },
  {
   "cell_type": "markdown",
   "metadata": {},
   "source": [
    "### 5.3. Datos globales por millón de habitantes consolidado"
   ]
  },
  {
   "cell_type": "code",
   "execution_count": 139,
   "metadata": {},
   "outputs": [],
   "source": [
    "global_data_per_million = pd.concat ([global_data_per_million_CH, global_data_per_million_UY])"
   ]
  },
  {
   "cell_type": "code",
   "execution_count": 140,
   "metadata": {},
   "outputs": [],
   "source": [
    "# Reordenación de las columnas.\n",
    "\n",
    "global_data_per_million = global_data_per_million.reindex (columns=['País', 'Fecha','Nuevos casos por millón','Casos totales por millón',\n",
    "                                          'Casos activos por millón','Cantidad de fallecidos por millón','Total fallecidos por millón'])"
   ]
  },
  {
   "cell_type": "code",
   "execution_count": 141,
   "metadata": {},
   "outputs": [
    {
     "data": {
      "text/html": [
       "<div>\n",
       "<style scoped>\n",
       "    .dataframe tbody tr th:only-of-type {\n",
       "        vertical-align: middle;\n",
       "    }\n",
       "\n",
       "    .dataframe tbody tr th {\n",
       "        vertical-align: top;\n",
       "    }\n",
       "\n",
       "    .dataframe thead th {\n",
       "        text-align: right;\n",
       "    }\n",
       "</style>\n",
       "<table border=\"1\" class=\"dataframe\">\n",
       "  <thead>\n",
       "    <tr style=\"text-align: right;\">\n",
       "      <th></th>\n",
       "      <th>País</th>\n",
       "      <th>Fecha</th>\n",
       "      <th>Nuevos casos por millón</th>\n",
       "      <th>Casos totales por millón</th>\n",
       "      <th>Casos activos por millón</th>\n",
       "      <th>Cantidad de fallecidos por millón</th>\n",
       "      <th>Total fallecidos por millón</th>\n",
       "    </tr>\n",
       "  </thead>\n",
       "  <tbody>\n",
       "    <tr>\n",
       "      <th>0</th>\n",
       "      <td>Chile</td>\n",
       "      <td>2020-03-02</td>\n",
       "      <td>0.051392</td>\n",
       "      <td>0.051392</td>\n",
       "      <td>0.051392</td>\n",
       "      <td>0.000000</td>\n",
       "      <td>0.000000</td>\n",
       "    </tr>\n",
       "    <tr>\n",
       "      <th>1</th>\n",
       "      <td>Chile</td>\n",
       "      <td>2020-03-03</td>\n",
       "      <td>0.000000</td>\n",
       "      <td>0.051392</td>\n",
       "      <td>0.051392</td>\n",
       "      <td>0.000000</td>\n",
       "      <td>0.000000</td>\n",
       "    </tr>\n",
       "    <tr>\n",
       "      <th>2</th>\n",
       "      <td>Chile</td>\n",
       "      <td>2020-03-04</td>\n",
       "      <td>0.102784</td>\n",
       "      <td>0.154176</td>\n",
       "      <td>0.154176</td>\n",
       "      <td>0.000000</td>\n",
       "      <td>0.000000</td>\n",
       "    </tr>\n",
       "    <tr>\n",
       "      <th>3</th>\n",
       "      <td>Chile</td>\n",
       "      <td>2020-03-05</td>\n",
       "      <td>0.051392</td>\n",
       "      <td>0.205568</td>\n",
       "      <td>0.205568</td>\n",
       "      <td>0.000000</td>\n",
       "      <td>0.000000</td>\n",
       "    </tr>\n",
       "    <tr>\n",
       "      <th>4</th>\n",
       "      <td>Chile</td>\n",
       "      <td>2020-03-06</td>\n",
       "      <td>0.051392</td>\n",
       "      <td>0.256960</td>\n",
       "      <td>0.256960</td>\n",
       "      <td>0.000000</td>\n",
       "      <td>0.000000</td>\n",
       "    </tr>\n",
       "    <tr>\n",
       "      <th>...</th>\n",
       "      <td>...</td>\n",
       "      <td>...</td>\n",
       "      <td>...</td>\n",
       "      <td>...</td>\n",
       "      <td>...</td>\n",
       "      <td>...</td>\n",
       "      <td>...</td>\n",
       "    </tr>\n",
       "    <tr>\n",
       "      <th>541</th>\n",
       "      <td>Uruguay</td>\n",
       "      <td>2021-09-17</td>\n",
       "      <td>44.464433</td>\n",
       "      <td>109730.573857</td>\n",
       "      <td>471.266347</td>\n",
       "      <td>0.000000</td>\n",
       "      <td>1712.305489</td>\n",
       "    </tr>\n",
       "    <tr>\n",
       "      <th>542</th>\n",
       "      <td>Uruguay</td>\n",
       "      <td>2021-09-18</td>\n",
       "      <td>34.268767</td>\n",
       "      <td>109760.594430</td>\n",
       "      <td>459.937829</td>\n",
       "      <td>0.566426</td>\n",
       "      <td>1712.871915</td>\n",
       "    </tr>\n",
       "    <tr>\n",
       "      <th>543</th>\n",
       "      <td>Uruguay</td>\n",
       "      <td>2021-09-19</td>\n",
       "      <td>23.789888</td>\n",
       "      <td>109780.985762</td>\n",
       "      <td>451.158228</td>\n",
       "      <td>0.000000</td>\n",
       "      <td>1712.871915</td>\n",
       "    </tr>\n",
       "    <tr>\n",
       "      <th>544</th>\n",
       "      <td>Uruguay</td>\n",
       "      <td>2021-09-20</td>\n",
       "      <td>36.817683</td>\n",
       "      <td>109814.121677</td>\n",
       "      <td>441.812200</td>\n",
       "      <td>0.000000</td>\n",
       "      <td>1712.871915</td>\n",
       "    </tr>\n",
       "    <tr>\n",
       "      <th>545</th>\n",
       "      <td>Uruguay</td>\n",
       "      <td>2021-09-21</td>\n",
       "      <td>53.244034</td>\n",
       "      <td>109864.533582</td>\n",
       "      <td>436.147941</td>\n",
       "      <td>0.283213</td>\n",
       "      <td>1713.155128</td>\n",
       "    </tr>\n",
       "  </tbody>\n",
       "</table>\n",
       "<p>1115 rows × 7 columns</p>\n",
       "</div>"
      ],
      "text/plain": [
       "        País      Fecha  Nuevos casos por millón  Casos totales por millón  \\\n",
       "0      Chile 2020-03-02                 0.051392                  0.051392   \n",
       "1      Chile 2020-03-03                 0.000000                  0.051392   \n",
       "2      Chile 2020-03-04                 0.102784                  0.154176   \n",
       "3      Chile 2020-03-05                 0.051392                  0.205568   \n",
       "4      Chile 2020-03-06                 0.051392                  0.256960   \n",
       "..       ...        ...                      ...                       ...   \n",
       "541  Uruguay 2021-09-17                44.464433             109730.573857   \n",
       "542  Uruguay 2021-09-18                34.268767             109760.594430   \n",
       "543  Uruguay 2021-09-19                23.789888             109780.985762   \n",
       "544  Uruguay 2021-09-20                36.817683             109814.121677   \n",
       "545  Uruguay 2021-09-21                53.244034             109864.533582   \n",
       "\n",
       "     Casos activos por millón  Cantidad de fallecidos por millón  \\\n",
       "0                    0.051392                           0.000000   \n",
       "1                    0.051392                           0.000000   \n",
       "2                    0.154176                           0.000000   \n",
       "3                    0.205568                           0.000000   \n",
       "4                    0.256960                           0.000000   \n",
       "..                        ...                                ...   \n",
       "541                471.266347                           0.000000   \n",
       "542                459.937829                           0.566426   \n",
       "543                451.158228                           0.000000   \n",
       "544                441.812200                           0.000000   \n",
       "545                436.147941                           0.283213   \n",
       "\n",
       "     Total fallecidos por millón  \n",
       "0                       0.000000  \n",
       "1                       0.000000  \n",
       "2                       0.000000  \n",
       "3                       0.000000  \n",
       "4                       0.000000  \n",
       "..                           ...  \n",
       "541                  1712.305489  \n",
       "542                  1712.871915  \n",
       "543                  1712.871915  \n",
       "544                  1712.871915  \n",
       "545                  1713.155128  \n",
       "\n",
       "[1115 rows x 7 columns]"
      ]
     },
     "execution_count": 141,
     "metadata": {},
     "output_type": "execute_result"
    }
   ],
   "source": [
    "global_data_per_million"
   ]
  },
  {
   "cell_type": "markdown",
   "metadata": {},
   "source": [
    "<a id = 'Sección6'></a>"
   ]
  },
  {
   "cell_type": "markdown",
   "metadata": {},
   "source": [
    "## 6. Porcentaje de fallecidos con respecto al total de contagiados"
   ]
  },
  {
   "cell_type": "markdown",
   "metadata": {},
   "source": [
    "<a id = 'Sección6.1'></a>"
   ]
  },
  {
   "cell_type": "markdown",
   "metadata": {},
   "source": [
    "### 6.1. Porcentaje de fallecidos con respecto al total de contagiados en Chile"
   ]
  },
  {
   "cell_type": "code",
   "execution_count": 142,
   "metadata": {},
   "outputs": [],
   "source": [
    "deaths_pct_CH = global_data_CH.loc [:, ['País', 'Fecha']]"
   ]
  },
  {
   "cell_type": "code",
   "execution_count": 143,
   "metadata": {},
   "outputs": [],
   "source": [
    "deaths_pct_CH ['Pctj. de fallecidos c/r al total de contagiados'] = global_data_CH ['Total fallecidos']*100/global_data_CH ['Casos totales']"
   ]
  },
  {
   "cell_type": "code",
   "execution_count": 144,
   "metadata": {},
   "outputs": [
    {
     "data": {
      "text/html": [
       "<div>\n",
       "<style scoped>\n",
       "    .dataframe tbody tr th:only-of-type {\n",
       "        vertical-align: middle;\n",
       "    }\n",
       "\n",
       "    .dataframe tbody tr th {\n",
       "        vertical-align: top;\n",
       "    }\n",
       "\n",
       "    .dataframe thead th {\n",
       "        text-align: right;\n",
       "    }\n",
       "</style>\n",
       "<table border=\"1\" class=\"dataframe\">\n",
       "  <thead>\n",
       "    <tr style=\"text-align: right;\">\n",
       "      <th></th>\n",
       "      <th>País</th>\n",
       "      <th>Fecha</th>\n",
       "      <th>Pctj. de fallecidos c/r al total de contagiados</th>\n",
       "    </tr>\n",
       "  </thead>\n",
       "  <tbody>\n",
       "    <tr>\n",
       "      <th>564</th>\n",
       "      <td>Chile</td>\n",
       "      <td>2021-09-17</td>\n",
       "      <td>2.266638</td>\n",
       "    </tr>\n",
       "    <tr>\n",
       "      <th>565</th>\n",
       "      <td>Chile</td>\n",
       "      <td>2021-09-18</td>\n",
       "      <td>2.267100</td>\n",
       "    </tr>\n",
       "    <tr>\n",
       "      <th>566</th>\n",
       "      <td>Chile</td>\n",
       "      <td>2021-09-19</td>\n",
       "      <td>2.267660</td>\n",
       "    </tr>\n",
       "    <tr>\n",
       "      <th>567</th>\n",
       "      <td>Chile</td>\n",
       "      <td>2021-09-20</td>\n",
       "      <td>2.267765</td>\n",
       "    </tr>\n",
       "    <tr>\n",
       "      <th>568</th>\n",
       "      <td>Chile</td>\n",
       "      <td>2021-09-21</td>\n",
       "      <td>2.267804</td>\n",
       "    </tr>\n",
       "  </tbody>\n",
       "</table>\n",
       "</div>"
      ],
      "text/plain": [
       "      País      Fecha  Pctj. de fallecidos c/r al total de contagiados\n",
       "564  Chile 2021-09-17                                         2.266638\n",
       "565  Chile 2021-09-18                                         2.267100\n",
       "566  Chile 2021-09-19                                         2.267660\n",
       "567  Chile 2021-09-20                                         2.267765\n",
       "568  Chile 2021-09-21                                         2.267804"
      ]
     },
     "execution_count": 144,
     "metadata": {},
     "output_type": "execute_result"
    }
   ],
   "source": [
    "deaths_pct_CH.tail()"
   ]
  },
  {
   "cell_type": "markdown",
   "metadata": {},
   "source": [
    "<a id = 'Sección6.2'></a>"
   ]
  },
  {
   "cell_type": "markdown",
   "metadata": {},
   "source": [
    "### 6.2. Porcentaje de fallecidos con respecto al total de contagiados en Uruguay"
   ]
  },
  {
   "cell_type": "code",
   "execution_count": 145,
   "metadata": {},
   "outputs": [],
   "source": [
    "deaths_pct_UY = global_data_UY.loc [:, ['País', 'fecha']]"
   ]
  },
  {
   "cell_type": "code",
   "execution_count": 146,
   "metadata": {},
   "outputs": [],
   "source": [
    "deaths_pct_UY ['Pctj. de fallecidos c/r al total de contagiados'] = global_data_UY ['acumFallecidos']*100/global_data_UY ['acumCasos']"
   ]
  },
  {
   "cell_type": "code",
   "execution_count": 147,
   "metadata": {},
   "outputs": [
    {
     "data": {
      "text/html": [
       "<div>\n",
       "<style scoped>\n",
       "    .dataframe tbody tr th:only-of-type {\n",
       "        vertical-align: middle;\n",
       "    }\n",
       "\n",
       "    .dataframe tbody tr th {\n",
       "        vertical-align: top;\n",
       "    }\n",
       "\n",
       "    .dataframe thead th {\n",
       "        text-align: right;\n",
       "    }\n",
       "</style>\n",
       "<table border=\"1\" class=\"dataframe\">\n",
       "  <thead>\n",
       "    <tr style=\"text-align: right;\">\n",
       "      <th></th>\n",
       "      <th>País</th>\n",
       "      <th>fecha</th>\n",
       "      <th>Pctj. de fallecidos c/r al total de contagiados</th>\n",
       "    </tr>\n",
       "  </thead>\n",
       "  <tbody>\n",
       "    <tr>\n",
       "      <th>541</th>\n",
       "      <td>Uruguay</td>\n",
       "      <td>2021-09-17</td>\n",
       "      <td>1.560463</td>\n",
       "    </tr>\n",
       "    <tr>\n",
       "      <th>542</th>\n",
       "      <td>Uruguay</td>\n",
       "      <td>2021-09-18</td>\n",
       "      <td>1.560553</td>\n",
       "    </tr>\n",
       "    <tr>\n",
       "      <th>543</th>\n",
       "      <td>Uruguay</td>\n",
       "      <td>2021-09-19</td>\n",
       "      <td>1.560263</td>\n",
       "    </tr>\n",
       "    <tr>\n",
       "      <th>544</th>\n",
       "      <td>Uruguay</td>\n",
       "      <td>2021-09-20</td>\n",
       "      <td>1.559792</td>\n",
       "    </tr>\n",
       "    <tr>\n",
       "      <th>545</th>\n",
       "      <td>Uruguay</td>\n",
       "      <td>2021-09-21</td>\n",
       "      <td>1.559334</td>\n",
       "    </tr>\n",
       "  </tbody>\n",
       "</table>\n",
       "</div>"
      ],
      "text/plain": [
       "        País      fecha  Pctj. de fallecidos c/r al total de contagiados\n",
       "541  Uruguay 2021-09-17                                         1.560463\n",
       "542  Uruguay 2021-09-18                                         1.560553\n",
       "543  Uruguay 2021-09-19                                         1.560263\n",
       "544  Uruguay 2021-09-20                                         1.559792\n",
       "545  Uruguay 2021-09-21                                         1.559334"
      ]
     },
     "execution_count": 147,
     "metadata": {},
     "output_type": "execute_result"
    }
   ],
   "source": [
    "deaths_pct_UY.tail()"
   ]
  },
  {
   "cell_type": "markdown",
   "metadata": {},
   "source": [
    "<a id = 'Sección6.3'></a>"
   ]
  },
  {
   "cell_type": "markdown",
   "metadata": {},
   "source": [
    "### 6.3 Porcentaje de fallecidos con respecto al total de contagiados consolidado"
   ]
  },
  {
   "cell_type": "code",
   "execution_count": 148,
   "metadata": {},
   "outputs": [
    {
     "data": {
      "text/html": [
       "<div>\n",
       "<style scoped>\n",
       "    .dataframe tbody tr th:only-of-type {\n",
       "        vertical-align: middle;\n",
       "    }\n",
       "\n",
       "    .dataframe tbody tr th {\n",
       "        vertical-align: top;\n",
       "    }\n",
       "\n",
       "    .dataframe thead th {\n",
       "        text-align: right;\n",
       "    }\n",
       "</style>\n",
       "<table border=\"1\" class=\"dataframe\">\n",
       "  <thead>\n",
       "    <tr style=\"text-align: right;\">\n",
       "      <th></th>\n",
       "      <th>País</th>\n",
       "      <th>Fecha</th>\n",
       "      <th>Pctj. de fallecidos c/r al total de contagiados</th>\n",
       "    </tr>\n",
       "  </thead>\n",
       "  <tbody>\n",
       "    <tr>\n",
       "      <th>0</th>\n",
       "      <td>Chile</td>\n",
       "      <td>2020-03-02</td>\n",
       "      <td>0.000000</td>\n",
       "    </tr>\n",
       "    <tr>\n",
       "      <th>1</th>\n",
       "      <td>Chile</td>\n",
       "      <td>2020-03-03</td>\n",
       "      <td>0.000000</td>\n",
       "    </tr>\n",
       "    <tr>\n",
       "      <th>2</th>\n",
       "      <td>Chile</td>\n",
       "      <td>2020-03-04</td>\n",
       "      <td>0.000000</td>\n",
       "    </tr>\n",
       "    <tr>\n",
       "      <th>3</th>\n",
       "      <td>Chile</td>\n",
       "      <td>2020-03-05</td>\n",
       "      <td>0.000000</td>\n",
       "    </tr>\n",
       "    <tr>\n",
       "      <th>4</th>\n",
       "      <td>Chile</td>\n",
       "      <td>2020-03-06</td>\n",
       "      <td>0.000000</td>\n",
       "    </tr>\n",
       "    <tr>\n",
       "      <th>...</th>\n",
       "      <td>...</td>\n",
       "      <td>...</td>\n",
       "      <td>...</td>\n",
       "    </tr>\n",
       "    <tr>\n",
       "      <th>541</th>\n",
       "      <td>Uruguay</td>\n",
       "      <td>2021-09-17</td>\n",
       "      <td>1.560463</td>\n",
       "    </tr>\n",
       "    <tr>\n",
       "      <th>542</th>\n",
       "      <td>Uruguay</td>\n",
       "      <td>2021-09-18</td>\n",
       "      <td>1.560553</td>\n",
       "    </tr>\n",
       "    <tr>\n",
       "      <th>543</th>\n",
       "      <td>Uruguay</td>\n",
       "      <td>2021-09-19</td>\n",
       "      <td>1.560263</td>\n",
       "    </tr>\n",
       "    <tr>\n",
       "      <th>544</th>\n",
       "      <td>Uruguay</td>\n",
       "      <td>2021-09-20</td>\n",
       "      <td>1.559792</td>\n",
       "    </tr>\n",
       "    <tr>\n",
       "      <th>545</th>\n",
       "      <td>Uruguay</td>\n",
       "      <td>2021-09-21</td>\n",
       "      <td>1.559334</td>\n",
       "    </tr>\n",
       "  </tbody>\n",
       "</table>\n",
       "<p>1115 rows × 3 columns</p>\n",
       "</div>"
      ],
      "text/plain": [
       "        País      Fecha  Pctj. de fallecidos c/r al total de contagiados\n",
       "0      Chile 2020-03-02                                         0.000000\n",
       "1      Chile 2020-03-03                                         0.000000\n",
       "2      Chile 2020-03-04                                         0.000000\n",
       "3      Chile 2020-03-05                                         0.000000\n",
       "4      Chile 2020-03-06                                         0.000000\n",
       "..       ...        ...                                              ...\n",
       "541  Uruguay 2021-09-17                                         1.560463\n",
       "542  Uruguay 2021-09-18                                         1.560553\n",
       "543  Uruguay 2021-09-19                                         1.560263\n",
       "544  Uruguay 2021-09-20                                         1.559792\n",
       "545  Uruguay 2021-09-21                                         1.559334\n",
       "\n",
       "[1115 rows x 3 columns]"
      ]
     },
     "execution_count": 148,
     "metadata": {},
     "output_type": "execute_result"
    }
   ],
   "source": [
    "deaths_pct = pd.concat ([deaths_pct_CH, deaths_pct_UY.rename (columns = {'fecha':'Fecha'})])\n",
    "deaths_pct"
   ]
  },
  {
   "cell_type": "markdown",
   "metadata": {},
   "source": [
    "<a id = 'Sección7'></a>"
   ]
  },
  {
   "cell_type": "markdown",
   "metadata": {},
   "source": [
    "## 7. Tests realizados y positividad"
   ]
  },
  {
   "cell_type": "markdown",
   "metadata": {},
   "source": [
    "<a id = 'Sección7.1'></a>"
   ]
  },
  {
   "cell_type": "markdown",
   "metadata": {},
   "source": [
    "### 7.1. Test realizados y positividad en Chile"
   ]
  },
  {
   "cell_type": "code",
   "execution_count": 149,
   "metadata": {},
   "outputs": [],
   "source": [
    "tests_data_CH = test_CH.copy()"
   ]
  },
  {
   "cell_type": "code",
   "execution_count": 150,
   "metadata": {},
   "outputs": [],
   "source": [
    "tests_data_CH ['Tests realizados por millón'] = test_CH ['pcr'].apply(per_million_CH)"
   ]
  },
  {
   "cell_type": "code",
   "execution_count": 151,
   "metadata": {},
   "outputs": [],
   "source": [
    "tests_data_CH ['Acumulado de test realizados'] = test_CH ['pcr'].cumsum()"
   ]
  },
  {
   "cell_type": "code",
   "execution_count": 152,
   "metadata": {},
   "outputs": [],
   "source": [
    "tests_data_CH ['Total tests realizados por millón'] = tests_data_CH ['Acumulado de test realizados'].apply(per_million_CH)"
   ]
  },
  {
   "cell_type": "code",
   "execution_count": 153,
   "metadata": {},
   "outputs": [
    {
     "data": {
      "text/html": [
       "<div>\n",
       "<style scoped>\n",
       "    .dataframe tbody tr th:only-of-type {\n",
       "        vertical-align: middle;\n",
       "    }\n",
       "\n",
       "    .dataframe tbody tr th {\n",
       "        vertical-align: top;\n",
       "    }\n",
       "\n",
       "    .dataframe thead th {\n",
       "        text-align: right;\n",
       "    }\n",
       "</style>\n",
       "<table border=\"1\" class=\"dataframe\">\n",
       "  <thead>\n",
       "    <tr style=\"text-align: right;\">\n",
       "      <th></th>\n",
       "      <th>País</th>\n",
       "      <th>Fecha</th>\n",
       "      <th>pcr</th>\n",
       "      <th>positividad pcr</th>\n",
       "      <th>Tests realizados por millón</th>\n",
       "      <th>Acumulado de test realizados</th>\n",
       "      <th>Total tests realizados por millón</th>\n",
       "    </tr>\n",
       "  </thead>\n",
       "  <tbody>\n",
       "    <tr>\n",
       "      <th>0</th>\n",
       "      <td>Chile</td>\n",
       "      <td>2020-03-25</td>\n",
       "      <td>3290.0</td>\n",
       "      <td>0.0669</td>\n",
       "      <td>169.079432</td>\n",
       "      <td>3290.0</td>\n",
       "      <td>169.079432</td>\n",
       "    </tr>\n",
       "    <tr>\n",
       "      <th>1</th>\n",
       "      <td>Chile</td>\n",
       "      <td>2020-03-26</td>\n",
       "      <td>4886.0</td>\n",
       "      <td>0.0336</td>\n",
       "      <td>251.100944</td>\n",
       "      <td>8176.0</td>\n",
       "      <td>420.180375</td>\n",
       "    </tr>\n",
       "    <tr>\n",
       "      <th>2</th>\n",
       "      <td>Chile</td>\n",
       "      <td>2020-03-27</td>\n",
       "      <td>7387.0</td>\n",
       "      <td>0.0412</td>\n",
       "      <td>379.632147</td>\n",
       "      <td>15563.0</td>\n",
       "      <td>799.812522</td>\n",
       "    </tr>\n",
       "    <tr>\n",
       "      <th>3</th>\n",
       "      <td>Chile</td>\n",
       "      <td>2020-03-28</td>\n",
       "      <td>3534.0</td>\n",
       "      <td>0.0846</td>\n",
       "      <td>181.619061</td>\n",
       "      <td>19097.0</td>\n",
       "      <td>981.431584</td>\n",
       "    </tr>\n",
       "    <tr>\n",
       "      <th>4</th>\n",
       "      <td>Chile</td>\n",
       "      <td>2020-03-29</td>\n",
       "      <td>1777.0</td>\n",
       "      <td>0.1294</td>\n",
       "      <td>91.323450</td>\n",
       "      <td>20874.0</td>\n",
       "      <td>1072.755034</td>\n",
       "    </tr>\n",
       "  </tbody>\n",
       "</table>\n",
       "</div>"
      ],
      "text/plain": [
       "    País      Fecha     pcr  positividad pcr  Tests realizados por millón  \\\n",
       "0  Chile 2020-03-25  3290.0           0.0669                   169.079432   \n",
       "1  Chile 2020-03-26  4886.0           0.0336                   251.100944   \n",
       "2  Chile 2020-03-27  7387.0           0.0412                   379.632147   \n",
       "3  Chile 2020-03-28  3534.0           0.0846                   181.619061   \n",
       "4  Chile 2020-03-29  1777.0           0.1294                    91.323450   \n",
       "\n",
       "   Acumulado de test realizados  Total tests realizados por millón  \n",
       "0                        3290.0                         169.079432  \n",
       "1                        8176.0                         420.180375  \n",
       "2                       15563.0                         799.812522  \n",
       "3                       19097.0                         981.431584  \n",
       "4                       20874.0                        1072.755034  "
      ]
     },
     "execution_count": 153,
     "metadata": {},
     "output_type": "execute_result"
    }
   ],
   "source": [
    "tests_data_CH.head()"
   ]
  },
  {
   "cell_type": "markdown",
   "metadata": {},
   "source": [
    "<a id = 'Sección7.2'></a>"
   ]
  },
  {
   "cell_type": "markdown",
   "metadata": {},
   "source": [
    "### 7.2. Test realizados y positividad en Uruguay"
   ]
  },
  {
   "cell_type": "code",
   "execution_count": 154,
   "metadata": {},
   "outputs": [],
   "source": [
    "tests_data_UY = global_data_UY.loc [:, ['País','fecha','cantTest', 'acumTest','Positividad']]"
   ]
  },
  {
   "cell_type": "code",
   "execution_count": 155,
   "metadata": {},
   "outputs": [],
   "source": [
    "tests_data_UY ['Tests realizados por millón'] = global_data_UY ['cantTest'].apply(per_million_UY)"
   ]
  },
  {
   "cell_type": "code",
   "execution_count": 156,
   "metadata": {},
   "outputs": [],
   "source": [
    "tests_data_UY ['Total tests realizados por millón'] = global_data_UY ['acumTest'].apply(per_million_UY)"
   ]
  },
  {
   "cell_type": "code",
   "execution_count": 157,
   "metadata": {},
   "outputs": [
    {
     "data": {
      "text/html": [
       "<div>\n",
       "<style scoped>\n",
       "    .dataframe tbody tr th:only-of-type {\n",
       "        vertical-align: middle;\n",
       "    }\n",
       "\n",
       "    .dataframe tbody tr th {\n",
       "        vertical-align: top;\n",
       "    }\n",
       "\n",
       "    .dataframe thead th {\n",
       "        text-align: right;\n",
       "    }\n",
       "</style>\n",
       "<table border=\"1\" class=\"dataframe\">\n",
       "  <thead>\n",
       "    <tr style=\"text-align: right;\">\n",
       "      <th></th>\n",
       "      <th>País</th>\n",
       "      <th>fecha</th>\n",
       "      <th>cantTest</th>\n",
       "      <th>acumTest</th>\n",
       "      <th>Positividad</th>\n",
       "      <th>Tests realizados por millón</th>\n",
       "      <th>Total tests realizados por millón</th>\n",
       "    </tr>\n",
       "  </thead>\n",
       "  <tbody>\n",
       "    <tr>\n",
       "      <th>0</th>\n",
       "      <td>Uruguay</td>\n",
       "      <td>2020-03-25</td>\n",
       "      <td>320</td>\n",
       "      <td>1858</td>\n",
       "      <td>0.088</td>\n",
       "      <td>90.628144</td>\n",
       "      <td>526.209659</td>\n",
       "    </tr>\n",
       "    <tr>\n",
       "      <th>1</th>\n",
       "      <td>Uruguay</td>\n",
       "      <td>2020-03-26</td>\n",
       "      <td>245</td>\n",
       "      <td>2103</td>\n",
       "      <td>0.086</td>\n",
       "      <td>69.387172</td>\n",
       "      <td>595.596832</td>\n",
       "    </tr>\n",
       "    <tr>\n",
       "      <th>2</th>\n",
       "      <td>Uruguay</td>\n",
       "      <td>2020-03-27</td>\n",
       "      <td>451</td>\n",
       "      <td>2554</td>\n",
       "      <td>0.080</td>\n",
       "      <td>127.729040</td>\n",
       "      <td>723.325872</td>\n",
       "    </tr>\n",
       "    <tr>\n",
       "      <th>3</th>\n",
       "      <td>Uruguay</td>\n",
       "      <td>2020-03-28</td>\n",
       "      <td>372</td>\n",
       "      <td>2926</td>\n",
       "      <td>0.081</td>\n",
       "      <td>105.355217</td>\n",
       "      <td>828.681089</td>\n",
       "    </tr>\n",
       "    <tr>\n",
       "      <th>4</th>\n",
       "      <td>Uruguay</td>\n",
       "      <td>2020-03-29</td>\n",
       "      <td>200</td>\n",
       "      <td>3126</td>\n",
       "      <td>0.030</td>\n",
       "      <td>56.642590</td>\n",
       "      <td>885.323678</td>\n",
       "    </tr>\n",
       "  </tbody>\n",
       "</table>\n",
       "</div>"
      ],
      "text/plain": [
       "      País      fecha  cantTest  acumTest  Positividad  \\\n",
       "0  Uruguay 2020-03-25       320      1858        0.088   \n",
       "1  Uruguay 2020-03-26       245      2103        0.086   \n",
       "2  Uruguay 2020-03-27       451      2554        0.080   \n",
       "3  Uruguay 2020-03-28       372      2926        0.081   \n",
       "4  Uruguay 2020-03-29       200      3126        0.030   \n",
       "\n",
       "   Tests realizados por millón  Total tests realizados por millón  \n",
       "0                    90.628144                         526.209659  \n",
       "1                    69.387172                         595.596832  \n",
       "2                   127.729040                         723.325872  \n",
       "3                   105.355217                         828.681089  \n",
       "4                    56.642590                         885.323678  "
      ]
     },
     "execution_count": 157,
     "metadata": {},
     "output_type": "execute_result"
    }
   ],
   "source": [
    "tests_data_UY.head()"
   ]
  },
  {
   "cell_type": "markdown",
   "metadata": {},
   "source": [
    "<a id = 'Sección7.3'></a>"
   ]
  },
  {
   "cell_type": "markdown",
   "metadata": {},
   "source": [
    "### 7.3. Test realizados y positividad consolidado"
   ]
  },
  {
   "cell_type": "code",
   "execution_count": 158,
   "metadata": {},
   "outputs": [],
   "source": [
    "test_data = pd.concat ([tests_data_CH.rename (columns = {'pcr':'Tests', 'positividad pcr':'Positividad'}),\n",
    "                        tests_data_UY.rename (columns = {'fecha':'Fecha', 'cantTest':'Tests', 'acumTest':'Acumulado de test realizados'})])"
   ]
  },
  {
   "cell_type": "code",
   "execution_count": 159,
   "metadata": {},
   "outputs": [
    {
     "data": {
      "text/html": [
       "<div>\n",
       "<style scoped>\n",
       "    .dataframe tbody tr th:only-of-type {\n",
       "        vertical-align: middle;\n",
       "    }\n",
       "\n",
       "    .dataframe tbody tr th {\n",
       "        vertical-align: top;\n",
       "    }\n",
       "\n",
       "    .dataframe thead th {\n",
       "        text-align: right;\n",
       "    }\n",
       "</style>\n",
       "<table border=\"1\" class=\"dataframe\">\n",
       "  <thead>\n",
       "    <tr style=\"text-align: right;\">\n",
       "      <th></th>\n",
       "      <th>País</th>\n",
       "      <th>Fecha</th>\n",
       "      <th>Tests</th>\n",
       "      <th>Positividad</th>\n",
       "      <th>Tests realizados por millón</th>\n",
       "      <th>Acumulado de test realizados</th>\n",
       "      <th>Total tests realizados por millón</th>\n",
       "    </tr>\n",
       "  </thead>\n",
       "  <tbody>\n",
       "    <tr>\n",
       "      <th>0</th>\n",
       "      <td>Chile</td>\n",
       "      <td>2020-03-25</td>\n",
       "      <td>3290.0</td>\n",
       "      <td>0.0669</td>\n",
       "      <td>169.079432</td>\n",
       "      <td>3290.0</td>\n",
       "      <td>169.079432</td>\n",
       "    </tr>\n",
       "    <tr>\n",
       "      <th>1</th>\n",
       "      <td>Chile</td>\n",
       "      <td>2020-03-26</td>\n",
       "      <td>4886.0</td>\n",
       "      <td>0.0336</td>\n",
       "      <td>251.100944</td>\n",
       "      <td>8176.0</td>\n",
       "      <td>420.180375</td>\n",
       "    </tr>\n",
       "    <tr>\n",
       "      <th>2</th>\n",
       "      <td>Chile</td>\n",
       "      <td>2020-03-27</td>\n",
       "      <td>7387.0</td>\n",
       "      <td>0.0412</td>\n",
       "      <td>379.632147</td>\n",
       "      <td>15563.0</td>\n",
       "      <td>799.812522</td>\n",
       "    </tr>\n",
       "    <tr>\n",
       "      <th>3</th>\n",
       "      <td>Chile</td>\n",
       "      <td>2020-03-28</td>\n",
       "      <td>3534.0</td>\n",
       "      <td>0.0846</td>\n",
       "      <td>181.619061</td>\n",
       "      <td>19097.0</td>\n",
       "      <td>981.431584</td>\n",
       "    </tr>\n",
       "    <tr>\n",
       "      <th>4</th>\n",
       "      <td>Chile</td>\n",
       "      <td>2020-03-29</td>\n",
       "      <td>1777.0</td>\n",
       "      <td>0.1294</td>\n",
       "      <td>91.323450</td>\n",
       "      <td>20874.0</td>\n",
       "      <td>1072.755034</td>\n",
       "    </tr>\n",
       "    <tr>\n",
       "      <th>...</th>\n",
       "      <td>...</td>\n",
       "      <td>...</td>\n",
       "      <td>...</td>\n",
       "      <td>...</td>\n",
       "      <td>...</td>\n",
       "      <td>...</td>\n",
       "      <td>...</td>\n",
       "    </tr>\n",
       "    <tr>\n",
       "      <th>541</th>\n",
       "      <td>Uruguay</td>\n",
       "      <td>2021-09-17</td>\n",
       "      <td>8658.0</td>\n",
       "      <td>0.0180</td>\n",
       "      <td>2452.057712</td>\n",
       "      <td>3485511.0</td>\n",
       "      <td>987141.848905</td>\n",
       "    </tr>\n",
       "    <tr>\n",
       "      <th>542</th>\n",
       "      <td>Uruguay</td>\n",
       "      <td>2021-09-18</td>\n",
       "      <td>8082.0</td>\n",
       "      <td>0.0150</td>\n",
       "      <td>2288.927053</td>\n",
       "      <td>3493593.0</td>\n",
       "      <td>989430.775958</td>\n",
       "    </tr>\n",
       "    <tr>\n",
       "      <th>543</th>\n",
       "      <td>Uruguay</td>\n",
       "      <td>2021-09-19</td>\n",
       "      <td>5503.0</td>\n",
       "      <td>0.0150</td>\n",
       "      <td>1558.520858</td>\n",
       "      <td>3499096.0</td>\n",
       "      <td>990989.296816</td>\n",
       "    </tr>\n",
       "    <tr>\n",
       "      <th>544</th>\n",
       "      <td>Uruguay</td>\n",
       "      <td>2021-09-20</td>\n",
       "      <td>6990.0</td>\n",
       "      <td>0.0190</td>\n",
       "      <td>1979.658513</td>\n",
       "      <td>3506086.0</td>\n",
       "      <td>992968.955329</td>\n",
       "    </tr>\n",
       "    <tr>\n",
       "      <th>545</th>\n",
       "      <td>Uruguay</td>\n",
       "      <td>2021-09-21</td>\n",
       "      <td>9122.0</td>\n",
       "      <td>0.0210</td>\n",
       "      <td>2583.468520</td>\n",
       "      <td>3515208.0</td>\n",
       "      <td>995552.423850</td>\n",
       "    </tr>\n",
       "  </tbody>\n",
       "</table>\n",
       "<p>1092 rows × 7 columns</p>\n",
       "</div>"
      ],
      "text/plain": [
       "        País      Fecha   Tests  Positividad  Tests realizados por millón  \\\n",
       "0      Chile 2020-03-25  3290.0       0.0669                   169.079432   \n",
       "1      Chile 2020-03-26  4886.0       0.0336                   251.100944   \n",
       "2      Chile 2020-03-27  7387.0       0.0412                   379.632147   \n",
       "3      Chile 2020-03-28  3534.0       0.0846                   181.619061   \n",
       "4      Chile 2020-03-29  1777.0       0.1294                    91.323450   \n",
       "..       ...        ...     ...          ...                          ...   \n",
       "541  Uruguay 2021-09-17  8658.0       0.0180                  2452.057712   \n",
       "542  Uruguay 2021-09-18  8082.0       0.0150                  2288.927053   \n",
       "543  Uruguay 2021-09-19  5503.0       0.0150                  1558.520858   \n",
       "544  Uruguay 2021-09-20  6990.0       0.0190                  1979.658513   \n",
       "545  Uruguay 2021-09-21  9122.0       0.0210                  2583.468520   \n",
       "\n",
       "     Acumulado de test realizados  Total tests realizados por millón  \n",
       "0                          3290.0                         169.079432  \n",
       "1                          8176.0                         420.180375  \n",
       "2                         15563.0                         799.812522  \n",
       "3                         19097.0                         981.431584  \n",
       "4                         20874.0                        1072.755034  \n",
       "..                            ...                                ...  \n",
       "541                     3485511.0                      987141.848905  \n",
       "542                     3493593.0                      989430.775958  \n",
       "543                     3499096.0                      990989.296816  \n",
       "544                     3506086.0                      992968.955329  \n",
       "545                     3515208.0                      995552.423850  \n",
       "\n",
       "[1092 rows x 7 columns]"
      ]
     },
     "execution_count": 159,
     "metadata": {},
     "output_type": "execute_result"
    }
   ],
   "source": [
    "test_data"
   ]
  },
  {
   "cell_type": "markdown",
   "metadata": {},
   "source": [
    "<a id = 'Sección8'></a>"
   ]
  },
  {
   "cell_type": "markdown",
   "metadata": {},
   "source": [
    "## 8. Cantidad de pacientes en UTI / CI y UCI/CTI"
   ]
  },
  {
   "cell_type": "markdown",
   "metadata": {},
   "source": [
    "La UTI en Chile corresponde a la Unidad de Tratamientos Intensivos, su homólogo en Uruguay son los Cuidados Intermedios (CI). Por otro lado, la UCI en Chile es la Unidad de Cuidados Intensivos y su equivalente en Uruguay es la CTI, Centro de Tratamientos Intensivos."
   ]
  },
  {
   "cell_type": "markdown",
   "metadata": {},
   "source": [
    "<a id = 'Sección8.1'></a>"
   ]
  },
  {
   "cell_type": "markdown",
   "metadata": {},
   "source": [
    "### 8.1. Cantidad de pacientes en UTI /UCI en Chile"
   ]
  },
  {
   "cell_type": "code",
   "execution_count": 160,
   "metadata": {},
   "outputs": [],
   "source": [
    "UCI_data_CH = UCI_CH.loc [:, ['País', 'Fecha', 'UCI', 'UTI']]"
   ]
  },
  {
   "cell_type": "code",
   "execution_count": 161,
   "metadata": {},
   "outputs": [],
   "source": [
    "UCI_data_CH ['Pacientes en UCI/CTI por millón'] = UCI_CH ['UCI'].apply(per_million_CH)"
   ]
  },
  {
   "cell_type": "code",
   "execution_count": 162,
   "metadata": {},
   "outputs": [],
   "source": [
    "UCI_data_CH ['Pacientes en UTI/CI por millón'] = UCI_CH ['UTI'].apply(per_million_CH)"
   ]
  },
  {
   "cell_type": "code",
   "execution_count": 163,
   "metadata": {},
   "outputs": [],
   "source": [
    "active_cases_CH = global_data_CH.loc [:, ['Fecha', 'Casos activos']]"
   ]
  },
  {
   "cell_type": "code",
   "execution_count": 164,
   "metadata": {},
   "outputs": [],
   "source": [
    "# Se realiza un left join para obtener la cantidad de casos activos asociada en cada fecha en el dataframe UCI_data\n",
    "\n",
    "UCI_data_CH = pd.merge (UCI_data_CH, active_cases_CH, how = 'left', on = 'Fecha')"
   ]
  },
  {
   "cell_type": "code",
   "execution_count": 165,
   "metadata": {},
   "outputs": [],
   "source": [
    "UCI_data_CH ['Pctj de contagiados en UCI/CTI'] = UCI_CH ['UCI']*100/UCI_data_CH ['Casos activos']"
   ]
  },
  {
   "cell_type": "code",
   "execution_count": 166,
   "metadata": {},
   "outputs": [],
   "source": [
    "UCI_data_CH ['Pctj de contagiados en UTI/CI'] = UCI_CH ['UTI']*100/UCI_data_CH ['Casos activos']"
   ]
  },
  {
   "cell_type": "code",
   "execution_count": 167,
   "metadata": {},
   "outputs": [
    {
     "data": {
      "text/html": [
       "<div>\n",
       "<style scoped>\n",
       "    .dataframe tbody tr th:only-of-type {\n",
       "        vertical-align: middle;\n",
       "    }\n",
       "\n",
       "    .dataframe tbody tr th {\n",
       "        vertical-align: top;\n",
       "    }\n",
       "\n",
       "    .dataframe thead th {\n",
       "        text-align: right;\n",
       "    }\n",
       "</style>\n",
       "<table border=\"1\" class=\"dataframe\">\n",
       "  <thead>\n",
       "    <tr style=\"text-align: right;\">\n",
       "      <th></th>\n",
       "      <th>País</th>\n",
       "      <th>Fecha</th>\n",
       "      <th>UCI</th>\n",
       "      <th>UTI</th>\n",
       "      <th>Pacientes en UCI/CTI por millón</th>\n",
       "      <th>Pacientes en UTI/CI por millón</th>\n",
       "      <th>Casos activos</th>\n",
       "      <th>Pctj de contagiados en UCI/CTI</th>\n",
       "      <th>Pctj de contagiados en UTI/CI</th>\n",
       "    </tr>\n",
       "  </thead>\n",
       "  <tbody>\n",
       "    <tr>\n",
       "      <th>0</th>\n",
       "      <td>Chile</td>\n",
       "      <td>2020-04-16</td>\n",
       "      <td>384</td>\n",
       "      <td>111</td>\n",
       "      <td>19.734499</td>\n",
       "      <td>5.704504</td>\n",
       "      <td>5403.0</td>\n",
       "      <td>7.107163</td>\n",
       "      <td>2.054414</td>\n",
       "    </tr>\n",
       "    <tr>\n",
       "      <th>1</th>\n",
       "      <td>Chile</td>\n",
       "      <td>2020-04-17</td>\n",
       "      <td>407</td>\n",
       "      <td>168</td>\n",
       "      <td>20.916513</td>\n",
       "      <td>8.633843</td>\n",
       "      <td>5515.0</td>\n",
       "      <td>7.379873</td>\n",
       "      <td>3.046238</td>\n",
       "    </tr>\n",
       "    <tr>\n",
       "      <th>2</th>\n",
       "      <td>Chile</td>\n",
       "      <td>2020-04-18</td>\n",
       "      <td>380</td>\n",
       "      <td>180</td>\n",
       "      <td>19.528931</td>\n",
       "      <td>9.250546</td>\n",
       "      <td>5569.0</td>\n",
       "      <td>6.823487</td>\n",
       "      <td>3.232178</td>\n",
       "    </tr>\n",
       "    <tr>\n",
       "      <th>3</th>\n",
       "      <td>Chile</td>\n",
       "      <td>2020-04-19</td>\n",
       "      <td>373</td>\n",
       "      <td>134</td>\n",
       "      <td>19.169188</td>\n",
       "      <td>6.886518</td>\n",
       "      <td>5617.0</td>\n",
       "      <td>6.640555</td>\n",
       "      <td>2.385615</td>\n",
       "    </tr>\n",
       "    <tr>\n",
       "      <th>4</th>\n",
       "      <td>Chile</td>\n",
       "      <td>2020-04-20</td>\n",
       "      <td>377</td>\n",
       "      <td>129</td>\n",
       "      <td>19.374756</td>\n",
       "      <td>6.629558</td>\n",
       "      <td>5692.0</td>\n",
       "      <td>6.623331</td>\n",
       "      <td>2.266339</td>\n",
       "    </tr>\n",
       "  </tbody>\n",
       "</table>\n",
       "</div>"
      ],
      "text/plain": [
       "    País      Fecha  UCI  UTI  Pacientes en UCI/CTI por millón  \\\n",
       "0  Chile 2020-04-16  384  111                        19.734499   \n",
       "1  Chile 2020-04-17  407  168                        20.916513   \n",
       "2  Chile 2020-04-18  380  180                        19.528931   \n",
       "3  Chile 2020-04-19  373  134                        19.169188   \n",
       "4  Chile 2020-04-20  377  129                        19.374756   \n",
       "\n",
       "   Pacientes en UTI/CI por millón  Casos activos  \\\n",
       "0                        5.704504         5403.0   \n",
       "1                        8.633843         5515.0   \n",
       "2                        9.250546         5569.0   \n",
       "3                        6.886518         5617.0   \n",
       "4                        6.629558         5692.0   \n",
       "\n",
       "   Pctj de contagiados en UCI/CTI  Pctj de contagiados en UTI/CI  \n",
       "0                        7.107163                       2.054414  \n",
       "1                        7.379873                       3.046238  \n",
       "2                        6.823487                       3.232178  \n",
       "3                        6.640555                       2.385615  \n",
       "4                        6.623331                       2.266339  "
      ]
     },
     "execution_count": 167,
     "metadata": {},
     "output_type": "execute_result"
    }
   ],
   "source": [
    "UCI_data_CH.head()"
   ]
  },
  {
   "cell_type": "markdown",
   "metadata": {},
   "source": [
    "<a id = 'Sección8.2'></a>"
   ]
  },
  {
   "cell_type": "markdown",
   "metadata": {},
   "source": [
    "### 8.2. Cantidad de pacientes en CI / CTI en Uruguay"
   ]
  },
  {
   "cell_type": "code",
   "execution_count": 168,
   "metadata": {},
   "outputs": [],
   "source": [
    "CTI_data_UY = global_data_UY.loc [:, ['País', 'fecha', 'cantPersonasConInfeccionEnCurso', 'cantCTI','cantCI']]"
   ]
  },
  {
   "cell_type": "code",
   "execution_count": 169,
   "metadata": {},
   "outputs": [],
   "source": [
    "CTI_data_UY ['Pacientes en UCI/CTI por millón'] = global_data_UY ['cantCTI'].apply(per_million_UY)"
   ]
  },
  {
   "cell_type": "code",
   "execution_count": 170,
   "metadata": {},
   "outputs": [],
   "source": [
    "CTI_data_UY ['Pacientes en UTI/CI por millón'] = global_data_UY ['cantCI'].apply(per_million_UY)"
   ]
  },
  {
   "cell_type": "code",
   "execution_count": 171,
   "metadata": {},
   "outputs": [],
   "source": [
    "CTI_data_UY ['Pctj de contagiados en UCI/CTI'] = global_data_UY ['cantCTI']*100/global_data_UY['cantPersonasConInfeccionEnCurso']"
   ]
  },
  {
   "cell_type": "code",
   "execution_count": 172,
   "metadata": {},
   "outputs": [],
   "source": [
    "CTI_data_UY ['Pctj de contagiados en UTI/CI'] = global_data_UY ['cantCI']*100/global_data_UY['cantPersonasConInfeccionEnCurso']"
   ]
  },
  {
   "cell_type": "code",
   "execution_count": 173,
   "metadata": {},
   "outputs": [
    {
     "data": {
      "text/html": [
       "<div>\n",
       "<style scoped>\n",
       "    .dataframe tbody tr th:only-of-type {\n",
       "        vertical-align: middle;\n",
       "    }\n",
       "\n",
       "    .dataframe tbody tr th {\n",
       "        vertical-align: top;\n",
       "    }\n",
       "\n",
       "    .dataframe thead th {\n",
       "        text-align: right;\n",
       "    }\n",
       "</style>\n",
       "<table border=\"1\" class=\"dataframe\">\n",
       "  <thead>\n",
       "    <tr style=\"text-align: right;\">\n",
       "      <th></th>\n",
       "      <th>País</th>\n",
       "      <th>fecha</th>\n",
       "      <th>cantPersonasConInfeccionEnCurso</th>\n",
       "      <th>cantCTI</th>\n",
       "      <th>cantCI</th>\n",
       "      <th>Pacientes en UCI/CTI por millón</th>\n",
       "      <th>Pacientes en UTI/CI por millón</th>\n",
       "      <th>Pctj de contagiados en UCI/CTI</th>\n",
       "      <th>Pctj de contagiados en UTI/CI</th>\n",
       "    </tr>\n",
       "  </thead>\n",
       "  <tbody>\n",
       "    <tr>\n",
       "      <th>0</th>\n",
       "      <td>Uruguay</td>\n",
       "      <td>2020-03-25</td>\n",
       "      <td>217</td>\n",
       "      <td>4</td>\n",
       "      <td>2</td>\n",
       "      <td>1.132852</td>\n",
       "      <td>0.566426</td>\n",
       "      <td>1.843318</td>\n",
       "      <td>0.921659</td>\n",
       "    </tr>\n",
       "    <tr>\n",
       "      <th>1</th>\n",
       "      <td>Uruguay</td>\n",
       "      <td>2020-03-26</td>\n",
       "      <td>238</td>\n",
       "      <td>4</td>\n",
       "      <td>2</td>\n",
       "      <td>1.132852</td>\n",
       "      <td>0.566426</td>\n",
       "      <td>1.680672</td>\n",
       "      <td>0.840336</td>\n",
       "    </tr>\n",
       "    <tr>\n",
       "      <th>2</th>\n",
       "      <td>Uruguay</td>\n",
       "      <td>2020-03-27</td>\n",
       "      <td>274</td>\n",
       "      <td>8</td>\n",
       "      <td>0</td>\n",
       "      <td>2.265704</td>\n",
       "      <td>0.000000</td>\n",
       "      <td>2.919708</td>\n",
       "      <td>0.000000</td>\n",
       "    </tr>\n",
       "    <tr>\n",
       "      <th>3</th>\n",
       "      <td>Uruguay</td>\n",
       "      <td>2020-03-28</td>\n",
       "      <td>303</td>\n",
       "      <td>8</td>\n",
       "      <td>5</td>\n",
       "      <td>2.265704</td>\n",
       "      <td>1.416065</td>\n",
       "      <td>2.640264</td>\n",
       "      <td>1.650165</td>\n",
       "    </tr>\n",
       "    <tr>\n",
       "      <th>4</th>\n",
       "      <td>Uruguay</td>\n",
       "      <td>2020-03-29</td>\n",
       "      <td>309</td>\n",
       "      <td>10</td>\n",
       "      <td>2</td>\n",
       "      <td>2.832129</td>\n",
       "      <td>0.566426</td>\n",
       "      <td>3.236246</td>\n",
       "      <td>0.647249</td>\n",
       "    </tr>\n",
       "  </tbody>\n",
       "</table>\n",
       "</div>"
      ],
      "text/plain": [
       "      País      fecha  cantPersonasConInfeccionEnCurso  cantCTI  cantCI  \\\n",
       "0  Uruguay 2020-03-25                              217        4       2   \n",
       "1  Uruguay 2020-03-26                              238        4       2   \n",
       "2  Uruguay 2020-03-27                              274        8       0   \n",
       "3  Uruguay 2020-03-28                              303        8       5   \n",
       "4  Uruguay 2020-03-29                              309       10       2   \n",
       "\n",
       "   Pacientes en UCI/CTI por millón  Pacientes en UTI/CI por millón  \\\n",
       "0                         1.132852                        0.566426   \n",
       "1                         1.132852                        0.566426   \n",
       "2                         2.265704                        0.000000   \n",
       "3                         2.265704                        1.416065   \n",
       "4                         2.832129                        0.566426   \n",
       "\n",
       "   Pctj de contagiados en UCI/CTI  Pctj de contagiados en UTI/CI  \n",
       "0                        1.843318                       0.921659  \n",
       "1                        1.680672                       0.840336  \n",
       "2                        2.919708                       0.000000  \n",
       "3                        2.640264                       1.650165  \n",
       "4                        3.236246                       0.647249  "
      ]
     },
     "execution_count": 173,
     "metadata": {},
     "output_type": "execute_result"
    }
   ],
   "source": [
    "CTI_data_UY.head()"
   ]
  },
  {
   "cell_type": "markdown",
   "metadata": {},
   "source": [
    "<a id = 'Sección8.3'></a>"
   ]
  },
  {
   "cell_type": "markdown",
   "metadata": {},
   "source": [
    "### 8.3. Cantidad de pacientes en UTI/CI y  UCI/ CTI consolidado"
   ]
  },
  {
   "cell_type": "code",
   "execution_count": 174,
   "metadata": {},
   "outputs": [
    {
     "data": {
      "text/html": [
       "<div>\n",
       "<style scoped>\n",
       "    .dataframe tbody tr th:only-of-type {\n",
       "        vertical-align: middle;\n",
       "    }\n",
       "\n",
       "    .dataframe tbody tr th {\n",
       "        vertical-align: top;\n",
       "    }\n",
       "\n",
       "    .dataframe thead th {\n",
       "        text-align: right;\n",
       "    }\n",
       "</style>\n",
       "<table border=\"1\" class=\"dataframe\">\n",
       "  <thead>\n",
       "    <tr style=\"text-align: right;\">\n",
       "      <th></th>\n",
       "      <th>País</th>\n",
       "      <th>Fecha</th>\n",
       "      <th>UCI/CTI</th>\n",
       "      <th>UTI/CI</th>\n",
       "      <th>Pacientes en UCI/CTI por millón</th>\n",
       "      <th>Pacientes en UTI/CI por millón</th>\n",
       "      <th>Casos activos</th>\n",
       "      <th>Pctj de contagiados en UCI/CTI</th>\n",
       "      <th>Pctj de contagiados en UTI/CI</th>\n",
       "    </tr>\n",
       "  </thead>\n",
       "  <tbody>\n",
       "    <tr>\n",
       "      <th>0</th>\n",
       "      <td>Chile</td>\n",
       "      <td>2020-04-16</td>\n",
       "      <td>384</td>\n",
       "      <td>111</td>\n",
       "      <td>19.734499</td>\n",
       "      <td>5.704504</td>\n",
       "      <td>5403.0</td>\n",
       "      <td>7.107163</td>\n",
       "      <td>2.054414</td>\n",
       "    </tr>\n",
       "    <tr>\n",
       "      <th>1</th>\n",
       "      <td>Chile</td>\n",
       "      <td>2020-04-17</td>\n",
       "      <td>407</td>\n",
       "      <td>168</td>\n",
       "      <td>20.916513</td>\n",
       "      <td>8.633843</td>\n",
       "      <td>5515.0</td>\n",
       "      <td>7.379873</td>\n",
       "      <td>3.046238</td>\n",
       "    </tr>\n",
       "    <tr>\n",
       "      <th>2</th>\n",
       "      <td>Chile</td>\n",
       "      <td>2020-04-18</td>\n",
       "      <td>380</td>\n",
       "      <td>180</td>\n",
       "      <td>19.528931</td>\n",
       "      <td>9.250546</td>\n",
       "      <td>5569.0</td>\n",
       "      <td>6.823487</td>\n",
       "      <td>3.232178</td>\n",
       "    </tr>\n",
       "    <tr>\n",
       "      <th>3</th>\n",
       "      <td>Chile</td>\n",
       "      <td>2020-04-19</td>\n",
       "      <td>373</td>\n",
       "      <td>134</td>\n",
       "      <td>19.169188</td>\n",
       "      <td>6.886518</td>\n",
       "      <td>5617.0</td>\n",
       "      <td>6.640555</td>\n",
       "      <td>2.385615</td>\n",
       "    </tr>\n",
       "    <tr>\n",
       "      <th>4</th>\n",
       "      <td>Chile</td>\n",
       "      <td>2020-04-20</td>\n",
       "      <td>377</td>\n",
       "      <td>129</td>\n",
       "      <td>19.374756</td>\n",
       "      <td>6.629558</td>\n",
       "      <td>5692.0</td>\n",
       "      <td>6.623331</td>\n",
       "      <td>2.266339</td>\n",
       "    </tr>\n",
       "    <tr>\n",
       "      <th>...</th>\n",
       "      <td>...</td>\n",
       "      <td>...</td>\n",
       "      <td>...</td>\n",
       "      <td>...</td>\n",
       "      <td>...</td>\n",
       "      <td>...</td>\n",
       "      <td>...</td>\n",
       "      <td>...</td>\n",
       "      <td>...</td>\n",
       "    </tr>\n",
       "    <tr>\n",
       "      <th>541</th>\n",
       "      <td>Uruguay</td>\n",
       "      <td>2021-09-17</td>\n",
       "      <td>11</td>\n",
       "      <td>0</td>\n",
       "      <td>3.115342</td>\n",
       "      <td>0.000000</td>\n",
       "      <td>1664.0</td>\n",
       "      <td>0.661058</td>\n",
       "      <td>0.000000</td>\n",
       "    </tr>\n",
       "    <tr>\n",
       "      <th>542</th>\n",
       "      <td>Uruguay</td>\n",
       "      <td>2021-09-18</td>\n",
       "      <td>11</td>\n",
       "      <td>0</td>\n",
       "      <td>3.115342</td>\n",
       "      <td>0.000000</td>\n",
       "      <td>1624.0</td>\n",
       "      <td>0.677340</td>\n",
       "      <td>0.000000</td>\n",
       "    </tr>\n",
       "    <tr>\n",
       "      <th>543</th>\n",
       "      <td>Uruguay</td>\n",
       "      <td>2021-09-19</td>\n",
       "      <td>11</td>\n",
       "      <td>0</td>\n",
       "      <td>3.115342</td>\n",
       "      <td>0.000000</td>\n",
       "      <td>1593.0</td>\n",
       "      <td>0.690521</td>\n",
       "      <td>0.000000</td>\n",
       "    </tr>\n",
       "    <tr>\n",
       "      <th>544</th>\n",
       "      <td>Uruguay</td>\n",
       "      <td>2021-09-20</td>\n",
       "      <td>14</td>\n",
       "      <td>0</td>\n",
       "      <td>3.964981</td>\n",
       "      <td>0.000000</td>\n",
       "      <td>1560.0</td>\n",
       "      <td>0.897436</td>\n",
       "      <td>0.000000</td>\n",
       "    </tr>\n",
       "    <tr>\n",
       "      <th>545</th>\n",
       "      <td>Uruguay</td>\n",
       "      <td>2021-09-21</td>\n",
       "      <td>15</td>\n",
       "      <td>0</td>\n",
       "      <td>4.248194</td>\n",
       "      <td>0.000000</td>\n",
       "      <td>1540.0</td>\n",
       "      <td>0.974026</td>\n",
       "      <td>0.000000</td>\n",
       "    </tr>\n",
       "  </tbody>\n",
       "</table>\n",
       "<p>1070 rows × 9 columns</p>\n",
       "</div>"
      ],
      "text/plain": [
       "        País      Fecha  UCI/CTI  UTI/CI  Pacientes en UCI/CTI por millón  \\\n",
       "0      Chile 2020-04-16      384     111                        19.734499   \n",
       "1      Chile 2020-04-17      407     168                        20.916513   \n",
       "2      Chile 2020-04-18      380     180                        19.528931   \n",
       "3      Chile 2020-04-19      373     134                        19.169188   \n",
       "4      Chile 2020-04-20      377     129                        19.374756   \n",
       "..       ...        ...      ...     ...                              ...   \n",
       "541  Uruguay 2021-09-17       11       0                         3.115342   \n",
       "542  Uruguay 2021-09-18       11       0                         3.115342   \n",
       "543  Uruguay 2021-09-19       11       0                         3.115342   \n",
       "544  Uruguay 2021-09-20       14       0                         3.964981   \n",
       "545  Uruguay 2021-09-21       15       0                         4.248194   \n",
       "\n",
       "     Pacientes en UTI/CI por millón  Casos activos  \\\n",
       "0                          5.704504         5403.0   \n",
       "1                          8.633843         5515.0   \n",
       "2                          9.250546         5569.0   \n",
       "3                          6.886518         5617.0   \n",
       "4                          6.629558         5692.0   \n",
       "..                              ...            ...   \n",
       "541                        0.000000         1664.0   \n",
       "542                        0.000000         1624.0   \n",
       "543                        0.000000         1593.0   \n",
       "544                        0.000000         1560.0   \n",
       "545                        0.000000         1540.0   \n",
       "\n",
       "     Pctj de contagiados en UCI/CTI  Pctj de contagiados en UTI/CI  \n",
       "0                          7.107163                       2.054414  \n",
       "1                          7.379873                       3.046238  \n",
       "2                          6.823487                       3.232178  \n",
       "3                          6.640555                       2.385615  \n",
       "4                          6.623331                       2.266339  \n",
       "..                              ...                            ...  \n",
       "541                        0.661058                       0.000000  \n",
       "542                        0.677340                       0.000000  \n",
       "543                        0.690521                       0.000000  \n",
       "544                        0.897436                       0.000000  \n",
       "545                        0.974026                       0.000000  \n",
       "\n",
       "[1070 rows x 9 columns]"
      ]
     },
     "execution_count": 174,
     "metadata": {},
     "output_type": "execute_result"
    }
   ],
   "source": [
    "UCI_data = pd.concat ([UCI_data_CH.rename (columns = {'UCI':'UCI/CTI', 'UTI':'UTI/CI'} ) ,\n",
    "                       CTI_data_UY.rename (columns = {'fecha':'Fecha','cantPersonasConInfeccionEnCurso':'Casos activos',\n",
    "                                                                 'cantCTI':'UCI/CTI', 'cantCI':'UTI/CI'})])\n",
    "UCI_data"
   ]
  },
  {
   "cell_type": "markdown",
   "metadata": {},
   "source": [
    "<a id = 'Sección9'></a>"
   ]
  },
  {
   "cell_type": "markdown",
   "metadata": {},
   "source": [
    "## 9. Niveles de riesgo a nivel nacional"
   ]
  },
  {
   "cell_type": "markdown",
   "metadata": {},
   "source": [
    "El indicador **nivel de riesgo** corresponde a una métrica clave para la supresión del covid. Fue desarrollada por Brown School of Public Health y Harvard Univesity y busca que proporcionar una guía clara y accesible sobre cómo atacar y eliminar el COVID-19 de manera más eficaz en todo el país al ayudar a determinar la gravedad del brote al que están respondiendo.  \n",
    "Los niveles de riesgo son calculados en base a la media móvil de los nuevos casos diarios, considerando un período de 7 días, por cada 100mil habitantes, y se dividen en 4 categorías, los cuales son representados por colores:\n",
    "\n",
    " + **On track for conteinment (verde):** Índice de riesgo menor a un caso por cada 100mil habitantes. Se recomienda monitorear con pruebas virales y programas de rastreo de  contacto.\n",
    " \n",
    " + **Community spread (amarillo):** Índice de riesgo entre 1 y 9 casos por cada 100mil habitantes. Se recomienda realizar rigurosos programas de testeo y rastreo de contactos.\n",
    " \n",
    " + **Accelerated spread (naranjo):** Índice de riesgo entre 10 y 24 casos por cada 100mil habitantes.Se recomienda realizar rigurosos programas de testeo y rastreo de contactos, y/u ordenar quedarse en casa.\n",
    " \n",
    " + **Tipping point (rojo):** Índice de riesgo de más de 25 casos por cada 100mil habitantes.Se recomienda realizar rigurosos programas de testeo y rastreo de contactos, y/u ordenar quedarse en casa.  \n",
    "\n",
    "Para más información, visitar la página web [Global Epidemics](https://globalepidemics.org/key-metrics-for-covid-suppression/) de Brown School of Public Health"
   ]
  },
  {
   "cell_type": "markdown",
   "metadata": {},
   "source": [
    "<a id = 'Sección9.1'></a>"
   ]
  },
  {
   "cell_type": "markdown",
   "metadata": {},
   "source": [
    "### 9.1. Niveles de riesgo a nivel nacional en Chile"
   ]
  },
  {
   "cell_type": "code",
   "execution_count": 175,
   "metadata": {},
   "outputs": [],
   "source": [
    "risk_levels_CH = global_data_CH.loc [:, ['País', 'Fecha']]"
   ]
  },
  {
   "cell_type": "code",
   "execution_count": 176,
   "metadata": {},
   "outputs": [],
   "source": [
    "# El nivel de riesgo corresponde a la media móvil de los casos nuevos en un periodo de 7 días por cada 100mil habitantes.\n",
    "\n",
    "risk_levels_CH ['Nivel de riesgo'] = global_data_CH ['Casos nuevos totales'].rolling (window = 7).mean() *100000/total_pop_CH"
   ]
  },
  {
   "cell_type": "code",
   "execution_count": 177,
   "metadata": {},
   "outputs": [],
   "source": [
    "# Se eliminan las primeras 6 filas del dataframe, puesto que al calcular la media móvil con una ventana de 7 días, dichas filas\n",
    "# quedan con valor NaN en la columna 'Nivel de riesgo'\n",
    "\n",
    "risk_levels_CH = risk_levels_CH.dropna(subset= ['Nivel de riesgo'])"
   ]
  },
  {
   "cell_type": "code",
   "execution_count": 178,
   "metadata": {},
   "outputs": [],
   "source": [
    "risk_levels_CH.reset_index (drop = True, inplace = True)"
   ]
  },
  {
   "cell_type": "code",
   "execution_count": 179,
   "metadata": {},
   "outputs": [
    {
     "data": {
      "text/html": [
       "<div>\n",
       "<style scoped>\n",
       "    .dataframe tbody tr th:only-of-type {\n",
       "        vertical-align: middle;\n",
       "    }\n",
       "\n",
       "    .dataframe tbody tr th {\n",
       "        vertical-align: top;\n",
       "    }\n",
       "\n",
       "    .dataframe thead th {\n",
       "        text-align: right;\n",
       "    }\n",
       "</style>\n",
       "<table border=\"1\" class=\"dataframe\">\n",
       "  <thead>\n",
       "    <tr style=\"text-align: right;\">\n",
       "      <th></th>\n",
       "      <th>País</th>\n",
       "      <th>Fecha</th>\n",
       "      <th>Nivel de riesgo</th>\n",
       "    </tr>\n",
       "  </thead>\n",
       "  <tbody>\n",
       "    <tr>\n",
       "      <th>0</th>\n",
       "      <td>Chile</td>\n",
       "      <td>2020-03-08</td>\n",
       "      <td>0.007342</td>\n",
       "    </tr>\n",
       "    <tr>\n",
       "      <th>1</th>\n",
       "      <td>Chile</td>\n",
       "      <td>2020-03-09</td>\n",
       "      <td>0.010278</td>\n",
       "    </tr>\n",
       "    <tr>\n",
       "      <th>2</th>\n",
       "      <td>Chile</td>\n",
       "      <td>2020-03-10</td>\n",
       "      <td>0.011747</td>\n",
       "    </tr>\n",
       "    <tr>\n",
       "      <th>3</th>\n",
       "      <td>Chile</td>\n",
       "      <td>2020-03-11</td>\n",
       "      <td>0.014683</td>\n",
       "    </tr>\n",
       "    <tr>\n",
       "      <th>4</th>\n",
       "      <td>Chile</td>\n",
       "      <td>2020-03-12</td>\n",
       "      <td>0.021291</td>\n",
       "    </tr>\n",
       "  </tbody>\n",
       "</table>\n",
       "</div>"
      ],
      "text/plain": [
       "    País      Fecha  Nivel de riesgo\n",
       "0  Chile 2020-03-08         0.007342\n",
       "1  Chile 2020-03-09         0.010278\n",
       "2  Chile 2020-03-10         0.011747\n",
       "3  Chile 2020-03-11         0.014683\n",
       "4  Chile 2020-03-12         0.021291"
      ]
     },
     "execution_count": 179,
     "metadata": {},
     "output_type": "execute_result"
    }
   ],
   "source": [
    "risk_levels_CH.head()"
   ]
  },
  {
   "cell_type": "markdown",
   "metadata": {},
   "source": [
    "<a id = 'Sección9.2'></a>"
   ]
  },
  {
   "cell_type": "markdown",
   "metadata": {},
   "source": [
    "### 9.2. Niveles de riesgo a nivel nacional en Uruguay"
   ]
  },
  {
   "cell_type": "code",
   "execution_count": 180,
   "metadata": {},
   "outputs": [],
   "source": [
    "risk_levels_UY = global_data_UY.loc [:, ['País', 'fecha']]"
   ]
  },
  {
   "cell_type": "code",
   "execution_count": 181,
   "metadata": {},
   "outputs": [],
   "source": [
    "risk_levels_UY ['Nivel de riesgo'] = global_data_UY ['cantCasosNuevosConsolidado'].rolling (window = 7).mean() *100000/total_pop_UY"
   ]
  },
  {
   "cell_type": "code",
   "execution_count": 182,
   "metadata": {},
   "outputs": [],
   "source": [
    "risk_levels_UY = risk_levels_UY.dropna(subset= ['Nivel de riesgo'])"
   ]
  },
  {
   "cell_type": "code",
   "execution_count": 183,
   "metadata": {},
   "outputs": [],
   "source": [
    "risk_levels_UY.reset_index (drop = True, inplace = True)"
   ]
  },
  {
   "cell_type": "code",
   "execution_count": 184,
   "metadata": {},
   "outputs": [
    {
     "data": {
      "text/html": [
       "<div>\n",
       "<style scoped>\n",
       "    .dataframe tbody tr th:only-of-type {\n",
       "        vertical-align: middle;\n",
       "    }\n",
       "\n",
       "    .dataframe tbody tr th {\n",
       "        vertical-align: top;\n",
       "    }\n",
       "\n",
       "    .dataframe thead th {\n",
       "        text-align: right;\n",
       "    }\n",
       "</style>\n",
       "<table border=\"1\" class=\"dataframe\">\n",
       "  <thead>\n",
       "    <tr style=\"text-align: right;\">\n",
       "      <th></th>\n",
       "      <th>País</th>\n",
       "      <th>fecha</th>\n",
       "      <th>Nivel de riesgo</th>\n",
       "    </tr>\n",
       "  </thead>\n",
       "  <tbody>\n",
       "    <tr>\n",
       "      <th>0</th>\n",
       "      <td>Uruguay</td>\n",
       "      <td>2020-03-31</td>\n",
       "      <td>0.586655</td>\n",
       "    </tr>\n",
       "    <tr>\n",
       "      <th>1</th>\n",
       "      <td>Uruguay</td>\n",
       "      <td>2020-04-01</td>\n",
       "      <td>0.513829</td>\n",
       "    </tr>\n",
       "    <tr>\n",
       "      <th>2</th>\n",
       "      <td>Uruguay</td>\n",
       "      <td>2020-04-02</td>\n",
       "      <td>0.497646</td>\n",
       "    </tr>\n",
       "    <tr>\n",
       "      <th>3</th>\n",
       "      <td>Uruguay</td>\n",
       "      <td>2020-04-03</td>\n",
       "      <td>0.412682</td>\n",
       "    </tr>\n",
       "    <tr>\n",
       "      <th>4</th>\n",
       "      <td>Uruguay</td>\n",
       "      <td>2020-04-04</td>\n",
       "      <td>0.339856</td>\n",
       "    </tr>\n",
       "  </tbody>\n",
       "</table>\n",
       "</div>"
      ],
      "text/plain": [
       "      País      fecha  Nivel de riesgo\n",
       "0  Uruguay 2020-03-31         0.586655\n",
       "1  Uruguay 2020-04-01         0.513829\n",
       "2  Uruguay 2020-04-02         0.497646\n",
       "3  Uruguay 2020-04-03         0.412682\n",
       "4  Uruguay 2020-04-04         0.339856"
      ]
     },
     "execution_count": 184,
     "metadata": {},
     "output_type": "execute_result"
    }
   ],
   "source": [
    "risk_levels_UY.head()"
   ]
  },
  {
   "cell_type": "markdown",
   "metadata": {},
   "source": [
    "<a id = 'Sección9.3'></a>"
   ]
  },
  {
   "cell_type": "markdown",
   "metadata": {},
   "source": [
    "### 9.3. Niveles de riesgo a nivel nacional consolidado"
   ]
  },
  {
   "cell_type": "code",
   "execution_count": 185,
   "metadata": {},
   "outputs": [
    {
     "data": {
      "text/html": [
       "<div>\n",
       "<style scoped>\n",
       "    .dataframe tbody tr th:only-of-type {\n",
       "        vertical-align: middle;\n",
       "    }\n",
       "\n",
       "    .dataframe tbody tr th {\n",
       "        vertical-align: top;\n",
       "    }\n",
       "\n",
       "    .dataframe thead th {\n",
       "        text-align: right;\n",
       "    }\n",
       "</style>\n",
       "<table border=\"1\" class=\"dataframe\">\n",
       "  <thead>\n",
       "    <tr style=\"text-align: right;\">\n",
       "      <th></th>\n",
       "      <th>País</th>\n",
       "      <th>Fecha</th>\n",
       "      <th>Nivel de riesgo</th>\n",
       "    </tr>\n",
       "  </thead>\n",
       "  <tbody>\n",
       "    <tr>\n",
       "      <th>0</th>\n",
       "      <td>Chile</td>\n",
       "      <td>2020-03-08</td>\n",
       "      <td>0.007342</td>\n",
       "    </tr>\n",
       "    <tr>\n",
       "      <th>1</th>\n",
       "      <td>Chile</td>\n",
       "      <td>2020-03-09</td>\n",
       "      <td>0.010278</td>\n",
       "    </tr>\n",
       "    <tr>\n",
       "      <th>2</th>\n",
       "      <td>Chile</td>\n",
       "      <td>2020-03-10</td>\n",
       "      <td>0.011747</td>\n",
       "    </tr>\n",
       "    <tr>\n",
       "      <th>3</th>\n",
       "      <td>Chile</td>\n",
       "      <td>2020-03-11</td>\n",
       "      <td>0.014683</td>\n",
       "    </tr>\n",
       "    <tr>\n",
       "      <th>4</th>\n",
       "      <td>Chile</td>\n",
       "      <td>2020-03-12</td>\n",
       "      <td>0.021291</td>\n",
       "    </tr>\n",
       "    <tr>\n",
       "      <th>...</th>\n",
       "      <td>...</td>\n",
       "      <td>...</td>\n",
       "      <td>...</td>\n",
       "    </tr>\n",
       "    <tr>\n",
       "      <th>535</th>\n",
       "      <td>Uruguay</td>\n",
       "      <td>2021-09-17</td>\n",
       "      <td>4.588050</td>\n",
       "    </tr>\n",
       "    <tr>\n",
       "      <th>536</th>\n",
       "      <td>Uruguay</td>\n",
       "      <td>2021-09-18</td>\n",
       "      <td>4.401938</td>\n",
       "    </tr>\n",
       "    <tr>\n",
       "      <th>537</th>\n",
       "      <td>Uruguay</td>\n",
       "      <td>2021-09-19</td>\n",
       "      <td>4.138955</td>\n",
       "    </tr>\n",
       "    <tr>\n",
       "      <th>538</th>\n",
       "      <td>Uruguay</td>\n",
       "      <td>2021-09-20</td>\n",
       "      <td>3.916430</td>\n",
       "    </tr>\n",
       "    <tr>\n",
       "      <th>539</th>\n",
       "      <td>Uruguay</td>\n",
       "      <td>2021-09-21</td>\n",
       "      <td>3.997348</td>\n",
       "    </tr>\n",
       "  </tbody>\n",
       "</table>\n",
       "<p>1103 rows × 3 columns</p>\n",
       "</div>"
      ],
      "text/plain": [
       "        País      Fecha  Nivel de riesgo\n",
       "0      Chile 2020-03-08         0.007342\n",
       "1      Chile 2020-03-09         0.010278\n",
       "2      Chile 2020-03-10         0.011747\n",
       "3      Chile 2020-03-11         0.014683\n",
       "4      Chile 2020-03-12         0.021291\n",
       "..       ...        ...              ...\n",
       "535  Uruguay 2021-09-17         4.588050\n",
       "536  Uruguay 2021-09-18         4.401938\n",
       "537  Uruguay 2021-09-19         4.138955\n",
       "538  Uruguay 2021-09-20         3.916430\n",
       "539  Uruguay 2021-09-21         3.997348\n",
       "\n",
       "[1103 rows x 3 columns]"
      ]
     },
     "execution_count": 185,
     "metadata": {},
     "output_type": "execute_result"
    }
   ],
   "source": [
    "risk_levels = pd.concat ([risk_levels_CH, risk_levels_UY.rename (columns = {'fecha':'Fecha'})])\n",
    "risk_levels"
   ]
  },
  {
   "cell_type": "markdown",
   "metadata": {},
   "source": [
    "<a id = 'Sección10'></a>"
   ]
  },
  {
   "cell_type": "markdown",
   "metadata": {},
   "source": [
    "## 10. Casos activos y nivel de riesgo a nivel regional/departamental"
   ]
  },
  {
   "cell_type": "markdown",
   "metadata": {},
   "source": [
    "<a id = 'Sección10.1'></a>"
   ]
  },
  {
   "cell_type": "markdown",
   "metadata": {},
   "source": [
    "### 10.1. Casos activos y nivel de riesgo a nivel regional en Chile"
   ]
  },
  {
   "cell_type": "code",
   "execution_count": 186,
   "metadata": {},
   "outputs": [],
   "source": [
    "regional_data_CH = pd.read_csv (r\"Datos Covid Chile\\TotalesPorRegion_std.csv\") "
   ]
  },
  {
   "cell_type": "code",
   "execution_count": 187,
   "metadata": {},
   "outputs": [
    {
     "data": {
      "text/html": [
       "<div>\n",
       "<style scoped>\n",
       "    .dataframe tbody tr th:only-of-type {\n",
       "        vertical-align: middle;\n",
       "    }\n",
       "\n",
       "    .dataframe tbody tr th {\n",
       "        vertical-align: top;\n",
       "    }\n",
       "\n",
       "    .dataframe thead th {\n",
       "        text-align: right;\n",
       "    }\n",
       "</style>\n",
       "<table border=\"1\" class=\"dataframe\">\n",
       "  <thead>\n",
       "    <tr style=\"text-align: right;\">\n",
       "      <th></th>\n",
       "      <th>Categoria</th>\n",
       "      <th>Casos activos confirmados</th>\n",
       "      <th>Casos activos probables</th>\n",
       "      <th>Casos acumulados</th>\n",
       "      <th>Casos con sospecha de reinfeccion</th>\n",
       "      <th>Casos confirmados por antigeno</th>\n",
       "      <th>Casos confirmados recuperados</th>\n",
       "      <th>Casos nuevos con sintomas</th>\n",
       "      <th>Casos nuevos confirmados por antigeno</th>\n",
       "      <th>Casos nuevos sin notificar</th>\n",
       "      <th>Casos nuevos sin sintomas</th>\n",
       "      <th>Casos nuevos totales</th>\n",
       "      <th>Casos probables acumulados</th>\n",
       "      <th>Fallecidos totales</th>\n",
       "    </tr>\n",
       "    <tr>\n",
       "      <th>Fecha</th>\n",
       "      <th>Region</th>\n",
       "      <th></th>\n",
       "      <th></th>\n",
       "      <th></th>\n",
       "      <th></th>\n",
       "      <th></th>\n",
       "      <th></th>\n",
       "      <th></th>\n",
       "      <th></th>\n",
       "      <th></th>\n",
       "      <th></th>\n",
       "      <th></th>\n",
       "      <th></th>\n",
       "      <th></th>\n",
       "    </tr>\n",
       "  </thead>\n",
       "  <tbody>\n",
       "    <tr>\n",
       "      <th rowspan=\"5\" valign=\"top\">2020-03-03</th>\n",
       "      <th>Antofagasta</th>\n",
       "      <td>NaN</td>\n",
       "      <td>NaN</td>\n",
       "      <td>0.0</td>\n",
       "      <td>NaN</td>\n",
       "      <td>NaN</td>\n",
       "      <td>NaN</td>\n",
       "      <td>0.0</td>\n",
       "      <td>NaN</td>\n",
       "      <td>NaN</td>\n",
       "      <td>NaN</td>\n",
       "      <td>0.0</td>\n",
       "      <td>NaN</td>\n",
       "      <td>NaN</td>\n",
       "    </tr>\n",
       "    <tr>\n",
       "      <th>Araucanía</th>\n",
       "      <td>NaN</td>\n",
       "      <td>NaN</td>\n",
       "      <td>0.0</td>\n",
       "      <td>NaN</td>\n",
       "      <td>NaN</td>\n",
       "      <td>NaN</td>\n",
       "      <td>0.0</td>\n",
       "      <td>NaN</td>\n",
       "      <td>NaN</td>\n",
       "      <td>NaN</td>\n",
       "      <td>0.0</td>\n",
       "      <td>NaN</td>\n",
       "      <td>NaN</td>\n",
       "    </tr>\n",
       "    <tr>\n",
       "      <th>Arica y Parinacota</th>\n",
       "      <td>NaN</td>\n",
       "      <td>NaN</td>\n",
       "      <td>0.0</td>\n",
       "      <td>NaN</td>\n",
       "      <td>NaN</td>\n",
       "      <td>NaN</td>\n",
       "      <td>0.0</td>\n",
       "      <td>NaN</td>\n",
       "      <td>NaN</td>\n",
       "      <td>NaN</td>\n",
       "      <td>0.0</td>\n",
       "      <td>NaN</td>\n",
       "      <td>NaN</td>\n",
       "    </tr>\n",
       "    <tr>\n",
       "      <th>Atacama</th>\n",
       "      <td>NaN</td>\n",
       "      <td>NaN</td>\n",
       "      <td>0.0</td>\n",
       "      <td>NaN</td>\n",
       "      <td>NaN</td>\n",
       "      <td>NaN</td>\n",
       "      <td>0.0</td>\n",
       "      <td>NaN</td>\n",
       "      <td>NaN</td>\n",
       "      <td>NaN</td>\n",
       "      <td>0.0</td>\n",
       "      <td>NaN</td>\n",
       "      <td>NaN</td>\n",
       "    </tr>\n",
       "    <tr>\n",
       "      <th>Aysén</th>\n",
       "      <td>NaN</td>\n",
       "      <td>NaN</td>\n",
       "      <td>0.0</td>\n",
       "      <td>NaN</td>\n",
       "      <td>NaN</td>\n",
       "      <td>NaN</td>\n",
       "      <td>0.0</td>\n",
       "      <td>NaN</td>\n",
       "      <td>NaN</td>\n",
       "      <td>NaN</td>\n",
       "      <td>0.0</td>\n",
       "      <td>NaN</td>\n",
       "      <td>NaN</td>\n",
       "    </tr>\n",
       "    <tr>\n",
       "      <th>...</th>\n",
       "      <th>...</th>\n",
       "      <td>...</td>\n",
       "      <td>...</td>\n",
       "      <td>...</td>\n",
       "      <td>...</td>\n",
       "      <td>...</td>\n",
       "      <td>...</td>\n",
       "      <td>...</td>\n",
       "      <td>...</td>\n",
       "      <td>...</td>\n",
       "      <td>...</td>\n",
       "      <td>...</td>\n",
       "      <td>...</td>\n",
       "      <td>...</td>\n",
       "    </tr>\n",
       "    <tr>\n",
       "      <th rowspan=\"5\" valign=\"top\">2021-09-21</th>\n",
       "      <th>O’Higgins</th>\n",
       "      <td>122.0</td>\n",
       "      <td>24.0</td>\n",
       "      <td>68605.0</td>\n",
       "      <td>54.0</td>\n",
       "      <td>1921.0</td>\n",
       "      <td>66854.0</td>\n",
       "      <td>5.0</td>\n",
       "      <td>1.0</td>\n",
       "      <td>0.0</td>\n",
       "      <td>0.0</td>\n",
       "      <td>5.0</td>\n",
       "      <td>14216.0</td>\n",
       "      <td>1547.0</td>\n",
       "    </tr>\n",
       "    <tr>\n",
       "      <th>Tarapacá</th>\n",
       "      <td>138.0</td>\n",
       "      <td>62.0</td>\n",
       "      <td>41317.0</td>\n",
       "      <td>52.0</td>\n",
       "      <td>746.0</td>\n",
       "      <td>40337.0</td>\n",
       "      <td>2.0</td>\n",
       "      <td>0.0</td>\n",
       "      <td>0.0</td>\n",
       "      <td>2.0</td>\n",
       "      <td>4.0</td>\n",
       "      <td>9778.0</td>\n",
       "      <td>808.0</td>\n",
       "    </tr>\n",
       "    <tr>\n",
       "      <th>Total</th>\n",
       "      <td>3246.0</td>\n",
       "      <td>836.0</td>\n",
       "      <td>1648026.0</td>\n",
       "      <td>1835.0</td>\n",
       "      <td>66327.0</td>\n",
       "      <td>1604718.0</td>\n",
       "      <td>207.0</td>\n",
       "      <td>64.0</td>\n",
       "      <td>27.0</td>\n",
       "      <td>57.0</td>\n",
       "      <td>291.0</td>\n",
       "      <td>333045.0</td>\n",
       "      <td>37374.0</td>\n",
       "    </tr>\n",
       "    <tr>\n",
       "      <th>Valparaíso</th>\n",
       "      <td>150.0</td>\n",
       "      <td>51.0</td>\n",
       "      <td>122997.0</td>\n",
       "      <td>73.0</td>\n",
       "      <td>2604.0</td>\n",
       "      <td>119206.0</td>\n",
       "      <td>13.0</td>\n",
       "      <td>3.0</td>\n",
       "      <td>1.0</td>\n",
       "      <td>0.0</td>\n",
       "      <td>14.0</td>\n",
       "      <td>47969.0</td>\n",
       "      <td>3460.0</td>\n",
       "    </tr>\n",
       "    <tr>\n",
       "      <th>Ñuble</th>\n",
       "      <td>50.0</td>\n",
       "      <td>21.0</td>\n",
       "      <td>35927.0</td>\n",
       "      <td>50.0</td>\n",
       "      <td>789.0</td>\n",
       "      <td>35201.0</td>\n",
       "      <td>2.0</td>\n",
       "      <td>0.0</td>\n",
       "      <td>0.0</td>\n",
       "      <td>0.0</td>\n",
       "      <td>2.0</td>\n",
       "      <td>9655.0</td>\n",
       "      <td>642.0</td>\n",
       "    </tr>\n",
       "  </tbody>\n",
       "</table>\n",
       "<p>9656 rows × 13 columns</p>\n",
       "</div>"
      ],
      "text/plain": [
       "Categoria                      Casos activos confirmados  \\\n",
       "Fecha      Region                                          \n",
       "2020-03-03 Antofagasta                               NaN   \n",
       "           Araucanía                                 NaN   \n",
       "           Arica y Parinacota                        NaN   \n",
       "           Atacama                                   NaN   \n",
       "           Aysén                                     NaN   \n",
       "...                                                  ...   \n",
       "2021-09-21 O’Higgins                               122.0   \n",
       "           Tarapacá                                138.0   \n",
       "           Total                                  3246.0   \n",
       "           Valparaíso                              150.0   \n",
       "           Ñuble                                    50.0   \n",
       "\n",
       "Categoria                      Casos activos probables  Casos acumulados  \\\n",
       "Fecha      Region                                                          \n",
       "2020-03-03 Antofagasta                             NaN               0.0   \n",
       "           Araucanía                               NaN               0.0   \n",
       "           Arica y Parinacota                      NaN               0.0   \n",
       "           Atacama                                 NaN               0.0   \n",
       "           Aysén                                   NaN               0.0   \n",
       "...                                                ...               ...   \n",
       "2021-09-21 O’Higgins                              24.0           68605.0   \n",
       "           Tarapacá                               62.0           41317.0   \n",
       "           Total                                 836.0         1648026.0   \n",
       "           Valparaíso                             51.0          122997.0   \n",
       "           Ñuble                                  21.0           35927.0   \n",
       "\n",
       "Categoria                      Casos con sospecha de reinfeccion  \\\n",
       "Fecha      Region                                                  \n",
       "2020-03-03 Antofagasta                                       NaN   \n",
       "           Araucanía                                         NaN   \n",
       "           Arica y Parinacota                                NaN   \n",
       "           Atacama                                           NaN   \n",
       "           Aysén                                             NaN   \n",
       "...                                                          ...   \n",
       "2021-09-21 O’Higgins                                        54.0   \n",
       "           Tarapacá                                         52.0   \n",
       "           Total                                          1835.0   \n",
       "           Valparaíso                                       73.0   \n",
       "           Ñuble                                            50.0   \n",
       "\n",
       "Categoria                      Casos confirmados por antigeno  \\\n",
       "Fecha      Region                                               \n",
       "2020-03-03 Antofagasta                                    NaN   \n",
       "           Araucanía                                      NaN   \n",
       "           Arica y Parinacota                             NaN   \n",
       "           Atacama                                        NaN   \n",
       "           Aysén                                          NaN   \n",
       "...                                                       ...   \n",
       "2021-09-21 O’Higgins                                   1921.0   \n",
       "           Tarapacá                                     746.0   \n",
       "           Total                                      66327.0   \n",
       "           Valparaíso                                  2604.0   \n",
       "           Ñuble                                        789.0   \n",
       "\n",
       "Categoria                      Casos confirmados recuperados  \\\n",
       "Fecha      Region                                              \n",
       "2020-03-03 Antofagasta                                   NaN   \n",
       "           Araucanía                                     NaN   \n",
       "           Arica y Parinacota                            NaN   \n",
       "           Atacama                                       NaN   \n",
       "           Aysén                                         NaN   \n",
       "...                                                      ...   \n",
       "2021-09-21 O’Higgins                                 66854.0   \n",
       "           Tarapacá                                  40337.0   \n",
       "           Total                                   1604718.0   \n",
       "           Valparaíso                               119206.0   \n",
       "           Ñuble                                     35201.0   \n",
       "\n",
       "Categoria                      Casos nuevos con sintomas  \\\n",
       "Fecha      Region                                          \n",
       "2020-03-03 Antofagasta                               0.0   \n",
       "           Araucanía                                 0.0   \n",
       "           Arica y Parinacota                        0.0   \n",
       "           Atacama                                   0.0   \n",
       "           Aysén                                     0.0   \n",
       "...                                                  ...   \n",
       "2021-09-21 O’Higgins                                 5.0   \n",
       "           Tarapacá                                  2.0   \n",
       "           Total                                   207.0   \n",
       "           Valparaíso                               13.0   \n",
       "           Ñuble                                     2.0   \n",
       "\n",
       "Categoria                      Casos nuevos confirmados por antigeno  \\\n",
       "Fecha      Region                                                      \n",
       "2020-03-03 Antofagasta                                           NaN   \n",
       "           Araucanía                                             NaN   \n",
       "           Arica y Parinacota                                    NaN   \n",
       "           Atacama                                               NaN   \n",
       "           Aysén                                                 NaN   \n",
       "...                                                              ...   \n",
       "2021-09-21 O’Higgins                                             1.0   \n",
       "           Tarapacá                                              0.0   \n",
       "           Total                                                64.0   \n",
       "           Valparaíso                                            3.0   \n",
       "           Ñuble                                                 0.0   \n",
       "\n",
       "Categoria                      Casos nuevos sin notificar  \\\n",
       "Fecha      Region                                           \n",
       "2020-03-03 Antofagasta                                NaN   \n",
       "           Araucanía                                  NaN   \n",
       "           Arica y Parinacota                         NaN   \n",
       "           Atacama                                    NaN   \n",
       "           Aysén                                      NaN   \n",
       "...                                                   ...   \n",
       "2021-09-21 O’Higgins                                  0.0   \n",
       "           Tarapacá                                   0.0   \n",
       "           Total                                     27.0   \n",
       "           Valparaíso                                 1.0   \n",
       "           Ñuble                                      0.0   \n",
       "\n",
       "Categoria                      Casos nuevos sin sintomas  \\\n",
       "Fecha      Region                                          \n",
       "2020-03-03 Antofagasta                               NaN   \n",
       "           Araucanía                                 NaN   \n",
       "           Arica y Parinacota                        NaN   \n",
       "           Atacama                                   NaN   \n",
       "           Aysén                                     NaN   \n",
       "...                                                  ...   \n",
       "2021-09-21 O’Higgins                                 0.0   \n",
       "           Tarapacá                                  2.0   \n",
       "           Total                                    57.0   \n",
       "           Valparaíso                                0.0   \n",
       "           Ñuble                                     0.0   \n",
       "\n",
       "Categoria                      Casos nuevos totales  \\\n",
       "Fecha      Region                                     \n",
       "2020-03-03 Antofagasta                          0.0   \n",
       "           Araucanía                            0.0   \n",
       "           Arica y Parinacota                   0.0   \n",
       "           Atacama                              0.0   \n",
       "           Aysén                                0.0   \n",
       "...                                             ...   \n",
       "2021-09-21 O’Higgins                            5.0   \n",
       "           Tarapacá                             4.0   \n",
       "           Total                              291.0   \n",
       "           Valparaíso                          14.0   \n",
       "           Ñuble                                2.0   \n",
       "\n",
       "Categoria                      Casos probables acumulados  Fallecidos totales  \n",
       "Fecha      Region                                                              \n",
       "2020-03-03 Antofagasta                                NaN                 NaN  \n",
       "           Araucanía                                  NaN                 NaN  \n",
       "           Arica y Parinacota                         NaN                 NaN  \n",
       "           Atacama                                    NaN                 NaN  \n",
       "           Aysén                                      NaN                 NaN  \n",
       "...                                                   ...                 ...  \n",
       "2021-09-21 O’Higgins                              14216.0              1547.0  \n",
       "           Tarapacá                                9778.0               808.0  \n",
       "           Total                                 333045.0             37374.0  \n",
       "           Valparaíso                             47969.0              3460.0  \n",
       "           Ñuble                                   9655.0               642.0  \n",
       "\n",
       "[9656 rows x 13 columns]"
      ]
     },
     "execution_count": 187,
     "metadata": {},
     "output_type": "execute_result"
    }
   ],
   "source": [
    "regional_data_CH = regional_data_CH.pivot (index = ['Fecha', 'Region'], columns = 'Categoria', values = 'Total')\n",
    "regional_data_CH"
   ]
  },
  {
   "cell_type": "code",
   "execution_count": 188,
   "metadata": {},
   "outputs": [],
   "source": [
    "# Selección de las columnas a utilizar\n",
    "\n",
    "regional_data_CH = regional_data_CH.loc [:, ['Casos activos confirmados', 'Casos nuevos totales']]"
   ]
  },
  {
   "cell_type": "code",
   "execution_count": 189,
   "metadata": {},
   "outputs": [],
   "source": [
    "regional_data_CH.reset_index (inplace = True)"
   ]
  },
  {
   "cell_type": "code",
   "execution_count": 190,
   "metadata": {},
   "outputs": [],
   "source": [
    "# Se remueve el nombre 'Categoria' a la columna de índice.\n",
    "\n",
    "regional_data_CH.rename_axis (None, axis = 1, inplace = True)"
   ]
  },
  {
   "cell_type": "code",
   "execution_count": 191,
   "metadata": {},
   "outputs": [],
   "source": [
    "# Las celdas con valor 'NaN' se les cambia el valor a cero.\n",
    "\n",
    "regional_data_CH ['Casos activos confirmados'].fillna (0, inplace = True)"
   ]
  },
  {
   "cell_type": "code",
   "execution_count": 192,
   "metadata": {},
   "outputs": [],
   "source": [
    "regional_data_CH = regional_data_CH [regional_data_CH ['Region'] != 'Total']"
   ]
  },
  {
   "cell_type": "code",
   "execution_count": 193,
   "metadata": {},
   "outputs": [],
   "source": [
    "regional_data_CH ['Fecha'] = pd.to_datetime (regional_data_CH ['Fecha'], errors = 'coerce')"
   ]
  },
  {
   "cell_type": "code",
   "execution_count": 194,
   "metadata": {},
   "outputs": [],
   "source": [
    "# Cálculo de las medias móviles de los casos nuevos considerando una ventana de 7 días agrupando primero los datos por Región\n",
    "\n",
    "regional_data_CH ['Media móvil 7d'] = regional_data_CH.groupby('Region')['Casos nuevos totales'].transform(lambda x: x.rolling(7).mean())"
   ]
  },
  {
   "cell_type": "code",
   "execution_count": 195,
   "metadata": {},
   "outputs": [],
   "source": [
    "regional_data_CH ['Media móvil 7d'].fillna (0, inplace = True)"
   ]
  },
  {
   "cell_type": "code",
   "execution_count": 196,
   "metadata": {},
   "outputs": [],
   "source": [
    "regional_data_CH = pd.merge (regional_data_CH, population_CH)"
   ]
  },
  {
   "cell_type": "code",
   "execution_count": 197,
   "metadata": {},
   "outputs": [],
   "source": [
    "regional_data_CH.sort_values ('Fecha', inplace = True)"
   ]
  },
  {
   "cell_type": "code",
   "execution_count": 198,
   "metadata": {},
   "outputs": [],
   "source": [
    "regional_data_CH ['Nivel de riesgo'] = regional_data_CH ['Media móvil 7d']*100000/regional_data_CH['Poblacion']"
   ]
  },
  {
   "cell_type": "code",
   "execution_count": 199,
   "metadata": {},
   "outputs": [],
   "source": [
    "regional_data_CH.reset_index(drop = True, inplace= True)"
   ]
  },
  {
   "cell_type": "code",
   "execution_count": 200,
   "metadata": {},
   "outputs": [],
   "source": [
    "regional_data_CH.rename (columns = {'Region':'Región', 'Casos activos confirmados':'Casos activos', \n",
    "                                    'Casos nuevos totales':'Casos nuevos', 'Poblacion':'Población'}, inplace = True)"
   ]
  },
  {
   "cell_type": "code",
   "execution_count": 201,
   "metadata": {
    "scrolled": false
   },
   "outputs": [
    {
     "data": {
      "text/html": [
       "<div>\n",
       "<style scoped>\n",
       "    .dataframe tbody tr th:only-of-type {\n",
       "        vertical-align: middle;\n",
       "    }\n",
       "\n",
       "    .dataframe tbody tr th {\n",
       "        vertical-align: top;\n",
       "    }\n",
       "\n",
       "    .dataframe thead th {\n",
       "        text-align: right;\n",
       "    }\n",
       "</style>\n",
       "<table border=\"1\" class=\"dataframe\">\n",
       "  <thead>\n",
       "    <tr style=\"text-align: right;\">\n",
       "      <th></th>\n",
       "      <th>Fecha</th>\n",
       "      <th>Región</th>\n",
       "      <th>Casos activos</th>\n",
       "      <th>Casos nuevos</th>\n",
       "      <th>Media móvil 7d</th>\n",
       "      <th>Población</th>\n",
       "      <th>Nivel de riesgo</th>\n",
       "    </tr>\n",
       "  </thead>\n",
       "  <tbody>\n",
       "    <tr>\n",
       "      <th>0</th>\n",
       "      <td>2020-03-03</td>\n",
       "      <td>Antofagasta</td>\n",
       "      <td>0.0</td>\n",
       "      <td>0.0</td>\n",
       "      <td>0.0</td>\n",
       "      <td>691854</td>\n",
       "      <td>0.0</td>\n",
       "    </tr>\n",
       "    <tr>\n",
       "      <th>1</th>\n",
       "      <td>2020-03-03</td>\n",
       "      <td>Los Ríos</td>\n",
       "      <td>0.0</td>\n",
       "      <td>0.0</td>\n",
       "      <td>0.0</td>\n",
       "      <td>405835</td>\n",
       "      <td>0.0</td>\n",
       "    </tr>\n",
       "    <tr>\n",
       "      <th>2</th>\n",
       "      <td>2020-03-03</td>\n",
       "      <td>Magallanes</td>\n",
       "      <td>0.0</td>\n",
       "      <td>0.0</td>\n",
       "      <td>0.0</td>\n",
       "      <td>178362</td>\n",
       "      <td>0.0</td>\n",
       "    </tr>\n",
       "    <tr>\n",
       "      <th>3</th>\n",
       "      <td>2020-03-03</td>\n",
       "      <td>Los Lagos</td>\n",
       "      <td>0.0</td>\n",
       "      <td>0.0</td>\n",
       "      <td>0.0</td>\n",
       "      <td>891440</td>\n",
       "      <td>0.0</td>\n",
       "    </tr>\n",
       "    <tr>\n",
       "      <th>4</th>\n",
       "      <td>2020-03-03</td>\n",
       "      <td>Maule</td>\n",
       "      <td>0.0</td>\n",
       "      <td>0.0</td>\n",
       "      <td>0.0</td>\n",
       "      <td>1131939</td>\n",
       "      <td>0.0</td>\n",
       "    </tr>\n",
       "  </tbody>\n",
       "</table>\n",
       "</div>"
      ],
      "text/plain": [
       "       Fecha       Región  Casos activos  Casos nuevos  Media móvil 7d  \\\n",
       "0 2020-03-03  Antofagasta            0.0           0.0             0.0   \n",
       "1 2020-03-03     Los Ríos            0.0           0.0             0.0   \n",
       "2 2020-03-03   Magallanes            0.0           0.0             0.0   \n",
       "3 2020-03-03    Los Lagos            0.0           0.0             0.0   \n",
       "4 2020-03-03        Maule            0.0           0.0             0.0   \n",
       "\n",
       "   Población  Nivel de riesgo  \n",
       "0     691854              0.0  \n",
       "1     405835              0.0  \n",
       "2     178362              0.0  \n",
       "3     891440              0.0  \n",
       "4    1131939              0.0  "
      ]
     },
     "execution_count": 201,
     "metadata": {},
     "output_type": "execute_result"
    }
   ],
   "source": [
    "regional_data_CH.head()"
   ]
  },
  {
   "cell_type": "markdown",
   "metadata": {},
   "source": [
    "<a id = 'Sección10.2'></a>"
   ]
  },
  {
   "cell_type": "markdown",
   "metadata": {},
   "source": [
    "### 10.2. Casos activos y nivel de riesgo a nivel departamental en Uruguay"
   ]
  },
  {
   "cell_type": "code",
   "execution_count": 202,
   "metadata": {},
   "outputs": [],
   "source": [
    "dep_data_UY = pd.DataFrame()"
   ]
  },
  {
   "cell_type": "code",
   "execution_count": 203,
   "metadata": {},
   "outputs": [],
   "source": [
    "dep_data_UY = detailed_data_per_dep_UY.loc [:, ['fecha', 'departamento', 'enCurso', 'cantCasosNuevosConsolidado']]"
   ]
  },
  {
   "cell_type": "code",
   "execution_count": 204,
   "metadata": {},
   "outputs": [],
   "source": [
    "dep_data_UY ['Media móvil 7d'] = dep_data_UY.groupby('departamento')['cantCasosNuevosConsolidado'].transform(lambda x: x.rolling(7).mean())"
   ]
  },
  {
   "cell_type": "code",
   "execution_count": 205,
   "metadata": {},
   "outputs": [],
   "source": [
    "dep_data_UY.dropna (subset = ['Media móvil 7d'], inplace = True)"
   ]
  },
  {
   "cell_type": "code",
   "execution_count": 206,
   "metadata": {},
   "outputs": [
    {
     "data": {
      "text/html": [
       "<div>\n",
       "<style scoped>\n",
       "    .dataframe tbody tr th:only-of-type {\n",
       "        vertical-align: middle;\n",
       "    }\n",
       "\n",
       "    .dataframe tbody tr th {\n",
       "        vertical-align: top;\n",
       "    }\n",
       "\n",
       "    .dataframe thead th {\n",
       "        text-align: right;\n",
       "    }\n",
       "</style>\n",
       "<table border=\"1\" class=\"dataframe\">\n",
       "  <thead>\n",
       "    <tr style=\"text-align: right;\">\n",
       "      <th></th>\n",
       "      <th>fecha</th>\n",
       "      <th>departamento</th>\n",
       "      <th>enCurso</th>\n",
       "      <th>cantCasosNuevosConsolidado</th>\n",
       "      <th>Media móvil 7d</th>\n",
       "    </tr>\n",
       "  </thead>\n",
       "  <tbody>\n",
       "    <tr>\n",
       "      <th>114</th>\n",
       "      <td>2020-05-05</td>\n",
       "      <td>Artigas</td>\n",
       "      <td>0</td>\n",
       "      <td>0</td>\n",
       "      <td>0.000000</td>\n",
       "    </tr>\n",
       "    <tr>\n",
       "      <th>115</th>\n",
       "      <td>2020-05-05</td>\n",
       "      <td>Canelones</td>\n",
       "      <td>18</td>\n",
       "      <td>3</td>\n",
       "      <td>1.285714</td>\n",
       "    </tr>\n",
       "    <tr>\n",
       "      <th>116</th>\n",
       "      <td>2020-05-05</td>\n",
       "      <td>Cerro Largo</td>\n",
       "      <td>0</td>\n",
       "      <td>0</td>\n",
       "      <td>0.000000</td>\n",
       "    </tr>\n",
       "    <tr>\n",
       "      <th>117</th>\n",
       "      <td>2020-05-05</td>\n",
       "      <td>Colonia</td>\n",
       "      <td>3</td>\n",
       "      <td>1</td>\n",
       "      <td>0.142857</td>\n",
       "    </tr>\n",
       "    <tr>\n",
       "      <th>118</th>\n",
       "      <td>2020-05-05</td>\n",
       "      <td>Durazno</td>\n",
       "      <td>0</td>\n",
       "      <td>0</td>\n",
       "      <td>0.000000</td>\n",
       "    </tr>\n",
       "  </tbody>\n",
       "</table>\n",
       "</div>"
      ],
      "text/plain": [
       "         fecha departamento  enCurso  cantCasosNuevosConsolidado  \\\n",
       "114 2020-05-05      Artigas        0                           0   \n",
       "115 2020-05-05    Canelones       18                           3   \n",
       "116 2020-05-05  Cerro Largo        0                           0   \n",
       "117 2020-05-05      Colonia        3                           1   \n",
       "118 2020-05-05      Durazno        0                           0   \n",
       "\n",
       "     Media móvil 7d  \n",
       "114        0.000000  \n",
       "115        1.285714  \n",
       "116        0.000000  \n",
       "117        0.142857  \n",
       "118        0.000000  "
      ]
     },
     "execution_count": 206,
     "metadata": {},
     "output_type": "execute_result"
    }
   ],
   "source": [
    "dep_data_UY.head()"
   ]
  },
  {
   "cell_type": "code",
   "execution_count": 207,
   "metadata": {},
   "outputs": [],
   "source": [
    "dep_data_UY = pd.merge (dep_data_UY, population_UY, how = 'left', left_on='departamento', right_on='Departamento')"
   ]
  },
  {
   "cell_type": "code",
   "execution_count": 208,
   "metadata": {},
   "outputs": [],
   "source": [
    "dep_data_UY ['Nivel de riesgo'] = dep_data_UY ['Media móvil 7d']*100000/dep_data_UY ['Población']"
   ]
  },
  {
   "cell_type": "code",
   "execution_count": 209,
   "metadata": {},
   "outputs": [],
   "source": [
    "dep_data_UY.drop(['Departamento'], axis=1, inplace=True)"
   ]
  },
  {
   "cell_type": "code",
   "execution_count": 210,
   "metadata": {},
   "outputs": [],
   "source": [
    "dep_data_UY.rename (columns = {'fecha':'Fecha', 'departamento':'Departamento', 'enCurso': 'Casos activos',\n",
    "                               'cantCasosNuevosConsolidado':'Casos nuevos', 'poblacion':'Población'}, inplace = True)"
   ]
  },
  {
   "cell_type": "code",
   "execution_count": 211,
   "metadata": {},
   "outputs": [
    {
     "data": {
      "text/html": [
       "<div>\n",
       "<style scoped>\n",
       "    .dataframe tbody tr th:only-of-type {\n",
       "        vertical-align: middle;\n",
       "    }\n",
       "\n",
       "    .dataframe tbody tr th {\n",
       "        vertical-align: top;\n",
       "    }\n",
       "\n",
       "    .dataframe thead th {\n",
       "        text-align: right;\n",
       "    }\n",
       "</style>\n",
       "<table border=\"1\" class=\"dataframe\">\n",
       "  <thead>\n",
       "    <tr style=\"text-align: right;\">\n",
       "      <th></th>\n",
       "      <th>Fecha</th>\n",
       "      <th>Departamento</th>\n",
       "      <th>Casos activos</th>\n",
       "      <th>Casos nuevos</th>\n",
       "      <th>Media móvil 7d</th>\n",
       "      <th>Población</th>\n",
       "      <th>Nivel de riesgo</th>\n",
       "    </tr>\n",
       "  </thead>\n",
       "  <tbody>\n",
       "    <tr>\n",
       "      <th>0</th>\n",
       "      <td>2020-05-05</td>\n",
       "      <td>Artigas</td>\n",
       "      <td>0</td>\n",
       "      <td>0</td>\n",
       "      <td>0.000000</td>\n",
       "      <td>74075</td>\n",
       "      <td>0.000000</td>\n",
       "    </tr>\n",
       "    <tr>\n",
       "      <th>1</th>\n",
       "      <td>2020-05-05</td>\n",
       "      <td>Canelones</td>\n",
       "      <td>18</td>\n",
       "      <td>3</td>\n",
       "      <td>1.285714</td>\n",
       "      <td>603750</td>\n",
       "      <td>0.212955</td>\n",
       "    </tr>\n",
       "    <tr>\n",
       "      <th>2</th>\n",
       "      <td>2020-05-05</td>\n",
       "      <td>Cerro Largo</td>\n",
       "      <td>0</td>\n",
       "      <td>0</td>\n",
       "      <td>0.000000</td>\n",
       "      <td>89630</td>\n",
       "      <td>0.000000</td>\n",
       "    </tr>\n",
       "    <tr>\n",
       "      <th>3</th>\n",
       "      <td>2020-05-05</td>\n",
       "      <td>Colonia</td>\n",
       "      <td>3</td>\n",
       "      <td>1</td>\n",
       "      <td>0.142857</td>\n",
       "      <td>131297</td>\n",
       "      <td>0.108805</td>\n",
       "    </tr>\n",
       "    <tr>\n",
       "      <th>4</th>\n",
       "      <td>2020-05-05</td>\n",
       "      <td>Durazno</td>\n",
       "      <td>0</td>\n",
       "      <td>0</td>\n",
       "      <td>0.000000</td>\n",
       "      <td>58975</td>\n",
       "      <td>0.000000</td>\n",
       "    </tr>\n",
       "  </tbody>\n",
       "</table>\n",
       "</div>"
      ],
      "text/plain": [
       "       Fecha Departamento  Casos activos  Casos nuevos  Media móvil 7d  \\\n",
       "0 2020-05-05      Artigas              0             0        0.000000   \n",
       "1 2020-05-05    Canelones             18             3        1.285714   \n",
       "2 2020-05-05  Cerro Largo              0             0        0.000000   \n",
       "3 2020-05-05      Colonia              3             1        0.142857   \n",
       "4 2020-05-05      Durazno              0             0        0.000000   \n",
       "\n",
       "   Población  Nivel de riesgo  \n",
       "0      74075         0.000000  \n",
       "1     603750         0.212955  \n",
       "2      89630         0.000000  \n",
       "3     131297         0.108805  \n",
       "4      58975         0.000000  "
      ]
     },
     "execution_count": 211,
     "metadata": {},
     "output_type": "execute_result"
    }
   ],
   "source": [
    "dep_data_UY.head()"
   ]
  },
  {
   "cell_type": "markdown",
   "metadata": {},
   "source": [
    "<a id = 'Sección11'></a>"
   ]
  },
  {
   "cell_type": "markdown",
   "metadata": {},
   "source": [
    "## 11. Total vacunaciones"
   ]
  },
  {
   "cell_type": "markdown",
   "metadata": {},
   "source": [
    "<a id = 'Sección11.1'></a>"
   ]
  },
  {
   "cell_type": "markdown",
   "metadata": {},
   "source": [
    "### 11.1. Total vacunaciones en Chile"
   ]
  },
  {
   "cell_type": "markdown",
   "metadata": {},
   "source": [
    "<a id = 'Sección11.1.1'></a>"
   ]
  },
  {
   "cell_type": "markdown",
   "metadata": {},
   "source": [
    "#### 11.1.1.  Total de vacunas colocadas diariamente"
   ]
  },
  {
   "cell_type": "markdown",
   "metadata": {},
   "source": [
    "A continuación, se calcula la cantidad total de dosis únicas, primeras dosis, segundas dosis y dosis de refuerzo colocadas diariamente."
   ]
  },
  {
   "cell_type": "code",
   "execution_count": 212,
   "metadata": {},
   "outputs": [],
   "source": [
    "# Suma de las columnas exceptuando la columna 'Fecha'\n",
    "\n",
    "single_dose_CH ['Total dosis única'] = single_dose_CH.iloc [:,1:].sum(axis=1)"
   ]
  },
  {
   "cell_type": "code",
   "execution_count": 213,
   "metadata": {},
   "outputs": [],
   "source": [
    "first_dose_CH ['Total primera dosis'] = first_dose_CH.iloc [:,1:].sum(axis=1)"
   ]
  },
  {
   "cell_type": "code",
   "execution_count": 214,
   "metadata": {},
   "outputs": [],
   "source": [
    "second_dose_CH ['Total segunda dosis'] = second_dose_CH.iloc [:,1:].sum(axis=1)"
   ]
  },
  {
   "cell_type": "code",
   "execution_count": 215,
   "metadata": {},
   "outputs": [],
   "source": [
    "booster_dose_CH ['Total dosis de refuerzo'] = booster_dose_CH.iloc [:,1:].sum(axis=1)"
   ]
  },
  {
   "cell_type": "code",
   "execution_count": 216,
   "metadata": {},
   "outputs": [],
   "source": [
    "total_vaccination_CH = pd.DataFrame()"
   ]
  },
  {
   "cell_type": "code",
   "execution_count": 217,
   "metadata": {},
   "outputs": [],
   "source": [
    "total_vaccination_CH = first_dose_CH.loc[:, ['Fecha', 'Total primera dosis']]"
   ]
  },
  {
   "cell_type": "code",
   "execution_count": 218,
   "metadata": {},
   "outputs": [],
   "source": [
    "# El dataframe de las segundas dosis 'sencond_dose_CH' tiene un rango más reducido de fechas, por lo que se utiliza un merge para \n",
    "# incorporar el total de segundas dosis a 'total_vaccination_CH'.\n",
    "\n",
    "total_vaccination_CH = pd.merge (total_vaccination_CH, second_dose_CH.loc [:, ['Fecha', 'Total segunda dosis']] , how = 'left') "
   ]
  },
  {
   "cell_type": "code",
   "execution_count": 219,
   "metadata": {},
   "outputs": [],
   "source": [
    "# El dataframe de las dosis únicas 'single_dose_CH' tiene un rango más reducido de fechas, por lo que se utiliza un merge para \n",
    "# incorporar el total de dosis únicas a 'total_vaccination_CH'.\n",
    "\n",
    "total_vaccination_CH = pd.merge (total_vaccination_CH, single_dose_CH.loc [:, ['Fecha', 'Total dosis única']] , how = 'left') "
   ]
  },
  {
   "cell_type": "code",
   "execution_count": 220,
   "metadata": {},
   "outputs": [],
   "source": [
    "total_vaccination_CH ['Total dosis única'].fillna(0, inplace= True)"
   ]
  },
  {
   "cell_type": "code",
   "execution_count": 221,
   "metadata": {},
   "outputs": [],
   "source": [
    "total_vaccination_CH.rename (columns = {'Total primera dosis':'Primera dosis', 'Total dosis única':'Dosis única',\n",
    "                                       'Total segunda dosis':'Segunda dosis'}, inplace = True)"
   ]
  },
  {
   "cell_type": "code",
   "execution_count": 222,
   "metadata": {},
   "outputs": [],
   "source": [
    "total_vaccination_CH ['Vacunados completamente'] = total_vaccination_CH ['Segunda dosis']+total_vaccination_CH ['Dosis única']"
   ]
  },
  {
   "cell_type": "code",
   "execution_count": 223,
   "metadata": {},
   "outputs": [],
   "source": [
    "total_vaccination_CH ['Dosis de refuerzo'] = booster_dose_CH ['Total dosis de refuerzo']"
   ]
  },
  {
   "cell_type": "code",
   "execution_count": 224,
   "metadata": {},
   "outputs": [],
   "source": [
    "total_vaccination_CH ['Total dosis aplicadas'] = total_vaccination_CH ['Primera dosis'] + total_vaccination_CH ['Segunda dosis'] + total_vaccination_CH ['Dosis única'] + total_vaccination_CH ['Dosis de refuerzo']"
   ]
  },
  {
   "cell_type": "code",
   "execution_count": 225,
   "metadata": {},
   "outputs": [],
   "source": [
    "total_vaccination_CH.fillna(0, inplace=True)"
   ]
  },
  {
   "cell_type": "code",
   "execution_count": 226,
   "metadata": {},
   "outputs": [],
   "source": [
    "total_vaccination_CH.insert(0,'País', 'Chile')"
   ]
  },
  {
   "cell_type": "code",
   "execution_count": 227,
   "metadata": {},
   "outputs": [],
   "source": [
    "total_vaccination_CH ['Fecha'] = pd.to_datetime (total_vaccination_CH ['Fecha'], errors = 'coerce')"
   ]
  },
  {
   "cell_type": "code",
   "execution_count": 228,
   "metadata": {},
   "outputs": [
    {
     "data": {
      "text/html": [
       "<div>\n",
       "<style scoped>\n",
       "    .dataframe tbody tr th:only-of-type {\n",
       "        vertical-align: middle;\n",
       "    }\n",
       "\n",
       "    .dataframe tbody tr th {\n",
       "        vertical-align: top;\n",
       "    }\n",
       "\n",
       "    .dataframe thead th {\n",
       "        text-align: right;\n",
       "    }\n",
       "</style>\n",
       "<table border=\"1\" class=\"dataframe\">\n",
       "  <thead>\n",
       "    <tr style=\"text-align: right;\">\n",
       "      <th></th>\n",
       "      <th>País</th>\n",
       "      <th>Fecha</th>\n",
       "      <th>Primera dosis</th>\n",
       "      <th>Segunda dosis</th>\n",
       "      <th>Dosis única</th>\n",
       "      <th>Vacunados completamente</th>\n",
       "      <th>Dosis de refuerzo</th>\n",
       "      <th>Total dosis aplicadas</th>\n",
       "    </tr>\n",
       "  </thead>\n",
       "  <tbody>\n",
       "    <tr>\n",
       "      <th>245</th>\n",
       "      <td>Chile</td>\n",
       "      <td>2021-09-15</td>\n",
       "      <td>54758.0</td>\n",
       "      <td>15081.0</td>\n",
       "      <td>1010.0</td>\n",
       "      <td>16091.0</td>\n",
       "      <td>101627.0</td>\n",
       "      <td>172476.0</td>\n",
       "    </tr>\n",
       "    <tr>\n",
       "      <th>246</th>\n",
       "      <td>Chile</td>\n",
       "      <td>2021-09-16</td>\n",
       "      <td>26784.0</td>\n",
       "      <td>7826.0</td>\n",
       "      <td>577.0</td>\n",
       "      <td>8403.0</td>\n",
       "      <td>78073.0</td>\n",
       "      <td>113260.0</td>\n",
       "    </tr>\n",
       "    <tr>\n",
       "      <th>247</th>\n",
       "      <td>Chile</td>\n",
       "      <td>2021-09-17</td>\n",
       "      <td>27.0</td>\n",
       "      <td>28.0</td>\n",
       "      <td>4.0</td>\n",
       "      <td>32.0</td>\n",
       "      <td>1841.0</td>\n",
       "      <td>1900.0</td>\n",
       "    </tr>\n",
       "    <tr>\n",
       "      <th>248</th>\n",
       "      <td>Chile</td>\n",
       "      <td>2021-09-18</td>\n",
       "      <td>2.0</td>\n",
       "      <td>4.0</td>\n",
       "      <td>10.0</td>\n",
       "      <td>14.0</td>\n",
       "      <td>217.0</td>\n",
       "      <td>233.0</td>\n",
       "    </tr>\n",
       "    <tr>\n",
       "      <th>249</th>\n",
       "      <td>Chile</td>\n",
       "      <td>2021-09-20</td>\n",
       "      <td>35845.0</td>\n",
       "      <td>13985.0</td>\n",
       "      <td>611.0</td>\n",
       "      <td>14596.0</td>\n",
       "      <td>94650.0</td>\n",
       "      <td>145091.0</td>\n",
       "    </tr>\n",
       "  </tbody>\n",
       "</table>\n",
       "</div>"
      ],
      "text/plain": [
       "      País      Fecha  Primera dosis  Segunda dosis  Dosis única  \\\n",
       "245  Chile 2021-09-15        54758.0        15081.0       1010.0   \n",
       "246  Chile 2021-09-16        26784.0         7826.0        577.0   \n",
       "247  Chile 2021-09-17           27.0           28.0          4.0   \n",
       "248  Chile 2021-09-18            2.0            4.0         10.0   \n",
       "249  Chile 2021-09-20        35845.0        13985.0        611.0   \n",
       "\n",
       "     Vacunados completamente  Dosis de refuerzo  Total dosis aplicadas  \n",
       "245                  16091.0           101627.0               172476.0  \n",
       "246                   8403.0            78073.0               113260.0  \n",
       "247                     32.0             1841.0                 1900.0  \n",
       "248                     14.0              217.0                  233.0  \n",
       "249                  14596.0            94650.0               145091.0  "
      ]
     },
     "execution_count": 228,
     "metadata": {},
     "output_type": "execute_result"
    }
   ],
   "source": [
    "total_vaccination_CH.tail()"
   ]
  },
  {
   "cell_type": "markdown",
   "metadata": {},
   "source": [
    "<a id = 'Sección11.1.2'></a>"
   ]
  },
  {
   "cell_type": "markdown",
   "metadata": {},
   "source": [
    "#### 11.1.2. Acumulado de vacunas colocadas"
   ]
  },
  {
   "cell_type": "markdown",
   "metadata": {},
   "source": [
    "Ahora, se calcula el acumulado de dosis colocadas"
   ]
  },
  {
   "cell_type": "code",
   "execution_count": 229,
   "metadata": {},
   "outputs": [],
   "source": [
    "cum_vaccination_CH = total_vaccination_CH.iloc[:,2:] .cumsum()"
   ]
  },
  {
   "cell_type": "code",
   "execution_count": 230,
   "metadata": {},
   "outputs": [],
   "source": [
    "cum_vaccination_CH = pd.concat([total_vaccination_CH.loc[:,['País','Fecha']],cum_vaccination_CH],axis=1)"
   ]
  },
  {
   "cell_type": "code",
   "execution_count": 231,
   "metadata": {},
   "outputs": [],
   "source": [
    "cum_vaccination_CH.rename (columns = {'Primera dosis':'Acumulado primeras dosis', 'Segunda dosis':'Acumulado segundas dosis',\n",
    "                                      'Dosis única':'Acumulado dosis única', 'Vacunados completamente':'Acumulado vacunados completamente',\n",
    "                                      'Dosis de refuerzo':'Acumulado vacunas de refuerzo', \n",
    "                                      'Total dosis aplicadas':'Acumulado dosis aplicadas'}, inplace=True)"
   ]
  },
  {
   "cell_type": "code",
   "execution_count": 232,
   "metadata": {},
   "outputs": [],
   "source": [
    "cum_vaccination_CH['Fecha']=pd.to_datetime(cum_vaccination_CH['Fecha'], errors = 'coerce')"
   ]
  },
  {
   "cell_type": "code",
   "execution_count": 233,
   "metadata": {},
   "outputs": [
    {
     "data": {
      "text/html": [
       "<div>\n",
       "<style scoped>\n",
       "    .dataframe tbody tr th:only-of-type {\n",
       "        vertical-align: middle;\n",
       "    }\n",
       "\n",
       "    .dataframe tbody tr th {\n",
       "        vertical-align: top;\n",
       "    }\n",
       "\n",
       "    .dataframe thead th {\n",
       "        text-align: right;\n",
       "    }\n",
       "</style>\n",
       "<table border=\"1\" class=\"dataframe\">\n",
       "  <thead>\n",
       "    <tr style=\"text-align: right;\">\n",
       "      <th></th>\n",
       "      <th>País</th>\n",
       "      <th>Fecha</th>\n",
       "      <th>Acumulado primeras dosis</th>\n",
       "      <th>Acumulado segundas dosis</th>\n",
       "      <th>Acumulado dosis única</th>\n",
       "      <th>Acumulado vacunados completamente</th>\n",
       "      <th>Acumulado vacunas de refuerzo</th>\n",
       "      <th>Acumulado dosis aplicadas</th>\n",
       "    </tr>\n",
       "  </thead>\n",
       "  <tbody>\n",
       "    <tr>\n",
       "      <th>245</th>\n",
       "      <td>Chile</td>\n",
       "      <td>2021-09-15</td>\n",
       "      <td>14089829.0</td>\n",
       "      <td>13440608.0</td>\n",
       "      <td>560171.0</td>\n",
       "      <td>14000779.0</td>\n",
       "      <td>1232718.0</td>\n",
       "      <td>28507127.0</td>\n",
       "    </tr>\n",
       "    <tr>\n",
       "      <th>246</th>\n",
       "      <td>Chile</td>\n",
       "      <td>2021-09-16</td>\n",
       "      <td>14116613.0</td>\n",
       "      <td>13448434.0</td>\n",
       "      <td>560748.0</td>\n",
       "      <td>14009182.0</td>\n",
       "      <td>1310791.0</td>\n",
       "      <td>28620387.0</td>\n",
       "    </tr>\n",
       "    <tr>\n",
       "      <th>247</th>\n",
       "      <td>Chile</td>\n",
       "      <td>2021-09-17</td>\n",
       "      <td>14116640.0</td>\n",
       "      <td>13448462.0</td>\n",
       "      <td>560752.0</td>\n",
       "      <td>14009214.0</td>\n",
       "      <td>1312632.0</td>\n",
       "      <td>28622287.0</td>\n",
       "    </tr>\n",
       "    <tr>\n",
       "      <th>248</th>\n",
       "      <td>Chile</td>\n",
       "      <td>2021-09-18</td>\n",
       "      <td>14116642.0</td>\n",
       "      <td>13448466.0</td>\n",
       "      <td>560762.0</td>\n",
       "      <td>14009228.0</td>\n",
       "      <td>1312849.0</td>\n",
       "      <td>28622520.0</td>\n",
       "    </tr>\n",
       "    <tr>\n",
       "      <th>249</th>\n",
       "      <td>Chile</td>\n",
       "      <td>2021-09-20</td>\n",
       "      <td>14152487.0</td>\n",
       "      <td>13462451.0</td>\n",
       "      <td>561373.0</td>\n",
       "      <td>14023824.0</td>\n",
       "      <td>1407499.0</td>\n",
       "      <td>28767611.0</td>\n",
       "    </tr>\n",
       "  </tbody>\n",
       "</table>\n",
       "</div>"
      ],
      "text/plain": [
       "      País      Fecha  Acumulado primeras dosis  Acumulado segundas dosis  \\\n",
       "245  Chile 2021-09-15                14089829.0                13440608.0   \n",
       "246  Chile 2021-09-16                14116613.0                13448434.0   \n",
       "247  Chile 2021-09-17                14116640.0                13448462.0   \n",
       "248  Chile 2021-09-18                14116642.0                13448466.0   \n",
       "249  Chile 2021-09-20                14152487.0                13462451.0   \n",
       "\n",
       "     Acumulado dosis única  Acumulado vacunados completamente  \\\n",
       "245               560171.0                         14000779.0   \n",
       "246               560748.0                         14009182.0   \n",
       "247               560752.0                         14009214.0   \n",
       "248               560762.0                         14009228.0   \n",
       "249               561373.0                         14023824.0   \n",
       "\n",
       "     Acumulado vacunas de refuerzo  Acumulado dosis aplicadas  \n",
       "245                      1232718.0                 28507127.0  \n",
       "246                      1310791.0                 28620387.0  \n",
       "247                      1312632.0                 28622287.0  \n",
       "248                      1312849.0                 28622520.0  \n",
       "249                      1407499.0                 28767611.0  "
      ]
     },
     "execution_count": 233,
     "metadata": {},
     "output_type": "execute_result"
    }
   ],
   "source": [
    "cum_vaccination_CH.tail()"
   ]
  },
  {
   "cell_type": "markdown",
   "metadata": {},
   "source": [
    "<a id = 'Sección11.1.3'></a>"
   ]
  },
  {
   "cell_type": "markdown",
   "metadata": {},
   "source": [
    "#### 11.1.3. Porcentaje de la población vacunada"
   ]
  },
  {
   "cell_type": "code",
   "execution_count": 234,
   "metadata": {},
   "outputs": [],
   "source": [
    "pct_cum_vacc_CH = cum_vaccination_CH.iloc[:, 2:-1]*100/total_pop_CH"
   ]
  },
  {
   "cell_type": "code",
   "execution_count": 235,
   "metadata": {},
   "outputs": [],
   "source": [
    "pct_cum_vacc_CH.insert (0, 'País', 'Chile' )"
   ]
  },
  {
   "cell_type": "code",
   "execution_count": 236,
   "metadata": {},
   "outputs": [],
   "source": [
    "pct_cum_vacc_CH.insert (0, 'Fecha', cum_vaccination_CH.loc [:, ['Fecha']] )"
   ]
  },
  {
   "cell_type": "code",
   "execution_count": 237,
   "metadata": {},
   "outputs": [],
   "source": [
    "pct_cum_vacc_CH.rename (columns = {'Acumulado primeras dosis':'Pctj pob con primera dosis', \n",
    "                                   'Acumulado segundas dosis':'Pctj pob con segunda dosis',\n",
    "                                   'Acumulado dosis única':'Pctj pob con dosis única',\n",
    "                                   'Acumulado vacunados completamente':'Pctj pob completamente vacunada',\n",
    "                                   'Acumulado vacunas de refuerzo':'Pctj pob con vacuna de refuerzo'}, inplace = True)"
   ]
  },
  {
   "cell_type": "code",
   "execution_count": 238,
   "metadata": {},
   "outputs": [],
   "source": [
    "pct_cum_vacc_CH.fillna(0, inplace=True)"
   ]
  },
  {
   "cell_type": "code",
   "execution_count": 239,
   "metadata": {},
   "outputs": [],
   "source": [
    "pct_cum_vacc_CH['Fecha']=pd.to_datetime(pct_cum_vacc_CH['Fecha'], errors='coerce')"
   ]
  },
  {
   "cell_type": "code",
   "execution_count": 240,
   "metadata": {},
   "outputs": [
    {
     "data": {
      "text/html": [
       "<div>\n",
       "<style scoped>\n",
       "    .dataframe tbody tr th:only-of-type {\n",
       "        vertical-align: middle;\n",
       "    }\n",
       "\n",
       "    .dataframe tbody tr th {\n",
       "        vertical-align: top;\n",
       "    }\n",
       "\n",
       "    .dataframe thead th {\n",
       "        text-align: right;\n",
       "    }\n",
       "</style>\n",
       "<table border=\"1\" class=\"dataframe\">\n",
       "  <thead>\n",
       "    <tr style=\"text-align: right;\">\n",
       "      <th></th>\n",
       "      <th>Fecha</th>\n",
       "      <th>País</th>\n",
       "      <th>Pctj pob con primera dosis</th>\n",
       "      <th>Pctj pob con segunda dosis</th>\n",
       "      <th>Pctj pob con dosis única</th>\n",
       "      <th>Pctj pob completamente vacunada</th>\n",
       "      <th>Pctj pob con vacuna de refuerzo</th>\n",
       "    </tr>\n",
       "  </thead>\n",
       "  <tbody>\n",
       "    <tr>\n",
       "      <th>245</th>\n",
       "      <td>2021-09-15</td>\n",
       "      <td>Chile</td>\n",
       "      <td>72.410343</td>\n",
       "      <td>69.073871</td>\n",
       "      <td>2.878827</td>\n",
       "      <td>71.952698</td>\n",
       "      <td>6.335175</td>\n",
       "    </tr>\n",
       "    <tr>\n",
       "      <th>246</th>\n",
       "      <td>2021-09-16</td>\n",
       "      <td>Chile</td>\n",
       "      <td>72.547991</td>\n",
       "      <td>69.114091</td>\n",
       "      <td>2.881792</td>\n",
       "      <td>71.995882</td>\n",
       "      <td>6.736407</td>\n",
       "    </tr>\n",
       "    <tr>\n",
       "      <th>247</th>\n",
       "      <td>2021-09-17</td>\n",
       "      <td>Chile</td>\n",
       "      <td>72.548130</td>\n",
       "      <td>69.114234</td>\n",
       "      <td>2.881812</td>\n",
       "      <td>71.996047</td>\n",
       "      <td>6.745868</td>\n",
       "    </tr>\n",
       "    <tr>\n",
       "      <th>248</th>\n",
       "      <td>2021-09-18</td>\n",
       "      <td>Chile</td>\n",
       "      <td>72.548140</td>\n",
       "      <td>69.114255</td>\n",
       "      <td>2.881864</td>\n",
       "      <td>71.996119</td>\n",
       "      <td>6.746984</td>\n",
       "    </tr>\n",
       "    <tr>\n",
       "      <th>249</th>\n",
       "      <td>2021-09-20</td>\n",
       "      <td>Chile</td>\n",
       "      <td>72.732354</td>\n",
       "      <td>69.186127</td>\n",
       "      <td>2.885004</td>\n",
       "      <td>72.071131</td>\n",
       "      <td>7.233408</td>\n",
       "    </tr>\n",
       "  </tbody>\n",
       "</table>\n",
       "</div>"
      ],
      "text/plain": [
       "         Fecha   País  Pctj pob con primera dosis  Pctj pob con segunda dosis  \\\n",
       "245 2021-09-15  Chile                   72.410343                   69.073871   \n",
       "246 2021-09-16  Chile                   72.547991                   69.114091   \n",
       "247 2021-09-17  Chile                   72.548130                   69.114234   \n",
       "248 2021-09-18  Chile                   72.548140                   69.114255   \n",
       "249 2021-09-20  Chile                   72.732354                   69.186127   \n",
       "\n",
       "     Pctj pob con dosis única  Pctj pob completamente vacunada  \\\n",
       "245                  2.878827                        71.952698   \n",
       "246                  2.881792                        71.995882   \n",
       "247                  2.881812                        71.996047   \n",
       "248                  2.881864                        71.996119   \n",
       "249                  2.885004                        72.071131   \n",
       "\n",
       "     Pctj pob con vacuna de refuerzo  \n",
       "245                         6.335175  \n",
       "246                         6.736407  \n",
       "247                         6.745868  \n",
       "248                         6.746984  \n",
       "249                         7.233408  "
      ]
     },
     "execution_count": 240,
     "metadata": {},
     "output_type": "execute_result"
    }
   ],
   "source": [
    "pct_cum_vacc_CH.tail()"
   ]
  },
  {
   "cell_type": "markdown",
   "metadata": {},
   "source": [
    "<a id = 'Sección11.2'></a>"
   ]
  },
  {
   "cell_type": "markdown",
   "metadata": {},
   "source": [
    "### 11.2. Total vacunaciones en Uruguay"
   ]
  },
  {
   "cell_type": "markdown",
   "metadata": {},
   "source": [
    "<a id = 'Sección11.2.1'></a>"
   ]
  },
  {
   "cell_type": "markdown",
   "metadata": {},
   "source": [
    "#### 11.2.1. Acumulado de vacunas colocadas"
   ]
  },
  {
   "cell_type": "code",
   "execution_count": 241,
   "metadata": {},
   "outputs": [],
   "source": [
    "cum_vaccination_UY = vaccination_UY.loc [:, ['date', 'people_vaccinated', 'people_fully_vaccinated', 'total_boosters']]"
   ]
  },
  {
   "cell_type": "code",
   "execution_count": 242,
   "metadata": {},
   "outputs": [],
   "source": [
    "cum_vaccination_UY.rename (columns = {'date':'Fecha', 'people_vaccinated':'Acumulado primeras dosis', \n",
    "                                      'people_fully_vaccinated':'Acumulado vacunados completamente', \n",
    "                                      'total_boosters':'Acumulado vacunas de refuerzo'}, inplace = True)"
   ]
  },
  {
   "cell_type": "code",
   "execution_count": 243,
   "metadata": {},
   "outputs": [],
   "source": [
    "cum_vaccination_UY ['Acumulado dosis aplicadas'] = cum_vaccination_UY ['Acumulado primeras dosis']+ cum_vaccination_UY ['Acumulado vacunados completamente']+cum_vaccination_UY['Acumulado vacunas de refuerzo']"
   ]
  },
  {
   "cell_type": "code",
   "execution_count": 244,
   "metadata": {},
   "outputs": [],
   "source": [
    "cum_vaccination_UY.insert(2,'Acumulado segundas dosis', cum_vaccination_UY['Acumulado vacunados completamente'])"
   ]
  },
  {
   "cell_type": "code",
   "execution_count": 245,
   "metadata": {},
   "outputs": [],
   "source": [
    "cum_vaccination_UY.insert (0,'País','Uruguay')"
   ]
  },
  {
   "cell_type": "code",
   "execution_count": 246,
   "metadata": {},
   "outputs": [],
   "source": [
    "cum_vaccination_UY ['Fecha'] = pd.to_datetime (cum_vaccination_UY ['Fecha'], errors = 'coerce')"
   ]
  },
  {
   "cell_type": "code",
   "execution_count": 247,
   "metadata": {
    "scrolled": false
   },
   "outputs": [
    {
     "data": {
      "text/html": [
       "<div>\n",
       "<style scoped>\n",
       "    .dataframe tbody tr th:only-of-type {\n",
       "        vertical-align: middle;\n",
       "    }\n",
       "\n",
       "    .dataframe tbody tr th {\n",
       "        vertical-align: top;\n",
       "    }\n",
       "\n",
       "    .dataframe thead th {\n",
       "        text-align: right;\n",
       "    }\n",
       "</style>\n",
       "<table border=\"1\" class=\"dataframe\">\n",
       "  <thead>\n",
       "    <tr style=\"text-align: right;\">\n",
       "      <th></th>\n",
       "      <th>País</th>\n",
       "      <th>Fecha</th>\n",
       "      <th>Acumulado primeras dosis</th>\n",
       "      <th>Acumulado segundas dosis</th>\n",
       "      <th>Acumulado vacunados completamente</th>\n",
       "      <th>Acumulado vacunas de refuerzo</th>\n",
       "      <th>Acumulado dosis aplicadas</th>\n",
       "    </tr>\n",
       "  </thead>\n",
       "  <tbody>\n",
       "    <tr>\n",
       "      <th>202</th>\n",
       "      <td>Uruguay</td>\n",
       "      <td>2021-09-17</td>\n",
       "      <td>2716920</td>\n",
       "      <td>2558818</td>\n",
       "      <td>2558818</td>\n",
       "      <td>741810</td>\n",
       "      <td>6017548</td>\n",
       "    </tr>\n",
       "    <tr>\n",
       "      <th>203</th>\n",
       "      <td>Uruguay</td>\n",
       "      <td>2021-09-18</td>\n",
       "      <td>2716924</td>\n",
       "      <td>2558828</td>\n",
       "      <td>2558828</td>\n",
       "      <td>741847</td>\n",
       "      <td>6017599</td>\n",
       "    </tr>\n",
       "    <tr>\n",
       "      <th>204</th>\n",
       "      <td>Uruguay</td>\n",
       "      <td>2021-09-19</td>\n",
       "      <td>2716924</td>\n",
       "      <td>2558828</td>\n",
       "      <td>2558828</td>\n",
       "      <td>741847</td>\n",
       "      <td>6017599</td>\n",
       "    </tr>\n",
       "    <tr>\n",
       "      <th>205</th>\n",
       "      <td>Uruguay</td>\n",
       "      <td>2021-09-20</td>\n",
       "      <td>2719833</td>\n",
       "      <td>2559813</td>\n",
       "      <td>2559813</td>\n",
       "      <td>762853</td>\n",
       "      <td>6042499</td>\n",
       "    </tr>\n",
       "    <tr>\n",
       "      <th>206</th>\n",
       "      <td>Uruguay</td>\n",
       "      <td>2021-09-21</td>\n",
       "      <td>2721847</td>\n",
       "      <td>2560763</td>\n",
       "      <td>2560763</td>\n",
       "      <td>786697</td>\n",
       "      <td>6069307</td>\n",
       "    </tr>\n",
       "  </tbody>\n",
       "</table>\n",
       "</div>"
      ],
      "text/plain": [
       "        País      Fecha  Acumulado primeras dosis  Acumulado segundas dosis  \\\n",
       "202  Uruguay 2021-09-17                   2716920                   2558818   \n",
       "203  Uruguay 2021-09-18                   2716924                   2558828   \n",
       "204  Uruguay 2021-09-19                   2716924                   2558828   \n",
       "205  Uruguay 2021-09-20                   2719833                   2559813   \n",
       "206  Uruguay 2021-09-21                   2721847                   2560763   \n",
       "\n",
       "     Acumulado vacunados completamente  Acumulado vacunas de refuerzo  \\\n",
       "202                            2558818                         741810   \n",
       "203                            2558828                         741847   \n",
       "204                            2558828                         741847   \n",
       "205                            2559813                         762853   \n",
       "206                            2560763                         786697   \n",
       "\n",
       "     Acumulado dosis aplicadas  \n",
       "202                    6017548  \n",
       "203                    6017599  \n",
       "204                    6017599  \n",
       "205                    6042499  \n",
       "206                    6069307  "
      ]
     },
     "execution_count": 247,
     "metadata": {},
     "output_type": "execute_result"
    }
   ],
   "source": [
    "cum_vaccination_UY.tail()"
   ]
  },
  {
   "cell_type": "markdown",
   "metadata": {},
   "source": [
    "<a id = 'Sección11.2.2'></a>"
   ]
  },
  {
   "cell_type": "markdown",
   "metadata": {},
   "source": [
    "#### 11.2.2. Total de vacunas colocadas diariamente"
   ]
  },
  {
   "cell_type": "markdown",
   "metadata": {},
   "source": [
    "Dado que se cuenta con los datos acumulados, a continuación se procede a calcular la diferencia entre los acumulados diarias para así obtener las dosis diarias"
   ]
  },
  {
   "cell_type": "code",
   "execution_count": 248,
   "metadata": {},
   "outputs": [],
   "source": [
    "# Primero se crea un dataframe con las columnas deseadas.\n",
    "\n",
    "total_vaccination_UY = pd.DataFrame(columns = ['Primera dosis','Segunda dosis','Vacunados completamente', 'Dosis de refuerzo', 'Total dosis aplicadas'],dtype='float64')"
   ]
  },
  {
   "cell_type": "code",
   "execution_count": 249,
   "metadata": {},
   "outputs": [],
   "source": [
    "# Luego, se le agrega una fila de solo ceros, para luego poder usar correctamente el método diff para calcular la diferencia \n",
    "# entre los acumulados diarios.\n",
    "\n",
    "total_vaccination_UY.loc [0]=[0,0,0,0,0]"
   ]
  },
  {
   "cell_type": "code",
   "execution_count": 250,
   "metadata": {},
   "outputs": [],
   "source": [
    "# Se unen los dataframes total_vaccination_UY y cum_vaccination_UY usando el método concat y luego se emplea el método diff.\n",
    "\n",
    "total_vaccination_UY = pd.concat ([total_vaccination_UY, cum_vaccination_UY.rename (columns= {'Acumulado primeras dosis':'Primera dosis',\n",
    "                                                                        'Acumulado segundas dosis':'Segunda dosis',\n",
    "                                                                       'Acumulado vacunados completamente':'Vacunados completamente',\n",
    "                                                                       'Acumulado vacunas de refuerzo':'Dosis de refuerzo', \n",
    "                                                                       'Acumulado dosis aplicadas':'Total dosis aplicadas'}).iloc [:,2:]]).diff()"
   ]
  },
  {
   "cell_type": "code",
   "execution_count": 251,
   "metadata": {},
   "outputs": [],
   "source": [
    "# Se elimina la primera fila está llena de valores NaN.\n",
    "\n",
    "total_vaccination_UY.dropna(inplace=True)"
   ]
  },
  {
   "cell_type": "code",
   "execution_count": 252,
   "metadata": {},
   "outputs": [],
   "source": [
    "# Se agrega la columna 'Fecha'.\n",
    "\n",
    "total_vaccination_UY.insert (0,'Fecha',cum_vaccination_UY ['Fecha'] )"
   ]
  },
  {
   "cell_type": "code",
   "execution_count": 253,
   "metadata": {},
   "outputs": [],
   "source": [
    "total_vaccination_UY.insert(0,'País','Uruguay')"
   ]
  },
  {
   "cell_type": "code",
   "execution_count": 254,
   "metadata": {},
   "outputs": [
    {
     "data": {
      "text/html": [
       "<div>\n",
       "<style scoped>\n",
       "    .dataframe tbody tr th:only-of-type {\n",
       "        vertical-align: middle;\n",
       "    }\n",
       "\n",
       "    .dataframe tbody tr th {\n",
       "        vertical-align: top;\n",
       "    }\n",
       "\n",
       "    .dataframe thead th {\n",
       "        text-align: right;\n",
       "    }\n",
       "</style>\n",
       "<table border=\"1\" class=\"dataframe\">\n",
       "  <thead>\n",
       "    <tr style=\"text-align: right;\">\n",
       "      <th></th>\n",
       "      <th>País</th>\n",
       "      <th>Fecha</th>\n",
       "      <th>Primera dosis</th>\n",
       "      <th>Segunda dosis</th>\n",
       "      <th>Vacunados completamente</th>\n",
       "      <th>Dosis de refuerzo</th>\n",
       "      <th>Total dosis aplicadas</th>\n",
       "    </tr>\n",
       "  </thead>\n",
       "  <tbody>\n",
       "    <tr>\n",
       "      <th>202</th>\n",
       "      <td>Uruguay</td>\n",
       "      <td>2021-09-17</td>\n",
       "      <td>2695.0</td>\n",
       "      <td>3201.0</td>\n",
       "      <td>3201.0</td>\n",
       "      <td>28380.0</td>\n",
       "      <td>34276.0</td>\n",
       "    </tr>\n",
       "    <tr>\n",
       "      <th>203</th>\n",
       "      <td>Uruguay</td>\n",
       "      <td>2021-09-18</td>\n",
       "      <td>4.0</td>\n",
       "      <td>10.0</td>\n",
       "      <td>10.0</td>\n",
       "      <td>37.0</td>\n",
       "      <td>51.0</td>\n",
       "    </tr>\n",
       "    <tr>\n",
       "      <th>204</th>\n",
       "      <td>Uruguay</td>\n",
       "      <td>2021-09-19</td>\n",
       "      <td>0.0</td>\n",
       "      <td>0.0</td>\n",
       "      <td>0.0</td>\n",
       "      <td>0.0</td>\n",
       "      <td>0.0</td>\n",
       "    </tr>\n",
       "    <tr>\n",
       "      <th>205</th>\n",
       "      <td>Uruguay</td>\n",
       "      <td>2021-09-20</td>\n",
       "      <td>2909.0</td>\n",
       "      <td>985.0</td>\n",
       "      <td>985.0</td>\n",
       "      <td>21006.0</td>\n",
       "      <td>24900.0</td>\n",
       "    </tr>\n",
       "    <tr>\n",
       "      <th>206</th>\n",
       "      <td>Uruguay</td>\n",
       "      <td>2021-09-21</td>\n",
       "      <td>2014.0</td>\n",
       "      <td>950.0</td>\n",
       "      <td>950.0</td>\n",
       "      <td>23844.0</td>\n",
       "      <td>26808.0</td>\n",
       "    </tr>\n",
       "  </tbody>\n",
       "</table>\n",
       "</div>"
      ],
      "text/plain": [
       "        País      Fecha  Primera dosis  Segunda dosis  \\\n",
       "202  Uruguay 2021-09-17         2695.0         3201.0   \n",
       "203  Uruguay 2021-09-18            4.0           10.0   \n",
       "204  Uruguay 2021-09-19            0.0            0.0   \n",
       "205  Uruguay 2021-09-20         2909.0          985.0   \n",
       "206  Uruguay 2021-09-21         2014.0          950.0   \n",
       "\n",
       "     Vacunados completamente  Dosis de refuerzo  Total dosis aplicadas  \n",
       "202                   3201.0            28380.0                34276.0  \n",
       "203                     10.0               37.0                   51.0  \n",
       "204                      0.0                0.0                    0.0  \n",
       "205                    985.0            21006.0                24900.0  \n",
       "206                    950.0            23844.0                26808.0  "
      ]
     },
     "execution_count": 254,
     "metadata": {},
     "output_type": "execute_result"
    }
   ],
   "source": [
    "total_vaccination_UY.tail()"
   ]
  },
  {
   "cell_type": "markdown",
   "metadata": {},
   "source": [
    "<a id = 'Sección11.2.3'></a>"
   ]
  },
  {
   "cell_type": "markdown",
   "metadata": {},
   "source": [
    "#### 11.2.3. Porcentaje de la población vacunada"
   ]
  },
  {
   "cell_type": "code",
   "execution_count": 255,
   "metadata": {},
   "outputs": [],
   "source": [
    "pct_cum_vacc_UY = cum_vaccination_UY.iloc[:, 2:-1]*100/total_pop_UY"
   ]
  },
  {
   "cell_type": "code",
   "execution_count": 256,
   "metadata": {},
   "outputs": [],
   "source": [
    "pct_cum_vacc_UY.insert (0, 'Fecha', cum_vaccination_UY.loc [:, ['Fecha']])"
   ]
  },
  {
   "cell_type": "code",
   "execution_count": 257,
   "metadata": {},
   "outputs": [],
   "source": [
    "pct_cum_vacc_UY.insert (0, 'País', 'Uruguay')"
   ]
  },
  {
   "cell_type": "code",
   "execution_count": 258,
   "metadata": {},
   "outputs": [],
   "source": [
    "pct_cum_vacc_UY.rename (columns = {'Acumulado primeras dosis':'Pctj pob con primera dosis', \n",
    "                                   'Acumulado segundas dosis':'Pctj pob con segunda dosis',\n",
    "                                   'Acumulado vacunados completamente':'Pctj pob completamente vacunada',\n",
    "                                   'Acumulado vacunas de refuerzo':'Pctj pob con vacuna de refuerzo'}, inplace = True)"
   ]
  },
  {
   "cell_type": "code",
   "execution_count": 259,
   "metadata": {},
   "outputs": [
    {
     "data": {
      "text/html": [
       "<div>\n",
       "<style scoped>\n",
       "    .dataframe tbody tr th:only-of-type {\n",
       "        vertical-align: middle;\n",
       "    }\n",
       "\n",
       "    .dataframe tbody tr th {\n",
       "        vertical-align: top;\n",
       "    }\n",
       "\n",
       "    .dataframe thead th {\n",
       "        text-align: right;\n",
       "    }\n",
       "</style>\n",
       "<table border=\"1\" class=\"dataframe\">\n",
       "  <thead>\n",
       "    <tr style=\"text-align: right;\">\n",
       "      <th></th>\n",
       "      <th>País</th>\n",
       "      <th>Fecha</th>\n",
       "      <th>Pctj pob con primera dosis</th>\n",
       "      <th>Pctj pob con segunda dosis</th>\n",
       "      <th>Pctj pob completamente vacunada</th>\n",
       "      <th>Pctj pob con vacuna de refuerzo</th>\n",
       "    </tr>\n",
       "  </thead>\n",
       "  <tbody>\n",
       "    <tr>\n",
       "      <th>202</th>\n",
       "      <td>Uruguay</td>\n",
       "      <td>2021-09-17</td>\n",
       "      <td>76.946693</td>\n",
       "      <td>72.469039</td>\n",
       "      <td>72.469039</td>\n",
       "      <td>21.009020</td>\n",
       "    </tr>\n",
       "    <tr>\n",
       "      <th>203</th>\n",
       "      <td>Uruguay</td>\n",
       "      <td>2021-09-18</td>\n",
       "      <td>76.946806</td>\n",
       "      <td>72.469322</td>\n",
       "      <td>72.469322</td>\n",
       "      <td>21.010068</td>\n",
       "    </tr>\n",
       "    <tr>\n",
       "      <th>204</th>\n",
       "      <td>Uruguay</td>\n",
       "      <td>2021-09-19</td>\n",
       "      <td>76.946806</td>\n",
       "      <td>72.469322</td>\n",
       "      <td>72.469322</td>\n",
       "      <td>21.010068</td>\n",
       "    </tr>\n",
       "    <tr>\n",
       "      <th>205</th>\n",
       "      <td>Uruguay</td>\n",
       "      <td>2021-09-20</td>\n",
       "      <td>77.029192</td>\n",
       "      <td>72.497219</td>\n",
       "      <td>72.497219</td>\n",
       "      <td>21.604985</td>\n",
       "    </tr>\n",
       "    <tr>\n",
       "      <th>206</th>\n",
       "      <td>Uruguay</td>\n",
       "      <td>2021-09-21</td>\n",
       "      <td>77.086232</td>\n",
       "      <td>72.524124</td>\n",
       "      <td>72.524124</td>\n",
       "      <td>22.280278</td>\n",
       "    </tr>\n",
       "  </tbody>\n",
       "</table>\n",
       "</div>"
      ],
      "text/plain": [
       "        País      Fecha  Pctj pob con primera dosis  \\\n",
       "202  Uruguay 2021-09-17                   76.946693   \n",
       "203  Uruguay 2021-09-18                   76.946806   \n",
       "204  Uruguay 2021-09-19                   76.946806   \n",
       "205  Uruguay 2021-09-20                   77.029192   \n",
       "206  Uruguay 2021-09-21                   77.086232   \n",
       "\n",
       "     Pctj pob con segunda dosis  Pctj pob completamente vacunada  \\\n",
       "202                   72.469039                        72.469039   \n",
       "203                   72.469322                        72.469322   \n",
       "204                   72.469322                        72.469322   \n",
       "205                   72.497219                        72.497219   \n",
       "206                   72.524124                        72.524124   \n",
       "\n",
       "     Pctj pob con vacuna de refuerzo  \n",
       "202                        21.009020  \n",
       "203                        21.010068  \n",
       "204                        21.010068  \n",
       "205                        21.604985  \n",
       "206                        22.280278  "
      ]
     },
     "execution_count": 259,
     "metadata": {},
     "output_type": "execute_result"
    }
   ],
   "source": [
    "pct_cum_vacc_UY.tail()"
   ]
  },
  {
   "cell_type": "markdown",
   "metadata": {},
   "source": [
    "<a id = 'Sección11.3'></a>"
   ]
  },
  {
   "cell_type": "markdown",
   "metadata": {},
   "source": [
    "### 11.3.  Consolidado de las vacunas colocadas"
   ]
  },
  {
   "cell_type": "markdown",
   "metadata": {},
   "source": [
    "<a id = 'Sección11.3.1'></a>"
   ]
  },
  {
   "cell_type": "markdown",
   "metadata": {},
   "source": [
    "#### 11.3.1.  Total de vacunas colocadas diariamente consolidado"
   ]
  },
  {
   "cell_type": "code",
   "execution_count": 260,
   "metadata": {},
   "outputs": [],
   "source": [
    "total_vaccination = pd.concat ([total_vaccination_CH,total_vaccination_UY])"
   ]
  },
  {
   "cell_type": "code",
   "execution_count": 261,
   "metadata": {},
   "outputs": [],
   "source": [
    "total_vaccination.fillna(0, inplace=True)"
   ]
  },
  {
   "cell_type": "code",
   "execution_count": 262,
   "metadata": {},
   "outputs": [
    {
     "data": {
      "text/html": [
       "<div>\n",
       "<style scoped>\n",
       "    .dataframe tbody tr th:only-of-type {\n",
       "        vertical-align: middle;\n",
       "    }\n",
       "\n",
       "    .dataframe tbody tr th {\n",
       "        vertical-align: top;\n",
       "    }\n",
       "\n",
       "    .dataframe thead th {\n",
       "        text-align: right;\n",
       "    }\n",
       "</style>\n",
       "<table border=\"1\" class=\"dataframe\">\n",
       "  <thead>\n",
       "    <tr style=\"text-align: right;\">\n",
       "      <th></th>\n",
       "      <th>País</th>\n",
       "      <th>Fecha</th>\n",
       "      <th>Primera dosis</th>\n",
       "      <th>Segunda dosis</th>\n",
       "      <th>Dosis única</th>\n",
       "      <th>Vacunados completamente</th>\n",
       "      <th>Dosis de refuerzo</th>\n",
       "      <th>Total dosis aplicadas</th>\n",
       "    </tr>\n",
       "  </thead>\n",
       "  <tbody>\n",
       "    <tr>\n",
       "      <th>0</th>\n",
       "      <td>Chile</td>\n",
       "      <td>2020-12-24</td>\n",
       "      <td>420.0</td>\n",
       "      <td>0.0</td>\n",
       "      <td>0.0</td>\n",
       "      <td>0.0</td>\n",
       "      <td>0.0</td>\n",
       "      <td>0.0</td>\n",
       "    </tr>\n",
       "    <tr>\n",
       "      <th>1</th>\n",
       "      <td>Chile</td>\n",
       "      <td>2020-12-25</td>\n",
       "      <td>4782.0</td>\n",
       "      <td>0.0</td>\n",
       "      <td>0.0</td>\n",
       "      <td>0.0</td>\n",
       "      <td>0.0</td>\n",
       "      <td>0.0</td>\n",
       "    </tr>\n",
       "    <tr>\n",
       "      <th>2</th>\n",
       "      <td>Chile</td>\n",
       "      <td>2020-12-26</td>\n",
       "      <td>3143.0</td>\n",
       "      <td>0.0</td>\n",
       "      <td>0.0</td>\n",
       "      <td>0.0</td>\n",
       "      <td>0.0</td>\n",
       "      <td>0.0</td>\n",
       "    </tr>\n",
       "    <tr>\n",
       "      <th>3</th>\n",
       "      <td>Chile</td>\n",
       "      <td>2020-12-27</td>\n",
       "      <td>311.0</td>\n",
       "      <td>0.0</td>\n",
       "      <td>0.0</td>\n",
       "      <td>0.0</td>\n",
       "      <td>0.0</td>\n",
       "      <td>0.0</td>\n",
       "    </tr>\n",
       "    <tr>\n",
       "      <th>4</th>\n",
       "      <td>Chile</td>\n",
       "      <td>2021-01-04</td>\n",
       "      <td>405.0</td>\n",
       "      <td>0.0</td>\n",
       "      <td>0.0</td>\n",
       "      <td>0.0</td>\n",
       "      <td>0.0</td>\n",
       "      <td>0.0</td>\n",
       "    </tr>\n",
       "    <tr>\n",
       "      <th>...</th>\n",
       "      <td>...</td>\n",
       "      <td>...</td>\n",
       "      <td>...</td>\n",
       "      <td>...</td>\n",
       "      <td>...</td>\n",
       "      <td>...</td>\n",
       "      <td>...</td>\n",
       "      <td>...</td>\n",
       "    </tr>\n",
       "    <tr>\n",
       "      <th>202</th>\n",
       "      <td>Uruguay</td>\n",
       "      <td>2021-09-17</td>\n",
       "      <td>2695.0</td>\n",
       "      <td>3201.0</td>\n",
       "      <td>0.0</td>\n",
       "      <td>3201.0</td>\n",
       "      <td>28380.0</td>\n",
       "      <td>34276.0</td>\n",
       "    </tr>\n",
       "    <tr>\n",
       "      <th>203</th>\n",
       "      <td>Uruguay</td>\n",
       "      <td>2021-09-18</td>\n",
       "      <td>4.0</td>\n",
       "      <td>10.0</td>\n",
       "      <td>0.0</td>\n",
       "      <td>10.0</td>\n",
       "      <td>37.0</td>\n",
       "      <td>51.0</td>\n",
       "    </tr>\n",
       "    <tr>\n",
       "      <th>204</th>\n",
       "      <td>Uruguay</td>\n",
       "      <td>2021-09-19</td>\n",
       "      <td>0.0</td>\n",
       "      <td>0.0</td>\n",
       "      <td>0.0</td>\n",
       "      <td>0.0</td>\n",
       "      <td>0.0</td>\n",
       "      <td>0.0</td>\n",
       "    </tr>\n",
       "    <tr>\n",
       "      <th>205</th>\n",
       "      <td>Uruguay</td>\n",
       "      <td>2021-09-20</td>\n",
       "      <td>2909.0</td>\n",
       "      <td>985.0</td>\n",
       "      <td>0.0</td>\n",
       "      <td>985.0</td>\n",
       "      <td>21006.0</td>\n",
       "      <td>24900.0</td>\n",
       "    </tr>\n",
       "    <tr>\n",
       "      <th>206</th>\n",
       "      <td>Uruguay</td>\n",
       "      <td>2021-09-21</td>\n",
       "      <td>2014.0</td>\n",
       "      <td>950.0</td>\n",
       "      <td>0.0</td>\n",
       "      <td>950.0</td>\n",
       "      <td>23844.0</td>\n",
       "      <td>26808.0</td>\n",
       "    </tr>\n",
       "  </tbody>\n",
       "</table>\n",
       "<p>457 rows × 8 columns</p>\n",
       "</div>"
      ],
      "text/plain": [
       "        País      Fecha  Primera dosis  Segunda dosis  Dosis única  \\\n",
       "0      Chile 2020-12-24          420.0            0.0          0.0   \n",
       "1      Chile 2020-12-25         4782.0            0.0          0.0   \n",
       "2      Chile 2020-12-26         3143.0            0.0          0.0   \n",
       "3      Chile 2020-12-27          311.0            0.0          0.0   \n",
       "4      Chile 2021-01-04          405.0            0.0          0.0   \n",
       "..       ...        ...            ...            ...          ...   \n",
       "202  Uruguay 2021-09-17         2695.0         3201.0          0.0   \n",
       "203  Uruguay 2021-09-18            4.0           10.0          0.0   \n",
       "204  Uruguay 2021-09-19            0.0            0.0          0.0   \n",
       "205  Uruguay 2021-09-20         2909.0          985.0          0.0   \n",
       "206  Uruguay 2021-09-21         2014.0          950.0          0.0   \n",
       "\n",
       "     Vacunados completamente  Dosis de refuerzo  Total dosis aplicadas  \n",
       "0                        0.0                0.0                    0.0  \n",
       "1                        0.0                0.0                    0.0  \n",
       "2                        0.0                0.0                    0.0  \n",
       "3                        0.0                0.0                    0.0  \n",
       "4                        0.0                0.0                    0.0  \n",
       "..                       ...                ...                    ...  \n",
       "202                   3201.0            28380.0                34276.0  \n",
       "203                     10.0               37.0                   51.0  \n",
       "204                      0.0                0.0                    0.0  \n",
       "205                    985.0            21006.0                24900.0  \n",
       "206                    950.0            23844.0                26808.0  \n",
       "\n",
       "[457 rows x 8 columns]"
      ]
     },
     "execution_count": 262,
     "metadata": {},
     "output_type": "execute_result"
    }
   ],
   "source": [
    "total_vaccination"
   ]
  },
  {
   "cell_type": "markdown",
   "metadata": {},
   "source": [
    "<a id = 'Sección11.3.2'></a>"
   ]
  },
  {
   "cell_type": "markdown",
   "metadata": {},
   "source": [
    "#### 11.3.2.  Acumulado de las vacunas colocadas consolidado"
   ]
  },
  {
   "cell_type": "code",
   "execution_count": 263,
   "metadata": {},
   "outputs": [],
   "source": [
    "cum_vaccination = pd.concat ([cum_vaccination_CH,cum_vaccination_UY])"
   ]
  },
  {
   "cell_type": "code",
   "execution_count": 264,
   "metadata": {},
   "outputs": [],
   "source": [
    "cum_vaccination.fillna(0,inplace=True)"
   ]
  },
  {
   "cell_type": "code",
   "execution_count": 265,
   "metadata": {},
   "outputs": [
    {
     "data": {
      "text/html": [
       "<div>\n",
       "<style scoped>\n",
       "    .dataframe tbody tr th:only-of-type {\n",
       "        vertical-align: middle;\n",
       "    }\n",
       "\n",
       "    .dataframe tbody tr th {\n",
       "        vertical-align: top;\n",
       "    }\n",
       "\n",
       "    .dataframe thead th {\n",
       "        text-align: right;\n",
       "    }\n",
       "</style>\n",
       "<table border=\"1\" class=\"dataframe\">\n",
       "  <thead>\n",
       "    <tr style=\"text-align: right;\">\n",
       "      <th></th>\n",
       "      <th>País</th>\n",
       "      <th>Fecha</th>\n",
       "      <th>Acumulado primeras dosis</th>\n",
       "      <th>Acumulado segundas dosis</th>\n",
       "      <th>Acumulado dosis única</th>\n",
       "      <th>Acumulado vacunados completamente</th>\n",
       "      <th>Acumulado vacunas de refuerzo</th>\n",
       "      <th>Acumulado dosis aplicadas</th>\n",
       "    </tr>\n",
       "  </thead>\n",
       "  <tbody>\n",
       "    <tr>\n",
       "      <th>0</th>\n",
       "      <td>Chile</td>\n",
       "      <td>2020-12-24</td>\n",
       "      <td>420.0</td>\n",
       "      <td>0.0</td>\n",
       "      <td>0.0</td>\n",
       "      <td>0.0</td>\n",
       "      <td>0.0</td>\n",
       "      <td>0.0</td>\n",
       "    </tr>\n",
       "    <tr>\n",
       "      <th>1</th>\n",
       "      <td>Chile</td>\n",
       "      <td>2020-12-25</td>\n",
       "      <td>5202.0</td>\n",
       "      <td>0.0</td>\n",
       "      <td>0.0</td>\n",
       "      <td>0.0</td>\n",
       "      <td>0.0</td>\n",
       "      <td>0.0</td>\n",
       "    </tr>\n",
       "    <tr>\n",
       "      <th>2</th>\n",
       "      <td>Chile</td>\n",
       "      <td>2020-12-26</td>\n",
       "      <td>8345.0</td>\n",
       "      <td>0.0</td>\n",
       "      <td>0.0</td>\n",
       "      <td>0.0</td>\n",
       "      <td>0.0</td>\n",
       "      <td>0.0</td>\n",
       "    </tr>\n",
       "    <tr>\n",
       "      <th>3</th>\n",
       "      <td>Chile</td>\n",
       "      <td>2020-12-27</td>\n",
       "      <td>8656.0</td>\n",
       "      <td>0.0</td>\n",
       "      <td>0.0</td>\n",
       "      <td>0.0</td>\n",
       "      <td>0.0</td>\n",
       "      <td>0.0</td>\n",
       "    </tr>\n",
       "    <tr>\n",
       "      <th>4</th>\n",
       "      <td>Chile</td>\n",
       "      <td>2021-01-04</td>\n",
       "      <td>9061.0</td>\n",
       "      <td>0.0</td>\n",
       "      <td>0.0</td>\n",
       "      <td>0.0</td>\n",
       "      <td>0.0</td>\n",
       "      <td>0.0</td>\n",
       "    </tr>\n",
       "    <tr>\n",
       "      <th>...</th>\n",
       "      <td>...</td>\n",
       "      <td>...</td>\n",
       "      <td>...</td>\n",
       "      <td>...</td>\n",
       "      <td>...</td>\n",
       "      <td>...</td>\n",
       "      <td>...</td>\n",
       "      <td>...</td>\n",
       "    </tr>\n",
       "    <tr>\n",
       "      <th>202</th>\n",
       "      <td>Uruguay</td>\n",
       "      <td>2021-09-17</td>\n",
       "      <td>2716920.0</td>\n",
       "      <td>2558818.0</td>\n",
       "      <td>0.0</td>\n",
       "      <td>2558818.0</td>\n",
       "      <td>741810.0</td>\n",
       "      <td>6017548.0</td>\n",
       "    </tr>\n",
       "    <tr>\n",
       "      <th>203</th>\n",
       "      <td>Uruguay</td>\n",
       "      <td>2021-09-18</td>\n",
       "      <td>2716924.0</td>\n",
       "      <td>2558828.0</td>\n",
       "      <td>0.0</td>\n",
       "      <td>2558828.0</td>\n",
       "      <td>741847.0</td>\n",
       "      <td>6017599.0</td>\n",
       "    </tr>\n",
       "    <tr>\n",
       "      <th>204</th>\n",
       "      <td>Uruguay</td>\n",
       "      <td>2021-09-19</td>\n",
       "      <td>2716924.0</td>\n",
       "      <td>2558828.0</td>\n",
       "      <td>0.0</td>\n",
       "      <td>2558828.0</td>\n",
       "      <td>741847.0</td>\n",
       "      <td>6017599.0</td>\n",
       "    </tr>\n",
       "    <tr>\n",
       "      <th>205</th>\n",
       "      <td>Uruguay</td>\n",
       "      <td>2021-09-20</td>\n",
       "      <td>2719833.0</td>\n",
       "      <td>2559813.0</td>\n",
       "      <td>0.0</td>\n",
       "      <td>2559813.0</td>\n",
       "      <td>762853.0</td>\n",
       "      <td>6042499.0</td>\n",
       "    </tr>\n",
       "    <tr>\n",
       "      <th>206</th>\n",
       "      <td>Uruguay</td>\n",
       "      <td>2021-09-21</td>\n",
       "      <td>2721847.0</td>\n",
       "      <td>2560763.0</td>\n",
       "      <td>0.0</td>\n",
       "      <td>2560763.0</td>\n",
       "      <td>786697.0</td>\n",
       "      <td>6069307.0</td>\n",
       "    </tr>\n",
       "  </tbody>\n",
       "</table>\n",
       "<p>457 rows × 8 columns</p>\n",
       "</div>"
      ],
      "text/plain": [
       "        País      Fecha  Acumulado primeras dosis  Acumulado segundas dosis  \\\n",
       "0      Chile 2020-12-24                     420.0                       0.0   \n",
       "1      Chile 2020-12-25                    5202.0                       0.0   \n",
       "2      Chile 2020-12-26                    8345.0                       0.0   \n",
       "3      Chile 2020-12-27                    8656.0                       0.0   \n",
       "4      Chile 2021-01-04                    9061.0                       0.0   \n",
       "..       ...        ...                       ...                       ...   \n",
       "202  Uruguay 2021-09-17                 2716920.0                 2558818.0   \n",
       "203  Uruguay 2021-09-18                 2716924.0                 2558828.0   \n",
       "204  Uruguay 2021-09-19                 2716924.0                 2558828.0   \n",
       "205  Uruguay 2021-09-20                 2719833.0                 2559813.0   \n",
       "206  Uruguay 2021-09-21                 2721847.0                 2560763.0   \n",
       "\n",
       "     Acumulado dosis única  Acumulado vacunados completamente  \\\n",
       "0                      0.0                                0.0   \n",
       "1                      0.0                                0.0   \n",
       "2                      0.0                                0.0   \n",
       "3                      0.0                                0.0   \n",
       "4                      0.0                                0.0   \n",
       "..                     ...                                ...   \n",
       "202                    0.0                          2558818.0   \n",
       "203                    0.0                          2558828.0   \n",
       "204                    0.0                          2558828.0   \n",
       "205                    0.0                          2559813.0   \n",
       "206                    0.0                          2560763.0   \n",
       "\n",
       "     Acumulado vacunas de refuerzo  Acumulado dosis aplicadas  \n",
       "0                              0.0                        0.0  \n",
       "1                              0.0                        0.0  \n",
       "2                              0.0                        0.0  \n",
       "3                              0.0                        0.0  \n",
       "4                              0.0                        0.0  \n",
       "..                             ...                        ...  \n",
       "202                       741810.0                  6017548.0  \n",
       "203                       741847.0                  6017599.0  \n",
       "204                       741847.0                  6017599.0  \n",
       "205                       762853.0                  6042499.0  \n",
       "206                       786697.0                  6069307.0  \n",
       "\n",
       "[457 rows x 8 columns]"
      ]
     },
     "execution_count": 265,
     "metadata": {},
     "output_type": "execute_result"
    }
   ],
   "source": [
    "cum_vaccination"
   ]
  },
  {
   "cell_type": "markdown",
   "metadata": {},
   "source": [
    "<a id = 'Sección11.3.3'></a>"
   ]
  },
  {
   "cell_type": "markdown",
   "metadata": {},
   "source": [
    "#### 11.3.3.  Porcentaje de la población vacunada consolidado"
   ]
  },
  {
   "cell_type": "code",
   "execution_count": 266,
   "metadata": {},
   "outputs": [],
   "source": [
    "pct_cum_vacc = pd.concat ([pct_cum_vacc_CH,pct_cum_vacc_UY])"
   ]
  },
  {
   "cell_type": "code",
   "execution_count": 267,
   "metadata": {},
   "outputs": [],
   "source": [
    "pct_cum_vacc.fillna(0,inplace=True)"
   ]
  },
  {
   "cell_type": "code",
   "execution_count": 268,
   "metadata": {},
   "outputs": [
    {
     "data": {
      "text/html": [
       "<div>\n",
       "<style scoped>\n",
       "    .dataframe tbody tr th:only-of-type {\n",
       "        vertical-align: middle;\n",
       "    }\n",
       "\n",
       "    .dataframe tbody tr th {\n",
       "        vertical-align: top;\n",
       "    }\n",
       "\n",
       "    .dataframe thead th {\n",
       "        text-align: right;\n",
       "    }\n",
       "</style>\n",
       "<table border=\"1\" class=\"dataframe\">\n",
       "  <thead>\n",
       "    <tr style=\"text-align: right;\">\n",
       "      <th></th>\n",
       "      <th>Fecha</th>\n",
       "      <th>País</th>\n",
       "      <th>Pctj pob con primera dosis</th>\n",
       "      <th>Pctj pob con segunda dosis</th>\n",
       "      <th>Pctj pob con dosis única</th>\n",
       "      <th>Pctj pob completamente vacunada</th>\n",
       "      <th>Pctj pob con vacuna de refuerzo</th>\n",
       "    </tr>\n",
       "  </thead>\n",
       "  <tbody>\n",
       "    <tr>\n",
       "      <th>0</th>\n",
       "      <td>2020-12-24</td>\n",
       "      <td>Chile</td>\n",
       "      <td>0.002158</td>\n",
       "      <td>0.000000</td>\n",
       "      <td>0.0</td>\n",
       "      <td>0.000000</td>\n",
       "      <td>0.000000</td>\n",
       "    </tr>\n",
       "    <tr>\n",
       "      <th>1</th>\n",
       "      <td>2020-12-25</td>\n",
       "      <td>Chile</td>\n",
       "      <td>0.026734</td>\n",
       "      <td>0.000000</td>\n",
       "      <td>0.0</td>\n",
       "      <td>0.000000</td>\n",
       "      <td>0.000000</td>\n",
       "    </tr>\n",
       "    <tr>\n",
       "      <th>2</th>\n",
       "      <td>2020-12-26</td>\n",
       "      <td>Chile</td>\n",
       "      <td>0.042887</td>\n",
       "      <td>0.000000</td>\n",
       "      <td>0.0</td>\n",
       "      <td>0.000000</td>\n",
       "      <td>0.000000</td>\n",
       "    </tr>\n",
       "    <tr>\n",
       "      <th>3</th>\n",
       "      <td>2020-12-27</td>\n",
       "      <td>Chile</td>\n",
       "      <td>0.044485</td>\n",
       "      <td>0.000000</td>\n",
       "      <td>0.0</td>\n",
       "      <td>0.000000</td>\n",
       "      <td>0.000000</td>\n",
       "    </tr>\n",
       "    <tr>\n",
       "      <th>4</th>\n",
       "      <td>2021-01-04</td>\n",
       "      <td>Chile</td>\n",
       "      <td>0.046566</td>\n",
       "      <td>0.000000</td>\n",
       "      <td>0.0</td>\n",
       "      <td>0.000000</td>\n",
       "      <td>0.000000</td>\n",
       "    </tr>\n",
       "    <tr>\n",
       "      <th>...</th>\n",
       "      <td>...</td>\n",
       "      <td>...</td>\n",
       "      <td>...</td>\n",
       "      <td>...</td>\n",
       "      <td>...</td>\n",
       "      <td>...</td>\n",
       "      <td>...</td>\n",
       "    </tr>\n",
       "    <tr>\n",
       "      <th>202</th>\n",
       "      <td>2021-09-17</td>\n",
       "      <td>Uruguay</td>\n",
       "      <td>76.946693</td>\n",
       "      <td>72.469039</td>\n",
       "      <td>0.0</td>\n",
       "      <td>72.469039</td>\n",
       "      <td>21.009020</td>\n",
       "    </tr>\n",
       "    <tr>\n",
       "      <th>203</th>\n",
       "      <td>2021-09-18</td>\n",
       "      <td>Uruguay</td>\n",
       "      <td>76.946806</td>\n",
       "      <td>72.469322</td>\n",
       "      <td>0.0</td>\n",
       "      <td>72.469322</td>\n",
       "      <td>21.010068</td>\n",
       "    </tr>\n",
       "    <tr>\n",
       "      <th>204</th>\n",
       "      <td>2021-09-19</td>\n",
       "      <td>Uruguay</td>\n",
       "      <td>76.946806</td>\n",
       "      <td>72.469322</td>\n",
       "      <td>0.0</td>\n",
       "      <td>72.469322</td>\n",
       "      <td>21.010068</td>\n",
       "    </tr>\n",
       "    <tr>\n",
       "      <th>205</th>\n",
       "      <td>2021-09-20</td>\n",
       "      <td>Uruguay</td>\n",
       "      <td>77.029192</td>\n",
       "      <td>72.497219</td>\n",
       "      <td>0.0</td>\n",
       "      <td>72.497219</td>\n",
       "      <td>21.604985</td>\n",
       "    </tr>\n",
       "    <tr>\n",
       "      <th>206</th>\n",
       "      <td>2021-09-21</td>\n",
       "      <td>Uruguay</td>\n",
       "      <td>77.086232</td>\n",
       "      <td>72.524124</td>\n",
       "      <td>0.0</td>\n",
       "      <td>72.524124</td>\n",
       "      <td>22.280278</td>\n",
       "    </tr>\n",
       "  </tbody>\n",
       "</table>\n",
       "<p>457 rows × 7 columns</p>\n",
       "</div>"
      ],
      "text/plain": [
       "         Fecha     País  Pctj pob con primera dosis  \\\n",
       "0   2020-12-24    Chile                    0.002158   \n",
       "1   2020-12-25    Chile                    0.026734   \n",
       "2   2020-12-26    Chile                    0.042887   \n",
       "3   2020-12-27    Chile                    0.044485   \n",
       "4   2021-01-04    Chile                    0.046566   \n",
       "..         ...      ...                         ...   \n",
       "202 2021-09-17  Uruguay                   76.946693   \n",
       "203 2021-09-18  Uruguay                   76.946806   \n",
       "204 2021-09-19  Uruguay                   76.946806   \n",
       "205 2021-09-20  Uruguay                   77.029192   \n",
       "206 2021-09-21  Uruguay                   77.086232   \n",
       "\n",
       "     Pctj pob con segunda dosis  Pctj pob con dosis única  \\\n",
       "0                      0.000000                       0.0   \n",
       "1                      0.000000                       0.0   \n",
       "2                      0.000000                       0.0   \n",
       "3                      0.000000                       0.0   \n",
       "4                      0.000000                       0.0   \n",
       "..                          ...                       ...   \n",
       "202                   72.469039                       0.0   \n",
       "203                   72.469322                       0.0   \n",
       "204                   72.469322                       0.0   \n",
       "205                   72.497219                       0.0   \n",
       "206                   72.524124                       0.0   \n",
       "\n",
       "     Pctj pob completamente vacunada  Pctj pob con vacuna de refuerzo  \n",
       "0                           0.000000                         0.000000  \n",
       "1                           0.000000                         0.000000  \n",
       "2                           0.000000                         0.000000  \n",
       "3                           0.000000                         0.000000  \n",
       "4                           0.000000                         0.000000  \n",
       "..                               ...                              ...  \n",
       "202                        72.469039                        21.009020  \n",
       "203                        72.469322                        21.010068  \n",
       "204                        72.469322                        21.010068  \n",
       "205                        72.497219                        21.604985  \n",
       "206                        72.524124                        22.280278  \n",
       "\n",
       "[457 rows x 7 columns]"
      ]
     },
     "execution_count": 268,
     "metadata": {},
     "output_type": "execute_result"
    }
   ],
   "source": [
    "pct_cum_vacc"
   ]
  },
  {
   "cell_type": "markdown",
   "metadata": {},
   "source": [
    "<a id = 'Sección12'></a>"
   ]
  },
  {
   "cell_type": "markdown",
   "metadata": {},
   "source": [
    "## 12. Vacunaciones por rango etario"
   ]
  },
  {
   "cell_type": "markdown",
   "metadata": {},
   "source": [
    "<a id = 'Sección12.1'></a>"
   ]
  },
  {
   "cell_type": "markdown",
   "metadata": {},
   "source": [
    "### 12.1. Vacunaciones por rango etario en Chile"
   ]
  },
  {
   "cell_type": "markdown",
   "metadata": {},
   "source": [
    "<a id = 'Sección12.1.1'></a>"
   ]
  },
  {
   "cell_type": "markdown",
   "metadata": {},
   "source": [
    "#### 12.1.1. Vacunaciones diarias de dosis única por rango etario"
   ]
  },
  {
   "cell_type": "code",
   "execution_count": 269,
   "metadata": {},
   "outputs": [],
   "source": [
    "vaccination_per_age_s_CH = pd.DataFrame()"
   ]
  },
  {
   "cell_type": "code",
   "execution_count": 270,
   "metadata": {},
   "outputs": [],
   "source": [
    "vaccination_per_age_s_CH ['Fecha'] = single_dose_CH ['Fecha']"
   ]
  },
  {
   "cell_type": "code",
   "execution_count": 271,
   "metadata": {},
   "outputs": [],
   "source": [
    "vaccination_per_age_s_CH ['12 a 17 años'] = single_dose_CH.iloc [:, 1:7].sum(axis=1)"
   ]
  },
  {
   "cell_type": "code",
   "execution_count": 272,
   "metadata": {},
   "outputs": [],
   "source": [
    "vaccination_per_age_s_CH ['18 a 24 años'] = single_dose_CH.iloc [:, 7:14].sum(axis=1)"
   ]
  },
  {
   "cell_type": "code",
   "execution_count": 273,
   "metadata": {},
   "outputs": [],
   "source": [
    "vaccination_per_age_s_CH ['25 a 34 años'] = single_dose_CH.iloc [:, 14:24].sum(axis=1)"
   ]
  },
  {
   "cell_type": "code",
   "execution_count": 274,
   "metadata": {},
   "outputs": [],
   "source": [
    "vaccination_per_age_s_CH ['35 a 44 años'] = single_dose_CH.iloc [:, 24:34].sum(axis=1)"
   ]
  },
  {
   "cell_type": "code",
   "execution_count": 275,
   "metadata": {},
   "outputs": [],
   "source": [
    "vaccination_per_age_s_CH ['45 a 54 años'] = single_dose_CH.iloc [:, 34:44].sum(axis=1)"
   ]
  },
  {
   "cell_type": "code",
   "execution_count": 276,
   "metadata": {},
   "outputs": [],
   "source": [
    "vaccination_per_age_s_CH ['55 a 64 años'] = single_dose_CH.iloc [:, 44:54].sum(axis=1)"
   ]
  },
  {
   "cell_type": "code",
   "execution_count": 277,
   "metadata": {},
   "outputs": [],
   "source": [
    "vaccination_per_age_s_CH ['65 a 74 años'] = single_dose_CH.iloc [:, 54:64].sum(axis=1)"
   ]
  },
  {
   "cell_type": "code",
   "execution_count": 278,
   "metadata": {},
   "outputs": [],
   "source": [
    "vaccination_per_age_s_CH ['75 años o más'] = single_dose_CH.iloc [:, 64:-1].sum(axis=1)"
   ]
  },
  {
   "cell_type": "code",
   "execution_count": 279,
   "metadata": {},
   "outputs": [],
   "source": [
    "vaccination_per_age_s_CH.insert (0,'País', 'Chile')"
   ]
  },
  {
   "cell_type": "code",
   "execution_count": 280,
   "metadata": {},
   "outputs": [],
   "source": [
    "vaccination_per_age_s_CH.insert (1,'Vacunación', 'Dosis única')"
   ]
  },
  {
   "cell_type": "code",
   "execution_count": 281,
   "metadata": {},
   "outputs": [
    {
     "data": {
      "text/html": [
       "<div>\n",
       "<style scoped>\n",
       "    .dataframe tbody tr th:only-of-type {\n",
       "        vertical-align: middle;\n",
       "    }\n",
       "\n",
       "    .dataframe tbody tr th {\n",
       "        vertical-align: top;\n",
       "    }\n",
       "\n",
       "    .dataframe thead th {\n",
       "        text-align: right;\n",
       "    }\n",
       "</style>\n",
       "<table border=\"1\" class=\"dataframe\">\n",
       "  <thead>\n",
       "    <tr style=\"text-align: right;\">\n",
       "      <th></th>\n",
       "      <th>País</th>\n",
       "      <th>Vacunación</th>\n",
       "      <th>Fecha</th>\n",
       "      <th>12 a 17 años</th>\n",
       "      <th>18 a 24 años</th>\n",
       "      <th>25 a 34 años</th>\n",
       "      <th>35 a 44 años</th>\n",
       "      <th>45 a 54 años</th>\n",
       "      <th>55 a 64 años</th>\n",
       "      <th>65 a 74 años</th>\n",
       "      <th>75 años o más</th>\n",
       "    </tr>\n",
       "  </thead>\n",
       "  <tbody>\n",
       "    <tr>\n",
       "      <th>106</th>\n",
       "      <td>Chile</td>\n",
       "      <td>Dosis única</td>\n",
       "      <td>2021-09-16</td>\n",
       "      <td>0.0</td>\n",
       "      <td>25.0</td>\n",
       "      <td>256.0</td>\n",
       "      <td>158.0</td>\n",
       "      <td>90.0</td>\n",
       "      <td>41.0</td>\n",
       "      <td>7.0</td>\n",
       "      <td>0.0</td>\n",
       "    </tr>\n",
       "    <tr>\n",
       "      <th>107</th>\n",
       "      <td>Chile</td>\n",
       "      <td>Dosis única</td>\n",
       "      <td>2021-09-17</td>\n",
       "      <td>0.0</td>\n",
       "      <td>0.0</td>\n",
       "      <td>1.0</td>\n",
       "      <td>2.0</td>\n",
       "      <td>0.0</td>\n",
       "      <td>1.0</td>\n",
       "      <td>0.0</td>\n",
       "      <td>0.0</td>\n",
       "    </tr>\n",
       "    <tr>\n",
       "      <th>108</th>\n",
       "      <td>Chile</td>\n",
       "      <td>Dosis única</td>\n",
       "      <td>2021-09-18</td>\n",
       "      <td>0.0</td>\n",
       "      <td>1.0</td>\n",
       "      <td>3.0</td>\n",
       "      <td>4.0</td>\n",
       "      <td>1.0</td>\n",
       "      <td>1.0</td>\n",
       "      <td>0.0</td>\n",
       "      <td>0.0</td>\n",
       "    </tr>\n",
       "    <tr>\n",
       "      <th>109</th>\n",
       "      <td>Chile</td>\n",
       "      <td>Dosis única</td>\n",
       "      <td>2021-09-19</td>\n",
       "      <td>0.0</td>\n",
       "      <td>0.0</td>\n",
       "      <td>1.0</td>\n",
       "      <td>2.0</td>\n",
       "      <td>0.0</td>\n",
       "      <td>0.0</td>\n",
       "      <td>0.0</td>\n",
       "      <td>0.0</td>\n",
       "    </tr>\n",
       "    <tr>\n",
       "      <th>110</th>\n",
       "      <td>Chile</td>\n",
       "      <td>Dosis única</td>\n",
       "      <td>2021-09-20</td>\n",
       "      <td>0.0</td>\n",
       "      <td>22.0</td>\n",
       "      <td>245.0</td>\n",
       "      <td>181.0</td>\n",
       "      <td>107.0</td>\n",
       "      <td>54.0</td>\n",
       "      <td>2.0</td>\n",
       "      <td>0.0</td>\n",
       "    </tr>\n",
       "  </tbody>\n",
       "</table>\n",
       "</div>"
      ],
      "text/plain": [
       "      País   Vacunación       Fecha  12 a 17 años  18 a 24 años  25 a 34 años  \\\n",
       "106  Chile  Dosis única  2021-09-16           0.0          25.0         256.0   \n",
       "107  Chile  Dosis única  2021-09-17           0.0           0.0           1.0   \n",
       "108  Chile  Dosis única  2021-09-18           0.0           1.0           3.0   \n",
       "109  Chile  Dosis única  2021-09-19           0.0           0.0           1.0   \n",
       "110  Chile  Dosis única  2021-09-20           0.0          22.0         245.0   \n",
       "\n",
       "     35 a 44 años  45 a 54 años  55 a 64 años  65 a 74 años  75 años o más  \n",
       "106         158.0          90.0          41.0           7.0            0.0  \n",
       "107           2.0           0.0           1.0           0.0            0.0  \n",
       "108           4.0           1.0           1.0           0.0            0.0  \n",
       "109           2.0           0.0           0.0           0.0            0.0  \n",
       "110         181.0         107.0          54.0           2.0            0.0  "
      ]
     },
     "execution_count": 281,
     "metadata": {},
     "output_type": "execute_result"
    }
   ],
   "source": [
    "vaccination_per_age_s_CH.tail()"
   ]
  },
  {
   "cell_type": "markdown",
   "metadata": {},
   "source": [
    "<a id = 'Sección12.1.2'></a>"
   ]
  },
  {
   "cell_type": "markdown",
   "metadata": {},
   "source": [
    "#### 12.1.2. Primeras dosis diarias por rango etario"
   ]
  },
  {
   "cell_type": "code",
   "execution_count": 282,
   "metadata": {},
   "outputs": [],
   "source": [
    "vaccination_per_age_fd_CH = pd.DataFrame()"
   ]
  },
  {
   "cell_type": "code",
   "execution_count": 283,
   "metadata": {},
   "outputs": [],
   "source": [
    "vaccination_per_age_fd_CH ['Fecha'] = first_dose_CH ['Fecha']"
   ]
  },
  {
   "cell_type": "code",
   "execution_count": 284,
   "metadata": {},
   "outputs": [],
   "source": [
    "vaccination_per_age_fd_CH ['12 a 17 años'] = first_dose_CH.iloc [:, 1:7].sum(axis=1)"
   ]
  },
  {
   "cell_type": "code",
   "execution_count": 285,
   "metadata": {},
   "outputs": [],
   "source": [
    "vaccination_per_age_fd_CH ['18 a 24 años'] = first_dose_CH.iloc [:, 7:14].sum(axis=1)"
   ]
  },
  {
   "cell_type": "code",
   "execution_count": 286,
   "metadata": {},
   "outputs": [],
   "source": [
    "vaccination_per_age_fd_CH ['25 a 34 años'] = first_dose_CH.iloc [:, 14:24].sum(axis=1)"
   ]
  },
  {
   "cell_type": "code",
   "execution_count": 287,
   "metadata": {},
   "outputs": [],
   "source": [
    "vaccination_per_age_fd_CH ['35 a 44 años'] = first_dose_CH.iloc [:, 24:34].sum(axis=1)"
   ]
  },
  {
   "cell_type": "code",
   "execution_count": 288,
   "metadata": {},
   "outputs": [],
   "source": [
    "vaccination_per_age_fd_CH ['45 a 54 años'] = first_dose_CH.iloc [:, 34:44].sum(axis=1)"
   ]
  },
  {
   "cell_type": "code",
   "execution_count": 289,
   "metadata": {},
   "outputs": [],
   "source": [
    "vaccination_per_age_fd_CH ['55 a 64 años'] = first_dose_CH.iloc [:, 44:54].sum(axis=1)"
   ]
  },
  {
   "cell_type": "code",
   "execution_count": 290,
   "metadata": {},
   "outputs": [],
   "source": [
    "vaccination_per_age_fd_CH ['65 a 74 años'] = first_dose_CH.iloc [:, 54:64].sum(axis=1)"
   ]
  },
  {
   "cell_type": "code",
   "execution_count": 291,
   "metadata": {},
   "outputs": [],
   "source": [
    "vaccination_per_age_fd_CH ['75 años o más'] = first_dose_CH.iloc [:, 64:-1].sum(axis=1)"
   ]
  },
  {
   "cell_type": "code",
   "execution_count": 292,
   "metadata": {},
   "outputs": [],
   "source": [
    "vaccination_per_age_fd_CH.insert (0,'País', 'Chile')"
   ]
  },
  {
   "cell_type": "code",
   "execution_count": 293,
   "metadata": {},
   "outputs": [],
   "source": [
    "vaccination_per_age_fd_CH.insert (1,'Vacunación', 'Primera dosis')"
   ]
  },
  {
   "cell_type": "code",
   "execution_count": 294,
   "metadata": {
    "scrolled": true
   },
   "outputs": [
    {
     "data": {
      "text/html": [
       "<div>\n",
       "<style scoped>\n",
       "    .dataframe tbody tr th:only-of-type {\n",
       "        vertical-align: middle;\n",
       "    }\n",
       "\n",
       "    .dataframe tbody tr th {\n",
       "        vertical-align: top;\n",
       "    }\n",
       "\n",
       "    .dataframe thead th {\n",
       "        text-align: right;\n",
       "    }\n",
       "</style>\n",
       "<table border=\"1\" class=\"dataframe\">\n",
       "  <thead>\n",
       "    <tr style=\"text-align: right;\">\n",
       "      <th></th>\n",
       "      <th>País</th>\n",
       "      <th>Vacunación</th>\n",
       "      <th>Fecha</th>\n",
       "      <th>12 a 17 años</th>\n",
       "      <th>18 a 24 años</th>\n",
       "      <th>25 a 34 años</th>\n",
       "      <th>35 a 44 años</th>\n",
       "      <th>45 a 54 años</th>\n",
       "      <th>55 a 64 años</th>\n",
       "      <th>65 a 74 años</th>\n",
       "      <th>75 años o más</th>\n",
       "    </tr>\n",
       "  </thead>\n",
       "  <tbody>\n",
       "    <tr>\n",
       "      <th>245</th>\n",
       "      <td>Chile</td>\n",
       "      <td>Primera dosis</td>\n",
       "      <td>2021-09-15</td>\n",
       "      <td>4449.0</td>\n",
       "      <td>44106.0</td>\n",
       "      <td>2192.0</td>\n",
       "      <td>1892.0</td>\n",
       "      <td>1063.0</td>\n",
       "      <td>590.0</td>\n",
       "      <td>272.0</td>\n",
       "      <td>194.0</td>\n",
       "    </tr>\n",
       "    <tr>\n",
       "      <th>246</th>\n",
       "      <td>Chile</td>\n",
       "      <td>Primera dosis</td>\n",
       "      <td>2021-09-16</td>\n",
       "      <td>3640.0</td>\n",
       "      <td>19134.0</td>\n",
       "      <td>1415.0</td>\n",
       "      <td>1277.0</td>\n",
       "      <td>677.0</td>\n",
       "      <td>358.0</td>\n",
       "      <td>164.0</td>\n",
       "      <td>119.0</td>\n",
       "    </tr>\n",
       "    <tr>\n",
       "      <th>247</th>\n",
       "      <td>Chile</td>\n",
       "      <td>Primera dosis</td>\n",
       "      <td>2021-09-17</td>\n",
       "      <td>1.0</td>\n",
       "      <td>6.0</td>\n",
       "      <td>8.0</td>\n",
       "      <td>4.0</td>\n",
       "      <td>5.0</td>\n",
       "      <td>3.0</td>\n",
       "      <td>0.0</td>\n",
       "      <td>0.0</td>\n",
       "    </tr>\n",
       "    <tr>\n",
       "      <th>248</th>\n",
       "      <td>Chile</td>\n",
       "      <td>Primera dosis</td>\n",
       "      <td>2021-09-18</td>\n",
       "      <td>0.0</td>\n",
       "      <td>0.0</td>\n",
       "      <td>0.0</td>\n",
       "      <td>0.0</td>\n",
       "      <td>0.0</td>\n",
       "      <td>0.0</td>\n",
       "      <td>1.0</td>\n",
       "      <td>1.0</td>\n",
       "    </tr>\n",
       "    <tr>\n",
       "      <th>249</th>\n",
       "      <td>Chile</td>\n",
       "      <td>Primera dosis</td>\n",
       "      <td>2021-09-20</td>\n",
       "      <td>1315.0</td>\n",
       "      <td>29271.0</td>\n",
       "      <td>1801.0</td>\n",
       "      <td>1736.0</td>\n",
       "      <td>900.0</td>\n",
       "      <td>471.0</td>\n",
       "      <td>217.0</td>\n",
       "      <td>134.0</td>\n",
       "    </tr>\n",
       "  </tbody>\n",
       "</table>\n",
       "</div>"
      ],
      "text/plain": [
       "      País     Vacunación       Fecha  12 a 17 años  18 a 24 años  \\\n",
       "245  Chile  Primera dosis  2021-09-15        4449.0       44106.0   \n",
       "246  Chile  Primera dosis  2021-09-16        3640.0       19134.0   \n",
       "247  Chile  Primera dosis  2021-09-17           1.0           6.0   \n",
       "248  Chile  Primera dosis  2021-09-18           0.0           0.0   \n",
       "249  Chile  Primera dosis  2021-09-20        1315.0       29271.0   \n",
       "\n",
       "     25 a 34 años  35 a 44 años  45 a 54 años  55 a 64 años  65 a 74 años  \\\n",
       "245        2192.0        1892.0        1063.0         590.0         272.0   \n",
       "246        1415.0        1277.0         677.0         358.0         164.0   \n",
       "247           8.0           4.0           5.0           3.0           0.0   \n",
       "248           0.0           0.0           0.0           0.0           1.0   \n",
       "249        1801.0        1736.0         900.0         471.0         217.0   \n",
       "\n",
       "     75 años o más  \n",
       "245          194.0  \n",
       "246          119.0  \n",
       "247            0.0  \n",
       "248            1.0  \n",
       "249          134.0  "
      ]
     },
     "execution_count": 294,
     "metadata": {},
     "output_type": "execute_result"
    }
   ],
   "source": [
    "vaccination_per_age_fd_CH.tail()"
   ]
  },
  {
   "cell_type": "markdown",
   "metadata": {},
   "source": [
    "<a id = 'Sección12.1.3'></a>"
   ]
  },
  {
   "cell_type": "markdown",
   "metadata": {},
   "source": [
    "#### 12.1.3. Segundas dosis diarias por rango etario"
   ]
  },
  {
   "cell_type": "code",
   "execution_count": 295,
   "metadata": {},
   "outputs": [],
   "source": [
    "vaccination_per_age_sd_CH = pd.DataFrame()"
   ]
  },
  {
   "cell_type": "code",
   "execution_count": 296,
   "metadata": {},
   "outputs": [],
   "source": [
    "vaccination_per_age_sd_CH ['Fecha'] = second_dose_CH ['Fecha']"
   ]
  },
  {
   "cell_type": "code",
   "execution_count": 297,
   "metadata": {},
   "outputs": [],
   "source": [
    "vaccination_per_age_sd_CH ['12 a 17 años'] = second_dose_CH.iloc [:, 1:7].sum(axis=1)"
   ]
  },
  {
   "cell_type": "code",
   "execution_count": 298,
   "metadata": {},
   "outputs": [],
   "source": [
    "vaccination_per_age_sd_CH ['18 a 24 años'] = second_dose_CH.iloc [:, 7:14].sum(axis=1)"
   ]
  },
  {
   "cell_type": "code",
   "execution_count": 299,
   "metadata": {},
   "outputs": [],
   "source": [
    "vaccination_per_age_sd_CH ['25 a 34 años'] = second_dose_CH.iloc [:, 14:24].sum(axis=1)"
   ]
  },
  {
   "cell_type": "code",
   "execution_count": 300,
   "metadata": {},
   "outputs": [],
   "source": [
    "vaccination_per_age_sd_CH ['35 a 44 años'] = second_dose_CH.iloc [:, 24:34].sum(axis=1)"
   ]
  },
  {
   "cell_type": "code",
   "execution_count": 301,
   "metadata": {},
   "outputs": [],
   "source": [
    "vaccination_per_age_sd_CH ['45 a 54 años'] = second_dose_CH.iloc [:, 34:44].sum(axis=1)"
   ]
  },
  {
   "cell_type": "code",
   "execution_count": 302,
   "metadata": {},
   "outputs": [],
   "source": [
    "vaccination_per_age_sd_CH ['55 a 64 años'] = second_dose_CH.iloc [:, 44:54].sum(axis=1)"
   ]
  },
  {
   "cell_type": "code",
   "execution_count": 303,
   "metadata": {},
   "outputs": [],
   "source": [
    "vaccination_per_age_sd_CH ['65 a 74 años'] = second_dose_CH.iloc [:, 54:64].sum(axis=1)"
   ]
  },
  {
   "cell_type": "code",
   "execution_count": 304,
   "metadata": {},
   "outputs": [],
   "source": [
    "vaccination_per_age_sd_CH ['75 años o más'] = second_dose_CH.iloc [:, 64:-1].sum(axis=1)"
   ]
  },
  {
   "cell_type": "code",
   "execution_count": 305,
   "metadata": {},
   "outputs": [],
   "source": [
    "vaccination_per_age_sd_CH.insert (0,'País', 'Chile')"
   ]
  },
  {
   "cell_type": "code",
   "execution_count": 306,
   "metadata": {},
   "outputs": [],
   "source": [
    "vaccination_per_age_sd_CH.insert (1,'Vacunación', 'Segunda dosis')"
   ]
  },
  {
   "cell_type": "code",
   "execution_count": 307,
   "metadata": {
    "scrolled": true
   },
   "outputs": [
    {
     "data": {
      "text/html": [
       "<div>\n",
       "<style scoped>\n",
       "    .dataframe tbody tr th:only-of-type {\n",
       "        vertical-align: middle;\n",
       "    }\n",
       "\n",
       "    .dataframe tbody tr th {\n",
       "        vertical-align: top;\n",
       "    }\n",
       "\n",
       "    .dataframe thead th {\n",
       "        text-align: right;\n",
       "    }\n",
       "</style>\n",
       "<table border=\"1\" class=\"dataframe\">\n",
       "  <thead>\n",
       "    <tr style=\"text-align: right;\">\n",
       "      <th></th>\n",
       "      <th>País</th>\n",
       "      <th>Vacunación</th>\n",
       "      <th>Fecha</th>\n",
       "      <th>12 a 17 años</th>\n",
       "      <th>18 a 24 años</th>\n",
       "      <th>25 a 34 años</th>\n",
       "      <th>35 a 44 años</th>\n",
       "      <th>45 a 54 años</th>\n",
       "      <th>55 a 64 años</th>\n",
       "      <th>65 a 74 años</th>\n",
       "      <th>75 años o más</th>\n",
       "    </tr>\n",
       "  </thead>\n",
       "  <tbody>\n",
       "    <tr>\n",
       "      <th>228</th>\n",
       "      <td>Chile</td>\n",
       "      <td>Segunda dosis</td>\n",
       "      <td>2021-09-16</td>\n",
       "      <td>0.0</td>\n",
       "      <td>1580.0</td>\n",
       "      <td>2649.0</td>\n",
       "      <td>1858.0</td>\n",
       "      <td>932.0</td>\n",
       "      <td>465.0</td>\n",
       "      <td>210.0</td>\n",
       "      <td>132.0</td>\n",
       "    </tr>\n",
       "    <tr>\n",
       "      <th>229</th>\n",
       "      <td>Chile</td>\n",
       "      <td>Segunda dosis</td>\n",
       "      <td>2021-09-17</td>\n",
       "      <td>0.0</td>\n",
       "      <td>10.0</td>\n",
       "      <td>8.0</td>\n",
       "      <td>6.0</td>\n",
       "      <td>4.0</td>\n",
       "      <td>0.0</td>\n",
       "      <td>0.0</td>\n",
       "      <td>0.0</td>\n",
       "    </tr>\n",
       "    <tr>\n",
       "      <th>230</th>\n",
       "      <td>Chile</td>\n",
       "      <td>Segunda dosis</td>\n",
       "      <td>2021-09-18</td>\n",
       "      <td>0.0</td>\n",
       "      <td>0.0</td>\n",
       "      <td>2.0</td>\n",
       "      <td>2.0</td>\n",
       "      <td>0.0</td>\n",
       "      <td>0.0</td>\n",
       "      <td>0.0</td>\n",
       "      <td>0.0</td>\n",
       "    </tr>\n",
       "    <tr>\n",
       "      <th>231</th>\n",
       "      <td>Chile</td>\n",
       "      <td>Segunda dosis</td>\n",
       "      <td>2021-09-19</td>\n",
       "      <td>0.0</td>\n",
       "      <td>0.0</td>\n",
       "      <td>1.0</td>\n",
       "      <td>0.0</td>\n",
       "      <td>0.0</td>\n",
       "      <td>1.0</td>\n",
       "      <td>0.0</td>\n",
       "      <td>0.0</td>\n",
       "    </tr>\n",
       "    <tr>\n",
       "      <th>232</th>\n",
       "      <td>Chile</td>\n",
       "      <td>Segunda dosis</td>\n",
       "      <td>2021-09-20</td>\n",
       "      <td>0.0</td>\n",
       "      <td>986.0</td>\n",
       "      <td>4482.0</td>\n",
       "      <td>3933.0</td>\n",
       "      <td>2122.0</td>\n",
       "      <td>1299.0</td>\n",
       "      <td>762.0</td>\n",
       "      <td>401.0</td>\n",
       "    </tr>\n",
       "  </tbody>\n",
       "</table>\n",
       "</div>"
      ],
      "text/plain": [
       "      País     Vacunación       Fecha  12 a 17 años  18 a 24 años  \\\n",
       "228  Chile  Segunda dosis  2021-09-16           0.0        1580.0   \n",
       "229  Chile  Segunda dosis  2021-09-17           0.0          10.0   \n",
       "230  Chile  Segunda dosis  2021-09-18           0.0           0.0   \n",
       "231  Chile  Segunda dosis  2021-09-19           0.0           0.0   \n",
       "232  Chile  Segunda dosis  2021-09-20           0.0         986.0   \n",
       "\n",
       "     25 a 34 años  35 a 44 años  45 a 54 años  55 a 64 años  65 a 74 años  \\\n",
       "228        2649.0        1858.0         932.0         465.0         210.0   \n",
       "229           8.0           6.0           4.0           0.0           0.0   \n",
       "230           2.0           2.0           0.0           0.0           0.0   \n",
       "231           1.0           0.0           0.0           1.0           0.0   \n",
       "232        4482.0        3933.0        2122.0        1299.0         762.0   \n",
       "\n",
       "     75 años o más  \n",
       "228          132.0  \n",
       "229            0.0  \n",
       "230            0.0  \n",
       "231            0.0  \n",
       "232          401.0  "
      ]
     },
     "execution_count": 307,
     "metadata": {},
     "output_type": "execute_result"
    }
   ],
   "source": [
    "vaccination_per_age_sd_CH.tail()"
   ]
  },
  {
   "cell_type": "markdown",
   "metadata": {},
   "source": [
    "<a id = 'Sección12.1.4'></a>"
   ]
  },
  {
   "cell_type": "markdown",
   "metadata": {},
   "source": [
    "#### 12.1.4. Vacunaciones completas diarias por rango etario"
   ]
  },
  {
   "cell_type": "markdown",
   "metadata": {},
   "source": [
    "Las personas completamente vacunadas son aquellas que han recibido vacunas que requieren de una sola dosis o se han aplicado las dos dosis correspondientes a las vacunas que requieren la colocación de dos dosis."
   ]
  },
  {
   "cell_type": "code",
   "execution_count": 308,
   "metadata": {},
   "outputs": [],
   "source": [
    "# La columna fecha de los dataframes pasa a ser el índice, para luego poder utilizar la función add en las columnas de rango etario.\n",
    "\n",
    "for df in [vaccination_per_age_s_CH, vaccination_per_age_sd_CH]:\n",
    "    df.set_index (['Fecha'], inplace = True)"
   ]
  },
  {
   "cell_type": "code",
   "execution_count": 309,
   "metadata": {},
   "outputs": [],
   "source": [
    "# Suma de los dataframes manteniendo la correspondencia en la fecha y rango etario.\n",
    "\n",
    "fully_vaccinated_per_age = vaccination_per_age_sd_CH.iloc [:, 2:].add(vaccination_per_age_s_CH.iloc [:, 2:], fill_value = 0).reindex (vaccination_per_age_sd_CH.index)"
   ]
  },
  {
   "cell_type": "code",
   "execution_count": 310,
   "metadata": {},
   "outputs": [],
   "source": [
    "fully_vaccinated_per_age.reset_index(inplace = True)"
   ]
  },
  {
   "cell_type": "code",
   "execution_count": 311,
   "metadata": {},
   "outputs": [],
   "source": [
    "fully_vaccinated_per_age.insert (0,'País', 'Chile')"
   ]
  },
  {
   "cell_type": "code",
   "execution_count": 312,
   "metadata": {},
   "outputs": [],
   "source": [
    "fully_vaccinated_per_age.insert (1,'Vacunación', 'Completamente vacunado')"
   ]
  },
  {
   "cell_type": "code",
   "execution_count": 313,
   "metadata": {},
   "outputs": [
    {
     "data": {
      "text/html": [
       "<div>\n",
       "<style scoped>\n",
       "    .dataframe tbody tr th:only-of-type {\n",
       "        vertical-align: middle;\n",
       "    }\n",
       "\n",
       "    .dataframe tbody tr th {\n",
       "        vertical-align: top;\n",
       "    }\n",
       "\n",
       "    .dataframe thead th {\n",
       "        text-align: right;\n",
       "    }\n",
       "</style>\n",
       "<table border=\"1\" class=\"dataframe\">\n",
       "  <thead>\n",
       "    <tr style=\"text-align: right;\">\n",
       "      <th></th>\n",
       "      <th>País</th>\n",
       "      <th>Vacunación</th>\n",
       "      <th>Fecha</th>\n",
       "      <th>12 a 17 años</th>\n",
       "      <th>18 a 24 años</th>\n",
       "      <th>25 a 34 años</th>\n",
       "      <th>35 a 44 años</th>\n",
       "      <th>45 a 54 años</th>\n",
       "      <th>55 a 64 años</th>\n",
       "      <th>65 a 74 años</th>\n",
       "      <th>75 años o más</th>\n",
       "    </tr>\n",
       "  </thead>\n",
       "  <tbody>\n",
       "    <tr>\n",
       "      <th>228</th>\n",
       "      <td>Chile</td>\n",
       "      <td>Completamente vacunado</td>\n",
       "      <td>2021-09-16</td>\n",
       "      <td>0.0</td>\n",
       "      <td>1605.0</td>\n",
       "      <td>2905.0</td>\n",
       "      <td>2016.0</td>\n",
       "      <td>1022.0</td>\n",
       "      <td>506.0</td>\n",
       "      <td>217.0</td>\n",
       "      <td>132.0</td>\n",
       "    </tr>\n",
       "    <tr>\n",
       "      <th>229</th>\n",
       "      <td>Chile</td>\n",
       "      <td>Completamente vacunado</td>\n",
       "      <td>2021-09-17</td>\n",
       "      <td>0.0</td>\n",
       "      <td>10.0</td>\n",
       "      <td>9.0</td>\n",
       "      <td>8.0</td>\n",
       "      <td>4.0</td>\n",
       "      <td>1.0</td>\n",
       "      <td>0.0</td>\n",
       "      <td>0.0</td>\n",
       "    </tr>\n",
       "    <tr>\n",
       "      <th>230</th>\n",
       "      <td>Chile</td>\n",
       "      <td>Completamente vacunado</td>\n",
       "      <td>2021-09-18</td>\n",
       "      <td>0.0</td>\n",
       "      <td>1.0</td>\n",
       "      <td>5.0</td>\n",
       "      <td>6.0</td>\n",
       "      <td>1.0</td>\n",
       "      <td>1.0</td>\n",
       "      <td>0.0</td>\n",
       "      <td>0.0</td>\n",
       "    </tr>\n",
       "    <tr>\n",
       "      <th>231</th>\n",
       "      <td>Chile</td>\n",
       "      <td>Completamente vacunado</td>\n",
       "      <td>2021-09-19</td>\n",
       "      <td>0.0</td>\n",
       "      <td>0.0</td>\n",
       "      <td>2.0</td>\n",
       "      <td>2.0</td>\n",
       "      <td>0.0</td>\n",
       "      <td>1.0</td>\n",
       "      <td>0.0</td>\n",
       "      <td>0.0</td>\n",
       "    </tr>\n",
       "    <tr>\n",
       "      <th>232</th>\n",
       "      <td>Chile</td>\n",
       "      <td>Completamente vacunado</td>\n",
       "      <td>2021-09-20</td>\n",
       "      <td>0.0</td>\n",
       "      <td>1008.0</td>\n",
       "      <td>4727.0</td>\n",
       "      <td>4114.0</td>\n",
       "      <td>2229.0</td>\n",
       "      <td>1353.0</td>\n",
       "      <td>764.0</td>\n",
       "      <td>401.0</td>\n",
       "    </tr>\n",
       "  </tbody>\n",
       "</table>\n",
       "</div>"
      ],
      "text/plain": [
       "      País              Vacunación       Fecha  12 a 17 años  18 a 24 años  \\\n",
       "228  Chile  Completamente vacunado  2021-09-16           0.0        1605.0   \n",
       "229  Chile  Completamente vacunado  2021-09-17           0.0          10.0   \n",
       "230  Chile  Completamente vacunado  2021-09-18           0.0           1.0   \n",
       "231  Chile  Completamente vacunado  2021-09-19           0.0           0.0   \n",
       "232  Chile  Completamente vacunado  2021-09-20           0.0        1008.0   \n",
       "\n",
       "     25 a 34 años  35 a 44 años  45 a 54 años  55 a 64 años  65 a 74 años  \\\n",
       "228        2905.0        2016.0        1022.0         506.0         217.0   \n",
       "229           9.0           8.0           4.0           1.0           0.0   \n",
       "230           5.0           6.0           1.0           1.0           0.0   \n",
       "231           2.0           2.0           0.0           1.0           0.0   \n",
       "232        4727.0        4114.0        2229.0        1353.0         764.0   \n",
       "\n",
       "     75 años o más  \n",
       "228          132.0  \n",
       "229            0.0  \n",
       "230            0.0  \n",
       "231            0.0  \n",
       "232          401.0  "
      ]
     },
     "execution_count": 313,
     "metadata": {},
     "output_type": "execute_result"
    }
   ],
   "source": [
    "fully_vaccinated_per_age.tail()"
   ]
  },
  {
   "cell_type": "markdown",
   "metadata": {},
   "source": [
    "<a id = 'Sección12.1.5'></a>"
   ]
  },
  {
   "cell_type": "markdown",
   "metadata": {},
   "source": [
    "#### 12.1.5. Consolidado de vacunaciones diarias por rango etario"
   ]
  },
  {
   "cell_type": "code",
   "execution_count": 314,
   "metadata": {},
   "outputs": [],
   "source": [
    "vaccination_per_age_CH = pd.DataFrame()"
   ]
  },
  {
   "cell_type": "code",
   "execution_count": 315,
   "metadata": {},
   "outputs": [],
   "source": [
    "vaccination_per_age_s_CH.reset_index(inplace=True)"
   ]
  },
  {
   "cell_type": "code",
   "execution_count": 316,
   "metadata": {},
   "outputs": [],
   "source": [
    "vaccination_per_age_sd_CH.reset_index(inplace=True)"
   ]
  },
  {
   "cell_type": "code",
   "execution_count": 317,
   "metadata": {},
   "outputs": [],
   "source": [
    "# Para calcular la cantidad total de personas vacunadas completamente, fue necesario establecer como índice la columna 'Fecha'\n",
    "# en los dataframes 'vaccination_per_age_s_CH' y 'vaccination_per_age_sd_CH', por lo que ahora es necesario reiniciar sus índices.\n",
    "\n",
    "vaccination_per_age_CH = pd.concat ([vaccination_per_age_s_CH, vaccination_per_age_fd_CH, vaccination_per_age_sd_CH, \n",
    "                                     fully_vaccinated_per_age])"
   ]
  },
  {
   "cell_type": "code",
   "execution_count": 318,
   "metadata": {},
   "outputs": [
    {
     "data": {
      "text/html": [
       "<div>\n",
       "<style scoped>\n",
       "    .dataframe tbody tr th:only-of-type {\n",
       "        vertical-align: middle;\n",
       "    }\n",
       "\n",
       "    .dataframe tbody tr th {\n",
       "        vertical-align: top;\n",
       "    }\n",
       "\n",
       "    .dataframe thead th {\n",
       "        text-align: right;\n",
       "    }\n",
       "</style>\n",
       "<table border=\"1\" class=\"dataframe\">\n",
       "  <thead>\n",
       "    <tr style=\"text-align: right;\">\n",
       "      <th></th>\n",
       "      <th>Fecha</th>\n",
       "      <th>País</th>\n",
       "      <th>Vacunación</th>\n",
       "      <th>12 a 17 años</th>\n",
       "      <th>18 a 24 años</th>\n",
       "      <th>25 a 34 años</th>\n",
       "      <th>35 a 44 años</th>\n",
       "      <th>45 a 54 años</th>\n",
       "      <th>55 a 64 años</th>\n",
       "      <th>65 a 74 años</th>\n",
       "      <th>75 años o más</th>\n",
       "    </tr>\n",
       "  </thead>\n",
       "  <tbody>\n",
       "    <tr>\n",
       "      <th>0</th>\n",
       "      <td>2021-05-31</td>\n",
       "      <td>Chile</td>\n",
       "      <td>Dosis única</td>\n",
       "      <td>0.0</td>\n",
       "      <td>0.0</td>\n",
       "      <td>29.0</td>\n",
       "      <td>27.0</td>\n",
       "      <td>12.0</td>\n",
       "      <td>5.0</td>\n",
       "      <td>1.0</td>\n",
       "      <td>0.0</td>\n",
       "    </tr>\n",
       "    <tr>\n",
       "      <th>1</th>\n",
       "      <td>2021-06-01</td>\n",
       "      <td>Chile</td>\n",
       "      <td>Dosis única</td>\n",
       "      <td>0.0</td>\n",
       "      <td>20.0</td>\n",
       "      <td>5632.0</td>\n",
       "      <td>2379.0</td>\n",
       "      <td>1422.0</td>\n",
       "      <td>794.0</td>\n",
       "      <td>125.0</td>\n",
       "      <td>13.0</td>\n",
       "    </tr>\n",
       "    <tr>\n",
       "      <th>2</th>\n",
       "      <td>2021-06-02</td>\n",
       "      <td>Chile</td>\n",
       "      <td>Dosis única</td>\n",
       "      <td>0.0</td>\n",
       "      <td>95.0</td>\n",
       "      <td>14144.0</td>\n",
       "      <td>4638.0</td>\n",
       "      <td>2633.0</td>\n",
       "      <td>1592.0</td>\n",
       "      <td>209.0</td>\n",
       "      <td>8.0</td>\n",
       "    </tr>\n",
       "    <tr>\n",
       "      <th>3</th>\n",
       "      <td>2021-06-03</td>\n",
       "      <td>Chile</td>\n",
       "      <td>Dosis única</td>\n",
       "      <td>0.0</td>\n",
       "      <td>190.0</td>\n",
       "      <td>21347.0</td>\n",
       "      <td>9699.0</td>\n",
       "      <td>5185.0</td>\n",
       "      <td>2798.0</td>\n",
       "      <td>381.0</td>\n",
       "      <td>20.0</td>\n",
       "    </tr>\n",
       "    <tr>\n",
       "      <th>4</th>\n",
       "      <td>2021-06-04</td>\n",
       "      <td>Chile</td>\n",
       "      <td>Dosis única</td>\n",
       "      <td>0.0</td>\n",
       "      <td>135.0</td>\n",
       "      <td>17279.0</td>\n",
       "      <td>9018.0</td>\n",
       "      <td>4951.0</td>\n",
       "      <td>2663.0</td>\n",
       "      <td>310.0</td>\n",
       "      <td>10.0</td>\n",
       "    </tr>\n",
       "    <tr>\n",
       "      <th>...</th>\n",
       "      <td>...</td>\n",
       "      <td>...</td>\n",
       "      <td>...</td>\n",
       "      <td>...</td>\n",
       "      <td>...</td>\n",
       "      <td>...</td>\n",
       "      <td>...</td>\n",
       "      <td>...</td>\n",
       "      <td>...</td>\n",
       "      <td>...</td>\n",
       "      <td>...</td>\n",
       "    </tr>\n",
       "    <tr>\n",
       "      <th>228</th>\n",
       "      <td>2021-09-16</td>\n",
       "      <td>Chile</td>\n",
       "      <td>Completamente vacunado</td>\n",
       "      <td>0.0</td>\n",
       "      <td>1605.0</td>\n",
       "      <td>2905.0</td>\n",
       "      <td>2016.0</td>\n",
       "      <td>1022.0</td>\n",
       "      <td>506.0</td>\n",
       "      <td>217.0</td>\n",
       "      <td>132.0</td>\n",
       "    </tr>\n",
       "    <tr>\n",
       "      <th>229</th>\n",
       "      <td>2021-09-17</td>\n",
       "      <td>Chile</td>\n",
       "      <td>Completamente vacunado</td>\n",
       "      <td>0.0</td>\n",
       "      <td>10.0</td>\n",
       "      <td>9.0</td>\n",
       "      <td>8.0</td>\n",
       "      <td>4.0</td>\n",
       "      <td>1.0</td>\n",
       "      <td>0.0</td>\n",
       "      <td>0.0</td>\n",
       "    </tr>\n",
       "    <tr>\n",
       "      <th>230</th>\n",
       "      <td>2021-09-18</td>\n",
       "      <td>Chile</td>\n",
       "      <td>Completamente vacunado</td>\n",
       "      <td>0.0</td>\n",
       "      <td>1.0</td>\n",
       "      <td>5.0</td>\n",
       "      <td>6.0</td>\n",
       "      <td>1.0</td>\n",
       "      <td>1.0</td>\n",
       "      <td>0.0</td>\n",
       "      <td>0.0</td>\n",
       "    </tr>\n",
       "    <tr>\n",
       "      <th>231</th>\n",
       "      <td>2021-09-19</td>\n",
       "      <td>Chile</td>\n",
       "      <td>Completamente vacunado</td>\n",
       "      <td>0.0</td>\n",
       "      <td>0.0</td>\n",
       "      <td>2.0</td>\n",
       "      <td>2.0</td>\n",
       "      <td>0.0</td>\n",
       "      <td>1.0</td>\n",
       "      <td>0.0</td>\n",
       "      <td>0.0</td>\n",
       "    </tr>\n",
       "    <tr>\n",
       "      <th>232</th>\n",
       "      <td>2021-09-20</td>\n",
       "      <td>Chile</td>\n",
       "      <td>Completamente vacunado</td>\n",
       "      <td>0.0</td>\n",
       "      <td>1008.0</td>\n",
       "      <td>4727.0</td>\n",
       "      <td>4114.0</td>\n",
       "      <td>2229.0</td>\n",
       "      <td>1353.0</td>\n",
       "      <td>764.0</td>\n",
       "      <td>401.0</td>\n",
       "    </tr>\n",
       "  </tbody>\n",
       "</table>\n",
       "<p>827 rows × 11 columns</p>\n",
       "</div>"
      ],
      "text/plain": [
       "          Fecha   País              Vacunación  12 a 17 años  18 a 24 años  \\\n",
       "0    2021-05-31  Chile             Dosis única           0.0           0.0   \n",
       "1    2021-06-01  Chile             Dosis única           0.0          20.0   \n",
       "2    2021-06-02  Chile             Dosis única           0.0          95.0   \n",
       "3    2021-06-03  Chile             Dosis única           0.0         190.0   \n",
       "4    2021-06-04  Chile             Dosis única           0.0         135.0   \n",
       "..          ...    ...                     ...           ...           ...   \n",
       "228  2021-09-16  Chile  Completamente vacunado           0.0        1605.0   \n",
       "229  2021-09-17  Chile  Completamente vacunado           0.0          10.0   \n",
       "230  2021-09-18  Chile  Completamente vacunado           0.0           1.0   \n",
       "231  2021-09-19  Chile  Completamente vacunado           0.0           0.0   \n",
       "232  2021-09-20  Chile  Completamente vacunado           0.0        1008.0   \n",
       "\n",
       "     25 a 34 años  35 a 44 años  45 a 54 años  55 a 64 años  65 a 74 años  \\\n",
       "0            29.0          27.0          12.0           5.0           1.0   \n",
       "1          5632.0        2379.0        1422.0         794.0         125.0   \n",
       "2         14144.0        4638.0        2633.0        1592.0         209.0   \n",
       "3         21347.0        9699.0        5185.0        2798.0         381.0   \n",
       "4         17279.0        9018.0        4951.0        2663.0         310.0   \n",
       "..            ...           ...           ...           ...           ...   \n",
       "228        2905.0        2016.0        1022.0         506.0         217.0   \n",
       "229           9.0           8.0           4.0           1.0           0.0   \n",
       "230           5.0           6.0           1.0           1.0           0.0   \n",
       "231           2.0           2.0           0.0           1.0           0.0   \n",
       "232        4727.0        4114.0        2229.0        1353.0         764.0   \n",
       "\n",
       "     75 años o más  \n",
       "0              0.0  \n",
       "1             13.0  \n",
       "2              8.0  \n",
       "3             20.0  \n",
       "4             10.0  \n",
       "..             ...  \n",
       "228          132.0  \n",
       "229            0.0  \n",
       "230            0.0  \n",
       "231            0.0  \n",
       "232          401.0  \n",
       "\n",
       "[827 rows x 11 columns]"
      ]
     },
     "execution_count": 318,
     "metadata": {},
     "output_type": "execute_result"
    }
   ],
   "source": [
    "vaccination_per_age_CH"
   ]
  },
  {
   "cell_type": "markdown",
   "metadata": {},
   "source": [
    "<a id = 'Sección12.1.6'></a>"
   ]
  },
  {
   "cell_type": "markdown",
   "metadata": {},
   "source": [
    "#### 12.1.6. Consolidado del acumulado de vacunaciones por rango etario"
   ]
  },
  {
   "cell_type": "code",
   "execution_count": 319,
   "metadata": {},
   "outputs": [],
   "source": [
    "cum_vacc_per_age_CH = vaccination_per_age_CH.loc [:,['Vacunación','12 a 17 años', '18 a 24 años',\n",
    "       '25 a 34 años', '35 a 44 años', '45 a 54 años', '55 a 64 años',\n",
    "       '65 a 74 años', '75 años o más']].groupby(['Vacunación']).cumsum(axis = 0)"
   ]
  },
  {
   "cell_type": "code",
   "execution_count": 320,
   "metadata": {},
   "outputs": [],
   "source": [
    "cum_vacc_per_age_CH = pd.concat ([vaccination_per_age_CH.loc [:,['País','Vacunación','Fecha']], cum_vacc_per_age_CH], axis = 1)"
   ]
  },
  {
   "cell_type": "code",
   "execution_count": 321,
   "metadata": {},
   "outputs": [],
   "source": [
    "cum_vacc_per_age_CH.reset_index(drop = True, inplace=True)"
   ]
  },
  {
   "cell_type": "code",
   "execution_count": 322,
   "metadata": {
    "scrolled": false
   },
   "outputs": [
    {
     "data": {
      "text/html": [
       "<div>\n",
       "<style scoped>\n",
       "    .dataframe tbody tr th:only-of-type {\n",
       "        vertical-align: middle;\n",
       "    }\n",
       "\n",
       "    .dataframe tbody tr th {\n",
       "        vertical-align: top;\n",
       "    }\n",
       "\n",
       "    .dataframe thead th {\n",
       "        text-align: right;\n",
       "    }\n",
       "</style>\n",
       "<table border=\"1\" class=\"dataframe\">\n",
       "  <thead>\n",
       "    <tr style=\"text-align: right;\">\n",
       "      <th></th>\n",
       "      <th>País</th>\n",
       "      <th>Vacunación</th>\n",
       "      <th>Fecha</th>\n",
       "      <th>12 a 17 años</th>\n",
       "      <th>18 a 24 años</th>\n",
       "      <th>25 a 34 años</th>\n",
       "      <th>35 a 44 años</th>\n",
       "      <th>45 a 54 años</th>\n",
       "      <th>55 a 64 años</th>\n",
       "      <th>65 a 74 años</th>\n",
       "      <th>75 años o más</th>\n",
       "    </tr>\n",
       "  </thead>\n",
       "  <tbody>\n",
       "    <tr>\n",
       "      <th>0</th>\n",
       "      <td>Chile</td>\n",
       "      <td>Dosis única</td>\n",
       "      <td>2021-05-31</td>\n",
       "      <td>0.0</td>\n",
       "      <td>0.0</td>\n",
       "      <td>29.0</td>\n",
       "      <td>27.0</td>\n",
       "      <td>12.0</td>\n",
       "      <td>5.0</td>\n",
       "      <td>1.0</td>\n",
       "      <td>0.0</td>\n",
       "    </tr>\n",
       "    <tr>\n",
       "      <th>1</th>\n",
       "      <td>Chile</td>\n",
       "      <td>Dosis única</td>\n",
       "      <td>2021-06-01</td>\n",
       "      <td>0.0</td>\n",
       "      <td>20.0</td>\n",
       "      <td>5661.0</td>\n",
       "      <td>2406.0</td>\n",
       "      <td>1434.0</td>\n",
       "      <td>799.0</td>\n",
       "      <td>126.0</td>\n",
       "      <td>13.0</td>\n",
       "    </tr>\n",
       "    <tr>\n",
       "      <th>2</th>\n",
       "      <td>Chile</td>\n",
       "      <td>Dosis única</td>\n",
       "      <td>2021-06-02</td>\n",
       "      <td>0.0</td>\n",
       "      <td>115.0</td>\n",
       "      <td>19805.0</td>\n",
       "      <td>7044.0</td>\n",
       "      <td>4067.0</td>\n",
       "      <td>2391.0</td>\n",
       "      <td>335.0</td>\n",
       "      <td>21.0</td>\n",
       "    </tr>\n",
       "    <tr>\n",
       "      <th>3</th>\n",
       "      <td>Chile</td>\n",
       "      <td>Dosis única</td>\n",
       "      <td>2021-06-03</td>\n",
       "      <td>0.0</td>\n",
       "      <td>305.0</td>\n",
       "      <td>41152.0</td>\n",
       "      <td>16743.0</td>\n",
       "      <td>9252.0</td>\n",
       "      <td>5189.0</td>\n",
       "      <td>716.0</td>\n",
       "      <td>41.0</td>\n",
       "    </tr>\n",
       "    <tr>\n",
       "      <th>4</th>\n",
       "      <td>Chile</td>\n",
       "      <td>Dosis única</td>\n",
       "      <td>2021-06-04</td>\n",
       "      <td>0.0</td>\n",
       "      <td>440.0</td>\n",
       "      <td>58431.0</td>\n",
       "      <td>25761.0</td>\n",
       "      <td>14203.0</td>\n",
       "      <td>7852.0</td>\n",
       "      <td>1026.0</td>\n",
       "      <td>51.0</td>\n",
       "    </tr>\n",
       "    <tr>\n",
       "      <th>...</th>\n",
       "      <td>...</td>\n",
       "      <td>...</td>\n",
       "      <td>...</td>\n",
       "      <td>...</td>\n",
       "      <td>...</td>\n",
       "      <td>...</td>\n",
       "      <td>...</td>\n",
       "      <td>...</td>\n",
       "      <td>...</td>\n",
       "      <td>...</td>\n",
       "      <td>...</td>\n",
       "    </tr>\n",
       "    <tr>\n",
       "      <th>822</th>\n",
       "      <td>Chile</td>\n",
       "      <td>Completamente vacunado</td>\n",
       "      <td>2021-09-16</td>\n",
       "      <td>0.0</td>\n",
       "      <td>896890.0</td>\n",
       "      <td>2464506.0</td>\n",
       "      <td>2677072.0</td>\n",
       "      <td>2326957.0</td>\n",
       "      <td>2259720.0</td>\n",
       "      <td>1790773.0</td>\n",
       "      <td>1593269.0</td>\n",
       "    </tr>\n",
       "    <tr>\n",
       "      <th>823</th>\n",
       "      <td>Chile</td>\n",
       "      <td>Completamente vacunado</td>\n",
       "      <td>2021-09-17</td>\n",
       "      <td>0.0</td>\n",
       "      <td>896900.0</td>\n",
       "      <td>2464515.0</td>\n",
       "      <td>2677080.0</td>\n",
       "      <td>2326961.0</td>\n",
       "      <td>2259721.0</td>\n",
       "      <td>1790773.0</td>\n",
       "      <td>1593269.0</td>\n",
       "    </tr>\n",
       "    <tr>\n",
       "      <th>824</th>\n",
       "      <td>Chile</td>\n",
       "      <td>Completamente vacunado</td>\n",
       "      <td>2021-09-18</td>\n",
       "      <td>0.0</td>\n",
       "      <td>896901.0</td>\n",
       "      <td>2464520.0</td>\n",
       "      <td>2677086.0</td>\n",
       "      <td>2326962.0</td>\n",
       "      <td>2259722.0</td>\n",
       "      <td>1790773.0</td>\n",
       "      <td>1593269.0</td>\n",
       "    </tr>\n",
       "    <tr>\n",
       "      <th>825</th>\n",
       "      <td>Chile</td>\n",
       "      <td>Completamente vacunado</td>\n",
       "      <td>2021-09-19</td>\n",
       "      <td>0.0</td>\n",
       "      <td>896901.0</td>\n",
       "      <td>2464522.0</td>\n",
       "      <td>2677088.0</td>\n",
       "      <td>2326962.0</td>\n",
       "      <td>2259723.0</td>\n",
       "      <td>1790773.0</td>\n",
       "      <td>1593269.0</td>\n",
       "    </tr>\n",
       "    <tr>\n",
       "      <th>826</th>\n",
       "      <td>Chile</td>\n",
       "      <td>Completamente vacunado</td>\n",
       "      <td>2021-09-20</td>\n",
       "      <td>0.0</td>\n",
       "      <td>897909.0</td>\n",
       "      <td>2469249.0</td>\n",
       "      <td>2681202.0</td>\n",
       "      <td>2329191.0</td>\n",
       "      <td>2261076.0</td>\n",
       "      <td>1791537.0</td>\n",
       "      <td>1593670.0</td>\n",
       "    </tr>\n",
       "  </tbody>\n",
       "</table>\n",
       "<p>827 rows × 11 columns</p>\n",
       "</div>"
      ],
      "text/plain": [
       "      País              Vacunación       Fecha  12 a 17 años  18 a 24 años  \\\n",
       "0    Chile             Dosis única  2021-05-31           0.0           0.0   \n",
       "1    Chile             Dosis única  2021-06-01           0.0          20.0   \n",
       "2    Chile             Dosis única  2021-06-02           0.0         115.0   \n",
       "3    Chile             Dosis única  2021-06-03           0.0         305.0   \n",
       "4    Chile             Dosis única  2021-06-04           0.0         440.0   \n",
       "..     ...                     ...         ...           ...           ...   \n",
       "822  Chile  Completamente vacunado  2021-09-16           0.0      896890.0   \n",
       "823  Chile  Completamente vacunado  2021-09-17           0.0      896900.0   \n",
       "824  Chile  Completamente vacunado  2021-09-18           0.0      896901.0   \n",
       "825  Chile  Completamente vacunado  2021-09-19           0.0      896901.0   \n",
       "826  Chile  Completamente vacunado  2021-09-20           0.0      897909.0   \n",
       "\n",
       "     25 a 34 años  35 a 44 años  45 a 54 años  55 a 64 años  65 a 74 años  \\\n",
       "0            29.0          27.0          12.0           5.0           1.0   \n",
       "1          5661.0        2406.0        1434.0         799.0         126.0   \n",
       "2         19805.0        7044.0        4067.0        2391.0         335.0   \n",
       "3         41152.0       16743.0        9252.0        5189.0         716.0   \n",
       "4         58431.0       25761.0       14203.0        7852.0        1026.0   \n",
       "..            ...           ...           ...           ...           ...   \n",
       "822     2464506.0     2677072.0     2326957.0     2259720.0     1790773.0   \n",
       "823     2464515.0     2677080.0     2326961.0     2259721.0     1790773.0   \n",
       "824     2464520.0     2677086.0     2326962.0     2259722.0     1790773.0   \n",
       "825     2464522.0     2677088.0     2326962.0     2259723.0     1790773.0   \n",
       "826     2469249.0     2681202.0     2329191.0     2261076.0     1791537.0   \n",
       "\n",
       "     75 años o más  \n",
       "0              0.0  \n",
       "1             13.0  \n",
       "2             21.0  \n",
       "3             41.0  \n",
       "4             51.0  \n",
       "..             ...  \n",
       "822      1593269.0  \n",
       "823      1593269.0  \n",
       "824      1593269.0  \n",
       "825      1593269.0  \n",
       "826      1593670.0  \n",
       "\n",
       "[827 rows x 11 columns]"
      ]
     },
     "execution_count": 322,
     "metadata": {},
     "output_type": "execute_result"
    }
   ],
   "source": [
    "cum_vacc_per_age_CH"
   ]
  },
  {
   "cell_type": "markdown",
   "metadata": {},
   "source": [
    "<a id = 'Sección12.1.7'></a>"
   ]
  },
  {
   "cell_type": "markdown",
   "metadata": {},
   "source": [
    "#### 12.1.7. Cobertura de la población por rango etario"
   ]
  },
  {
   "cell_type": "code",
   "execution_count": 323,
   "metadata": {},
   "outputs": [],
   "source": [
    "pop_coverage_CH = cum_vacc_per_age_CH.loc[:,['País','Vacunación','Fecha']]"
   ]
  },
  {
   "cell_type": "code",
   "execution_count": 324,
   "metadata": {},
   "outputs": [],
   "source": [
    "pop_coverage_CH ['12 a 17 años'] = cum_vacc_per_age_CH ['12 a 17 años']*100/pop_per_age_CH['Población'][0]"
   ]
  },
  {
   "cell_type": "code",
   "execution_count": 325,
   "metadata": {},
   "outputs": [],
   "source": [
    "pop_coverage_CH ['18 a 24 años'] = cum_vacc_per_age_CH ['18 a 24 años']*100/pop_per_age_CH['Población'][1]"
   ]
  },
  {
   "cell_type": "code",
   "execution_count": 326,
   "metadata": {},
   "outputs": [],
   "source": [
    "pop_coverage_CH ['25 a 34 años'] = cum_vacc_per_age_CH ['25 a 34 años']*100/pop_per_age_CH['Población'][2]"
   ]
  },
  {
   "cell_type": "code",
   "execution_count": 327,
   "metadata": {},
   "outputs": [],
   "source": [
    "pop_coverage_CH ['35 a 44 años'] = cum_vacc_per_age_CH ['35 a 44 años']*100/pop_per_age_CH['Población'][3]"
   ]
  },
  {
   "cell_type": "code",
   "execution_count": 328,
   "metadata": {},
   "outputs": [],
   "source": [
    "pop_coverage_CH ['45 a 54 años'] = cum_vacc_per_age_CH ['45 a 54 años']*100/pop_per_age_CH['Población'][4]"
   ]
  },
  {
   "cell_type": "code",
   "execution_count": 329,
   "metadata": {},
   "outputs": [],
   "source": [
    "pop_coverage_CH ['55 a 64 años'] = cum_vacc_per_age_CH ['55 a 64 años']*100/pop_per_age_CH['Población'][5]"
   ]
  },
  {
   "cell_type": "code",
   "execution_count": 330,
   "metadata": {},
   "outputs": [],
   "source": [
    "pop_coverage_CH ['65 a 74 años'] = cum_vacc_per_age_CH ['65 a 74 años']*100/pop_per_age_CH['Población'][6]"
   ]
  },
  {
   "cell_type": "code",
   "execution_count": 331,
   "metadata": {},
   "outputs": [],
   "source": [
    "pop_coverage_CH ['75 años o más'] = cum_vacc_per_age_CH ['75 años o más']*100/pop_per_age_CH['Población'][7]"
   ]
  },
  {
   "cell_type": "code",
   "execution_count": 332,
   "metadata": {},
   "outputs": [
    {
     "data": {
      "text/html": [
       "<div>\n",
       "<style scoped>\n",
       "    .dataframe tbody tr th:only-of-type {\n",
       "        vertical-align: middle;\n",
       "    }\n",
       "\n",
       "    .dataframe tbody tr th {\n",
       "        vertical-align: top;\n",
       "    }\n",
       "\n",
       "    .dataframe thead th {\n",
       "        text-align: right;\n",
       "    }\n",
       "</style>\n",
       "<table border=\"1\" class=\"dataframe\">\n",
       "  <thead>\n",
       "    <tr style=\"text-align: right;\">\n",
       "      <th></th>\n",
       "      <th>País</th>\n",
       "      <th>Vacunación</th>\n",
       "      <th>Fecha</th>\n",
       "      <th>12 a 17 años</th>\n",
       "      <th>18 a 24 años</th>\n",
       "      <th>25 a 34 años</th>\n",
       "      <th>35 a 44 años</th>\n",
       "      <th>45 a 54 años</th>\n",
       "      <th>55 a 64 años</th>\n",
       "      <th>65 a 74 años</th>\n",
       "      <th>75 años o más</th>\n",
       "    </tr>\n",
       "  </thead>\n",
       "  <tbody>\n",
       "    <tr>\n",
       "      <th>0</th>\n",
       "      <td>Chile</td>\n",
       "      <td>Dosis única</td>\n",
       "      <td>2021-05-31</td>\n",
       "      <td>0.0</td>\n",
       "      <td>0.000000</td>\n",
       "      <td>0.000894</td>\n",
       "      <td>0.000970</td>\n",
       "      <td>0.000481</td>\n",
       "      <td>0.000234</td>\n",
       "      <td>0.000072</td>\n",
       "      <td>0.000000</td>\n",
       "    </tr>\n",
       "    <tr>\n",
       "      <th>1</th>\n",
       "      <td>Chile</td>\n",
       "      <td>Dosis única</td>\n",
       "      <td>2021-06-01</td>\n",
       "      <td>0.0</td>\n",
       "      <td>0.001018</td>\n",
       "      <td>0.174434</td>\n",
       "      <td>0.086477</td>\n",
       "      <td>0.057453</td>\n",
       "      <td>0.037426</td>\n",
       "      <td>0.009013</td>\n",
       "      <td>0.001353</td>\n",
       "    </tr>\n",
       "    <tr>\n",
       "      <th>2</th>\n",
       "      <td>Chile</td>\n",
       "      <td>Dosis única</td>\n",
       "      <td>2021-06-02</td>\n",
       "      <td>0.0</td>\n",
       "      <td>0.005851</td>\n",
       "      <td>0.610256</td>\n",
       "      <td>0.253177</td>\n",
       "      <td>0.162945</td>\n",
       "      <td>0.111997</td>\n",
       "      <td>0.023963</td>\n",
       "      <td>0.002186</td>\n",
       "    </tr>\n",
       "    <tr>\n",
       "      <th>3</th>\n",
       "      <td>Chile</td>\n",
       "      <td>Dosis única</td>\n",
       "      <td>2021-06-03</td>\n",
       "      <td>0.0</td>\n",
       "      <td>0.015519</td>\n",
       "      <td>1.268027</td>\n",
       "      <td>0.601780</td>\n",
       "      <td>0.370682</td>\n",
       "      <td>0.243059</td>\n",
       "      <td>0.051216</td>\n",
       "      <td>0.004268</td>\n",
       "    </tr>\n",
       "    <tr>\n",
       "      <th>4</th>\n",
       "      <td>Chile</td>\n",
       "      <td>Dosis única</td>\n",
       "      <td>2021-06-04</td>\n",
       "      <td>0.0</td>\n",
       "      <td>0.022388</td>\n",
       "      <td>1.800449</td>\n",
       "      <td>0.925906</td>\n",
       "      <td>0.569045</td>\n",
       "      <td>0.367798</td>\n",
       "      <td>0.073391</td>\n",
       "      <td>0.005309</td>\n",
       "    </tr>\n",
       "    <tr>\n",
       "      <th>...</th>\n",
       "      <td>...</td>\n",
       "      <td>...</td>\n",
       "      <td>...</td>\n",
       "      <td>...</td>\n",
       "      <td>...</td>\n",
       "      <td>...</td>\n",
       "      <td>...</td>\n",
       "      <td>...</td>\n",
       "      <td>...</td>\n",
       "      <td>...</td>\n",
       "      <td>...</td>\n",
       "    </tr>\n",
       "    <tr>\n",
       "      <th>822</th>\n",
       "      <td>Chile</td>\n",
       "      <td>Completamente vacunado</td>\n",
       "      <td>2021-09-16</td>\n",
       "      <td>0.0</td>\n",
       "      <td>45.635965</td>\n",
       "      <td>75.939419</td>\n",
       "      <td>96.219782</td>\n",
       "      <td>93.229760</td>\n",
       "      <td>105.848131</td>\n",
       "      <td>128.095625</td>\n",
       "      <td>165.858577</td>\n",
       "    </tr>\n",
       "    <tr>\n",
       "      <th>823</th>\n",
       "      <td>Chile</td>\n",
       "      <td>Completamente vacunado</td>\n",
       "      <td>2021-09-17</td>\n",
       "      <td>0.0</td>\n",
       "      <td>45.636473</td>\n",
       "      <td>75.939696</td>\n",
       "      <td>96.220070</td>\n",
       "      <td>93.229920</td>\n",
       "      <td>105.848178</td>\n",
       "      <td>128.095625</td>\n",
       "      <td>165.858577</td>\n",
       "    </tr>\n",
       "    <tr>\n",
       "      <th>824</th>\n",
       "      <td>Chile</td>\n",
       "      <td>Completamente vacunado</td>\n",
       "      <td>2021-09-18</td>\n",
       "      <td>0.0</td>\n",
       "      <td>45.636524</td>\n",
       "      <td>75.939850</td>\n",
       "      <td>96.220285</td>\n",
       "      <td>93.229960</td>\n",
       "      <td>105.848225</td>\n",
       "      <td>128.095625</td>\n",
       "      <td>165.858577</td>\n",
       "    </tr>\n",
       "    <tr>\n",
       "      <th>825</th>\n",
       "      <td>Chile</td>\n",
       "      <td>Completamente vacunado</td>\n",
       "      <td>2021-09-19</td>\n",
       "      <td>0.0</td>\n",
       "      <td>45.636524</td>\n",
       "      <td>75.939912</td>\n",
       "      <td>96.220357</td>\n",
       "      <td>93.229960</td>\n",
       "      <td>105.848272</td>\n",
       "      <td>128.095625</td>\n",
       "      <td>165.858577</td>\n",
       "    </tr>\n",
       "    <tr>\n",
       "      <th>826</th>\n",
       "      <td>Chile</td>\n",
       "      <td>Completamente vacunado</td>\n",
       "      <td>2021-09-20</td>\n",
       "      <td>0.0</td>\n",
       "      <td>45.687814</td>\n",
       "      <td>76.085566</td>\n",
       "      <td>96.368223</td>\n",
       "      <td>93.319265</td>\n",
       "      <td>105.911648</td>\n",
       "      <td>128.150275</td>\n",
       "      <td>165.900321</td>\n",
       "    </tr>\n",
       "  </tbody>\n",
       "</table>\n",
       "<p>827 rows × 11 columns</p>\n",
       "</div>"
      ],
      "text/plain": [
       "      País              Vacunación       Fecha  12 a 17 años  18 a 24 años  \\\n",
       "0    Chile             Dosis única  2021-05-31           0.0      0.000000   \n",
       "1    Chile             Dosis única  2021-06-01           0.0      0.001018   \n",
       "2    Chile             Dosis única  2021-06-02           0.0      0.005851   \n",
       "3    Chile             Dosis única  2021-06-03           0.0      0.015519   \n",
       "4    Chile             Dosis única  2021-06-04           0.0      0.022388   \n",
       "..     ...                     ...         ...           ...           ...   \n",
       "822  Chile  Completamente vacunado  2021-09-16           0.0     45.635965   \n",
       "823  Chile  Completamente vacunado  2021-09-17           0.0     45.636473   \n",
       "824  Chile  Completamente vacunado  2021-09-18           0.0     45.636524   \n",
       "825  Chile  Completamente vacunado  2021-09-19           0.0     45.636524   \n",
       "826  Chile  Completamente vacunado  2021-09-20           0.0     45.687814   \n",
       "\n",
       "     25 a 34 años  35 a 44 años  45 a 54 años  55 a 64 años  65 a 74 años  \\\n",
       "0        0.000894      0.000970      0.000481      0.000234      0.000072   \n",
       "1        0.174434      0.086477      0.057453      0.037426      0.009013   \n",
       "2        0.610256      0.253177      0.162945      0.111997      0.023963   \n",
       "3        1.268027      0.601780      0.370682      0.243059      0.051216   \n",
       "4        1.800449      0.925906      0.569045      0.367798      0.073391   \n",
       "..            ...           ...           ...           ...           ...   \n",
       "822     75.939419     96.219782     93.229760    105.848131    128.095625   \n",
       "823     75.939696     96.220070     93.229920    105.848178    128.095625   \n",
       "824     75.939850     96.220285     93.229960    105.848225    128.095625   \n",
       "825     75.939912     96.220357     93.229960    105.848272    128.095625   \n",
       "826     76.085566     96.368223     93.319265    105.911648    128.150275   \n",
       "\n",
       "     75 años o más  \n",
       "0         0.000000  \n",
       "1         0.001353  \n",
       "2         0.002186  \n",
       "3         0.004268  \n",
       "4         0.005309  \n",
       "..             ...  \n",
       "822     165.858577  \n",
       "823     165.858577  \n",
       "824     165.858577  \n",
       "825     165.858577  \n",
       "826     165.900321  \n",
       "\n",
       "[827 rows x 11 columns]"
      ]
     },
     "execution_count": 332,
     "metadata": {},
     "output_type": "execute_result"
    }
   ],
   "source": [
    "pop_coverage_CH"
   ]
  },
  {
   "cell_type": "markdown",
   "metadata": {},
   "source": [
    "<a id = 'Sección12.2'></a>"
   ]
  },
  {
   "cell_type": "markdown",
   "metadata": {},
   "source": [
    "### 12.2. Vacunaciones por rango etario en Uruguay"
   ]
  },
  {
   "cell_type": "markdown",
   "metadata": {},
   "source": [
    "La información más reciente en relación a las vacunaciones realizadas por rango etario en Uruguay se encuentran en el \"Informe de dosis administradas y registradas del 27 de febrero al 9 de julio 2021 - COVID-19\", el cual se encuentra disponible en el sitio web del [Ministerio de Salud Pública](https://www.gub.uy/ministerio-salud-publica/comunicacion/noticias/informe-dosis-administradas-registradas-del-27-febrero-9-julio-2021-covid-19). En dicho informe se presenta el total de primeras y segundas dosis administradas, y la cobertura de la población por rango etario al 9 de julio de 2021."
   ]
  },
  {
   "cell_type": "markdown",
   "metadata": {},
   "source": [
    "<a id = 'Sección12.2.1'></a>"
   ]
  },
  {
   "cell_type": "markdown",
   "metadata": {},
   "source": [
    "#### 12.2.1. Total vacunaciones realizadas al 9 de julio por rango etario"
   ]
  },
  {
   "cell_type": "code",
   "execution_count": 333,
   "metadata": {},
   "outputs": [],
   "source": [
    "total_vacc_per_age_UY = pd.DataFrame (columns = ['Vacunación','12 a 17 años', '18 a 24 años','25 a 34 años', '35 a 44 años', '45 a 54 años', \n",
    "                                        '55 a 64 años','65 a 74 años', '75 años o más'] )"
   ]
  },
  {
   "cell_type": "code",
   "execution_count": 334,
   "metadata": {},
   "outputs": [],
   "source": [
    "total_vacc_per_age_UY.loc [0] = ['Primera dosis',163663,244422,383951,388908,363031,342184,254899,211819]"
   ]
  },
  {
   "cell_type": "code",
   "execution_count": 335,
   "metadata": {},
   "outputs": [],
   "source": [
    "total_vacc_per_age_UY.loc [1] = ['Vacunados completamente',19488,157261,322633,352072,338782,324446,223923,179706]"
   ]
  },
  {
   "cell_type": "code",
   "execution_count": 336,
   "metadata": {},
   "outputs": [
    {
     "data": {
      "text/html": [
       "<div>\n",
       "<style scoped>\n",
       "    .dataframe tbody tr th:only-of-type {\n",
       "        vertical-align: middle;\n",
       "    }\n",
       "\n",
       "    .dataframe tbody tr th {\n",
       "        vertical-align: top;\n",
       "    }\n",
       "\n",
       "    .dataframe thead th {\n",
       "        text-align: right;\n",
       "    }\n",
       "</style>\n",
       "<table border=\"1\" class=\"dataframe\">\n",
       "  <thead>\n",
       "    <tr style=\"text-align: right;\">\n",
       "      <th></th>\n",
       "      <th>Vacunación</th>\n",
       "      <th>12 a 17 años</th>\n",
       "      <th>18 a 24 años</th>\n",
       "      <th>25 a 34 años</th>\n",
       "      <th>35 a 44 años</th>\n",
       "      <th>45 a 54 años</th>\n",
       "      <th>55 a 64 años</th>\n",
       "      <th>65 a 74 años</th>\n",
       "      <th>75 años o más</th>\n",
       "    </tr>\n",
       "  </thead>\n",
       "  <tbody>\n",
       "    <tr>\n",
       "      <th>0</th>\n",
       "      <td>Primera dosis</td>\n",
       "      <td>163663</td>\n",
       "      <td>244422</td>\n",
       "      <td>383951</td>\n",
       "      <td>388908</td>\n",
       "      <td>363031</td>\n",
       "      <td>342184</td>\n",
       "      <td>254899</td>\n",
       "      <td>211819</td>\n",
       "    </tr>\n",
       "    <tr>\n",
       "      <th>1</th>\n",
       "      <td>Vacunados completamente</td>\n",
       "      <td>19488</td>\n",
       "      <td>157261</td>\n",
       "      <td>322633</td>\n",
       "      <td>352072</td>\n",
       "      <td>338782</td>\n",
       "      <td>324446</td>\n",
       "      <td>223923</td>\n",
       "      <td>179706</td>\n",
       "    </tr>\n",
       "  </tbody>\n",
       "</table>\n",
       "</div>"
      ],
      "text/plain": [
       "                Vacunación 12 a 17 años 18 a 24 años 25 a 34 años  \\\n",
       "0            Primera dosis       163663       244422       383951   \n",
       "1  Vacunados completamente        19488       157261       322633   \n",
       "\n",
       "  35 a 44 años 45 a 54 años 55 a 64 años 65 a 74 años 75 años o más  \n",
       "0       388908       363031       342184       254899        211819  \n",
       "1       352072       338782       324446       223923        179706  "
      ]
     },
     "execution_count": 336,
     "metadata": {},
     "output_type": "execute_result"
    }
   ],
   "source": [
    "total_vacc_per_age_UY"
   ]
  },
  {
   "cell_type": "markdown",
   "metadata": {},
   "source": [
    "<a id = 'Sección12.2.2'></a>"
   ]
  },
  {
   "cell_type": "markdown",
   "metadata": {},
   "source": [
    "#### 12.2.2. Cobertura de la población al 9 de julio por rango etario"
   ]
  },
  {
   "cell_type": "code",
   "execution_count": 337,
   "metadata": {},
   "outputs": [],
   "source": [
    "pop_coverage_UY = total_vacc_per_age_UY.copy()"
   ]
  },
  {
   "cell_type": "code",
   "execution_count": 338,
   "metadata": {},
   "outputs": [],
   "source": [
    "columns = ['12 a 17 años', '18 a 24 años', '25 a 34 años','35 a 44 años', '45 a 54 años', '55 a 64 años', '65 a 74 años',\n",
    "           '75 años o más']"
   ]
  },
  {
   "cell_type": "code",
   "execution_count": 339,
   "metadata": {},
   "outputs": [],
   "source": [
    "for indices, row  in pop_coverage_UY.iterrows():\n",
    "    i=0\n",
    "    for column in columns:\n",
    "        pop_coverage_UY.at[indices,column] = row [column]*100/pop_per_age_UY['Población'][i]\n",
    "        i+=1"
   ]
  },
  {
   "cell_type": "code",
   "execution_count": 340,
   "metadata": {},
   "outputs": [
    {
     "data": {
      "text/html": [
       "<div>\n",
       "<style scoped>\n",
       "    .dataframe tbody tr th:only-of-type {\n",
       "        vertical-align: middle;\n",
       "    }\n",
       "\n",
       "    .dataframe tbody tr th {\n",
       "        vertical-align: top;\n",
       "    }\n",
       "\n",
       "    .dataframe thead th {\n",
       "        text-align: right;\n",
       "    }\n",
       "</style>\n",
       "<table border=\"1\" class=\"dataframe\">\n",
       "  <thead>\n",
       "    <tr style=\"text-align: right;\">\n",
       "      <th></th>\n",
       "      <th>Vacunación</th>\n",
       "      <th>12 a 17 años</th>\n",
       "      <th>18 a 24 años</th>\n",
       "      <th>25 a 34 años</th>\n",
       "      <th>35 a 44 años</th>\n",
       "      <th>45 a 54 años</th>\n",
       "      <th>55 a 64 años</th>\n",
       "      <th>65 a 74 años</th>\n",
       "      <th>75 años o más</th>\n",
       "    </tr>\n",
       "  </thead>\n",
       "  <tbody>\n",
       "    <tr>\n",
       "      <th>0</th>\n",
       "      <td>Primera dosis</td>\n",
       "      <td>55.7536</td>\n",
       "      <td>65.6394</td>\n",
       "      <td>75.3698</td>\n",
       "      <td>81.2189</td>\n",
       "      <td>85.3516</td>\n",
       "      <td>88.9487</td>\n",
       "      <td>91.7424</td>\n",
       "      <td>89.2132</td>\n",
       "    </tr>\n",
       "    <tr>\n",
       "      <th>1</th>\n",
       "      <td>Vacunados completamente</td>\n",
       "      <td>6.6388</td>\n",
       "      <td>42.2323</td>\n",
       "      <td>63.333</td>\n",
       "      <td>73.5262</td>\n",
       "      <td>79.6504</td>\n",
       "      <td>84.3378</td>\n",
       "      <td>80.5936</td>\n",
       "      <td>75.688</td>\n",
       "    </tr>\n",
       "  </tbody>\n",
       "</table>\n",
       "</div>"
      ],
      "text/plain": [
       "                Vacunación 12 a 17 años 18 a 24 años 25 a 34 años  \\\n",
       "0            Primera dosis      55.7536      65.6394      75.3698   \n",
       "1  Vacunados completamente       6.6388      42.2323       63.333   \n",
       "\n",
       "  35 a 44 años 45 a 54 años 55 a 64 años 65 a 74 años 75 años o más  \n",
       "0      81.2189      85.3516      88.9487      91.7424       89.2132  \n",
       "1      73.5262      79.6504      84.3378      80.5936        75.688  "
      ]
     },
     "execution_count": 340,
     "metadata": {},
     "output_type": "execute_result"
    }
   ],
   "source": [
    "pop_coverage_UY"
   ]
  },
  {
   "cell_type": "markdown",
   "metadata": {},
   "source": [
    "<a id = 'Sección13'></a>"
   ]
  },
  {
   "cell_type": "markdown",
   "metadata": {},
   "source": [
    "## 13. Porcentaje de vacunaciones por fabricante"
   ]
  },
  {
   "cell_type": "markdown",
   "metadata": {},
   "source": [
    "<a id = 'Sección13.1'></a>"
   ]
  },
  {
   "cell_type": "markdown",
   "metadata": {},
   "source": [
    "### 13.1. Porcentaje de vacunaciones por fabricante en Chile"
   ]
  },
  {
   "cell_type": "markdown",
   "metadata": {},
   "source": [
    "<a id = 'Sección13.1.1'></a>"
   ]
  },
  {
   "cell_type": "markdown",
   "metadata": {},
   "source": [
    "#### 13.1.1. Vacunaciones completas"
   ]
  },
  {
   "cell_type": "code",
   "execution_count": 341,
   "metadata": {},
   "outputs": [],
   "source": [
    "vacc_by_manufacturer_fully_CH = pd.merge (vaccines_single_dose_CH, vaccines_second_dose_CH)"
   ]
  },
  {
   "cell_type": "code",
   "execution_count": 342,
   "metadata": {},
   "outputs": [],
   "source": [
    "vacc_by_manufacturer_fully_CH.set_index ('Fecha', inplace = True)"
   ]
  },
  {
   "cell_type": "code",
   "execution_count": 343,
   "metadata": {},
   "outputs": [],
   "source": [
    "vacc_by_manufacturer_fully_CH = vacc_by_manufacturer_fully_CH.sum (axis = 0)"
   ]
  },
  {
   "cell_type": "code",
   "execution_count": 344,
   "metadata": {},
   "outputs": [],
   "source": [
    "vacc_by_manufacturer_fully_CH = vacc_by_manufacturer_fully_CH.to_frame()"
   ]
  },
  {
   "cell_type": "code",
   "execution_count": 345,
   "metadata": {},
   "outputs": [],
   "source": [
    "vacc_by_manufacturer_fully_CH.reset_index (inplace = True)"
   ]
  },
  {
   "cell_type": "code",
   "execution_count": 346,
   "metadata": {},
   "outputs": [],
   "source": [
    "vacc_by_manufacturer_fully_CH.columns = ['Fabricante', 'Total']"
   ]
  },
  {
   "cell_type": "code",
   "execution_count": 347,
   "metadata": {},
   "outputs": [],
   "source": [
    "total_fully_CH = vacc_by_manufacturer_fully_CH['Total'] .sum (axis = 0)"
   ]
  },
  {
   "cell_type": "code",
   "execution_count": 348,
   "metadata": {},
   "outputs": [],
   "source": [
    "vacc_by_manufacturer_fully_CH ['Porcentaje'] = vacc_by_manufacturer_fully_CH ['Total']*100/total_fully_CH"
   ]
  },
  {
   "cell_type": "code",
   "execution_count": 349,
   "metadata": {},
   "outputs": [],
   "source": [
    "vacc_by_manufacturer_fully_CH.insert(0,'Vacunación', 'Vacunados completamente')"
   ]
  },
  {
   "cell_type": "code",
   "execution_count": 350,
   "metadata": {},
   "outputs": [],
   "source": [
    "vacc_by_manufacturer_fully_CH.insert(0,'País', 'Chile')"
   ]
  },
  {
   "cell_type": "code",
   "execution_count": 351,
   "metadata": {},
   "outputs": [
    {
     "data": {
      "text/html": [
       "<div>\n",
       "<style scoped>\n",
       "    .dataframe tbody tr th:only-of-type {\n",
       "        vertical-align: middle;\n",
       "    }\n",
       "\n",
       "    .dataframe tbody tr th {\n",
       "        vertical-align: top;\n",
       "    }\n",
       "\n",
       "    .dataframe thead th {\n",
       "        text-align: right;\n",
       "    }\n",
       "</style>\n",
       "<table border=\"1\" class=\"dataframe\">\n",
       "  <thead>\n",
       "    <tr style=\"text-align: right;\">\n",
       "      <th></th>\n",
       "      <th>País</th>\n",
       "      <th>Vacunación</th>\n",
       "      <th>Fabricante</th>\n",
       "      <th>Total</th>\n",
       "      <th>Porcentaje</th>\n",
       "    </tr>\n",
       "  </thead>\n",
       "  <tbody>\n",
       "    <tr>\n",
       "      <th>0</th>\n",
       "      <td>Chile</td>\n",
       "      <td>Vacunados completamente</td>\n",
       "      <td>CanSino</td>\n",
       "      <td>561376.0</td>\n",
       "      <td>4.003014</td>\n",
       "    </tr>\n",
       "    <tr>\n",
       "      <th>1</th>\n",
       "      <td>Chile</td>\n",
       "      <td>Vacunados completamente</td>\n",
       "      <td>AstraZeneca</td>\n",
       "      <td>109782.0</td>\n",
       "      <td>0.782824</td>\n",
       "    </tr>\n",
       "    <tr>\n",
       "      <th>2</th>\n",
       "      <td>Chile</td>\n",
       "      <td>Vacunados completamente</td>\n",
       "      <td>Pfizer</td>\n",
       "      <td>3699149.0</td>\n",
       "      <td>26.377587</td>\n",
       "    </tr>\n",
       "    <tr>\n",
       "      <th>3</th>\n",
       "      <td>Chile</td>\n",
       "      <td>Vacunados completamente</td>\n",
       "      <td>Sinovac</td>\n",
       "      <td>9653527.0</td>\n",
       "      <td>68.836575</td>\n",
       "    </tr>\n",
       "  </tbody>\n",
       "</table>\n",
       "</div>"
      ],
      "text/plain": [
       "    País               Vacunación   Fabricante      Total  Porcentaje\n",
       "0  Chile  Vacunados completamente      CanSino   561376.0    4.003014\n",
       "1  Chile  Vacunados completamente  AstraZeneca   109782.0    0.782824\n",
       "2  Chile  Vacunados completamente       Pfizer  3699149.0   26.377587\n",
       "3  Chile  Vacunados completamente      Sinovac  9653527.0   68.836575"
      ]
     },
     "execution_count": 351,
     "metadata": {},
     "output_type": "execute_result"
    }
   ],
   "source": [
    "vacc_by_manufacturer_fully_CH"
   ]
  },
  {
   "cell_type": "markdown",
   "metadata": {},
   "source": [
    "<a id = 'Sección13.1.2'></a>"
   ]
  },
  {
   "cell_type": "markdown",
   "metadata": {},
   "source": [
    "#### 13.1.2. Vacunaciones de refuerzo"
   ]
  },
  {
   "cell_type": "code",
   "execution_count": 352,
   "metadata": {},
   "outputs": [],
   "source": [
    "vacc_by_manufacturer_booster_CH = pd.DataFrame()"
   ]
  },
  {
   "cell_type": "code",
   "execution_count": 353,
   "metadata": {},
   "outputs": [],
   "source": [
    "vacc_by_manufacturer_booster_CH = booster_dose_CH.set_index ('Fecha').loc[:,['AstraZeneca','Pfizer','Sinovac']].sum(axis = 0)"
   ]
  },
  {
   "cell_type": "code",
   "execution_count": 354,
   "metadata": {},
   "outputs": [],
   "source": [
    "vacc_by_manufacturer_booster_CH = vacc_by_manufacturer_booster_CH.to_frame()"
   ]
  },
  {
   "cell_type": "code",
   "execution_count": 355,
   "metadata": {},
   "outputs": [],
   "source": [
    "vacc_by_manufacturer_booster_CH.reset_index (inplace = True)"
   ]
  },
  {
   "cell_type": "code",
   "execution_count": 356,
   "metadata": {},
   "outputs": [],
   "source": [
    "vacc_by_manufacturer_booster_CH.columns = ['Fabricante','Total']"
   ]
  },
  {
   "cell_type": "code",
   "execution_count": 357,
   "metadata": {},
   "outputs": [],
   "source": [
    "total_booster_CH = vacc_by_manufacturer_booster_CH['Total'].sum()"
   ]
  },
  {
   "cell_type": "code",
   "execution_count": 358,
   "metadata": {},
   "outputs": [
    {
     "data": {
      "text/plain": [
       "2694281.0"
      ]
     },
     "execution_count": 358,
     "metadata": {},
     "output_type": "execute_result"
    }
   ],
   "source": [
    "total_booster_CH"
   ]
  },
  {
   "cell_type": "code",
   "execution_count": 359,
   "metadata": {},
   "outputs": [],
   "source": [
    "vacc_by_manufacturer_booster_CH ['Porcentaje'] = vacc_by_manufacturer_booster_CH ['Total']*100/total_booster_CH"
   ]
  },
  {
   "cell_type": "code",
   "execution_count": 360,
   "metadata": {},
   "outputs": [],
   "source": [
    "vacc_by_manufacturer_booster_CH.insert(0,'Vacunación','Dosis de refuerzo')"
   ]
  },
  {
   "cell_type": "code",
   "execution_count": 361,
   "metadata": {},
   "outputs": [],
   "source": [
    "vacc_by_manufacturer_booster_CH.insert(0,'País','Chile')"
   ]
  },
  {
   "cell_type": "code",
   "execution_count": 362,
   "metadata": {},
   "outputs": [
    {
     "data": {
      "text/html": [
       "<div>\n",
       "<style scoped>\n",
       "    .dataframe tbody tr th:only-of-type {\n",
       "        vertical-align: middle;\n",
       "    }\n",
       "\n",
       "    .dataframe tbody tr th {\n",
       "        vertical-align: top;\n",
       "    }\n",
       "\n",
       "    .dataframe thead th {\n",
       "        text-align: right;\n",
       "    }\n",
       "</style>\n",
       "<table border=\"1\" class=\"dataframe\">\n",
       "  <thead>\n",
       "    <tr style=\"text-align: right;\">\n",
       "      <th></th>\n",
       "      <th>País</th>\n",
       "      <th>Vacunación</th>\n",
       "      <th>Fabricante</th>\n",
       "      <th>Total</th>\n",
       "      <th>Porcentaje</th>\n",
       "    </tr>\n",
       "  </thead>\n",
       "  <tbody>\n",
       "    <tr>\n",
       "      <th>0</th>\n",
       "      <td>Chile</td>\n",
       "      <td>Dosis de refuerzo</td>\n",
       "      <td>AstraZeneca</td>\n",
       "      <td>1937822.0</td>\n",
       "      <td>71.923530</td>\n",
       "    </tr>\n",
       "    <tr>\n",
       "      <th>1</th>\n",
       "      <td>Chile</td>\n",
       "      <td>Dosis de refuerzo</td>\n",
       "      <td>Pfizer</td>\n",
       "      <td>576012.0</td>\n",
       "      <td>21.379062</td>\n",
       "    </tr>\n",
       "    <tr>\n",
       "      <th>2</th>\n",
       "      <td>Chile</td>\n",
       "      <td>Dosis de refuerzo</td>\n",
       "      <td>Sinovac</td>\n",
       "      <td>180447.0</td>\n",
       "      <td>6.697408</td>\n",
       "    </tr>\n",
       "  </tbody>\n",
       "</table>\n",
       "</div>"
      ],
      "text/plain": [
       "    País         Vacunación   Fabricante      Total  Porcentaje\n",
       "0  Chile  Dosis de refuerzo  AstraZeneca  1937822.0   71.923530\n",
       "1  Chile  Dosis de refuerzo       Pfizer   576012.0   21.379062\n",
       "2  Chile  Dosis de refuerzo      Sinovac   180447.0    6.697408"
      ]
     },
     "execution_count": 362,
     "metadata": {},
     "output_type": "execute_result"
    }
   ],
   "source": [
    "vacc_by_manufacturer_booster_CH"
   ]
  },
  {
   "cell_type": "markdown",
   "metadata": {},
   "source": [
    "<a id = 'Sección13.2'></a>"
   ]
  },
  {
   "cell_type": "markdown",
   "metadata": {},
   "source": [
    "### 13.2. Porcentaje de vacunaciones por fabricante en Uruguay"
   ]
  },
  {
   "cell_type": "markdown",
   "metadata": {},
   "source": [
    "<a id = 'Sección13.2.1'></a>"
   ]
  },
  {
   "cell_type": "markdown",
   "metadata": {},
   "source": [
    "#### 13.2.1. Vacunaciones completas"
   ]
  },
  {
   "cell_type": "code",
   "execution_count": 363,
   "metadata": {},
   "outputs": [],
   "source": [
    "vacc_by_manufacturer_fully_UY = vaccination_UY.loc [:,['fully_astrazeneca','fully_pfizer','fully_coronavac']]"
   ]
  },
  {
   "cell_type": "code",
   "execution_count": 364,
   "metadata": {},
   "outputs": [],
   "source": [
    "vacc_by_manufacturer_fully_UY.rename (columns = {'fully_astrazeneca':'AstraZeneca','fully_pfizer':'Pfizer','fully_coronavac':'Sinovac'}, inplace = True)"
   ]
  },
  {
   "cell_type": "code",
   "execution_count": 365,
   "metadata": {},
   "outputs": [],
   "source": [
    "vacc_by_manufacturer_fully_UY = vacc_by_manufacturer_fully_UY.sum().to_frame()"
   ]
  },
  {
   "cell_type": "code",
   "execution_count": 366,
   "metadata": {},
   "outputs": [],
   "source": [
    "vacc_by_manufacturer_fully_UY.reset_index (inplace=True)"
   ]
  },
  {
   "cell_type": "code",
   "execution_count": 367,
   "metadata": {},
   "outputs": [],
   "source": [
    "vacc_by_manufacturer_fully_UY.columns = ['Fabricante','Total']"
   ]
  },
  {
   "cell_type": "code",
   "execution_count": 368,
   "metadata": {},
   "outputs": [],
   "source": [
    "total_fully_UY = vacc_by_manufacturer_fully_UY ['Total'].sum()"
   ]
  },
  {
   "cell_type": "code",
   "execution_count": 369,
   "metadata": {},
   "outputs": [],
   "source": [
    "vacc_by_manufacturer_fully_UY ['Porcentaje'] = vacc_by_manufacturer_fully_UY ['Total']*100/total_fully_UY"
   ]
  },
  {
   "cell_type": "code",
   "execution_count": 370,
   "metadata": {},
   "outputs": [],
   "source": [
    "vacc_by_manufacturer_fully_UY.insert(0,'Vacunación','Vacunados completamente')"
   ]
  },
  {
   "cell_type": "code",
   "execution_count": 371,
   "metadata": {},
   "outputs": [],
   "source": [
    "vacc_by_manufacturer_fully_UY.insert(0,'País','Uruguay')"
   ]
  },
  {
   "cell_type": "code",
   "execution_count": 372,
   "metadata": {},
   "outputs": [
    {
     "data": {
      "text/html": [
       "<div>\n",
       "<style scoped>\n",
       "    .dataframe tbody tr th:only-of-type {\n",
       "        vertical-align: middle;\n",
       "    }\n",
       "\n",
       "    .dataframe tbody tr th {\n",
       "        vertical-align: top;\n",
       "    }\n",
       "\n",
       "    .dataframe thead th {\n",
       "        text-align: right;\n",
       "    }\n",
       "</style>\n",
       "<table border=\"1\" class=\"dataframe\">\n",
       "  <thead>\n",
       "    <tr style=\"text-align: right;\">\n",
       "      <th></th>\n",
       "      <th>País</th>\n",
       "      <th>Vacunación</th>\n",
       "      <th>Fabricante</th>\n",
       "      <th>Total</th>\n",
       "      <th>Porcentaje</th>\n",
       "    </tr>\n",
       "  </thead>\n",
       "  <tbody>\n",
       "    <tr>\n",
       "      <th>0</th>\n",
       "      <td>Uruguay</td>\n",
       "      <td>Vacunados completamente</td>\n",
       "      <td>AstraZeneca</td>\n",
       "      <td>42103</td>\n",
       "      <td>1.644173</td>\n",
       "    </tr>\n",
       "    <tr>\n",
       "      <th>1</th>\n",
       "      <td>Uruguay</td>\n",
       "      <td>Vacunados completamente</td>\n",
       "      <td>Pfizer</td>\n",
       "      <td>914175</td>\n",
       "      <td>35.699628</td>\n",
       "    </tr>\n",
       "    <tr>\n",
       "      <th>2</th>\n",
       "      <td>Uruguay</td>\n",
       "      <td>Vacunados completamente</td>\n",
       "      <td>Sinovac</td>\n",
       "      <td>1604463</td>\n",
       "      <td>62.656200</td>\n",
       "    </tr>\n",
       "  </tbody>\n",
       "</table>\n",
       "</div>"
      ],
      "text/plain": [
       "      País               Vacunación   Fabricante    Total  Porcentaje\n",
       "0  Uruguay  Vacunados completamente  AstraZeneca    42103    1.644173\n",
       "1  Uruguay  Vacunados completamente       Pfizer   914175   35.699628\n",
       "2  Uruguay  Vacunados completamente      Sinovac  1604463   62.656200"
      ]
     },
     "execution_count": 372,
     "metadata": {},
     "output_type": "execute_result"
    }
   ],
   "source": [
    "vacc_by_manufacturer_fully_UY"
   ]
  },
  {
   "cell_type": "markdown",
   "metadata": {},
   "source": [
    "<a id = 'Sección13.2.2'></a>"
   ]
  },
  {
   "cell_type": "markdown",
   "metadata": {},
   "source": [
    "#### 13.2.2. Vacunaciones de refuerzo"
   ]
  },
  {
   "cell_type": "markdown",
   "metadata": {},
   "source": [
    "De acuerdo con el plan de vacunación para la [tercera dosis](https://www.gub.uy/ministerio-salud-publica/comunicacion/publicaciones/preguntas-frecuentes-vacunacion-covid-19/preguntas-frecuentes-13) del Ministerio de Salud Pública, todas las vacunas de refuerzo son de Pfizer."
   ]
  },
  {
   "cell_type": "code",
   "execution_count": 373,
   "metadata": {},
   "outputs": [],
   "source": [
    "vacc_by_manufacturer_booster_UY = pd.DataFrame(columns = ['Fabricante','Total','Porcentaje'])"
   ]
  },
  {
   "cell_type": "code",
   "execution_count": 374,
   "metadata": {},
   "outputs": [],
   "source": [
    "vacc_by_manufacturer_booster_UY.loc [0] = ['Pfizer', vaccination_UY['total_boosters'].max(),100.00]"
   ]
  },
  {
   "cell_type": "code",
   "execution_count": 375,
   "metadata": {},
   "outputs": [],
   "source": [
    "vacc_by_manufacturer_booster_UY.insert(0,'Vacunación','Dosis de refuerzo')"
   ]
  },
  {
   "cell_type": "code",
   "execution_count": 376,
   "metadata": {},
   "outputs": [],
   "source": [
    "vacc_by_manufacturer_booster_UY.insert(0,'País','Uruguay')"
   ]
  },
  {
   "cell_type": "code",
   "execution_count": 377,
   "metadata": {},
   "outputs": [],
   "source": [
    "vacc_by_manufacturer_booster_UY['Total'] = pd.to_numeric(vacc_by_manufacturer_booster_UY['Total'] , errors='coerce')"
   ]
  },
  {
   "cell_type": "code",
   "execution_count": 378,
   "metadata": {},
   "outputs": [
    {
     "data": {
      "text/html": [
       "<div>\n",
       "<style scoped>\n",
       "    .dataframe tbody tr th:only-of-type {\n",
       "        vertical-align: middle;\n",
       "    }\n",
       "\n",
       "    .dataframe tbody tr th {\n",
       "        vertical-align: top;\n",
       "    }\n",
       "\n",
       "    .dataframe thead th {\n",
       "        text-align: right;\n",
       "    }\n",
       "</style>\n",
       "<table border=\"1\" class=\"dataframe\">\n",
       "  <thead>\n",
       "    <tr style=\"text-align: right;\">\n",
       "      <th></th>\n",
       "      <th>País</th>\n",
       "      <th>Vacunación</th>\n",
       "      <th>Fabricante</th>\n",
       "      <th>Total</th>\n",
       "      <th>Porcentaje</th>\n",
       "    </tr>\n",
       "  </thead>\n",
       "  <tbody>\n",
       "    <tr>\n",
       "      <th>0</th>\n",
       "      <td>Uruguay</td>\n",
       "      <td>Dosis de refuerzo</td>\n",
       "      <td>Pfizer</td>\n",
       "      <td>786697</td>\n",
       "      <td>100.0</td>\n",
       "    </tr>\n",
       "  </tbody>\n",
       "</table>\n",
       "</div>"
      ],
      "text/plain": [
       "      País         Vacunación Fabricante   Total  Porcentaje\n",
       "0  Uruguay  Dosis de refuerzo     Pfizer  786697       100.0"
      ]
     },
     "execution_count": 378,
     "metadata": {},
     "output_type": "execute_result"
    }
   ],
   "source": [
    "vacc_by_manufacturer_booster_UY"
   ]
  },
  {
   "cell_type": "markdown",
   "metadata": {},
   "source": [
    "<a id = 'Sección13.3'></a>"
   ]
  },
  {
   "cell_type": "markdown",
   "metadata": {},
   "source": [
    "### 13.3. Porcentaje de vacunaciones por fabricante consolidado"
   ]
  },
  {
   "cell_type": "code",
   "execution_count": 379,
   "metadata": {},
   "outputs": [],
   "source": [
    "vacc_by_manufacturer = pd.concat ([vacc_by_manufacturer_fully_CH,vacc_by_manufacturer_booster_CH,vacc_by_manufacturer_fully_UY,vacc_by_manufacturer_booster_UY])"
   ]
  },
  {
   "cell_type": "code",
   "execution_count": 380,
   "metadata": {},
   "outputs": [],
   "source": [
    "vacc_by_manufacturer.reset_index(drop=True,inplace=True) "
   ]
  },
  {
   "cell_type": "code",
   "execution_count": 381,
   "metadata": {},
   "outputs": [
    {
     "data": {
      "text/html": [
       "<div>\n",
       "<style scoped>\n",
       "    .dataframe tbody tr th:only-of-type {\n",
       "        vertical-align: middle;\n",
       "    }\n",
       "\n",
       "    .dataframe tbody tr th {\n",
       "        vertical-align: top;\n",
       "    }\n",
       "\n",
       "    .dataframe thead th {\n",
       "        text-align: right;\n",
       "    }\n",
       "</style>\n",
       "<table border=\"1\" class=\"dataframe\">\n",
       "  <thead>\n",
       "    <tr style=\"text-align: right;\">\n",
       "      <th></th>\n",
       "      <th>País</th>\n",
       "      <th>Vacunación</th>\n",
       "      <th>Fabricante</th>\n",
       "      <th>Total</th>\n",
       "      <th>Porcentaje</th>\n",
       "    </tr>\n",
       "  </thead>\n",
       "  <tbody>\n",
       "    <tr>\n",
       "      <th>0</th>\n",
       "      <td>Chile</td>\n",
       "      <td>Vacunados completamente</td>\n",
       "      <td>CanSino</td>\n",
       "      <td>561376.0</td>\n",
       "      <td>4.003014</td>\n",
       "    </tr>\n",
       "    <tr>\n",
       "      <th>1</th>\n",
       "      <td>Chile</td>\n",
       "      <td>Vacunados completamente</td>\n",
       "      <td>AstraZeneca</td>\n",
       "      <td>109782.0</td>\n",
       "      <td>0.782824</td>\n",
       "    </tr>\n",
       "    <tr>\n",
       "      <th>2</th>\n",
       "      <td>Chile</td>\n",
       "      <td>Vacunados completamente</td>\n",
       "      <td>Pfizer</td>\n",
       "      <td>3699149.0</td>\n",
       "      <td>26.377587</td>\n",
       "    </tr>\n",
       "    <tr>\n",
       "      <th>3</th>\n",
       "      <td>Chile</td>\n",
       "      <td>Vacunados completamente</td>\n",
       "      <td>Sinovac</td>\n",
       "      <td>9653527.0</td>\n",
       "      <td>68.836575</td>\n",
       "    </tr>\n",
       "    <tr>\n",
       "      <th>4</th>\n",
       "      <td>Chile</td>\n",
       "      <td>Dosis de refuerzo</td>\n",
       "      <td>AstraZeneca</td>\n",
       "      <td>1937822.0</td>\n",
       "      <td>71.923530</td>\n",
       "    </tr>\n",
       "    <tr>\n",
       "      <th>5</th>\n",
       "      <td>Chile</td>\n",
       "      <td>Dosis de refuerzo</td>\n",
       "      <td>Pfizer</td>\n",
       "      <td>576012.0</td>\n",
       "      <td>21.379062</td>\n",
       "    </tr>\n",
       "    <tr>\n",
       "      <th>6</th>\n",
       "      <td>Chile</td>\n",
       "      <td>Dosis de refuerzo</td>\n",
       "      <td>Sinovac</td>\n",
       "      <td>180447.0</td>\n",
       "      <td>6.697408</td>\n",
       "    </tr>\n",
       "    <tr>\n",
       "      <th>7</th>\n",
       "      <td>Uruguay</td>\n",
       "      <td>Vacunados completamente</td>\n",
       "      <td>AstraZeneca</td>\n",
       "      <td>42103.0</td>\n",
       "      <td>1.644173</td>\n",
       "    </tr>\n",
       "    <tr>\n",
       "      <th>8</th>\n",
       "      <td>Uruguay</td>\n",
       "      <td>Vacunados completamente</td>\n",
       "      <td>Pfizer</td>\n",
       "      <td>914175.0</td>\n",
       "      <td>35.699628</td>\n",
       "    </tr>\n",
       "    <tr>\n",
       "      <th>9</th>\n",
       "      <td>Uruguay</td>\n",
       "      <td>Vacunados completamente</td>\n",
       "      <td>Sinovac</td>\n",
       "      <td>1604463.0</td>\n",
       "      <td>62.656200</td>\n",
       "    </tr>\n",
       "    <tr>\n",
       "      <th>10</th>\n",
       "      <td>Uruguay</td>\n",
       "      <td>Dosis de refuerzo</td>\n",
       "      <td>Pfizer</td>\n",
       "      <td>786697.0</td>\n",
       "      <td>100.000000</td>\n",
       "    </tr>\n",
       "  </tbody>\n",
       "</table>\n",
       "</div>"
      ],
      "text/plain": [
       "       País               Vacunación   Fabricante      Total  Porcentaje\n",
       "0     Chile  Vacunados completamente      CanSino   561376.0    4.003014\n",
       "1     Chile  Vacunados completamente  AstraZeneca   109782.0    0.782824\n",
       "2     Chile  Vacunados completamente       Pfizer  3699149.0   26.377587\n",
       "3     Chile  Vacunados completamente      Sinovac  9653527.0   68.836575\n",
       "4     Chile        Dosis de refuerzo  AstraZeneca  1937822.0   71.923530\n",
       "5     Chile        Dosis de refuerzo       Pfizer   576012.0   21.379062\n",
       "6     Chile        Dosis de refuerzo      Sinovac   180447.0    6.697408\n",
       "7   Uruguay  Vacunados completamente  AstraZeneca    42103.0    1.644173\n",
       "8   Uruguay  Vacunados completamente       Pfizer   914175.0   35.699628\n",
       "9   Uruguay  Vacunados completamente      Sinovac  1604463.0   62.656200\n",
       "10  Uruguay        Dosis de refuerzo       Pfizer   786697.0  100.000000"
      ]
     },
     "execution_count": 381,
     "metadata": {},
     "output_type": "execute_result"
    }
   ],
   "source": [
    "vacc_by_manufacturer"
   ]
  },
  {
   "cell_type": "markdown",
   "metadata": {},
   "source": [
    "<a id = 'Sección14'></a>"
   ]
  },
  {
   "cell_type": "markdown",
   "metadata": {},
   "source": [
    "### Exportación de los dataframes a excel"
   ]
  },
  {
   "cell_type": "code",
   "execution_count": 382,
   "metadata": {},
   "outputs": [],
   "source": [
    "stringency_index.to_excel(r\"Output tablas\\Índice de rigurosidad.xlsx\",index=False, encoding=\"utf-8\")"
   ]
  },
  {
   "cell_type": "code",
   "execution_count": 383,
   "metadata": {},
   "outputs": [],
   "source": [
    "global_data_per_million.to_excel(r\"Output tablas\\Datos globales por millón de habitantes.xlsx\",index=False, encoding=\"utf-8\")"
   ]
  },
  {
   "cell_type": "code",
   "execution_count": 384,
   "metadata": {},
   "outputs": [],
   "source": [
    "deaths_pct.to_excel(r\"Output tablas\\Porcentaje de fallecidos con respecto al total de contagiados.xlsx\",index=False, encoding=\"utf-8\")"
   ]
  },
  {
   "cell_type": "code",
   "execution_count": 385,
   "metadata": {},
   "outputs": [],
   "source": [
    "test_data.to_excel(r\"Output tablas\\Tests y positividad.xlsx\",index=False, encoding=\"utf-8\")"
   ]
  },
  {
   "cell_type": "code",
   "execution_count": 386,
   "metadata": {},
   "outputs": [],
   "source": [
    "UCI_data.to_excel(r\"Output tablas\\Hospitalizaciones.xlsx\",index=False, encoding=\"utf-8\")"
   ]
  },
  {
   "cell_type": "code",
   "execution_count": 399,
   "metadata": {},
   "outputs": [],
   "source": [
    "risk_levels.to_excel(r\"Output tablas\\Niveles de riesgo.xlsx\",index=False, encoding=\"utf-8\")"
   ]
  },
  {
   "cell_type": "code",
   "execution_count": 400,
   "metadata": {},
   "outputs": [],
   "source": [
    "regional_data_CH.to_excel(r\"Output tablas\\Datos regionales Chile.xlsx\",index=False, encoding=\"utf-8\")"
   ]
  },
  {
   "cell_type": "code",
   "execution_count": 401,
   "metadata": {},
   "outputs": [],
   "source": [
    "dep_data_UY.to_excel(r\"Output tablas\\Datos departamentales Uruguay.xlsx\",index=False, encoding=\"utf-8\")"
   ]
  },
  {
   "cell_type": "code",
   "execution_count": 402,
   "metadata": {},
   "outputs": [],
   "source": [
    "total_vaccination.to_excel(r\"Output tablas\\Total vacunaciones.xlsx\",index=False, encoding=\"utf-8\")"
   ]
  },
  {
   "cell_type": "code",
   "execution_count": 403,
   "metadata": {},
   "outputs": [],
   "source": [
    "cum_vaccination.to_excel(r\"Output tablas\\Acumulado de las vacunaciones realizadas.xlsx\",index=False, encoding=\"utf-8\")"
   ]
  },
  {
   "cell_type": "code",
   "execution_count": 404,
   "metadata": {},
   "outputs": [],
   "source": [
    "pct_cum_vacc.to_excel(r\"Output tablas\\Porcentaje de la población vacunada.xlsx\",index=False, encoding=\"utf-8\")"
   ]
  },
  {
   "cell_type": "code",
   "execution_count": 405,
   "metadata": {},
   "outputs": [],
   "source": [
    "vaccination_per_age_CH.to_excel(r\"Output tablas\\Vacunaciones por rango etario en Chile.xlsx\",index=False, encoding=\"utf-8\")"
   ]
  },
  {
   "cell_type": "code",
   "execution_count": 406,
   "metadata": {},
   "outputs": [],
   "source": [
    "cum_vacc_per_age_CH.to_excel(r\"Output tablas\\Acumulado de vacunaciones por rango etario en Chile.xlsx\",index=False, encoding=\"utf-8\")"
   ]
  },
  {
   "cell_type": "code",
   "execution_count": 407,
   "metadata": {},
   "outputs": [],
   "source": [
    "pop_coverage_CH.to_excel(r\"Output tablas\\Cobertura de la población Chile.xlsx\",index=False, encoding=\"utf-8\")"
   ]
  },
  {
   "cell_type": "code",
   "execution_count": 408,
   "metadata": {},
   "outputs": [],
   "source": [
    "total_vacc_per_age_UY.to_excel(r\"Output tablas\\Total de vacunaciones al 9 de julio por rango etario en Uruguay.xlsx\",index=False, encoding=\"utf-8\")"
   ]
  },
  {
   "cell_type": "code",
   "execution_count": 409,
   "metadata": {},
   "outputs": [],
   "source": [
    "pop_coverage_UY.to_excel(r\"Output tablas\\Cobertura de la población al 9 de julio en Uruguay.xlsx\",index=False, encoding=\"utf-8\")"
   ]
  },
  {
   "cell_type": "code",
   "execution_count": 410,
   "metadata": {},
   "outputs": [],
   "source": [
    "vacc_by_manufacturer.to_excel(r\"Output tablas\\Proporción de vacunaciones por fabricante.xlsx\",index=False, encoding=\"utf-8\")"
   ]
  },
  {
   "cell_type": "markdown",
   "metadata": {},
   "source": [
    "<a id = 'Sección15'></a>"
   ]
  },
  {
   "cell_type": "markdown",
   "metadata": {},
   "source": [
    "[Volver al inicio](#ANÁLISIS-DEL-CORONAVIRUS-EN-CHILE-Y-URUGUAY)"
   ]
  }
 ],
 "metadata": {
  "kernelspec": {
   "display_name": "Python 3",
   "language": "python",
   "name": "python3"
  },
  "language_info": {
   "codemirror_mode": {
    "name": "ipython",
    "version": 3
   },
   "file_extension": ".py",
   "mimetype": "text/x-python",
   "name": "python",
   "nbconvert_exporter": "python",
   "pygments_lexer": "ipython3",
   "version": "3.8.5"
  },
  "toc": {
   "base_numbering": 1,
   "nav_menu": {
    "height": "336px",
    "width": "202px"
   },
   "number_sections": false,
   "sideBar": true,
   "skip_h1_title": true,
   "title_cell": "Tabla de contenidos",
   "title_sidebar": "Contents",
   "toc_cell": false,
   "toc_position": {
    "height": "425.2px",
    "left": "963.8px",
    "top": "166px",
    "width": "165px"
   },
   "toc_section_display": true,
   "toc_window_display": true
  }
 },
 "nbformat": 4,
 "nbformat_minor": 4
}
